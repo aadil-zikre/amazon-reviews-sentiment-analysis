{
 "cells": [
  {
   "cell_type": "markdown",
   "id": "18dmXreMLu-O",
   "metadata": {
    "heading_collapsed": true,
    "id": "18dmXreMLu-O"
   },
   "source": [
    "# Importing and Preprocessing"
   ]
  },
  {
   "cell_type": "code",
   "execution_count": 1,
   "id": "82165c59",
   "metadata": {
    "ExecuteTime": {
     "end_time": "2023-01-26T02:14:03.418411Z",
     "start_time": "2023-01-26T02:14:03.109699Z"
    },
    "executionInfo": {
     "elapsed": 1255,
     "status": "ok",
     "timestamp": 1676857937458,
     "user": {
      "displayName": "Aadil Iliyas Zikre",
      "userId": "11139065713760395341"
     },
     "user_tz": 300
    },
    "hidden": true,
    "id": "82165c59"
   },
   "outputs": [],
   "source": [
    "import pandas as pd\n",
    "import numpy as np"
   ]
  },
  {
   "cell_type": "code",
   "execution_count": 2,
   "id": "8OE5K0Ae_2y5",
   "metadata": {
    "colab": {
     "base_uri": "https://localhost:8080/"
    },
    "executionInfo": {
     "elapsed": 22229,
     "status": "ok",
     "timestamp": 1676857959681,
     "user": {
      "displayName": "Aadil Iliyas Zikre",
      "userId": "11139065713760395341"
     },
     "user_tz": 300
    },
    "hidden": true,
    "id": "8OE5K0Ae_2y5",
    "outputId": "b0117ffe-282c-44b9-85d5-4cea7aa2ccbe"
   },
   "outputs": [
    {
     "name": "stdout",
     "output_type": "stream",
     "text": [
      "Mounted at /content/drive\n"
     ]
    }
   ],
   "source": [
    "from google.colab import drive\n",
    "drive.mount('/content/drive')"
   ]
  },
  {
   "cell_type": "code",
   "execution_count": 3,
   "id": "b048ee15",
   "metadata": {
    "ExecuteTime": {
     "end_time": "2023-01-30T22:14:35.970049Z",
     "start_time": "2023-01-30T22:14:35.627750Z"
    },
    "executionInfo": {
     "elapsed": 2978,
     "status": "ok",
     "timestamp": 1676857974138,
     "user": {
      "displayName": "Aadil Iliyas Zikre",
      "userId": "11139065713760395341"
     },
     "user_tz": 300
    },
    "hidden": true,
    "id": "b048ee15"
   },
   "outputs": [],
   "source": [
    "\"\"\" Please run appropriate command to import the file.\"\"\"\n",
    "\n",
    "# with open(\"/content/drive/MyDrive/Syracuse University/IST 664 Natural Language Processing/Assignment 1/clothing_shoes_jewelry.txt\",'r') as f:\n",
    "#   txt = f.read()\n",
    "\n",
    "with open('/drive/My Drive/Colab Notebooks/Mon_Homework1/clothing_shoes_jewelry.txt', 'r') as f:\n",
    "  txt = f.read() "
   ]
  },
  {
   "cell_type": "code",
   "execution_count": null,
   "id": "5a5782cc",
   "metadata": {
    "ExecuteTime": {
     "end_time": "2023-01-26T02:14:05.146152Z",
     "start_time": "2023-01-26T02:14:04.893930Z"
    },
    "hidden": true,
    "id": "5a5782cc"
   },
   "outputs": [],
   "source": [
    "txt_split = txt.split(\"\\n\\n\")"
   ]
  },
  {
   "cell_type": "code",
   "execution_count": null,
   "id": "ff9b5aff",
   "metadata": {
    "ExecuteTime": {
     "end_time": "2023-01-26T02:14:05.498143Z",
     "start_time": "2023-01-26T02:14:05.472813Z"
    },
    "hidden": true,
    "id": "ff9b5aff"
   },
   "outputs": [],
   "source": [
    "txt_split = txt_split[:-1]"
   ]
  },
  {
   "cell_type": "code",
   "execution_count": null,
   "id": "566ba037",
   "metadata": {
    "ExecuteTime": {
     "end_time": "2023-01-26T02:14:06.164143Z",
     "start_time": "2023-01-26T02:14:05.849854Z"
    },
    "hidden": true,
    "id": "566ba037"
   },
   "outputs": [],
   "source": [
    "txt_chunks = [tuple(t.split(\"\\n\")) for t in txt_split]"
   ]
  },
  {
   "cell_type": "code",
   "execution_count": null,
   "id": "7fcbc856",
   "metadata": {
    "ExecuteTime": {
     "end_time": "2023-01-26T02:14:07.230535Z",
     "start_time": "2023-01-26T02:14:06.352598Z"
    },
    "hidden": true,
    "id": "7fcbc856"
   },
   "outputs": [],
   "source": [
    "txt_dict = []\n",
    "for i in txt_chunks:\n",
    "    txt_dict.append(dict(tuple(t.split(\":\",maxsplit=1)) for t in i))"
   ]
  },
  {
   "cell_type": "code",
   "execution_count": null,
   "id": "63cf7c61",
   "metadata": {
    "ExecuteTime": {
     "end_time": "2023-01-26T02:14:08.085144Z",
     "start_time": "2023-01-26T02:14:07.769857Z"
    },
    "hidden": true,
    "id": "63cf7c61"
   },
   "outputs": [],
   "source": [
    "df = pd.DataFrame(txt_dict)"
   ]
  },
  {
   "cell_type": "code",
   "execution_count": null,
   "id": "04d729d8",
   "metadata": {
    "ExecuteTime": {
     "end_time": "2023-01-30T22:16:46.772483Z",
     "start_time": "2023-01-30T22:16:46.709284Z"
    },
    "colab": {
     "base_uri": "https://localhost:8080/",
     "height": 206
    },
    "executionInfo": {
     "elapsed": 10,
     "status": "ok",
     "timestamp": 1676239232547,
     "user": {
      "displayName": "Aadil Iliyas Zikre",
      "userId": "11139065713760395341"
     },
     "user_tz": 300
    },
    "hidden": true,
    "id": "04d729d8",
    "outputId": "ff6830e0-67cd-4be7-d048-19796b90708b"
   },
   "outputs": [
    {
     "data": {
      "text/html": [
       "\n",
       "  <div id=\"df-1beee019-00a9-4f7a-8c6c-5a1115c6e716\">\n",
       "    <div class=\"colab-df-container\">\n",
       "      <div>\n",
       "<style scoped>\n",
       "    .dataframe tbody tr th:only-of-type {\n",
       "        vertical-align: middle;\n",
       "    }\n",
       "\n",
       "    .dataframe tbody tr th {\n",
       "        vertical-align: top;\n",
       "    }\n",
       "\n",
       "    .dataframe thead th {\n",
       "        text-align: right;\n",
       "    }\n",
       "</style>\n",
       "<table border=\"1\" class=\"dataframe\">\n",
       "  <thead>\n",
       "    <tr style=\"text-align: right;\">\n",
       "      <th></th>\n",
       "      <th>reviewerID</th>\n",
       "      <th>asin</th>\n",
       "      <th>reviewerName</th>\n",
       "      <th>helpful</th>\n",
       "      <th>reviewText</th>\n",
       "      <th>overall</th>\n",
       "      <th>summary</th>\n",
       "      <th>unixReviewTime</th>\n",
       "      <th>reviewTime</th>\n",
       "    </tr>\n",
       "  </thead>\n",
       "  <tbody>\n",
       "    <tr>\n",
       "      <th>0</th>\n",
       "      <td>A1KLRMWW2FWPL4</td>\n",
       "      <td>0000031887</td>\n",
       "      <td>Amazon Customer \"cameramom\"</td>\n",
       "      <td>[0, 0]</td>\n",
       "      <td>This is a great tutu and at a really great pri...</td>\n",
       "      <td>5.0</td>\n",
       "      <td>Great tutu-  not cheaply made</td>\n",
       "      <td>1297468800</td>\n",
       "      <td>02 12, 2011</td>\n",
       "    </tr>\n",
       "    <tr>\n",
       "      <th>1</th>\n",
       "      <td>A2G5TCU2WDFZ65</td>\n",
       "      <td>0000031887</td>\n",
       "      <td>Amazon Customer</td>\n",
       "      <td>[0, 0]</td>\n",
       "      <td>I bought this for my 4 yr old daughter for dan...</td>\n",
       "      <td>5.0</td>\n",
       "      <td>Very Cute!!</td>\n",
       "      <td>1358553600</td>\n",
       "      <td>01 19, 2013</td>\n",
       "    </tr>\n",
       "    <tr>\n",
       "      <th>2</th>\n",
       "      <td>A1RLQXYNCMWRWN</td>\n",
       "      <td>0000031887</td>\n",
       "      <td>Carola</td>\n",
       "      <td>[0, 0]</td>\n",
       "      <td>What can I say... my daughters have it in oran...</td>\n",
       "      <td>5.0</td>\n",
       "      <td>I have buy more than one</td>\n",
       "      <td>1357257600</td>\n",
       "      <td>01 4, 2013</td>\n",
       "    </tr>\n",
       "    <tr>\n",
       "      <th>3</th>\n",
       "      <td>A8U3FAMSJVHS5</td>\n",
       "      <td>0000031887</td>\n",
       "      <td>Caromcg</td>\n",
       "      <td>[0, 0]</td>\n",
       "      <td>We bought several tutus at once, and they are ...</td>\n",
       "      <td>5.0</td>\n",
       "      <td>Adorable, Sturdy</td>\n",
       "      <td>1398556800</td>\n",
       "      <td>04 27, 2014</td>\n",
       "    </tr>\n",
       "    <tr>\n",
       "      <th>4</th>\n",
       "      <td>A3GEOILWLK86XM</td>\n",
       "      <td>0000031887</td>\n",
       "      <td>CJ</td>\n",
       "      <td>[0, 0]</td>\n",
       "      <td>Thank you Halo Heaven great product for Little...</td>\n",
       "      <td>5.0</td>\n",
       "      <td>Grammy's Angels Love it</td>\n",
       "      <td>1394841600</td>\n",
       "      <td>03 15, 2014</td>\n",
       "    </tr>\n",
       "  </tbody>\n",
       "</table>\n",
       "</div>\n",
       "      <button class=\"colab-df-convert\" onclick=\"convertToInteractive('df-1beee019-00a9-4f7a-8c6c-5a1115c6e716')\"\n",
       "              title=\"Convert this dataframe to an interactive table.\"\n",
       "              style=\"display:none;\">\n",
       "        \n",
       "  <svg xmlns=\"http://www.w3.org/2000/svg\" height=\"24px\"viewBox=\"0 0 24 24\"\n",
       "       width=\"24px\">\n",
       "    <path d=\"M0 0h24v24H0V0z\" fill=\"none\"/>\n",
       "    <path d=\"M18.56 5.44l.94 2.06.94-2.06 2.06-.94-2.06-.94-.94-2.06-.94 2.06-2.06.94zm-11 1L8.5 8.5l.94-2.06 2.06-.94-2.06-.94L8.5 2.5l-.94 2.06-2.06.94zm10 10l.94 2.06.94-2.06 2.06-.94-2.06-.94-.94-2.06-.94 2.06-2.06.94z\"/><path d=\"M17.41 7.96l-1.37-1.37c-.4-.4-.92-.59-1.43-.59-.52 0-1.04.2-1.43.59L10.3 9.45l-7.72 7.72c-.78.78-.78 2.05 0 2.83L4 21.41c.39.39.9.59 1.41.59.51 0 1.02-.2 1.41-.59l7.78-7.78 2.81-2.81c.8-.78.8-2.07 0-2.86zM5.41 20L4 18.59l7.72-7.72 1.47 1.35L5.41 20z\"/>\n",
       "  </svg>\n",
       "      </button>\n",
       "      \n",
       "  <style>\n",
       "    .colab-df-container {\n",
       "      display:flex;\n",
       "      flex-wrap:wrap;\n",
       "      gap: 12px;\n",
       "    }\n",
       "\n",
       "    .colab-df-convert {\n",
       "      background-color: #E8F0FE;\n",
       "      border: none;\n",
       "      border-radius: 50%;\n",
       "      cursor: pointer;\n",
       "      display: none;\n",
       "      fill: #1967D2;\n",
       "      height: 32px;\n",
       "      padding: 0 0 0 0;\n",
       "      width: 32px;\n",
       "    }\n",
       "\n",
       "    .colab-df-convert:hover {\n",
       "      background-color: #E2EBFA;\n",
       "      box-shadow: 0px 1px 2px rgba(60, 64, 67, 0.3), 0px 1px 3px 1px rgba(60, 64, 67, 0.15);\n",
       "      fill: #174EA6;\n",
       "    }\n",
       "\n",
       "    [theme=dark] .colab-df-convert {\n",
       "      background-color: #3B4455;\n",
       "      fill: #D2E3FC;\n",
       "    }\n",
       "\n",
       "    [theme=dark] .colab-df-convert:hover {\n",
       "      background-color: #434B5C;\n",
       "      box-shadow: 0px 1px 3px 1px rgba(0, 0, 0, 0.15);\n",
       "      filter: drop-shadow(0px 1px 2px rgba(0, 0, 0, 0.3));\n",
       "      fill: #FFFFFF;\n",
       "    }\n",
       "  </style>\n",
       "\n",
       "      <script>\n",
       "        const buttonEl =\n",
       "          document.querySelector('#df-1beee019-00a9-4f7a-8c6c-5a1115c6e716 button.colab-df-convert');\n",
       "        buttonEl.style.display =\n",
       "          google.colab.kernel.accessAllowed ? 'block' : 'none';\n",
       "\n",
       "        async function convertToInteractive(key) {\n",
       "          const element = document.querySelector('#df-1beee019-00a9-4f7a-8c6c-5a1115c6e716');\n",
       "          const dataTable =\n",
       "            await google.colab.kernel.invokeFunction('convertToInteractive',\n",
       "                                                     [key], {});\n",
       "          if (!dataTable) return;\n",
       "\n",
       "          const docLinkHtml = 'Like what you see? Visit the ' +\n",
       "            '<a target=\"_blank\" href=https://colab.research.google.com/notebooks/data_table.ipynb>data table notebook</a>'\n",
       "            + ' to learn more about interactive tables.';\n",
       "          element.innerHTML = '';\n",
       "          dataTable['output_type'] = 'display_data';\n",
       "          await google.colab.output.renderOutput(dataTable, element);\n",
       "          const docLink = document.createElement('div');\n",
       "          docLink.innerHTML = docLinkHtml;\n",
       "          element.appendChild(docLink);\n",
       "        }\n",
       "      </script>\n",
       "    </div>\n",
       "  </div>\n",
       "  "
      ],
      "text/plain": [
       "       reviewerID        asin                 reviewerName helpful  \\\n",
       "0  A1KLRMWW2FWPL4  0000031887  Amazon Customer \"cameramom\"  [0, 0]   \n",
       "1  A2G5TCU2WDFZ65  0000031887              Amazon Customer  [0, 0]   \n",
       "2  A1RLQXYNCMWRWN  0000031887                       Carola  [0, 0]   \n",
       "3   A8U3FAMSJVHS5  0000031887                      Caromcg  [0, 0]   \n",
       "4  A3GEOILWLK86XM  0000031887                           CJ  [0, 0]   \n",
       "\n",
       "                                          reviewText overall  \\\n",
       "0  This is a great tutu and at a really great pri...     5.0   \n",
       "1  I bought this for my 4 yr old daughter for dan...     5.0   \n",
       "2  What can I say... my daughters have it in oran...     5.0   \n",
       "3  We bought several tutus at once, and they are ...     5.0   \n",
       "4  Thank you Halo Heaven great product for Little...     5.0   \n",
       "\n",
       "                         summary unixReviewTime   reviewTime  \n",
       "0  Great tutu-  not cheaply made     1297468800  02 12, 2011  \n",
       "1                    Very Cute!!     1358553600  01 19, 2013  \n",
       "2       I have buy more than one     1357257600   01 4, 2013  \n",
       "3               Adorable, Sturdy     1398556800  04 27, 2014  \n",
       "4        Grammy's Angels Love it     1394841600  03 15, 2014  "
      ]
     },
     "execution_count": 142,
     "metadata": {},
     "output_type": "execute_result"
    }
   ],
   "source": [
    "df.head()"
   ]
  },
  {
   "cell_type": "code",
   "execution_count": null,
   "id": "a493ee12",
   "metadata": {
    "ExecuteTime": {
     "end_time": "2023-01-26T02:14:11.811220Z",
     "start_time": "2023-01-26T02:14:11.681867Z"
    },
    "hidden": true,
    "id": "a493ee12"
   },
   "outputs": [],
   "source": [
    "assert (df.groupby(\"reviewerID\").size()>=5).all(), \"Check Again! Minimum Reviews per user should be 5\""
   ]
  },
  {
   "cell_type": "code",
   "execution_count": null,
   "id": "00be1c12",
   "metadata": {
    "ExecuteTime": {
     "end_time": "2023-01-26T02:14:12.433454Z",
     "start_time": "2023-01-26T02:14:12.329296Z"
    },
    "hidden": true,
    "id": "00be1c12"
   },
   "outputs": [],
   "source": [
    "assert (df.groupby(\"asin\").size()>=5).all(), \"Check Again! Minimum Reviews per item should be 5\""
   ]
  },
  {
   "cell_type": "code",
   "execution_count": null,
   "id": "639cbb4d",
   "metadata": {
    "ExecuteTime": {
     "end_time": "2023-01-26T02:14:13.051031Z",
     "start_time": "2023-01-26T02:14:13.045458Z"
    },
    "colab": {
     "base_uri": "https://localhost:8080/"
    },
    "executionInfo": {
     "elapsed": 10,
     "status": "ok",
     "timestamp": 1676239233831,
     "user": {
      "displayName": "Aadil Iliyas Zikre",
      "userId": "11139065713760395341"
     },
     "user_tz": 300
    },
    "hidden": true,
    "id": "639cbb4d",
    "outputId": "59bb19b5-5258-4f61-eca0-cd3347e5c485"
   },
   "outputs": [
    {
     "data": {
      "text/plain": [
       "(278677, 9)"
      ]
     },
     "execution_count": 145,
     "metadata": {},
     "output_type": "execute_result"
    }
   ],
   "source": [
    "df.shape"
   ]
  },
  {
   "cell_type": "code",
   "execution_count": null,
   "id": "183c2408",
   "metadata": {
    "ExecuteTime": {
     "end_time": "2023-01-26T02:14:14.826161Z",
     "start_time": "2023-01-26T02:14:13.795019Z"
    },
    "hidden": true,
    "id": "183c2408"
   },
   "outputs": [],
   "source": [
    "import matplotlib\n",
    "import matplotlib.pyplot as plt\n",
    "import seaborn as sns\n",
    "sns.set_theme(style=\"darkgrid\", palette = \"crest_r\")"
   ]
  },
  {
   "cell_type": "code",
   "execution_count": null,
   "id": "d56d6172",
   "metadata": {
    "ExecuteTime": {
     "end_time": "2023-01-26T02:14:16.284065Z",
     "start_time": "2023-01-26T02:14:15.962711Z"
    },
    "colab": {
     "base_uri": "https://localhost:8080/",
     "height": 357
    },
    "executionInfo": {
     "elapsed": 3758,
     "status": "ok",
     "timestamp": 1676239237580,
     "user": {
      "displayName": "Aadil Iliyas Zikre",
      "userId": "11139065713760395341"
     },
     "user_tz": 300
    },
    "hidden": true,
    "id": "d56d6172",
    "outputId": "2f178b34-468c-489b-91eb-263ba4d912d8"
   },
   "outputs": [
    {
     "name": "stderr",
     "output_type": "stream",
     "text": [
      "/usr/local/lib/python3.8/dist-packages/seaborn/_decorators.py:36: FutureWarning: Pass the following variable as a keyword arg: x. From version 0.12, the only valid positional argument will be `data`, and passing other arguments without an explicit keyword will result in an error or misinterpretation.\n",
      "  warnings.warn(\n"
     ]
    },
    {
     "data": {
      "text/plain": [
       "<matplotlib.axes._subplots.AxesSubplot at 0x7f64f98ce910>"
      ]
     },
     "execution_count": 147,
     "metadata": {},
     "output_type": "execute_result"
    },
    {
     "data": {
      "image/png": "[encoded data removed]",
      "text/plain": [
       "<Figure size 432x288 with 1 Axes>"
      ]
     },
     "metadata": {},
     "output_type": "display_data"
    }
   ],
   "source": [
    "sns.countplot(df.overall,order=sorted(df.overall.unique()))"
   ]
  },
  {
   "cell_type": "code",
   "execution_count": null,
   "id": "956dba5c",
   "metadata": {
    "ExecuteTime": {
     "end_time": "2023-01-26T02:14:31.748958Z",
     "start_time": "2023-01-26T02:14:31.523209Z"
    },
    "hidden": true,
    "id": "956dba5c"
   },
   "outputs": [],
   "source": [
    "df.unixReviewTime = pd.to_datetime(df.unixReviewTime, unit='s')"
   ]
  },
  {
   "cell_type": "code",
   "execution_count": null,
   "id": "eafdaee2",
   "metadata": {
    "ExecuteTime": {
     "end_time": "2023-01-26T02:14:59.004065Z",
     "start_time": "2023-01-26T02:14:58.855657Z"
    },
    "colab": {
     "base_uri": "https://localhost:8080/",
     "height": 357
    },
    "executionInfo": {
     "elapsed": 719,
     "status": "ok",
     "timestamp": 1676239238471,
     "user": {
      "displayName": "Aadil Iliyas Zikre",
      "userId": "11139065713760395341"
     },
     "user_tz": 300
    },
    "hidden": true,
    "id": "eafdaee2",
    "outputId": "2f5a3f89-de41-479c-edb0-ed29844af71b"
   },
   "outputs": [
    {
     "name": "stderr",
     "output_type": "stream",
     "text": [
      "/usr/local/lib/python3.8/dist-packages/seaborn/_decorators.py:36: FutureWarning: Pass the following variable as a keyword arg: x. From version 0.12, the only valid positional argument will be `data`, and passing other arguments without an explicit keyword will result in an error or misinterpretation.\n",
      "  warnings.warn(\n"
     ]
    },
    {
     "data": {
      "text/plain": [
       "<matplotlib.axes._subplots.AxesSubplot at 0x7f654d2a00a0>"
      ]
     },
     "execution_count": 149,
     "metadata": {},
     "output_type": "execute_result"
    },
    {
     "data": {
      "image/png": "[encoded data removed]",
      "text/plain": [
       "<Figure size 432x288 with 1 Axes>"
      ]
     },
     "metadata": {},
     "output_type": "display_data"
    }
   ],
   "source": [
    "sns.countplot(df.unixReviewTime.dt.year, order = sorted(df.unixReviewTime.dt.year.unique()))"
   ]
  },
  {
   "cell_type": "code",
   "execution_count": null,
   "id": "e0314ebb",
   "metadata": {
    "ExecuteTime": {
     "end_time": "2023-01-30T14:06:15.071798Z",
     "start_time": "2023-01-30T14:06:14.992350Z"
    },
    "colab": {
     "base_uri": "https://localhost:8080/",
     "height": 206
    },
    "executionInfo": {
     "elapsed": 5,
     "status": "ok",
     "timestamp": 1676239238471,
     "user": {
      "displayName": "Aadil Iliyas Zikre",
      "userId": "11139065713760395341"
     },
     "user_tz": 300
    },
    "hidden": true,
    "id": "e0314ebb",
    "outputId": "7f62aeca-7d28-4d14-84db-b5cdbe755a65"
   },
   "outputs": [
    {
     "data": {
      "text/html": [
       "\n",
       "  <div id=\"df-d9c3b6e2-7bbc-4307-867d-52d0b948b0ff\">\n",
       "    <div class=\"colab-df-container\">\n",
       "      <div>\n",
       "<style scoped>\n",
       "    .dataframe tbody tr th:only-of-type {\n",
       "        vertical-align: middle;\n",
       "    }\n",
       "\n",
       "    .dataframe tbody tr th {\n",
       "        vertical-align: top;\n",
       "    }\n",
       "\n",
       "    .dataframe thead th {\n",
       "        text-align: right;\n",
       "    }\n",
       "</style>\n",
       "<table border=\"1\" class=\"dataframe\">\n",
       "  <thead>\n",
       "    <tr style=\"text-align: right;\">\n",
       "      <th></th>\n",
       "      <th>reviewerID</th>\n",
       "      <th>asin</th>\n",
       "      <th>reviewerName</th>\n",
       "      <th>helpful</th>\n",
       "      <th>reviewText</th>\n",
       "      <th>overall</th>\n",
       "      <th>summary</th>\n",
       "      <th>unixReviewTime</th>\n",
       "      <th>reviewTime</th>\n",
       "    </tr>\n",
       "  </thead>\n",
       "  <tbody>\n",
       "    <tr>\n",
       "      <th>0</th>\n",
       "      <td>A1KLRMWW2FWPL4</td>\n",
       "      <td>0000031887</td>\n",
       "      <td>Amazon Customer \"cameramom\"</td>\n",
       "      <td>[0, 0]</td>\n",
       "      <td>This is a great tutu and at a really great pri...</td>\n",
       "      <td>5.0</td>\n",
       "      <td>Great tutu-  not cheaply made</td>\n",
       "      <td>2011-02-12</td>\n",
       "      <td>02 12, 2011</td>\n",
       "    </tr>\n",
       "    <tr>\n",
       "      <th>1</th>\n",
       "      <td>A2G5TCU2WDFZ65</td>\n",
       "      <td>0000031887</td>\n",
       "      <td>Amazon Customer</td>\n",
       "      <td>[0, 0]</td>\n",
       "      <td>I bought this for my 4 yr old daughter for dan...</td>\n",
       "      <td>5.0</td>\n",
       "      <td>Very Cute!!</td>\n",
       "      <td>2013-01-19</td>\n",
       "      <td>01 19, 2013</td>\n",
       "    </tr>\n",
       "    <tr>\n",
       "      <th>2</th>\n",
       "      <td>A1RLQXYNCMWRWN</td>\n",
       "      <td>0000031887</td>\n",
       "      <td>Carola</td>\n",
       "      <td>[0, 0]</td>\n",
       "      <td>What can I say... my daughters have it in oran...</td>\n",
       "      <td>5.0</td>\n",
       "      <td>I have buy more than one</td>\n",
       "      <td>2013-01-04</td>\n",
       "      <td>01 4, 2013</td>\n",
       "    </tr>\n",
       "    <tr>\n",
       "      <th>3</th>\n",
       "      <td>A8U3FAMSJVHS5</td>\n",
       "      <td>0000031887</td>\n",
       "      <td>Caromcg</td>\n",
       "      <td>[0, 0]</td>\n",
       "      <td>We bought several tutus at once, and they are ...</td>\n",
       "      <td>5.0</td>\n",
       "      <td>Adorable, Sturdy</td>\n",
       "      <td>2014-04-27</td>\n",
       "      <td>04 27, 2014</td>\n",
       "    </tr>\n",
       "    <tr>\n",
       "      <th>4</th>\n",
       "      <td>A3GEOILWLK86XM</td>\n",
       "      <td>0000031887</td>\n",
       "      <td>CJ</td>\n",
       "      <td>[0, 0]</td>\n",
       "      <td>Thank you Halo Heaven great product for Little...</td>\n",
       "      <td>5.0</td>\n",
       "      <td>Grammy's Angels Love it</td>\n",
       "      <td>2014-03-15</td>\n",
       "      <td>03 15, 2014</td>\n",
       "    </tr>\n",
       "  </tbody>\n",
       "</table>\n",
       "</div>\n",
       "      <button class=\"colab-df-convert\" onclick=\"convertToInteractive('df-d9c3b6e2-7bbc-4307-867d-52d0b948b0ff')\"\n",
       "              title=\"Convert this dataframe to an interactive table.\"\n",
       "              style=\"display:none;\">\n",
       "        \n",
       "  <svg xmlns=\"http://www.w3.org/2000/svg\" height=\"24px\"viewBox=\"0 0 24 24\"\n",
       "       width=\"24px\">\n",
       "    <path d=\"M0 0h24v24H0V0z\" fill=\"none\"/>\n",
       "    <path d=\"M18.56 5.44l.94 2.06.94-2.06 2.06-.94-2.06-.94-.94-2.06-.94 2.06-2.06.94zm-11 1L8.5 8.5l.94-2.06 2.06-.94-2.06-.94L8.5 2.5l-.94 2.06-2.06.94zm10 10l.94 2.06.94-2.06 2.06-.94-2.06-.94-.94-2.06-.94 2.06-2.06.94z\"/><path d=\"M17.41 7.96l-1.37-1.37c-.4-.4-.92-.59-1.43-.59-.52 0-1.04.2-1.43.59L10.3 9.45l-7.72 7.72c-.78.78-.78 2.05 0 2.83L4 21.41c.39.39.9.59 1.41.59.51 0 1.02-.2 1.41-.59l7.78-7.78 2.81-2.81c.8-.78.8-2.07 0-2.86zM5.41 20L4 18.59l7.72-7.72 1.47 1.35L5.41 20z\"/>\n",
       "  </svg>\n",
       "      </button>\n",
       "      \n",
       "  <style>\n",
       "    .colab-df-container {\n",
       "      display:flex;\n",
       "      flex-wrap:wrap;\n",
       "      gap: 12px;\n",
       "    }\n",
       "\n",
       "    .colab-df-convert {\n",
       "      background-color: #E8F0FE;\n",
       "      border: none;\n",
       "      border-radius: 50%;\n",
       "      cursor: pointer;\n",
       "      display: none;\n",
       "      fill: #1967D2;\n",
       "      height: 32px;\n",
       "      padding: 0 0 0 0;\n",
       "      width: 32px;\n",
       "    }\n",
       "\n",
       "    .colab-df-convert:hover {\n",
       "      background-color: #E2EBFA;\n",
       "      box-shadow: 0px 1px 2px rgba(60, 64, 67, 0.3), 0px 1px 3px 1px rgba(60, 64, 67, 0.15);\n",
       "      fill: #174EA6;\n",
       "    }\n",
       "\n",
       "    [theme=dark] .colab-df-convert {\n",
       "      background-color: #3B4455;\n",
       "      fill: #D2E3FC;\n",
       "    }\n",
       "\n",
       "    [theme=dark] .colab-df-convert:hover {\n",
       "      background-color: #434B5C;\n",
       "      box-shadow: 0px 1px 3px 1px rgba(0, 0, 0, 0.15);\n",
       "      filter: drop-shadow(0px 1px 2px rgba(0, 0, 0, 0.3));\n",
       "      fill: #FFFFFF;\n",
       "    }\n",
       "  </style>\n",
       "\n",
       "      <script>\n",
       "        const buttonEl =\n",
       "          document.querySelector('#df-d9c3b6e2-7bbc-4307-867d-52d0b948b0ff button.colab-df-convert');\n",
       "        buttonEl.style.display =\n",
       "          google.colab.kernel.accessAllowed ? 'block' : 'none';\n",
       "\n",
       "        async function convertToInteractive(key) {\n",
       "          const element = document.querySelector('#df-d9c3b6e2-7bbc-4307-867d-52d0b948b0ff');\n",
       "          const dataTable =\n",
       "            await google.colab.kernel.invokeFunction('convertToInteractive',\n",
       "                                                     [key], {});\n",
       "          if (!dataTable) return;\n",
       "\n",
       "          const docLinkHtml = 'Like what you see? Visit the ' +\n",
       "            '<a target=\"_blank\" href=https://colab.research.google.com/notebooks/data_table.ipynb>data table notebook</a>'\n",
       "            + ' to learn more about interactive tables.';\n",
       "          element.innerHTML = '';\n",
       "          dataTable['output_type'] = 'display_data';\n",
       "          await google.colab.output.renderOutput(dataTable, element);\n",
       "          const docLink = document.createElement('div');\n",
       "          docLink.innerHTML = docLinkHtml;\n",
       "          element.appendChild(docLink);\n",
       "        }\n",
       "      </script>\n",
       "    </div>\n",
       "  </div>\n",
       "  "
      ],
      "text/plain": [
       "       reviewerID        asin                 reviewerName helpful  \\\n",
       "0  A1KLRMWW2FWPL4  0000031887  Amazon Customer \"cameramom\"  [0, 0]   \n",
       "1  A2G5TCU2WDFZ65  0000031887              Amazon Customer  [0, 0]   \n",
       "2  A1RLQXYNCMWRWN  0000031887                       Carola  [0, 0]   \n",
       "3   A8U3FAMSJVHS5  0000031887                      Caromcg  [0, 0]   \n",
       "4  A3GEOILWLK86XM  0000031887                           CJ  [0, 0]   \n",
       "\n",
       "                                          reviewText overall  \\\n",
       "0  This is a great tutu and at a really great pri...     5.0   \n",
       "1  I bought this for my 4 yr old daughter for dan...     5.0   \n",
       "2  What can I say... my daughters have it in oran...     5.0   \n",
       "3  We bought several tutus at once, and they are ...     5.0   \n",
       "4  Thank you Halo Heaven great product for Little...     5.0   \n",
       "\n",
       "                         summary unixReviewTime   reviewTime  \n",
       "0  Great tutu-  not cheaply made     2011-02-12  02 12, 2011  \n",
       "1                    Very Cute!!     2013-01-19  01 19, 2013  \n",
       "2       I have buy more than one     2013-01-04   01 4, 2013  \n",
       "3               Adorable, Sturdy     2014-04-27  04 27, 2014  \n",
       "4        Grammy's Angels Love it     2014-03-15  03 15, 2014  "
      ]
     },
     "execution_count": 150,
     "metadata": {},
     "output_type": "execute_result"
    }
   ],
   "source": [
    "df.head()"
   ]
  },
  {
   "cell_type": "code",
   "execution_count": null,
   "id": "vnNzjBfLx7EI",
   "metadata": {
    "hidden": true,
    "id": "vnNzjBfLx7EI"
   },
   "outputs": [],
   "source": [
    "import nltk"
   ]
  },
  {
   "cell_type": "code",
   "execution_count": null,
   "id": "eluWoRAxyFOO",
   "metadata": {
    "colab": {
     "base_uri": "https://localhost:8080/"
    },
    "executionInfo": {
     "elapsed": 223,
     "status": "ok",
     "timestamp": 1676239238691,
     "user": {
      "displayName": "Aadil Iliyas Zikre",
      "userId": "11139065713760395341"
     },
     "user_tz": 300
    },
    "hidden": true,
    "id": "eluWoRAxyFOO",
    "outputId": "56bd72f8-b8d6-44ba-a884-aa1b3c9d3ca6"
   },
   "outputs": [
    {
     "name": "stderr",
     "output_type": "stream",
     "text": [
      "[nltk_data] Downloading package averaged_perceptron_tagger to\n",
      "[nltk_data]     /root/nltk_data...\n",
      "[nltk_data]   Package averaged_perceptron_tagger is already up-to-\n",
      "[nltk_data]       date!\n"
     ]
    },
    {
     "data": {
      "text/plain": [
       "True"
      ]
     },
     "execution_count": 152,
     "metadata": {},
     "output_type": "execute_result"
    }
   ],
   "source": [
    "nltk.download('averaged_perceptron_tagger')"
   ]
  },
  {
   "cell_type": "code",
   "execution_count": null,
   "id": "VRBewaLfxa35",
   "metadata": {
    "hidden": true,
    "id": "VRBewaLfxa35"
   },
   "outputs": [],
   "source": [
    "# pos tagging, then joining.\n",
    "# df.reviewText = df.reviewText.str.lower()\n",
    "# df['reviewText_pt'] = df.reviewText.apply(lambda x: nltk.pos_tag(nltk.word_tokenize(x)), tagset = 'universal')"
   ]
  },
  {
   "cell_type": "code",
   "execution_count": null,
   "id": "8c875903",
   "metadata": {
    "hidden": true,
    "id": "8c875903"
   },
   "outputs": [],
   "source": [
    "summary_all = \" \".join(df.summary)\n",
    "reviewText_all = \" \".join(df.reviewText)"
   ]
  },
  {
   "cell_type": "code",
   "execution_count": null,
   "id": "6b0d1c9e",
   "metadata": {
    "colab": {
     "base_uri": "https://localhost:8080/"
    },
    "executionInfo": {
     "elapsed": 4,
     "status": "ok",
     "timestamp": 1676239239109,
     "user": {
      "displayName": "Aadil Iliyas Zikre",
      "userId": "11139065713760395341"
     },
     "user_tz": 300
    },
    "hidden": true,
    "id": "6b0d1c9e",
    "outputId": "5d04ac30-64c0-4875-cf68-bc961a6a2d2c"
   },
   "outputs": [
    {
     "name": "stdout",
     "output_type": "stream",
     "text": [
      "Great tutu-  not cheaply made Very Cute!! I have buy more than one Adorable, Sturdy Grammy's Angels \n",
      "This is a great tutu and at a really great price. It doesn't look cheap at all. I'm so glad I looked\n"
     ]
    }
   ],
   "source": [
    "print(summary_all[:100])\n",
    "print(reviewText_all[:100])"
   ]
  },
  {
   "cell_type": "markdown",
   "id": "nf50IajmL8ze",
   "metadata": {
    "id": "nf50IajmL8ze"
   },
   "source": [
    "# Start of Tasks"
   ]
  },
  {
   "cell_type": "markdown",
   "id": "pkeRI1lQUuCG",
   "metadata": {
    "id": "pkeRI1lQUuCG"
   },
   "source": [
    "Things to do \n",
    "1. list the top 50 words by frequency \n",
    "2. list the top 50 bigrams by frequencies, and\n",
    "3. list the top 50 bigrams by their Mutual Information scores (using min frequency 5)\n",
    "4. list the top 50 content words in the context of the word “jewelry” in the reviewTexts. Please explain how you define the context in your study\n",
    "5. list the top 50 content words in the context of the word “toy” appeared in the reviewTexts for each overall rating (e.g., overall rating: 1.0, top 50 content words are: …..; overall rating 2.0: top 50 content words are ….)\n"
   ]
  },
  {
   "cell_type": "markdown",
   "id": "2e_BPhfdMJLd",
   "metadata": {
    "heading_collapsed": true,
    "id": "2e_BPhfdMJLd"
   },
   "source": [
    "## Task 1\n",
    "Techniques Performed : Pos Tagging , Lemmatization, Tokenization "
   ]
  },
  {
   "cell_type": "code",
   "execution_count": null,
   "id": "1c7a531a",
   "metadata": {
    "colab": {
     "base_uri": "https://localhost:8080/"
    },
    "executionInfo": {
     "elapsed": 724,
     "status": "ok",
     "timestamp": 1676220738890,
     "user": {
      "displayName": "Aadil Iliyas Zikre",
      "userId": "11139065713760395341"
     },
     "user_tz": 300
    },
    "hidden": true,
    "id": "1c7a531a",
    "outputId": "3d5cd749-6cec-4f20-b110-c0c8839815f1"
   },
   "outputs": [
    {
     "name": "stderr",
     "output_type": "stream",
     "text": [
      "[nltk_data] Downloading package punkt to /root/nltk_data...\n",
      "[nltk_data]   Unzipping tokenizers/punkt.zip.\n"
     ]
    },
    {
     "data": {
      "text/plain": [
       "True"
      ]
     },
     "execution_count": 23,
     "metadata": {},
     "output_type": "execute_result"
    }
   ],
   "source": [
    "import nltk\n",
    "nltk.download('punkt')"
   ]
  },
  {
   "cell_type": "code",
   "execution_count": null,
   "id": "cfsDCWD1V_yp",
   "metadata": {
    "hidden": true,
    "id": "cfsDCWD1V_yp"
   },
   "outputs": [],
   "source": [
    "summary_tk = nltk.word_tokenize(summary_all)\n",
    "# reviewText_tk = nltk.word_tokenize(reviewText_all)"
   ]
  },
  {
   "cell_type": "code",
   "execution_count": null,
   "id": "YWVpqAKq1PeN",
   "metadata": {
    "hidden": true,
    "id": "YWVpqAKq1PeN"
   },
   "outputs": [],
   "source": [
    "summary_tk = nltk.pos_tag(summary_tk)\n",
    "# reviewText_tk = nltk.pos_tag(reviewText_tk)"
   ]
  },
  {
   "cell_type": "code",
   "execution_count": null,
   "id": "G8glvufnc4m8",
   "metadata": {
    "hidden": true,
    "id": "G8glvufnc4m8"
   },
   "outputs": [],
   "source": [
    "# reviewText_tk = []\n",
    "# for num, i in enumerate(df.reviewText.values, start = 1):\n",
    "#   if num%100000 == 0: print(f\"{num} iterations done\")\n",
    "#   reviewText_tk_tmp = nltk.word_tokenize(i)\n",
    "#   reviewText_tk.extend(reviewText_tk_tmp)"
   ]
  },
  {
   "cell_type": "code",
   "execution_count": null,
   "id": "OYUnZVdJhm0e",
   "metadata": {
    "hidden": true,
    "id": "OYUnZVdJhm0e"
   },
   "outputs": [],
   "source": [
    "# nltk.word_tokenize(\" \".join(df.iloc[0:100000].reviewText.values))"
   ]
  },
  {
   "cell_type": "code",
   "execution_count": null,
   "id": "pq98VRvuh1sZ",
   "metadata": {
    "colab": {
     "base_uri": "https://localhost:8080/"
    },
    "executionInfo": {
     "elapsed": 169,
     "status": "ok",
     "timestamp": 1676222510148,
     "user": {
      "displayName": "Aadil Iliyas Zikre",
      "userId": "11139065713760395341"
     },
     "user_tz": 300
    },
    "hidden": true,
    "id": "pq98VRvuh1sZ",
    "outputId": "c74ebcf9-caae-451e-e91f-69241a7544a5"
   },
   "outputs": [
    {
     "data": {
      "text/plain": [
       "363775"
      ]
     },
     "execution_count": 26,
     "metadata": {},
     "output_type": "execute_result"
    }
   ],
   "source": [
    "len(\" \".join(df.iloc[0:1000].reviewText.values))"
   ]
  },
  {
   "cell_type": "code",
   "execution_count": null,
   "id": "JPF8ZQfyiH2F",
   "metadata": {
    "colab": {
     "base_uri": "https://localhost:8080/"
    },
    "executionInfo": {
     "elapsed": 23,
     "status": "ok",
     "timestamp": 1675809123505,
     "user": {
      "displayName": "Aadil Iliyas Zikre",
      "userId": "11139065713760395341"
     },
     "user_tz": 300
    },
    "hidden": true,
    "id": "JPF8ZQfyiH2F",
    "outputId": "ce7ed500-57e8-4e50-ebe1-978fe26c814e"
   },
   "outputs": [
    {
     "data": {
      "text/plain": [
       "278"
      ]
     },
     "execution_count": 26,
     "metadata": {},
     "output_type": "execute_result"
    }
   ],
   "source": [
    "\n",
    "df.shape[0]//1000"
   ]
  },
  {
   "cell_type": "code",
   "execution_count": null,
   "id": "5kaRKlHZgDE5",
   "metadata": {
    "colab": {
     "base_uri": "https://localhost:8080/"
    },
    "executionInfo": {
     "elapsed": 1055267,
     "status": "ok",
     "timestamp": 1676227860958,
     "user": {
      "displayName": "Aadil Iliyas Zikre",
      "userId": "11139065713760395341"
     },
     "user_tz": 300
    },
    "hidden": true,
    "id": "5kaRKlHZgDE5",
    "outputId": "dbcc9bf9-e88e-45ba-c2ae-633dde7c6aac"
   },
   "outputs": [
    {
     "name": "stdout",
     "output_type": "stream",
     "text": [
      "0 :: 100\n",
      "100000 :: 100100\n",
      "200000 :: 200100\n"
     ]
    }
   ],
   "source": [
    "start = 0\n",
    "end = 100\n",
    "len_df_rt = df.shape[0]\n",
    "reviewText_tk = []\n",
    "# reviewText_tk_for_df = []\n",
    "while start != end :\n",
    "  if start%100000 == 0:\n",
    "    print(f\"{start} :: {end}\")\n",
    "  reviewText_tk_tmp = \" \".join(df.iloc[start:end].reviewText.values)\n",
    "  reviewText_tk_tmp = nltk.word_tokenize(reviewText_tk_tmp)\n",
    "  reviewText_tk_tmp = nltk.pos_tag(reviewText_tk_tmp)\n",
    "  reviewText_tk.extend(reviewText_tk_tmp)\n",
    "  # reviewText_tk_for_df.append(reviewText_tk_tmp)\n",
    "  start = end \n",
    "  end += 100\n",
    "  if end >= len_df_rt :\n",
    "    end = len_df_rt + 1"
   ]
  },
  {
   "cell_type": "code",
   "execution_count": null,
   "id": "PSX1WgF0jue5",
   "metadata": {
    "colab": {
     "base_uri": "https://localhost:8080/"
    },
    "executionInfo": {
     "elapsed": 131,
     "status": "ok",
     "timestamp": 1676232856281,
     "user": {
      "displayName": "Aadil Iliyas Zikre",
      "userId": "11139065713760395341"
     },
     "user_tz": 300
    },
    "hidden": true,
    "id": "PSX1WgF0jue5",
    "outputId": "4ecfcc08-9df0-4dd1-8532-eccc62820005"
   },
   "outputs": [
    {
     "data": {
      "text/plain": [
       "19230762"
      ]
     },
     "execution_count": 132,
     "metadata": {},
     "output_type": "execute_result"
    }
   ],
   "source": [
    "# Number of Tokenized words for reviewText\n",
    "len(reviewText_tk)"
   ]
  },
  {
   "cell_type": "code",
   "execution_count": null,
   "id": "2KjmNCArj-ii",
   "metadata": {
    "colab": {
     "base_uri": "https://localhost:8080/"
    },
    "executionInfo": {
     "elapsed": 1133,
     "status": "ok",
     "timestamp": 1676223527360,
     "user": {
      "displayName": "Aadil Iliyas Zikre",
      "userId": "11139065713760395341"
     },
     "user_tz": 300
    },
    "hidden": true,
    "id": "2KjmNCArj-ii",
    "outputId": "eec3767c-fbd4-40bc-fce9-62b5ef641e1e"
   },
   "outputs": [
    {
     "data": {
      "text/plain": [
       "1173737"
      ]
     },
     "execution_count": 31,
     "metadata": {},
     "output_type": "execute_result"
    }
   ],
   "source": [
    "# Number of Tokenized workds for summary\n",
    "len(summary_tk)"
   ]
  },
  {
   "cell_type": "code",
   "execution_count": null,
   "id": "Ah4DFUWpcPNY",
   "metadata": {
    "colab": {
     "base_uri": "https://localhost:8080/"
    },
    "executionInfo": {
     "elapsed": 168,
     "status": "ok",
     "timestamp": 1676232866310,
     "user": {
      "displayName": "Aadil Iliyas Zikre",
      "userId": "11139065713760395341"
     },
     "user_tz": 300
    },
    "hidden": true,
    "id": "Ah4DFUWpcPNY",
    "outputId": "6299a08c-d383-4e29-e62c-f4d25f2154d2"
   },
   "outputs": [
    {
     "data": {
      "text/plain": [
       "17058314"
      ]
     },
     "execution_count": 133,
     "metadata": {},
     "output_type": "execute_result"
    }
   ],
   "source": [
    "len(reviewText_all.split(\" \"))"
   ]
  },
  {
   "cell_type": "code",
   "execution_count": null,
   "id": "xlpRfWyecV5-",
   "metadata": {
    "colab": {
     "base_uri": "https://localhost:8080/"
    },
    "executionInfo": {
     "elapsed": 12,
     "status": "ok",
     "timestamp": 1676223527908,
     "user": {
      "displayName": "Aadil Iliyas Zikre",
      "userId": "11139065713760395341"
     },
     "user_tz": 300
    },
    "hidden": true,
    "id": "xlpRfWyecV5-",
    "outputId": "e5a16212-7ffc-4a76-b3d8-d58fc906ace5"
   },
   "outputs": [
    {
     "data": {
      "text/plain": [
       "1025593"
      ]
     },
     "execution_count": 33,
     "metadata": {},
     "output_type": "execute_result"
    }
   ],
   "source": [
    "len(summary_all.split(\" \"))"
   ]
  },
  {
   "cell_type": "code",
   "execution_count": null,
   "id": "7ER0yWJRCZjA",
   "metadata": {
    "hidden": true,
    "id": "7ER0yWJRCZjA"
   },
   "outputs": [],
   "source": [
    "from nltk.stem import WordNetLemmatizer\n",
    "\n",
    "lemmatizer = WordNetLemmatizer()"
   ]
  },
  {
   "cell_type": "code",
   "execution_count": null,
   "id": "No5aS6xC8zNf",
   "metadata": {
    "colab": {
     "base_uri": "https://localhost:8080/"
    },
    "executionInfo": {
     "elapsed": 28,
     "status": "ok",
     "timestamp": 1676223526238,
     "user": {
      "displayName": "Aadil Iliyas Zikre",
      "userId": "11139065713760395341"
     },
     "user_tz": 300
    },
    "hidden": true,
    "id": "No5aS6xC8zNf",
    "outputId": "6eda4dd3-51f6-4490-d551-1868fb020664"
   },
   "outputs": [
    {
     "data": {
      "text/plain": [
       "[('This', 'DT'),\n",
       " ('is', 'VBZ'),\n",
       " ('a', 'DT'),\n",
       " ('great', 'JJ'),\n",
       " ('tutu', 'NN'),\n",
       " ('and', 'CC'),\n",
       " ('at', 'IN'),\n",
       " ('a', 'DT'),\n",
       " ('really', 'RB'),\n",
       " ('great', 'JJ')]"
      ]
     },
     "execution_count": 29,
     "metadata": {},
     "output_type": "execute_result"
    }
   ],
   "source": [
    "reviewText_tk[:10]"
   ]
  },
  {
   "cell_type": "code",
   "execution_count": null,
   "id": "c1d29796",
   "metadata": {
    "hidden": true,
    "id": "c1d29796"
   },
   "outputs": [],
   "source": [
    "freq_summary = nltk.FreqDist(summary_tk)\n",
    "freq_reviewText = nltk.FreqDist(reviewText_tk)"
   ]
  },
  {
   "cell_type": "code",
   "execution_count": null,
   "id": "dM7FTOu6CXZL",
   "metadata": {
    "colab": {
     "base_uri": "https://localhost:8080/"
    },
    "executionInfo": {
     "elapsed": 582,
     "status": "ok",
     "timestamp": 1676223548520,
     "user": {
      "displayName": "Aadil Iliyas Zikre",
      "userId": "11139065713760395341"
     },
     "user_tz": 300
    },
    "hidden": true,
    "id": "dM7FTOu6CXZL",
    "outputId": "7e05d2e4-ff0b-46ca-f735-3793b2b1ee73"
   },
   "outputs": [
    {
     "name": "stderr",
     "output_type": "stream",
     "text": [
      "[nltk_data] Downloading package stopwords to /root/nltk_data...\n",
      "[nltk_data]   Unzipping corpora/stopwords.zip.\n",
      "[nltk_data] Downloading package words to /root/nltk_data...\n",
      "[nltk_data]   Unzipping corpora/words.zip.\n",
      "[nltk_data] Downloading package wordnet to /root/nltk_data...\n",
      "[nltk_data] Downloading package omw-1.4 to /root/nltk_data...\n"
     ]
    },
    {
     "data": {
      "text/plain": [
       "True"
      ]
     },
     "execution_count": 35,
     "metadata": {},
     "output_type": "execute_result"
    }
   ],
   "source": [
    "nltk.download('stopwords')\n",
    "nltk.download('words')\n",
    "nltk.download('wordnet')\n",
    "nltk.download('omw-1.4')"
   ]
  },
  {
   "cell_type": "code",
   "execution_count": null,
   "id": "QeXThFWEG-Y7",
   "metadata": {
    "hidden": true,
    "id": "QeXThFWEG-Y7"
   },
   "outputs": [],
   "source": [
    "stop_words = nltk.corpus.stopwords.words('english')\n",
    "all_english_words = set(nltk.corpus.words.words())"
   ]
  },
  {
   "cell_type": "code",
   "execution_count": null,
   "id": "plVWEluV9J67",
   "metadata": {
    "hidden": true,
    "id": "plVWEluV9J67"
   },
   "outputs": [],
   "source": [
    "summary_tk_nsw = [(i.lower(),j) for i,j in summary_tk]\n",
    "reviewText_tk_nsw = [(i.lower(),j) for i,j in reviewText_tk]"
   ]
  },
  {
   "cell_type": "code",
   "execution_count": null,
   "id": "6Z86Zbd0-XMd",
   "metadata": {
    "hidden": true,
    "id": "6Z86Zbd0-XMd"
   },
   "outputs": [],
   "source": [
    "summary_tk_nsw = [(lemmatizer.lemmatize(i),j) for i,j in summary_tk_nsw]\n",
    "reviewText_tk_nsw = [(lemmatizer.lemmatize(i),j) for i,j in reviewText_tk_nsw]"
   ]
  },
  {
   "cell_type": "code",
   "execution_count": null,
   "id": "1aUe8oS2HHkR",
   "metadata": {
    "hidden": true,
    "id": "1aUe8oS2HHkR"
   },
   "outputs": [],
   "source": [
    "summary_tk_nsw = [(i,j) for i,j in summary_tk_nsw if i not in stop_words and i in all_english_words]\n",
    "reviewText_tk_nsw = [(i,j) for i,j in reviewText_tk_nsw if i not in stop_words and i in all_english_words]"
   ]
  },
  {
   "cell_type": "code",
   "execution_count": null,
   "id": "NiVklX0xHn1i",
   "metadata": {
    "hidden": true,
    "id": "NiVklX0xHn1i"
   },
   "outputs": [],
   "source": [
    "freq_summary = nltk.FreqDist(summary_tk_nsw)\n",
    "freq_reviewText = nltk.FreqDist(reviewText_tk_nsw)"
   ]
  },
  {
   "cell_type": "code",
   "execution_count": null,
   "id": "RC9rkawIKOsK",
   "metadata": {
    "hidden": true,
    "id": "RC9rkawIKOsK"
   },
   "outputs": [],
   "source": [
    "summary_tk_nsw = [i for i in summary_tk_nsw if (i not in stop_words) & (len(i) > 3)]\n",
    "reviewText_tk_nsw = [i for i in reviewText_tk_nsw if (i not in stop_words) & (len(i) > 3)]"
   ]
  },
  {
   "cell_type": "code",
   "execution_count": null,
   "id": "d80f2c1e",
   "metadata": {
    "colab": {
     "base_uri": "https://localhost:8080/"
    },
    "executionInfo": {
     "elapsed": 45,
     "status": "ok",
     "timestamp": 1676223940460,
     "user": {
      "displayName": "Aadil Iliyas Zikre",
      "userId": "11139065713760395341"
     },
     "user_tz": 300
    },
    "hidden": true,
    "id": "d80f2c1e",
    "outputId": "db954952-d532-43e1-a384-ec9025bbd272"
   },
   "outputs": [
    {
     "name": "stdout",
     "output_type": "stream",
     "text": [
      "[(('great', 'NNP'), 22216), (('great', 'JJ'), 11343), (('good', 'JJ'), 11268), (('nice', 'NNP'), 10942), (('love', 'NNP'), 9192), (('comfortable', 'JJ'), 8639), (('nice', 'JJ'), 6712), (('love', 'VB'), 5401), (('cute', 'NNP'), 5378), (('small', 'JJ'), 5367), (('shoe', 'NNS'), 5313), (('perfect', 'NNP'), 4975), (('quality', 'NN'), 4948), (('price', 'NN'), 4940), (('good', 'NNP'), 4729), (('size', 'NN'), 4341), (('shoe', 'NN'), 4330), (('like', 'IN'), 4135), (('fit', 'NN'), 4041), (('beautiful', 'NNP'), 3650), (('love', 'VBP'), 3615), (('fit', 'NNP'), 3464), (('little', 'JJ'), 3133), (('watch', 'NN'), 3106), (('cute', 'NN'), 3066), (('shoe', 'NNP'), 3013), (('cute', 'JJ'), 3001), (('shirt', 'NN'), 2750), (('well', 'RB'), 2488), (('pretty', 'NNP'), 2482), (('big', 'JJ'), 2422), (('looking', 'VBG'), 2401), (('pretty', 'RB'), 2383), (('product', 'NN'), 2368), (('comfortable', 'NNP'), 2326), (('comfy', 'NNP'), 2276), (('color', 'NN'), 2274), (('bra', 'NN'), 2145), (('wa', 'VBD'), 2071), (('awesome', 'NNP'), 2060), (('best', 'JJS'), 2055), (('perfect', 'JJ'), 2029), (('pant', 'NNS'), 2014), (('really', 'RB'), 2008), (('beautiful', 'JJ'), 1969), (('super', 'NNP'), 1948), (('one', 'CD'), 1935), (('sock', 'NNS'), 1926), (('best', 'NNP'), 1875), (('dress', 'NN'), 1865)]\n"
     ]
    }
   ],
   "source": [
    "print(freq_summary.most_common(50))"
   ]
  },
  {
   "cell_type": "code",
   "execution_count": null,
   "id": "MrVKgu-yMi16",
   "metadata": {
    "colab": {
     "base_uri": "https://localhost:8080/"
    },
    "executionInfo": {
     "elapsed": 22,
     "status": "ok",
     "timestamp": 1676232771963,
     "user": {
      "displayName": "Aadil Iliyas Zikre",
      "userId": "11139065713760395341"
     },
     "user_tz": 300
    },
    "hidden": true,
    "id": "MrVKgu-yMi16",
    "outputId": "bbdbf2cc-7a74-4552-af39-57c9ea8fab11"
   },
   "outputs": [
    {
     "name": "stdout",
     "output_type": "stream",
     "text": [
      "[(':', 19390216), (' ', 19230761), ('N', 8803953), ('e', 8250836), ('t', 6804419), ('a', 5311979), ('P', 5270108), ('o', 5168333), ('i', 5109046), ('B', 4638504), ('s', 4384926), ('r', 3936165), ('n', 3810699), ('h', 3753603), ('R', 3579287), ('J', 3379512), ('V', 3204439), ('l', 3118420), ('D', 2993605), ('.', 2436620), ('d', 2426524), ('T', 2207407), ('C', 1946603), ('u', 1899389), ('c', 1713469), ('I', 1678980), ('m', 1651877), ('y', 1650887), ('w', 1494995), ('f', 1483088), ('g', 1461600), ('p', 1219864), ('b', 1216929), (',', 1155412), ('S', 775650), ('v', 756852), ('k', 722344), ('Z', 590763), (\"'\", 389611), ('O', 388036), ('$', 293570), ('G', 263869), ('M', 254782), ('W', 189707), ('z', 156413), ('!', 151459), ('x', 129729), ('j', 126088), (')', 120792), ('-', 118808)]\n"
     ]
    }
   ],
   "source": [
    "print(freq_reviewText.most_common(50))"
   ]
  },
  {
   "cell_type": "code",
   "execution_count": null,
   "id": "yCMDrS5PVjNx",
   "metadata": {
    "colab": {
     "base_uri": "https://localhost:8080/"
    },
    "executionInfo": {
     "elapsed": 139,
     "status": "ok",
     "timestamp": 1676232827806,
     "user": {
      "displayName": "Aadil Iliyas Zikre",
      "userId": "11139065713760395341"
     },
     "user_tz": 300
    },
    "hidden": true,
    "id": "yCMDrS5PVjNx",
    "outputId": "c6b7ccab-a660-4a1a-b101-0410eb829961"
   },
   "outputs": [
    {
     "data": {
      "text/plain": [
       "[(':', 19390216),\n",
       " (' ', 19230761),\n",
       " ('N', 8803953),\n",
       " ('e', 8250836),\n",
       " ('t', 6804419),\n",
       " ('a', 5311979),\n",
       " ('P', 5270108),\n",
       " ('o', 5168333),\n",
       " ('i', 5109046),\n",
       " ('B', 4638504),\n",
       " ('s', 4384926),\n",
       " ('r', 3936165),\n",
       " ('n', 3810699),\n",
       " ('h', 3753603),\n",
       " ('R', 3579287),\n",
       " ('J', 3379512),\n",
       " ('V', 3204439),\n",
       " ('l', 3118420),\n",
       " ('D', 2993605),\n",
       " ('.', 2436620),\n",
       " ('d', 2426524),\n",
       " ('T', 2207407),\n",
       " ('C', 1946603),\n",
       " ('u', 1899389),\n",
       " ('c', 1713469),\n",
       " ('I', 1678980),\n",
       " ('m', 1651877),\n",
       " ('y', 1650887),\n",
       " ('w', 1494995),\n",
       " ('f', 1483088),\n",
       " ('g', 1461600),\n",
       " ('p', 1219864),\n",
       " ('b', 1216929),\n",
       " (',', 1155412),\n",
       " ('S', 775650),\n",
       " ('v', 756852),\n",
       " ('k', 722344),\n",
       " ('Z', 590763),\n",
       " (\"'\", 389611),\n",
       " ('O', 388036),\n",
       " ('$', 293570),\n",
       " ('G', 263869),\n",
       " ('M', 254782),\n",
       " ('W', 189707),\n",
       " ('z', 156413),\n",
       " ('!', 151459),\n",
       " ('x', 129729),\n",
       " ('j', 126088),\n",
       " (')', 120792),\n",
       " ('-', 118808)]"
      ]
     },
     "execution_count": 131,
     "metadata": {},
     "output_type": "execute_result"
    }
   ],
   "source": [
    "freq_reviewText.most_common(50)"
   ]
  },
  {
   "cell_type": "code",
   "execution_count": null,
   "id": "Rbn6OIb3VkM1",
   "metadata": {
    "hidden": true,
    "id": "Rbn6OIb3VkM1"
   },
   "outputs": [],
   "source": [
    "from nltk.util import ngrams"
   ]
  },
  {
   "cell_type": "code",
   "execution_count": null,
   "id": "XqjW91uUVkQT",
   "metadata": {
    "colab": {
     "base_uri": "https://localhost:8080/"
    },
    "executionInfo": {
     "elapsed": 291,
     "status": "ok",
     "timestamp": 1675809409380,
     "user": {
      "displayName": "Aadil Iliyas Zikre",
      "userId": "11139065713760395341"
     },
     "user_tz": 300
    },
    "hidden": true,
    "id": "XqjW91uUVkQT",
    "outputId": "5093ab32-f80d-476e-93be-efc18820f5eb"
   },
   "outputs": [
    {
     "data": {
      "text/plain": [
       "[('.', 'I'), ('I', ','), (',', '!'), ('!', \"n't\"), (\"n't\", 'The')]"
      ]
     },
     "execution_count": 43,
     "metadata": {},
     "output_type": "execute_result"
    }
   ],
   "source": [
    "list(ngrams(freq_reviewText, 2))[:5]"
   ]
  },
  {
   "cell_type": "code",
   "execution_count": null,
   "id": "Gv5NjCkVVkTv",
   "metadata": {
    "colab": {
     "base_uri": "https://localhost:8080/"
    },
    "executionInfo": {
     "elapsed": 315,
     "status": "ok",
     "timestamp": 1675809409693,
     "user": {
      "displayName": "Aadil Iliyas Zikre",
      "userId": "11139065713760395341"
     },
     "user_tz": 300
    },
    "hidden": true,
    "id": "Gv5NjCkVVkTv",
    "outputId": "ae29c80e-bc30-47bc-ad5e-c451f16bedf8"
   },
   "outputs": [
    {
     "data": {
      "text/plain": [
       "[('.', 'I', ','),\n",
       " ('I', ',', '!'),\n",
       " (',', '!', \"n't\"),\n",
       " ('!', \"n't\", 'The'),\n",
       " (\"n't\", 'The', 'like')]"
      ]
     },
     "execution_count": 44,
     "metadata": {},
     "output_type": "execute_result"
    }
   ],
   "source": [
    "list(ngrams(freq_reviewText, 3))[:5]"
   ]
  },
  {
   "cell_type": "code",
   "execution_count": null,
   "id": "n1MRo4XddbpQ",
   "metadata": {
    "colab": {
     "base_uri": "https://localhost:8080/"
    },
    "executionInfo": {
     "elapsed": 19,
     "status": "ok",
     "timestamp": 1676223941437,
     "user": {
      "displayName": "Aadil Iliyas Zikre",
      "userId": "11139065713760395341"
     },
     "user_tz": 300
    },
    "hidden": true,
    "id": "n1MRo4XddbpQ",
    "outputId": "6467694d-ed9f-443a-f3f4-0f8c2e7badd6"
   },
   "outputs": [
    {
     "name": "stderr",
     "output_type": "stream",
     "text": [
      "[nltk_data] Downloading package stopwords to /root/nltk_data...\n",
      "[nltk_data]   Package stopwords is already up-to-date!\n"
     ]
    },
    {
     "data": {
      "text/plain": [
       "True"
      ]
     },
     "execution_count": 46,
     "metadata": {},
     "output_type": "execute_result"
    }
   ],
   "source": [
    "nltk.download('stopwords')"
   ]
  },
  {
   "cell_type": "markdown",
   "id": "Ra8s-5efMT7p",
   "metadata": {
    "heading_collapsed": true,
    "id": "Ra8s-5efMT7p"
   },
   "source": [
    "## Task 2\n",
    "Techniques Performed : Binary Collacations, Pos Tagging, Stop Words, Lemmatization, Tokenization "
   ]
  },
  {
   "cell_type": "code",
   "execution_count": null,
   "id": "UqRnHq-Lb13H",
   "metadata": {
    "hidden": true,
    "id": "UqRnHq-Lb13H"
   },
   "outputs": [],
   "source": [
    "from nltk.collocations import *"
   ]
  },
  {
   "cell_type": "code",
   "execution_count": null,
   "id": "vFP8a_FirIJt",
   "metadata": {
    "colab": {
     "base_uri": "https://localhost:8080/"
    },
    "executionInfo": {
     "elapsed": 7078,
     "status": "ok",
     "timestamp": 1676223948504,
     "user": {
      "displayName": "Aadil Iliyas Zikre",
      "userId": "11139065713760395341"
     },
     "user_tz": 300
    },
    "hidden": true,
    "id": "vFP8a_FirIJt",
    "outputId": "b78659a8-7b41-44a9-902d-c6d18f8add11"
   },
   "outputs": [
    {
     "name": "stdout",
     "output_type": "stream",
     "text": [
      "(('just', 'what'), 0.0007003272453709817)\n",
      "(('than', 'expected'), 0.0006074614670918613)\n",
      "(('with', 'this'), 0.00023429439474090022)\n",
      "(('very', 'pleased'), 0.00018743551579272018)\n",
      "(('larger', 'than'), 0.00018402759732376163)\n",
      "(('loved', 'them'), 0.0001669880049789689)\n",
      "(('just', 'okay'), 0.00014313257569625905)\n",
      "(('they', 'were'), 0.00014313257569625905)\n",
      "(('more', 'than'), 0.00012438902411698703)\n",
      "(('should', 'have'), 0.00012268506488250774)\n",
      "(('with', 'these'), 0.00012268506488250774)\n",
      "(('loved', 'this'), 9.968161521703755e-05)\n",
      "(('have', 'been'), 8.690192095844298e-05)\n",
      "(('loved', 'these'), 8.690192095844298e-05)\n",
      "(('very', 'very'), 8.690192095844298e-05)\n",
      "(('these', 'were'), 8.604994134120335e-05)\n",
      "(('pleased', 'with'), 8.00860840205259e-05)\n",
      "(('them', 'very'), 7.753014516880699e-05)\n",
      "(('than', 'other'), 7.156628784812953e-05)\n",
      "(('expected', 'very'), 6.730638976193133e-05)\n",
      "(('nicer', 'than'), 6.560243052745207e-05)\n",
      "(('under', 'armour'), 6.560243052745207e-05)\n",
      "(('what', 'they'), 6.560243052745207e-05)\n",
      "(('from', 'amazon'), 5.878659358953496e-05)\n",
      "(('....', 'very'), 4.771085856541968e-05)\n",
      "(('about', 'this'), 4.259898086198186e-05)\n",
      "(('liked', 'them'), 4.0895021627502585e-05)\n",
      "(('than', 'most'), 4.004304201026295e-05)\n",
      "(('these', 'very'), 3.833908277578367e-05)\n",
      "(('those', 'with'), 3.833908277578367e-05)\n",
      "(('calvin', 'klein'), 3.6635123541304395e-05)\n",
      "(('darker', 'than'), 3.4931164306825125e-05)\n",
      "(('about', 'these'), 3.407918468958549e-05)\n",
      "(('from', 'this'), 3.152324583786657e-05)\n",
      "(('than', 'what'), 3.152324583786657e-05)\n",
      "(('with', 'some'), 2.98192866033873e-05)\n",
      "(('anne', 'klein'), 2.8967306986147663e-05)\n",
      "(('okay', 'very'), 2.8967306986147663e-05)\n",
      "(('they', 'will'), 2.8967306986147663e-05)\n",
      "(('cheaper', 'than'), 2.726334775166839e-05)\n",
      "(('have', 'owned'), 2.6411368134428752e-05)\n",
      "(('that', 'they'), 2.6411368134428752e-05)\n",
      "(('then', 'expected'), 2.6411368134428752e-05)\n",
      "(('tighter', 'than'), 2.470740889994948e-05)\n",
      "(('very', 'impressed'), 2.385542928270984e-05)\n",
      "(('with', 'them'), 2.385542928270984e-05)\n",
      "(('cuter', 'than'), 2.3003449665470203e-05)\n",
      "(('liked', 'this'), 2.3003449665470203e-05)\n",
      "(('expected', 'more'), 2.2151470048230565e-05)\n",
      "(('impressed', 'with'), 2.2151470048230565e-05)\n"
     ]
    }
   ],
   "source": [
    "summary_tk_lower = [i.lower() for i,j in summary_tk]\n",
    "summary_tk_lower = [lemmatizer.lemmatize(i) for i in summary_tk_lower]\n",
    "bigram_measures = nltk.collocations.BigramAssocMeasures()\n",
    "finder = BigramCollocationFinder.from_words(summary_tk_lower)\n",
    "finder.apply_freq_filter(5)\n",
    "stop_words = nltk.corpus.stopwords.words('english')\n",
    "finder.apply_word_filter(lambda w: len(w) <= 3)\n",
    "finder.apply_word_filter(lambda w: w.lower() not in stop_words and w in all_english_words) # Removing small words of length less than 3 and common stop words\n",
    "scored = finder.score_ngrams(bigram_measures.raw_freq)\n",
    "finder.nbest(bigram_measures.raw_freq, 50)\n",
    "for bscore in scored[:50]:\n",
    "  print(bscore)"
   ]
  },
  {
   "cell_type": "code",
   "execution_count": null,
   "id": "zJPS_uXQVivg",
   "metadata": {
    "colab": {
     "base_uri": "https://localhost:8080/"
    },
    "executionInfo": {
     "elapsed": 135812,
     "status": "ok",
     "timestamp": 1676224084299,
     "user": {
      "displayName": "Aadil Iliyas Zikre",
      "userId": "11139065713760395341"
     },
     "user_tz": 300
    },
    "hidden": true,
    "id": "zJPS_uXQVivg",
    "outputId": "f36d7f25-6b6d-4f33-b1aa-74be130967db"
   },
   "outputs": [
    {
     "name": "stdout",
     "output_type": "stream",
     "text": [
      "(('they', 'were'), 0.0007787522928108621)\n",
      "(('have', 'been'), 0.00042754416075660445)\n",
      "(('that', 'they'), 0.0004093441539134019)\n",
      "(('with', 'this'), 0.0004038841518604411)\n",
      "(('they', 'have'), 0.00032583212251287806)\n",
      "(('because', 'they'), 0.0002948401108598817)\n",
      "(('more', 'than'), 0.0002328040875343369)\n",
      "(('they', 'will'), 0.0002220400834870714)\n",
      "(('with', 'these'), 0.00020321607640924472)\n",
      "(('these', 'were'), 0.00020118807564671644)\n",
      "(('pleased', 'with'), 0.0001946360731831635)\n",
      "(('with', 'them'), 0.0001916200720491471)\n",
      "(('other', 'than'), 0.0001618240608458469)\n",
      "(('very', 'pleased'), 0.00016166806078719086)\n",
      "(('should', 'have'), 0.00014539205466741254)\n",
      "(('larger', 'than'), 0.0001428960537289162)\n",
      "(('purchased', 'this'), 0.0001336920502682109)\n",
      "(('them', 'with'), 0.0001336920502682109)\n",
      "(('than', 'that'), 0.00013187204958389065)\n",
      "(('that', 'this'), 0.00012396804661198553)\n",
      "(('from', 'this'), 0.0001223560460058733)\n",
      "(('when', 'they'), 0.00011060404158711964)\n",
      "(('that', 'these'), 0.00010394803908446269)\n",
      "(('just', 'what'), 0.00010166003822417437)\n",
      "(('purchased', 'these'), 9.833203697284591e-05)\n",
      "(('about', 'this'), 9.661603632762966e-05)\n",
      "(('than', 'expected'), 8.736003284737235e-05)\n",
      "(('from', 'amazon'), 8.689203267140429e-05)\n",
      "(('loved', 'them'), 8.642403249543622e-05)\n",
      "(('have', 'purchased'), 8.522803204574005e-05)\n",
      "(('that', 'will'), 8.361603143962782e-05)\n",
      "(('them', 'again'), 8.148403063799553e-05)\n",
      "(('will', 'have'), 7.571202846772271e-05)\n",
      "(('with', 'some'), 7.477602811578657e-05)\n",
      "(('have', 'them'), 7.300802745101832e-05)\n",
      "(('they', 'arrived'), 7.040802647341795e-05)\n",
      "(('them', 'because'), 6.832802569133766e-05)\n",
      "(('than', 'what'), 6.728802530029751e-05)\n",
      "(('were', 'very'), 6.656002502656941e-05)\n",
      "(('this', 'will'), 6.219202338420079e-05)\n",
      "(('these', 'will'), 5.948802236749641e-05)\n",
      "(('they', 'just'), 5.922802226973637e-05)\n",
      "(('just', 'about'), 5.6680021311688016e-05)\n",
      "(('buying', 'more'), 5.6628021292136e-05)\n",
      "(('these', 'have'), 5.574402095975188e-05)\n",
      "(('with', 'that'), 5.569202094019987e-05)\n",
      "(('have', 'some'), 5.4860020627367754e-05)\n",
      "(('they', 'looked'), 5.480802060781575e-05)\n",
      "(('they', 'should'), 5.4704020568711736e-05)\n",
      "(('these', 'because'), 5.392402027543162e-05)\n"
     ]
    }
   ],
   "source": [
    "reviewText_tk_lower = [i.lower() for i,j in reviewText_tk]\n",
    "reviewText_tk_lower = [lemmatizer.lemmatize(i) for i in reviewText_tk_lower]\n",
    "bigram_measures = nltk.collocations.BigramAssocMeasures()\n",
    "finder = BigramCollocationFinder.from_words(reviewText_tk_lower)\n",
    "finder.apply_freq_filter(5)\n",
    "stop_words = nltk.corpus.stopwords.words('english')\n",
    "finder.apply_word_filter(lambda w: len(w) <= 3)\n",
    "finder.apply_word_filter(lambda w: w.lower() not in stop_words and w in all_english_words) # Removing small words of length less than 3 and common stop words\n",
    "scored = finder.score_ngrams(bigram_measures.raw_freq)\n",
    "finder.nbest(bigram_measures.raw_freq, 50)\n",
    "for bscore in scored[:50]:\n",
    "  print(bscore)"
   ]
  },
  {
   "cell_type": "markdown",
   "id": "JW7NFn_oMbam",
   "metadata": {
    "heading_collapsed": true,
    "id": "JW7NFn_oMbam"
   },
   "source": [
    "## Task 3\n",
    "Techniques Performed : Same as Previous Question"
   ]
  },
  {
   "cell_type": "code",
   "execution_count": null,
   "id": "OkCsWbCWfIV_",
   "metadata": {
    "colab": {
     "base_uri": "https://localhost:8080/"
    },
    "executionInfo": {
     "elapsed": 2830,
     "status": "ok",
     "timestamp": 1676224087112,
     "user": {
      "displayName": "Aadil Iliyas Zikre",
      "userId": "11139065713760395341"
     },
     "user_tz": 300
    },
    "hidden": true,
    "id": "OkCsWbCWfIV_",
    "outputId": "9200ef51-4bc1-4dcc-d11e-be89bd70da02"
   },
   "outputs": [
    {
     "name": "stdout",
     "output_type": "stream",
     "text": [
      "(('giorgio', 'brutini'), 17.840749653496356)\n",
      "(('geoffrey', 'beene'), 17.577715247662564)\n",
      "(('vicmary', 'torrealba'), 17.577715247662564)\n",
      "(('darth', 'vader'), 17.57771524766256)\n",
      "(('lindsay', 'phillips'), 17.57771524766256)\n",
      "(('lenin', 'ahuanari'), 17.355322826326116)\n",
      "(('mardi', 'gras'), 17.355322826326116)\n",
      "(('jorge', 'homs'), 17.16267774838372)\n",
      "(('stacy', 'adam'), 17.162677748383718)\n",
      "(('hugo', 'jorge'), 16.70324612974642)\n",
      "(('allen', 'edmonds'), 16.577715247662564)\n",
      "(('javier', 'varela'), 16.355322826326113)\n",
      "(('toddler/little', 'kid/big'), 16.118283629025267)\n",
      "(('enzo', 'angiolini'), 15.914750234940133)\n",
      "(('jessica', 'simpson'), 15.812180501299585)\n",
      "(('buena', 'calidad'), 15.784166125129989)\n",
      "(('carlos', 'javier'), 15.703246129746422)\n",
      "(('indiana', 'jones'), 15.510601051804027)\n",
      "(('michael', 'antonio'), 15.23984560890618)\n",
      "(('carlos', 'garcia'), 14.966280535580216)\n",
      "(('buen', 'producto'), 14.895891207688816)\n",
      "(('sperry', 'top-sider'), 14.543767915739226)\n",
      "(('vibram', 'fivefingers'), 14.462238030242625)\n",
      "(('carlos', 'varela'), 14.217819302576178)\n",
      "(('american', 'tourister'), 13.73641299368162)\n",
      "(('anne', 'klein'), 13.662363073305848)\n",
      "(('calvin', 'klein'), 13.5486527820601)\n",
      "(('multi', 'pressed'), 13.002806411605327)\n",
      "(('fitflop', 'walkstar'), 12.054153291605548)\n",
      "(('teva', 'tirra'), 11.9728531895037)\n",
      "(('under', 'armour'), 11.45021774460997)\n",
      "(('crewneck', 'sweatshirt'), 11.278507229275284)\n",
      "(('arrived', 'damaged'), 10.397806157647628)\n",
      "(('ahmed', 'from'), 10.360161383262495)\n",
      "(('from', 'dubai'), 10.360161383262495)\n",
      "(('will', 'email'), 10.22016324304448)\n",
      "(('backpack', 'jansport'), 9.828180979993299)\n",
      "(('jansport', 'backpack'), 9.828180979993299)\n",
      "(('hanes', 'tagless'), 9.772508792183537)\n",
      "(('before', 'ordering'), 9.51382995398711)\n",
      "(('been', 'using'), 9.366367693393087)\n",
      "(('processing', 'your'), 9.270514438521754)\n",
      "(('bling', 'bling'), 9.181185573596887)\n",
      "(('casio', 'g-shock'), 9.159862732776666)\n",
      "(('crocs', 'patricia'), 8.939581058036024)\n",
      "(('after', 'break-in'), 8.775522030720737)\n",
      "(('before', 'buying'), 8.724752327301616)\n",
      "(('protects', 'from'), 8.594626636899518)\n",
      "(('baggier', 'than'), 8.586665874176937)\n",
      "(('v-neck', 't-shirt'), 8.421752596669519)\n"
     ]
    }
   ],
   "source": [
    "bigram_measures = nltk.collocations.BigramAssocMeasures()\n",
    "finder = BigramCollocationFinder.from_words(summary_tk_lower)\n",
    "finder.apply_freq_filter(5)\n",
    "stop_words = nltk.corpus.stopwords.words('english')\n",
    "finder.apply_word_filter(lambda w: len(w) <= 3)\n",
    "finder.apply_word_filter(lambda w: w.lower() not in stop_words and w in all_english_words) # Removing small words of length less than 3 and common stop words\n",
    "scored = finder.score_ngrams(bigram_measures.pmi)\n",
    "finder.nbest(bigram_measures.pmi, 50)\n",
    "for bscore in scored[:50]:\n",
    "  print(bscore)"
   ]
  },
  {
   "cell_type": "code",
   "execution_count": null,
   "id": "8SHw_K23YkXa",
   "metadata": {
    "colab": {
     "base_uri": "https://localhost:8080/"
    },
    "executionInfo": {
     "elapsed": 52106,
     "status": "ok",
     "timestamp": 1676224139211,
     "user": {
      "displayName": "Aadil Iliyas Zikre",
      "userId": "11139065713760395341"
     },
     "user_tz": 300
    },
    "hidden": true,
    "id": "8SHw_K23YkXa",
    "outputId": "e698a7c4-ddb4-4d18-dd2c-d0ac559997a0"
   },
   "outputs": [
    {
     "name": "stdout",
     "output_type": "stream",
     "text": [
      "(('badgley', 'mischka'), 21.87498449850437)\n",
      "(('salvatore', 'exte'), 21.87498449850437)\n",
      "(('workflex', 'ear-flap'), 21.87498449850437)\n",
      "(('krav', 'maga'), 21.611950092670575)\n",
      "(('pepto', 'bismol'), 21.611950092670575)\n",
      "(('herman', 'munster'), 21.389557671334128)\n",
      "(('myia', 'passiello'), 21.196912593391733)\n",
      "(('birko', 'flor'), 21.19691259339173)\n",
      "(('norman', 'reedus'), 21.19691259339173)\n",
      "(('hola', 'gente'), 21.16716524999768)\n",
      "(('saudi', 'arabia'), 21.16716524999768)\n",
      "(('charlotte', 'russe'), 20.87498449850437)\n",
      "(('giorgio', 'brutini'), 20.874984498504368)\n",
      "(('fecha', 'indicada'), 20.515088553417986)\n",
      "(('caslynn', 'lizzie'), 20.51241441911966)\n",
      "(('vince', 'camuto'), 20.442025091228267)\n",
      "(('buenas', 'tardes'), 20.389557671334128)\n",
      "(('gel-noosa', 'tri-7'), 20.389557671334128)\n",
      "(('juanita', 'wilson'), 20.290021997783214)\n",
      "(('audrey', 'hepburn'), 20.04901389827942)\n",
      "(('muay', 'thai'), 20.02698759194942)\n",
      "(('darth', 'vader'), 20.0110460480804)\n",
      "(('gloria', 'vanderbilt'), 19.948985079948145)\n",
      "(('puerto', 'rico'), 19.874984498504368)\n",
      "(('tuckable', 'lengthprior'), 19.737480974754437)\n",
      "(('haute', 'couture'), 19.66441751256471)\n",
      "(('fred', 'meyer'), 19.553056403617006)\n",
      "(('bajo', 'costo'), 19.49647287525064)\n",
      "(('futuras', 'compras'), 19.36402257922699)\n",
      "(('lindsay', 'phillips'), 19.348915686836783)\n",
      "(('execelente', 'articulo'), 19.33893159826416)\n",
      "(('george', 'costanza'), 19.24271628300486)\n",
      "(('mardi', 'gras'), 19.242716283004853)\n",
      "(('estas', 'sandalias'), 19.15251847403328)\n",
      "(('pronta', 'entrega'), 19.15251847403328)\n",
      "(('choo', 'choo'), 19.11796125199691)\n",
      "(('jeffrey', 'campbell'), 19.100988173393198)\n",
      "(('mv515', 'prada'), 19.067629576446766)\n",
      "(('prada', 'tessuto'), 19.067629576446766)\n",
      "(('enzo', 'angiolini'), 19.03937131640525)\n",
      "(('thnx', 'givioniasmith'), 19.021273940755023)\n",
      "(('scoopneck', 'rusched'), 19.012488022254303)\n",
      "(('eddie', 'bauer'), 19.004267515449335)\n",
      "(('sobre', 'todo'), 18.982593472590967)\n",
      "(('tibetan', 'buddhist'), 18.933878187557937)\n",
      "(('geoffrey', 'beene'), 18.911510374529485)\n",
      "(('muchas', 'gracias'), 18.911510374529485)\n",
      "(('toda', 'ocasion'), 18.829341832948657)\n",
      "(('andrew', 'christian'), 18.80459517061297)\n",
      "(('climalite', '2-pack'), 18.685950674114352)\n"
     ]
    }
   ],
   "source": [
    "# reviewText_tk_lower = [i.lower() for i in reviewText_tk]\n",
    "bigram_measures = nltk.collocations.BigramAssocMeasures()\n",
    "finder = BigramCollocationFinder.from_words(reviewText_tk_lower)\n",
    "finder.apply_freq_filter(5)\n",
    "stop_words = nltk.corpus.stopwords.words('english')\n",
    "finder.apply_word_filter(lambda w: len(w) <= 3)\n",
    "finder.apply_word_filter(lambda w: w.lower() not in stop_words and w in all_english_words) # Removing small words of length less than 3 and common stop words\n",
    "scored = finder.score_ngrams(bigram_measures.pmi)\n",
    "finder.nbest(bigram_measures.pmi, 50)\n",
    "for bscore in scored[:50]:\n",
    "  print(bscore)"
   ]
  },
  {
   "cell_type": "markdown",
   "id": "I9zbd5F2Mfz-",
   "metadata": {
    "heading_collapsed": true,
    "id": "I9zbd5F2Mfz-"
   },
   "source": [
    "## Task 4\n",
    "Techniques Performed : All in previous questions, additionally, pattern extraction with Regex and content words extraction based on pos tags"
   ]
  },
  {
   "cell_type": "code",
   "execution_count": null,
   "id": "ywXtGEXQVkdZ",
   "metadata": {
    "hidden": true,
    "id": "ywXtGEXQVkdZ"
   },
   "outputs": [],
   "source": [
    "import re"
   ]
  },
  {
   "cell_type": "code",
   "execution_count": null,
   "id": "bvJGXaa0VkaU",
   "metadata": {
    "colab": {
     "base_uri": "https://localhost:8080/"
    },
    "executionInfo": {
     "elapsed": 24,
     "status": "ok",
     "timestamp": 1676224139212,
     "user": {
      "displayName": "Aadil Iliyas Zikre",
      "userId": "11139065713760395341"
     },
     "user_tz": 300
    },
    "hidden": true,
    "id": "bvJGXaa0VkaU",
    "outputId": "e7fb8727-78c9-41e8-bc01-9a2745c9b987"
   },
   "outputs": [
    {
     "data": {
      "text/plain": [
       "['her:GN jewelry:EW was:NN lost:XX and:FF the:FF jewelry:QQ']"
      ]
     },
     "execution_count": 53,
     "metadata": {},
     "output_type": "execute_result"
    }
   ],
   "source": [
    "pat = r\"(?:^|\\w+:\\w+\\s){1,5}jewelry:\\w+(?:\\s\\w+:\\w+|$){1,5}\"\n",
    "word = \"her:GN jewelry:EW was:NN lost:XX and:FF the:FF jewelry:QQ was:EE never:RR seen:XX again:RT\"\n",
    "re.findall(pat,word)"
   ]
  },
  {
   "cell_type": "code",
   "execution_count": null,
   "id": "aoxJZ2FbVkgc",
   "metadata": {
    "colab": {
     "base_uri": "https://localhost:8080/"
    },
    "executionInfo": {
     "elapsed": 1368,
     "status": "ok",
     "timestamp": 1676228450122,
     "user": {
      "displayName": "Aadil Iliyas Zikre",
      "userId": "11139065713760395341"
     },
     "user_tz": 300
    },
    "hidden": true,
    "id": "aoxJZ2FbVkgc",
    "outputId": "61036f83-1732-4b18-a1cb-29c23e26784d"
   },
   "outputs": [
    {
     "data": {
      "text/plain": [
       "59.95304599949045"
      ]
     },
     "execution_count": 75,
     "metadata": {},
     "output_type": "execute_result"
    }
   ],
   "source": [
    "sum(df.reviewText.apply(lambda x: len(x.split())))/df.shape[0]"
   ]
  },
  {
   "cell_type": "code",
   "execution_count": null,
   "id": "s23NUTLaVkjj",
   "metadata": {
    "hidden": true,
    "id": "s23NUTLaVkjj"
   },
   "outputs": [],
   "source": [
    "# We have a good enough average on the reviewText, so we can take anywhere betwen \n",
    "# 2-20 words context. For the sake of simplicity, I will take a context of 5 words on each side"
   ]
  },
  {
   "cell_type": "code",
   "execution_count": null,
   "id": "-vpOzh-UNPyd",
   "metadata": {
    "hidden": true,
    "id": "-vpOzh-UNPyd"
   },
   "outputs": [],
   "source": [
    "reviewText_tk_nsw = \" \".join([\":\".join([i.lower(),j]) for i,j in reviewText_tk])"
   ]
  },
  {
   "cell_type": "code",
   "execution_count": null,
   "id": "iSQlp9kFVkmm",
   "metadata": {
    "hidden": true,
    "id": "iSQlp9kFVkmm"
   },
   "outputs": [],
   "source": [
    "jewelry_words = re.findall(pat,reviewText_tk_nsw)"
   ]
  },
  {
   "cell_type": "code",
   "execution_count": null,
   "id": "BtHzg9GfVkpV",
   "metadata": {
    "colab": {
     "base_uri": "https://localhost:8080/"
    },
    "executionInfo": {
     "elapsed": 33,
     "status": "ok",
     "timestamp": 1676226100211,
     "user": {
      "displayName": "Aadil Iliyas Zikre",
      "userId": "11139065713760395341"
     },
     "user_tz": 300
    },
    "hidden": true,
    "id": "BtHzg9GfVkpV",
    "outputId": "524bc206-bd0b-4d1e-9378-cc71eb9bd5c9"
   },
   "outputs": [
    {
     "data": {
      "text/plain": [
       "2670"
      ]
     },
     "execution_count": 57,
     "metadata": {},
     "output_type": "execute_result"
    }
   ],
   "source": [
    "len(jewelry_words)"
   ]
  },
  {
   "cell_type": "code",
   "execution_count": null,
   "id": "SFwh0tYpVksx",
   "metadata": {
    "hidden": true,
    "id": "SFwh0tYpVksx"
   },
   "outputs": [],
   "source": [
    "jewelry_words = \" \".join(jewelry_words)"
   ]
  },
  {
   "cell_type": "code",
   "execution_count": null,
   "id": "IVIaT6FrOeql",
   "metadata": {
    "hidden": true,
    "id": "IVIaT6FrOeql"
   },
   "outputs": [],
   "source": [
    "jewelry_words = jewelry_words.split(\" \")"
   ]
  },
  {
   "cell_type": "code",
   "execution_count": null,
   "id": "77ykFRtZOmBL",
   "metadata": {
    "hidden": true,
    "id": "77ykFRtZOmBL"
   },
   "outputs": [],
   "source": [
    "jewelry_words = [i.split(\":\") for i in jewelry_words]"
   ]
  },
  {
   "cell_type": "code",
   "execution_count": null,
   "id": "HszhCneqVkv2",
   "metadata": {
    "hidden": true,
    "id": "HszhCneqVkv2"
   },
   "outputs": [],
   "source": [
    "# jewelry_words_tk = nltk.word_tokenize(jewelry_words)"
   ]
  },
  {
   "cell_type": "code",
   "execution_count": null,
   "id": "M63OrEB0O1Yp",
   "metadata": {
    "hidden": true,
    "id": "M63OrEB0O1Yp"
   },
   "outputs": [],
   "source": [
    "jewelry_words = [(lemmatizer.lemmatize(i),j) for i,j in jewelry_words]"
   ]
  },
  {
   "cell_type": "code",
   "execution_count": null,
   "id": "57ATZDug13D6",
   "metadata": {
    "hidden": true,
    "id": "57ATZDug13D6"
   },
   "outputs": [],
   "source": [
    "stop_words_j = stop_words.copy()\n",
    "stop_words_j.append(\"jewelry\")"
   ]
  },
  {
   "cell_type": "code",
   "execution_count": null,
   "id": "O1gTBIljUtjj",
   "metadata": {
    "hidden": true,
    "id": "O1gTBIljUtjj"
   },
   "outputs": [],
   "source": [
    "closed_words_tags = \"NN, NNS, NNP, NNPS, RB, RBR, RBS, VB, VBD, VBG, VBN, VBP, VBZ, JJ, JJR, JJS, UH\".split(\", \")"
   ]
  },
  {
   "cell_type": "code",
   "execution_count": null,
   "id": "rqmx971JVkza",
   "metadata": {
    "hidden": true,
    "id": "rqmx971JVkza"
   },
   "outputs": [],
   "source": [
    "jewelry_words_tk = [i for i,j in jewelry_words if (i not in stop_words_j) & (len(i) > 3) & (i in all_english_words) and (j in closed_words_tags)]"
   ]
  },
  {
   "cell_type": "code",
   "execution_count": null,
   "id": "L7-wTKWxRN7X",
   "metadata": {
    "colab": {
     "base_uri": "https://localhost:8080/"
    },
    "executionInfo": {
     "elapsed": 208,
     "status": "ok",
     "timestamp": 1676226100577,
     "user": {
      "displayName": "Aadil Iliyas Zikre",
      "userId": "11139065713760395341"
     },
     "user_tz": 300
    },
    "hidden": true,
    "id": "L7-wTKWxRN7X",
    "outputId": "f0a73591-5e76-4ef1-bb1e-0c7cf140ea22"
   },
   "outputs": [
    {
     "name": "stderr",
     "output_type": "stream",
     "text": [
      "[nltk_data] Downloading package tagsets to /root/nltk_data...\n",
      "[nltk_data]   Unzipping help/tagsets.zip.\n"
     ]
    },
    {
     "data": {
      "text/plain": [
       "True"
      ]
     },
     "execution_count": 65,
     "metadata": {},
     "output_type": "execute_result"
    }
   ],
   "source": [
    "nltk.download('tagsets')"
   ]
  },
  {
   "cell_type": "code",
   "execution_count": null,
   "id": "jxIDSCDaTZYo",
   "metadata": {
    "hidden": true,
    "id": "jxIDSCDaTZYo"
   },
   "outputs": [],
   "source": [
    "# Nouns, Verbs, Adjectives, Adverbs, Interjections\n",
    "# x = \"NN, NNS, NNP, NNPS, RB, RBR, RBS, VB, VBD, VBG, VBN, VBP, VBZ, JJ, JJR, JJS, UH\"\n",
    "# Closed Classes taken from chapter 8 of nltk book by stanford \n",
    "# List of possible tags :: https://www.ling.upenn.edu/courses/Fall_2003/ling001/penn_treebank_pos.html"
   ]
  },
  {
   "cell_type": "code",
   "execution_count": null,
   "id": "Jd4prZeoVk2e",
   "metadata": {
    "hidden": true,
    "id": "Jd4prZeoVk2e"
   },
   "outputs": [],
   "source": [
    "freq_dist_j_context = nltk.FreqDist(jewelry_words_tk)"
   ]
  },
  {
   "cell_type": "code",
   "execution_count": null,
   "id": "apFqHEg6Vk55",
   "metadata": {
    "colab": {
     "base_uri": "https://localhost:8080/"
    },
    "executionInfo": {
     "elapsed": 6,
     "status": "ok",
     "timestamp": 1676226100577,
     "user": {
      "displayName": "Aadil Iliyas Zikre",
      "userId": "11139065713760395341"
     },
     "user_tz": 300
    },
    "hidden": true,
    "id": "apFqHEg6Vk55",
    "outputId": "ca931ebb-cd41-4158-84a9-5bf749d07eaf"
   },
   "outputs": [
    {
     "name": "stdout",
     "output_type": "stream",
     "text": [
      "[('piece', 354), ('store', 181), ('costume', 132), ('silver', 115), ('wear', 114), ('nice', 104), ('great', 100), ('love', 98), ('cleaner', 98), ('look', 94), ('good', 63), ('quality', 61), ('really', 61), ('collection', 57), ('price', 57), ('like', 56), ('little', 54), ('bought', 53), ('looking', 50), ('gold', 49), ('make', 47), ('ring', 47), ('well', 46), ('cheap', 42), ('much', 39), ('watch', 39), ('made', 37), ('work', 37), ('come', 37), ('beautiful', 35), ('pretty', 35), ('fine', 34), ('item', 33), ('small', 32), ('time', 31), ('earring', 30), ('cute', 30), ('cleaning', 29), ('know', 29), ('perfect', 29), ('find', 29), ('purchase', 28), ('best', 28), ('case', 27), ('wearing', 27), ('sterling', 27), ('expensive', 27), ('clean', 26), ('better', 26), ('always', 24)]\n"
     ]
    }
   ],
   "source": [
    "print(freq_dist_j_context.most_common(50))"
   ]
  },
  {
   "cell_type": "markdown",
   "id": "5ypljFL_Mnj-",
   "metadata": {
    "heading_collapsed": true,
    "id": "5ypljFL_Mnj-"
   },
   "source": [
    "## Task 5\n",
    "Techniques Performed : Same as Question 4"
   ]
  },
  {
   "cell_type": "code",
   "execution_count": null,
   "id": "uif_XubJVlBA",
   "metadata": {
    "hidden": true,
    "id": "uif_XubJVlBA"
   },
   "outputs": [],
   "source": [
    "df.overall = df.overall.astype(float)\n",
    "df.overall = df.overall.astype(int)"
   ]
  },
  {
   "cell_type": "code",
   "execution_count": null,
   "id": "VWeWZuVwBeHj",
   "metadata": {
    "hidden": true,
    "id": "VWeWZuVwBeHj"
   },
   "outputs": [],
   "source": [
    "df_r1 = df.loc[df.overall == 1]\n",
    "df_r2 = df.loc[df.overall == 2]\n",
    "df_r3 = df.loc[df.overall == 3]\n",
    "df_r4 = df.loc[df.overall == 4]\n",
    "df_r5 = df.loc[df.overall == 5]"
   ]
  },
  {
   "cell_type": "code",
   "execution_count": null,
   "id": "9feCDQmXBwL6",
   "metadata": {
    "hidden": true,
    "id": "9feCDQmXBwL6"
   },
   "outputs": [],
   "source": [
    "def tokenize_in_increments(df):\n",
    "  start = 0\n",
    "  end = 100\n",
    "  len_df_rt = df.shape[0]\n",
    "  reviewText_tk = []\n",
    "  while start != end :\n",
    "    if start%100000 == 0:\n",
    "      print(f\"{start} :: {end}\")\n",
    "    reviewText_tk_tmp = \" \".join(df.iloc[start:end].reviewText.values)\n",
    "    reviewText_tk_tmp = reviewText_tk_tmp.lower()\n",
    "    reviewText_tk_tmp = nltk.word_tokenize(reviewText_tk_tmp)\n",
    "    reviewText_tk_tmp = nltk.pos_tag(reviewText_tk_tmp)\n",
    "    reviewText_tk.extend(reviewText_tk_tmp)\n",
    "    start = end \n",
    "    end += 100\n",
    "    if end >= len_df_rt :\n",
    "      end = len_df_rt + 1\n",
    "  return reviewText_tk"
   ]
  },
  {
   "cell_type": "code",
   "execution_count": null,
   "id": "MJ9ThYW3CWxS",
   "metadata": {
    "colab": {
     "base_uri": "https://localhost:8080/"
    },
    "executionInfo": {
     "elapsed": 1077196,
     "status": "ok",
     "timestamp": 1676230418960,
     "user": {
      "displayName": "Aadil Iliyas Zikre",
      "userId": "11139065713760395341"
     },
     "user_tz": 300
    },
    "hidden": true,
    "id": "MJ9ThYW3CWxS",
    "outputId": "d62a42ff-5889-4e21-89ec-42d50c494ff2"
   },
   "outputs": [
    {
     "name": "stdout",
     "output_type": "stream",
     "text": [
      "0 :: 100\n",
      "0 :: 100\n",
      "0 :: 100\n",
      "0 :: 100\n",
      "0 :: 100\n",
      "100000 :: 100100\n"
     ]
    }
   ],
   "source": [
    "reviewText_r1 = tokenize_in_increments(df_r1)\n",
    "reviewText_r2 = tokenize_in_increments(df_r2)\n",
    "reviewText_r3 = tokenize_in_increments(df_r3)\n",
    "reviewText_r4 = tokenize_in_increments(df_r4)\n",
    "reviewText_r5 = tokenize_in_increments(df_r5)"
   ]
  },
  {
   "cell_type": "code",
   "execution_count": null,
   "id": "HFohyd39CxBh",
   "metadata": {
    "colab": {
     "base_uri": "https://localhost:8080/"
    },
    "executionInfo": {
     "elapsed": 366,
     "status": "ok",
     "timestamp": 1676229246104,
     "user": {
      "displayName": "Aadil Iliyas Zikre",
      "userId": "11139065713760395341"
     },
     "user_tz": 300
    },
    "hidden": true,
    "id": "HFohyd39CxBh",
    "outputId": "b78c93bd-b685-4867-c0d0-969797bc6904"
   },
   "outputs": [
    {
     "data": {
      "text/plain": [
       "730726"
      ]
     },
     "execution_count": 101,
     "metadata": {},
     "output_type": "execute_result"
    }
   ],
   "source": [
    "# len(\" \".join(df.loc[df.overall == 1,\"reviewText\"]).lower().split(\" \"))"
   ]
  },
  {
   "cell_type": "code",
   "execution_count": null,
   "id": "6lxy-4keVk9Z",
   "metadata": {
    "hidden": true,
    "id": "6lxy-4keVk9Z"
   },
   "outputs": [],
   "source": [
    "# reviewText_r1 = \" \".join(df.loc[df.overall == 1,\"reviewText\"]).lower()\n",
    "# reviewText_r2 = \" \".join(df.loc[df.overall == 2,\"reviewText\"]).lower()\n",
    "# reviewText_r3 = \" \".join(df.loc[df.overall == 3,\"reviewText\"]).lower()\n",
    "# reviewText_r4 = \" \".join(df.loc[df.overall == 4,\"reviewText\"]).lower()\n",
    "# reviewText_r5 = \" \".join(df.loc[df.overall == 5,\"reviewText\"]).lower()\n"
   ]
  },
  {
   "cell_type": "code",
   "execution_count": null,
   "id": "OpaQzGwZIP-j",
   "metadata": {
    "colab": {
     "base_uri": "https://localhost:8080/"
    },
    "executionInfo": {
     "elapsed": 167,
     "status": "ok",
     "timestamp": 1676230612227,
     "user": {
      "displayName": "Aadil Iliyas Zikre",
      "userId": "11139065713760395341"
     },
     "user_tz": 300
    },
    "hidden": true,
    "id": "OpaQzGwZIP-j",
    "outputId": "95d09226-a60c-4025-b8f7-da3cd5d48b2d"
   },
   "outputs": [
    {
     "data": {
      "text/plain": [
       "[('never', 'RB'), ('got', 'VBD'), ('this', 'DT')]"
      ]
     },
     "execution_count": 107,
     "metadata": {},
     "output_type": "execute_result"
    }
   ],
   "source": [
    "reviewText_r1[:3]"
   ]
  },
  {
   "cell_type": "code",
   "execution_count": null,
   "id": "yvqUxUPSVlHc",
   "metadata": {
    "colab": {
     "base_uri": "https://localhost:8080/"
    },
    "executionInfo": {
     "elapsed": 139,
     "status": "ok",
     "timestamp": 1676230748964,
     "user": {
      "displayName": "Aadil Iliyas Zikre",
      "userId": "11139065713760395341"
     },
     "user_tz": 300
    },
    "hidden": true,
    "id": "yvqUxUPSVlHc",
    "outputId": "b054fc54-e67c-4edd-8111-9b3aa0d4226c"
   },
   "outputs": [
    {
     "data": {
      "text/plain": [
       "[]"
      ]
     },
     "execution_count": 110,
     "metadata": {},
     "output_type": "execute_result"
    }
   ],
   "source": [
    "pat_toy = r\"(?:^|\\w+:\\w+\\s){1,5}toy:\\w+(?:\\s\\w+:\\w+|$){1,5}\"\n",
    "word = \"her toy was lost and the toy was never seen again\"\n",
    "re.findall(pat_toy,word)"
   ]
  },
  {
   "cell_type": "code",
   "execution_count": null,
   "id": "bwQ2mHdU5Jtt",
   "metadata": {
    "colab": {
     "base_uri": "https://localhost:8080/"
    },
    "executionInfo": {
     "elapsed": 130,
     "status": "ok",
     "timestamp": 1676230648114,
     "user": {
      "displayName": "Aadil Iliyas Zikre",
      "userId": "11139065713760395341"
     },
     "user_tz": 300
    },
    "hidden": true,
    "id": "bwQ2mHdU5Jtt",
    "outputId": "47de02f6-646a-4ef7-f138-7664a4e2773c"
   },
   "outputs": [
    {
     "name": "stdout",
     "output_type": "stream",
     "text": [
      "824050\n",
      "1169999\n",
      "2257034\n",
      "4360179\n",
      "10610771\n"
     ]
    }
   ],
   "source": [
    "# len (summary_all) 5931636\n",
    "print(len(reviewText_r1)) \n",
    "print(len(reviewText_r2))\n",
    "print(len(reviewText_r3))\n",
    "print(len(reviewText_r4))\n",
    "print(len(reviewText_r5))\n"
   ]
  },
  {
   "cell_type": "code",
   "execution_count": null,
   "id": "EYFI0iqIdxLy",
   "metadata": {
    "hidden": true,
    "id": "EYFI0iqIdxLy"
   },
   "outputs": [],
   "source": [
    "# reviewText_r1 = nltk.word_tokenize(reviewText_r1)\n",
    "# reviewText_r2 = nltk.word_tokenize(reviewText_r2)\n",
    "# reviewText_r3 = nltk.word_tokenize(reviewText_r3)\n",
    "# reviewText_r4 = nltk.word_tokenize(reviewText_r4)\n",
    "# reviewText_r5 = nltk.word_tokenize(reviewText_r5)"
   ]
  },
  {
   "cell_type": "code",
   "execution_count": null,
   "id": "HyawLibVdkql",
   "metadata": {
    "hidden": true,
    "id": "HyawLibVdkql"
   },
   "outputs": [],
   "source": [
    "# reviewText_r1 = nltk.pos_tag(reviewText_r1)\n",
    "# reviewText_r2 = nltk.pos_tag(reviewText_r2)\n",
    "# reviewText_r3 = nltk.pos_tag(reviewText_r3)\n",
    "# reviewText_r4 = nltk.pos_tag(reviewText_r4)\n",
    "# reviewText_r5 = nltk.pos_tag(reviewText_r5)"
   ]
  },
  {
   "cell_type": "code",
   "execution_count": null,
   "id": "U1gWfp22H7MB",
   "metadata": {
    "hidden": true,
    "id": "U1gWfp22H7MB"
   },
   "outputs": [],
   "source": [
    "reviewText_r1_nsw = \" \".join([\":\".join([i.lower(),j]) for i,j in reviewText_r1])\n",
    "reviewText_r2_nsw = \" \".join([\":\".join([i.lower(),j]) for i,j in reviewText_r2])\n",
    "reviewText_r3_nsw = \" \".join([\":\".join([i.lower(),j]) for i,j in reviewText_r3])\n",
    "reviewText_r4_nsw = \" \".join([\":\".join([i.lower(),j]) for i,j in reviewText_r4])\n",
    "reviewText_r5_nsw = \" \".join([\":\".join([i.lower(),j]) for i,j in reviewText_r5])"
   ]
  },
  {
   "cell_type": "code",
   "execution_count": null,
   "id": "jFsOo8zo4BJ0",
   "metadata": {
    "hidden": true,
    "id": "jFsOo8zo4BJ0"
   },
   "outputs": [],
   "source": [
    "toy_words_r1 = re.findall(pat_toy,reviewText_r1_nsw)\n",
    "toy_words_r2 = re.findall(pat_toy,reviewText_r2_nsw)\n",
    "toy_words_r3 = re.findall(pat_toy,reviewText_r3_nsw)\n",
    "toy_words_r4 = re.findall(pat_toy,reviewText_r4_nsw)\n",
    "toy_words_r5 = re.findall(pat_toy,reviewText_r5_nsw)"
   ]
  },
  {
   "cell_type": "code",
   "execution_count": null,
   "id": "S_fx2oIA41CK",
   "metadata": {
    "hidden": true,
    "id": "S_fx2oIA41CK"
   },
   "outputs": [],
   "source": [
    "toy_words_r1 = \" \".join(toy_words_r1)\n",
    "toy_words_r2 = \" \".join(toy_words_r2)\n",
    "toy_words_r3 = \" \".join(toy_words_r3)\n",
    "toy_words_r4 = \" \".join(toy_words_r4)\n",
    "toy_words_r5 = \" \".join(toy_words_r5)"
   ]
  },
  {
   "cell_type": "code",
   "execution_count": null,
   "id": "6cwqenGkJlgt",
   "metadata": {
    "hidden": true,
    "id": "6cwqenGkJlgt"
   },
   "outputs": [],
   "source": [
    "toy_words_r1 = toy_words_r1.split(\" \")\n",
    "toy_words_r2 = toy_words_r2.split(\" \")\n",
    "toy_words_r3 = toy_words_r3.split(\" \")\n",
    "toy_words_r4 = toy_words_r4.split(\" \")\n",
    "toy_words_r5 = toy_words_r5.split(\" \")"
   ]
  },
  {
   "cell_type": "code",
   "execution_count": null,
   "id": "Wl_sI4t1J2bv",
   "metadata": {
    "hidden": true,
    "id": "Wl_sI4t1J2bv"
   },
   "outputs": [],
   "source": [
    "toy_words_r1 = [i.split(\":\") for i in toy_words_r1]\n",
    "toy_words_r2 = [i.split(\":\") for i in toy_words_r2]\n",
    "toy_words_r3 = [i.split(\":\") for i in toy_words_r3]\n",
    "toy_words_r4 = [i.split(\":\") for i in toy_words_r4]\n",
    "toy_words_r5 = [i.split(\":\") for i in toy_words_r5]"
   ]
  },
  {
   "cell_type": "code",
   "execution_count": null,
   "id": "YzOcMehGKJbR",
   "metadata": {
    "hidden": true,
    "id": "YzOcMehGKJbR"
   },
   "outputs": [],
   "source": [
    "toy_words_r1 = [(lemmatizer.lemmatize(i),j) for i,j in toy_words_r1]\n",
    "toy_words_r2 = [(lemmatizer.lemmatize(i),j) for i,j in toy_words_r2]\n",
    "toy_words_r3 = [(lemmatizer.lemmatize(i),j) for i,j in toy_words_r3]\n",
    "toy_words_r4 = [(lemmatizer.lemmatize(i),j) for i,j in toy_words_r4]\n",
    "toy_words_r5 = [(lemmatizer.lemmatize(i),j) for i,j in toy_words_r5]"
   ]
  },
  {
   "cell_type": "code",
   "execution_count": null,
   "id": "_TI9-f_FKXDz",
   "metadata": {
    "hidden": true,
    "id": "_TI9-f_FKXDz"
   },
   "outputs": [],
   "source": [
    "stop_words_t = stop_words.copy()\n",
    "stop_words_t.append(\"toy\")"
   ]
  },
  {
   "cell_type": "code",
   "execution_count": null,
   "id": "2_9iIx8BKk9s",
   "metadata": {
    "hidden": true,
    "id": "2_9iIx8BKk9s"
   },
   "outputs": [],
   "source": [
    "toy_words_r1_tk = [i for i,j in toy_words_r1 if (i not in stop_words_t) & (len(i) > 3) & (i in all_english_words) and (j in closed_words_tags)]\n",
    "toy_words_r2_tk = [i for i,j in toy_words_r2 if (i not in stop_words_t) & (len(i) > 3) & (i in all_english_words) and (j in closed_words_tags)]\n",
    "toy_words_r3_tk = [i for i,j in toy_words_r3 if (i not in stop_words_t) & (len(i) > 3) & (i in all_english_words) and (j in closed_words_tags)]\n",
    "toy_words_r4_tk = [i for i,j in toy_words_r4 if (i not in stop_words_t) & (len(i) > 3) & (i in all_english_words) and (j in closed_words_tags)]\n",
    "toy_words_r5_tk = [i for i,j in toy_words_r5 if (i not in stop_words_t) & (len(i) > 3) & (i in all_english_words) and (j in closed_words_tags)]"
   ]
  },
  {
   "cell_type": "code",
   "execution_count": null,
   "id": "VLLv4gzl4BMU",
   "metadata": {
    "hidden": true,
    "id": "VLLv4gzl4BMU"
   },
   "outputs": [],
   "source": [
    "# toy_words__r1_tk = nltk.word_tokenize(toy_words_r1)\n",
    "# toy_words__r2_tk = nltk.word_tokenize(toy_words_r2)\n",
    "# toy_words__r3_tk = nltk.word_tokenize(toy_words_r3)\n",
    "# toy_words__r4_tk = nltk.word_tokenize(toy_words_r4)\n",
    "# toy_words__r5_tk = nltk.word_tokenize(toy_words_r5)"
   ]
  },
  {
   "cell_type": "code",
   "execution_count": null,
   "id": "kRp0CZqw4BOi",
   "metadata": {
    "hidden": true,
    "id": "kRp0CZqw4BOi"
   },
   "outputs": [],
   "source": [
    "# toy_words__r1_tk = [i for i in toy_words__r1_tk if (i not in stop_words_t ) & (len(i) > 3)]\n",
    "# toy_words__r2_tk = [i for i in toy_words__r2_tk if (i not in stop_words_t ) & (len(i) > 3)]\n",
    "# toy_words__r3_tk = [i for i in toy_words__r3_tk if (i not in stop_words_t ) & (len(i) > 3)] \n",
    "# toy_words__r4_tk = [i for i in toy_words__r4_tk if (i not in stop_words_t ) & (len(i) > 3)]\n",
    "# toy_words__r5_tk = [i for i in toy_words__r5_tk if (i not in stop_words_t ) & (len(i) > 3)]"
   ]
  },
  {
   "cell_type": "code",
   "execution_count": null,
   "id": "2aAQL5604BYk",
   "metadata": {
    "hidden": true,
    "id": "2aAQL5604BYk"
   },
   "outputs": [],
   "source": [
    "fd_r1_toy = nltk.FreqDist(toy_words_r1_tk)\n",
    "fd_r2_toy = nltk.FreqDist(toy_words_r2_tk)\n",
    "fd_r3_toy = nltk.FreqDist(toy_words_r3_tk)\n",
    "fd_r4_toy = nltk.FreqDist(toy_words_r4_tk)\n",
    "fd_r5_toy = nltk.FreqDist(toy_words_r5_tk)"
   ]
  },
  {
   "cell_type": "code",
   "execution_count": null,
   "id": "p_kQ3Rlj4BbD",
   "metadata": {
    "colab": {
     "base_uri": "https://localhost:8080/"
    },
    "executionInfo": {
     "elapsed": 147,
     "status": "ok",
     "timestamp": 1676231294263,
     "user": {
      "displayName": "Aadil Iliyas Zikre",
      "userId": "11139065713760395341"
     },
     "user_tz": 300
    },
    "hidden": true,
    "id": "p_kQ3Rlj4BbD",
    "outputId": "ed5bd183-5547-433a-e42d-1c5d801850a4"
   },
   "outputs": [
    {
     "name": "stdout",
     "output_type": "stream",
     "text": [
      "[('machine', 4), ('jewelry', 3), ('made', 3), ('earring', 2), ('child', 2), ('feel', 2), ('almost', 2), ('look', 2), ('glass', 2), ('doll', 2), ('definitely', 1), ('grade', 1), ('comfortable', 1), ('shoe', 1), ('piece', 1), ('find', 1), ('vending', 1), ('cent', 1), ('seen', 1), ('string', 1), ('used', 1), ('received', 1), ('mine', 1), ('purse', 1), ('best', 1), ('store', 1), ('cheap', 1), ('quarter', 1), ('ring', 1)]\n"
     ]
    }
   ],
   "source": [
    "print(fd_r1_toy.most_common(50))"
   ]
  },
  {
   "cell_type": "code",
   "execution_count": null,
   "id": "xo9WdFFB4BdE",
   "metadata": {
    "colab": {
     "base_uri": "https://localhost:8080/"
    },
    "executionInfo": {
     "elapsed": 137,
     "status": "ok",
     "timestamp": 1676231297977,
     "user": {
      "displayName": "Aadil Iliyas Zikre",
      "userId": "11139065713760395341"
     },
     "user_tz": 300
    },
    "hidden": true,
    "id": "xo9WdFFB4BdE",
    "outputId": "26fbf48a-c333-40ae-f9c6-afe48974571d"
   },
   "outputs": [
    {
     "name": "stdout",
     "output_type": "stream",
     "text": [
      "[('watch', 3), ('small', 3), ('machine', 3), ('cheap', 2), ('feel', 2), ('cheaply', 1), ('built', 1), ('handcuff', 1), ('seen', 1), ('various', 1), ('store', 1), ('much', 1), ('money', 1), ('cute', 1), ('firmly', 1), ('believe', 1), ('muscle', 1), ('development', 1), ('starter', 1), ('youngster', 1), ('effect', 1), ('already', 1), ('return', 1), ('shipping', 1), ('replace', 1), ('plastic', 1), ('bubble', 1), ('dispenser', 1), ('quarter', 1), ('crown', 1), ('thing', 1), ('really', 1), ('building', 1), ('block', 1), ('construction', 1), ('grandchild', 1), ('doll', 1), ('throw', 1), ('aside', 1), ('look', 1), ('worse', 1), ('vending', 1)]\n"
     ]
    }
   ],
   "source": [
    "print(fd_r2_toy.most_common(50))"
   ]
  },
  {
   "cell_type": "code",
   "execution_count": null,
   "id": "Ktdu8APJ4Bfm",
   "metadata": {
    "colab": {
     "base_uri": "https://localhost:8080/"
    },
    "executionInfo": {
     "elapsed": 141,
     "status": "ok",
     "timestamp": 1676231302488,
     "user": {
      "displayName": "Aadil Iliyas Zikre",
      "userId": "11139065713760395341"
     },
     "user_tz": 300
    },
    "hidden": true,
    "id": "Ktdu8APJ4Bfm",
    "outputId": "98aec7dc-941a-4b4f-b8a0-a861bbc672cc"
   },
   "outputs": [
    {
     "name": "stdout",
     "output_type": "stream",
     "text": [
      "[('define', 2), ('baby', 1), ('rarely', 1), ('break', 1), ('wait', 1), ('cheap', 1), ('gift', 1), ('build', 1), ('muscle', 1), ('walking', 1), ('play', 1), ('cast', 1), ('aside', 1), ('part', 1), ('obviously', 1), ('price', 1), ('orange', 1), ('version', 1), ('slime', 1), ('appear', 1), ('encourage', 1), ('really', 1), ('cute', 1), ('amazing', 1), ('going', 1), ('look', 1), ('watch', 1), ('workmanship', 1), ('close', 1), ('drive', 1)]\n"
     ]
    }
   ],
   "source": [
    "print(fd_r3_toy.most_common(50))"
   ]
  },
  {
   "cell_type": "code",
   "execution_count": null,
   "id": "J5eclUiL4Bmw",
   "metadata": {
    "colab": {
     "base_uri": "https://localhost:8080/"
    },
    "executionInfo": {
     "elapsed": 138,
     "status": "ok",
     "timestamp": 1676231310853,
     "user": {
      "displayName": "Aadil Iliyas Zikre",
      "userId": "11139065713760395341"
     },
     "user_tz": 300
    },
    "hidden": true,
    "id": "J5eclUiL4Bmw",
    "outputId": "41ae1aaf-4dff-4437-810b-6ab3dd7b21ad"
   },
   "outputs": [
    {
     "name": "stdout",
     "output_type": "stream",
     "text": [
      "[('watch', 6), ('great', 5), ('love', 3), ('well', 3), ('really', 3), ('little', 2), ('cool', 2), ('bought', 2), ('happy', 2), ('make', 2), ('sword', 2), ('child', 2), ('made', 2), ('inexpensive', 2), ('used', 2), ('kind', 2), ('walk', 1), ('neat', 1), ('miss', 1), ('designed', 1), ('recommend', 1), ('slightly', 1), ('time', 1), ('accurate', 1), ('gotten', 1), ('price', 1), ('present', 1), ('medieval', 1), ('weapon', 1), ('want', 1), ('tinker', 1), ('part', 1), ('noise', 1), ('water', 1), ('bottle', 1), ('nice', 1), ('boat', 1), ('many', 1), ('item', 1), ('green', 1), ('line', 1), ('bath', 1), ('story', 1), ('looking', 1), ('sturdy', 1), ('young', 1), ('helping', 1), ('grandson', 1), ('immediately', 1), ('together', 1)]\n"
     ]
    }
   ],
   "source": [
    "print(fd_r4_toy.most_common(50))"
   ]
  },
  {
   "cell_type": "code",
   "execution_count": null,
   "id": "OH50Nv3e4BpM",
   "metadata": {
    "colab": {
     "base_uri": "https://localhost:8080/"
    },
    "executionInfo": {
     "elapsed": 162,
     "status": "ok",
     "timestamp": 1676231320685,
     "user": {
      "displayName": "Aadil Iliyas Zikre",
      "userId": "11139065713760395341"
     },
     "user_tz": 300
    },
    "hidden": true,
    "id": "OH50Nv3e4BpM",
    "outputId": "1002ce95-a6b9-4a38-f0f3-7c780a1fd78b"
   },
   "outputs": [
    {
     "name": "stdout",
     "output_type": "stream",
     "text": [
      "[('great', 13), ('love', 8), ('made', 8), ('story', 6), ('make', 5), ('green', 5), ('look', 5), ('cool', 4), ('definitely', 4), ('store', 4), ('perfect', 4), ('nice', 3), ('little', 3), ('baby', 3), ('play', 3), ('durable', 3), ('part', 3), ('well', 3), ('really', 3), ('much', 3), ('sturdy', 3), ('heavy', 2), ('bought', 2), ('stuff', 2), ('enough', 2), ('book', 2), ('moving', 2), ('company', 2), ('small', 2), ('even', 2), ('costume', 2), ('plastic', 2), ('grandson', 2), ('given', 2), ('hour', 2), ('favorite', 2), ('child', 2), ('excellent', 2), ('range', 2), ('outfit', 2), ('come', 2), ('find', 2), ('water', 2), ('time', 2), ('happy', 2), ('character', 2), ('tiara', 2), ('bring', 2), ('simple', 2), ('quality', 2)]\n"
     ]
    }
   ],
   "source": [
    "print(fd_r5_toy.most_common(50))"
   ]
  },
  {
   "cell_type": "code",
   "execution_count": null,
   "id": "xhYj5Al84Brg",
   "metadata": {
    "hidden": true,
    "id": "xhYj5Al84Brg"
   },
   "outputs": [],
   "source": []
  }
 ],
 "metadata": {
  "colab": {
   "provenance": [],
   "toc_visible": true
  },
  "kernelspec": {
   "display_name": "Python 3 (ipykernel)",
   "language": "python",
   "name": "python3"
  },
  "language_info": {
   "codemirror_mode": {
    "name": "ipython",
    "version": 3
   },
   "file_extension": ".py",
   "mimetype": "text/x-python",
   "name": "python",
   "nbconvert_exporter": "python",
   "pygments_lexer": "ipython3",
   "version": "3.9.12"
  },
  "varInspector": {
   "cols": {
    "lenName": 16,
    "lenType": 16,
    "lenVar": 40
   },
   "kernels_config": {
    "python": {
     "delete_cmd_postfix": "",
     "delete_cmd_prefix": "del ",
     "library": "var_list.py",
     "varRefreshCmd": "print(var_dic_list())"
    },
    "r": {
     "delete_cmd_postfix": ") ",
     "delete_cmd_prefix": "rm(",
     "library": "var_list.r",
     "varRefreshCmd": "cat(var_dic_list()) "
    }
   },
   "types_to_exclude": [
    "module",
    "function",
    "builtin_function_or_method",
    "instance",
    "_Feature"
   ],
   "window_display": false
  }
 },
 "nbformat": 4,
 "nbformat_minor": 5
}
