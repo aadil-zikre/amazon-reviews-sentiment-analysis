{
 "cells": [
  {
   "cell_type": "markdown",
   "id": "4ff0aa9c",
   "metadata": {
    "id": "18dmXreMLu-O"
   },
   "source": [
    "# Importing and Preprocessing"
   ]
  },
  {
   "cell_type": "code",
   "execution_count": 1,
   "id": "dfa093a3",
   "metadata": {
    "executionInfo": {
     "elapsed": 6257,
     "status": "ok",
     "timestamp": 1682192953818,
     "user": {
      "displayName": "Aadil Iliyas Zikre",
      "userId": "11139065713760395341"
     },
     "user_tz": 240
    },
    "id": "82165c59"
   },
   "outputs": [],
   "source": [
    "import pandas as pd\n",
    "import numpy as np\n",
    "import re\n",
    "\n",
    "from nltk.collocations import *\n",
    "from itertools import chain\n",
    "from tqdm import tqdm\n",
    "tqdm.pandas()\n",
    "\n",
    "from nltk.stem import WordNetLemmatizer\n",
    "from string import punctuation\n",
    "  \n",
    "lemmatizer = WordNetLemmatizer()"
   ]
  },
  {
   "cell_type": "code",
   "execution_count": 2,
   "id": "f335cef9",
   "metadata": {
    "colab": {
     "base_uri": "https://localhost:8080/"
    },
    "executionInfo": {
     "elapsed": 19928,
     "status": "ok",
     "timestamp": 1682192973744,
     "user": {
      "displayName": "Aadil Iliyas Zikre",
      "userId": "11139065713760395341"
     },
     "user_tz": 240
    },
    "id": "8OE5K0Ae_2y5",
    "outputId": "2d1dd822-1409-4977-8ea4-90aa374cf6f8"
   },
   "outputs": [
    {
     "name": "stdout",
     "output_type": "stream",
     "text": [
      "Mounted at /content/drive\n"
     ]
    }
   ],
   "source": [
    "from google.colab import drive\n",
    "drive.mount('/content/drive')"
   ]
  },
  {
   "cell_type": "code",
   "execution_count": 3,
   "id": "f392e316",
   "metadata": {
    "executionInfo": {
     "elapsed": 3081,
     "status": "ok",
     "timestamp": 1682192976814,
     "user": {
      "displayName": "Aadil Iliyas Zikre",
      "userId": "11139065713760395341"
     },
     "user_tz": 240
    },
    "id": "b048ee15"
   },
   "outputs": [],
   "source": [
    "\"\"\" Please run appropriate command to import the file.\"\"\"\n",
    "\n",
    "with open(\"/content/drive/MyDrive/Syracuse University/IST 664 Natural Language Processing/Assignment 1/clothing_shoes_jewelry.txt\",'r') as f:\n",
    "  txt = f.read()\n",
    "\n",
    "# with open('/drive/My Drive/Colab Notebooks/Mon_Homework1/clothing_shoes_jewelry.txt', 'r') as f:\n",
    "#   txt = f.read() "
   ]
  },
  {
   "cell_type": "code",
   "execution_count": 4,
   "id": "4e4dbd52",
   "metadata": {
    "executionInfo": {
     "elapsed": 320,
     "status": "ok",
     "timestamp": 1682192977489,
     "user": {
      "displayName": "Aadil Iliyas Zikre",
      "userId": "11139065713760395341"
     },
     "user_tz": 240
    },
    "id": "5a5782cc"
   },
   "outputs": [],
   "source": [
    "txt_split = txt.split(\"\\n\\n\")"
   ]
  },
  {
   "cell_type": "code",
   "execution_count": 5,
   "id": "077673ce",
   "metadata": {
    "executionInfo": {
     "elapsed": 6,
     "status": "ok",
     "timestamp": 1682192977490,
     "user": {
      "displayName": "Aadil Iliyas Zikre",
      "userId": "11139065713760395341"
     },
     "user_tz": 240
    },
    "id": "ff9b5aff"
   },
   "outputs": [],
   "source": [
    "txt_split = txt_split[:-1]"
   ]
  },
  {
   "cell_type": "code",
   "execution_count": 6,
   "id": "319601a6",
   "metadata": {
    "executionInfo": {
     "elapsed": 1053,
     "status": "ok",
     "timestamp": 1682192978537,
     "user": {
      "displayName": "Aadil Iliyas Zikre",
      "userId": "11139065713760395341"
     },
     "user_tz": 240
    },
    "id": "566ba037"
   },
   "outputs": [],
   "source": [
    "txt_chunks = [tuple(t.split(\"\\n\")) for t in txt_split]"
   ]
  },
  {
   "cell_type": "code",
   "execution_count": 7,
   "id": "0f5dc01b",
   "metadata": {
    "executionInfo": {
     "elapsed": 4695,
     "status": "ok",
     "timestamp": 1682192983229,
     "user": {
      "displayName": "Aadil Iliyas Zikre",
      "userId": "11139065713760395341"
     },
     "user_tz": 240
    },
    "id": "7fcbc856"
   },
   "outputs": [],
   "source": [
    "txt_dict = []\n",
    "for i in txt_chunks:\n",
    "    txt_dict.append(dict(tuple(t.split(\":\",maxsplit=1)) for t in i))"
   ]
  },
  {
   "cell_type": "code",
   "execution_count": 8,
   "id": "1ac47834",
   "metadata": {
    "executionInfo": {
     "elapsed": 950,
     "status": "ok",
     "timestamp": 1682192984175,
     "user": {
      "displayName": "Aadil Iliyas Zikre",
      "userId": "11139065713760395341"
     },
     "user_tz": 240
    },
    "id": "63cf7c61"
   },
   "outputs": [],
   "source": [
    "df = pd.DataFrame(txt_dict)"
   ]
  },
  {
   "cell_type": "code",
   "execution_count": 9,
   "id": "788d0b90",
   "metadata": {
    "colab": {
     "base_uri": "https://localhost:8080/",
     "height": 337
    },
    "executionInfo": {
     "elapsed": 21,
     "status": "ok",
     "timestamp": 1682192984177,
     "user": {
      "displayName": "Aadil Iliyas Zikre",
      "userId": "11139065713760395341"
     },
     "user_tz": 240
    },
    "id": "04d729d8",
    "outputId": "97e082ac-885b-48d0-aefe-6b1c4f9cf2e3"
   },
   "outputs": [
    {
     "data": {
      "text/html": [
       "\n",
       "  <div id=\"df-52c3548b-637a-4c88-ad1a-4a472ec8505b\">\n",
       "    <div class=\"colab-df-container\">\n",
       "      <div>\n",
       "<style scoped>\n",
       "    .dataframe tbody tr th:only-of-type {\n",
       "        vertical-align: middle;\n",
       "    }\n",
       "\n",
       "    .dataframe tbody tr th {\n",
       "        vertical-align: top;\n",
       "    }\n",
       "\n",
       "    .dataframe thead th {\n",
       "        text-align: right;\n",
       "    }\n",
       "</style>\n",
       "<table border=\"1\" class=\"dataframe\">\n",
       "  <thead>\n",
       "    <tr style=\"text-align: right;\">\n",
       "      <th></th>\n",
       "      <th>reviewerID</th>\n",
       "      <th>asin</th>\n",
       "      <th>reviewerName</th>\n",
       "      <th>helpful</th>\n",
       "      <th>reviewText</th>\n",
       "      <th>overall</th>\n",
       "      <th>summary</th>\n",
       "      <th>unixReviewTime</th>\n",
       "      <th>reviewTime</th>\n",
       "    </tr>\n",
       "  </thead>\n",
       "  <tbody>\n",
       "    <tr>\n",
       "      <th>0</th>\n",
       "      <td>A1KLRMWW2FWPL4</td>\n",
       "      <td>0000031887</td>\n",
       "      <td>Amazon Customer \"cameramom\"</td>\n",
       "      <td>[0, 0]</td>\n",
       "      <td>This is a great tutu and at a really great pri...</td>\n",
       "      <td>5.0</td>\n",
       "      <td>Great tutu-  not cheaply made</td>\n",
       "      <td>1297468800</td>\n",
       "      <td>02 12, 2011</td>\n",
       "    </tr>\n",
       "    <tr>\n",
       "      <th>1</th>\n",
       "      <td>A2G5TCU2WDFZ65</td>\n",
       "      <td>0000031887</td>\n",
       "      <td>Amazon Customer</td>\n",
       "      <td>[0, 0]</td>\n",
       "      <td>I bought this for my 4 yr old daughter for dan...</td>\n",
       "      <td>5.0</td>\n",
       "      <td>Very Cute!!</td>\n",
       "      <td>1358553600</td>\n",
       "      <td>01 19, 2013</td>\n",
       "    </tr>\n",
       "    <tr>\n",
       "      <th>2</th>\n",
       "      <td>A1RLQXYNCMWRWN</td>\n",
       "      <td>0000031887</td>\n",
       "      <td>Carola</td>\n",
       "      <td>[0, 0]</td>\n",
       "      <td>What can I say... my daughters have it in oran...</td>\n",
       "      <td>5.0</td>\n",
       "      <td>I have buy more than one</td>\n",
       "      <td>1357257600</td>\n",
       "      <td>01 4, 2013</td>\n",
       "    </tr>\n",
       "    <tr>\n",
       "      <th>3</th>\n",
       "      <td>A8U3FAMSJVHS5</td>\n",
       "      <td>0000031887</td>\n",
       "      <td>Caromcg</td>\n",
       "      <td>[0, 0]</td>\n",
       "      <td>We bought several tutus at once, and they are ...</td>\n",
       "      <td>5.0</td>\n",
       "      <td>Adorable, Sturdy</td>\n",
       "      <td>1398556800</td>\n",
       "      <td>04 27, 2014</td>\n",
       "    </tr>\n",
       "    <tr>\n",
       "      <th>4</th>\n",
       "      <td>A3GEOILWLK86XM</td>\n",
       "      <td>0000031887</td>\n",
       "      <td>CJ</td>\n",
       "      <td>[0, 0]</td>\n",
       "      <td>Thank you Halo Heaven great product for Little...</td>\n",
       "      <td>5.0</td>\n",
       "      <td>Grammy's Angels Love it</td>\n",
       "      <td>1394841600</td>\n",
       "      <td>03 15, 2014</td>\n",
       "    </tr>\n",
       "  </tbody>\n",
       "</table>\n",
       "</div>\n",
       "      <button class=\"colab-df-convert\" onclick=\"convertToInteractive('df-52c3548b-637a-4c88-ad1a-4a472ec8505b')\"\n",
       "              title=\"Convert this dataframe to an interactive table.\"\n",
       "              style=\"display:none;\">\n",
       "        \n",
       "  <svg xmlns=\"http://www.w3.org/2000/svg\" height=\"24px\"viewBox=\"0 0 24 24\"\n",
       "       width=\"24px\">\n",
       "    <path d=\"M0 0h24v24H0V0z\" fill=\"none\"/>\n",
       "    <path d=\"M18.56 5.44l.94 2.06.94-2.06 2.06-.94-2.06-.94-.94-2.06-.94 2.06-2.06.94zm-11 1L8.5 8.5l.94-2.06 2.06-.94-2.06-.94L8.5 2.5l-.94 2.06-2.06.94zm10 10l.94 2.06.94-2.06 2.06-.94-2.06-.94-.94-2.06-.94 2.06-2.06.94z\"/><path d=\"M17.41 7.96l-1.37-1.37c-.4-.4-.92-.59-1.43-.59-.52 0-1.04.2-1.43.59L10.3 9.45l-7.72 7.72c-.78.78-.78 2.05 0 2.83L4 21.41c.39.39.9.59 1.41.59.51 0 1.02-.2 1.41-.59l7.78-7.78 2.81-2.81c.8-.78.8-2.07 0-2.86zM5.41 20L4 18.59l7.72-7.72 1.47 1.35L5.41 20z\"/>\n",
       "  </svg>\n",
       "      </button>\n",
       "      \n",
       "  <style>\n",
       "    .colab-df-container {\n",
       "      display:flex;\n",
       "      flex-wrap:wrap;\n",
       "      gap: 12px;\n",
       "    }\n",
       "\n",
       "    .colab-df-convert {\n",
       "      background-color: #E8F0FE;\n",
       "      border: none;\n",
       "      border-radius: 50%;\n",
       "      cursor: pointer;\n",
       "      display: none;\n",
       "      fill: #1967D2;\n",
       "      height: 32px;\n",
       "      padding: 0 0 0 0;\n",
       "      width: 32px;\n",
       "    }\n",
       "\n",
       "    .colab-df-convert:hover {\n",
       "      background-color: #E2EBFA;\n",
       "      box-shadow: 0px 1px 2px rgba(60, 64, 67, 0.3), 0px 1px 3px 1px rgba(60, 64, 67, 0.15);\n",
       "      fill: #174EA6;\n",
       "    }\n",
       "\n",
       "    [theme=dark] .colab-df-convert {\n",
       "      background-color: #3B4455;\n",
       "      fill: #D2E3FC;\n",
       "    }\n",
       "\n",
       "    [theme=dark] .colab-df-convert:hover {\n",
       "      background-color: #434B5C;\n",
       "      box-shadow: 0px 1px 3px 1px rgba(0, 0, 0, 0.15);\n",
       "      filter: drop-shadow(0px 1px 2px rgba(0, 0, 0, 0.3));\n",
       "      fill: #FFFFFF;\n",
       "    }\n",
       "  </style>\n",
       "\n",
       "      <script>\n",
       "        const buttonEl =\n",
       "          document.querySelector('#df-52c3548b-637a-4c88-ad1a-4a472ec8505b button.colab-df-convert');\n",
       "        buttonEl.style.display =\n",
       "          google.colab.kernel.accessAllowed ? 'block' : 'none';\n",
       "\n",
       "        async function convertToInteractive(key) {\n",
       "          const element = document.querySelector('#df-52c3548b-637a-4c88-ad1a-4a472ec8505b');\n",
       "          const dataTable =\n",
       "            await google.colab.kernel.invokeFunction('convertToInteractive',\n",
       "                                                     [key], {});\n",
       "          if (!dataTable) return;\n",
       "\n",
       "          const docLinkHtml = 'Like what you see? Visit the ' +\n",
       "            '<a target=\"_blank\" href=https://colab.research.google.com/notebooks/data_table.ipynb>data table notebook</a>'\n",
       "            + ' to learn more about interactive tables.';\n",
       "          element.innerHTML = '';\n",
       "          dataTable['output_type'] = 'display_data';\n",
       "          await google.colab.output.renderOutput(dataTable, element);\n",
       "          const docLink = document.createElement('div');\n",
       "          docLink.innerHTML = docLinkHtml;\n",
       "          element.appendChild(docLink);\n",
       "        }\n",
       "      </script>\n",
       "    </div>\n",
       "  </div>\n",
       "  "
      ],
      "text/plain": [
       "       reviewerID        asin                 reviewerName helpful  \\\n",
       "0  A1KLRMWW2FWPL4  0000031887  Amazon Customer \"cameramom\"  [0, 0]   \n",
       "1  A2G5TCU2WDFZ65  0000031887              Amazon Customer  [0, 0]   \n",
       "2  A1RLQXYNCMWRWN  0000031887                       Carola  [0, 0]   \n",
       "3   A8U3FAMSJVHS5  0000031887                      Caromcg  [0, 0]   \n",
       "4  A3GEOILWLK86XM  0000031887                           CJ  [0, 0]   \n",
       "\n",
       "                                          reviewText overall  \\\n",
       "0  This is a great tutu and at a really great pri...     5.0   \n",
       "1  I bought this for my 4 yr old daughter for dan...     5.0   \n",
       "2  What can I say... my daughters have it in oran...     5.0   \n",
       "3  We bought several tutus at once, and they are ...     5.0   \n",
       "4  Thank you Halo Heaven great product for Little...     5.0   \n",
       "\n",
       "                         summary unixReviewTime   reviewTime  \n",
       "0  Great tutu-  not cheaply made     1297468800  02 12, 2011  \n",
       "1                    Very Cute!!     1358553600  01 19, 2013  \n",
       "2       I have buy more than one     1357257600   01 4, 2013  \n",
       "3               Adorable, Sturdy     1398556800  04 27, 2014  \n",
       "4        Grammy's Angels Love it     1394841600  03 15, 2014  "
      ]
     },
     "execution_count": 9,
     "metadata": {},
     "output_type": "execute_result"
    }
   ],
   "source": [
    "df.head()"
   ]
  },
  {
   "cell_type": "code",
   "execution_count": 10,
   "id": "c6be9e5e",
   "metadata": {
    "executionInfo": {
     "elapsed": 17,
     "status": "ok",
     "timestamp": 1682192984178,
     "user": {
      "displayName": "Aadil Iliyas Zikre",
      "userId": "11139065713760395341"
     },
     "user_tz": 240
    },
    "id": "a493ee12"
   },
   "outputs": [],
   "source": [
    "assert (df.groupby(\"reviewerID\").size()>=5).all(), \"Check Again! Minimum Reviews per user should be 5\" # checking if the import was correct"
   ]
  },
  {
   "cell_type": "code",
   "execution_count": 11,
   "id": "a4cee8d1",
   "metadata": {
    "executionInfo": {
     "elapsed": 225,
     "status": "ok",
     "timestamp": 1682192984386,
     "user": {
      "displayName": "Aadil Iliyas Zikre",
      "userId": "11139065713760395341"
     },
     "user_tz": 240
    },
    "id": "00be1c12"
   },
   "outputs": [],
   "source": [
    "assert (df.groupby(\"asin\").size()>=5).all(), \"Check Again! Minimum Reviews per item should be 5\" # checking if the import was correct"
   ]
  },
  {
   "cell_type": "code",
   "execution_count": 12,
   "id": "21696c85",
   "metadata": {
    "colab": {
     "base_uri": "https://localhost:8080/"
    },
    "executionInfo": {
     "elapsed": 6,
     "status": "ok",
     "timestamp": 1682192984386,
     "user": {
      "displayName": "Aadil Iliyas Zikre",
      "userId": "11139065713760395341"
     },
     "user_tz": 240
    },
    "id": "639cbb4d",
    "outputId": "2931cabc-63bb-4459-d5e5-e9b3d681e5f7"
   },
   "outputs": [
    {
     "data": {
      "text/plain": [
       "(278677, 9)"
      ]
     },
     "execution_count": 12,
     "metadata": {},
     "output_type": "execute_result"
    }
   ],
   "source": [
    "df.shape"
   ]
  },
  {
   "cell_type": "code",
   "execution_count": 13,
   "id": "3592b83e",
   "metadata": {
    "colab": {
     "base_uri": "https://localhost:8080/"
    },
    "executionInfo": {
     "elapsed": 865,
     "status": "ok",
     "timestamp": 1682192985248,
     "user": {
      "displayName": "Aadil Iliyas Zikre",
      "userId": "11139065713760395341"
     },
     "user_tz": 240
    },
    "id": "SWSMfptYCMMK",
    "outputId": "7eef7df1-61e4-45e0-a411-072f1ce05254"
   },
   "outputs": [
    {
     "name": "stderr",
     "output_type": "stream",
     "text": [
      "100%|██████████| 278677/278677 [00:00<00:00, 743353.23it/s]\n"
     ]
    }
   ],
   "source": [
    "df = df[df.reviewText.progress_apply(len) > 0] # To remove Nulls \n",
    "df = df.iloc[:5000].reset_index(drop=True) # selecting just the first 5000 rows for this assignment"
   ]
  },
  {
   "cell_type": "code",
   "execution_count": 14,
   "id": "64fa8d00",
   "metadata": {
    "executionInfo": {
     "elapsed": 7,
     "status": "ok",
     "timestamp": 1682192985249,
     "user": {
      "displayName": "Aadil Iliyas Zikre",
      "userId": "11139065713760395341"
     },
     "user_tz": 240
    },
    "id": "183c2408"
   },
   "outputs": [],
   "source": [
    "import matplotlib\n",
    "import matplotlib.pyplot as plt\n",
    "import seaborn as sns\n",
    "sns.set_theme(style=\"darkgrid\", palette = \"crest_r\")"
   ]
  },
  {
   "cell_type": "code",
   "execution_count": 15,
   "id": "14c59fa0",
   "metadata": {
    "colab": {
     "base_uri": "https://localhost:8080/",
     "height": 476
    },
    "executionInfo": {
     "elapsed": 389,
     "status": "ok",
     "timestamp": 1682192985633,
     "user": {
      "displayName": "Aadil Iliyas Zikre",
      "userId": "11139065713760395341"
     },
     "user_tz": 240
    },
    "id": "d56d6172",
    "outputId": "382c45d2-a4e8-4bfd-a6cd-2933348806b6"
   },
   "outputs": [
    {
     "data": {
      "text/plain": [
       "<Axes: xlabel='overall', ylabel='count'>"
      ]
     },
     "execution_count": 15,
     "metadata": {},
     "output_type": "execute_result"
    },
    {
     "data": {
      "image/png": "[encoded data removed]",
      "text/plain": [
       "<Figure size 640x480 with 1 Axes>"
      ]
     },
     "metadata": {},
     "output_type": "display_data"
    }
   ],
   "source": [
    "sns.countplot(x = df.overall, order=sorted(df.overall.unique())) # To check the spread of reviews over the ratings"
   ]
  },
  {
   "cell_type": "code",
   "execution_count": 16,
   "id": "5a3fd6a5",
   "metadata": {
    "executionInfo": {
     "elapsed": 7,
     "status": "ok",
     "timestamp": 1682192985634,
     "user": {
      "displayName": "Aadil Iliyas Zikre",
      "userId": "11139065713760395341"
     },
     "user_tz": 240
    },
    "id": "956dba5c"
   },
   "outputs": [],
   "source": [
    "df.unixReviewTime = pd.to_datetime(df.unixReviewTime, unit='s')"
   ]
  },
  {
   "cell_type": "code",
   "execution_count": 17,
   "id": "3f144e1d",
   "metadata": {
    "colab": {
     "base_uri": "https://localhost:8080/",
     "height": 476
    },
    "executionInfo": {
     "elapsed": 470,
     "status": "ok",
     "timestamp": 1682192986097,
     "user": {
      "displayName": "Aadil Iliyas Zikre",
      "userId": "11139065713760395341"
     },
     "user_tz": 240
    },
    "id": "eafdaee2",
    "outputId": "7b77c2e0-40a5-4b49-b499-f9f6812e7114"
   },
   "outputs": [
    {
     "data": {
      "text/plain": [
       "<Axes: xlabel='unixReviewTime', ylabel='count'>"
      ]
     },
     "execution_count": 17,
     "metadata": {},
     "output_type": "execute_result"
    },
    {
     "data": {
      "image/png": "[encoded data removed]",
      "text/plain": [
       "<Figure size 640x480 with 1 Axes>"
      ]
     },
     "metadata": {},
     "output_type": "display_data"
    }
   ],
   "source": [
    "sns.countplot(x = df.unixReviewTime.dt.year, order = sorted(df.unixReviewTime.dt.year.unique())) # Checking years in which the review was given"
   ]
  },
  {
   "cell_type": "code",
   "execution_count": 18,
   "id": "1ad50df0",
   "metadata": {
    "colab": {
     "base_uri": "https://localhost:8080/",
     "height": 337
    },
    "executionInfo": {
     "elapsed": 12,
     "status": "ok",
     "timestamp": 1682192986097,
     "user": {
      "displayName": "Aadil Iliyas Zikre",
      "userId": "11139065713760395341"
     },
     "user_tz": 240
    },
    "id": "e0314ebb",
    "outputId": "fd738e85-5dc1-4e5d-d952-21d1d06009d4"
   },
   "outputs": [
    {
     "data": {
      "text/html": [
       "\n",
       "  <div id=\"df-c61050eb-4b15-42aa-aa8b-743f765eff4a\">\n",
       "    <div class=\"colab-df-container\">\n",
       "      <div>\n",
       "<style scoped>\n",
       "    .dataframe tbody tr th:only-of-type {\n",
       "        vertical-align: middle;\n",
       "    }\n",
       "\n",
       "    .dataframe tbody tr th {\n",
       "        vertical-align: top;\n",
       "    }\n",
       "\n",
       "    .dataframe thead th {\n",
       "        text-align: right;\n",
       "    }\n",
       "</style>\n",
       "<table border=\"1\" class=\"dataframe\">\n",
       "  <thead>\n",
       "    <tr style=\"text-align: right;\">\n",
       "      <th></th>\n",
       "      <th>reviewerID</th>\n",
       "      <th>asin</th>\n",
       "      <th>reviewerName</th>\n",
       "      <th>helpful</th>\n",
       "      <th>reviewText</th>\n",
       "      <th>overall</th>\n",
       "      <th>summary</th>\n",
       "      <th>unixReviewTime</th>\n",
       "      <th>reviewTime</th>\n",
       "    </tr>\n",
       "  </thead>\n",
       "  <tbody>\n",
       "    <tr>\n",
       "      <th>0</th>\n",
       "      <td>A1KLRMWW2FWPL4</td>\n",
       "      <td>0000031887</td>\n",
       "      <td>Amazon Customer \"cameramom\"</td>\n",
       "      <td>[0, 0]</td>\n",
       "      <td>This is a great tutu and at a really great pri...</td>\n",
       "      <td>5.0</td>\n",
       "      <td>Great tutu-  not cheaply made</td>\n",
       "      <td>2011-02-12</td>\n",
       "      <td>02 12, 2011</td>\n",
       "    </tr>\n",
       "    <tr>\n",
       "      <th>1</th>\n",
       "      <td>A2G5TCU2WDFZ65</td>\n",
       "      <td>0000031887</td>\n",
       "      <td>Amazon Customer</td>\n",
       "      <td>[0, 0]</td>\n",
       "      <td>I bought this for my 4 yr old daughter for dan...</td>\n",
       "      <td>5.0</td>\n",
       "      <td>Very Cute!!</td>\n",
       "      <td>2013-01-19</td>\n",
       "      <td>01 19, 2013</td>\n",
       "    </tr>\n",
       "    <tr>\n",
       "      <th>2</th>\n",
       "      <td>A1RLQXYNCMWRWN</td>\n",
       "      <td>0000031887</td>\n",
       "      <td>Carola</td>\n",
       "      <td>[0, 0]</td>\n",
       "      <td>What can I say... my daughters have it in oran...</td>\n",
       "      <td>5.0</td>\n",
       "      <td>I have buy more than one</td>\n",
       "      <td>2013-01-04</td>\n",
       "      <td>01 4, 2013</td>\n",
       "    </tr>\n",
       "    <tr>\n",
       "      <th>3</th>\n",
       "      <td>A8U3FAMSJVHS5</td>\n",
       "      <td>0000031887</td>\n",
       "      <td>Caromcg</td>\n",
       "      <td>[0, 0]</td>\n",
       "      <td>We bought several tutus at once, and they are ...</td>\n",
       "      <td>5.0</td>\n",
       "      <td>Adorable, Sturdy</td>\n",
       "      <td>2014-04-27</td>\n",
       "      <td>04 27, 2014</td>\n",
       "    </tr>\n",
       "    <tr>\n",
       "      <th>4</th>\n",
       "      <td>A3GEOILWLK86XM</td>\n",
       "      <td>0000031887</td>\n",
       "      <td>CJ</td>\n",
       "      <td>[0, 0]</td>\n",
       "      <td>Thank you Halo Heaven great product for Little...</td>\n",
       "      <td>5.0</td>\n",
       "      <td>Grammy's Angels Love it</td>\n",
       "      <td>2014-03-15</td>\n",
       "      <td>03 15, 2014</td>\n",
       "    </tr>\n",
       "  </tbody>\n",
       "</table>\n",
       "</div>\n",
       "      <button class=\"colab-df-convert\" onclick=\"convertToInteractive('df-c61050eb-4b15-42aa-aa8b-743f765eff4a')\"\n",
       "              title=\"Convert this dataframe to an interactive table.\"\n",
       "              style=\"display:none;\">\n",
       "        \n",
       "  <svg xmlns=\"http://www.w3.org/2000/svg\" height=\"24px\"viewBox=\"0 0 24 24\"\n",
       "       width=\"24px\">\n",
       "    <path d=\"M0 0h24v24H0V0z\" fill=\"none\"/>\n",
       "    <path d=\"M18.56 5.44l.94 2.06.94-2.06 2.06-.94-2.06-.94-.94-2.06-.94 2.06-2.06.94zm-11 1L8.5 8.5l.94-2.06 2.06-.94-2.06-.94L8.5 2.5l-.94 2.06-2.06.94zm10 10l.94 2.06.94-2.06 2.06-.94-2.06-.94-.94-2.06-.94 2.06-2.06.94z\"/><path d=\"M17.41 7.96l-1.37-1.37c-.4-.4-.92-.59-1.43-.59-.52 0-1.04.2-1.43.59L10.3 9.45l-7.72 7.72c-.78.78-.78 2.05 0 2.83L4 21.41c.39.39.9.59 1.41.59.51 0 1.02-.2 1.41-.59l7.78-7.78 2.81-2.81c.8-.78.8-2.07 0-2.86zM5.41 20L4 18.59l7.72-7.72 1.47 1.35L5.41 20z\"/>\n",
       "  </svg>\n",
       "      </button>\n",
       "      \n",
       "  <style>\n",
       "    .colab-df-container {\n",
       "      display:flex;\n",
       "      flex-wrap:wrap;\n",
       "      gap: 12px;\n",
       "    }\n",
       "\n",
       "    .colab-df-convert {\n",
       "      background-color: #E8F0FE;\n",
       "      border: none;\n",
       "      border-radius: 50%;\n",
       "      cursor: pointer;\n",
       "      display: none;\n",
       "      fill: #1967D2;\n",
       "      height: 32px;\n",
       "      padding: 0 0 0 0;\n",
       "      width: 32px;\n",
       "    }\n",
       "\n",
       "    .colab-df-convert:hover {\n",
       "      background-color: #E2EBFA;\n",
       "      box-shadow: 0px 1px 2px rgba(60, 64, 67, 0.3), 0px 1px 3px 1px rgba(60, 64, 67, 0.15);\n",
       "      fill: #174EA6;\n",
       "    }\n",
       "\n",
       "    [theme=dark] .colab-df-convert {\n",
       "      background-color: #3B4455;\n",
       "      fill: #D2E3FC;\n",
       "    }\n",
       "\n",
       "    [theme=dark] .colab-df-convert:hover {\n",
       "      background-color: #434B5C;\n",
       "      box-shadow: 0px 1px 3px 1px rgba(0, 0, 0, 0.15);\n",
       "      filter: drop-shadow(0px 1px 2px rgba(0, 0, 0, 0.3));\n",
       "      fill: #FFFFFF;\n",
       "    }\n",
       "  </style>\n",
       "\n",
       "      <script>\n",
       "        const buttonEl =\n",
       "          document.querySelector('#df-c61050eb-4b15-42aa-aa8b-743f765eff4a button.colab-df-convert');\n",
       "        buttonEl.style.display =\n",
       "          google.colab.kernel.accessAllowed ? 'block' : 'none';\n",
       "\n",
       "        async function convertToInteractive(key) {\n",
       "          const element = document.querySelector('#df-c61050eb-4b15-42aa-aa8b-743f765eff4a');\n",
       "          const dataTable =\n",
       "            await google.colab.kernel.invokeFunction('convertToInteractive',\n",
       "                                                     [key], {});\n",
       "          if (!dataTable) return;\n",
       "\n",
       "          const docLinkHtml = 'Like what you see? Visit the ' +\n",
       "            '<a target=\"_blank\" href=https://colab.research.google.com/notebooks/data_table.ipynb>data table notebook</a>'\n",
       "            + ' to learn more about interactive tables.';\n",
       "          element.innerHTML = '';\n",
       "          dataTable['output_type'] = 'display_data';\n",
       "          await google.colab.output.renderOutput(dataTable, element);\n",
       "          const docLink = document.createElement('div');\n",
       "          docLink.innerHTML = docLinkHtml;\n",
       "          element.appendChild(docLink);\n",
       "        }\n",
       "      </script>\n",
       "    </div>\n",
       "  </div>\n",
       "  "
      ],
      "text/plain": [
       "       reviewerID        asin                 reviewerName helpful  \\\n",
       "0  A1KLRMWW2FWPL4  0000031887  Amazon Customer \"cameramom\"  [0, 0]   \n",
       "1  A2G5TCU2WDFZ65  0000031887              Amazon Customer  [0, 0]   \n",
       "2  A1RLQXYNCMWRWN  0000031887                       Carola  [0, 0]   \n",
       "3   A8U3FAMSJVHS5  0000031887                      Caromcg  [0, 0]   \n",
       "4  A3GEOILWLK86XM  0000031887                           CJ  [0, 0]   \n",
       "\n",
       "                                          reviewText overall  \\\n",
       "0  This is a great tutu and at a really great pri...     5.0   \n",
       "1  I bought this for my 4 yr old daughter for dan...     5.0   \n",
       "2  What can I say... my daughters have it in oran...     5.0   \n",
       "3  We bought several tutus at once, and they are ...     5.0   \n",
       "4  Thank you Halo Heaven great product for Little...     5.0   \n",
       "\n",
       "                         summary unixReviewTime   reviewTime  \n",
       "0  Great tutu-  not cheaply made     2011-02-12  02 12, 2011  \n",
       "1                    Very Cute!!     2013-01-19  01 19, 2013  \n",
       "2       I have buy more than one     2013-01-04   01 4, 2013  \n",
       "3               Adorable, Sturdy     2014-04-27  04 27, 2014  \n",
       "4        Grammy's Angels Love it     2014-03-15  03 15, 2014  "
      ]
     },
     "execution_count": 18,
     "metadata": {},
     "output_type": "execute_result"
    }
   ],
   "source": [
    "df.head()"
   ]
  },
  {
   "cell_type": "markdown",
   "id": "9364e9a1",
   "metadata": {
    "heading_collapsed": true,
    "id": "uoXhvJr9juUG"
   },
   "source": [
    "# PART 1"
   ]
  },
  {
   "cell_type": "code",
   "execution_count": 19,
   "id": "19ecf0db",
   "metadata": {
    "executionInfo": {
     "elapsed": 11,
     "status": "ok",
     "timestamp": 1682192986097,
     "user": {
      "displayName": "Aadil Iliyas Zikre",
      "userId": "11139065713760395341"
     },
     "user_tz": 240
    },
    "hidden": true,
    "id": "r0OyzJKuuSyC"
   },
   "outputs": [],
   "source": [
    "import nltk"
   ]
  },
  {
   "cell_type": "code",
   "execution_count": 20,
   "id": "f4cc22c9",
   "metadata": {
    "colab": {
     "base_uri": "https://localhost:8080/"
    },
    "executionInfo": {
     "elapsed": 554,
     "status": "ok",
     "timestamp": 1682192986641,
     "user": {
      "displayName": "Aadil Iliyas Zikre",
      "userId": "11139065713760395341"
     },
     "user_tz": 240
    },
    "hidden": true,
    "id": "F8V4Cnn4vrdZ",
    "outputId": "bf528667-1d1f-41e1-ef66-d27173fb0446"
   },
   "outputs": [
    {
     "name": "stderr",
     "output_type": "stream",
     "text": [
      "[nltk_data] Downloading package punkt to /root/nltk_data...\n",
      "[nltk_data]   Unzipping tokenizers/punkt.zip.\n",
      "[nltk_data] Downloading package averaged_perceptron_tagger to\n",
      "[nltk_data]     /root/nltk_data...\n",
      "[nltk_data]   Unzipping taggers/averaged_perceptron_tagger.zip.\n",
      "[nltk_data] Downloading package wordnet to /root/nltk_data...\n",
      "[nltk_data] Downloading package omw-1.4 to /root/nltk_data...\n",
      "[nltk_data] Downloading package stopwords to /root/nltk_data...\n",
      "[nltk_data]   Unzipping corpora/stopwords.zip.\n"
     ]
    },
    {
     "data": {
      "text/plain": [
       "True"
      ]
     },
     "execution_count": 20,
     "metadata": {},
     "output_type": "execute_result"
    }
   ],
   "source": [
    "nltk.download('punkt')\n",
    "nltk.download('averaged_perceptron_tagger')\n",
    "nltk.download('wordnet')\n",
    "nltk.download('omw-1.4')\n",
    "nltk.download('stopwords')"
   ]
  },
  {
   "cell_type": "code",
   "execution_count": 21,
   "id": "b21338f4",
   "metadata": {
    "executionInfo": {
     "elapsed": 7,
     "status": "ok",
     "timestamp": 1682192986642,
     "user": {
      "displayName": "Aadil Iliyas Zikre",
      "userId": "11139065713760395341"
     },
     "user_tz": 240
    },
    "hidden": true,
    "id": "k53ZReNpuSvy"
   },
   "outputs": [],
   "source": [
    "df_rev = df[['reviewText']]"
   ]
  },
  {
   "cell_type": "code",
   "execution_count": 22,
   "id": "716255a6",
   "metadata": {
    "executionInfo": {
     "elapsed": 6,
     "status": "ok",
     "timestamp": 1682192986642,
     "user": {
      "displayName": "Aadil Iliyas Zikre",
      "userId": "11139065713760395341"
     },
     "user_tz": 240
    },
    "hidden": true,
    "id": "v8Jh7F1ouStf"
   },
   "outputs": [],
   "source": [
    "# Strategy \n",
    "# do sentense tokenize\n",
    "# adjective words, capital word(s), or exclamation marks Calculate these:\n",
    "# Sum up the columns by groupby on reviewText ID \n",
    "# If the sum is 0, remove reviews \n",
    "# Get Adjective Word List, Bigram List, Capital Word List, Exclaimation Mark "
   ]
  },
  {
   "cell_type": "code",
   "execution_count": 23,
   "id": "62106afc",
   "metadata": {
    "executionInfo": {
     "elapsed": 5,
     "status": "ok",
     "timestamp": 1682192986642,
     "user": {
      "displayName": "Aadil Iliyas Zikre",
      "userId": "11139065713760395341"
     },
     "user_tz": 240
    },
    "hidden": true,
    "id": "wrqrRyl9ETAu"
   },
   "outputs": [],
   "source": [
    "df_rev = df_rev.rename_axis(\"reviewText_ID\", axis = 0).reset_index() # Providing a unique id to each review"
   ]
  },
  {
   "cell_type": "code",
   "execution_count": 24,
   "id": "42f0939b",
   "metadata": {
    "colab": {
     "base_uri": "https://localhost:8080/"
    },
    "executionInfo": {
     "elapsed": 620,
     "status": "ok",
     "timestamp": 1682192987257,
     "user": {
      "displayName": "Aadil Iliyas Zikre",
      "userId": "11139065713760395341"
     },
     "user_tz": 240
    },
    "hidden": true,
    "id": "nE6zAvZtE6bI",
    "outputId": "f5f97e82-79b2-4db9-c4fb-2ef87f232a69"
   },
   "outputs": [
    {
     "name": "stderr",
     "output_type": "stream",
     "text": [
      "100%|██████████| 5000/5000 [00:00<00:00, 7615.15it/s]\n"
     ]
    }
   ],
   "source": [
    "df_rev[\"reviewText_sents\"] = df_rev.reviewText.progress_apply(nltk.sent_tokenize) # segmenting reviews into sentences"
   ]
  },
  {
   "cell_type": "code",
   "execution_count": 25,
   "id": "22946587",
   "metadata": {
    "executionInfo": {
     "elapsed": 11,
     "status": "ok",
     "timestamp": 1682192987257,
     "user": {
      "displayName": "Aadil Iliyas Zikre",
      "userId": "11139065713760395341"
     },
     "user_tz": 240
    },
    "hidden": true,
    "id": "weB_4ruKFX5X"
   },
   "outputs": [],
   "source": [
    "df_rev = df_rev.explode('reviewText_sents') # exploding df such that each row has a sentence"
   ]
  },
  {
   "cell_type": "code",
   "execution_count": 26,
   "id": "5afe117e",
   "metadata": {
    "executionInfo": {
     "elapsed": 9,
     "status": "ok",
     "timestamp": 1682192987257,
     "user": {
      "displayName": "Aadil Iliyas Zikre",
      "userId": "11139065713760395341"
     },
     "user_tz": 240
    },
    "hidden": true,
    "id": "a0yYtEHfHCgM"
   },
   "outputs": [],
   "source": [
    "# function to get list of adjectives from a given sentence\n",
    "def get_adjective_word_list(sentence):\n",
    "  word_list_w_tags = nltk.pos_tag(nltk.word_tokenize(sentence))\n",
    "  return [i for i,j in word_list_w_tags if j in ['JJ', 'JJR', 'JJS']]\n",
    "  # https://www.ling.upenn.edu/courses/Fall_2003/ling001/penn_treebank_pos.html\n",
    "\n",
    "# function to get list of capital words from a given sentence\n",
    "capital_pattern = re.compile(r\"\\b[A-Z]+\\b\")\n",
    "def get_capital_word_list(sentence):\n",
    "  return re.findall(capital_pattern,sentence)\n",
    "\n",
    "# function to say whether a given sentence has exclamation marks\n",
    "def contains_exlamation_mark(sentence):\n",
    "  if \"!\" in sentence:\n",
    "    return 1\n",
    "  return 0\n",
    "\n",
    "# function to get bigrams which have either verbs or adjectives in it\n",
    "# we make the bigrams first, then search for bigrams with Verbs or Adjectives\n",
    "stopwords = nltk.corpus.stopwords.words('english')\n",
    "list_vaid_tags_for_bigrams = ('VB','JJ')\n",
    "def get_bigrams(sentence):\n",
    "  bigrams_list_w_tags = nltk.bigrams(nltk.pos_tag(nltk.word_tokenize(sentence)))\n",
    "  bigrams_list_w_tags = [i for i in bigrams_list_w_tags if (i[0][1].startswith(list_vaid_tags_for_bigrams)) | (i[1][1].startswith(list_vaid_tags_for_bigrams))]\n",
    "  bigrams_list_w_tags = [i for i in bigrams_list_w_tags if (i[0][0].lower() not in stopwords) & (i[1][0].lower() not in stopwords)]\n",
    "  bigrams_list_w_tags = [i for i in bigrams_list_w_tags if (i[0][0] not in punctuation) & (i[1][0] not in punctuation)] \n",
    "  return bigrams_list_w_tags"
   ]
  },
  {
   "cell_type": "code",
   "execution_count": 27,
   "id": "0b979225",
   "metadata": {
    "colab": {
     "base_uri": "https://localhost:8080/"
    },
    "executionInfo": {
     "elapsed": 25229,
     "status": "ok",
     "timestamp": 1682193012477,
     "user": {
      "displayName": "Aadil Iliyas Zikre",
      "userId": "11139065713760395341"
     },
     "user_tz": 240
    },
    "hidden": true,
    "id": "fQ8Cv4UBuSjv",
    "outputId": "a4a7e1d3-54c2-425a-c6cb-deb57d1b195c"
   },
   "outputs": [
    {
     "name": "stderr",
     "output_type": "stream",
     "text": [
      "100%|██████████| 22032/22032 [00:24<00:00, 890.23it/s]\n",
      "100%|██████████| 22032/22032 [00:00<00:00, 99640.73it/s] \n",
      "100%|██████████| 22032/22032 [00:00<00:00, 348741.80it/s]\n"
     ]
    }
   ],
   "source": [
    "df_rev['adjective_words'] = df_rev['reviewText_sents'].progress_apply(get_adjective_word_list)\n",
    "df_rev['capital_words'] = df_rev['reviewText_sents'].progress_apply(get_capital_word_list)\n",
    "df_rev['contains_exclaimation'] = df_rev['reviewText_sents'].progress_apply(contains_exlamation_mark)"
   ]
  },
  {
   "cell_type": "code",
   "execution_count": 28,
   "id": "599be6c7",
   "metadata": {
    "executionInfo": {
     "elapsed": 6,
     "status": "ok",
     "timestamp": 1682193012478,
     "user": {
      "displayName": "Aadil Iliyas Zikre",
      "userId": "11139065713760395341"
     },
     "user_tz": 240
    },
    "hidden": true,
    "id": "haQPbLGNuSb4"
   },
   "outputs": [],
   "source": [
    "# df_rev['capital_tokens'] = df_rev['tokenized_sentence'].progress_apply(lambda x: [i for i in x if re.match(\"^[A-Z]+$\",i)])\n",
    "# df_rev['has_exclaimation'] = df_rev['tokenized_sentence'].progress_apply(lambda x: int(any([i == \"!\" for i in x])))"
   ]
  },
  {
   "cell_type": "code",
   "execution_count": 29,
   "id": "a449ebc1",
   "metadata": {
    "colab": {
     "base_uri": "https://localhost:8080/"
    },
    "executionInfo": {
     "elapsed": 576,
     "status": "ok",
     "timestamp": 1682193013049,
     "user": {
      "displayName": "Aadil Iliyas Zikre",
      "userId": "11139065713760395341"
     },
     "user_tz": 240
    },
    "hidden": true,
    "id": "jKlKTqE-Q0_m",
    "outputId": "dbaf01c3-256f-4bd8-b553-49cd3bdc5dd7"
   },
   "outputs": [
    {
     "name": "stderr",
     "output_type": "stream",
     "text": [
      "100%|██████████| 22032/22032 [00:00<00:00, 44827.49it/s]\n"
     ]
    }
   ],
   "source": [
    "# removing all sentences where the none of the 3 conditions are met \n",
    "df_rev = df_rev[~df_rev.progress_apply(lambda x: True \n",
    "                     if (len(x['adjective_words']) == 0) & (len(x['capital_words']) == 0) & (x['contains_exclaimation'] == 0)\n",
    "                     else False, axis = 1)]"
   ]
  },
  {
   "cell_type": "code",
   "execution_count": 30,
   "id": "3629dd36",
   "metadata": {
    "colab": {
     "base_uri": "https://localhost:8080/"
    },
    "executionInfo": {
     "elapsed": 22716,
     "status": "ok",
     "timestamp": 1682193035750,
     "user": {
      "displayName": "Aadil Iliyas Zikre",
      "userId": "11139065713760395341"
     },
     "user_tz": 240
    },
    "hidden": true,
    "id": "vpmk3BATauux",
    "outputId": "42b04b6a-66fa-486d-b041-112abbbdc750"
   },
   "outputs": [
    {
     "name": "stderr",
     "output_type": "stream",
     "text": [
      "100%|██████████| 19209/19209 [00:22<00:00, 853.14it/s]\n"
     ]
    }
   ],
   "source": [
    "df_rev['bigram_list_vb_adj'] = df_rev['reviewText_sents'].progress_apply(get_bigrams)"
   ]
  },
  {
   "cell_type": "code",
   "execution_count": 31,
   "id": "c6292075",
   "metadata": {
    "executionInfo": {
     "elapsed": 1717,
     "status": "ok",
     "timestamp": 1682193037449,
     "user": {
      "displayName": "Aadil Iliyas Zikre",
      "userId": "11139065713760395341"
     },
     "user_tz": 240
    },
    "hidden": true,
    "id": "D-9Cj_nCU9wm"
   },
   "outputs": [],
   "source": [
    "all_adjectives = list(chain(*df_rev.adjective_words)) # Concatenating all adjective lists to get one list\n",
    "all_bigrams = list(chain(*df_rev.bigram_list_vb_adj)) # Concatenating all bigrams lists to get one list\n",
    "all_bigrams = [(i[0][0], i[1][0]) for i in all_bigrams] # taking out words from bigrams which are word,pos_tag pairs\n",
    "all_bigrams = [(lemmatizer.lemmatize(i[0]), lemmatizer.lemmatize(i[1])) for i in all_bigrams] # Lemmatizing to see the words clearly "
   ]
  },
  {
   "cell_type": "code",
   "execution_count": 32,
   "id": "8c88ae62",
   "metadata": {
    "colab": {
     "base_uri": "https://localhost:8080/"
    },
    "executionInfo": {
     "elapsed": 379,
     "status": "ok",
     "timestamp": 1682193037820,
     "user": {
      "displayName": "Aadil Iliyas Zikre",
      "userId": "11139065713760395341"
     },
     "user_tz": 240
    },
    "hidden": true,
    "id": "MOYx51YKeauU",
    "outputId": "caec3a10-a38d-40a6-aa82-5e2ec637e812"
   },
   "outputs": [
    {
     "name": "stderr",
     "output_type": "stream",
     "text": [
      "100%|██████████| 19209/19209 [00:00<00:00, 412456.28it/s]\n",
      "100%|██████████| 19209/19209 [00:00<00:00, 419860.99it/s]\n",
      "100%|██████████| 19209/19209 [00:00<00:00, 381161.46it/s]\n",
      "100%|██████████| 19209/19209 [00:00<00:00, 351785.53it/s]\n"
     ]
    }
   ],
   "source": [
    "# calculation of length for various lists and strings\n",
    "df_rev[\"reviewText_sent_len\"] = df_rev[\"reviewText_sents\"].progress_apply(len)\n",
    "df_rev[\"bigrams_list_len\"] = df_rev[\"bigram_list_vb_adj\"].progress_apply(len)\n",
    "df_rev[\"adjective_words_len\"] = df_rev[\"adjective_words\"].progress_apply(len)\n",
    "df_rev[\"capital_words_len\"] = df_rev[\"capital_words\"].progress_apply(len)"
   ]
  },
  {
   "cell_type": "code",
   "execution_count": 33,
   "id": "47317a7e",
   "metadata": {
    "colab": {
     "base_uri": "https://localhost:8080/",
     "height": 300
    },
    "executionInfo": {
     "elapsed": 21,
     "status": "ok",
     "timestamp": 1682193037821,
     "user": {
      "displayName": "Aadil Iliyas Zikre",
      "userId": "11139065713760395341"
     },
     "user_tz": 240
    },
    "hidden": true,
    "id": "Tb1DbeLSfNfZ",
    "outputId": "023f3bde-30c9-4c47-ddce-f713a013da3d"
   },
   "outputs": [
    {
     "data": {
      "text/html": [
       "\n",
       "  <div id=\"df-533fee48-33b9-44c5-a079-ded6702e85a1\">\n",
       "    <div class=\"colab-df-container\">\n",
       "      <div>\n",
       "<style scoped>\n",
       "    .dataframe tbody tr th:only-of-type {\n",
       "        vertical-align: middle;\n",
       "    }\n",
       "\n",
       "    .dataframe tbody tr th {\n",
       "        vertical-align: top;\n",
       "    }\n",
       "\n",
       "    .dataframe thead th {\n",
       "        text-align: right;\n",
       "    }\n",
       "</style>\n",
       "<table border=\"1\" class=\"dataframe\">\n",
       "  <thead>\n",
       "    <tr style=\"text-align: right;\">\n",
       "      <th></th>\n",
       "      <th>reviewText_sent_len</th>\n",
       "      <th>bigrams_list_len</th>\n",
       "      <th>adjective_words_len</th>\n",
       "      <th>capital_words_len</th>\n",
       "    </tr>\n",
       "  </thead>\n",
       "  <tbody>\n",
       "    <tr>\n",
       "      <th>count</th>\n",
       "      <td>19209.000000</td>\n",
       "      <td>19209.000000</td>\n",
       "      <td>19209.000000</td>\n",
       "      <td>19209.000000</td>\n",
       "    </tr>\n",
       "    <tr>\n",
       "      <th>mean</th>\n",
       "      <td>81.744911</td>\n",
       "      <td>1.954240</td>\n",
       "      <td>1.645947</td>\n",
       "      <td>0.900672</td>\n",
       "    </tr>\n",
       "    <tr>\n",
       "      <th>std</th>\n",
       "      <td>60.887768</td>\n",
       "      <td>1.932438</td>\n",
       "      <td>1.484599</td>\n",
       "      <td>2.198032</td>\n",
       "    </tr>\n",
       "    <tr>\n",
       "      <th>min</th>\n",
       "      <td>1.000000</td>\n",
       "      <td>0.000000</td>\n",
       "      <td>0.000000</td>\n",
       "      <td>0.000000</td>\n",
       "    </tr>\n",
       "    <tr>\n",
       "      <th>25%</th>\n",
       "      <td>44.000000</td>\n",
       "      <td>1.000000</td>\n",
       "      <td>1.000000</td>\n",
       "      <td>0.000000</td>\n",
       "    </tr>\n",
       "    <tr>\n",
       "      <th>50%</th>\n",
       "      <td>68.000000</td>\n",
       "      <td>2.000000</td>\n",
       "      <td>1.000000</td>\n",
       "      <td>1.000000</td>\n",
       "    </tr>\n",
       "    <tr>\n",
       "      <th>75%</th>\n",
       "      <td>103.000000</td>\n",
       "      <td>3.000000</td>\n",
       "      <td>2.000000</td>\n",
       "      <td>1.000000</td>\n",
       "    </tr>\n",
       "    <tr>\n",
       "      <th>max</th>\n",
       "      <td>1178.000000</td>\n",
       "      <td>32.000000</td>\n",
       "      <td>32.000000</td>\n",
       "      <td>180.000000</td>\n",
       "    </tr>\n",
       "  </tbody>\n",
       "</table>\n",
       "</div>\n",
       "      <button class=\"colab-df-convert\" onclick=\"convertToInteractive('df-533fee48-33b9-44c5-a079-ded6702e85a1')\"\n",
       "              title=\"Convert this dataframe to an interactive table.\"\n",
       "              style=\"display:none;\">\n",
       "        \n",
       "  <svg xmlns=\"http://www.w3.org/2000/svg\" height=\"24px\"viewBox=\"0 0 24 24\"\n",
       "       width=\"24px\">\n",
       "    <path d=\"M0 0h24v24H0V0z\" fill=\"none\"/>\n",
       "    <path d=\"M18.56 5.44l.94 2.06.94-2.06 2.06-.94-2.06-.94-.94-2.06-.94 2.06-2.06.94zm-11 1L8.5 8.5l.94-2.06 2.06-.94-2.06-.94L8.5 2.5l-.94 2.06-2.06.94zm10 10l.94 2.06.94-2.06 2.06-.94-2.06-.94-.94-2.06-.94 2.06-2.06.94z\"/><path d=\"M17.41 7.96l-1.37-1.37c-.4-.4-.92-.59-1.43-.59-.52 0-1.04.2-1.43.59L10.3 9.45l-7.72 7.72c-.78.78-.78 2.05 0 2.83L4 21.41c.39.39.9.59 1.41.59.51 0 1.02-.2 1.41-.59l7.78-7.78 2.81-2.81c.8-.78.8-2.07 0-2.86zM5.41 20L4 18.59l7.72-7.72 1.47 1.35L5.41 20z\"/>\n",
       "  </svg>\n",
       "      </button>\n",
       "      \n",
       "  <style>\n",
       "    .colab-df-container {\n",
       "      display:flex;\n",
       "      flex-wrap:wrap;\n",
       "      gap: 12px;\n",
       "    }\n",
       "\n",
       "    .colab-df-convert {\n",
       "      background-color: #E8F0FE;\n",
       "      border: none;\n",
       "      border-radius: 50%;\n",
       "      cursor: pointer;\n",
       "      display: none;\n",
       "      fill: #1967D2;\n",
       "      height: 32px;\n",
       "      padding: 0 0 0 0;\n",
       "      width: 32px;\n",
       "    }\n",
       "\n",
       "    .colab-df-convert:hover {\n",
       "      background-color: #E2EBFA;\n",
       "      box-shadow: 0px 1px 2px rgba(60, 64, 67, 0.3), 0px 1px 3px 1px rgba(60, 64, 67, 0.15);\n",
       "      fill: #174EA6;\n",
       "    }\n",
       "\n",
       "    [theme=dark] .colab-df-convert {\n",
       "      background-color: #3B4455;\n",
       "      fill: #D2E3FC;\n",
       "    }\n",
       "\n",
       "    [theme=dark] .colab-df-convert:hover {\n",
       "      background-color: #434B5C;\n",
       "      box-shadow: 0px 1px 3px 1px rgba(0, 0, 0, 0.15);\n",
       "      filter: drop-shadow(0px 1px 2px rgba(0, 0, 0, 0.3));\n",
       "      fill: #FFFFFF;\n",
       "    }\n",
       "  </style>\n",
       "\n",
       "      <script>\n",
       "        const buttonEl =\n",
       "          document.querySelector('#df-533fee48-33b9-44c5-a079-ded6702e85a1 button.colab-df-convert');\n",
       "        buttonEl.style.display =\n",
       "          google.colab.kernel.accessAllowed ? 'block' : 'none';\n",
       "\n",
       "        async function convertToInteractive(key) {\n",
       "          const element = document.querySelector('#df-533fee48-33b9-44c5-a079-ded6702e85a1');\n",
       "          const dataTable =\n",
       "            await google.colab.kernel.invokeFunction('convertToInteractive',\n",
       "                                                     [key], {});\n",
       "          if (!dataTable) return;\n",
       "\n",
       "          const docLinkHtml = 'Like what you see? Visit the ' +\n",
       "            '<a target=\"_blank\" href=https://colab.research.google.com/notebooks/data_table.ipynb>data table notebook</a>'\n",
       "            + ' to learn more about interactive tables.';\n",
       "          element.innerHTML = '';\n",
       "          dataTable['output_type'] = 'display_data';\n",
       "          await google.colab.output.renderOutput(dataTable, element);\n",
       "          const docLink = document.createElement('div');\n",
       "          docLink.innerHTML = docLinkHtml;\n",
       "          element.appendChild(docLink);\n",
       "        }\n",
       "      </script>\n",
       "    </div>\n",
       "  </div>\n",
       "  "
      ],
      "text/plain": [
       "       reviewText_sent_len  bigrams_list_len  adjective_words_len  \\\n",
       "count         19209.000000      19209.000000         19209.000000   \n",
       "mean             81.744911          1.954240             1.645947   \n",
       "std              60.887768          1.932438             1.484599   \n",
       "min               1.000000          0.000000             0.000000   \n",
       "25%              44.000000          1.000000             1.000000   \n",
       "50%              68.000000          2.000000             1.000000   \n",
       "75%             103.000000          3.000000             2.000000   \n",
       "max            1178.000000         32.000000            32.000000   \n",
       "\n",
       "       capital_words_len  \n",
       "count       19209.000000  \n",
       "mean            0.900672  \n",
       "std             2.198032  \n",
       "min             0.000000  \n",
       "25%             0.000000  \n",
       "50%             1.000000  \n",
       "75%             1.000000  \n",
       "max           180.000000  "
      ]
     },
     "execution_count": 33,
     "metadata": {},
     "output_type": "execute_result"
    }
   ],
   "source": [
    "df_rev[['reviewText_sent_len', 'bigrams_list_len', 'adjective_words_len','capital_words_len']].describe() # descriptive statistics on lengths obtained"
   ]
  },
  {
   "cell_type": "code",
   "execution_count": 34,
   "id": "828dae9d",
   "metadata": {
    "colab": {
     "base_uri": "https://localhost:8080/",
     "height": 124
    },
    "executionInfo": {
     "elapsed": 23,
     "status": "ok",
     "timestamp": 1682193037826,
     "user": {
      "displayName": "Aadil Iliyas Zikre",
      "userId": "11139065713760395341"
     },
     "user_tz": 240
    },
    "hidden": true,
    "id": "B7ujN96wfi6P",
    "outputId": "a9c51dd8-ce3b-4bd0-e1c5-aec8620bde6d"
   },
   "outputs": [
    {
     "data": {
      "text/plain": [
       "0    17199\n",
       "1     2010\n",
       "Name: contains_exclaimation, dtype: int64"
      ]
     },
     "metadata": {},
     "output_type": "display_data"
    },
    {
     "data": {
      "text/plain": [
       "0    89.536155\n",
       "1    10.463845\n",
       "Name: contains_exclaimation, dtype: float64"
      ]
     },
     "metadata": {},
     "output_type": "display_data"
    }
   ],
   "source": [
    "display(df_rev.contains_exclaimation.value_counts()) # In absolute counts\n",
    "display(df_rev.contains_exclaimation.value_counts(normalize = True) * 100) # In Percentages"
   ]
  },
  {
   "cell_type": "code",
   "execution_count": 35,
   "id": "57c6b25d",
   "metadata": {
    "executionInfo": {
     "elapsed": 407,
     "status": "ok",
     "timestamp": 1682193038211,
     "user": {
      "displayName": "Aadil Iliyas Zikre",
      "userId": "11139065713760395341"
     },
     "user_tz": 240
    },
    "hidden": true,
    "id": "VGdbUW7Ob0No"
   },
   "outputs": [],
   "source": [
    "freq_adjectives = nltk.FreqDist(all_adjectives) # initializing for all adjective list "
   ]
  },
  {
   "cell_type": "code",
   "execution_count": 36,
   "id": "c2c52f13",
   "metadata": {
    "colab": {
     "base_uri": "https://localhost:8080/"
    },
    "executionInfo": {
     "elapsed": 18,
     "status": "ok",
     "timestamp": 1682193038211,
     "user": {
      "displayName": "Aadil Iliyas Zikre",
      "userId": "11139065713760395341"
     },
     "user_tz": 240
    },
    "hidden": true,
    "id": "XcqqXKvHb99T",
    "outputId": "a024582d-2f70-459a-cbdc-d3388fc02a99"
   },
   "outputs": [
    {
     "data": {
      "text/plain": [
       "[('great', 1180),\n",
       " ('good', 1105),\n",
       " ('comfortable', 1081),\n",
       " ('other', 679),\n",
       " ('little', 661),\n",
       " ('nice', 531),\n",
       " ('more', 495),\n",
       " ('small', 432),\n",
       " ('perfect', 425),\n",
       " ('last', 365),\n",
       " ('big', 359),\n",
       " ('long', 326),\n",
       " ('much', 315),\n",
       " ('same', 298),\n",
       " ('large', 294),\n",
       " ('few', 287),\n",
       " ('many', 285),\n",
       " ('best', 282),\n",
       " ('first', 278),\n",
       " ('better', 255),\n",
       " ('easy', 249),\n",
       " ('different', 249),\n",
       " ('new', 248),\n",
       " ('old', 245),\n",
       " ('happy', 230),\n",
       " ('only', 229),\n",
       " ('right', 225),\n",
       " ('black', 217),\n",
       " ('high', 210),\n",
       " ('larger', 200),\n",
       " ('durable', 200),\n",
       " ('several', 196),\n",
       " ('sure', 194),\n",
       " ('smaller', 194),\n",
       " ('hard', 189),\n",
       " ('fit', 189),\n",
       " ('thin', 184),\n",
       " ('tight', 181),\n",
       " ('warm', 180),\n",
       " ('true', 178),\n",
       " ('most', 177),\n",
       " ('soft', 163),\n",
       " ('light', 154),\n",
       " ('wide', 149),\n",
       " ('short', 143),\n",
       " ('fine', 137),\n",
       " ('heavy', 133),\n",
       " ('able', 129),\n",
       " ('second', 125),\n",
       " ('Good', 124)]"
      ]
     },
     "execution_count": 36,
     "metadata": {},
     "output_type": "execute_result"
    }
   ],
   "source": [
    "freq_adjectives.most_common(50) # top 50 adjectives"
   ]
  },
  {
   "cell_type": "code",
   "execution_count": 37,
   "id": "79ef94db",
   "metadata": {
    "executionInfo": {
     "elapsed": 10,
     "status": "ok",
     "timestamp": 1682193038211,
     "user": {
      "displayName": "Aadil Iliyas Zikre",
      "userId": "11139065713760395341"
     },
     "user_tz": 240
    },
    "hidden": true,
    "id": "WpekJyPidQZj"
   },
   "outputs": [],
   "source": [
    "freq_bigrams = nltk.FreqDist(all_bigrams) "
   ]
  },
  {
   "cell_type": "code",
   "execution_count": 38,
   "id": "05452eea",
   "metadata": {
    "colab": {
     "base_uri": "https://localhost:8080/"
    },
    "executionInfo": {
     "elapsed": 11,
     "status": "ok",
     "timestamp": 1682193038212,
     "user": {
      "displayName": "Aadil Iliyas Zikre",
      "userId": "11139065713760395341"
     },
     "user_tz": 240
    },
    "hidden": true,
    "id": "sPRifgFGcJSc",
    "outputId": "d26800e0-b264-423b-9cf3-946c1fe17608"
   },
   "outputs": [
    {
     "data": {
      "text/plain": [
       "[(('well', 'made'), 110),\n",
       " (('look', 'great'), 104),\n",
       " (('fit', 'great'), 101),\n",
       " (('long', 'time'), 100),\n",
       " (('good', 'quality'), 100),\n",
       " (('look', 'good'), 94),\n",
       " (('feel', 'like'), 86),\n",
       " (('year', 'old'), 84),\n",
       " (('fit', 'well'), 84),\n",
       " (('highly', 'recommend'), 81),\n",
       " (('would', 'recommend'), 80),\n",
       " (('look', 'like'), 76),\n",
       " (('fit', 'perfectly'), 70),\n",
       " ((\"n't\", 'know'), 63),\n",
       " ((\"n't\", 'like'), 60),\n",
       " (('different', 'color'), 58),\n",
       " (('size', 'larger'), 56),\n",
       " (('normally', 'wear'), 54),\n",
       " (('right', 'size'), 50),\n",
       " ((\"n't\", 'get'), 49),\n",
       " ((\"n't\", 'wear'), 48),\n",
       " (('little', 'bit'), 47),\n",
       " ((\"n't\", 'want'), 47),\n",
       " ((\"'ve\", 'worn'), 46),\n",
       " (('many', 'year'), 45),\n",
       " (('high', 'quality'), 43),\n",
       " (('perfect', 'fit'), 43),\n",
       " (('size', 'smaller'), 43),\n",
       " ((\"n't\", 'think'), 42),\n",
       " ((\"'ve\", 'ever'), 42),\n",
       " (('much', 'better'), 42),\n",
       " (('go', 'wrong'), 42),\n",
       " (('first', 'time'), 40),\n",
       " (('light', 'weight'), 40),\n",
       " ((\"n't\", 'go'), 40),\n",
       " ((\"n't\", 'feel'), 40),\n",
       " (('usually', 'wear'), 39),\n",
       " (('first', 'pair'), 37),\n",
       " (('feel', 'great'), 37),\n",
       " (('great', 'price'), 36),\n",
       " ((\"'ve\", 'tried'), 35),\n",
       " (('larger', 'size'), 35),\n",
       " (('ever', 'worn'), 34),\n",
       " (('make', 'sure'), 33),\n",
       " (('work', 'great'), 33),\n",
       " (('good', 'fit'), 33),\n",
       " (('second', 'pair'), 33),\n",
       " (('would', 'buy'), 33),\n",
       " (('really', 'good'), 32),\n",
       " (('good', 'support'), 32)]"
      ]
     },
     "execution_count": 38,
     "metadata": {},
     "output_type": "execute_result"
    }
   ],
   "source": [
    "freq_bigrams.most_common(50) # top 50 bigrams\n",
    "\n",
    "## ANALYSIS : Most of the bigrams denote a positive sentiment and it is to be expected because we have very few low rated reviews.\n",
    "# We can see that the most frequently occuring bigram is well made, which is good for the sales. Fourth Bigram that says long time \n",
    "# could be positive in the sense that the customers could use it for a long time but it may be bad if that is in relation to delivery\n",
    "# times. Then we have bigrams like highly recommend and would recommend which are agian good news for the business. "
   ]
  },
  {
   "cell_type": "code",
   "execution_count": 39,
   "id": "2f83b823",
   "metadata": {
    "colab": {
     "base_uri": "https://localhost:8080/",
     "height": 459
    },
    "executionInfo": {
     "elapsed": 1491,
     "status": "ok",
     "timestamp": 1682193039696,
     "user": {
      "displayName": "Aadil Iliyas Zikre",
      "userId": "11139065713760395341"
     },
     "user_tz": 240
    },
    "hidden": true,
    "id": "OYQKG-Xqf5op",
    "outputId": "d72fcf23-6232-46ff-93bf-988adcf52f6e"
   },
   "outputs": [
    {
     "name": "stderr",
     "output_type": "stream",
     "text": [
      "100%|██████████| 19209/19209 [00:00<00:00, 396652.17it/s]\n",
      "100%|██████████| 19209/19209 [00:00<00:00, 419454.42it/s]\n"
     ]
    },
    {
     "data": {
      "text/html": [
       "\n",
       "  <div id=\"df-73c05e45-8e66-4551-bab4-c03a01009a63\">\n",
       "    <div class=\"colab-df-container\">\n",
       "      <div>\n",
       "<style scoped>\n",
       "    .dataframe tbody tr th:only-of-type {\n",
       "        vertical-align: middle;\n",
       "    }\n",
       "\n",
       "    .dataframe tbody tr th {\n",
       "        vertical-align: top;\n",
       "    }\n",
       "\n",
       "    .dataframe thead th {\n",
       "        text-align: right;\n",
       "    }\n",
       "</style>\n",
       "<table border=\"1\" class=\"dataframe\">\n",
       "  <thead>\n",
       "    <tr style=\"text-align: right;\">\n",
       "      <th></th>\n",
       "      <th>reviewText_ID</th>\n",
       "      <th>reviewText</th>\n",
       "      <th>reviewText_sents</th>\n",
       "      <th>reviewText_sent_len</th>\n",
       "      <th>adjective_words</th>\n",
       "      <th>bigram_list_vb_adj</th>\n",
       "      <th>capital_words</th>\n",
       "      <th>contains_exclaimation</th>\n",
       "    </tr>\n",
       "  </thead>\n",
       "  <tbody>\n",
       "    <tr>\n",
       "      <th>0</th>\n",
       "      <td>0</td>\n",
       "      <td>This is a great tutu and at a really great pri...</td>\n",
       "      <td>This is a great tutu and at a really great price.</td>\n",
       "      <td>49</td>\n",
       "      <td>[great, great]</td>\n",
       "      <td>[((great, JJ), (tutu, NN)), ((really, RB), (gr...</td>\n",
       "      <td>0</td>\n",
       "      <td>0</td>\n",
       "    </tr>\n",
       "    <tr>\n",
       "      <th>0</th>\n",
       "      <td>0</td>\n",
       "      <td>This is a great tutu and at a really great pri...</td>\n",
       "      <td>It doesn't look cheap at all.</td>\n",
       "      <td>29</td>\n",
       "      <td>[cheap]</td>\n",
       "      <td>[((n't, RB), (look, VB)), ((look, VB), (cheap,...</td>\n",
       "      <td>0</td>\n",
       "      <td>0</td>\n",
       "    </tr>\n",
       "    <tr>\n",
       "      <th>0</th>\n",
       "      <td>0</td>\n",
       "      <td>This is a great tutu and at a really great pri...</td>\n",
       "      <td>I'm so glad I looked on Amazon and found such ...</td>\n",
       "      <td>88</td>\n",
       "      <td>[glad, affordable]</td>\n",
       "      <td>[((affordable, JJ), (tutu, NN)), ((n't, RB), (...</td>\n",
       "      <td>[I, I]</td>\n",
       "      <td>0</td>\n",
       "    </tr>\n",
       "    <tr>\n",
       "      <th>0</th>\n",
       "      <td>0</td>\n",
       "      <td>This is a great tutu and at a really great pri...</td>\n",
       "      <td>A++</td>\n",
       "      <td>3</td>\n",
       "      <td>0</td>\n",
       "      <td>[]</td>\n",
       "      <td>[A]</td>\n",
       "      <td>0</td>\n",
       "    </tr>\n",
       "    <tr>\n",
       "      <th>1</th>\n",
       "      <td>1</td>\n",
       "      <td>I bought this for my 4 yr old daughter for dan...</td>\n",
       "      <td>I bought this for my 4 yr old daughter for dan...</td>\n",
       "      <td>133</td>\n",
       "      <td>[old, first, adorable]</td>\n",
       "      <td>[((yr, RB), (old, JJ)), ((old, JJ), (daughter,...</td>\n",
       "      <td>[I]</td>\n",
       "      <td>0</td>\n",
       "    </tr>\n",
       "  </tbody>\n",
       "</table>\n",
       "</div>\n",
       "      <button class=\"colab-df-convert\" onclick=\"convertToInteractive('df-73c05e45-8e66-4551-bab4-c03a01009a63')\"\n",
       "              title=\"Convert this dataframe to an interactive table.\"\n",
       "              style=\"display:none;\">\n",
       "        \n",
       "  <svg xmlns=\"http://www.w3.org/2000/svg\" height=\"24px\"viewBox=\"0 0 24 24\"\n",
       "       width=\"24px\">\n",
       "    <path d=\"M0 0h24v24H0V0z\" fill=\"none\"/>\n",
       "    <path d=\"M18.56 5.44l.94 2.06.94-2.06 2.06-.94-2.06-.94-.94-2.06-.94 2.06-2.06.94zm-11 1L8.5 8.5l.94-2.06 2.06-.94-2.06-.94L8.5 2.5l-.94 2.06-2.06.94zm10 10l.94 2.06.94-2.06 2.06-.94-2.06-.94-.94-2.06-.94 2.06-2.06.94z\"/><path d=\"M17.41 7.96l-1.37-1.37c-.4-.4-.92-.59-1.43-.59-.52 0-1.04.2-1.43.59L10.3 9.45l-7.72 7.72c-.78.78-.78 2.05 0 2.83L4 21.41c.39.39.9.59 1.41.59.51 0 1.02-.2 1.41-.59l7.78-7.78 2.81-2.81c.8-.78.8-2.07 0-2.86zM5.41 20L4 18.59l7.72-7.72 1.47 1.35L5.41 20z\"/>\n",
       "  </svg>\n",
       "      </button>\n",
       "      \n",
       "  <style>\n",
       "    .colab-df-container {\n",
       "      display:flex;\n",
       "      flex-wrap:wrap;\n",
       "      gap: 12px;\n",
       "    }\n",
       "\n",
       "    .colab-df-convert {\n",
       "      background-color: #E8F0FE;\n",
       "      border: none;\n",
       "      border-radius: 50%;\n",
       "      cursor: pointer;\n",
       "      display: none;\n",
       "      fill: #1967D2;\n",
       "      height: 32px;\n",
       "      padding: 0 0 0 0;\n",
       "      width: 32px;\n",
       "    }\n",
       "\n",
       "    .colab-df-convert:hover {\n",
       "      background-color: #E2EBFA;\n",
       "      box-shadow: 0px 1px 2px rgba(60, 64, 67, 0.3), 0px 1px 3px 1px rgba(60, 64, 67, 0.15);\n",
       "      fill: #174EA6;\n",
       "    }\n",
       "\n",
       "    [theme=dark] .colab-df-convert {\n",
       "      background-color: #3B4455;\n",
       "      fill: #D2E3FC;\n",
       "    }\n",
       "\n",
       "    [theme=dark] .colab-df-convert:hover {\n",
       "      background-color: #434B5C;\n",
       "      box-shadow: 0px 1px 3px 1px rgba(0, 0, 0, 0.15);\n",
       "      filter: drop-shadow(0px 1px 2px rgba(0, 0, 0, 0.3));\n",
       "      fill: #FFFFFF;\n",
       "    }\n",
       "  </style>\n",
       "\n",
       "      <script>\n",
       "        const buttonEl =\n",
       "          document.querySelector('#df-73c05e45-8e66-4551-bab4-c03a01009a63 button.colab-df-convert');\n",
       "        buttonEl.style.display =\n",
       "          google.colab.kernel.accessAllowed ? 'block' : 'none';\n",
       "\n",
       "        async function convertToInteractive(key) {\n",
       "          const element = document.querySelector('#df-73c05e45-8e66-4551-bab4-c03a01009a63');\n",
       "          const dataTable =\n",
       "            await google.colab.kernel.invokeFunction('convertToInteractive',\n",
       "                                                     [key], {});\n",
       "          if (!dataTable) return;\n",
       "\n",
       "          const docLinkHtml = 'Like what you see? Visit the ' +\n",
       "            '<a target=\"_blank\" href=https://colab.research.google.com/notebooks/data_table.ipynb>data table notebook</a>'\n",
       "            + ' to learn more about interactive tables.';\n",
       "          element.innerHTML = '';\n",
       "          dataTable['output_type'] = 'display_data';\n",
       "          await google.colab.output.renderOutput(dataTable, element);\n",
       "          const docLink = document.createElement('div');\n",
       "          docLink.innerHTML = docLinkHtml;\n",
       "          element.appendChild(docLink);\n",
       "        }\n",
       "      </script>\n",
       "    </div>\n",
       "  </div>\n",
       "  "
      ],
      "text/plain": [
       "   reviewText_ID                                         reviewText  \\\n",
       "0              0  This is a great tutu and at a really great pri...   \n",
       "0              0  This is a great tutu and at a really great pri...   \n",
       "0              0  This is a great tutu and at a really great pri...   \n",
       "0              0  This is a great tutu and at a really great pri...   \n",
       "1              1  I bought this for my 4 yr old daughter for dan...   \n",
       "\n",
       "                                    reviewText_sents  reviewText_sent_len  \\\n",
       "0  This is a great tutu and at a really great price.                   49   \n",
       "0                      It doesn't look cheap at all.                   29   \n",
       "0  I'm so glad I looked on Amazon and found such ...                   88   \n",
       "0                                                A++                    3   \n",
       "1  I bought this for my 4 yr old daughter for dan...                  133   \n",
       "\n",
       "          adjective_words                                 bigram_list_vb_adj  \\\n",
       "0          [great, great]  [((great, JJ), (tutu, NN)), ((really, RB), (gr...   \n",
       "0                 [cheap]  [((n't, RB), (look, VB)), ((look, VB), (cheap,...   \n",
       "0      [glad, affordable]  [((affordable, JJ), (tutu, NN)), ((n't, RB), (...   \n",
       "0                       0                                                 []   \n",
       "1  [old, first, adorable]  [((yr, RB), (old, JJ)), ((old, JJ), (daughter,...   \n",
       "\n",
       "  capital_words  contains_exclaimation  \n",
       "0             0                      0  \n",
       "0             0                      0  \n",
       "0        [I, I]                      0  \n",
       "0           [A]                      0  \n",
       "1           [I]                      0  "
      ]
     },
     "execution_count": 39,
     "metadata": {},
     "output_type": "execute_result"
    }
   ],
   "source": [
    "file_path = \"/content/drive/MyDrive/Syracuse University/IST 664 Natural Language Processing/Assignment 2\" # Please change this path as per your drive.\n",
    "file_name = \"aadil_zikre_assignment_2_first_part_file.csv\"\n",
    "\n",
    "cols_to_export = ['reviewText_ID', 'reviewText', 'reviewText_sents', 'reviewText_sent_len', \n",
    "                  'adjective_words', 'bigram_list_vb_adj', 'capital_words', 'contains_exclaimation']\n",
    "df_final = df_rev[cols_to_export].copy()\n",
    "df_final['adjective_words'] = df_final['adjective_words'].progress_apply(lambda x: x if x else 0)\n",
    "df_final['capital_words'] = df_final['capital_words'].progress_apply(lambda x: x if x else 0)\n",
    "df_final.to_csv(f\"{file_path}/{file_name}\", index = False)\n",
    "df_final.head()"
   ]
  },
  {
   "cell_type": "markdown",
   "id": "1d1187ba",
   "metadata": {
    "heading_collapsed": true,
    "id": "kBDAYENbj36K"
   },
   "source": [
    "# PART 2\n",
    "\n",
    "I have done the modelling on the dataset , the sentence polarity corpus. \n",
    "\n",
    "My first model produced higher accuracy as well higher recall for both categories, so I decided to go ahead with that for the final predictions for the actual reviewText dataset. \n",
    "\n",
    "Features used for the first model:\n",
    " Most common 2000 words occuring in the corpus after removing stop words and puncutaions only words from the corpus. <br>\n",
    "Features used in the second model:\n",
    " I took the most common 2000 words again but this time I also did lemmatization along with removal of stop words and punctuations only words. I also handled negation here. "
   ]
  },
  {
   "cell_type": "code",
   "execution_count": 40,
   "id": "ffc9d109",
   "metadata": {
    "colab": {
     "base_uri": "https://localhost:8080/"
    },
    "executionInfo": {
     "elapsed": 743,
     "status": "ok",
     "timestamp": 1682193040433,
     "user": {
      "displayName": "Aadil Iliyas Zikre",
      "userId": "11139065713760395341"
     },
     "user_tz": 240
    },
    "hidden": true,
    "id": "SQx_uJtb1W6Z",
    "outputId": "e0b5132b-4793-4aef-d5cb-3d6d27590e43"
   },
   "outputs": [
    {
     "name": "stderr",
     "output_type": "stream",
     "text": [
      "[nltk_data] Downloading package sentence_polarity to\n",
      "[nltk_data]     /root/nltk_data...\n",
      "[nltk_data]   Unzipping corpora/sentence_polarity.zip.\n"
     ]
    },
    {
     "name": "stdout",
     "output_type": "stream",
     "text": [
      "10662\n",
      "['neg', 'pos']\n",
      "['simplistic', ',', 'silly', 'and', 'tedious', '.']\n",
      "[\"it's\", 'so', 'laddish', 'and', 'juvenile', ',', 'only', 'teenage', 'boys', 'could', 'possibly', 'find', 'it', 'funny', '.']\n",
      "['exploitative', 'and', 'largely', 'devoid', 'of', 'the', 'depth', 'or', 'sophistication', 'that', 'would', 'make', 'watching', 'such', 'a', 'graphic', 'treatment', 'of', 'the', 'crimes', 'bearable', '.']\n",
      "['[garbus]', 'discards', 'the', 'potential', 'for', 'pathological', 'study', ',', 'exhuming', 'instead', ',', 'the', 'skewed', 'melodrama', 'of', 'the', 'circumstantial', 'situation', '.']\n",
      "5331\n",
      "5331\n"
     ]
    }
   ],
   "source": [
    "import nltk\n",
    "nltk.download('sentence_polarity')\n",
    "from nltk.corpus import sentence_polarity\n",
    "import random\n",
    "\n",
    "sentences = sentence_polarity.sents()\n",
    "print(len(sentences))\n",
    "print(sentence_polarity.categories())\n",
    "\n",
    "for sent in sentences[:4]:\n",
    "    print(sent)\n",
    "\n",
    "pos_sents = sentence_polarity.sents(categories='pos') # accumulating positive sentences\n",
    "print(len(pos_sents)) # total positive sentences\n",
    "neg_sents = sentence_polarity.sents(categories='neg') # accumulating negative sentences\n",
    "print(len(neg_sents)) # total negative sentences"
   ]
  },
  {
   "cell_type": "code",
   "execution_count": 41,
   "id": "31bdb397",
   "metadata": {
    "colab": {
     "base_uri": "https://localhost:8080/"
    },
    "executionInfo": {
     "elapsed": 183,
     "status": "ok",
     "timestamp": 1682193040612,
     "user": {
      "displayName": "Aadil Iliyas Zikre",
      "userId": "11139065713760395341"
     },
     "user_tz": 240
    },
    "hidden": true,
    "id": "N_GIS7cDj3Jh",
    "outputId": "f5f4e141-bbad-4579-a824-15417cdb69a6"
   },
   "outputs": [
    {
     "name": "stdout",
     "output_type": "stream",
     "text": [
      "(['simplistic', ',', 'silly', 'and', 'tedious', '.'], 'neg')\n",
      "([\"it's\", 'so', 'laddish', 'and', 'juvenile', ',', 'only', 'teenage', 'boys', 'could', 'possibly', 'find', 'it', 'funny', '.'], 'neg')\n",
      "(['exploitative', 'and', 'largely', 'devoid', 'of', 'the', 'depth', 'or', 'sophistication', 'that', 'would', 'make', 'watching', 'such', 'a', 'graphic', 'treatment', 'of', 'the', 'crimes', 'bearable', '.'], 'neg')\n",
      "(['[garbus]', 'discards', 'the', 'potential', 'for', 'pathological', 'study', ',', 'exhuming', 'instead', ',', 'the', 'skewed', 'melodrama', 'of', 'the', 'circumstantial', 'situation', '.'], 'neg')\n",
      "(['a', 'visually', 'flashy', 'but', 'narratively', 'opaque', 'and', 'emotionally', 'vapid', 'exercise', 'in', 'style', 'and', 'mystification', '.'], 'neg')\n",
      "(['simplistic', ',', 'silly', 'and', 'tedious', '.'], 'neg')\n",
      "(['provides', 'a', 'porthole', 'into', 'that', 'noble', ',', 'trembling', 'incoherence', 'that', 'defines', 'us', 'all', '.'], 'pos')\n",
      "([\"it's\", 'nice', 'to', 'see', 'piscopo', 'again', 'after', 'all', 'these', 'years', ',', 'and', 'chaykin', 'and', 'headly', 'are', 'priceless', '.'], 'pos')\n",
      "(['standing', 'in', 'the', 'shadows', 'of', 'motown', 'is', 'the', 'best', 'kind', 'of', 'documentary', ',', 'one', 'that', 'makes', 'a', 'depleted', 'yesterday', 'feel', 'very', 'much', 'like', 'a', 'brand-new', 'tomorrow', '.'], 'pos')\n",
      "(['mazel', 'tov', 'to', 'a', 'film', 'about', 'a', \"family's\", 'joyous', 'life', 'acting', 'on', 'the', 'yiddish', 'stage', '.'], 'pos')\n"
     ]
    }
   ],
   "source": [
    "# Making one big document list. \n",
    "# It should contain ( sentence, category ) pairs for each sentence and all polarity types, which in this case is pos and neg\n",
    "\n",
    "documents = [(sent, cat) for cat in sentence_polarity.categories() \n",
    "\tfor sent in sentence_polarity.sents(categories=cat)]\n",
    "\n",
    "for i in range(5):\n",
    "  print(documents[i])\n",
    "\n",
    "for i in range(5):\n",
    "  print(documents[-i])\n"
   ]
  },
  {
   "cell_type": "code",
   "execution_count": 42,
   "id": "7ca83481",
   "metadata": {
    "executionInfo": {
     "elapsed": 3,
     "status": "ok",
     "timestamp": 1682193040613,
     "user": {
      "displayName": "Aadil Iliyas Zikre",
      "userId": "11139065713760395341"
     },
     "user_tz": 240
    },
    "hidden": true,
    "id": "dgcvYvgPBLXB"
   },
   "outputs": [],
   "source": [
    "from string import punctuation"
   ]
  },
  {
   "cell_type": "code",
   "execution_count": 43,
   "id": "5b624128",
   "metadata": {
    "colab": {
     "base_uri": "https://localhost:8080/"
    },
    "executionInfo": {
     "elapsed": 133,
     "status": "ok",
     "timestamp": 1682193040744,
     "user": {
      "displayName": "Aadil Iliyas Zikre",
      "userId": "11139065713760395341"
     },
     "user_tz": 240
    },
    "hidden": true,
    "id": "Lo89nOUrErBf",
    "outputId": "bfd5ffe9-4b53-4642-cf2b-5be925fa3e7a"
   },
   "outputs": [
    {
     "data": {
      "text/plain": [
       "['aadil']"
      ]
     },
     "execution_count": 43,
     "metadata": {},
     "output_type": "execute_result"
    }
   ],
   "source": [
    "[word for word in ['aadil','--'] if not all(c in punctuation for c in word)]"
   ]
  },
  {
   "cell_type": "code",
   "execution_count": 44,
   "id": "36fee184",
   "metadata": {
    "colab": {
     "base_uri": "https://localhost:8080/"
    },
    "executionInfo": {
     "elapsed": 1084,
     "status": "ok",
     "timestamp": 1682193041827,
     "user": {
      "displayName": "Aadil Iliyas Zikre",
      "userId": "11139065713760395341"
     },
     "user_tz": 240
    },
    "hidden": true,
    "id": "T47mJAIv245O",
    "outputId": "e9ad6853-060a-4bf8-9ab3-a0588693eceb"
   },
   "outputs": [
    {
     "name": "stdout",
     "output_type": "stream",
     "text": [
      "['film', 'movie', 'one', 'like', 'story', 'much', 'even', 'good', 'comedy', 'time', 'characters', 'little', 'way', 'funny', 'make', 'enough', 'never', 'makes', 'may', 'us', 'work', 'best', 'bad', 'director', 'love', 'would', 'life', \"there's\", 'movies', 'new', 'well', 'could', 'something', 'really', 'made', 'performances', 'drama', 'many', \"that's\", 'plot', 'look', 'films', 'every', 'still', 'see', 'two', 'nothing', 'people', 'better', 'without']\n"
     ]
    }
   ],
   "source": [
    "random.shuffle(documents)\n",
    "\n",
    "stopwords = nltk.corpus.stopwords.words('english')\n",
    "\n",
    "all_words_list = [word for (sent,cat) in documents for word in sent] # accumulating all words from all sentences in document\n",
    "all_words_list = [word for word in all_words_list if word.lower() not in stopwords] # remove stop_words\n",
    "all_words_list = [word for word in all_words_list if not all(c in punctuation for c in word)] # remove tokens which are only punctuations\n",
    "all_words = nltk.FreqDist(all_words_list)\n",
    "\n",
    "word_items = all_words.most_common(2000) # selecting top 2000 words for first model\n",
    "word_features = [word for (word,count) in word_items]\n",
    "print(word_features[:50])"
   ]
  },
  {
   "cell_type": "code",
   "execution_count": 45,
   "id": "9f671da8",
   "metadata": {
    "colab": {
     "base_uri": "https://localhost:8080/",
     "height": 89
    },
    "executionInfo": {
     "elapsed": 8,
     "status": "ok",
     "timestamp": 1682193041828,
     "user": {
      "displayName": "Aadil Iliyas Zikre",
      "userId": "11139065713760395341"
     },
     "user_tz": 240
    },
    "hidden": true,
    "id": "cbdMZrUQUsCo",
    "outputId": "7876067e-a31e-4c0d-e35c-8e54ffbde12b"
   },
   "outputs": [
    {
     "data": {
      "application/vnd.google.colaboratory.intrinsic+json": {
       "type": "string"
      },
      "text/plain": [
       "' CLASSIFIER 1 : \\nType : Naive Bayes Classifier \\nFeatures : 2000 Boolean features which state whether any token matches the reference tokens. \\nPreprocessing to get the reference tokens : \\n  1. Tokenization\\n  2. Stop Words Removal \\n  3. Punctuations only Token removal \\nTraining: All documents after first 1000 documents\\nTesting: First 1000 documents\\nResult: Accuracy = 0.72 | F1 Score (pos) = 0.72 | F1 Score (neg) = 0.72\\n  We can see that the accuracy is 72 % and F1 Score for positive and negative is almost similar. Thats a good indication that the model is \\n  not biased towards any one class. \\n'"
      ]
     },
     "execution_count": 45,
     "metadata": {},
     "output_type": "execute_result"
    }
   ],
   "source": [
    "\"\"\" CLASSIFIER 1 : \n",
    "Type : Naive Bayes Classifier \n",
    "Features : 2000 Boolean features which state whether any token matches the reference tokens. \n",
    "Preprocessing to get the reference tokens : \n",
    "  1. Tokenization\n",
    "  2. Stop Words Removal \n",
    "  3. Punctuations only Token removal \n",
    "Training: All documents after first 1000 documents\n",
    "Testing: First 1000 documents\n",
    "Result: Accuracy = 0.72 | F1 Score (pos) = 0.72 | F1 Score (neg) = 0.72\n",
    "  We can see that the accuracy is 72 % and F1 Score for positive and negative is almost similar. Thats a good indication that the model is \n",
    "  not biased towards any one class. \n",
    "\"\"\""
   ]
  },
  {
   "cell_type": "code",
   "execution_count": 46,
   "id": "67868d29",
   "metadata": {
    "colab": {
     "base_uri": "https://localhost:8080/"
    },
    "executionInfo": {
     "elapsed": 7701,
     "status": "ok",
     "timestamp": 1682193049524,
     "user": {
      "displayName": "Aadil Iliyas Zikre",
      "userId": "11139065713760395341"
     },
     "user_tz": 240
    },
    "hidden": true,
    "id": "a2rR9kq43XX9",
    "outputId": "b2c4e048-67db-4e6d-87c4-b7ce21a578e5"
   },
   "outputs": [
    {
     "name": "stdout",
     "output_type": "stream",
     "text": [
      "({'V_film': False, 'V_movie': False, 'V_one': True, 'V_like': False, 'V_story': False, 'V_much': False, 'V_even': False, 'V_good': False, 'V_comedy': False, 'V_time': False, 'V_characters': False, 'V_little': False, 'V_way': False, 'V_funny': False, 'V_make': False, 'V_enough': False, 'V_never': False, 'V_makes': True, 'V_may': False, 'V_us': True, 'V_work': False, 'V_best': False, 'V_bad': False, 'V_director': True, 'V_love': False, 'V_would': False, 'V_life': False, \"V_there's\": False, 'V_movies': False, 'V_new': False, 'V_well': False, 'V_could': False, 'V_something': False, 'V_really': False, 'V_made': False, 'V_performances': False, 'V_drama': False, 'V_many': False, \"V_that's\": False, 'V_plot': False, 'V_look': False, 'V_films': False, 'V_every': False, 'V_still': False, 'V_see': False, 'V_two': False, 'V_nothing': False, 'V_people': False, 'V_better': False, 'V_without': False, 'V_long': False, 'V_get': False, 'V_fun': False, 'V_action': False, 'V_great': True, 'V_though': False, 'V_might': False, 'V_big': False, 'V_also': False, 'V_another': True, 'V_cast': False, 'V_humor': False, 'V_audience': False, 'V_first': False, 'V_kind': False, 'V_sense': False, 'V_ever': False, 'V_character': False, 'V_performance': False, 'V_feels': False, 'V_script': False, \"V_film's\": False, 'V_far': False, 'V_often': False, 'V_less': False, 'V_thing': False, 'V_seems': False, 'V_minutes': False, 'V_real': False, 'V_feel': False, 'V_tale': False, 'V_world': False, 'V_almost': False, 'V_picture': False, 'V_thriller': False, \"V_can't\": False, 'V_quite': False, 'V_documentary': False, 'V_yet': False, 'V_interesting': False, 'V_entertaining': False, 'V_rather': False, 'V_screen': False, 'V_end': False, 'V_seen': True, 'V_hollywood': False, 'V_full': False, 'V_watching': False, 'V_take': False, 'V_hard': False, 'V_ultimately': False, 'V_go': False, 'V_heart': False, 'V_comes': False, 'V_romantic': False, 'V_moments': False, 'V_de': False, 'V_lot': False, 'V_despite': False, 'V_american': False, 'V_family': False, 'V_acting': False, 'V_old': False, 'V_original': False, 'V_find': False, 'V_right': False, 'V_worth': False, 'V_human': False, 'V_gets': False, 'V_takes': False, 'V_come': False, 'V_things': False, 'V_times': False, 'V_dialogue': False, 'V_actors': False, 'V_man': False, 'V_watch': False, 'V_back': False, 'V_scenes': False, 'V_material': False, 'V_compelling': False, 'V_young': False, 'V_music': False, 'V_years': False, 'V_works': False, 'V_emotional': False, 'V_think': False, 'V_seem': False, 'V_anyone': False, 'V_want': False, 'V_gives': False, 'V_going': False, 'V_least': False, 'V_know': False, 'V_say': False, 'V_part': False, 'V_sometimes': False, 'V_piece': False, 'V_entertainment': False, 'V_cinematic': False, 'V_kids': False, 'V_point': False, 'V_give': False, 'V_pretty': False, 'V_last': False, 'V_subject': False, 'V_making': False, 'V_special': False, 'V_bit': False, 'V_keep': False, 'V_together': False, 'V_fascinating': False, 'V_cinema': False, 'V_dull': False, 'V_whole': False, 'V_anything': False, 'V_fans': False, 'V_year': False, 'V_away': False, 'V_since': False, 'V_moving': False, 'V_manages': False, 'V_need': False, 'V_style': False, 'V_true': False, 'V_star': False, 'V_laughs': False, 'V_show': False, 'V_sweet': False, 'V_clever': False, 'V_experience': False, 'V_always': False, 'V_history': False, 'V_offers': False, 'V_mr': False, 'V_simply': False, 'V_high': False, 'V_direction': False, 'V_instead': False, 'V_dark': False, 'V_silly': False, 'V_care': True, 'V_predictable': False, 'V_whose': False, 'V_actually': False, 'V_charm': False, 'V_art': False, 'V_everything': False, 'V_visual': False, 'V_flick': False, 'V_nearly': False, 'V_title': False, 'V_series': False, 'V_around': False, 'V_matter': False, 'V_place': False, 'V_comic': False, 'V_video': False, 'V_idea': False, 'V_narrative': False, \"V_he's\": False, 'V_war': False, 'V_goes': False, 'V_trying': False, 'V_done': False, 'V_screenplay': False, 'V_short': False, 'V_genre': False, 'V_women': False, 'V_probably': False, 'V_premise': False, \"V_movie's\": False, 'V_plays': False, 'V_familiar': False, 'V_turns': False, 'V_enjoyable': False, 'V_horror': False, 'V_engaging': False, 'V_three': False, 'V_becomes': False, 'V_home': False, 'V_set': False, 'V_although': False, 'V_lacks': False, 'V_filmmakers': False, 'V_worst': False, 'V_feeling': False, 'V_smart': False, 'V_feature': False, 'V_power': False, 'V_enjoy': False, 'V_effects': False, 'V_intelligent': False, 'V_charming': False, 'V_study': False, 'V_day': False, 'V_effort': False, 'V_ending': False, 'V_strong': False, 'V_half': False, 'V_amusing': False, 'V_especially': False, 'V_boring': False, 'V_debut': False, 'V_theater': False, 'V_lack': False, 'V_likely': False, 'V_portrait': False, 'V_romance': False, 'V_men': False, 'V_john': False, 'V_else': False, 'V_certainly': False, 'V_beautiful': False, 'V_version': False, 'V_put': False, 'V_mostly': False, 'V_sort': False, \"V_what's\": False, 'V_surprisingly': False, 'V_problem': False, 'V_beautifully': False, 'V_become': False, 'V_easy': False, 'V_message': False, 'V_looking': False, 'V_next': False, 'V_level': False, 'V_lives': False, 'V_mind': False, 'V_play': False, 'V_exercise': False, 'V_fine': False, 'V_hours': False, 'V_solid': False, 'V_quirky': False, 'V_rare': False, 'V_along': False, 'V_wit': False, 'V_whether': False, 'V_sure': False, 'V_looks': False, 'V_leave': False, 'V_fresh': False, 'V_directed': False, 'V_obvious': False, 'V_ideas': False, 'V_mess': False, 'V_face': False, 'V_modern': False, 'V_completely': False, 'V_interest': False, 'V_energy': False, 'V_powerful': False, 'V_french': False, 'V_past': False, 'V_either': False, 'V_dramatic': False, 'V_melodrama': False, 'V_shot': False, 'V_viewers': False, 'V_neither': False, 'V_fact': False, 'V_beyond': False, 'V_reason': False, 'V_classic': False, 'V_children': False, 'V_delivers': False, 'V_stuff': False, 'V_shows': False, 'V_suspense': False, 'V_filmmaking': False, 'V_fails': False, 'V_tone': False, 'V_recent': False, 'V_believe': False, 'V_intriguing': False, \"V_i'm\": False, 'V_slow': False, 'V_left': False, 'V_deeply': False, 'V_culture': False, 'V_everyone': False, 'V_truly': False, 'V_serious': False, 'V_death': False, 'V_actor': False, 'V_ends': False, 'V_jokes': False, 'V_book': False, 'V_black': False, 'V_tries': False, 'V_ride': False, 'V_small': False, 'V_sad': False, 'V_tv': False, 'V_spirit': False, 'V_light': False, 'V_production': False, 'V_audiences': False, 'V_touching': False, 'V_occasionally': False, 'V_passion': False, 'V_terrific': False, 'V_formula': False, 'V_adventure': False, 'V_satisfying': False, 'V_opera': False, 'V_remains': False, 'V_camera': False, 'V_dumb': False, 'V_reality': False, 'V_hilarious': False, 'V_exactly': False, 'V_storytelling': False, 'V_proves': False, 'V_role': False, 'V_different': False, 'V_must': False, 'V_project': False, 'V_images': False, 'V_filmmaker': False, 'V_impossible': False, 'V_seeing': False, 'V_scene': False, 'V_line': False, 'V_stories': False, 'V_got': False, 'V_already': False, 'V_talent': False, 'V_easily': False, 'V_particularly': False, 'V_perfect': False, 'V_girl': False, 'V_gags': False, 'V_journey': False, 'V_personal': False, 'V_simple': False, 'V_attempt': False, 'V_close': False, 'V_sex': False, 'V_honest': False, 'V_pretentious': False, 'V_animation': False, 'V_pleasure': False, 'V_summer': False, 'V_psychological': False, 'V_complex': False, 'V_turn': False, 'V_given': False, 'V_difficult': False, 'V_case': False, 'V_falls': False, 'V_hour': False, 'V_flat': False, 'V_ways': False, 'V_found': False, 'V_michael': False, 'V_intelligence': False, 'V_earnest': False, 'V_social': False, 'V_sequel': False, 'V_head': False, 'V_leaves': False, 'V_coming-of-age': False, 'V_political': False, 'V_cliches': False, 'V_mystery': False, 'V_thought': False, 'V_getting': False, 'V_visually': False, 'V_tell': False, 'V_game': False, 'V_uses': False, 'V_memorable': False, 'V_crime': False, 'V_writing': False, 'V_violence': False, 'V_que': False, 'V_none': False, 'V_written': False, 'V_help': True, 'V_gone': False, 'V_wrong': False, 'V_told': False, 'V_keeps': False, 'V_rich': False, 'V_side': False, 'V_job': False, 'V_laugh': False, 'V_brilliant': False, 'V_live': False, 'V_overall': False, 'V_finally': False, 'V_satire': False, 'V_second': False, 'V_days': False, 'V_contrived': False, 'V_spy': False, 'V_lost': False, 'V_rarely': False, 'V_elements': False, 'V_boy': False, 'V_cold': False, 'V_cool': False, 'V_needs': False, 'V_novel': False, 'V_barely': False, 'V_otherwise': False, 'V_possible': False, 'V_entirely': False, 'V_final': False, 'V_guys': False, 'V_several': False, 'V_acted': False, 'V_nature': False, 'V_imagine': False, 'V_starts': False, 'V_approach': False, 'V_appeal': False, 'V_thoughtful': False, 'V_taste': False, 'V_perhaps': False, 'V_creepy': False, 'V_fairly': False, 'V_surprising': False, 'V_soap': False, 'V_eyes': False, 'V_act': False, 'V_mood': False, 'V_concept': False, 'V_running': False, 'V_excellent': False, 'V_warm': False, 'V_wild': False, 'V_lead': False, 'V_wonderful': False, 'V_moral': False, 'V_tragedy': False, 'V_truth': False, 'V_insight': False, 'V_form': True, 'V_result': False, 'V_others': False, 'V_hero': False, 'V_adults': False, 'V_david': False, 'V_tedious': False, 'V_viewer': False, 'V_quality': False, 'V_among': False, 'V_bring': False, 'V_call': False, 'V_remarkable': False, 'V_thoroughly': False, 'V_imagination': False, 'V_expect': False, 'V_attention': False, \"V_they're\": False, 'V_engrossing': False, 'V_behind': False, 'V_entire': False, 'V_comedies': False, 'V_emotionally': False, 'V_latest': True, 'V_vision': False, 'V_\\x96': False, \"V_i've\": False, 'V_start': False, 'V_remake': False, 'V_change': False, 'V_nice': False, 'V_witty': False, 'V_bland': False, 'V_adaptation': False, 'V_usual': False, 'V_quiet': False, 'V_strange': False, 'V_tired': False, 'V_gorgeous': False, 'V_moment': False, 'V_knows': False, 'V_four': False, 'V_animated': False, 'V_disney': False, 'V_perfectly': False, 'V_future': False, 'V_add': False, 'V_genuine': False, 'V_sharp': False, 'V_epic': False, 'V_teen': False, 'V_rock': False, 'V_sci-fi': False, 'V_la': False, 'V_worthy': False, 'V_impressive': False, 'V_offer': False, 'V_plenty': False, 'V_hope': False, 'V_wonder': False, 'V_begins': False, 'V_taking': False, 'V_worse': False, 'V_gentle': False, 'V_maybe': False, 'V_parents': False, 'V_dead': False, 'V_points': False, 'V_beauty': False, 'V_deep': False, 'V_events': False, 'V_thanks': False, 'V_merely': False, 'V_effective': False, 'V_period': False, 'V_somewhat': False, 'V_depth': False, 'V_appealing': False, 'V_sit': False, 'V_guy': False, 'V_woman': False, 'V_hit': False, 'V_try': False, 'V_definitely': False, 'V_career': False, 'V_air': False, \"V_year's\": False, 'V_provides': False, 'V_important': False, 'V_pure': False, 'V_lots': False, 'V_ambitious': False, 'V_straight': False, 'V_fantasy': False, 'V_unfortunately': False, 'V_age': False, 'V_surprise': False, 'V_someone': False, 'V_decent': False, 'V_clear': False, 'V_writer-director': False, 'V_captures': False, 'V_stupid': False, 'V_awful': False, 'V_emotions': False, 'V_however': False, 'V_brings': False, 'V_ii': False, 'V_throughout': False, 'V_ugly': False, 'V_suffers': False, 'V_magic': False, 'V_view': False, 'V_pictures': False, 'V_scary': False, 'V_sound': False, 'V_robert': False, 'V_execution': False, 'V_subtle': False, 'V_utterly': False, 'V_pace': False, 'V_able': False, 'V_thin': False, 'V_school': False, 'V_highly': False, 'V_inside': False, 'V_run': False, 'V_sequences': False, 'V_historical': False, 'V_exciting': False, 'V_welcome': False, 'V_read': False, 'V_deserves': False, 'V_sustain': False, 'V_coming': False, 'V_relationship': False, 'V_lovely': False, 'V_alone': False, 'V_cheap': False, 'V_ensemble': False, 'V_female': False, 'V_fire': False, 'V_based': False, 'V_certain': False, 'V_sexual': False, 'V_process': False, 'V_creative': False, 'V_examination': False, 'V_provocative': False, 'V_impact': False, 'V_hand': False, 'V_playing': False, 'V_quickly': False, 'V_words': False, 'V_cute': False, 'V_use': False, 'V_tension': False, 'V_delightful': False, 'V_memory': False, 'V_low': False, 'V_chemistry': False, 'V_working': False, 'V_poignant': False, 'V_middle': False, 'V_upon': False, 'V_question': False, 'V_cartoon': False, 'V_wants': False, 'V_potential': False, 'V_except': False, 'V_deal': False, 'V_major': False, 'V_used': False, 'V_single': False, 'V_across': False, 'V_felt': False, 'V_flaws': False, 'V_city': False, 'V_talented': False, 'V_creates': False, 'V_sentimental': False, 'V_bond': False, 'V_taken': False, 'V_situation': False, 'V_puts': False, 'V_2': False, 'V_generic': False, 'V_force': False, 'V_loud': False, 'V_touch': False, 'V_unfunny': False, 'V_waste': False, 'V_yes': False, 'V_flawed': False, 'V_winning': False, 'V_stand': False, 'V_rest': False, 'V_unexpected': False, 'V_murder': False, 'V_success': False, 'V_lacking': False, 'V_filled': False, 'V_mediocre': False, 'V_odd': False, 'V_cultural': False, 'V_sensitive': False, 'V_master': False, 'V_actress': False, 'V_country': False, 'V_giving': False, 'V_seriously': False, 'V_ultimate': False, 'V_reveals': False, 'V_watchable': False, 'V_house': False, 'V_sincere': False, 'V_hardly': False, 'V_college': False, 'V_cannot': False, 'V_dog': False, 'V_saw': False, 'V_surprises': False, 'V_cut': False, 'V_era': False, 'V_routine': False, 'V_class': False, 'V_slightly': False, 'V_convincing': False, 'V_mark': False, 'V_formulaic': False, 'V_unsettling': False, 'V_melodramatic': False, 'V_slight': False, 'V_mildly': False, 'V_extremely': False, 'V_ability': False, 'V_create': False, 'V_heavy': False, 'V_eye': False, 'V_ago': False, 'V_hell': False, 'V_remember': False, 'V_relationships': False, 'V_previous': False, 'V_supposed': False, 'V_weird': False, 'V_apart': False, 'V_issues': False, 'V_hold': False, 'V_stars': False, 'V_living': False, 'V_crush': False, 'V_date': False, 'V_inventive': False, 'V_finds': False, 'V_george': False, 'V_treat': False, 'V_grant': False, 'V_thinking': False, 'V_grace': False, 'V_intimate': False, 'V_old-fashioned': False, 'V_plain': False, 'V_gripping': False, 'V_pacing': False, 'V_five': False, 'V_forgettable': False, 'V_sets': False, 'V_thrills': False, 'V_steven': False, 'V_largely': False, 'V_road': False, 'V_casting': False, 'V_stylish': False, 'V_e': False, 'V_course': False, 'V_twists': False, 'V_involved': False, 'V_artist': False, 'V_episode': False, 'V_attempts': False, 'V_crazy': False, 'V_tragic': False, 'V_amount': False, 'V_extreme': False, 'V_leads': False, 'V_focus': False, 'V_terms': False, 'V_contemporary': False, 'V_uneven': False, 'V_pleasant': False, 'V_joke': False, 'V_pop': False, 'V_indeed': False, 'V_succeeds': False, 'V_mix': False, 'V_trouble': False, 'V_ones': False, 'V_fully': False, 'V_money': False, \"V_we've\": True, 'V_substance': False, 'V_involving': False, 'V_appears': False, 'V_complete': False, 'V_painful': False, 'V_happy': False, 'V_unique': False, 'V_successful': False, 'V_colorful': False, 'V_business': False, 'V_considerable': False, 'V_friendship': False, 'V_york': False, 'V_problems': False, 'V_soundtrack': False, 'V_presents': False, 'V_williams': False, 'V_goofy': False, 'V_runs': False, 'V_missing': False, 'V_recommend': False, 'V_drag': False, 'V_promise': False, 'V_water': False, 'V_disturbing': False, 'V_themes': False, 'V_happens': False, 'V_absolutely': False, 'V_poetry': False, 'V_masterpiece': False, 'V_badly': False, 'V_called': False, 'V_es': False, 'V_heaven': False, 'V_couple': False, 'V_person': False, 'V_urban': False, 'V_bizarre': False, 'V_forget': False, 'V_refreshing': False, 'V_share': False, 'V_hits': False, 'V_imax': False, 'V_triumph': False, 'V_gay': False, 'V_bright': False, 'V_meditation': False, 'V_tom': False, 'V_loses': False, 'V_soul': False, 'V_originality': False, 'V_british': False, 'V_equally': False, 'V_typical': False, 'V_wanted': False, 'V_effect': False, 'V_situations': False, 'V_politics': False, 'V_interested': False, 'V_played': False, 'V_somehow': False, 'V_skin': False, 'V_mean': False, 'V_target': False, 'V_oscar': False, 'V_blend': False, 'V_strangely': False, 'V_[a]': False, 'V_absorbing': False, 'V_viewing': False, 'V_sentimentality': False, 'V_pieces': False, 'V_terrible': False, 'V_flicks': False, 'V_parts': False, 'V_forced': False, 'V_evil': False, \"V_man's\": False, 'V_manner': False, 'V_said': False, 'V_grief': False, 'V_well-acted': False, 'V_television': False, 'V_doubt': False, 'V_poor': False, 'V_word': False, 'V_company': False, 'V_franchise': False, 'V_clichés': False, 'V_jackson': False, 'V_stunning': False, 'V_somewhere': False, 'V_sophisticated': False, 'V_alive': False, 'V_general': False, 'V_standard': False, 'V_fare': False, 'V_fast': False, 'V_tells': False, \"V_director's\": False, 'V_loss': False, 'V_haunting': False, 'V_liked': False, 'V_created': False, 'V_hate': False, 'V_el': False, 'V_derivative': False, 'V_energetic': False, 'V_understand': False, 'V_sexy': False, 'V_questions': False, 'V_obviously': False, 'V_average': False, 'V_frame': False, 'V_fan': False, 'V_night': False, 'V_dream': False, 'V_whatever': False, 'V_virtually': False, 'V_central': False, 'V_painfully': False, 'V_eventually': False, 'V_battle': False, 'V_conflict': False, 'V_report': False, 'V_please': False, 'V_miss': False, 'V_setting': False, 'V_lame': False, 'V_monster': False, 'V_crafted': False, 'V_name': False, 'V_90': False, 'V_dry': False, 'V_means': False, 'V_twist': False, 'V_depressing': False, 'V_treasure': False, 'V_lines': False, 'V_price': False, 'V_brain': False, 'V_vivid': False, 'V_remarkably': False, 'V_blue': False, 'V_holds': False, 'V_edge': False, 'V_finish': False, 'V_deliver': False, 'V_unlike': False, 'V_worthwhile': False, 'V_ms': False, 'V_riveting': False, 'V_white': False, 'V_wedding': False, 'V_match': False, 'V_clearly': False, 'V_lets': False, 'V_inspired': False, 'V_girls': False, 'V_places': False, 'V_weak': False, 'V_conventional': False, 'V_sitting': False, 'V_affecting': False, 'V_thought-provoking': False, 'V_room': False, 'V_atmosphere': False, 'V_faith': False, 'V_insightful': False, 'V_una': False, 'V_japanese': False, 'V_essentially': False, 'V_let': False, 'V_popcorn': False, 'V_excitement': False, 'V_opportunity': False, 'V_heavy-handed': False, 'V_tough': False, 'V_boys': False, 'V_refreshingly': False, 'V_warmth': False, 'V_generally': False, 'V_toward': False, 'V_slapstick': False, 'V_imaginative': False, 'V_break': False, 'V_fat': False, 'V_superficial': False, 'V_niro': False, 'V_huge': False, 'V_genuinely': False, 'V_amazing': False, 'V_red': False, 'V_footage': False, 'V_allows': False, 'V_possibly': False, 'V_2002': False, 'V_simplistic': False, 'V_fit': False, 'V_america': False, \"V_we're\": False, 'V_unusual': False, 'V_green': False, 'V_within': False, 'V_trip': False, 'V_efforts': False, 'V_wildly': False, 'V_charisma': False, 'V_core': False, 'V_damned': False, 'V_x': False, 'V_large': False, 'V_writer': False, 'V_particular': False, 'V_shallow': False, 'V_ice': False, 'V_heartfelt': False, 'V_powers': False, 'V_slice': False, 'V_delicate': False, 'V_pay': False, 'V_murphy': False, 'V_wish': False, 'V_fiction': False, 'V_equivalent': False, 'V_purpose': False, 'V_aside': False, 'V_peter': False, 'V_spectacle': False, 'V_minor': False, 'V_car': False, 'V_filmed': False, 'V_usually': False, 'V_affair': False, 'V_lazy': False, 'V_humanity': False, 'V_needed': False, 'V_guilty': False, 'V_intended': False, 'V_wait': False, 'V_crowd': False, 'V_balance': False, 'V_believable': False, 'V_spielberg': False, 'V_treatment': False, 'V_kid': False, 'V_greatest': True, 'V_mindless': False, 'V_stay': False, 'V_bears': False, 'V_credits': False, 'V_festival': False, 'V_sum': False, 'V_mesmerizing': False, 'V_delight': False, 'V_revenge': False, 'V_directors': False, 'V_empty': False, 'V_universal': False, 'V_skill': False, 'V_motion': False, 'V_dreams': False, 'V_exhilarating': False, 'V_sequence': False, 'V_deeper': False, 'V_vehicle': False, 'V_telling': False, 'V_gangster': False, 'V_editing': False, \"V_who's\": False, 'V_sea': False, 'V_meaning': False, 'V_party': False, 'V_fear': False, 'V_spiritual': False, 'V_quietly': False, 'V_natural': False, 'V_devoid': False, \"V_i'd\": False, 'V_combination': False, 'V_sports': False, 'V_spectacular': False, 'V_space': False, 'V_open': False, 'V_longer': False, 'V_theme': False, 'V_figure': False, 'V_ridiculous': False, 'V_offering': False, 'V_sounds': False, 'V_deftly': False, 'V_indie': False, 'V_poorly': False, 'V_realistic': False, 'V_score': False, 'V_god': False, 'V_wife': False, 'V_detail': False, 'V_extraordinary': False, 'V_directorial': False, 'V_decades': False, 'V_talk': False, 'V_stale': False, 'V_fashion': False, 'V_funnier': False, 'V_promising': False, 'V_kevin': True, 'V_behavior': False, 'V_century': False, 'V_accessible': False, 'V_consider': False, 'V_reading': False, 'V_turned': False, 'V_daring': False, 'V_paced': False, 'V_surface': False, 'V_provide': False, 'V_release': False, 'V_results': False, 'V_allen': False, 'V_james': False, 'V_gem': False, 'V_intense': False, 'V_count': False, 'V_expected': False, 'V_martin': False, 'V_poetic': False, 'V_talking': False, 'V_sight': False, 'V_endearing': False, 'V_represents': False, 'V_cinematography': False, 'V_10': False, 'V_justice': False, 'V_king': False, 'V_avoid': False, 'V_disguise': False, 'V_perspective': False, 'V_value': False, 'V_j': False, 'V_constructed': False, 'V_crimes': False, 'V_free': False, 'V_overly': False, 'V_exploration': False, 'V_pointless': False, 'V_manipulative': False, 'V_frequently': False, 'V_pleasures': False, 'V_affection': False, 'V_roger': False, 'V_prove': False, 'V_public': False, 'V_repetitive': False, 'V_\\x97': False, 'V_irritating': False, 'V_chase': False, 'V_farce': False, 'V_shots': False, 'V_desire': False, 'V_society': False, 'V_blade': False, 'V_striking': False, 'V_generation': False, 'V_holes': False, 'V_stunts': False, 'V_oddly': False, 'V_credit': False, 'V_visuals': False, 'V_complicated': False, 'V_move': False, 'V_win': False, 'V_profound': False, 'V_gross-out': False, 'V_shame': False, 'V_achieves': False, 'V_stage': False, 'V_identity': False, 'V_values': False, 'V_strength': False, 'V_performers': False, 'V_awkward': False, 'V_number': False, 'V_dreary': False, 'V_members': False, 'V_development': False, 'V_unless': False, 'V_imagery': False, 'V_incredibly': False, 'V_group': False, 'V_produced': False, 'V_chance': False, 'V_fears': False, 'V_shake': False, 'V_nonsense': False, 'V_ages': False, 'V_raw': False, 'V_trifle': False, 'V_voice': False, 'V_buy': False, 'V_community': False, 'V_pulls': False, 'V_admirable': False, 'V_walk': False, 'V_attraction': False, 'V_delivered': False, 'V_necessary': False, 'V_hackneyed': False, 'V_brown': False, 'V_wise': False, 'V_nicely': False, 'V_top': False, 'V_loved': False, 'V_beat': False, 'V_beneath': False, 'V_stands': False, 'V_determined': False, 'V_concerned': False, 'V_blood': False, 'V_save': False, 'V_return': False, 'V_games': False, 'V_damn': False, 'V_clumsy': False, 'V_emerges': False, 'V_using': False, 'V_ring': False, 'V_del': False, 'V_marks': False, 'V_um': False, 'V_intentions': False, 'V_overcome': False, 'V_commercial': False, 'V_numbers': False, 'V_presence': False, 'V_screenwriter': False, 'V_intrigue': False, 'V_serves': False, 'V_weight': False, 'V_songs': False, 'V_moviemaking': False, 'V_glimpse': False, 'V_predecessor': False, 'V_happen': False, 'V_designed': False, 'V_follow': False, 'V_friday': False, 'V_ghost': False, 'V_killer': False, 'V_chilling': False, 'V_diverting': False, 'V_folks': False, 'V_yarn': False, 'V_structure': False, 'V_main': False, 'V_nowhere': False, 'V_hot': False, 'V_thinks': False, 'V_levels': False, 'V_adam': False, 'V_courage': False, 'V_enjoyed': False, 'V_failure': False, 'V_challenging': False, 'V_artistic': False, 'V_frustrating': False, 'V_musical': False, 'V_ground': False, 'V_giant': False, 'V_tribute': False, 'V_friends': False, 'V_struggle': False, 'V_subjects': False, 'V_offensive': False, 'V_bits': False, 'V_machine': False, \"V_story's\": False, 'V_tiresome': False, 'V_example': False, 'V_waiting': False, \"V_world's\": True, 'V_moviegoers': False, 'V_emotion': False, \"V_characters'\": False, 'V_body': False, 'V_monty': False, 'V_matters': False, 'V_team': False, 'V_flair': False, 'V_spend': False, 'V_fall': False, 'V_apparently': False, 'V_cause': False, 'V_damage': False, 'V_surely': False, 'V_studio': False, 'V_accomplished': False, 'V_excuse': False, 'V_type': False, 'V_stock': False, 'V_humorous': False, 'V_realism': False, 'V_sappy': False, 'V_first-time': False, 'V_annoying': False, 'V_budget': False, 'V_industry': False, 'V_hip-hop': False, 'V_tender': False, \"V_i'll\": False, 'V_queen': False, 'V_standards': False, 'V_winds': False, 'V_mike': False, 'V_meandering': False, 'V_disappointing': False, 'V_sheer': False, 'V_jason': False, 'V_directing': False, 'V_chris': False, 'V_wry': False, 'V_comedic': False, 'V_dazzling': False, 'V_adult': False, 'V_grand': False, 'V_vs': False, 'V_overwrought': False, 'V_eight': False, 'V_b-movie': False, 'V_maudlin': False, 'V_outrageous': False, 'V_vibrant': False, 'V_document': False, 'V_creating': False, 'V_wonderfully': False, 'V_precious': False, 'V_unpleasant': False, 'V_talents': False, 'V_search': False, 'V_superior': False, 'V_modest': False, 'V_bittersweet': False, 'V_today': False, 'V_storyline': False, 'V_chinese': False, 'V_jones': False, 'V_well-made': False, 'V_dance': False, 'V_national': False, 'V_reach': False, 'V_deserve': False, 'V_un': False, 'V_father': False, 'V_inspiring': False, 'V_funniest': False, 'V_list': False, 'V_desperate': False, 'V_early': False, 'V_mainstream': False, 'V_authentic': False, 'V_seat': False, 'V_broad': False, \"V_'the\": False, 'V_parker': False, 'V_twice': False, 'V_digital': False, 'V_violent': False, 'V_delivery': False, 'V_fair': False, 'V_scenario': False, 'V_favor': False, 'V_roles': False, 'V_grows': False, 'V_bore': False, 'V_present': False, 'V_adolescent': False, 'V_land': False, 'V_bunch': False, 'V_reasonably': False, 'V_beginning': False, 'V_paid': False, 'V_mayhem': False, 'V_unfolds': False, 'V_roll': False, 'V_including': False, 'V_bullock': False, 'V_featuring': False, 'V_foreign': False, 'V_eccentric': False, 'V_low-budget': False, 'V_choices': False, 'V_addition': False, 'V_thrilling': False, 'V_showing': False, 'V_harmless': False, 'V_cynical': False, 'V_consistently': False, 'V_gritty': False, 'V_increasingly': False, 'V_metaphor': False, 'V_woody': False, 'V_features': False, 'V_frank': False, 'V_served': False, 'V_fable': False, 'V_revolution': False, 'V_joy': False, 'V_retread': False, 'V_fantastic': False, 'V_state': False, 'V_lies': False, 'V_cliche': False, 'V_sitcom': False, 'V_check': False, 'V_conclusion': False, 'V_common': False, 'V_dangerous': False, 'V_secrets': False, \"V_here's\": False, 'V_compassion': False, 'V_wears': False, 'V_holiday': False, 'V_playful': False, 'V_carries': False, 'V_male': False, 'V_lively': False, 'V_romp': False, 'V_pass': False, 'V_escape': False, 'V_stays': False, 'V_brought': False, 'V_mistake': False, \"V_woman's\": False, 'V_territory': False, 'V_becoming': False, 'V_notion': False, 'V_mention': False, 'V_feel-good': False, 'V_philosophical': False, 'V_moves': False, 'V_worked': False, 'V_fight': False, 'V_brothers': False, 'V_italian': False, 'V_mile': False, 'V_mild': False, 'V_angst': False, 'V_harvard': False, 'V_empathy': False, 'V_ryan': False, 'V_vividly': False, 'V_late': False, 'V_source': False, 'V_faithful': False, 'V_die': False, 'V_near': False, 'V_reign': False, 'V_depiction': False, 'V_aspects': False, 'V_soon': False, 'V_respect': False, 'V_slick': False, 'V_plotting': False, 'V_confusing': False, 'V_sign': False, 'V_greek': False, 'V_sloppy': False, 'V_forgotten': False, 'V_growing': False, 'V_surreal': False, 'V_relatively': False, 'V_pain': False, 'V_zone': False, 'V_personality': False, 'V_disaster': False, 'V_self-indulgent': False, 'V_mother': False, 'V_writer/director': False, 'V_pokemon': False, 'V_morality': False, 'V_trick': False, 'V_song': False, 'V_xxx': False, 'V_arnold': False, 'V_son': False, 'V_lesson': False, 'V_heartwarming': False, 'V_chan': False, 'V_cautionary': False, 'V_experiences': False, 'V_starring': False, 'V_complexity': False, 'V_teacher': True, 'V_unlikely': False, 'V_utter': False, 'V_elegant': False, 'V_speaking': False, 'V_took': False, 'V_front': False, 'V_pinocchio': False, 'V_logic': False, 'V_center': False, 'V_christmas': False, 'V_willing': False, 'V_product': False, 'V_spark': False, 'V_length': False, 'V_assured': False, 'V_detailed': False, 'V_acts': False, 'V_biggest': False, 'V_rises': False, 'V_persona': False, 'V_punch': False, 'V_capture': False, 'V_vulgar': False, 'V_safe': False, 'V_south': False, 'V_cliché': False, 'V_pity': False, 'V_captivating': False, 'V_intensity': False, 'V_drawn': False, 'V_totally': False, 'V_likable': False, 'V_child': False, 'V_families': False, 'V_amateurish': False, 'V_conviction': False, 'V_bored': False, 'V_laughter': False, 'V_suspenseful': False, 'V_cheesy': False, 'V_patience': False, 'V_visceral': False, 'V_step': False, 'V_asks': False, 'V_sick': False, 'V_revealing': False, 'V_messages': False, 'V_science': False, 'V_brutal': False, 'V_stirring': False, 'V_low-key': False, 'V_austin': False, 'V_vampire': False, 'V_band': False, 'V_older': False, 'V_literally': False, 'V_event': False, 'V_sympathy': False, 'V_solondz': False, 'V_martha': False, 'V_stomach': False, 'V_appreciate': False, 'V_rhythms': False, 'V_mixed': False, 'V_spare': False, 'V_third': False, 'V_sides': False, 'V_strictly': False, 'V_spooky': False, 'V_resonance': False, 'V_resonant': False, 'V_due': False, 'V_potentially': False, 'V_wasted': False, 'V_preposterous': False, 'V_nasty': False, 'V_collection': False, 'V_brother': False, 'V_20': False, 'V_desperately': False, 'V_banal': False, 'V_plodding': False, 'V_over-the-top': False, 'V_sequels': False, 'V_hey': False, 'V_sade': False, 'V_real-life': False, 'V_intellectual': False, 'V_details': False, 'V_constantly': False, 'V_belongs': False, 'V_reno': False, 'V_makers': False, 'V_caper': False, 'V_demands': False, 'V_manage': False, 'V_ordinary': False, 'V_creativity': False, 'V_horrible': False, 'V_cloying': False, \"V_children's\": False, 'V_literary': False, 'V_following': False, 'V_fisher': False, 'V_sandler': False, 'V_leaving': False, 'V_protagonist': False, 'V_spoof': False, 'V_polished': False, 'V_snow': False, 'V_stuck': False, 'V_went': False, 'V_finding': False, 'V_iranian': False, 'V_hearts': False, 'V_van': False, 'V_technical': False, 'V_capable': False, 'V_downright': False, 'V_memories': False, 'V_rewarding': False, 'V_touches': False, 'V_lyrical': False, 'V_artists': False, 'V_suggests': False, 'V_blair': False, 'V_credibility': False, 'V_wars': False, 'V_control': False, 'V_books': False, 'V_fatal': False, 'V_released': False, 'V_homage': False, 'V_timely': False, 'V_content': False, 'V_camp': False, 'V_transcends': False, 'V_test': False, 'V_lifeless': False, 'V_realize': False, 'V_lady': False, 'V_silliness': False, 'V_hill': False, 'V_embarrassment': False, 'V_onto': False, 'V_teens': False, 'V_brilliantly': False, 'V_seagal': False, 'V_miller': False, 'V_b': False, 'V_tales': False, 'V_channel': False, 'V_southern': False, 'V_outside': False, 'V_shock': False, 'V_realized': False, 'V_screenwriting': False, 'V_race': False, 'V_helps': False, 'V_lousy': False, 'V_catch': False, 'V_charms': False, 'V_subversive': False, 'V_learn': False, 'V_closer': False, 'V_food': False, 'V_slowly': False, 'V_opening': False, 'V_loose': False, 'V_observations': False, 'V_seemingly': False, 'V_marriage': False, 'V_rap': False, 'V_afraid': False, 'V_inept': False, 'V_tasty': False, 'V_preachy': False, 'V_basic': False, 'V_spent': False, 'V_key': False, 'V_predecessors': False, 'V_hip': False, 'V_guns': False, 'V_bottom': False, 'V_dealing': False, 'V_predictably': False, 'V_packed': False, 'V_directs': False, 'V_frida': False, 'V_clarity': False, 'V_kiss': False, 'V_bitter': False, 'V_false': False, 'V_sentiment': False, 'V_bag': False, 'V_uninspired': False, 'V_current': False, 'V_pull': False, 'V_pretension': False, \"V_'70s\": False, 'V_stereotypes': False, 'V_entertain': False, 'V_theaters': False, 'V_barbershop': False, \"V_filmmaker's\": False, 'V_cult': False, 'V_account': False, 'V_ludicrous': False, 'V_quest': False, 'V_happened': False, 'V_ask': False, 'V_skip': False, 'V_minute': False, 'V_actresses': False, 'V_glass': False, 'V_knowing': False, 'V_finale': False, 'V_bold': False, 'V_bigger': False, 'V_poignancy': False, 'V_signs': False, 'V_evocative': False, 'V_pathetic': False, 'V_commentary': False, 'V_rent': False, 'V_bite': False, 'V_teenage': False, 'V_reminds': False, 'V_flashy': False, 'V_tears': False, 'V_sugar': False, 'V_trek': False, 'V_understanding': False, 'V_harry': False, 'V_expectations': False, 'V_grow': False, 'V_admire': False, 'V_honesty': False, 'V_fly': False, 'V_nostalgia': False, 'V_traditional': False, 'V_trite': False, 'V_[the': False, 'V_sadly': False, 'V_frontal': False, 'V_offbeat': False, 'V_costumes': False, 'V_supporting': False, 'V_animal': False, 'V_design': False, 'V_wacky': False, \"V_one's\": False, 'V_required': False, 'V_dragon': False, 'V_hybrid': False, 'V_self-conscious': False, 'V_insights': False, 'V_issue': False, 'V_birthday': False, 'V_mainly': False, 'V_showtime': False, 'V_record': False, 'V_degree': False, 'V_winner': False, 'V_quick': False, 'V_wow': False, 'V_inner': False, 'V_twisted': False, 'V_mad': False, 'V_inspire': False, 'V_bloody': False, 'V_smarter': False, 'V_appear': False, 'V_context': False, 'V_drugs': False, 'V_trappings': False, 'V_parable': False, 'V_gradually': False, 'V_subtlety': False, 'V_witch': False, 'V_spirited': False, 'V_somber': False, 'V_victims': False, 'V_hugh': False, 'V_junk': False, 'V_heard': False, 'V_unfaithful': False, 'V_chaotic': False, 'V_service': False, 'V_season': False, 'V_mere': False, 'V_artificial': False, 'V_curiosity': False, 'V_pick': False, 'V_format': False, 'V_contains': False, 'V_tour': False, 'V_revelatory': False, 'V_cuts': False, 'V_rip-off': False, 'V_earlier': False, 'V_poem': False, 'V_finest': False, 'V_devastating': False, 'V_hair': False, 'V_apparent': False, 'V_startling': False, 'V_string': False, 'V_holocaust': False, 'V_fate': False, 'V_dramatically': False, 'V_fill': False, 'V_rush': False, 'V_proceedings': False, 'V_disbelief': False, 'V_understands': False, 'V_onscreen': False, 'V_pat': False, 'V_graphic': False, 'V_terrifying': False, 'V_prison': False, 'V_disappointed': False, 'V_drive': False, 'V_amused': False, 'V_c': False, 'V_trash': False, 'V_unintentional': False, 'V_enterprise': False, 'V_computer': False, 'V_engage': False, 'V_providing': False, 'V_santa': False, 'V_superb': False, 'V_comfort': False, 'V_equal': False, 'V_contrivances': False, 'V_distance': False, 'V_saving': False, 'V_jealousy': False, 'V_windtalkers': False, 'V_impression': False, 'V_drags': False, 'V_justify': False, 'V_excess': False, 'V_monsters': False, 'V_lawrence': False, 'V_seven': False, 'V_news': False, 'V_scores': False, 'V_humour': False, 'V_relentless': False, 'V_trapped': False, 'V_bringing': False, 'V_heartbreaking': False, 'V_uplifting': False, 'V_crude': False, 'V_stealing': False, 'V_dancing': False, 'V_shocking': False, 'V_pianist': False, 'V_achievement': False, 'V_committed': False, 'V_changing': False, 'V_jack': False, 'V_em': False, 'V_husband': False, 'V_cruel': False, 'V_saying': False, 'V_saturday': False, 'V_smug': False, 'V_turning': False, 'V_earth': False, 'V_notice': False, 'V_hong': False, 'V_undeniably': False, 'V_answers': False, 'V_fierce': False, 'V_continues': False, 'V_pathos': False, 'V_u': False, 'V_relies': False, 'V_effectively': False, 'V_incoherent': False, 'V_menace': False, 'V_missed': False, 'V_cliched': False, \"V_soderbergh's\": False, 'V_smile': False, 'V_rhythm': False, 'V_madonna': False, 'V_escapism': False, 'V_stand-up': False, 'V_charlie': False, 'V_competent': False, 'V_park': False, 'V_parody': False, 'V_absurd': False, 'V_davis': False, 'V_figures': False, 'V_honestly': False, 'V_broken': False, 'V_americans': False, 'V_total': False, 'V_teenagers': False, 'V_ingredients': False, 'V_background': False, 'V_whimsy': False, 'V_importance': False, 'V_diversion': False, 'V_astonishing': False, 'V_photography': False, 'V_distinctive': False, 'V_stylized': False, 'V_endeavor': False, 'V_con': False, 'V_filme': False, 'V_noir': False, 'V_adds': False, 'V_paul': False, 'V_meant': False, 'V_timing': False, 'V_kung': False, 'V_inoffensive': False, 'V_mixture': False, 'V_characterizations': False, 'V_path': False, 'V_language': False, 'V_innocence': False, 'V_after-school': False, 'V_bother': False, 'V_nightmare': False, 'V_lived': False, 'V_held': False, 'V_hoffman': True, 'V_terribly': False, 'V_charismatic': False, 'V_abstract': False, 'V_destination': False, 'V_washington': False, 'V_wondering': False, 'V_saccharine': False, 'V_intoxicating': False, 'V_nevertheless': False, 'V_technology': False, 'V_flash': False, 'V_condition': False, 'V_pack': False, 'V_english': False, 'V_follows': False, 'V_gag': False, 'V_well-meaning': False, 'V_order': False, 'V_shoot': False, 'V_street': False, 'V_spider-man': False, 'V_vital': False, 'V_busy': False, 'V_lovers': False, 'V_remembered': False, 'V_landscape': False, 'V_loving': False, 'V_ticket': False, 'V_serving': False, 'V_credible': False, 'V_candy': False, 'V_breathtaking': False, 'V_cultures': False, 'V_feature-length': False, 'V_roots': False, 'V_delightfully': False, 'V_loves': False, 'V_soggy': False, \"V_america's\": False, 'V_significant': False, 'V_grandeur': False, 'V_lane': False, 'V_carefully': False, 'V_hands': False, 'V_forces': False, 'V_slasher': False, 'V_elaborate': False, 'V_static': False, 'V_speaks': False, 'V_building': False, 'V_piano': False, 'V_analyze': False, 'V_happiness': False, 'V_draws': False, 'V_sly': False, 'V_constant': False, 'V_connect': False, 'V_madness': False, 'V_leaden': False, 'V_demonstrates': False, 'V_build': False, 'V_secret': False, 'V_testament': False, 'V_started': False, 'V_choppy': False, 'V_seemed': False, 'V_element': False, 'V_despair': False, 'V_deft': False, 'V_51': False, 'V_professional': False, 'V_freaks': False, \"V_'60s\": False, 'V_root': False, 'V_sara': False, 'V_fighting': False, 'V_saga': False, 'V_alabama': False, 'V_maintains': False, 'V_image': False, 'V_wrote': False}, 'pos')\n"
     ]
    }
   ],
   "source": [
    "# function to convert strings into word features\n",
    "def document_features(document, word_features):\n",
    "    document_words = set(document)\n",
    "    features = {}\n",
    "    for word in word_features: # Iterating through word features which are top 2000 words appearing in our training corpus\n",
    "        features['V_{}'.format(word)] = (word in document_words) # This will return True or False depending on whether the word is present in document\n",
    "    return features\n",
    "\n",
    "featuresets = [(document_features(d, word_features), c) for (d, c) in documents] # making sentence, polarity pairs for training the model\n",
    "\n",
    "print(featuresets[0])"
   ]
  },
  {
   "cell_type": "code",
   "execution_count": 47,
   "id": "77747047",
   "metadata": {
    "colab": {
     "base_uri": "https://localhost:8080/"
    },
    "executionInfo": {
     "elapsed": 17,
     "status": "ok",
     "timestamp": 1682193049524,
     "user": {
      "displayName": "Aadil Iliyas Zikre",
      "userId": "11139065713760395341"
     },
     "user_tz": 240
    },
    "hidden": true,
    "id": "23_nCk4WQ3j6",
    "outputId": "790a4372-36b9-4740-f47c-000b1ca12eff"
   },
   "outputs": [
    {
     "data": {
      "text/plain": [
       "10662"
      ]
     },
     "execution_count": 47,
     "metadata": {},
     "output_type": "execute_result"
    }
   ],
   "source": [
    "len(featuresets) # total documents ( rows )"
   ]
  },
  {
   "cell_type": "code",
   "execution_count": 48,
   "id": "8184b1f1",
   "metadata": {
    "colab": {
     "base_uri": "https://localhost:8080/"
    },
    "executionInfo": {
     "elapsed": 26298,
     "status": "ok",
     "timestamp": 1682193075813,
     "user": {
      "displayName": "Aadil Iliyas Zikre",
      "userId": "11139065713760395341"
     },
     "user_tz": 240
    },
    "hidden": true,
    "id": "F54VTYk43r2C",
    "outputId": "71e48d5a-11f8-4200-cc8f-112252ffc380"
   },
   "outputs": [
    {
     "data": {
      "text/plain": [
       "0.722"
      ]
     },
     "execution_count": 48,
     "metadata": {},
     "output_type": "execute_result"
    }
   ],
   "source": [
    "train_set, test_set = featuresets[1000:], featuresets[:1000] # taking the first 1000 documents as test and remaining documents as train set\n",
    "classifier = nltk.NaiveBayesClassifier.train(train_set) # fitting the naive bayes classifier\n",
    "\n",
    "nltk.classify.accuracy(classifier, test_set) # calculating accuracy on the classifier"
   ]
  },
  {
   "cell_type": "code",
   "execution_count": 49,
   "id": "dcda39cc",
   "metadata": {
    "colab": {
     "base_uri": "https://localhost:8080/"
    },
    "executionInfo": {
     "elapsed": 30,
     "status": "ok",
     "timestamp": 1682193075814,
     "user": {
      "displayName": "Aadil Iliyas Zikre",
      "userId": "11139065713760395341"
     },
     "user_tz": 240
    },
    "hidden": true,
    "id": "Ghx1z1Al4Pg0",
    "outputId": "24d0bbc8-a892-4a8b-98eb-983b3c5eafa1"
   },
   "outputs": [
    {
     "name": "stdout",
     "output_type": "stream",
     "text": [
      "Most Informative Features\n",
      "               V_tedious = True              neg : pos    =     19.1 : 1.0\n",
      "              V_mediocre = True              neg : pos    =     15.7 : 1.0\n",
      "               V_generic = True              neg : pos    =     15.1 : 1.0\n",
      "                  V_flat = True              neg : pos    =     14.3 : 1.0\n",
      "                    V_90 = True              neg : pos    =     13.7 : 1.0\n",
      "                  V_loud = True              neg : pos    =     13.7 : 1.0\n",
      "                V_boring = True              neg : pos    =     12.8 : 1.0\n",
      "                  V_lame = True              neg : pos    =     12.4 : 1.0\n",
      "                 V_stale = True              neg : pos    =     11.7 : 1.0\n",
      "            V_refreshing = True              pos : neg    =     11.6 : 1.0\n",
      "                  V_warm = True              pos : neg    =     11.3 : 1.0\n",
      "             V_wonderful = True              pos : neg    =     11.3 : 1.0\n",
      "             V_realistic = True              pos : neg    =     11.0 : 1.0\n",
      "          V_refreshingly = True              pos : neg    =     11.0 : 1.0\n",
      "              V_provides = True              pos : neg    =     10.6 : 1.0\n",
      "             V_offensive = True              neg : pos    =     10.4 : 1.0\n",
      "              V_tiresome = True              neg : pos    =     10.4 : 1.0\n",
      "                V_stupid = True              neg : pos    =     10.2 : 1.0\n",
      "              V_captures = True              pos : neg    =     10.2 : 1.0\n",
      "                  V_dull = True              neg : pos    =      9.8 : 1.0\n",
      "              V_mindless = True              neg : pos    =      9.7 : 1.0\n",
      "                V_unless = True              neg : pos    =      9.7 : 1.0\n",
      "              V_chilling = True              pos : neg    =      9.6 : 1.0\n",
      "              V_powerful = True              pos : neg    =      9.4 : 1.0\n",
      "            V_delightful = True              pos : neg    =      9.4 : 1.0\n",
      "              V_annoying = True              neg : pos    =      9.0 : 1.0\n",
      "            V_apparently = True              neg : pos    =      9.0 : 1.0\n",
      "              V_disaster = True              neg : pos    =      9.0 : 1.0\n",
      "              V_supposed = True              neg : pos    =      9.0 : 1.0\n",
      "                  V_ages = True              pos : neg    =      9.0 : 1.0\n"
     ]
    }
   ],
   "source": [
    "classifier.show_most_informative_features(30)\n",
    "# One can read this as this. Lets take first example v_engrossing, one can say its odds of appearing in a positive sentence is 19 is to 1"
   ]
  },
  {
   "cell_type": "code",
   "execution_count": 50,
   "id": "00ce0ab5",
   "metadata": {
    "colab": {
     "base_uri": "https://localhost:8080/"
    },
    "executionInfo": {
     "elapsed": 9583,
     "status": "ok",
     "timestamp": 1682193085378,
     "user": {
      "displayName": "Aadil Iliyas Zikre",
      "userId": "11139065713760395341"
     },
     "user_tz": 240
    },
    "hidden": true,
    "id": "cCXSEyk1PJpE",
    "outputId": "2ec2a31f-e5fb-47d3-cbd2-729bf5275a68"
   },
   "outputs": [
    {
     "name": "stderr",
     "output_type": "stream",
     "text": [
      "100%|██████████| 1000/1000 [00:09<00:00, 104.14it/s]\n"
     ]
    }
   ],
   "source": [
    "# loop to capture actual and predicted tags for documents in the test set\n",
    "res_tup = []\n",
    "for doc, act_tag in tqdm(test_set):\n",
    "  pred_tag = classifier.classify(doc)\n",
    "  res_tup.append((doc, act_tag, pred_tag))"
   ]
  },
  {
   "cell_type": "code",
   "execution_count": 51,
   "id": "321b57e5",
   "metadata": {
    "executionInfo": {
     "elapsed": 5,
     "status": "ok",
     "timestamp": 1682193085379,
     "user": {
      "displayName": "Aadil Iliyas Zikre",
      "userId": "11139065713760395341"
     },
     "user_tz": 240
    },
    "hidden": true,
    "id": "-3NYdP0zR1z5"
   },
   "outputs": [],
   "source": [
    "df_test_res = pd.DataFrame(res_tup, columns = ['document', 'actual_tag', 'predicted_tag']) # making a dataframe"
   ]
  },
  {
   "cell_type": "code",
   "execution_count": 52,
   "id": "10d48204",
   "metadata": {
    "executionInfo": {
     "elapsed": 4,
     "status": "ok",
     "timestamp": 1682193085379,
     "user": {
      "displayName": "Aadil Iliyas Zikre",
      "userId": "11139065713760395341"
     },
     "user_tz": 240
    },
    "hidden": true,
    "id": "Yu2dRotuRWI9"
   },
   "outputs": [],
   "source": [
    "import sklearn.metrics as sm "
   ]
  },
  {
   "cell_type": "code",
   "execution_count": 53,
   "id": "a140feb2",
   "metadata": {
    "colab": {
     "base_uri": "https://localhost:8080/"
    },
    "executionInfo": {
     "elapsed": 11,
     "status": "ok",
     "timestamp": 1682193085584,
     "user": {
      "displayName": "Aadil Iliyas Zikre",
      "userId": "11139065713760395341"
     },
     "user_tz": 240
    },
    "hidden": true,
    "id": "x81rfM6mRfgv",
    "outputId": "4b7b9d27-fdb4-480c-808b-5391c1d8d1ef"
   },
   "outputs": [
    {
     "name": "stdout",
     "output_type": "stream",
     "text": [
      "              precision    recall  f1-score   support\n",
      "\n",
      "         neg       0.74      0.71      0.72       511\n",
      "         pos       0.71      0.73      0.72       489\n",
      "\n",
      "    accuracy                           0.72      1000\n",
      "   macro avg       0.72      0.72      0.72      1000\n",
      "weighted avg       0.72      0.72      0.72      1000\n",
      "\n"
     ]
    }
   ],
   "source": [
    "print(sm.classification_report(df_test_res['actual_tag'], df_test_res['predicted_tag'])) # printing classification report for precision recall and accuracy"
   ]
  },
  {
   "cell_type": "code",
   "execution_count": 54,
   "id": "d0e92472",
   "metadata": {
    "colab": {
     "base_uri": "https://localhost:8080/",
     "height": 143
    },
    "executionInfo": {
     "elapsed": 9,
     "status": "ok",
     "timestamp": 1682193085585,
     "user": {
      "displayName": "Aadil Iliyas Zikre",
      "userId": "11139065713760395341"
     },
     "user_tz": 240
    },
    "hidden": true,
    "id": "rm9scViNlYE2",
    "outputId": "8b199b72-2dc3-4eeb-d472-668966eb8411"
   },
   "outputs": [
    {
     "data": {
      "application/vnd.google.colaboratory.intrinsic+json": {
       "type": "string"
      },
      "text/plain": [
       "' CLASSIFIER 2 : \\nType : Naive Bayes Classifier \\nFeatures : 4000+ Boolean features which state whether any token matches the reference tokens. \\n  Reference features that begin with V_ are normal words, and V_NOT are negation words (user defined)\\nPreprocessing to get the reference tokens : \\n  1. Tokenization\\n  2. Lemmatization \\n  3. Stop Words Removal by lowercasing the tokens temporarily \\n  4. Punctuations only Tokens removal \\n  5. Handling negation by defining negation words\\nTraining: All documents after first 1000 documents\\nTesting: First 1000 documents\\nResult: Accuracy = 0.79 | F1 Score (pos) = 0.78 | F1 Score (neg) = 0.79\\n  We can see that the accuracy is 79 % and F1 Score for positive and negative is almost similar. Thats a good indication that the model is \\n  not biased towards any one class. Also, when compared to the previous model, the accuracy has increased by 7% which is huge, so definitely \\n  preprocessing more heavily worked in our favour. Hence, we will use the second model as the final model for the prediction.\\n'"
      ]
     },
     "execution_count": 54,
     "metadata": {},
     "output_type": "execute_result"
    }
   ],
   "source": [
    "\"\"\" CLASSIFIER 2 : \n",
    "Type : Naive Bayes Classifier \n",
    "Features : 4000+ Boolean features which state whether any token matches the reference tokens. \n",
    "  Reference features that begin with V_ are normal words, and V_NOT are negation words (user defined)\n",
    "Preprocessing to get the reference tokens : \n",
    "  1. Tokenization\n",
    "  2. Lemmatization \n",
    "  3. Stop Words Removal by lowercasing the tokens temporarily \n",
    "  4. Punctuations only Tokens removal \n",
    "  5. Handling negation by defining negation words\n",
    "Training: All documents after first 1000 documents\n",
    "Testing: First 1000 documents\n",
    "Result: Accuracy = 0.79 | F1 Score (pos) = 0.78 | F1 Score (neg) = 0.79\n",
    "  We can see that the accuracy is 79 % and F1 Score for positive and negative is almost similar. Thats a good indication that the model is \n",
    "  not biased towards any one class. Also, when compared to the previous model, the accuracy has increased by 7% which is huge, so definitely \n",
    "  preprocessing more heavily worked in our favour. Hence, we will use the second model as the final model for the prediction.\n",
    "\"\"\""
   ]
  },
  {
   "cell_type": "code",
   "execution_count": 55,
   "id": "8c4d43c5",
   "metadata": {
    "executionInfo": {
     "elapsed": 7,
     "status": "ok",
     "timestamp": 1682193085585,
     "user": {
      "displayName": "Aadil Iliyas Zikre",
      "userId": "11139065713760395341"
     },
     "user_tz": 240
    },
    "hidden": true,
    "id": "zqOlk9CGhiAK"
   },
   "outputs": [],
   "source": [
    "from nltk.stem import WordNetLemmatizer\n",
    "  \n",
    "lemmatizer = WordNetLemmatizer() # Initializing lemmatizer"
   ]
  },
  {
   "cell_type": "code",
   "execution_count": 56,
   "id": "2ec7e557",
   "metadata": {
    "executionInfo": {
     "elapsed": 7,
     "status": "ok",
     "timestamp": 1682193085586,
     "user": {
      "displayName": "Aadil Iliyas Zikre",
      "userId": "11139065713760395341"
     },
     "user_tz": 240
    },
    "hidden": true,
    "id": "6shiRxmGUNj5"
   },
   "outputs": [],
   "source": [
    "negationwords = ['no', 'not', 'never', 'none', 'nowhere', 'nothing', 'noone', 'rather', 'hardly', 'scarcely', 'rarely', 'seldom', 'neither', 'nor']\n",
    "\n",
    "def NOT_features(document, word_features, negationwords):\n",
    "    features = {}\n",
    "    for word in word_features:\n",
    "        features['V_{}'.format(word)] = False\n",
    "        features['V_NOT{}'.format(word)] = False\n",
    "    # go through document words in order\n",
    "    for i in range(0, len(document)):\n",
    "        word = document[i]\n",
    "        if ((i + 1) < len(document)) and ((word in negationwords) or (word.endswith(\"n't\"))):\n",
    "            i += 1\n",
    "            features['V_NOT{}'.format(document[i])] = (document[i] in word_features)\n",
    "        else:\n",
    "            features['V_{}'.format(word)] = (word in word_features)\n",
    "    return features\n"
   ]
  },
  {
   "cell_type": "code",
   "execution_count": 57,
   "id": "2aef1035",
   "metadata": {
    "colab": {
     "base_uri": "https://localhost:8080/"
    },
    "executionInfo": {
     "elapsed": 1717,
     "status": "ok",
     "timestamp": 1682193087296,
     "user": {
      "displayName": "Aadil Iliyas Zikre",
      "userId": "11139065713760395341"
     },
     "user_tz": 240
    },
    "hidden": true,
    "id": "OXbQnTaPJyWV",
    "outputId": "86fff29d-26e4-4d95-beda-efcaf74ed2f9"
   },
   "outputs": [
    {
     "name": "stdout",
     "output_type": "stream",
     "text": [
      "['film', 'movie', 'one', 'like', 'story', 'much', 'even', 'good', 'comedy', 'time', 'characters', 'little', 'way', 'funny', 'make', 'enough', 'never', 'makes', 'may', 'us', 'work', 'best', 'bad', 'director', 'love', 'would', 'life', \"there's\", 'movies', 'new', 'well', 'could', 'something', 'really', 'made', 'performances', 'drama', 'many', \"that's\", 'plot', 'look', 'films', 'every', 'still', 'see', 'two', 'nothing', 'people', 'better', 'without']\n",
      "['film', 'movie', 'one', 'like', 'ha', 'make', 'story', 'character', 'time', 'much', 'comedy', 'even', 'good', 'way', 'work', 'performance', 'little', 'funny', 'life', 'feel', 'get', 'enough', 'never', 'u', 'director', 'may', 'thing', 'best', 'love', 'bad', 'look', 'would', 'take', 'wa', 'come', \"there's\", 'well', 'new', 'could', 'something', 'really', 'made', 'audience', 'drama', 'see', 'doe', \"that's\", 'plot', 'many', 'still']\n"
     ]
    }
   ],
   "source": [
    "random.shuffle(documents)\n",
    "\n",
    "all_words_list_lemmatized = [lemmatizer.lemmatize(word) for (sent,cat) in documents for word in sent] # lemmatizing the word at the time of collection\n",
    "all_words_list_lemmatized = [word for word in all_words_list_lemmatized if word.lower() not in stopwords] # remove stop_words\n",
    "all_words_list_lemmatized = [word for word in all_words_list_lemmatized if not all(c in punctuation for c in word)] # remove tokens which are only punctuations\n",
    "all_words_lemmatized = nltk.FreqDist(all_words_list_lemmatized)\n",
    "\n",
    "word_items_lemmatized = all_words_lemmatized.most_common(2000) # again selecting top 2000 words for the model training features\n",
    "word_features_lemmatized = [word for (word,count) in word_items_lemmatized]\n",
    "\n",
    "print(word_features[0:50])\n",
    "print(word_features_lemmatized[0:50])"
   ]
  },
  {
   "cell_type": "code",
   "execution_count": 58,
   "id": "80a4f71a",
   "metadata": {
    "colab": {
     "base_uri": "https://localhost:8080/"
    },
    "executionInfo": {
     "elapsed": 21168,
     "status": "ok",
     "timestamp": 1682193108461,
     "user": {
      "displayName": "Aadil Iliyas Zikre",
      "userId": "11139065713760395341"
     },
     "user_tz": 240
    },
    "hidden": true,
    "id": "Shb2pRbApVx3",
    "outputId": "1193c4df-e8b7-4499-e402-147cc3cea894"
   },
   "outputs": [
    {
     "name": "stdout",
     "output_type": "stream",
     "text": [
      "False\n",
      "False\n"
     ]
    }
   ],
   "source": [
    "# define the feature sets\n",
    "NOT_featuresets = [(NOT_features(d, word_features_lemmatized, negationwords), c) for (d, c) in documents]\n",
    "# show the values of a couple of example features\n",
    "print(NOT_featuresets[0][0]['V_NOTcare'])\n",
    "print(NOT_featuresets[0][0]['V_always'])"
   ]
  },
  {
   "cell_type": "code",
   "execution_count": 59,
   "id": "6b1042ed",
   "metadata": {
    "colab": {
     "base_uri": "https://localhost:8080/"
    },
    "executionInfo": {
     "elapsed": 58106,
     "status": "ok",
     "timestamp": 1682193166547,
     "user": {
      "displayName": "Aadil Iliyas Zikre",
      "userId": "11139065713760395341"
     },
     "user_tz": 240
    },
    "hidden": true,
    "id": "NE1A0ZgBpWgv",
    "outputId": "94ef86bd-6240-4671-e547-c48469beb43d"
   },
   "outputs": [
    {
     "data": {
      "text/plain": [
       "0.768"
      ]
     },
     "execution_count": 59,
     "metadata": {},
     "output_type": "execute_result"
    }
   ],
   "source": [
    "train_set_2, test_set_2 = NOT_featuresets[1000:], NOT_featuresets[:1000]\n",
    "classifier_2 = nltk.NaiveBayesClassifier.train(train_set_2) # fitting the second classifier\n",
    "\n",
    "nltk.classify.accuracy(classifier_2, test_set_2) # accuracy: we can see that the accuracy is less"
   ]
  },
  {
   "cell_type": "code",
   "execution_count": 60,
   "id": "d137cd87",
   "metadata": {
    "colab": {
     "base_uri": "https://localhost:8080/"
    },
    "executionInfo": {
     "elapsed": 13520,
     "status": "ok",
     "timestamp": 1682193180062,
     "user": {
      "displayName": "Aadil Iliyas Zikre",
      "userId": "11139065713760395341"
     },
     "user_tz": 240
    },
    "hidden": true,
    "id": "_XHDd3ofp6lD",
    "outputId": "41bdfb2f-5879-44c3-b25d-478d00027a0c"
   },
   "outputs": [
    {
     "name": "stderr",
     "output_type": "stream",
     "text": [
      "100%|██████████| 1000/1000 [00:13<00:00, 75.93it/s]\n"
     ]
    }
   ],
   "source": [
    "# capturing predicted tags from this new model\n",
    "res_tup = []\n",
    "for doc, act_tag in tqdm(test_set_2):\n",
    "  pred_tag = classifier_2.classify(doc)\n",
    "  res_tup.append((doc, act_tag, pred_tag))"
   ]
  },
  {
   "cell_type": "code",
   "execution_count": 61,
   "id": "d67f2f87",
   "metadata": {
    "executionInfo": {
     "elapsed": 22,
     "status": "ok",
     "timestamp": 1682193180062,
     "user": {
      "displayName": "Aadil Iliyas Zikre",
      "userId": "11139065713760395341"
     },
     "user_tz": 240
    },
    "hidden": true,
    "id": "S3KFl1C4p6f0"
   },
   "outputs": [],
   "source": [
    "df_test_res_2 = pd.DataFrame(res_tup, columns = ['document', 'actual_tag', 'predicted_tag'])"
   ]
  },
  {
   "cell_type": "code",
   "execution_count": 62,
   "id": "8a528029",
   "metadata": {
    "colab": {
     "base_uri": "https://localhost:8080/"
    },
    "executionInfo": {
     "elapsed": 202,
     "status": "ok",
     "timestamp": 1682193180245,
     "user": {
      "displayName": "Aadil Iliyas Zikre",
      "userId": "11139065713760395341"
     },
     "user_tz": 240
    },
    "hidden": true,
    "id": "_ERdTBrLp6dS",
    "outputId": "a713bc99-78fd-498a-bd45-563c6428fc67"
   },
   "outputs": [
    {
     "name": "stdout",
     "output_type": "stream",
     "text": [
      "              precision    recall  f1-score   support\n",
      "\n",
      "         neg       0.76      0.80      0.78       504\n",
      "         pos       0.78      0.74      0.76       496\n",
      "\n",
      "    accuracy                           0.77      1000\n",
      "   macro avg       0.77      0.77      0.77      1000\n",
      "weighted avg       0.77      0.77      0.77      1000\n",
      "\n"
     ]
    }
   ],
   "source": [
    "print(sm.classification_report(df_test_res_2['actual_tag'], df_test_res_2['predicted_tag'])) # metrics like precision recall f1 score for second model"
   ]
  },
  {
   "cell_type": "code",
   "execution_count": 63,
   "id": "24499cff",
   "metadata": {
    "executionInfo": {
     "elapsed": 8,
     "status": "ok",
     "timestamp": 1682193180246,
     "user": {
      "displayName": "Aadil Iliyas Zikre",
      "userId": "11139065713760395341"
     },
     "user_tz": 240
    },
    "hidden": true,
    "id": "53omsW1sp6Sl"
   },
   "outputs": [],
   "source": [
    "# reading the file for second part at the below location. Please change the variable file path as per the requirement\n",
    "file_path = \"/content/drive/MyDrive/Syracuse University/IST 664 Natural Language Processing/Assignment 2\" # Please change this path as per your drive.\n",
    "file_name = \"aadil_zikre_assignment_2_first_part_file.csv\"\n",
    "df_orig = pd.read_csv(f\"{file_path}/{file_name}\")"
   ]
  },
  {
   "cell_type": "code",
   "execution_count": 64,
   "id": "ee8b92b7",
   "metadata": {
    "executionInfo": {
     "elapsed": 7,
     "status": "ok",
     "timestamp": 1682193180246,
     "user": {
      "displayName": "Aadil Iliyas Zikre",
      "userId": "11139065713760395341"
     },
     "user_tz": 240
    },
    "hidden": true,
    "id": "NH237VAXJyoM"
   },
   "outputs": [],
   "source": [
    "def nb_predict(text, classifier, with_negation = False):\n",
    "  texttokens = nltk.word_tokenize(text)\n",
    "  if with_negation:\n",
    "    texttokens = [lemmatizer.lemmatize(i) for i in texttokens]\n",
    "    texttokens = [word for word in texttokens if word.lower() not in stopwords] # remove stop_words\n",
    "    texttokens = [word for word in texttokens if not all(c in punctuation for c in word)] # remove tokens which are only punctuations\n",
    "    inputfeatureset = NOT_features(texttokens, word_features_lemmatized, negationwords)\n",
    "  else:\n",
    "    texttokens = [word for word in texttokens if word.lower() not in stopwords] # remove stop_words\n",
    "    texttokens = [word for word in texttokens if not all(c in punctuation for c in word)] # remove tokens which are only punctuations\n",
    "    inputfeatureset = document_features(texttokens, word_features)\n",
    "  return classifier.classify(inputfeatureset)"
   ]
  },
  {
   "cell_type": "code",
   "execution_count": 65,
   "id": "ce238683",
   "metadata": {
    "colab": {
     "base_uri": "https://localhost:8080/"
    },
    "executionInfo": {
     "elapsed": 154482,
     "status": "ok",
     "timestamp": 1682193334721,
     "user": {
      "displayName": "Aadil Iliyas Zikre",
      "userId": "11139065713760395341"
     },
     "user_tz": 240
    },
    "hidden": true,
    "id": "mov-HWJeSgbK",
    "outputId": "eee9d531-43ba-464b-e4a9-0fd1f6db7ab0"
   },
   "outputs": [
    {
     "name": "stderr",
     "output_type": "stream",
     "text": [
      "100%|██████████| 19209/19209 [02:34<00:00, 124.26it/s]\n"
     ]
    }
   ],
   "source": [
    "df_orig[\"polarity_pred_m1\"] = df_orig[\"reviewText_sents\"].progress_apply(lambda x: nb_predict(x, classifier))"
   ]
  },
  {
   "cell_type": "code",
   "execution_count": null,
   "id": "b2c6a927",
   "metadata": {
    "colab": {
     "background_save": true,
     "base_uri": "https://localhost:8080/"
    },
    "hidden": true,
    "id": "Ccr7nYwQZCAd"
   },
   "outputs": [
    {
     "name": "stderr",
     "output_type": "stream",
     "text": [
      "100%|██████████| 19209/19209 [04:54<00:00, 65.29it/s]\n"
     ]
    }
   ],
   "source": [
    "df_orig[\"polarity_pred_m2\"] = df_orig[\"reviewText_sents\"].progress_apply(lambda x: nb_predict(x, classifier_2, True))"
   ]
  },
  {
   "cell_type": "code",
   "execution_count": null,
   "id": "f63f5b00",
   "metadata": {
    "colab": {
     "background_save": true
    },
    "hidden": true,
    "id": "83z06UgHKnjX"
   },
   "outputs": [
    {
     "data": {
      "text/plain": [
       "neg    12012\n",
       "pos     7197\n",
       "Name: polarity_pred_m1, dtype: int64"
      ]
     },
     "metadata": {},
     "output_type": "display_data"
    },
    {
     "data": {
      "text/plain": [
       "neg    11598\n",
       "pos     7611\n",
       "Name: polarity_pred_m2, dtype: int64"
      ]
     },
     "metadata": {},
     "output_type": "display_data"
    }
   ],
   "source": [
    "display(df_orig.polarity_pred_m1.value_counts())\n",
    "display(df_orig.polarity_pred_m2.value_counts())\n",
    "# Classifier 2 is a better classifier and we use it instead of 1 for further analysis "
   ]
  },
  {
   "cell_type": "code",
   "execution_count": null,
   "id": "5444de26",
   "metadata": {
    "colab": {
     "background_save": true
    },
    "hidden": true,
    "id": "FQYS0sHAVL50"
   },
   "outputs": [],
   "source": [
    "df_p2 = df_orig.groupby(\"reviewText\")[\"polarity_pred_m2\"].value_counts().rename(\"polarity_count_\").reset_index()"
   ]
  },
  {
   "cell_type": "code",
   "execution_count": null,
   "id": "92927509",
   "metadata": {
    "colab": {
     "background_save": true
    },
    "hidden": true,
    "id": "nWxJ8zwTViH1"
   },
   "outputs": [],
   "source": [
    "df_p2 = df_p2.set_index([\"reviewText\",\"polarity_pred_m2\"]).unstack(fill_value=0).reset_index().rename_axis([None,None], axis = 1)"
   ]
  },
  {
   "cell_type": "code",
   "execution_count": null,
   "id": "9d4eeeb3",
   "metadata": {
    "colab": {
     "background_save": true
    },
    "hidden": true,
    "id": "QlO2-SkbYOQt"
   },
   "outputs": [],
   "source": [
    "df_p2.columns = [f\"{i}{j}\"for i,j in df_p2.columns]"
   ]
  },
  {
   "cell_type": "code",
   "execution_count": null,
   "id": "0ba7654c",
   "metadata": {
    "colab": {
     "background_save": true
    },
    "hidden": true,
    "id": "WGDJ1ApHS5Gl"
   },
   "outputs": [
    {
     "data": {
      "text/html": [
       "\n",
       "  <div id=\"df-7c376583-3a4d-47eb-b316-a8dfef54cdff\">\n",
       "    <div class=\"colab-df-container\">\n",
       "      <div>\n",
       "<style scoped>\n",
       "    .dataframe tbody tr th:only-of-type {\n",
       "        vertical-align: middle;\n",
       "    }\n",
       "\n",
       "    .dataframe tbody tr th {\n",
       "        vertical-align: top;\n",
       "    }\n",
       "\n",
       "    .dataframe thead th {\n",
       "        text-align: right;\n",
       "    }\n",
       "</style>\n",
       "<table border=\"1\" class=\"dataframe\">\n",
       "  <thead>\n",
       "    <tr style=\"text-align: right;\">\n",
       "      <th></th>\n",
       "      <th>reviewText</th>\n",
       "      <th>polarity_count_neg</th>\n",
       "      <th>polarity_count_pos</th>\n",
       "    </tr>\n",
       "  </thead>\n",
       "  <tbody>\n",
       "    <tr>\n",
       "      <th>0</th>\n",
       "      <td>&amp;#34;That's what she said&amp;#34; jokes aside, th...</td>\n",
       "      <td>4</td>\n",
       "      <td>0</td>\n",
       "    </tr>\n",
       "    <tr>\n",
       "      <th>1</th>\n",
       "      <td>&amp;#34;What is thaaaat?!?&amp;#34; That was the shri...</td>\n",
       "      <td>5</td>\n",
       "      <td>2</td>\n",
       "    </tr>\n",
       "    <tr>\n",
       "      <th>2</th>\n",
       "      <td>** PLEASE NOTE **  I was new to amazon at the ...</td>\n",
       "      <td>14</td>\n",
       "      <td>0</td>\n",
       "    </tr>\n",
       "    <tr>\n",
       "      <th>3</th>\n",
       "      <td>... but I am not an acrobat.  Takes me more ti...</td>\n",
       "      <td>2</td>\n",
       "      <td>0</td>\n",
       "    </tr>\n",
       "    <tr>\n",
       "      <th>4</th>\n",
       "      <td>... my clothes on-line, I hate sending stuff b...</td>\n",
       "      <td>3</td>\n",
       "      <td>0</td>\n",
       "    </tr>\n",
       "  </tbody>\n",
       "</table>\n",
       "</div>\n",
       "      <button class=\"colab-df-convert\" onclick=\"convertToInteractive('df-7c376583-3a4d-47eb-b316-a8dfef54cdff')\"\n",
       "              title=\"Convert this dataframe to an interactive table.\"\n",
       "              style=\"display:none;\">\n",
       "        \n",
       "  <svg xmlns=\"http://www.w3.org/2000/svg\" height=\"24px\"viewBox=\"0 0 24 24\"\n",
       "       width=\"24px\">\n",
       "    <path d=\"M0 0h24v24H0V0z\" fill=\"none\"/>\n",
       "    <path d=\"M18.56 5.44l.94 2.06.94-2.06 2.06-.94-2.06-.94-.94-2.06-.94 2.06-2.06.94zm-11 1L8.5 8.5l.94-2.06 2.06-.94-2.06-.94L8.5 2.5l-.94 2.06-2.06.94zm10 10l.94 2.06.94-2.06 2.06-.94-2.06-.94-.94-2.06-.94 2.06-2.06.94z\"/><path d=\"M17.41 7.96l-1.37-1.37c-.4-.4-.92-.59-1.43-.59-.52 0-1.04.2-1.43.59L10.3 9.45l-7.72 7.72c-.78.78-.78 2.05 0 2.83L4 21.41c.39.39.9.59 1.41.59.51 0 1.02-.2 1.41-.59l7.78-7.78 2.81-2.81c.8-.78.8-2.07 0-2.86zM5.41 20L4 18.59l7.72-7.72 1.47 1.35L5.41 20z\"/>\n",
       "  </svg>\n",
       "      </button>\n",
       "      \n",
       "  <style>\n",
       "    .colab-df-container {\n",
       "      display:flex;\n",
       "      flex-wrap:wrap;\n",
       "      gap: 12px;\n",
       "    }\n",
       "\n",
       "    .colab-df-convert {\n",
       "      background-color: #E8F0FE;\n",
       "      border: none;\n",
       "      border-radius: 50%;\n",
       "      cursor: pointer;\n",
       "      display: none;\n",
       "      fill: #1967D2;\n",
       "      height: 32px;\n",
       "      padding: 0 0 0 0;\n",
       "      width: 32px;\n",
       "    }\n",
       "\n",
       "    .colab-df-convert:hover {\n",
       "      background-color: #E2EBFA;\n",
       "      box-shadow: 0px 1px 2px rgba(60, 64, 67, 0.3), 0px 1px 3px 1px rgba(60, 64, 67, 0.15);\n",
       "      fill: #174EA6;\n",
       "    }\n",
       "\n",
       "    [theme=dark] .colab-df-convert {\n",
       "      background-color: #3B4455;\n",
       "      fill: #D2E3FC;\n",
       "    }\n",
       "\n",
       "    [theme=dark] .colab-df-convert:hover {\n",
       "      background-color: #434B5C;\n",
       "      box-shadow: 0px 1px 3px 1px rgba(0, 0, 0, 0.15);\n",
       "      filter: drop-shadow(0px 1px 2px rgba(0, 0, 0, 0.3));\n",
       "      fill: #FFFFFF;\n",
       "    }\n",
       "  </style>\n",
       "\n",
       "      <script>\n",
       "        const buttonEl =\n",
       "          document.querySelector('#df-7c376583-3a4d-47eb-b316-a8dfef54cdff button.colab-df-convert');\n",
       "        buttonEl.style.display =\n",
       "          google.colab.kernel.accessAllowed ? 'block' : 'none';\n",
       "\n",
       "        async function convertToInteractive(key) {\n",
       "          const element = document.querySelector('#df-7c376583-3a4d-47eb-b316-a8dfef54cdff');\n",
       "          const dataTable =\n",
       "            await google.colab.kernel.invokeFunction('convertToInteractive',\n",
       "                                                     [key], {});\n",
       "          if (!dataTable) return;\n",
       "\n",
       "          const docLinkHtml = 'Like what you see? Visit the ' +\n",
       "            '<a target=\"_blank\" href=https://colab.research.google.com/notebooks/data_table.ipynb>data table notebook</a>'\n",
       "            + ' to learn more about interactive tables.';\n",
       "          element.innerHTML = '';\n",
       "          dataTable['output_type'] = 'display_data';\n",
       "          await google.colab.output.renderOutput(dataTable, element);\n",
       "          const docLink = document.createElement('div');\n",
       "          docLink.innerHTML = docLinkHtml;\n",
       "          element.appendChild(docLink);\n",
       "        }\n",
       "      </script>\n",
       "    </div>\n",
       "  </div>\n",
       "  "
      ],
      "text/plain": [
       "                                          reviewText  polarity_count_neg  \\\n",
       "0  &#34;That's what she said&#34; jokes aside, th...                   4   \n",
       "1  &#34;What is thaaaat?!?&#34; That was the shri...                   5   \n",
       "2  ** PLEASE NOTE **  I was new to amazon at the ...                  14   \n",
       "3  ... but I am not an acrobat.  Takes me more ti...                   2   \n",
       "4  ... my clothes on-line, I hate sending stuff b...                   3   \n",
       "\n",
       "   polarity_count_pos  \n",
       "0                   0  \n",
       "1                   2  \n",
       "2                   0  \n",
       "3                   0  \n",
       "4                   0  "
      ]
     },
     "execution_count": 71,
     "metadata": {},
     "output_type": "execute_result"
    }
   ],
   "source": [
    "df_p2.head()"
   ]
  },
  {
   "cell_type": "code",
   "execution_count": null,
   "id": "8cee5794",
   "metadata": {
    "colab": {
     "background_save": true
    },
    "hidden": true,
    "id": "OOFvP0w69z94"
   },
   "outputs": [
    {
     "data": {
      "text/plain": [
       "0.621801329840822"
      ]
     },
     "execution_count": 72,
     "metadata": {},
     "output_type": "execute_result"
    }
   ],
   "source": [
    "df_p2.query(\"polarity_count_neg > 0 & polarity_count_pos > 0\").shape[0]/df_p2.shape[0]"
   ]
  },
  {
   "cell_type": "code",
   "execution_count": null,
   "id": "ea6dae51",
   "metadata": {
    "colab": {
     "background_save": true
    },
    "hidden": true,
    "id": "dij4WT9KdCb3"
   },
   "outputs": [],
   "source": [
    "# storing the file for second part at the below location. Please change the variable file path as per the requirement\n",
    "file_path = \"/content/drive/MyDrive/Syracuse University/IST 664 Natural Language Processing/Assignment 2\" # Please change this path as per your drive.\n",
    "file_name = \"aadil_zikre_assignment_2_second_part_file.csv\"\n",
    "df_p2.to_csv(f\"{file_path}/{file_name}\", index=False)"
   ]
  },
  {
   "cell_type": "code",
   "execution_count": null,
   "id": "56e8a243",
   "metadata": {
    "colab": {
     "background_save": true
    },
    "hidden": true,
    "id": "O3Jzi79lcoUQ"
   },
   "outputs": [],
   "source": [
    "df_p3_pos = df_orig.query(\"polarity_pred_m2 == 'pos'\")\n",
    "df_p3_neg = df_orig.query(\"polarity_pred_m2 == 'neg'\")"
   ]
  },
  {
   "cell_type": "code",
   "execution_count": null,
   "id": "17e7425f",
   "metadata": {
    "colab": {
     "background_save": true
    },
    "hidden": true,
    "id": "PosvwqTZdhsv"
   },
   "outputs": [],
   "source": [
    "def get_word_list_adj_vb_advb(sentence):\n",
    "  word_list_w_tags = nltk.pos_tag(nltk.word_tokenize(sentence)) # tagging the sentences after tokenization\n",
    "  adj_words = [] # defining the lists\n",
    "  vb_words = []\n",
    "  advb_words = []\n",
    "  for i,j in word_list_w_tags:\n",
    "    i = lemmatizer.lemmatize(i)\n",
    "    if j.startswith(\"JJ\") : adj_words.append(i) # will add any JJ variant\n",
    "    if j.startswith(\"VB\"): vb_words.append(i)   # will add any VB variant\n",
    "    if j.startswith(\"RB\"): advb_words.append(i) # will add any RB variant\n",
    "  return adj_words,vb_words,advb_words\n",
    "  # https://www.ling.upenn.edu/courses/Fall_2003/ling001/penn_treebank_pos.html"
   ]
  },
  {
   "cell_type": "code",
   "execution_count": null,
   "id": "2445d62d",
   "metadata": {
    "colab": {
     "background_save": true
    },
    "hidden": true,
    "id": "rNHqLKXHfsiv"
   },
   "outputs": [
    {
     "name": "stderr",
     "output_type": "stream",
     "text": [
      "100%|██████████| 7611/7611 [00:09<00:00, 792.88it/s]\n",
      "<ipython-input-76-277960df8e3e>:1: SettingWithCopyWarning: \n",
      "A value is trying to be set on a copy of a slice from a DataFrame.\n",
      "Try using .loc[row_indexer,col_indexer] = value instead\n",
      "\n",
      "See the caveats in the documentation: https://pandas.pydata.org/pandas-docs/stable/user_guide/indexing.html#returning-a-view-versus-a-copy\n",
      "  df_p3_pos[['list_adjectives', 'list_verbs', 'list_adverbs']] = df_p3_pos.progress_apply(lambda x: get_word_list_adj_vb_advb(x[\"reviewText_sents\"]), axis=1, result_type='expand')\n",
      "<ipython-input-76-277960df8e3e>:1: SettingWithCopyWarning: \n",
      "A value is trying to be set on a copy of a slice from a DataFrame.\n",
      "Try using .loc[row_indexer,col_indexer] = value instead\n",
      "\n",
      "See the caveats in the documentation: https://pandas.pydata.org/pandas-docs/stable/user_guide/indexing.html#returning-a-view-versus-a-copy\n",
      "  df_p3_pos[['list_adjectives', 'list_verbs', 'list_adverbs']] = df_p3_pos.progress_apply(lambda x: get_word_list_adj_vb_advb(x[\"reviewText_sents\"]), axis=1, result_type='expand')\n",
      "<ipython-input-76-277960df8e3e>:1: SettingWithCopyWarning: \n",
      "A value is trying to be set on a copy of a slice from a DataFrame.\n",
      "Try using .loc[row_indexer,col_indexer] = value instead\n",
      "\n",
      "See the caveats in the documentation: https://pandas.pydata.org/pandas-docs/stable/user_guide/indexing.html#returning-a-view-versus-a-copy\n",
      "  df_p3_pos[['list_adjectives', 'list_verbs', 'list_adverbs']] = df_p3_pos.progress_apply(lambda x: get_word_list_adj_vb_advb(x[\"reviewText_sents\"]), axis=1, result_type='expand')\n"
     ]
    }
   ],
   "source": [
    "df_p3_pos[['list_adjectives', 'list_verbs', 'list_adverbs']] = df_p3_pos.progress_apply(lambda x: get_word_list_adj_vb_advb(x[\"reviewText_sents\"]), axis=1, result_type='expand')"
   ]
  },
  {
   "cell_type": "code",
   "execution_count": null,
   "id": "c388cbc6",
   "metadata": {
    "colab": {
     "background_save": true
    },
    "hidden": true,
    "id": "vH5r6eV_hXhI"
   },
   "outputs": [
    {
     "name": "stderr",
     "output_type": "stream",
     "text": [
      "100%|██████████| 11598/11598 [00:15<00:00, 763.24it/s]\n",
      "<ipython-input-77-ad53a936411e>:1: SettingWithCopyWarning: \n",
      "A value is trying to be set on a copy of a slice from a DataFrame.\n",
      "Try using .loc[row_indexer,col_indexer] = value instead\n",
      "\n",
      "See the caveats in the documentation: https://pandas.pydata.org/pandas-docs/stable/user_guide/indexing.html#returning-a-view-versus-a-copy\n",
      "  df_p3_neg[['list_adjectives', 'list_verbs', 'list_adverbs']] = df_p3_neg.progress_apply(lambda x: get_word_list_adj_vb_advb(x[\"reviewText_sents\"]), axis=1, result_type='expand')\n",
      "<ipython-input-77-ad53a936411e>:1: SettingWithCopyWarning: \n",
      "A value is trying to be set on a copy of a slice from a DataFrame.\n",
      "Try using .loc[row_indexer,col_indexer] = value instead\n",
      "\n",
      "See the caveats in the documentation: https://pandas.pydata.org/pandas-docs/stable/user_guide/indexing.html#returning-a-view-versus-a-copy\n",
      "  df_p3_neg[['list_adjectives', 'list_verbs', 'list_adverbs']] = df_p3_neg.progress_apply(lambda x: get_word_list_adj_vb_advb(x[\"reviewText_sents\"]), axis=1, result_type='expand')\n",
      "<ipython-input-77-ad53a936411e>:1: SettingWithCopyWarning: \n",
      "A value is trying to be set on a copy of a slice from a DataFrame.\n",
      "Try using .loc[row_indexer,col_indexer] = value instead\n",
      "\n",
      "See the caveats in the documentation: https://pandas.pydata.org/pandas-docs/stable/user_guide/indexing.html#returning-a-view-versus-a-copy\n",
      "  df_p3_neg[['list_adjectives', 'list_verbs', 'list_adverbs']] = df_p3_neg.progress_apply(lambda x: get_word_list_adj_vb_advb(x[\"reviewText_sents\"]), axis=1, result_type='expand')\n"
     ]
    }
   ],
   "source": [
    "df_p3_neg[['list_adjectives', 'list_verbs', 'list_adverbs']] = df_p3_neg.progress_apply(lambda x: get_word_list_adj_vb_advb(x[\"reviewText_sents\"]), axis=1, result_type='expand')"
   ]
  },
  {
   "cell_type": "code",
   "execution_count": null,
   "id": "ed5ed2ba",
   "metadata": {
    "colab": {
     "background_save": true
    },
    "hidden": true,
    "id": "NpMf7yxqhsAf"
   },
   "outputs": [],
   "source": [
    "# accumulating words for the analysis\n",
    "pos_adjectives = list(chain(*df_p3_pos.list_adjectives))\n",
    "pos_verbs = list(chain(*df_p3_pos.list_verbs))\n",
    "pos_adverbs = list(chain(*df_p3_pos.list_adverbs))\n",
    "\n",
    "pos_verbs = [i for i in pos_verbs if i not in stopwords]\n",
    "pos_verbs = [i for i in pos_verbs if len(i) > 3]\n",
    "pos_adverbs = [i for i in pos_adverbs if i not in stopwords]\n",
    "pos_adverbs = [i for i in pos_adverbs if len(i) > 3]"
   ]
  },
  {
   "cell_type": "code",
   "execution_count": null,
   "id": "2cb9a073",
   "metadata": {
    "colab": {
     "background_save": true
    },
    "hidden": true,
    "id": "1LUFfm29h8WY"
   },
   "outputs": [],
   "source": [
    "# accumulating negative words for the analysis\n",
    "neg_adjectives = list(chain(*df_p3_neg.list_adjectives))\n",
    "neg_verbs = list(chain(*df_p3_neg.list_verbs))\n",
    "neg_adverbs = list(chain(*df_p3_neg.list_adverbs))\n",
    "\n",
    "neg_verbs = [i for i in neg_verbs if i not in stopwords]\n",
    "neg_verbs = [i for i in neg_verbs if len(i) > 3]\n",
    "neg_adverbs = [i for i in neg_adverbs if i not in stopwords]\n",
    "neg_adverbs = [i for i in neg_adverbs if len(i) > 3]"
   ]
  },
  {
   "cell_type": "code",
   "execution_count": null,
   "id": "6fe48ef3",
   "metadata": {
    "colab": {
     "background_save": true
    },
    "hidden": true,
    "id": "9O8_LjW6iLEX"
   },
   "outputs": [],
   "source": [
    "# Making necesary frequency distributions\n",
    "freq_pos_adjectives = nltk.FreqDist(pos_adjectives)\n",
    "freq_pos_verbs = nltk.FreqDist(pos_verbs)\n",
    "freq_pos_adverbs = nltk.FreqDist(pos_adverbs)\n",
    "freq_neg_adjectives = nltk.FreqDist(neg_adjectives)\n",
    "freq_neg_verbs = nltk.FreqDist(neg_verbs)\n",
    "freq_neg_adverbs = nltk.FreqDist(neg_adverbs)"
   ]
  },
  {
   "cell_type": "code",
   "execution_count": null,
   "id": "bd5eee7f",
   "metadata": {
    "colab": {
     "background_save": true
    },
    "hidden": true,
    "id": "oiwNu36Oj9S-"
   },
   "outputs": [
    {
     "name": "stdout",
     "output_type": "stream",
     "text": [
      "freq_pos_adjectives\n",
      "[('comfortable', 729), ('great', 710), ('good', 473), ('perfect', 311), ('nice', 299), ('other', 215), ('little', 210), ('small', 195), ('best', 164), ('more', 152)]\n",
      "--------------------------------------------------\n",
      "freq_pos_verbs\n",
      "[('bought', 562), ('love', 430), ('look', 395), ('wear', 335), ('make', 191), ('made', 161), ('keep', 161), ('feel', 146), ('work', 138), ('find', 137)]\n",
      "--------------------------------------------------\n",
      "freq_pos_adverbs\n",
      "[('well', 432), ('still', 213), ('really', 209), ('also', 203), ('always', 163), ('even', 112), ('Very', 107), ('ever', 89), ('enough', 88), ('perfectly', 86)]\n",
      "--------------------------------------------------\n",
      "freq_neg_adjectives\n",
      "[('good', 632), ('great', 470), ('other', 464), ('little', 451), ('comfortable', 352), ('more', 343), ('small', 237), ('much', 236), ('last', 235), ('nice', 232)]\n",
      "--------------------------------------------------\n",
      "freq_neg_verbs\n",
      "[('wear', 912), ('wearing', 400), ('ordered', 357), ('like', 352), ('made', 302), ('look', 298), ('love', 288), ('find', 276), ('think', 251), ('feel', 249)]\n",
      "--------------------------------------------------\n",
      "freq_neg_adverbs\n",
      "[('really', 453), ('well', 442), ('even', 323), ('still', 218), ('also', 211), ('enough', 178), ('never', 172), ('back', 169), ('long', 169), ('much', 167)]\n"
     ]
    }
   ],
   "source": [
    "# printing top 10 words of each distribution \n",
    "print(\"freq_pos_adjectives\")\n",
    "print(freq_pos_adjectives.most_common(10))\n",
    "print(\"-\"*50)\n",
    "print(\"freq_pos_verbs\")\n",
    "print(freq_pos_verbs.most_common(10))\n",
    "print(\"-\"*50)\n",
    "print(\"freq_pos_adverbs\")\n",
    "print(freq_pos_adverbs.most_common(10))\n",
    "print(\"-\"*50)\n",
    "print(\"freq_neg_adjectives\")\n",
    "print(freq_neg_adjectives.most_common(10))\n",
    "print(\"-\"*50)\n",
    "print(\"freq_neg_verbs\")\n",
    "print(freq_neg_verbs.most_common(10))\n",
    "print(\"-\"*50)\n",
    "print(\"freq_neg_adverbs\")\n",
    "print(freq_neg_adverbs.most_common(10))"
   ]
  },
  {
   "cell_type": "code",
   "execution_count": null,
   "id": "d9687b16",
   "metadata": {
    "colab": {
     "background_save": true
    },
    "hidden": true,
    "id": "C38mQ8W6TpMV"
   },
   "outputs": [
    {
     "data": {
      "application/vnd.google.colaboratory.intrinsic+json": {
       "type": "string"
      },
      "text/plain": [
       "'\\nANALYSIS :: \\n1. For some reason, positive and negative adjectives are almost similar. I think this is because they go with positive and negative verbs equally. \\n2. Same is true for verbs and adverbs as well. \\n\\nIn my opinion, ngram analysis is a better way to approach the analysis of multiclass predictions.\\n'"
      ]
     },
     "execution_count": 82,
     "metadata": {},
     "output_type": "execute_result"
    }
   ],
   "source": [
    "\"\"\"\n",
    "ANALYSIS :: \n",
    "1. For some reason, positive and negative adjectives are almost similar. I think this is because they go with positive and negative verbs equally. \n",
    "2. Same is true for verbs and adverbs as well. \n",
    "\n",
    "In my opinion, ngram analysis is a better way to approach the analysis of multiclass predictions.\n",
    "\"\"\""
   ]
  },
  {
   "cell_type": "markdown",
   "id": "0e8f9478",
   "metadata": {
    "id": "BJ7floQlTqeG"
   },
   "source": [
    "# Discussion"
   ]
  },
  {
   "cell_type": "code",
   "execution_count": null,
   "id": "5155411a",
   "metadata": {
    "colab": {
     "background_save": true
    },
    "id": "vdH_B7TTycun"
   },
   "outputs": [
    {
     "data": {
      "application/vnd.google.colaboratory.intrinsic+json": {
       "type": "string"
      },
      "text/plain": [
       "\"\\n####################################### WHAT I LEARNED ##########################################\\n\\nSentiment Analysis is the process of finding the polarity of sentences. This can be done by various methods but most common in ML is to \\nprepare a list of features and pass it to a classifier. The classification can be a binary classification in cases where the polarities are\\nonly positive or negative, but it can be multiclass classification as well when the polarities are more for example, positive, negative and \\nneutral.\\n\\nFor the purpose of this assignment, we do the classification with Naive Bayes Classifier and we compare two different Naive Bayes Models. The\\nfeatures for the model were Binary Features meaning that they only said whether a word from a predefined list of 2000 words existed in the \\ndocument or not. The models were trained on a completely different corpus which was labelled. The dataset was sentence polarity corpus. The \\nstyle of modelling we used in this assignment is often termed as Pretrained Model Approach. The highlight of this paradigm is that we pretrain\\nthe model on an entirely different corpus and hope that it learns the patterns such that it will work reasonably on the real world dataset. We\\ntrained the two models with varying levels of preprocessing. The more sophisticated model was better on the training's test set. Hence, I used \\nit on our dataset. It was performing badly on our dataset. We know for a fact that some reviews are bound to be negative because if not, all \\nreviews would have been highly rated (4 or 5). But preliminary analysis had pointed out that although most of the reviews were rated 5, there\\nwere considerable amount of reviews which were rated less than 3. So, we use the more accurate model which seemed to be working well and just as expected\\non the real world dataset. \\n\\nIn this assignment, the goal was to find the polarity of reviews given by customers on several products. The task presented with certain \\ndifficulties. Many reviews consisted of positive as well as negative sentences. We addressed this problem by deviding a review into multiple \\nsentences. Then we classify the sentences by using classifer 1 and count the positives and negatives per sentence. We see that a surprising 60%\\nplus reviews had mixed sentiment sentences i.e. had both positive and negative sentences within them. Giving one class to such review is very \\ndifficult challenge in and of itself which I will be further exploring. \\n\\nWe then try to see the verbs, adverbs, and adjectives that appear most often in positve and negative sentences. But for the most part, differences\\nare subtle when we analyze only unigram frequencies and in my opinion, a more comprehensive n-gram analysis would yield better insights. \\n\\nLastly, there was a lot to learn through this assignment. I got to learn how to apply pretrained models to real world scenarios where the dataset is\\nnot labeled nor any similar dataset is available. I also came to know of limitations of this paradigm. I understood the challenges of sentiment \\npolarity and specially understood that it is an even more challenging task when we need to label mixed sentiment reviews. I got to some analysis on \\nthe predicted labels and found out that the line is thin in separating the reviews in postive and negative buckets. I reckon this is either because\\nof the model limitations ( Naive Bayes is simple model, we may need more sophisticated and complex models in its place ) or because of the training data\\nlimitaitons (we had to resort to another type of data to train the model. A dataset that is closer to reviews dataset might yield better results and \\ngive a better separation ). Overall this dataset and analysis were a good representation of real world dataset and challenges associated with it and \\ntherefore, it was fun doing the assignment. \\n\""
      ]
     },
     "execution_count": 83,
     "metadata": {},
     "output_type": "execute_result"
    }
   ],
   "source": [
    "\"\"\"\n",
    "####################################### WHAT I LEARNED ##########################################\n",
    "\n",
    "Sentiment Analysis is the process of finding the polarity of sentences. This can be done by various methods but most common in ML is to \n",
    "prepare a list of features and pass it to a classifier. The classification can be a binary classification in cases where the polarities are\n",
    "only positive or negative, but it can be multiclass classification as well when the polarities are more for example, positive, negative and \n",
    "neutral.\n",
    "\n",
    "For the purpose of this assignment, we do the classification with Naive Bayes Classifier and we compare two different Naive Bayes Models. The\n",
    "features for the model were Binary Features meaning that they only said whether a word from a predefined list of 2000 words existed in the \n",
    "document or not. The models were trained on a completely different corpus which was labelled. The dataset was sentence polarity corpus. The \n",
    "style of modelling we used in this assignment is often termed as Pretrained Model Approach. The highlight of this paradigm is that we pretrain\n",
    "the model on an entirely different corpus and hope that it learns the patterns such that it will work reasonably on the real world dataset. We\n",
    "trained the two models with varying levels of preprocessing. The more sophisticated model was better on the training's test set. Hence, I used \n",
    "it on our dataset. It was performing badly on our dataset. We know for a fact that some reviews are bound to be negative because if not, all \n",
    "reviews would have been highly rated (4 or 5). But preliminary analysis had pointed out that although most of the reviews were rated 5, there\n",
    "were considerable amount of reviews which were rated less than 3. So, we use the more accurate model which seemed to be working well and just as expected\n",
    "on the real world dataset. \n",
    "\n",
    "In this assignment, the goal was to find the polarity of reviews given by customers on several products. The task presented with certain \n",
    "difficulties. Many reviews consisted of positive as well as negative sentences. We addressed this problem by deviding a review into multiple \n",
    "sentences. Then we classify the sentences by using classifer 1 and count the positives and negatives per sentence. We see that a surprising 60%\n",
    "plus reviews had mixed sentiment sentences i.e. had both positive and negative sentences within them. Giving one class to such review is very \n",
    "difficult challenge in and of itself which I will be further exploring. \n",
    "\n",
    "We then try to see the verbs, adverbs, and adjectives that appear most often in positve and negative sentences. But for the most part, differences\n",
    "are subtle when we analyze only unigram frequencies and in my opinion, a more comprehensive n-gram analysis would yield better insights. \n",
    "\n",
    "Lastly, there was a lot to learn through this assignment. I got to learn how to apply pretrained models to real world scenarios where the dataset is\n",
    "not labeled nor any similar dataset is available. I also came to know of limitations of this paradigm. I understood the challenges of sentiment \n",
    "polarity and specially understood that it is an even more challenging task when we need to label mixed sentiment reviews. I got to some analysis on \n",
    "the predicted labels and found out that the line is thin in separating the reviews in postive and negative buckets. I reckon this is either because\n",
    "of the model limitations ( Naive Bayes is simple model, we may need more sophisticated and complex models in its place ) or because of the training data\n",
    "limitaitons (we had to resort to another type of data to train the model. A dataset that is closer to reviews dataset might yield better results and \n",
    "give a better separation ). Overall this dataset and analysis were a good representation of real world dataset and challenges associated with it and \n",
    "therefore, it was fun doing the assignment. \n",
    "\"\"\""
   ]
  },
  {
   "cell_type": "markdown",
   "id": "838a5a00",
   "metadata": {
    "id": "lzLpUpkajdHp"
   },
   "source": [
    "# Rough Trials"
   ]
  },
  {
   "cell_type": "code",
   "execution_count": null,
   "id": "8b31fb57",
   "metadata": {
    "colab": {
     "background_save": true
    },
    "id": "tTqJf58vWbne"
   },
   "outputs": [
    {
     "data": {
      "text/plain": [
       "[(('I', 'PRP'), ('bought', 'VBD')),\n",
       " (('bought', 'VBD'), ('this', 'DT')),\n",
       " (('to', 'TO'), ('go', 'VB')),\n",
       " (('go', 'VB'), ('with', 'IN')),\n",
       " (('a', 'DT'), ('light', 'JJ')),\n",
       " (('light', 'JJ'), ('blue', 'NN')),\n",
       " (('long', 'RB'), ('sleeve', 'JJ')),\n",
       " (('sleeve', 'JJ'), ('leotard', 'NN')),\n",
       " (('and', 'CC'), ('was', 'VBD')),\n",
       " (('was', 'VBD'), ('happy', 'JJ')),\n",
       " (('happy', 'JJ'), ('the', 'DT')),\n",
       " (('colors', 'NNS'), ('matched', 'VBD')),\n",
       " (('matched', 'VBD'), ('up', 'RP')),\n",
       " (('up', 'RP'), ('great', 'JJ')),\n",
       " (('great', 'JJ'), ('.', '.'))]"
      ]
     },
     "execution_count": 84,
     "metadata": {},
     "output_type": "execute_result"
    }
   ],
   "source": [
    "list_vaid_tags = ('VB','JJ')\n",
    "[i for i in nltk.bigrams(nltk.pos_tag(nltk.word_tokenize(df_rev.reviewText_sents.iloc[5]))) if (i[0][1].startswith(list_vaid_tags)) | (i[1][1].startswith(list_vaid_tags))]"
   ]
  },
  {
   "cell_type": "code",
   "execution_count": null,
   "id": "7834e1aa",
   "metadata": {
    "colab": {
     "background_save": true
    },
    "id": "eQD1JHiuUL7Z"
   },
   "outputs": [
    {
     "data": {
      "text/plain": [
       "['a', 'b', 'c', 'd']"
      ]
     },
     "execution_count": 85,
     "metadata": {},
     "output_type": "execute_result"
    }
   ],
   "source": [
    "from itertools import chain\n",
    "list(chain(['a', 'b'], ['c', 'd']))"
   ]
  },
  {
   "cell_type": "code",
   "execution_count": null,
   "id": "f07b923f",
   "metadata": {
    "colab": {
     "background_save": true
    },
    "id": "ylJa5xwfuSZV"
   },
   "outputs": [
    {
     "data": {
      "text/plain": [
       "['Aadil', 'is', 'My', 'Name', '!', '!', '!', '!', '!', '!', '!', '!']"
      ]
     },
     "execution_count": 86,
     "metadata": {},
     "output_type": "execute_result"
    }
   ],
   "source": [
    "nltk.word_tokenize(\"Aadil is My Name!!!!!!!!\")"
   ]
  },
  {
   "cell_type": "code",
   "execution_count": null,
   "id": "a6007b3d",
   "metadata": {
    "colab": {
     "background_save": true
    },
    "id": "-BqLcfLR_Ijw"
   },
   "outputs": [
    {
     "data": {
      "text/plain": [
       "[('Aadil', 'NNP'),\n",
       " ('is', 'VBZ'),\n",
       " ('My', 'PRP$'),\n",
       " ('Name', 'NN'),\n",
       " ('!', '.'),\n",
       " ('!', '.'),\n",
       " ('!', '.'),\n",
       " ('!', '.'),\n",
       " ('!', '.'),\n",
       " ('!', '.'),\n",
       " ('!', '.'),\n",
       " ('!', '.')]"
      ]
     },
     "execution_count": 87,
     "metadata": {},
     "output_type": "execute_result"
    }
   ],
   "source": [
    "nltk.pos_tag(nltk.word_tokenize(\"Aadil is My Name!!!!!!!!\"))"
   ]
  },
  {
   "cell_type": "code",
   "execution_count": null,
   "id": "62a0ca30",
   "metadata": {
    "colab": {
     "background_save": true
    },
    "id": "P4JpYu8ouSUE"
   },
   "outputs": [
    {
     "ename": "NameError",
     "evalue": "ignored",
     "output_type": "error",
     "traceback": [
      "\u001b[0;31m---------------------------------------------------------------------------\u001b[0m",
      "\u001b[0;31mNameError\u001b[0m                                 Traceback (most recent call last)",
      "\u001b[0;32m<ipython-input-88-f0ee7ccb5b34>\u001b[0m in \u001b[0;36m<cell line: 1>\u001b[0;34m()\u001b[0m\n\u001b[0;32m----> 1\u001b[0;31m \u001b[0mre\u001b[0m\u001b[0;34m.\u001b[0m\u001b[0mfindall\u001b[0m\u001b[0;34m(\u001b[0m\u001b[0mpattern\u001b[0m\u001b[0;34m,\u001b[0m \u001b[0;34m\"AADIL name IS, MY GArnish\"\u001b[0m\u001b[0;34m)\u001b[0m\u001b[0;34m\u001b[0m\u001b[0;34m\u001b[0m\u001b[0m\n\u001b[0m",
      "\u001b[0;31mNameError\u001b[0m: name 'pattern' is not defined"
     ]
    }
   ],
   "source": [
    "\n",
    "re.findall(pattern, \"AADIL name IS, MY GArnish\")"
   ]
  },
  {
   "cell_type": "code",
   "execution_count": null,
   "id": "c2b6d41c",
   "metadata": {
    "colab": {
     "background_save": true
    },
    "id": "DK_2i0zguSRa"
   },
   "outputs": [],
   "source": [
    "\"V\".startswith(('VB','JJ'))"
   ]
  },
  {
   "cell_type": "code",
   "execution_count": null,
   "id": "63caf918",
   "metadata": {
    "colab": {
     "background_save": true
    },
    "id": "66Oa7dgRuSPH"
   },
   "outputs": [],
   "source": []
  },
  {
   "cell_type": "code",
   "execution_count": null,
   "id": "ea706d56",
   "metadata": {
    "colab": {
     "background_save": true
    },
    "id": "7agBXcxmuSMZ"
   },
   "outputs": [],
   "source": []
  },
  {
   "cell_type": "code",
   "execution_count": null,
   "id": "effca0ab",
   "metadata": {
    "colab": {
     "background_save": true
    },
    "id": "hsYnKOA3uSKH"
   },
   "outputs": [],
   "source": []
  },
  {
   "cell_type": "code",
   "execution_count": null,
   "id": "a26a029e",
   "metadata": {
    "colab": {
     "background_save": true
    },
    "id": "03LTZdauuSHx"
   },
   "outputs": [],
   "source": []
  },
  {
   "cell_type": "code",
   "execution_count": null,
   "id": "ec513773",
   "metadata": {
    "colab": {
     "background_save": true
    },
    "id": "8IwcZjjUuSGX"
   },
   "outputs": [],
   "source": []
  },
  {
   "cell_type": "code",
   "execution_count": null,
   "id": "885302a8",
   "metadata": {
    "colab": {
     "background_save": true
    },
    "id": "Hb-u9-qVuSDK"
   },
   "outputs": [],
   "source": []
  },
  {
   "cell_type": "code",
   "execution_count": null,
   "id": "4e47aeb8",
   "metadata": {
    "colab": {
     "background_save": true
    },
    "id": "e2uz6K3zuR47"
   },
   "outputs": [],
   "source": []
  }
 ],
 "metadata": {
  "colab": {
   "collapsed_sections": [
    "lzLpUpkajdHp"
   ],
   "name": "",
   "version": ""
  },
  "kernelspec": {
   "display_name": "Python 3 (ipykernel)",
   "language": "python",
   "name": "python3"
  },
  "language_info": {
   "codemirror_mode": {
    "name": "ipython",
    "version": 3
   },
   "file_extension": ".py",
   "mimetype": "text/x-python",
   "name": "python",
   "nbconvert_exporter": "python",
   "pygments_lexer": "ipython3",
   "version": "3.9.12"
  },
  "varInspector": {
   "cols": {
    "lenName": 16,
    "lenType": 16,
    "lenVar": 40
   },
   "kernels_config": {
    "python": {
     "delete_cmd_postfix": "",
     "delete_cmd_prefix": "del ",
     "library": "var_list.py",
     "varRefreshCmd": "print(var_dic_list())"
    },
    "r": {
     "delete_cmd_postfix": ") ",
     "delete_cmd_prefix": "rm(",
     "library": "var_list.r",
     "varRefreshCmd": "cat(var_dic_list()) "
    }
   },
   "types_to_exclude": [
    "module",
    "function",
    "builtin_function_or_method",
    "instance",
    "_Feature"
   ],
   "window_display": false
  }
 },
 "nbformat": 4,
 "nbformat_minor": 5
}
