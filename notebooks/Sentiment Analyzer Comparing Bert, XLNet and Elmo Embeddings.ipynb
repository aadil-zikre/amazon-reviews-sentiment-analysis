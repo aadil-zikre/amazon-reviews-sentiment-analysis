{
 "cells": [
  {
   "cell_type": "markdown",
   "id": "q_8hRzin1tHz",
   "metadata": {
    "id": "q_8hRzin1tHz"
   },
   "source": [
    "Notebook of Aadil Zikre </br>\n",
    "EMAIL : azikre@syr.edu"
   ]
  },
  {
   "cell_type": "code",
   "execution_count": null,
   "id": "lD-z1Q4hjIho",
   "metadata": {
    "colab": {
     "base_uri": "https://localhost:8080/"
    },
    "executionInfo": {
     "elapsed": 41563,
     "status": "ok",
     "timestamp": 1682185271460,
     "user": {
      "displayName": "Aadil Iliyas Zikre",
      "userId": "11139065713760395341"
     },
     "user_tz": 240
    },
    "id": "lD-z1Q4hjIho",
    "outputId": "914c3b98-6762-43ab-db0c-a8395750f5be"
   },
   "outputs": [
    {
     "name": "stdout",
     "output_type": "stream",
     "text": [
      "Looking in indexes: https://pypi.org/simple, https://us-python.pkg.dev/colab-wheels/public/simple/\n",
      "Collecting transformers\n",
      "  Downloading transformers-4.28.1-py3-none-any.whl (7.0 MB)\n",
      "\u001b[2K     \u001b[90m━━━━━━━━━━━━━━━━━━━━━━━━━━━━━━━━━━━━━━━━\u001b[0m \u001b[32m7.0/7.0 MB\u001b[0m \u001b[31m17.3 MB/s\u001b[0m eta \u001b[36m0:00:00\u001b[0m\n",
      "\u001b[?25hCollecting emoji\n",
      "  Downloading emoji-2.2.0.tar.gz (240 kB)\n",
      "\u001b[2K     \u001b[90m━━━━━━━━━━━━━━━━━━━━━━━━━━━━━━━━━━━━━━━\u001b[0m \u001b[32m240.9/240.9 kB\u001b[0m \u001b[31m9.4 MB/s\u001b[0m eta \u001b[36m0:00:00\u001b[0m\n",
      "\u001b[?25h  Preparing metadata (setup.py) ... \u001b[?25l\u001b[?25hdone\n",
      "Requirement already satisfied: numpy>=1.17 in /usr/local/lib/python3.9/dist-packages (from transformers) (1.22.4)\n",
      "Collecting huggingface-hub<1.0,>=0.11.0\n",
      "  Downloading huggingface_hub-0.13.4-py3-none-any.whl (200 kB)\n",
      "\u001b[2K     \u001b[90m━━━━━━━━━━━━━━━━━━━━━━━━━━━━━━━━━━━━━━━\u001b[0m \u001b[32m200.1/200.1 kB\u001b[0m \u001b[31m5.8 MB/s\u001b[0m eta \u001b[36m0:00:00\u001b[0m\n",
      "\u001b[?25hRequirement already satisfied: regex!=2019.12.17 in /usr/local/lib/python3.9/dist-packages (from transformers) (2022.10.31)\n",
      "Collecting tokenizers!=0.11.3,<0.14,>=0.11.1\n",
      "  Downloading tokenizers-0.13.3-cp39-cp39-manylinux_2_17_x86_64.manylinux2014_x86_64.whl (7.8 MB)\n",
      "\u001b[2K     \u001b[90m━━━━━━━━━━━━━━━━━━━━━━━━━━━━━━━━━━━━━━━━\u001b[0m \u001b[32m7.8/7.8 MB\u001b[0m \u001b[31m10.0 MB/s\u001b[0m eta \u001b[36m0:00:00\u001b[0m\n",
      "\u001b[?25hRequirement already satisfied: tqdm>=4.27 in /usr/local/lib/python3.9/dist-packages (from transformers) (4.65.0)\n",
      "Requirement already satisfied: pyyaml>=5.1 in /usr/local/lib/python3.9/dist-packages (from transformers) (6.0)\n",
      "Requirement already satisfied: packaging>=20.0 in /usr/local/lib/python3.9/dist-packages (from transformers) (23.1)\n",
      "Requirement already satisfied: filelock in /usr/local/lib/python3.9/dist-packages (from transformers) (3.11.0)\n",
      "Requirement already satisfied: requests in /usr/local/lib/python3.9/dist-packages (from transformers) (2.27.1)\n",
      "Requirement already satisfied: typing-extensions>=3.7.4.3 in /usr/local/lib/python3.9/dist-packages (from huggingface-hub<1.0,>=0.11.0->transformers) (4.5.0)\n",
      "Requirement already satisfied: charset-normalizer~=2.0.0 in /usr/local/lib/python3.9/dist-packages (from requests->transformers) (2.0.12)\n",
      "Requirement already satisfied: urllib3<1.27,>=1.21.1 in /usr/local/lib/python3.9/dist-packages (from requests->transformers) (1.26.15)\n",
      "Requirement already satisfied: idna<4,>=2.5 in /usr/local/lib/python3.9/dist-packages (from requests->transformers) (3.4)\n",
      "Requirement already satisfied: certifi>=2017.4.17 in /usr/local/lib/python3.9/dist-packages (from requests->transformers) (2022.12.7)\n",
      "Building wheels for collected packages: emoji\n",
      "  Building wheel for emoji (setup.py) ... \u001b[?25l\u001b[?25hdone\n",
      "  Created wheel for emoji: filename=emoji-2.2.0-py3-none-any.whl size=234926 sha256=9d796cc733616781fe0c239d4d764b1e19cb4fdb459dce9a86c3042d49eed719\n",
      "  Stored in directory: /root/.cache/pip/wheels/9a/b8/0f/f580817231cbf59f6ade9fd132ff60ada1de9f7dc85521f857\n",
      "Successfully built emoji\n",
      "Installing collected packages: tokenizers, emoji, huggingface-hub, transformers\n",
      "Successfully installed emoji-2.2.0 huggingface-hub-0.13.4 tokenizers-0.13.3 transformers-4.28.1\n"
     ]
    }
   ],
   "source": [
    "pip install transformers emoji"
   ]
  },
  {
   "cell_type": "code",
   "execution_count": null,
   "id": "daA2-9TSjLIh",
   "metadata": {
    "colab": {
     "base_uri": "https://localhost:8080/"
    },
    "executionInfo": {
     "elapsed": 632,
     "status": "ok",
     "timestamp": 1682185272087,
     "user": {
      "displayName": "Aadil Iliyas Zikre",
      "userId": "11139065713760395341"
     },
     "user_tz": 240
    },
    "id": "daA2-9TSjLIh",
    "outputId": "d2f6a6a1-694b-4203-de0d-21b67f4e457e"
   },
   "outputs": [
    {
     "name": "stdout",
     "output_type": "stream",
     "text": [
      "  % Total    % Received % Xferd  Average Speed   Time    Time     Time  Current\n",
      "                                 Dload  Upload   Total   Spent    Left  Speed\n",
      "100  4557  100  4557    0     0  31212      0 --:--:-- --:--:-- --:--:-- 31212\n",
      "  % Total    % Received % Xferd  Average Speed   Time    Time     Time  Current\n",
      "                                 Dload  Upload   Total   Spent    Left  Speed\n",
      "100  1885  100  1885    0     0  13464      0 --:--:-- --:--:-- --:--:-- 14067\n"
     ]
    }
   ],
   "source": [
    "# pulling these utils from my github to make experimentation easier\n",
    "!curl -O https://raw.githubusercontent.com/aadil-zikre/amazon-reviews-sentiment-analysis/master/helper-utils/embeddings.py\n",
    "!curl -O https://raw.githubusercontent.com/aadil-zikre/amazon-reviews-sentiment-analysis/master/helper-utils/models.py"
   ]
  },
  {
   "cell_type": "markdown",
   "id": "PmZxzgjeq60V",
   "metadata": {
    "id": "PmZxzgjeq60V"
   },
   "source": [
    "# MOUNT GOOGLE DRIVE"
   ]
  },
  {
   "cell_type": "code",
   "execution_count": null,
   "id": "eb4AbwOhq-P-",
   "metadata": {
    "colab": {
     "base_uri": "https://localhost:8080/"
    },
    "executionInfo": {
     "elapsed": 19162,
     "status": "ok",
     "timestamp": 1682185291245,
     "user": {
      "displayName": "Aadil Iliyas Zikre",
      "userId": "11139065713760395341"
     },
     "user_tz": 240
    },
    "id": "eb4AbwOhq-P-",
    "outputId": "42c688b1-a496-482f-d80e-91260a976b34"
   },
   "outputs": [
    {
     "name": "stdout",
     "output_type": "stream",
     "text": [
      "Mounted at /content/drive\n"
     ]
    }
   ],
   "source": [
    "from google.colab import drive\n",
    "drive.mount('/content/drive')"
   ]
  },
  {
   "cell_type": "markdown",
   "id": "18dmXreMLu-O",
   "metadata": {
    "heading_collapsed": true,
    "id": "18dmXreMLu-O"
   },
   "source": [
    "# Importing Reviews\n",
    "Selecting the top 5000 reviews to work upon"
   ]
  },
  {
   "cell_type": "code",
   "execution_count": null,
   "id": "82165c59",
   "metadata": {
    "ExecuteTime": {
     "end_time": "2023-01-26T02:14:03.418411Z",
     "start_time": "2023-01-26T02:14:03.109699Z"
    },
    "hidden": true,
    "id": "82165c59"
   },
   "outputs": [],
   "source": [
    "import pandas as pd\n",
    "import numpy as np\n",
    "import re\n",
    "\n",
    "from nltk.collocations import *\n",
    "from itertools import chain\n",
    "from tqdm import tqdm\n",
    "tqdm.pandas()\n",
    "\n",
    "from nltk.stem import WordNetLemmatizer\n",
    "from string import punctuation\n",
    "  \n",
    "lemmatizer = WordNetLemmatizer()"
   ]
  },
  {
   "cell_type": "code",
   "execution_count": null,
   "id": "b048ee15",
   "metadata": {
    "ExecuteTime": {
     "end_time": "2023-01-30T22:14:35.970049Z",
     "start_time": "2023-01-30T22:14:35.627750Z"
    },
    "hidden": true,
    "id": "b048ee15"
   },
   "outputs": [],
   "source": [
    "\"\"\" Please run appropriate command to import the file.\"\"\"\n",
    "\n",
    "with open(\"/content/drive/MyDrive/Syracuse University/IST 664 Natural Language Processing/Assignment 1/clothing_shoes_jewelry.txt\",'r') as f:\n",
    "  txt = f.read()\n",
    "\n",
    "# with open('/drive/My Drive/Colab Notebooks/Mon_Homework1/clothing_shoes_jewelry.txt', 'r') as f:\n",
    "#   txt = f.read() "
   ]
  },
  {
   "cell_type": "code",
   "execution_count": null,
   "id": "5a5782cc",
   "metadata": {
    "ExecuteTime": {
     "end_time": "2023-01-26T02:14:05.146152Z",
     "start_time": "2023-01-26T02:14:04.893930Z"
    },
    "hidden": true,
    "id": "5a5782cc"
   },
   "outputs": [],
   "source": [
    "txt_split = txt.split(\"\\n\\n\")"
   ]
  },
  {
   "cell_type": "code",
   "execution_count": null,
   "id": "ff9b5aff",
   "metadata": {
    "ExecuteTime": {
     "end_time": "2023-01-26T02:14:05.498143Z",
     "start_time": "2023-01-26T02:14:05.472813Z"
    },
    "hidden": true,
    "id": "ff9b5aff"
   },
   "outputs": [],
   "source": [
    "txt_split = txt_split[:-1]"
   ]
  },
  {
   "cell_type": "code",
   "execution_count": null,
   "id": "566ba037",
   "metadata": {
    "ExecuteTime": {
     "end_time": "2023-01-26T02:14:06.164143Z",
     "start_time": "2023-01-26T02:14:05.849854Z"
    },
    "hidden": true,
    "id": "566ba037"
   },
   "outputs": [],
   "source": [
    "txt_chunks = [tuple(t.split(\"\\n\")) for t in txt_split]"
   ]
  },
  {
   "cell_type": "code",
   "execution_count": null,
   "id": "7fcbc856",
   "metadata": {
    "ExecuteTime": {
     "end_time": "2023-01-26T02:14:07.230535Z",
     "start_time": "2023-01-26T02:14:06.352598Z"
    },
    "hidden": true,
    "id": "7fcbc856"
   },
   "outputs": [],
   "source": [
    "txt_dict = []\n",
    "for i in txt_chunks:\n",
    "    txt_dict.append(dict(tuple(t.split(\":\",maxsplit=1)) for t in i))"
   ]
  },
  {
   "cell_type": "code",
   "execution_count": null,
   "id": "63cf7c61",
   "metadata": {
    "ExecuteTime": {
     "end_time": "2023-01-26T02:14:08.085144Z",
     "start_time": "2023-01-26T02:14:07.769857Z"
    },
    "hidden": true,
    "id": "63cf7c61"
   },
   "outputs": [],
   "source": [
    "df = pd.DataFrame(txt_dict)"
   ]
  },
  {
   "cell_type": "code",
   "execution_count": null,
   "id": "04d729d8",
   "metadata": {
    "ExecuteTime": {
     "end_time": "2023-01-30T22:16:46.772483Z",
     "start_time": "2023-01-30T22:16:46.709284Z"
    },
    "colab": {
     "base_uri": "https://localhost:8080/",
     "height": 206
    },
    "executionInfo": {
     "elapsed": 193,
     "status": "ok",
     "timestamp": 1679408212563,
     "user": {
      "displayName": "Aadil Iliyas Zikre",
      "userId": "11139065713760395341"
     },
     "user_tz": 240
    },
    "hidden": true,
    "id": "04d729d8",
    "outputId": "d1bd519d-2075-4cc3-da99-54278cf19dc3"
   },
   "outputs": [
    {
     "data": {
      "text/html": [
       "\n",
       "  <div id=\"df-3dc86fe6-012f-4263-ac6f-33116d04b602\">\n",
       "    <div class=\"colab-df-container\">\n",
       "      <div>\n",
       "<style scoped>\n",
       "    .dataframe tbody tr th:only-of-type {\n",
       "        vertical-align: middle;\n",
       "    }\n",
       "\n",
       "    .dataframe tbody tr th {\n",
       "        vertical-align: top;\n",
       "    }\n",
       "\n",
       "    .dataframe thead th {\n",
       "        text-align: right;\n",
       "    }\n",
       "</style>\n",
       "<table border=\"1\" class=\"dataframe\">\n",
       "  <thead>\n",
       "    <tr style=\"text-align: right;\">\n",
       "      <th></th>\n",
       "      <th>reviewerID</th>\n",
       "      <th>asin</th>\n",
       "      <th>reviewerName</th>\n",
       "      <th>helpful</th>\n",
       "      <th>reviewText</th>\n",
       "      <th>overall</th>\n",
       "      <th>summary</th>\n",
       "      <th>unixReviewTime</th>\n",
       "      <th>reviewTime</th>\n",
       "    </tr>\n",
       "  </thead>\n",
       "  <tbody>\n",
       "    <tr>\n",
       "      <th>0</th>\n",
       "      <td>A1KLRMWW2FWPL4</td>\n",
       "      <td>0000031887</td>\n",
       "      <td>Amazon Customer \"cameramom\"</td>\n",
       "      <td>[0, 0]</td>\n",
       "      <td>This is a great tutu and at a really great pri...</td>\n",
       "      <td>5.0</td>\n",
       "      <td>Great tutu-  not cheaply made</td>\n",
       "      <td>1297468800</td>\n",
       "      <td>02 12, 2011</td>\n",
       "    </tr>\n",
       "    <tr>\n",
       "      <th>1</th>\n",
       "      <td>A2G5TCU2WDFZ65</td>\n",
       "      <td>0000031887</td>\n",
       "      <td>Amazon Customer</td>\n",
       "      <td>[0, 0]</td>\n",
       "      <td>I bought this for my 4 yr old daughter for dan...</td>\n",
       "      <td>5.0</td>\n",
       "      <td>Very Cute!!</td>\n",
       "      <td>1358553600</td>\n",
       "      <td>01 19, 2013</td>\n",
       "    </tr>\n",
       "    <tr>\n",
       "      <th>2</th>\n",
       "      <td>A1RLQXYNCMWRWN</td>\n",
       "      <td>0000031887</td>\n",
       "      <td>Carola</td>\n",
       "      <td>[0, 0]</td>\n",
       "      <td>What can I say... my daughters have it in oran...</td>\n",
       "      <td>5.0</td>\n",
       "      <td>I have buy more than one</td>\n",
       "      <td>1357257600</td>\n",
       "      <td>01 4, 2013</td>\n",
       "    </tr>\n",
       "    <tr>\n",
       "      <th>3</th>\n",
       "      <td>A8U3FAMSJVHS5</td>\n",
       "      <td>0000031887</td>\n",
       "      <td>Caromcg</td>\n",
       "      <td>[0, 0]</td>\n",
       "      <td>We bought several tutus at once, and they are ...</td>\n",
       "      <td>5.0</td>\n",
       "      <td>Adorable, Sturdy</td>\n",
       "      <td>1398556800</td>\n",
       "      <td>04 27, 2014</td>\n",
       "    </tr>\n",
       "    <tr>\n",
       "      <th>4</th>\n",
       "      <td>A3GEOILWLK86XM</td>\n",
       "      <td>0000031887</td>\n",
       "      <td>CJ</td>\n",
       "      <td>[0, 0]</td>\n",
       "      <td>Thank you Halo Heaven great product for Little...</td>\n",
       "      <td>5.0</td>\n",
       "      <td>Grammy's Angels Love it</td>\n",
       "      <td>1394841600</td>\n",
       "      <td>03 15, 2014</td>\n",
       "    </tr>\n",
       "  </tbody>\n",
       "</table>\n",
       "</div>\n",
       "      <button class=\"colab-df-convert\" onclick=\"convertToInteractive('df-3dc86fe6-012f-4263-ac6f-33116d04b602')\"\n",
       "              title=\"Convert this dataframe to an interactive table.\"\n",
       "              style=\"display:none;\">\n",
       "        \n",
       "  <svg xmlns=\"http://www.w3.org/2000/svg\" height=\"24px\"viewBox=\"0 0 24 24\"\n",
       "       width=\"24px\">\n",
       "    <path d=\"M0 0h24v24H0V0z\" fill=\"none\"/>\n",
       "    <path d=\"M18.56 5.44l.94 2.06.94-2.06 2.06-.94-2.06-.94-.94-2.06-.94 2.06-2.06.94zm-11 1L8.5 8.5l.94-2.06 2.06-.94-2.06-.94L8.5 2.5l-.94 2.06-2.06.94zm10 10l.94 2.06.94-2.06 2.06-.94-2.06-.94-.94-2.06-.94 2.06-2.06.94z\"/><path d=\"M17.41 7.96l-1.37-1.37c-.4-.4-.92-.59-1.43-.59-.52 0-1.04.2-1.43.59L10.3 9.45l-7.72 7.72c-.78.78-.78 2.05 0 2.83L4 21.41c.39.39.9.59 1.41.59.51 0 1.02-.2 1.41-.59l7.78-7.78 2.81-2.81c.8-.78.8-2.07 0-2.86zM5.41 20L4 18.59l7.72-7.72 1.47 1.35L5.41 20z\"/>\n",
       "  </svg>\n",
       "      </button>\n",
       "      \n",
       "  <style>\n",
       "    .colab-df-container {\n",
       "      display:flex;\n",
       "      flex-wrap:wrap;\n",
       "      gap: 12px;\n",
       "    }\n",
       "\n",
       "    .colab-df-convert {\n",
       "      background-color: #E8F0FE;\n",
       "      border: none;\n",
       "      border-radius: 50%;\n",
       "      cursor: pointer;\n",
       "      display: none;\n",
       "      fill: #1967D2;\n",
       "      height: 32px;\n",
       "      padding: 0 0 0 0;\n",
       "      width: 32px;\n",
       "    }\n",
       "\n",
       "    .colab-df-convert:hover {\n",
       "      background-color: #E2EBFA;\n",
       "      box-shadow: 0px 1px 2px rgba(60, 64, 67, 0.3), 0px 1px 3px 1px rgba(60, 64, 67, 0.15);\n",
       "      fill: #174EA6;\n",
       "    }\n",
       "\n",
       "    [theme=dark] .colab-df-convert {\n",
       "      background-color: #3B4455;\n",
       "      fill: #D2E3FC;\n",
       "    }\n",
       "\n",
       "    [theme=dark] .colab-df-convert:hover {\n",
       "      background-color: #434B5C;\n",
       "      box-shadow: 0px 1px 3px 1px rgba(0, 0, 0, 0.15);\n",
       "      filter: drop-shadow(0px 1px 2px rgba(0, 0, 0, 0.3));\n",
       "      fill: #FFFFFF;\n",
       "    }\n",
       "  </style>\n",
       "\n",
       "      <script>\n",
       "        const buttonEl =\n",
       "          document.querySelector('#df-3dc86fe6-012f-4263-ac6f-33116d04b602 button.colab-df-convert');\n",
       "        buttonEl.style.display =\n",
       "          google.colab.kernel.accessAllowed ? 'block' : 'none';\n",
       "\n",
       "        async function convertToInteractive(key) {\n",
       "          const element = document.querySelector('#df-3dc86fe6-012f-4263-ac6f-33116d04b602');\n",
       "          const dataTable =\n",
       "            await google.colab.kernel.invokeFunction('convertToInteractive',\n",
       "                                                     [key], {});\n",
       "          if (!dataTable) return;\n",
       "\n",
       "          const docLinkHtml = 'Like what you see? Visit the ' +\n",
       "            '<a target=\"_blank\" href=https://colab.research.google.com/notebooks/data_table.ipynb>data table notebook</a>'\n",
       "            + ' to learn more about interactive tables.';\n",
       "          element.innerHTML = '';\n",
       "          dataTable['output_type'] = 'display_data';\n",
       "          await google.colab.output.renderOutput(dataTable, element);\n",
       "          const docLink = document.createElement('div');\n",
       "          docLink.innerHTML = docLinkHtml;\n",
       "          element.appendChild(docLink);\n",
       "        }\n",
       "      </script>\n",
       "    </div>\n",
       "  </div>\n",
       "  "
      ],
      "text/plain": [
       "       reviewerID        asin                 reviewerName helpful  \\\n",
       "0  A1KLRMWW2FWPL4  0000031887  Amazon Customer \"cameramom\"  [0, 0]   \n",
       "1  A2G5TCU2WDFZ65  0000031887              Amazon Customer  [0, 0]   \n",
       "2  A1RLQXYNCMWRWN  0000031887                       Carola  [0, 0]   \n",
       "3   A8U3FAMSJVHS5  0000031887                      Caromcg  [0, 0]   \n",
       "4  A3GEOILWLK86XM  0000031887                           CJ  [0, 0]   \n",
       "\n",
       "                                          reviewText overall  \\\n",
       "0  This is a great tutu and at a really great pri...     5.0   \n",
       "1  I bought this for my 4 yr old daughter for dan...     5.0   \n",
       "2  What can I say... my daughters have it in oran...     5.0   \n",
       "3  We bought several tutus at once, and they are ...     5.0   \n",
       "4  Thank you Halo Heaven great product for Little...     5.0   \n",
       "\n",
       "                         summary unixReviewTime   reviewTime  \n",
       "0  Great tutu-  not cheaply made     1297468800  02 12, 2011  \n",
       "1                    Very Cute!!     1358553600  01 19, 2013  \n",
       "2       I have buy more than one     1357257600   01 4, 2013  \n",
       "3               Adorable, Sturdy     1398556800  04 27, 2014  \n",
       "4        Grammy's Angels Love it     1394841600  03 15, 2014  "
      ]
     },
     "execution_count": 10,
     "metadata": {},
     "output_type": "execute_result"
    }
   ],
   "source": [
    "df.head()"
   ]
  },
  {
   "cell_type": "code",
   "execution_count": null,
   "id": "a493ee12",
   "metadata": {
    "ExecuteTime": {
     "end_time": "2023-01-26T02:14:11.811220Z",
     "start_time": "2023-01-26T02:14:11.681867Z"
    },
    "hidden": true,
    "id": "a493ee12"
   },
   "outputs": [],
   "source": [
    "assert (df.groupby(\"reviewerID\").size()>=5).all(), \"Check Again! Minimum Reviews per user should be 5\" # checking if the import was correct"
   ]
  },
  {
   "cell_type": "code",
   "execution_count": null,
   "id": "00be1c12",
   "metadata": {
    "ExecuteTime": {
     "end_time": "2023-01-26T02:14:12.433454Z",
     "start_time": "2023-01-26T02:14:12.329296Z"
    },
    "hidden": true,
    "id": "00be1c12"
   },
   "outputs": [],
   "source": [
    "assert (df.groupby(\"asin\").size()>=5).all(), \"Check Again! Minimum Reviews per item should be 5\" # checking if the import was correct"
   ]
  },
  {
   "cell_type": "code",
   "execution_count": null,
   "id": "639cbb4d",
   "metadata": {
    "ExecuteTime": {
     "end_time": "2023-01-26T02:14:13.051031Z",
     "start_time": "2023-01-26T02:14:13.045458Z"
    },
    "colab": {
     "base_uri": "https://localhost:8080/"
    },
    "executionInfo": {
     "elapsed": 2,
     "status": "ok",
     "timestamp": 1679408212729,
     "user": {
      "displayName": "Aadil Iliyas Zikre",
      "userId": "11139065713760395341"
     },
     "user_tz": 240
    },
    "hidden": true,
    "id": "639cbb4d",
    "outputId": "d313f0a4-4942-4ab9-f7b9-4ee777556412"
   },
   "outputs": [
    {
     "data": {
      "text/plain": [
       "(278677, 9)"
      ]
     },
     "execution_count": 13,
     "metadata": {},
     "output_type": "execute_result"
    }
   ],
   "source": [
    "df.shape"
   ]
  },
  {
   "cell_type": "code",
   "execution_count": null,
   "id": "SWSMfptYCMMK",
   "metadata": {
    "colab": {
     "base_uri": "https://localhost:8080/"
    },
    "executionInfo": {
     "elapsed": 1355,
     "status": "ok",
     "timestamp": 1679408214082,
     "user": {
      "displayName": "Aadil Iliyas Zikre",
      "userId": "11139065713760395341"
     },
     "user_tz": 240
    },
    "hidden": true,
    "id": "SWSMfptYCMMK",
    "outputId": "87044853-378d-4b1c-945b-0cdde91a45e7"
   },
   "outputs": [
    {
     "name": "stderr",
     "output_type": "stream",
     "text": [
      "100%|██████████| 278677/278677 [00:00<00:00, 712707.55it/s]\n"
     ]
    }
   ],
   "source": [
    "df = df[df.reviewText.progress_apply(len) > 0] # To remove Nulls \n",
    "df = df.iloc[:5000].reset_index(drop=True) # selecting just the first 5000 rows for this assignment"
   ]
  },
  {
   "cell_type": "code",
   "execution_count": null,
   "id": "183c2408",
   "metadata": {
    "ExecuteTime": {
     "end_time": "2023-01-26T02:14:14.826161Z",
     "start_time": "2023-01-26T02:14:13.795019Z"
    },
    "hidden": true,
    "id": "183c2408"
   },
   "outputs": [],
   "source": [
    "import matplotlib\n",
    "import matplotlib.pyplot as plt\n",
    "import seaborn as sns\n",
    "sns.set_theme(style=\"darkgrid\", palette = \"crest_r\")"
   ]
  },
  {
   "cell_type": "code",
   "execution_count": null,
   "id": "d56d6172",
   "metadata": {
    "ExecuteTime": {
     "end_time": "2023-01-26T02:14:16.284065Z",
     "start_time": "2023-01-26T02:14:15.962711Z"
    },
    "colab": {
     "base_uri": "https://localhost:8080/",
     "height": 302
    },
    "executionInfo": {
     "elapsed": 12,
     "status": "ok",
     "timestamp": 1679408214265,
     "user": {
      "displayName": "Aadil Iliyas Zikre",
      "userId": "11139065713760395341"
     },
     "user_tz": 240
    },
    "hidden": true,
    "id": "d56d6172",
    "outputId": "7af704be-fd6b-4c4b-f601-f5a316ca34bf"
   },
   "outputs": [
    {
     "data": {
      "text/plain": [
       "<Axes: xlabel='overall', ylabel='count'>"
      ]
     },
     "execution_count": 16,
     "metadata": {},
     "output_type": "execute_result"
    },
    {
     "data": {
      "image/png": "[encoded data removed]",
      "text/plain": [
       "<Figure size 432x288 with 1 Axes>"
      ]
     },
     "metadata": {},
     "output_type": "display_data"
    }
   ],
   "source": [
    "sns.countplot(x = df.overall, order=sorted(df.overall.unique())) # To check the spread of reviews over the ratings"
   ]
  },
  {
   "cell_type": "code",
   "execution_count": null,
   "id": "956dba5c",
   "metadata": {
    "ExecuteTime": {
     "end_time": "2023-01-26T02:14:31.748958Z",
     "start_time": "2023-01-26T02:14:31.523209Z"
    },
    "hidden": true,
    "id": "956dba5c"
   },
   "outputs": [],
   "source": [
    "df.unixReviewTime = pd.to_datetime(df.unixReviewTime, unit='s')"
   ]
  },
  {
   "cell_type": "code",
   "execution_count": null,
   "id": "eafdaee2",
   "metadata": {
    "ExecuteTime": {
     "end_time": "2023-01-26T02:14:59.004065Z",
     "start_time": "2023-01-26T02:14:58.855657Z"
    },
    "colab": {
     "base_uri": "https://localhost:8080/",
     "height": 302
    },
    "executionInfo": {
     "elapsed": 9,
     "status": "ok",
     "timestamp": 1679408214265,
     "user": {
      "displayName": "Aadil Iliyas Zikre",
      "userId": "11139065713760395341"
     },
     "user_tz": 240
    },
    "hidden": true,
    "id": "eafdaee2",
    "outputId": "55f11d61-7655-4863-b9eb-625cbfec3292"
   },
   "outputs": [
    {
     "data": {
      "text/plain": [
       "<Axes: xlabel='unixReviewTime', ylabel='count'>"
      ]
     },
     "execution_count": 18,
     "metadata": {},
     "output_type": "execute_result"
    },
    {
     "data": {
      "image/png": "[encoded data removed]",
      "text/plain": [
       "<Figure size 432x288 with 1 Axes>"
      ]
     },
     "metadata": {},
     "output_type": "display_data"
    }
   ],
   "source": [
    "sns.countplot(x = df.unixReviewTime.dt.year, order = sorted(df.unixReviewTime.dt.year.unique())) # Checking years in which the review was given"
   ]
  },
  {
   "cell_type": "code",
   "execution_count": null,
   "id": "e0314ebb",
   "metadata": {
    "ExecuteTime": {
     "end_time": "2023-01-30T14:06:15.071798Z",
     "start_time": "2023-01-30T14:06:14.992350Z"
    },
    "colab": {
     "base_uri": "https://localhost:8080/",
     "height": 206
    },
    "executionInfo": {
     "elapsed": 9,
     "status": "ok",
     "timestamp": 1679408214266,
     "user": {
      "displayName": "Aadil Iliyas Zikre",
      "userId": "11139065713760395341"
     },
     "user_tz": 240
    },
    "hidden": true,
    "id": "e0314ebb",
    "outputId": "003c7b8a-57fb-46a7-c053-9ae6f543a4b9"
   },
   "outputs": [
    {
     "data": {
      "text/html": [
       "\n",
       "  <div id=\"df-021a3976-66e2-425c-9ff5-304088c31a53\">\n",
       "    <div class=\"colab-df-container\">\n",
       "      <div>\n",
       "<style scoped>\n",
       "    .dataframe tbody tr th:only-of-type {\n",
       "        vertical-align: middle;\n",
       "    }\n",
       "\n",
       "    .dataframe tbody tr th {\n",
       "        vertical-align: top;\n",
       "    }\n",
       "\n",
       "    .dataframe thead th {\n",
       "        text-align: right;\n",
       "    }\n",
       "</style>\n",
       "<table border=\"1\" class=\"dataframe\">\n",
       "  <thead>\n",
       "    <tr style=\"text-align: right;\">\n",
       "      <th></th>\n",
       "      <th>reviewerID</th>\n",
       "      <th>asin</th>\n",
       "      <th>reviewerName</th>\n",
       "      <th>helpful</th>\n",
       "      <th>reviewText</th>\n",
       "      <th>overall</th>\n",
       "      <th>summary</th>\n",
       "      <th>unixReviewTime</th>\n",
       "      <th>reviewTime</th>\n",
       "    </tr>\n",
       "  </thead>\n",
       "  <tbody>\n",
       "    <tr>\n",
       "      <th>0</th>\n",
       "      <td>A1KLRMWW2FWPL4</td>\n",
       "      <td>0000031887</td>\n",
       "      <td>Amazon Customer \"cameramom\"</td>\n",
       "      <td>[0, 0]</td>\n",
       "      <td>This is a great tutu and at a really great pri...</td>\n",
       "      <td>5.0</td>\n",
       "      <td>Great tutu-  not cheaply made</td>\n",
       "      <td>2011-02-12</td>\n",
       "      <td>02 12, 2011</td>\n",
       "    </tr>\n",
       "    <tr>\n",
       "      <th>1</th>\n",
       "      <td>A2G5TCU2WDFZ65</td>\n",
       "      <td>0000031887</td>\n",
       "      <td>Amazon Customer</td>\n",
       "      <td>[0, 0]</td>\n",
       "      <td>I bought this for my 4 yr old daughter for dan...</td>\n",
       "      <td>5.0</td>\n",
       "      <td>Very Cute!!</td>\n",
       "      <td>2013-01-19</td>\n",
       "      <td>01 19, 2013</td>\n",
       "    </tr>\n",
       "    <tr>\n",
       "      <th>2</th>\n",
       "      <td>A1RLQXYNCMWRWN</td>\n",
       "      <td>0000031887</td>\n",
       "      <td>Carola</td>\n",
       "      <td>[0, 0]</td>\n",
       "      <td>What can I say... my daughters have it in oran...</td>\n",
       "      <td>5.0</td>\n",
       "      <td>I have buy more than one</td>\n",
       "      <td>2013-01-04</td>\n",
       "      <td>01 4, 2013</td>\n",
       "    </tr>\n",
       "    <tr>\n",
       "      <th>3</th>\n",
       "      <td>A8U3FAMSJVHS5</td>\n",
       "      <td>0000031887</td>\n",
       "      <td>Caromcg</td>\n",
       "      <td>[0, 0]</td>\n",
       "      <td>We bought several tutus at once, and they are ...</td>\n",
       "      <td>5.0</td>\n",
       "      <td>Adorable, Sturdy</td>\n",
       "      <td>2014-04-27</td>\n",
       "      <td>04 27, 2014</td>\n",
       "    </tr>\n",
       "    <tr>\n",
       "      <th>4</th>\n",
       "      <td>A3GEOILWLK86XM</td>\n",
       "      <td>0000031887</td>\n",
       "      <td>CJ</td>\n",
       "      <td>[0, 0]</td>\n",
       "      <td>Thank you Halo Heaven great product for Little...</td>\n",
       "      <td>5.0</td>\n",
       "      <td>Grammy's Angels Love it</td>\n",
       "      <td>2014-03-15</td>\n",
       "      <td>03 15, 2014</td>\n",
       "    </tr>\n",
       "  </tbody>\n",
       "</table>\n",
       "</div>\n",
       "      <button class=\"colab-df-convert\" onclick=\"convertToInteractive('df-021a3976-66e2-425c-9ff5-304088c31a53')\"\n",
       "              title=\"Convert this dataframe to an interactive table.\"\n",
       "              style=\"display:none;\">\n",
       "        \n",
       "  <svg xmlns=\"http://www.w3.org/2000/svg\" height=\"24px\"viewBox=\"0 0 24 24\"\n",
       "       width=\"24px\">\n",
       "    <path d=\"M0 0h24v24H0V0z\" fill=\"none\"/>\n",
       "    <path d=\"M18.56 5.44l.94 2.06.94-2.06 2.06-.94-2.06-.94-.94-2.06-.94 2.06-2.06.94zm-11 1L8.5 8.5l.94-2.06 2.06-.94-2.06-.94L8.5 2.5l-.94 2.06-2.06.94zm10 10l.94 2.06.94-2.06 2.06-.94-2.06-.94-.94-2.06-.94 2.06-2.06.94z\"/><path d=\"M17.41 7.96l-1.37-1.37c-.4-.4-.92-.59-1.43-.59-.52 0-1.04.2-1.43.59L10.3 9.45l-7.72 7.72c-.78.78-.78 2.05 0 2.83L4 21.41c.39.39.9.59 1.41.59.51 0 1.02-.2 1.41-.59l7.78-7.78 2.81-2.81c.8-.78.8-2.07 0-2.86zM5.41 20L4 18.59l7.72-7.72 1.47 1.35L5.41 20z\"/>\n",
       "  </svg>\n",
       "      </button>\n",
       "      \n",
       "  <style>\n",
       "    .colab-df-container {\n",
       "      display:flex;\n",
       "      flex-wrap:wrap;\n",
       "      gap: 12px;\n",
       "    }\n",
       "\n",
       "    .colab-df-convert {\n",
       "      background-color: #E8F0FE;\n",
       "      border: none;\n",
       "      border-radius: 50%;\n",
       "      cursor: pointer;\n",
       "      display: none;\n",
       "      fill: #1967D2;\n",
       "      height: 32px;\n",
       "      padding: 0 0 0 0;\n",
       "      width: 32px;\n",
       "    }\n",
       "\n",
       "    .colab-df-convert:hover {\n",
       "      background-color: #E2EBFA;\n",
       "      box-shadow: 0px 1px 2px rgba(60, 64, 67, 0.3), 0px 1px 3px 1px rgba(60, 64, 67, 0.15);\n",
       "      fill: #174EA6;\n",
       "    }\n",
       "\n",
       "    [theme=dark] .colab-df-convert {\n",
       "      background-color: #3B4455;\n",
       "      fill: #D2E3FC;\n",
       "    }\n",
       "\n",
       "    [theme=dark] .colab-df-convert:hover {\n",
       "      background-color: #434B5C;\n",
       "      box-shadow: 0px 1px 3px 1px rgba(0, 0, 0, 0.15);\n",
       "      filter: drop-shadow(0px 1px 2px rgba(0, 0, 0, 0.3));\n",
       "      fill: #FFFFFF;\n",
       "    }\n",
       "  </style>\n",
       "\n",
       "      <script>\n",
       "        const buttonEl =\n",
       "          document.querySelector('#df-021a3976-66e2-425c-9ff5-304088c31a53 button.colab-df-convert');\n",
       "        buttonEl.style.display =\n",
       "          google.colab.kernel.accessAllowed ? 'block' : 'none';\n",
       "\n",
       "        async function convertToInteractive(key) {\n",
       "          const element = document.querySelector('#df-021a3976-66e2-425c-9ff5-304088c31a53');\n",
       "          const dataTable =\n",
       "            await google.colab.kernel.invokeFunction('convertToInteractive',\n",
       "                                                     [key], {});\n",
       "          if (!dataTable) return;\n",
       "\n",
       "          const docLinkHtml = 'Like what you see? Visit the ' +\n",
       "            '<a target=\"_blank\" href=https://colab.research.google.com/notebooks/data_table.ipynb>data table notebook</a>'\n",
       "            + ' to learn more about interactive tables.';\n",
       "          element.innerHTML = '';\n",
       "          dataTable['output_type'] = 'display_data';\n",
       "          await google.colab.output.renderOutput(dataTable, element);\n",
       "          const docLink = document.createElement('div');\n",
       "          docLink.innerHTML = docLinkHtml;\n",
       "          element.appendChild(docLink);\n",
       "        }\n",
       "      </script>\n",
       "    </div>\n",
       "  </div>\n",
       "  "
      ],
      "text/plain": [
       "       reviewerID        asin                 reviewerName helpful  \\\n",
       "0  A1KLRMWW2FWPL4  0000031887  Amazon Customer \"cameramom\"  [0, 0]   \n",
       "1  A2G5TCU2WDFZ65  0000031887              Amazon Customer  [0, 0]   \n",
       "2  A1RLQXYNCMWRWN  0000031887                       Carola  [0, 0]   \n",
       "3   A8U3FAMSJVHS5  0000031887                      Caromcg  [0, 0]   \n",
       "4  A3GEOILWLK86XM  0000031887                           CJ  [0, 0]   \n",
       "\n",
       "                                          reviewText overall  \\\n",
       "0  This is a great tutu and at a really great pri...     5.0   \n",
       "1  I bought this for my 4 yr old daughter for dan...     5.0   \n",
       "2  What can I say... my daughters have it in oran...     5.0   \n",
       "3  We bought several tutus at once, and they are ...     5.0   \n",
       "4  Thank you Halo Heaven great product for Little...     5.0   \n",
       "\n",
       "                         summary unixReviewTime   reviewTime  \n",
       "0  Great tutu-  not cheaply made     2011-02-12  02 12, 2011  \n",
       "1                    Very Cute!!     2013-01-19  01 19, 2013  \n",
       "2       I have buy more than one     2013-01-04   01 4, 2013  \n",
       "3               Adorable, Sturdy     2014-04-27  04 27, 2014  \n",
       "4        Grammy's Angels Love it     2014-03-15  03 15, 2014  "
      ]
     },
     "execution_count": 19,
     "metadata": {},
     "output_type": "execute_result"
    }
   ],
   "source": [
    "df.head()"
   ]
  },
  {
   "cell_type": "markdown",
   "id": "uoXhvJr9juUG",
   "metadata": {
    "heading_collapsed": true,
    "id": "uoXhvJr9juUG"
   },
   "source": [
    "# MAKING OF FILE FOR PREDICTION\n",
    "The preprocessing done here is the same as last notebook. I only show it here for reference. In my own experiments, I have just imported the part 1 file of last task. I will be attaching it with the submission."
   ]
  },
  {
   "cell_type": "code",
   "execution_count": null,
   "id": "r0OyzJKuuSyC",
   "metadata": {
    "hidden": true,
    "id": "r0OyzJKuuSyC"
   },
   "outputs": [],
   "source": [
    "import nltk"
   ]
  },
  {
   "cell_type": "code",
   "execution_count": null,
   "id": "F8V4Cnn4vrdZ",
   "metadata": {
    "colab": {
     "base_uri": "https://localhost:8080/"
    },
    "executionInfo": {
     "elapsed": 6962,
     "status": "ok",
     "timestamp": 1681581106371,
     "user": {
      "displayName": "Aadil Iliyas Zikre",
      "userId": "11139065713760395341"
     },
     "user_tz": 240
    },
    "hidden": true,
    "id": "F8V4Cnn4vrdZ",
    "outputId": "5240ae4a-2f06-4cdf-b5b8-6cfcffd8a955"
   },
   "outputs": [
    {
     "name": "stderr",
     "output_type": "stream",
     "text": [
      "[nltk_data] Downloading package punkt to /root/nltk_data...\n",
      "[nltk_data]   Package punkt is already up-to-date!\n",
      "[nltk_data] Downloading package averaged_perceptron_tagger to\n",
      "[nltk_data]     /root/nltk_data...\n",
      "[nltk_data]   Package averaged_perceptron_tagger is already up-to-\n",
      "[nltk_data]       date!\n",
      "[nltk_data] Downloading package wordnet to /root/nltk_data...\n",
      "[nltk_data]   Package wordnet is already up-to-date!\n",
      "[nltk_data] Downloading package omw-1.4 to /root/nltk_data...\n",
      "[nltk_data]   Package omw-1.4 is already up-to-date!\n",
      "[nltk_data] Downloading package stopwords to /root/nltk_data...\n",
      "[nltk_data]   Package stopwords is already up-to-date!\n"
     ]
    },
    {
     "data": {
      "text/plain": [
       "True"
      ]
     },
     "execution_count": 3,
     "metadata": {},
     "output_type": "execute_result"
    }
   ],
   "source": [
    "nltk.download('punkt')\n",
    "nltk.download('averaged_perceptron_tagger')\n",
    "nltk.download('wordnet')\n",
    "nltk.download('omw-1.4')\n",
    "nltk.download('stopwords')"
   ]
  },
  {
   "cell_type": "code",
   "execution_count": null,
   "id": "k53ZReNpuSvy",
   "metadata": {
    "hidden": true,
    "id": "k53ZReNpuSvy"
   },
   "outputs": [],
   "source": [
    "df_rev = df[['reviewText']] # we only need reviewText for further analysis"
   ]
  },
  {
   "cell_type": "code",
   "execution_count": null,
   "id": "v8Jh7F1ouStf",
   "metadata": {
    "hidden": true,
    "id": "v8Jh7F1ouStf"
   },
   "outputs": [],
   "source": [
    "# Strategy : This is the same as last assignment\n",
    "# do sentense tokenize\n",
    "# adjective words, capital word(s), or exclamation marks Calculate these:\n",
    "# Sum up the columns by groupby on reviewText ID \n",
    "# If the sum is 0, remove reviews \n",
    "# Get Adjective Word List, Bigram List, Capital Word List, Exclaimation Mark "
   ]
  },
  {
   "cell_type": "code",
   "execution_count": null,
   "id": "wrqrRyl9ETAu",
   "metadata": {
    "hidden": true,
    "id": "wrqrRyl9ETAu"
   },
   "outputs": [],
   "source": [
    "df_rev = df_rev.rename_axis(\"reviewText_ID\", axis = 0).reset_index() # Providing a unique id to each review"
   ]
  },
  {
   "cell_type": "code",
   "execution_count": null,
   "id": "nE6zAvZtE6bI",
   "metadata": {
    "colab": {
     "base_uri": "https://localhost:8080/"
    },
    "executionInfo": {
     "elapsed": 1767,
     "status": "ok",
     "timestamp": 1679408234202,
     "user": {
      "displayName": "Aadil Iliyas Zikre",
      "userId": "11139065713760395341"
     },
     "user_tz": 240
    },
    "hidden": true,
    "id": "nE6zAvZtE6bI",
    "outputId": "c3a27d9d-1f5e-4f25-c584-2d2615eefae5"
   },
   "outputs": [
    {
     "name": "stderr",
     "output_type": "stream",
     "text": [
      "100%|██████████| 5000/5000 [00:00<00:00, 7838.65it/s]\n"
     ]
    }
   ],
   "source": [
    "df_rev[\"reviewText_sents\"] = df_rev.reviewText.progress_apply(nltk.sent_tokenize) # segmenting reviews into sentences"
   ]
  },
  {
   "cell_type": "code",
   "execution_count": null,
   "id": "weB_4ruKFX5X",
   "metadata": {
    "hidden": true,
    "id": "weB_4ruKFX5X"
   },
   "outputs": [],
   "source": [
    "df_rev = df_rev.explode('reviewText_sents') # exploding df such that each row has a sentence"
   ]
  },
  {
   "cell_type": "code",
   "execution_count": null,
   "id": "a0yYtEHfHCgM",
   "metadata": {
    "hidden": true,
    "id": "a0yYtEHfHCgM"
   },
   "outputs": [],
   "source": [
    "# function to get list of adjectives from a given sentence\n",
    "def get_adjective_word_list(sentence):\n",
    "  word_list_w_tags = nltk.pos_tag(nltk.word_tokenize(sentence))\n",
    "  return [i for i,j in word_list_w_tags if j in ['JJ', 'JJR', 'JJS']]\n",
    "  # https://www.ling.upenn.edu/courses/Fall_2003/ling001/penn_treebank_pos.html\n",
    "\n",
    "# function to get list of capital words from a given sentence\n",
    "capital_pattern = re.compile(r\"\\b[A-Z]+\\b\")\n",
    "def get_capital_word_list(sentence):\n",
    "  return re.findall(capital_pattern,sentence)\n",
    "\n",
    "# function to say whether a given sentence has exclamation marks\n",
    "def contains_exlamation_mark(sentence):\n",
    "  if \"!\" in sentence:\n",
    "    return 1\n",
    "  return 0\n",
    "\n",
    "# function to get bigrams which have either verbs or adjectives in it\n",
    "# we make the bigrams first, then search for bigrams with Verbs or Adjectives\n",
    "stopwords = nltk.corpus.stopwords.words('english')\n",
    "list_vaid_tags_for_bigrams = ('VB','JJ')\n",
    "def get_bigrams(sentence):\n",
    "  bigrams_list_w_tags = nltk.bigrams(nltk.pos_tag(nltk.word_tokenize(sentence)))\n",
    "  bigrams_list_w_tags = [i for i in bigrams_list_w_tags if (i[0][1].startswith(list_vaid_tags_for_bigrams)) | (i[1][1].startswith(list_vaid_tags_for_bigrams))]\n",
    "  bigrams_list_w_tags = [i for i in bigrams_list_w_tags if (i[0][0].lower() not in stopwords) & (i[1][0].lower() not in stopwords)]\n",
    "  bigrams_list_w_tags = [i for i in bigrams_list_w_tags if (i[0][0] not in punctuation) & (i[1][0] not in punctuation)] \n",
    "  return bigrams_list_w_tags"
   ]
  },
  {
   "cell_type": "code",
   "execution_count": null,
   "id": "fQ8Cv4UBuSjv",
   "metadata": {
    "colab": {
     "base_uri": "https://localhost:8080/"
    },
    "executionInfo": {
     "elapsed": 25901,
     "status": "ok",
     "timestamp": 1679408269008,
     "user": {
      "displayName": "Aadil Iliyas Zikre",
      "userId": "11139065713760395341"
     },
     "user_tz": 240
    },
    "hidden": true,
    "id": "fQ8Cv4UBuSjv",
    "outputId": "6d467787-7513-4b46-b036-2250d80e0b72"
   },
   "outputs": [
    {
     "name": "stderr",
     "output_type": "stream",
     "text": [
      "100%|██████████| 22032/22032 [00:25<00:00, 861.13it/s] \n",
      "100%|██████████| 22032/22032 [00:00<00:00, 195518.54it/s]\n",
      "100%|██████████| 22032/22032 [00:00<00:00, 686646.65it/s]\n"
     ]
    }
   ],
   "source": [
    "df_rev['adjective_words'] = df_rev['reviewText_sents'].progress_apply(get_adjective_word_list)\n",
    "df_rev['capital_words'] = df_rev['reviewText_sents'].progress_apply(get_capital_word_list)\n",
    "df_rev['contains_exclaimation'] = df_rev['reviewText_sents'].progress_apply(contains_exlamation_mark)"
   ]
  },
  {
   "cell_type": "code",
   "execution_count": null,
   "id": "jKlKTqE-Q0_m",
   "metadata": {
    "colab": {
     "base_uri": "https://localhost:8080/"
    },
    "executionInfo": {
     "elapsed": 1170,
     "status": "ok",
     "timestamp": 1679408277275,
     "user": {
      "displayName": "Aadil Iliyas Zikre",
      "userId": "11139065713760395341"
     },
     "user_tz": 240
    },
    "hidden": true,
    "id": "jKlKTqE-Q0_m",
    "outputId": "31e4ad98-7fde-4bea-abc3-1bf9d11cd0dc"
   },
   "outputs": [
    {
     "name": "stderr",
     "output_type": "stream",
     "text": [
      "100%|██████████| 22032/22032 [00:00<00:00, 31804.48it/s]\n"
     ]
    }
   ],
   "source": [
    "# removing all sentences where the none of the 3 conditions are met \n",
    "df_rev = df_rev[~df_rev.progress_apply(lambda x: True \n",
    "                     if (len(x['adjective_words']) == 0) & (len(x['capital_words']) == 0) & (x['contains_exclaimation'] == 0)\n",
    "                     else False, axis = 1)]"
   ]
  },
  {
   "cell_type": "code",
   "execution_count": null,
   "id": "vpmk3BATauux",
   "metadata": {
    "colab": {
     "base_uri": "https://localhost:8080/"
    },
    "executionInfo": {
     "elapsed": 37443,
     "status": "ok",
     "timestamp": 1679408675884,
     "user": {
      "displayName": "Aadil Iliyas Zikre",
      "userId": "11139065713760395341"
     },
     "user_tz": 240
    },
    "hidden": true,
    "id": "vpmk3BATauux",
    "outputId": "4a229f1b-6cac-40d2-9498-f56b591881fa"
   },
   "outputs": [
    {
     "name": "stderr",
     "output_type": "stream",
     "text": [
      "100%|██████████| 19209/19209 [00:36<00:00, 523.81it/s]\n"
     ]
    }
   ],
   "source": [
    "df_rev['bigram_list_vb_adj'] = df_rev['reviewText_sents'].progress_apply(get_bigrams)"
   ]
  },
  {
   "cell_type": "code",
   "execution_count": null,
   "id": "D-9Cj_nCU9wm",
   "metadata": {
    "hidden": true,
    "id": "D-9Cj_nCU9wm"
   },
   "outputs": [],
   "source": [
    "all_adjectives = list(chain(*df_rev.adjective_words)) # Concatenating all adjective lists to get one list\n",
    "all_bigrams = list(chain(*df_rev.bigram_list_vb_adj)) # Concatenating all bigrams lists to get one list\n",
    "all_bigrams = [(i[0][0], i[1][0]) for i in all_bigrams] # taking out words from bigrams which are word,pos_tag pairs\n",
    "all_bigrams = [(lemmatizer.lemmatize(i[0]), lemmatizer.lemmatize(i[1])) for i in all_bigrams] # Lemmatizing to see the words clearly "
   ]
  },
  {
   "cell_type": "code",
   "execution_count": null,
   "id": "MOYx51YKeauU",
   "metadata": {
    "colab": {
     "base_uri": "https://localhost:8080/"
    },
    "executionInfo": {
     "elapsed": 200,
     "status": "ok",
     "timestamp": 1679408737550,
     "user": {
      "displayName": "Aadil Iliyas Zikre",
      "userId": "11139065713760395341"
     },
     "user_tz": 240
    },
    "hidden": true,
    "id": "MOYx51YKeauU",
    "outputId": "6981b2a9-d096-4f37-ca0a-2bcf9b4e5d7c"
   },
   "outputs": [
    {
     "name": "stderr",
     "output_type": "stream",
     "text": [
      "100%|██████████| 19209/19209 [00:00<00:00, 542394.65it/s]\n",
      "100%|██████████| 19209/19209 [00:00<00:00, 698365.96it/s]\n",
      "100%|██████████| 19209/19209 [00:00<00:00, 728453.24it/s]\n",
      "100%|██████████| 19209/19209 [00:00<00:00, 670961.50it/s]\n"
     ]
    }
   ],
   "source": [
    "# calculation of length for various lists and strings\n",
    "df_rev[\"reviewText_sent_len\"] = df_rev[\"reviewText_sents\"].progress_apply(len)\n",
    "df_rev[\"bigrams_list_len\"] = df_rev[\"bigram_list_vb_adj\"].progress_apply(len)\n",
    "df_rev[\"adjective_words_len\"] = df_rev[\"adjective_words\"].progress_apply(len)\n",
    "df_rev[\"capital_words_len\"] = df_rev[\"capital_words\"].progress_apply(len)"
   ]
  },
  {
   "cell_type": "code",
   "execution_count": null,
   "id": "Tb1DbeLSfNfZ",
   "metadata": {
    "colab": {
     "base_uri": "https://localhost:8080/",
     "height": 300
    },
    "executionInfo": {
     "elapsed": 123,
     "status": "ok",
     "timestamp": 1679408739573,
     "user": {
      "displayName": "Aadil Iliyas Zikre",
      "userId": "11139065713760395341"
     },
     "user_tz": 240
    },
    "hidden": true,
    "id": "Tb1DbeLSfNfZ",
    "outputId": "4f63bba1-9d55-46bc-99c6-1d89b1d875b4"
   },
   "outputs": [
    {
     "data": {
      "text/html": [
       "\n",
       "  <div id=\"df-ba2c1f1d-55dd-4d6b-8251-27beb472e6b3\">\n",
       "    <div class=\"colab-df-container\">\n",
       "      <div>\n",
       "<style scoped>\n",
       "    .dataframe tbody tr th:only-of-type {\n",
       "        vertical-align: middle;\n",
       "    }\n",
       "\n",
       "    .dataframe tbody tr th {\n",
       "        vertical-align: top;\n",
       "    }\n",
       "\n",
       "    .dataframe thead th {\n",
       "        text-align: right;\n",
       "    }\n",
       "</style>\n",
       "<table border=\"1\" class=\"dataframe\">\n",
       "  <thead>\n",
       "    <tr style=\"text-align: right;\">\n",
       "      <th></th>\n",
       "      <th>reviewText_sent_len</th>\n",
       "      <th>bigrams_list_len</th>\n",
       "      <th>adjective_words_len</th>\n",
       "      <th>capital_words_len</th>\n",
       "    </tr>\n",
       "  </thead>\n",
       "  <tbody>\n",
       "    <tr>\n",
       "      <th>count</th>\n",
       "      <td>19209.000000</td>\n",
       "      <td>19209.000000</td>\n",
       "      <td>19209.000000</td>\n",
       "      <td>19209.000000</td>\n",
       "    </tr>\n",
       "    <tr>\n",
       "      <th>mean</th>\n",
       "      <td>81.744911</td>\n",
       "      <td>1.954240</td>\n",
       "      <td>1.645947</td>\n",
       "      <td>0.900672</td>\n",
       "    </tr>\n",
       "    <tr>\n",
       "      <th>std</th>\n",
       "      <td>60.887768</td>\n",
       "      <td>1.932438</td>\n",
       "      <td>1.484599</td>\n",
       "      <td>2.198032</td>\n",
       "    </tr>\n",
       "    <tr>\n",
       "      <th>min</th>\n",
       "      <td>1.000000</td>\n",
       "      <td>0.000000</td>\n",
       "      <td>0.000000</td>\n",
       "      <td>0.000000</td>\n",
       "    </tr>\n",
       "    <tr>\n",
       "      <th>25%</th>\n",
       "      <td>44.000000</td>\n",
       "      <td>1.000000</td>\n",
       "      <td>1.000000</td>\n",
       "      <td>0.000000</td>\n",
       "    </tr>\n",
       "    <tr>\n",
       "      <th>50%</th>\n",
       "      <td>68.000000</td>\n",
       "      <td>2.000000</td>\n",
       "      <td>1.000000</td>\n",
       "      <td>1.000000</td>\n",
       "    </tr>\n",
       "    <tr>\n",
       "      <th>75%</th>\n",
       "      <td>103.000000</td>\n",
       "      <td>3.000000</td>\n",
       "      <td>2.000000</td>\n",
       "      <td>1.000000</td>\n",
       "    </tr>\n",
       "    <tr>\n",
       "      <th>max</th>\n",
       "      <td>1178.000000</td>\n",
       "      <td>32.000000</td>\n",
       "      <td>32.000000</td>\n",
       "      <td>180.000000</td>\n",
       "    </tr>\n",
       "  </tbody>\n",
       "</table>\n",
       "</div>\n",
       "      <button class=\"colab-df-convert\" onclick=\"convertToInteractive('df-ba2c1f1d-55dd-4d6b-8251-27beb472e6b3')\"\n",
       "              title=\"Convert this dataframe to an interactive table.\"\n",
       "              style=\"display:none;\">\n",
       "        \n",
       "  <svg xmlns=\"http://www.w3.org/2000/svg\" height=\"24px\"viewBox=\"0 0 24 24\"\n",
       "       width=\"24px\">\n",
       "    <path d=\"M0 0h24v24H0V0z\" fill=\"none\"/>\n",
       "    <path d=\"M18.56 5.44l.94 2.06.94-2.06 2.06-.94-2.06-.94-.94-2.06-.94 2.06-2.06.94zm-11 1L8.5 8.5l.94-2.06 2.06-.94-2.06-.94L8.5 2.5l-.94 2.06-2.06.94zm10 10l.94 2.06.94-2.06 2.06-.94-2.06-.94-.94-2.06-.94 2.06-2.06.94z\"/><path d=\"M17.41 7.96l-1.37-1.37c-.4-.4-.92-.59-1.43-.59-.52 0-1.04.2-1.43.59L10.3 9.45l-7.72 7.72c-.78.78-.78 2.05 0 2.83L4 21.41c.39.39.9.59 1.41.59.51 0 1.02-.2 1.41-.59l7.78-7.78 2.81-2.81c.8-.78.8-2.07 0-2.86zM5.41 20L4 18.59l7.72-7.72 1.47 1.35L5.41 20z\"/>\n",
       "  </svg>\n",
       "      </button>\n",
       "      \n",
       "  <style>\n",
       "    .colab-df-container {\n",
       "      display:flex;\n",
       "      flex-wrap:wrap;\n",
       "      gap: 12px;\n",
       "    }\n",
       "\n",
       "    .colab-df-convert {\n",
       "      background-color: #E8F0FE;\n",
       "      border: none;\n",
       "      border-radius: 50%;\n",
       "      cursor: pointer;\n",
       "      display: none;\n",
       "      fill: #1967D2;\n",
       "      height: 32px;\n",
       "      padding: 0 0 0 0;\n",
       "      width: 32px;\n",
       "    }\n",
       "\n",
       "    .colab-df-convert:hover {\n",
       "      background-color: #E2EBFA;\n",
       "      box-shadow: 0px 1px 2px rgba(60, 64, 67, 0.3), 0px 1px 3px 1px rgba(60, 64, 67, 0.15);\n",
       "      fill: #174EA6;\n",
       "    }\n",
       "\n",
       "    [theme=dark] .colab-df-convert {\n",
       "      background-color: #3B4455;\n",
       "      fill: #D2E3FC;\n",
       "    }\n",
       "\n",
       "    [theme=dark] .colab-df-convert:hover {\n",
       "      background-color: #434B5C;\n",
       "      box-shadow: 0px 1px 3px 1px rgba(0, 0, 0, 0.15);\n",
       "      filter: drop-shadow(0px 1px 2px rgba(0, 0, 0, 0.3));\n",
       "      fill: #FFFFFF;\n",
       "    }\n",
       "  </style>\n",
       "\n",
       "      <script>\n",
       "        const buttonEl =\n",
       "          document.querySelector('#df-ba2c1f1d-55dd-4d6b-8251-27beb472e6b3 button.colab-df-convert');\n",
       "        buttonEl.style.display =\n",
       "          google.colab.kernel.accessAllowed ? 'block' : 'none';\n",
       "\n",
       "        async function convertToInteractive(key) {\n",
       "          const element = document.querySelector('#df-ba2c1f1d-55dd-4d6b-8251-27beb472e6b3');\n",
       "          const dataTable =\n",
       "            await google.colab.kernel.invokeFunction('convertToInteractive',\n",
       "                                                     [key], {});\n",
       "          if (!dataTable) return;\n",
       "\n",
       "          const docLinkHtml = 'Like what you see? Visit the ' +\n",
       "            '<a target=\"_blank\" href=https://colab.research.google.com/notebooks/data_table.ipynb>data table notebook</a>'\n",
       "            + ' to learn more about interactive tables.';\n",
       "          element.innerHTML = '';\n",
       "          dataTable['output_type'] = 'display_data';\n",
       "          await google.colab.output.renderOutput(dataTable, element);\n",
       "          const docLink = document.createElement('div');\n",
       "          docLink.innerHTML = docLinkHtml;\n",
       "          element.appendChild(docLink);\n",
       "        }\n",
       "      </script>\n",
       "    </div>\n",
       "  </div>\n",
       "  "
      ],
      "text/plain": [
       "       reviewText_sent_len  bigrams_list_len  adjective_words_len  \\\n",
       "count         19209.000000      19209.000000         19209.000000   \n",
       "mean             81.744911          1.954240             1.645947   \n",
       "std              60.887768          1.932438             1.484599   \n",
       "min               1.000000          0.000000             0.000000   \n",
       "25%              44.000000          1.000000             1.000000   \n",
       "50%              68.000000          2.000000             1.000000   \n",
       "75%             103.000000          3.000000             2.000000   \n",
       "max            1178.000000         32.000000            32.000000   \n",
       "\n",
       "       capital_words_len  \n",
       "count       19209.000000  \n",
       "mean            0.900672  \n",
       "std             2.198032  \n",
       "min             0.000000  \n",
       "25%             0.000000  \n",
       "50%             1.000000  \n",
       "75%             1.000000  \n",
       "max           180.000000  "
      ]
     },
     "execution_count": 46,
     "metadata": {},
     "output_type": "execute_result"
    }
   ],
   "source": [
    "df_rev[['reviewText_sent_len', 'bigrams_list_len', 'adjective_words_len','capital_words_len']].describe() # descriptive statistics on lengths obtained"
   ]
  },
  {
   "cell_type": "code",
   "execution_count": null,
   "id": "B7ujN96wfi6P",
   "metadata": {
    "colab": {
     "base_uri": "https://localhost:8080/",
     "height": 121
    },
    "executionInfo": {
     "elapsed": 6,
     "status": "ok",
     "timestamp": 1679408742689,
     "user": {
      "displayName": "Aadil Iliyas Zikre",
      "userId": "11139065713760395341"
     },
     "user_tz": 240
    },
    "hidden": true,
    "id": "B7ujN96wfi6P",
    "outputId": "789e6b26-6e88-4e39-8fc3-b4bdde60dde0"
   },
   "outputs": [
    {
     "data": {
      "text/plain": [
       "0    17199\n",
       "1     2010\n",
       "Name: contains_exclaimation, dtype: int64"
      ]
     },
     "metadata": {},
     "output_type": "display_data"
    },
    {
     "data": {
      "text/plain": [
       "0    89.536155\n",
       "1    10.463845\n",
       "Name: contains_exclaimation, dtype: float64"
      ]
     },
     "metadata": {},
     "output_type": "display_data"
    }
   ],
   "source": [
    "display(df_rev.contains_exclaimation.value_counts()) # In absolute counts\n",
    "display(df_rev.contains_exclaimation.value_counts(normalize = True) * 100) # In Percentages"
   ]
  },
  {
   "cell_type": "code",
   "execution_count": null,
   "id": "OYQKG-Xqf5op",
   "metadata": {
    "colab": {
     "base_uri": "https://localhost:8080/",
     "height": 241
    },
    "executionInfo": {
     "elapsed": 1463,
     "status": "ok",
     "timestamp": 1679409031948,
     "user": {
      "displayName": "Aadil Iliyas Zikre",
      "userId": "11139065713760395341"
     },
     "user_tz": 240
    },
    "hidden": true,
    "id": "OYQKG-Xqf5op",
    "outputId": "c0486687-8c73-49b7-c16c-c6954b08739f"
   },
   "outputs": [
    {
     "name": "stderr",
     "output_type": "stream",
     "text": [
      "100%|██████████| 19209/19209 [00:00<00:00, 710304.21it/s]\n",
      "100%|██████████| 19209/19209 [00:00<00:00, 719604.74it/s]\n"
     ]
    },
    {
     "data": {
      "text/html": [
       "\n",
       "  <div id=\"df-35290330-aee4-4f8d-b896-17e8f22331cf\">\n",
       "    <div class=\"colab-df-container\">\n",
       "      <div>\n",
       "<style scoped>\n",
       "    .dataframe tbody tr th:only-of-type {\n",
       "        vertical-align: middle;\n",
       "    }\n",
       "\n",
       "    .dataframe tbody tr th {\n",
       "        vertical-align: top;\n",
       "    }\n",
       "\n",
       "    .dataframe thead th {\n",
       "        text-align: right;\n",
       "    }\n",
       "</style>\n",
       "<table border=\"1\" class=\"dataframe\">\n",
       "  <thead>\n",
       "    <tr style=\"text-align: right;\">\n",
       "      <th></th>\n",
       "      <th>reviewText_ID</th>\n",
       "      <th>reviewText</th>\n",
       "      <th>reviewText_sents</th>\n",
       "      <th>reviewText_sent_len</th>\n",
       "      <th>adjective_words</th>\n",
       "      <th>bigram_list_vb_adj</th>\n",
       "      <th>capital_words</th>\n",
       "      <th>contains_exclaimation</th>\n",
       "    </tr>\n",
       "  </thead>\n",
       "  <tbody>\n",
       "    <tr>\n",
       "      <th>0</th>\n",
       "      <td>0</td>\n",
       "      <td>This is a great tutu and at a really great pri...</td>\n",
       "      <td>This is a great tutu and at a really great price.</td>\n",
       "      <td>49</td>\n",
       "      <td>[great, great]</td>\n",
       "      <td>[((great, JJ), (tutu, NN)), ((really, RB), (gr...</td>\n",
       "      <td>0</td>\n",
       "      <td>0</td>\n",
       "    </tr>\n",
       "    <tr>\n",
       "      <th>0</th>\n",
       "      <td>0</td>\n",
       "      <td>This is a great tutu and at a really great pri...</td>\n",
       "      <td>It doesn't look cheap at all.</td>\n",
       "      <td>29</td>\n",
       "      <td>[cheap]</td>\n",
       "      <td>[((n't, RB), (look, VB)), ((look, VB), (cheap,...</td>\n",
       "      <td>0</td>\n",
       "      <td>0</td>\n",
       "    </tr>\n",
       "    <tr>\n",
       "      <th>0</th>\n",
       "      <td>0</td>\n",
       "      <td>This is a great tutu and at a really great pri...</td>\n",
       "      <td>I'm so glad I looked on Amazon and found such ...</td>\n",
       "      <td>88</td>\n",
       "      <td>[glad, affordable]</td>\n",
       "      <td>[((affordable, JJ), (tutu, NN)), ((n't, RB), (...</td>\n",
       "      <td>[I, I]</td>\n",
       "      <td>0</td>\n",
       "    </tr>\n",
       "    <tr>\n",
       "      <th>0</th>\n",
       "      <td>0</td>\n",
       "      <td>This is a great tutu and at a really great pri...</td>\n",
       "      <td>A++</td>\n",
       "      <td>3</td>\n",
       "      <td>0</td>\n",
       "      <td>[]</td>\n",
       "      <td>[A]</td>\n",
       "      <td>0</td>\n",
       "    </tr>\n",
       "    <tr>\n",
       "      <th>1</th>\n",
       "      <td>1</td>\n",
       "      <td>I bought this for my 4 yr old daughter for dan...</td>\n",
       "      <td>I bought this for my 4 yr old daughter for dan...</td>\n",
       "      <td>133</td>\n",
       "      <td>[old, first, adorable]</td>\n",
       "      <td>[((yr, RB), (old, JJ)), ((old, JJ), (daughter,...</td>\n",
       "      <td>[I]</td>\n",
       "      <td>0</td>\n",
       "    </tr>\n",
       "  </tbody>\n",
       "</table>\n",
       "</div>\n",
       "      <button class=\"colab-df-convert\" onclick=\"convertToInteractive('df-35290330-aee4-4f8d-b896-17e8f22331cf')\"\n",
       "              title=\"Convert this dataframe to an interactive table.\"\n",
       "              style=\"display:none;\">\n",
       "        \n",
       "  <svg xmlns=\"http://www.w3.org/2000/svg\" height=\"24px\"viewBox=\"0 0 24 24\"\n",
       "       width=\"24px\">\n",
       "    <path d=\"M0 0h24v24H0V0z\" fill=\"none\"/>\n",
       "    <path d=\"M18.56 5.44l.94 2.06.94-2.06 2.06-.94-2.06-.94-.94-2.06-.94 2.06-2.06.94zm-11 1L8.5 8.5l.94-2.06 2.06-.94-2.06-.94L8.5 2.5l-.94 2.06-2.06.94zm10 10l.94 2.06.94-2.06 2.06-.94-2.06-.94-.94-2.06-.94 2.06-2.06.94z\"/><path d=\"M17.41 7.96l-1.37-1.37c-.4-.4-.92-.59-1.43-.59-.52 0-1.04.2-1.43.59L10.3 9.45l-7.72 7.72c-.78.78-.78 2.05 0 2.83L4 21.41c.39.39.9.59 1.41.59.51 0 1.02-.2 1.41-.59l7.78-7.78 2.81-2.81c.8-.78.8-2.07 0-2.86zM5.41 20L4 18.59l7.72-7.72 1.47 1.35L5.41 20z\"/>\n",
       "  </svg>\n",
       "      </button>\n",
       "      \n",
       "  <style>\n",
       "    .colab-df-container {\n",
       "      display:flex;\n",
       "      flex-wrap:wrap;\n",
       "      gap: 12px;\n",
       "    }\n",
       "\n",
       "    .colab-df-convert {\n",
       "      background-color: #E8F0FE;\n",
       "      border: none;\n",
       "      border-radius: 50%;\n",
       "      cursor: pointer;\n",
       "      display: none;\n",
       "      fill: #1967D2;\n",
       "      height: 32px;\n",
       "      padding: 0 0 0 0;\n",
       "      width: 32px;\n",
       "    }\n",
       "\n",
       "    .colab-df-convert:hover {\n",
       "      background-color: #E2EBFA;\n",
       "      box-shadow: 0px 1px 2px rgba(60, 64, 67, 0.3), 0px 1px 3px 1px rgba(60, 64, 67, 0.15);\n",
       "      fill: #174EA6;\n",
       "    }\n",
       "\n",
       "    [theme=dark] .colab-df-convert {\n",
       "      background-color: #3B4455;\n",
       "      fill: #D2E3FC;\n",
       "    }\n",
       "\n",
       "    [theme=dark] .colab-df-convert:hover {\n",
       "      background-color: #434B5C;\n",
       "      box-shadow: 0px 1px 3px 1px rgba(0, 0, 0, 0.15);\n",
       "      filter: drop-shadow(0px 1px 2px rgba(0, 0, 0, 0.3));\n",
       "      fill: #FFFFFF;\n",
       "    }\n",
       "  </style>\n",
       "\n",
       "      <script>\n",
       "        const buttonEl =\n",
       "          document.querySelector('#df-35290330-aee4-4f8d-b896-17e8f22331cf button.colab-df-convert');\n",
       "        buttonEl.style.display =\n",
       "          google.colab.kernel.accessAllowed ? 'block' : 'none';\n",
       "\n",
       "        async function convertToInteractive(key) {\n",
       "          const element = document.querySelector('#df-35290330-aee4-4f8d-b896-17e8f22331cf');\n",
       "          const dataTable =\n",
       "            await google.colab.kernel.invokeFunction('convertToInteractive',\n",
       "                                                     [key], {});\n",
       "          if (!dataTable) return;\n",
       "\n",
       "          const docLinkHtml = 'Like what you see? Visit the ' +\n",
       "            '<a target=\"_blank\" href=https://colab.research.google.com/notebooks/data_table.ipynb>data table notebook</a>'\n",
       "            + ' to learn more about interactive tables.';\n",
       "          element.innerHTML = '';\n",
       "          dataTable['output_type'] = 'display_data';\n",
       "          await google.colab.output.renderOutput(dataTable, element);\n",
       "          const docLink = document.createElement('div');\n",
       "          docLink.innerHTML = docLinkHtml;\n",
       "          element.appendChild(docLink);\n",
       "        }\n",
       "      </script>\n",
       "    </div>\n",
       "  </div>\n",
       "  "
      ],
      "text/plain": [
       "   reviewText_ID                                         reviewText  \\\n",
       "0              0  This is a great tutu and at a really great pri...   \n",
       "0              0  This is a great tutu and at a really great pri...   \n",
       "0              0  This is a great tutu and at a really great pri...   \n",
       "0              0  This is a great tutu and at a really great pri...   \n",
       "1              1  I bought this for my 4 yr old daughter for dan...   \n",
       "\n",
       "                                    reviewText_sents  reviewText_sent_len  \\\n",
       "0  This is a great tutu and at a really great price.                   49   \n",
       "0                      It doesn't look cheap at all.                   29   \n",
       "0  I'm so glad I looked on Amazon and found such ...                   88   \n",
       "0                                                A++                    3   \n",
       "1  I bought this for my 4 yr old daughter for dan...                  133   \n",
       "\n",
       "          adjective_words                                 bigram_list_vb_adj  \\\n",
       "0          [great, great]  [((great, JJ), (tutu, NN)), ((really, RB), (gr...   \n",
       "0                 [cheap]  [((n't, RB), (look, VB)), ((look, VB), (cheap,...   \n",
       "0      [glad, affordable]  [((affordable, JJ), (tutu, NN)), ((n't, RB), (...   \n",
       "0                       0                                                 []   \n",
       "1  [old, first, adorable]  [((yr, RB), (old, JJ)), ((old, JJ), (daughter,...   \n",
       "\n",
       "  capital_words  contains_exclaimation  \n",
       "0             0                      0  \n",
       "0             0                      0  \n",
       "0        [I, I]                      0  \n",
       "0           [A]                      0  \n",
       "1           [I]                      0  "
      ]
     },
     "execution_count": 52,
     "metadata": {},
     "output_type": "execute_result"
    }
   ],
   "source": [
    "file_path = \"/content/drive/MyDrive/Syracuse University/IST 664 Natural Language Processing/Assignment 2\" # Please change this path as per your drive.\n",
    "file_name = \"aadil_zikre_assignment_2_first_part_file.csv\"\n",
    "\n",
    "cols_to_export = ['reviewText_ID', 'reviewText', 'reviewText_sents', 'reviewText_sent_len', \n",
    "                  'adjective_words', 'bigram_list_vb_adj', 'capital_words', 'contains_exclaimation']\n",
    "df_final = df_rev[cols_to_export].copy()\n",
    "df_final['adjective_words'] = df_final['adjective_words'].progress_apply(lambda x: x if x else 0)\n",
    "df_final['capital_words'] = df_final['capital_words'].progress_apply(lambda x: x if x else 0)\n",
    "df_final.to_csv(f\"{file_path}/{file_name}\", index = False)\n",
    "df_final.head()"
   ]
  },
  {
   "cell_type": "markdown",
   "id": "UpTKE2Q-inB1",
   "metadata": {
    "id": "UpTKE2Q-inB1"
   },
   "source": [
    "# MAKING THE LSTM MODELS FOR PREDICTION"
   ]
  },
  {
   "cell_type": "code",
   "execution_count": null,
   "id": "RfbMirAuijxX",
   "metadata": {
    "id": "RfbMirAuijxX"
   },
   "outputs": [],
   "source": [
    "import pandas as pd\n",
    "import numpy as np\n",
    "import torch\n",
    "import torch.nn\n",
    "import re\n",
    "import datetime\n",
    "from transformers import AutoTokenizer, AutoModel\n",
    "from torch.utils.data import Dataset, DataLoader\n",
    "\n",
    "from nltk import WordNetLemmatizer\n",
    "import emoji\n",
    "\n",
    "# Utility functions from TF\n",
    "import keras\n",
    "import tensorflow as tf \n",
    "from keras import layers\n",
    "from keras import losses\n",
    "from keras import utils\n",
    "#from tensorflow.keras import preprocessing\n",
    "from keras.utils import pad_sequences\n",
    "\n",
    "from tqdm.notebook import tqdm\n",
    "tqdm.pandas()"
   ]
  },
  {
   "cell_type": "markdown",
   "id": "47NVQNKR_eB1",
   "metadata": {
    "heading_collapsed": true,
    "id": "47NVQNKR_eB1"
   },
   "source": [
    "## PROCESS df_train\n",
    "For training, I will be using Twitter Airline Sentiment Dataset from Kaggle"
   ]
  },
  {
   "cell_type": "code",
   "execution_count": null,
   "id": "OQVgTLtLk_pN",
   "metadata": {
    "hidden": true,
    "id": "OQVgTLtLk_pN"
   },
   "outputs": [],
   "source": [
    "\"\"\"Please change the file path here as per your drive structure. I will be attaching this file as well with the submission\"\"\"\n",
    "df_train = pd.read_csv(\"/content/drive/MyDrive/Syracuse University/IST 664 Natural Language Processing/Assignment 3/data/twitter_airline_sentiment/Tweets.csv\")"
   ]
  },
  {
   "cell_type": "code",
   "execution_count": null,
   "id": "VEy2C9Ktk_mn",
   "metadata": {
    "colab": {
     "base_uri": "https://localhost:8080/"
    },
    "executionInfo": {
     "elapsed": 482,
     "status": "ok",
     "timestamp": 1681274574526,
     "user": {
      "displayName": "Aadil Iliyas Zikre",
      "userId": "11139065713760395341"
     },
     "user_tz": 240
    },
    "hidden": true,
    "id": "VEy2C9Ktk_mn",
    "outputId": "822b1c1b-f209-45b4-8ead-bff393d1ae7b"
   },
   "outputs": [
    {
     "name": "stderr",
     "output_type": "stream",
     "text": [
      "<ipython-input-14-8d5428eb2cee>:2: SettingWithCopyWarning: \n",
      "A value is trying to be set on a copy of a slice from a DataFrame\n",
      "\n",
      "See the caveats in the documentation: https://pandas.pydata.org/pandas-docs/stable/user_guide/indexing.html#returning-a-view-versus-a-copy\n",
      "  df_train.rename(columns = {'text' : 'tweet', 'airline_sentiment' : 'sentiment'}, inplace=True)\n"
     ]
    }
   ],
   "source": [
    "df_train = df_train[['airline_sentiment','text']]\n",
    "df_train.rename(columns = {'text' : 'tweet', 'airline_sentiment' : 'sentiment'}, inplace=True) # we only need tweets and their sentiments for the model"
   ]
  },
  {
   "cell_type": "code",
   "execution_count": null,
   "id": "rNO-GAHTny2y",
   "metadata": {
    "colab": {
     "base_uri": "https://localhost:8080/"
    },
    "executionInfo": {
     "elapsed": 5,
     "status": "ok",
     "timestamp": 1681274577356,
     "user": {
      "displayName": "Aadil Iliyas Zikre",
      "userId": "11139065713760395341"
     },
     "user_tz": 240
    },
    "hidden": true,
    "id": "rNO-GAHTny2y",
    "outputId": "fea3c18c-9c3d-4152-a61a-5ccd7b3b2ebc"
   },
   "outputs": [
    {
     "data": {
      "text/plain": [
       "negative    9178\n",
       "neutral     3099\n",
       "positive    2363\n",
       "Name: sentiment, dtype: int64"
      ]
     },
     "execution_count": 15,
     "metadata": {},
     "output_type": "execute_result"
    }
   ],
   "source": [
    "df_train.sentiment.value_counts() # there is a lot more negative as compared to other sentiments. This may be a problem while training. Lets see!"
   ]
  },
  {
   "cell_type": "code",
   "execution_count": null,
   "id": "3K6yA14Tny0J",
   "metadata": {
    "colab": {
     "base_uri": "https://localhost:8080/"
    },
    "executionInfo": {
     "elapsed": 207,
     "status": "ok",
     "timestamp": 1681274579215,
     "user": {
      "displayName": "Aadil Iliyas Zikre",
      "userId": "11139065713760395341"
     },
     "user_tz": 240
    },
    "hidden": true,
    "id": "3K6yA14Tny0J",
    "outputId": "736fb3ed-f173-4e18-adca-87fa1013ce20"
   },
   "outputs": [
    {
     "data": {
      "text/plain": [
       "sentiment    0\n",
       "tweet        0\n",
       "dtype: int64"
      ]
     },
     "execution_count": 16,
     "metadata": {},
     "output_type": "execute_result"
    }
   ],
   "source": [
    "df_train.isnull().sum() # We do not have any nulls. Thats good."
   ]
  },
  {
   "cell_type": "code",
   "execution_count": null,
   "id": "yzHOmea8nyx3",
   "metadata": {
    "colab": {
     "base_uri": "https://localhost:8080/",
     "height": 49
    },
    "executionInfo": {
     "elapsed": 219,
     "status": "ok",
     "timestamp": 1681274581002,
     "user": {
      "displayName": "Aadil Iliyas Zikre",
      "userId": "11139065713760395341"
     },
     "user_tz": 240
    },
    "hidden": true,
    "id": "yzHOmea8nyx3",
    "outputId": "d1d2656c-9993-49b0-d046-4f6ebb6b3d09"
   },
   "outputs": [
    {
     "data": {
      "text/html": [
       "\n",
       "  <div id=\"df-8ba05f44-126a-4340-aec3-ffbec18c152f\">\n",
       "    <div class=\"colab-df-container\">\n",
       "      <div>\n",
       "<style scoped>\n",
       "    .dataframe tbody tr th:only-of-type {\n",
       "        vertical-align: middle;\n",
       "    }\n",
       "\n",
       "    .dataframe tbody tr th {\n",
       "        vertical-align: top;\n",
       "    }\n",
       "\n",
       "    .dataframe thead th {\n",
       "        text-align: right;\n",
       "    }\n",
       "</style>\n",
       "<table border=\"1\" class=\"dataframe\">\n",
       "  <thead>\n",
       "    <tr style=\"text-align: right;\">\n",
       "      <th></th>\n",
       "      <th>sentiment</th>\n",
       "      <th>tweet</th>\n",
       "    </tr>\n",
       "  </thead>\n",
       "  <tbody>\n",
       "  </tbody>\n",
       "</table>\n",
       "</div>\n",
       "      <button class=\"colab-df-convert\" onclick=\"convertToInteractive('df-8ba05f44-126a-4340-aec3-ffbec18c152f')\"\n",
       "              title=\"Convert this dataframe to an interactive table.\"\n",
       "              style=\"display:none;\">\n",
       "        \n",
       "  <svg xmlns=\"http://www.w3.org/2000/svg\" height=\"24px\"viewBox=\"0 0 24 24\"\n",
       "       width=\"24px\">\n",
       "    <path d=\"M0 0h24v24H0V0z\" fill=\"none\"/>\n",
       "    <path d=\"M18.56 5.44l.94 2.06.94-2.06 2.06-.94-2.06-.94-.94-2.06-.94 2.06-2.06.94zm-11 1L8.5 8.5l.94-2.06 2.06-.94-2.06-.94L8.5 2.5l-.94 2.06-2.06.94zm10 10l.94 2.06.94-2.06 2.06-.94-2.06-.94-.94-2.06-.94 2.06-2.06.94z\"/><path d=\"M17.41 7.96l-1.37-1.37c-.4-.4-.92-.59-1.43-.59-.52 0-1.04.2-1.43.59L10.3 9.45l-7.72 7.72c-.78.78-.78 2.05 0 2.83L4 21.41c.39.39.9.59 1.41.59.51 0 1.02-.2 1.41-.59l7.78-7.78 2.81-2.81c.8-.78.8-2.07 0-2.86zM5.41 20L4 18.59l7.72-7.72 1.47 1.35L5.41 20z\"/>\n",
       "  </svg>\n",
       "      </button>\n",
       "      \n",
       "  <style>\n",
       "    .colab-df-container {\n",
       "      display:flex;\n",
       "      flex-wrap:wrap;\n",
       "      gap: 12px;\n",
       "    }\n",
       "\n",
       "    .colab-df-convert {\n",
       "      background-color: #E8F0FE;\n",
       "      border: none;\n",
       "      border-radius: 50%;\n",
       "      cursor: pointer;\n",
       "      display: none;\n",
       "      fill: #1967D2;\n",
       "      height: 32px;\n",
       "      padding: 0 0 0 0;\n",
       "      width: 32px;\n",
       "    }\n",
       "\n",
       "    .colab-df-convert:hover {\n",
       "      background-color: #E2EBFA;\n",
       "      box-shadow: 0px 1px 2px rgba(60, 64, 67, 0.3), 0px 1px 3px 1px rgba(60, 64, 67, 0.15);\n",
       "      fill: #174EA6;\n",
       "    }\n",
       "\n",
       "    [theme=dark] .colab-df-convert {\n",
       "      background-color: #3B4455;\n",
       "      fill: #D2E3FC;\n",
       "    }\n",
       "\n",
       "    [theme=dark] .colab-df-convert:hover {\n",
       "      background-color: #434B5C;\n",
       "      box-shadow: 0px 1px 3px 1px rgba(0, 0, 0, 0.15);\n",
       "      filter: drop-shadow(0px 1px 2px rgba(0, 0, 0, 0.3));\n",
       "      fill: #FFFFFF;\n",
       "    }\n",
       "  </style>\n",
       "\n",
       "      <script>\n",
       "        const buttonEl =\n",
       "          document.querySelector('#df-8ba05f44-126a-4340-aec3-ffbec18c152f button.colab-df-convert');\n",
       "        buttonEl.style.display =\n",
       "          google.colab.kernel.accessAllowed ? 'block' : 'none';\n",
       "\n",
       "        async function convertToInteractive(key) {\n",
       "          const element = document.querySelector('#df-8ba05f44-126a-4340-aec3-ffbec18c152f');\n",
       "          const dataTable =\n",
       "            await google.colab.kernel.invokeFunction('convertToInteractive',\n",
       "                                                     [key], {});\n",
       "          if (!dataTable) return;\n",
       "\n",
       "          const docLinkHtml = 'Like what you see? Visit the ' +\n",
       "            '<a target=\"_blank\" href=https://colab.research.google.com/notebooks/data_table.ipynb>data table notebook</a>'\n",
       "            + ' to learn more about interactive tables.';\n",
       "          element.innerHTML = '';\n",
       "          dataTable['output_type'] = 'display_data';\n",
       "          await google.colab.output.renderOutput(dataTable, element);\n",
       "          const docLink = document.createElement('div');\n",
       "          docLink.innerHTML = docLinkHtml;\n",
       "          element.appendChild(docLink);\n",
       "        }\n",
       "      </script>\n",
       "    </div>\n",
       "  </div>\n",
       "  "
      ],
      "text/plain": [
       "Empty DataFrame\n",
       "Columns: [sentiment, tweet]\n",
       "Index: []"
      ]
     },
     "execution_count": 17,
     "metadata": {},
     "output_type": "execute_result"
    }
   ],
   "source": [
    "df_train[df_train.tweet == ''] # To see hidden nulls. Sometimes Empty rows are read as '' which are the same as null but stay in the file undetected"
   ]
  },
  {
   "cell_type": "code",
   "execution_count": null,
   "id": "YJ14YgNwnyvf",
   "metadata": {
    "hidden": true,
    "id": "YJ14YgNwnyvf"
   },
   "outputs": [],
   "source": [
    "# Neural networks take only integers as classes, so these are the dicts to convert the classes to integers and back to classes\n",
    "sentiment_map_id = {'neutral' : 1, 'positive' : 2, 'negative' : 0} \n",
    "sentiment_map_id_inv = {v:k for k,v in sentiment_map_id.items()}"
   ]
  },
  {
   "cell_type": "code",
   "execution_count": null,
   "id": "cStcAdtBnys2",
   "metadata": {
    "hidden": true,
    "id": "cStcAdtBnys2"
   },
   "outputs": [],
   "source": [
    "df_train['sentiment_id'] = df_train.sentiment.map(sentiment_map_id)"
   ]
  },
  {
   "cell_type": "code",
   "execution_count": null,
   "id": "N4QC9XngnyqK",
   "metadata": {
    "hidden": true,
    "id": "N4QC9XngnyqK"
   },
   "outputs": [],
   "source": [
    "from nltk import TweetTokenizer\n",
    "import nltk"
   ]
  },
  {
   "cell_type": "code",
   "execution_count": null,
   "id": "DAqNgDaRLmQS",
   "metadata": {
    "colab": {
     "base_uri": "https://localhost:8080/"
    },
    "executionInfo": {
     "elapsed": 121,
     "status": "ok",
     "timestamp": 1681581117011,
     "user": {
      "displayName": "Aadil Iliyas Zikre",
      "userId": "11139065713760395341"
     },
     "user_tz": 240
    },
    "hidden": true,
    "id": "DAqNgDaRLmQS",
    "outputId": "2adb093b-7dcb-4c83-eccd-aca79c5e598c"
   },
   "outputs": [
    {
     "name": "stderr",
     "output_type": "stream",
     "text": [
      "[nltk_data] Downloading package punkt to /root/nltk_data...\n",
      "[nltk_data]   Package punkt is already up-to-date!\n",
      "[nltk_data] Downloading package stopwords to /root/nltk_data...\n",
      "[nltk_data]   Package stopwords is already up-to-date!\n",
      "[nltk_data] Downloading package wordnet to /root/nltk_data...\n",
      "[nltk_data]   Package wordnet is already up-to-date!\n"
     ]
    },
    {
     "data": {
      "text/plain": [
       "True"
      ]
     },
     "execution_count": 6,
     "metadata": {},
     "output_type": "execute_result"
    }
   ],
   "source": [
    "nltk.download('punkt')\n",
    "nltk.download('stopwords')\n",
    "nltk.download('wordnet')"
   ]
  },
  {
   "cell_type": "code",
   "execution_count": null,
   "id": "fhaDcN-Snynk",
   "metadata": {
    "colab": {
     "base_uri": "https://localhost:8080/"
    },
    "executionInfo": {
     "elapsed": 212,
     "status": "ok",
     "timestamp": 1681274590685,
     "user": {
      "displayName": "Aadil Iliyas Zikre",
      "userId": "11139065713760395341"
     },
     "user_tz": 240
    },
    "hidden": true,
    "id": "fhaDcN-Snynk",
    "outputId": "c7b95f2b-d826-4aae-d3ca-12e96cd454ea"
   },
   "outputs": [
    {
     "data": {
      "text/plain": [
       "sentiment                                   neutral\n",
       "tweet           @VirginAmerica What @dhepburn said.\n",
       "sentiment_id                                      1\n",
       "Name: 0, dtype: object"
      ]
     },
     "execution_count": 22,
     "metadata": {},
     "output_type": "execute_result"
    }
   ],
   "source": [
    "df_train.iloc[0]"
   ]
  },
  {
   "cell_type": "code",
   "execution_count": null,
   "id": "rxVULEWxnyk9",
   "metadata": {
    "colab": {
     "base_uri": "https://localhost:8080/"
    },
    "executionInfo": {
     "elapsed": 205,
     "status": "ok",
     "timestamp": 1681274597704,
     "user": {
      "displayName": "Aadil Iliyas Zikre",
      "userId": "11139065713760395341"
     },
     "user_tz": 240
    },
    "hidden": true,
    "id": "rxVULEWxnyk9",
    "outputId": "a9830126-ffc5-4528-89a7-fc25d4e9476f"
   },
   "outputs": [
    {
     "data": {
      "text/plain": [
       "['@VirginAmerica', 'What', '@dhepburn', 'said', '.', '#injustice']"
      ]
     },
     "execution_count": 23,
     "metadata": {},
     "output_type": "execute_result"
    }
   ],
   "source": [
    "TweetTokenizer().tokenize(\"@VirginAmerica What @dhepburn said. #injustice\")"
   ]
  },
  {
   "cell_type": "code",
   "execution_count": null,
   "id": "I0TYb34tnyia",
   "metadata": {
    "colab": {
     "base_uri": "https://localhost:8080/"
    },
    "executionInfo": {
     "elapsed": 4,
     "status": "ok",
     "timestamp": 1681274598907,
     "user": {
      "displayName": "Aadil Iliyas Zikre",
      "userId": "11139065713760395341"
     },
     "user_tz": 240
    },
    "hidden": true,
    "id": "I0TYb34tnyia",
    "outputId": "3909d058-1df5-4f7d-9c61-da7bb05cdb5a"
   },
   "outputs": [
    {
     "data": {
      "text/plain": [
       "['@', 'VirginAmerica', 'What', '@', 'dhepburn', 'said', '.', '#', 'injustice']"
      ]
     },
     "execution_count": 24,
     "metadata": {},
     "output_type": "execute_result"
    }
   ],
   "source": [
    "nltk.word_tokenize(\"@VirginAmerica What @dhepburn said. #injustice\")"
   ]
  },
  {
   "cell_type": "code",
   "execution_count": null,
   "id": "4tntQjzxnyfu",
   "metadata": {
    "hidden": true,
    "id": "4tntQjzxnyfu"
   },
   "outputs": [],
   "source": [
    "# we want to preserve @ and #, therefore we will use tweettokenizer"
   ]
  },
  {
   "cell_type": "code",
   "execution_count": null,
   "id": "SFYWSXpmM2oq",
   "metadata": {
    "hidden": true,
    "id": "SFYWSXpmM2oq"
   },
   "outputs": [],
   "source": [
    "slangs = {\"afap\":\"as far as possible\", \"aab\":\"average at best\", \"aak\":\"alive and kicking\", \"aamof\":\"as a matter of fact\", \"aap\":\"always a pleasure\", \"aar\":\"at any rate\", \"aayf\":\"as always: your friend\", \"abd\":\"already been done\", \"admin\":\"administrator\", \"adn\":\"any day now\", \"aeae\":\"and ever and ever\", \"aeap\":\"as early as possible\", \"afaiac\":\"as far as i am concerned\", \"afaic\":\"as far as i am concerned\", \"afaics\":\"as far as i can see\", \"afaict\":\"as far as i can tell\", \"afaik\":\"as far as i know\", \"afair\":\"as far as i remember\", \"afc\":\"always from computer\", \"agw\":\"all going well\", \"afd\":\"all fucking day\", \"aft\":\"about fucking time\", \"b4\":\"before\", \"bb\":\"bye bye\", \"bbiab\":\"be back in a bit\", \"bbl\":\"be back later\", \"bbs\":\"be back soon\", \"bd\":\"big deal\", \"brb\":\"be right back\", \"brt\":\"be right there\", \"btw\":\"by the way\", \"cu\":\"see you\", \"cul\":\"see you later\", \"cuz\":\"because\", \"cya\":\"see you\", \"da\":\"the\", \"dat\":\"that\", \"der\":\"there\", \"dunno\":\"do not know\", \"fwiw\":\"for what it is worth\", \"fyi\":\"for your information\", \"g2g\":\"got to go\", \"gtg\":\"got to go\", \"gal\":\"get a life\", \"gfy\":\"good for you\", \"gonna\":\"going to\", \"icydk\":\"in case you do not know\", \"idgi\":\"i do not get it\", \"idk\":\"i do not know\", \"ily\":\"i love you\", \"ilu\":\"i love you\", \"imho\":\"in my honest opinion\", \"imo\":\"in my opinion\", \"irl\":\"in real life\", \"jj\":\"just joking\", \"jk\":\"just kidding\", \"k\":\"okay\", \"kk\":\"ok cool\", \"l8r\":\"later\", \"lmao\":\"laughing my ass off\", \"lmfao\":\"laughing my fucking ass off\", \"lol\":\"laughing out loud\", \"myob\":\"mind your own business\", \"noyb\":\"none of your business\", \"np\":\"no problem\", \"nsfw\":\"not safe for work\", \"nvm\":\"never mind\", \"omg\":\"oh my god\", \"pic\":\"picture\", \"ot\":\"off topic\", \"pix\":\"pictures\", \"plz\":\"please\", \"pls\":\"please\", \"ppl\":\"people\", \"rofl\":\"rolling on the floor laughing\", \"roflmao\":\"rolling on the floor laughing my ass off\", \"roflmaol\":\"rolling on the floor laughing my ass out loud\", \"smh\":\"shaking my head\", \"thnx\":\"thanks\", \"tho\":\"though\", \"tia\":\"thanks in advance\", \"ttyl\":\"talk to you later\", \"ttyt\":\"talk to you tomorrow\", \"ty\":\"thank you\", \"u\":\"you\", \"w8\":\"wait\", \"wanna\":\"want to\", \"wb\":\"welcome back\", \"wd\":\"well done\", \"im\":\"i am\", \"you've\":\"you have\", \"how'd\":\"how did\", \"i'm\":\"i am\", \"n't\":\"not\", \"we're\":\"we are\", \"you're\":\"you are\"}\n",
    "negated = {\"weren't\":\"were not\", \"hadn't\": \"had not\", \"wouldn't\": \"would not\", \"mustn't\": \"must not\", \"aren't\": \"are not\", \"wasn't\": \"was not\", \"couldn't\": \"could not\", \"shan't\": \"shall not\", \"haven't\": \"have not\", \"mightn't\": \"might not\", \"doesn't\": \"does not\", \"needn't\": \"need not\", \"don't\": \"do not\", \"isn't\": \"is not\", \"hasn't\": \"has not\", \"doesn't\": \"does not\", \"didn't\": \"did not\", \"won't\": \"will not\", \"oughtn't\": \"ought not\", \"shouldn't\": \"should not\", \"cannot\": \"can not\", \"can't\": \"can not\"}\n",
    "emoticons = [\"[: )\", \":-]\", \":-3\", \":->\", \"8-)\", \":-}\", \":)\", \":]\", \":3\", \":>\", \"8)\", \":}\", \":o)\", \":c)\", \":^)\", \"=]\", \"=)\", \":-))\", \": D\", \"8 D\", \"x D\", \"X D\", \":D\", \"8D\", \"xD\", \"XD\", \"=D\", \"=3\", \"B^D\", \":-*\", \":*\", \":×'\", \"; )\", \"*-)\", \"; ]\", \";)\", \"*)\", \";]\", \";^)\", \": ,\", \";D\", \"<3\", \"(:\", \": (\", \": c\", \": <\", \": [\", \":(\", \":c\", \":<\", \":[\", \":-||\", \">:[\", \":{\", \":@\", \">:(\", \":' (\", \":'(\", \"D ':\", \"D:<\", \"D:\", \"D8\", \"D;\", \"D=\", \"DX\", \": O\", \": o\", \":O\", \":o\", \":-0\", \"8 0\", \">:O\"]"
   ]
  },
  {
   "cell_type": "code",
   "execution_count": null,
   "id": "zk8pXv81NbW_",
   "metadata": {
    "hidden": true,
    "id": "zk8pXv81NbW_"
   },
   "outputs": [],
   "source": [
    "def char_is_emoji(character):\n",
    "    #en_emoji = emoji.UNICODE_EMOJI.get(\"en\")\n",
    "    #return character[0] in emoji.UNICODE_EMOJI_ENGLISH\n",
    "    return emoji.is_emoji(character[0])\n",
    "\n",
    "def text_has_emoji(text):\n",
    "    for character in text:\n",
    "        if char_is_emoji(character):\n",
    "            return True\n",
    "    return False"
   ]
  },
  {
   "cell_type": "code",
   "execution_count": null,
   "id": "cCDgx2_qnyar",
   "metadata": {
    "hidden": true,
    "id": "cCDgx2_qnyar"
   },
   "outputs": [],
   "source": [
    "# REFERENCE : Class Lab\n",
    "# ADDED FUNCTIONALITY : Provision to specify if lemmatization and stop word removal should be done\n",
    "def clean_tweets(texts, lemmatize = True, remove_stop_words=True, return_hash_emos = False):\n",
    "    cleaned_tweets = [] # This will be our return list\n",
    "    hash_emos = [] # This is an overall list of emoticons and emojis\n",
    "\n",
    "    # Loop over the full list of texts provided\n",
    "    for text in texts:\n",
    "        hash_emo = [] # Initialize an empty list for this one text\n",
    "\n",
    "        # These make substitutions of short tags in place of repeating\n",
    "        # exclamation marks and/or question marks.\n",
    "        text = re.sub('(!){2,}', ' <!repeat> ', text)\n",
    "        text = re.sub('(\\?){2,}', ' <?repeat> ', text)\n",
    "        \n",
    "        # Tokenize using tweet tokenizer: This will treat each emoji as\n",
    "        # its own token.\n",
    "        tokenizer = nltk.tokenize.TweetTokenizer(strip_handles=False, reduce_len=True)\n",
    "        tokens = tokenizer.tokenize(text.lower())\n",
    "        \n",
    "        \n",
    "        # Emojis and emoticons\n",
    "        if text_has_emoji(text): # Examine the untokenized text\n",
    "            temp = [] # Make temporary storage for the modified tokens\n",
    "            for tok in tokens: # Cycle through each token in this text\n",
    "                # If the token is an emoji, look up the equivalent\n",
    "                # plain text placeholder.\n",
    "                if char_is_emoji(tok): \n",
    "                    hash_emo.append(emoji.demojize(tok))\n",
    "                elif tok in emoticons:\n",
    "                    hash_emo.append(tok)\n",
    "                else:\n",
    "                    temp.append(tok)\n",
    "            tokens = temp\n",
    "            \n",
    "        # Hashtags\n",
    "        temp = []\n",
    "        for word in tokens:\n",
    "            if '#' in word: # Do a simple substitution using the empty string\n",
    "                word = word.replace('#','')\n",
    "                hash_emo.append(word)\n",
    "            else:\n",
    "                temp.append(word)\n",
    "        tokens = temp\n",
    "            \n",
    "        # Replace slangs and negated words\n",
    "        temp = []\n",
    "        for word in tokens:\n",
    "            if word in slangs:\n",
    "                temp += slangs[word].split()\n",
    "            elif word in negated:\n",
    "                temp += negated[word].split()\n",
    "            else:\n",
    "                temp.append(word)\n",
    "        tokens = temp\n",
    "\n",
    "        # Replace user names\n",
    "        tokens = ['<user>'  if '@' in word else word for word in tokens]\n",
    "        \n",
    "        #Replace numbers\n",
    "        tokens = ['<number>' if word.isdigit() else word for word in tokens]\n",
    "        \n",
    "        # Remove urls\n",
    "        tokens = ['' if 'http' in word else word for word in tokens]\n",
    "        \n",
    "        # Lemmatize\n",
    "        if lemmatize:\n",
    "          lemmatizer = WordNetLemmatizer()\n",
    "          tokens = [lemmatizer.lemmatize(word) for word in tokens]\n",
    "        \n",
    "        # Remove stop words\n",
    "        if remove_stop_words:\n",
    "          stop_word_list = nltk.corpus.stopwords.words('english')\n",
    "          tokens = [word for word in tokens if word not in stop_word_list]\n",
    "\n",
    "        # Remove tokens having length 1\n",
    "        tokens = [word for word in tokens if word != '' and len(word) > 1]\n",
    "        \n",
    "        cleaned_tweets.append(\" \".join(tokens))\n",
    "        hash_emos.append(hash_emo)\n",
    "\n",
    "    if return_hash_emos:\n",
    "      return cleaned_tweets, hash_emos\n",
    "    \n",
    "    return cleaned_tweets"
   ]
  },
  {
   "cell_type": "code",
   "execution_count": null,
   "id": "-vZLDhR9nyYJ",
   "metadata": {
    "colab": {
     "base_uri": "https://localhost:8080/"
    },
    "executionInfo": {
     "elapsed": 2,
     "status": "ok",
     "timestamp": 1681274979568,
     "user": {
      "displayName": "Aadil Iliyas Zikre",
      "userId": "11139065713760395341"
     },
     "user_tz": 240
    },
    "hidden": true,
    "id": "-vZLDhR9nyYJ",
    "outputId": "38702ad3-68e7-467a-b851-d10d01b98bf7"
   },
   "outputs": [
    {
     "name": "stdout",
     "output_type": "stream",
     "text": [
      "['<user> <user> said cry']\n",
      "['<user> <user> said crying']\n",
      "['<user> what <user> said cry']\n",
      "['<user> what <user> said crying']\n"
     ]
    }
   ],
   "source": [
    "# Demonstration of added functionality\n",
    "print(clean_tweets([\"@VirginAmerica What @dhepburn said crying. #injustice\"], lemmatize = True, remove_stop_words=True))\n",
    "print(clean_tweets([\"@VirginAmerica What @dhepburn said crying. #injustice\"], lemmatize = False, remove_stop_words=True))\n",
    "print(clean_tweets([\"@VirginAmerica What @dhepburn said crying. #injustice\"], lemmatize = True, remove_stop_words=False))\n",
    "print(clean_tweets([\"@VirginAmerica What @dhepburn said crying. #injustice\"], lemmatize = False, remove_stop_words=False))"
   ]
  },
  {
   "cell_type": "code",
   "execution_count": null,
   "id": "qEQcpb-1k_ec",
   "metadata": {
    "colab": {
     "base_uri": "https://localhost:8080/"
    },
    "executionInfo": {
     "elapsed": 18476,
     "status": "ok",
     "timestamp": 1681275033418,
     "user": {
      "displayName": "Aadil Iliyas Zikre",
      "userId": "11139065713760395341"
     },
     "user_tz": 240
    },
    "hidden": true,
    "id": "qEQcpb-1k_ec",
    "outputId": "cddf34b4-1a06-44d6-aa6b-8c2a7087fabc"
   },
   "outputs": [
    {
     "name": "stdout",
     "output_type": "stream",
     "text": [
      "2023-04-12 04:50:14.908029 :: Starting\n",
      "2023-04-12 04:50:20.824411 :: clean_tweets finished\n",
      "2023-04-12 04:50:26.562037 :: clean_tweets_no_lm finished \n",
      "2023-04-12 04:50:30.556505 :: clean_tweets_no_sw finished\n",
      "2023-04-12 04:50:33.121168 :: clean_tweets_no_lm_no_sw finished\n"
     ]
    }
   ],
   "source": [
    "# creating 4 columns with various combinations of cleaning tweets\n",
    "print(f\"{datetime.datetime.now()} :: Starting\")\n",
    "df_train['clean_tweets'] = clean_tweets(df_train.tweet, lemmatize = True, remove_stop_words=True)\n",
    "print(f\"{datetime.datetime.now()} :: clean_tweets finished\")\n",
    "df_train['clean_tweets_no_lm'] = clean_tweets(df_train.tweet, lemmatize = False, remove_stop_words=True)\n",
    "print(f\"{datetime.datetime.now()} :: clean_tweets_no_lm finished \")\n",
    "df_train['clean_tweets_no_sw'] = clean_tweets(df_train.tweet, lemmatize = True, remove_stop_words=False)\n",
    "print(f\"{datetime.datetime.now()} :: clean_tweets_no_sw finished\")\n",
    "df_train['clean_tweets_no_lm_no_sw'] = clean_tweets(df_train.tweet, lemmatize = False, remove_stop_words=False)\n",
    "print(f\"{datetime.datetime.now()} :: clean_tweets_no_lm_no_sw finished\")"
   ]
  },
  {
   "cell_type": "code",
   "execution_count": null,
   "id": "Jdz8WxBgy56N",
   "metadata": {
    "colab": {
     "base_uri": "https://localhost:8080/",
     "height": 458
    },
    "executionInfo": {
     "elapsed": 228,
     "status": "ok",
     "timestamp": 1681275047365,
     "user": {
      "displayName": "Aadil Iliyas Zikre",
      "userId": "11139065713760395341"
     },
     "user_tz": 240
    },
    "hidden": true,
    "id": "Jdz8WxBgy56N",
    "outputId": "5bd50384-cec6-4bfa-f969-45ecca998b05"
   },
   "outputs": [
    {
     "data": {
      "text/html": [
       "\n",
       "  <div id=\"df-ecf4aae3-8679-4fa9-ade4-63f859e6ea42\">\n",
       "    <div class=\"colab-df-container\">\n",
       "      <div>\n",
       "<style scoped>\n",
       "    .dataframe tbody tr th:only-of-type {\n",
       "        vertical-align: middle;\n",
       "    }\n",
       "\n",
       "    .dataframe tbody tr th {\n",
       "        vertical-align: top;\n",
       "    }\n",
       "\n",
       "    .dataframe thead th {\n",
       "        text-align: right;\n",
       "    }\n",
       "</style>\n",
       "<table border=\"1\" class=\"dataframe\">\n",
       "  <thead>\n",
       "    <tr style=\"text-align: right;\">\n",
       "      <th></th>\n",
       "      <th>sentiment</th>\n",
       "      <th>tweet</th>\n",
       "      <th>sentiment_id</th>\n",
       "      <th>clean_tweets</th>\n",
       "      <th>clean_tweets_no_lm</th>\n",
       "      <th>clean_tweets_no_sw</th>\n",
       "      <th>clean_tweets_no_lm_no_sw</th>\n",
       "    </tr>\n",
       "  </thead>\n",
       "  <tbody>\n",
       "    <tr>\n",
       "      <th>0</th>\n",
       "      <td>neutral</td>\n",
       "      <td>@VirginAmerica What @dhepburn said.</td>\n",
       "      <td>1</td>\n",
       "      <td>&lt;user&gt; &lt;user&gt; said</td>\n",
       "      <td>&lt;user&gt; &lt;user&gt; said</td>\n",
       "      <td>&lt;user&gt; what &lt;user&gt; said</td>\n",
       "      <td>&lt;user&gt; what &lt;user&gt; said</td>\n",
       "    </tr>\n",
       "    <tr>\n",
       "      <th>1</th>\n",
       "      <td>positive</td>\n",
       "      <td>@VirginAmerica plus you've added commercials t...</td>\n",
       "      <td>2</td>\n",
       "      <td>&lt;user&gt; plus added commercial experience ... tacky</td>\n",
       "      <td>&lt;user&gt; plus added commercials experience ... t...</td>\n",
       "      <td>&lt;user&gt; plus you have added commercial to the e...</td>\n",
       "      <td>&lt;user&gt; plus you have added commercials to the ...</td>\n",
       "    </tr>\n",
       "    <tr>\n",
       "      <th>2</th>\n",
       "      <td>neutral</td>\n",
       "      <td>@VirginAmerica I didn't today... Must mean I n...</td>\n",
       "      <td>1</td>\n",
       "      <td>&lt;user&gt; today ... must mean need take another trip</td>\n",
       "      <td>&lt;user&gt; today ... must mean need take another trip</td>\n",
       "      <td>&lt;user&gt; did not today ... must mean need to tak...</td>\n",
       "      <td>&lt;user&gt; did not today ... must mean need to tak...</td>\n",
       "    </tr>\n",
       "    <tr>\n",
       "      <th>3</th>\n",
       "      <td>negative</td>\n",
       "      <td>@VirginAmerica it's really aggressive to blast...</td>\n",
       "      <td>0</td>\n",
       "      <td>&lt;user&gt; really aggressive blast obnoxious enter...</td>\n",
       "      <td>&lt;user&gt; really aggressive blast obnoxious enter...</td>\n",
       "      <td>&lt;user&gt; it's really aggressive to blast obnoxio...</td>\n",
       "      <td>&lt;user&gt; it's really aggressive to blast obnoxio...</td>\n",
       "    </tr>\n",
       "    <tr>\n",
       "      <th>4</th>\n",
       "      <td>negative</td>\n",
       "      <td>@VirginAmerica and it's a really big bad thing...</td>\n",
       "      <td>0</td>\n",
       "      <td>&lt;user&gt; really big bad thing</td>\n",
       "      <td>&lt;user&gt; really big bad thing</td>\n",
       "      <td>&lt;user&gt; and it's really big bad thing about it</td>\n",
       "      <td>&lt;user&gt; and it's really big bad thing about it</td>\n",
       "    </tr>\n",
       "  </tbody>\n",
       "</table>\n",
       "</div>\n",
       "      <button class=\"colab-df-convert\" onclick=\"convertToInteractive('df-ecf4aae3-8679-4fa9-ade4-63f859e6ea42')\"\n",
       "              title=\"Convert this dataframe to an interactive table.\"\n",
       "              style=\"display:none;\">\n",
       "        \n",
       "  <svg xmlns=\"http://www.w3.org/2000/svg\" height=\"24px\"viewBox=\"0 0 24 24\"\n",
       "       width=\"24px\">\n",
       "    <path d=\"M0 0h24v24H0V0z\" fill=\"none\"/>\n",
       "    <path d=\"M18.56 5.44l.94 2.06.94-2.06 2.06-.94-2.06-.94-.94-2.06-.94 2.06-2.06.94zm-11 1L8.5 8.5l.94-2.06 2.06-.94-2.06-.94L8.5 2.5l-.94 2.06-2.06.94zm10 10l.94 2.06.94-2.06 2.06-.94-2.06-.94-.94-2.06-.94 2.06-2.06.94z\"/><path d=\"M17.41 7.96l-1.37-1.37c-.4-.4-.92-.59-1.43-.59-.52 0-1.04.2-1.43.59L10.3 9.45l-7.72 7.72c-.78.78-.78 2.05 0 2.83L4 21.41c.39.39.9.59 1.41.59.51 0 1.02-.2 1.41-.59l7.78-7.78 2.81-2.81c.8-.78.8-2.07 0-2.86zM5.41 20L4 18.59l7.72-7.72 1.47 1.35L5.41 20z\"/>\n",
       "  </svg>\n",
       "      </button>\n",
       "      \n",
       "  <style>\n",
       "    .colab-df-container {\n",
       "      display:flex;\n",
       "      flex-wrap:wrap;\n",
       "      gap: 12px;\n",
       "    }\n",
       "\n",
       "    .colab-df-convert {\n",
       "      background-color: #E8F0FE;\n",
       "      border: none;\n",
       "      border-radius: 50%;\n",
       "      cursor: pointer;\n",
       "      display: none;\n",
       "      fill: #1967D2;\n",
       "      height: 32px;\n",
       "      padding: 0 0 0 0;\n",
       "      width: 32px;\n",
       "    }\n",
       "\n",
       "    .colab-df-convert:hover {\n",
       "      background-color: #E2EBFA;\n",
       "      box-shadow: 0px 1px 2px rgba(60, 64, 67, 0.3), 0px 1px 3px 1px rgba(60, 64, 67, 0.15);\n",
       "      fill: #174EA6;\n",
       "    }\n",
       "\n",
       "    [theme=dark] .colab-df-convert {\n",
       "      background-color: #3B4455;\n",
       "      fill: #D2E3FC;\n",
       "    }\n",
       "\n",
       "    [theme=dark] .colab-df-convert:hover {\n",
       "      background-color: #434B5C;\n",
       "      box-shadow: 0px 1px 3px 1px rgba(0, 0, 0, 0.15);\n",
       "      filter: drop-shadow(0px 1px 2px rgba(0, 0, 0, 0.3));\n",
       "      fill: #FFFFFF;\n",
       "    }\n",
       "  </style>\n",
       "\n",
       "      <script>\n",
       "        const buttonEl =\n",
       "          document.querySelector('#df-ecf4aae3-8679-4fa9-ade4-63f859e6ea42 button.colab-df-convert');\n",
       "        buttonEl.style.display =\n",
       "          google.colab.kernel.accessAllowed ? 'block' : 'none';\n",
       "\n",
       "        async function convertToInteractive(key) {\n",
       "          const element = document.querySelector('#df-ecf4aae3-8679-4fa9-ade4-63f859e6ea42');\n",
       "          const dataTable =\n",
       "            await google.colab.kernel.invokeFunction('convertToInteractive',\n",
       "                                                     [key], {});\n",
       "          if (!dataTable) return;\n",
       "\n",
       "          const docLinkHtml = 'Like what you see? Visit the ' +\n",
       "            '<a target=\"_blank\" href=https://colab.research.google.com/notebooks/data_table.ipynb>data table notebook</a>'\n",
       "            + ' to learn more about interactive tables.';\n",
       "          element.innerHTML = '';\n",
       "          dataTable['output_type'] = 'display_data';\n",
       "          await google.colab.output.renderOutput(dataTable, element);\n",
       "          const docLink = document.createElement('div');\n",
       "          docLink.innerHTML = docLinkHtml;\n",
       "          element.appendChild(docLink);\n",
       "        }\n",
       "      </script>\n",
       "    </div>\n",
       "  </div>\n",
       "  "
      ],
      "text/plain": [
       "  sentiment                                              tweet  sentiment_id  \\\n",
       "0   neutral                @VirginAmerica What @dhepburn said.             1   \n",
       "1  positive  @VirginAmerica plus you've added commercials t...             2   \n",
       "2   neutral  @VirginAmerica I didn't today... Must mean I n...             1   \n",
       "3  negative  @VirginAmerica it's really aggressive to blast...             0   \n",
       "4  negative  @VirginAmerica and it's a really big bad thing...             0   \n",
       "\n",
       "                                        clean_tweets  \\\n",
       "0                                 <user> <user> said   \n",
       "1  <user> plus added commercial experience ... tacky   \n",
       "2  <user> today ... must mean need take another trip   \n",
       "3  <user> really aggressive blast obnoxious enter...   \n",
       "4                        <user> really big bad thing   \n",
       "\n",
       "                                  clean_tweets_no_lm  \\\n",
       "0                                 <user> <user> said   \n",
       "1  <user> plus added commercials experience ... t...   \n",
       "2  <user> today ... must mean need take another trip   \n",
       "3  <user> really aggressive blast obnoxious enter...   \n",
       "4                        <user> really big bad thing   \n",
       "\n",
       "                                  clean_tweets_no_sw  \\\n",
       "0                            <user> what <user> said   \n",
       "1  <user> plus you have added commercial to the e...   \n",
       "2  <user> did not today ... must mean need to tak...   \n",
       "3  <user> it's really aggressive to blast obnoxio...   \n",
       "4      <user> and it's really big bad thing about it   \n",
       "\n",
       "                            clean_tweets_no_lm_no_sw  \n",
       "0                            <user> what <user> said  \n",
       "1  <user> plus you have added commercials to the ...  \n",
       "2  <user> did not today ... must mean need to tak...  \n",
       "3  <user> it's really aggressive to blast obnoxio...  \n",
       "4      <user> and it's really big bad thing about it  "
      ]
     },
     "execution_count": 44,
     "metadata": {},
     "output_type": "execute_result"
    }
   ],
   "source": [
    "df_train.head()"
   ]
  },
  {
   "cell_type": "markdown",
   "id": "g5oSHPE29MxB",
   "metadata": {
    "heading_collapsed": true,
    "id": "g5oSHPE29MxB"
   },
   "source": [
    "## SAVE IMPORT df_train"
   ]
  },
  {
   "cell_type": "code",
   "execution_count": null,
   "id": "gGEhdBaYnjLE",
   "metadata": {
    "hidden": true,
    "id": "gGEhdBaYnjLE"
   },
   "outputs": [],
   "source": [
    "# saving this preprocessed file for easy access\n",
    "file_path = \"/content/drive/MyDrive/Syracuse University/IST 664 Natural Language Processing/Assignment 3/data\" # Please change this path as per your drive.\n",
    "file_name = \"aadil_zikre_assignment_3_processed_training_file.csv\"\n",
    "# df_train.to_csv(f\"{file_path}/{file_name}\") # this is to save the file. Uncomment to use\n",
    "df_train = pd.read_csv(f\"{file_path}/{file_name}\") # this is to load the file"
   ]
  },
  {
   "cell_type": "code",
   "execution_count": null,
   "id": "jyOoktTpqDry",
   "metadata": {
    "colab": {
     "base_uri": "https://localhost:8080/"
    },
    "executionInfo": {
     "elapsed": 395,
     "status": "ok",
     "timestamp": 1682178867884,
     "user": {
      "displayName": "Aadil Iliyas Zikre",
      "userId": "11139065713760395341"
     },
     "user_tz": 240
    },
    "hidden": true,
    "id": "jyOoktTpqDry",
    "outputId": "87e19608-4f51-4cdc-8fc9-650571512b73"
   },
   "outputs": [
    {
     "name": "stdout",
     "output_type": "stream",
     "text": [
      "14\n",
      "14\n",
      "10\n",
      "10\n"
     ]
    }
   ],
   "source": [
    "print(len(df_train.clean_tweets.str.split().max())) # max length of sentence here is 14, we will set the model max length to 32\n",
    "print(len(df_train.clean_tweets_no_lm.str.split().max()))\n",
    "print(len(df_train.clean_tweets_no_sw.str.split().max()))\n",
    "print(len(df_train.clean_tweets_no_lm_no_sw.str.split().max()))"
   ]
  },
  {
   "cell_type": "code",
   "execution_count": null,
   "id": "6PJDbl8fein5",
   "metadata": {
    "colab": {
     "base_uri": "https://localhost:8080/"
    },
    "executionInfo": {
     "elapsed": 4,
     "status": "ok",
     "timestamp": 1682178867884,
     "user": {
      "displayName": "Aadil Iliyas Zikre",
      "userId": "11139065713760395341"
     },
     "user_tz": 240
    },
    "hidden": true,
    "id": "6PJDbl8fein5",
    "outputId": "34767dc2-f140-416c-ecbd-b85dbeb70efa"
   },
   "outputs": [
    {
     "data": {
      "text/plain": [
       "(14640, 8)"
      ]
     },
     "execution_count": 8,
     "metadata": {},
     "output_type": "execute_result"
    }
   ],
   "source": [
    "df_train.shape"
   ]
  },
  {
   "cell_type": "markdown",
   "id": "1So3nqu2HxL-",
   "metadata": {
    "id": "1So3nqu2HxL-"
   },
   "source": [
    "## EXPERIMENTING WITH PREPROCESSING OF TWITTER TEXT \n",
    "\n",
    "In this section, I will go through the four columns we created above in which we vary the lemmatization and stop word removal in each column.</br>\n",
    "</br>\n",
    "Everything (Model, Tokenization) will stay the same for the following 4 experiments and only variable will be the column in consideration for embedding creation. "
   ]
  },
  {
   "cell_type": "markdown",
   "id": "OpO3FO0Codc_",
   "metadata": {
    "id": "OpO3FO0Codc_"
   },
   "source": [
    "### EXPT 1 : text with lemmatization and stop word removal\n",
    "EMBEDDINGS : BERT </br>"
   ]
  },
  {
   "cell_type": "code",
   "execution_count": null,
   "id": "KPgPYtPto_eJ",
   "metadata": {
    "id": "KPgPYtPto_eJ"
   },
   "outputs": [],
   "source": [
    "df = df_train\n",
    "col = 'clean_tweets'\n",
    "MODEL_MAX_LENGTH = 32\n",
    "DEVICE = torch.device('cuda' if torch.cuda.is_available() else 'cpu')\n",
    "BATCH_SIZE = 64\n",
    "random_state = 12345\n",
    "TEST_SIZE = 0.25"
   ]
  },
  {
   "cell_type": "code",
   "execution_count": null,
   "id": "QvNXyAGynaVz",
   "metadata": {
    "colab": {
     "base_uri": "https://localhost:8080/",
     "referenced_widgets": [
      "ed60adcf1d8d4e16abf1915effb21063",
      "ce413637476f453cb04083038b2422bf",
      "c8c6121892cf4dbb9b7f5cac7acc7177",
      "bd24c5fddfd64a3892770a11c101d1c3",
      "6fe02e35bff348df8500a5165f3ac8ec",
      "da250f81741a433183f6127b5d703175",
      "b80a0fc892e549958f96e96e7bc2da64",
      "86e91ddf6dea480a95a314a78d4131de",
      "0f10f993cdf64c7e99f0a6be4a157056",
      "98ae8363720c46ce8e97839171a3a7d3",
      "1e3d550dbcdb4f479cd99bbe5cc5d459"
     ]
    },
    "executionInfo": {
     "elapsed": 34663,
     "status": "ok",
     "timestamp": 1681310577395,
     "user": {
      "displayName": "Aadil Iliyas Zikre",
      "userId": "11139065713760395341"
     },
     "user_tz": 240
    },
    "id": "QvNXyAGynaVz",
    "outputId": "d595b96a-9c76-4174-a9f1-cdb6e41e6bfa"
   },
   "outputs": [
    {
     "name": "stderr",
     "output_type": "stream",
     "text": [
      "Some weights of the model checkpoint at bert-base-uncased were not used when initializing BertModel: ['cls.predictions.decoder.weight', 'cls.predictions.bias', 'cls.seq_relationship.bias', 'cls.predictions.transform.dense.weight', 'cls.predictions.transform.LayerNorm.weight', 'cls.predictions.transform.LayerNorm.bias', 'cls.seq_relationship.weight', 'cls.predictions.transform.dense.bias']\n",
      "- This IS expected if you are initializing BertModel from the checkpoint of a model trained on another task or with another architecture (e.g. initializing a BertForSequenceClassification model from a BertForPreTraining model).\n",
      "- This IS NOT expected if you are initializing BertModel from the checkpoint of a model that you expect to be exactly identical (initializing a BertForSequenceClassification model from a BertForSequenceClassification model).\n"
     ]
    },
    {
     "data": {
      "application/vnd.jupyter.widget-view+json": {
       "model_id": "ed60adcf1d8d4e16abf1915effb21063",
       "version_major": 2,
       "version_minor": 0
      },
      "text/plain": [
       "  0%|          | 0/229 [00:00<?, ?it/s]"
      ]
     },
     "metadata": {},
     "output_type": "display_data"
    }
   ],
   "source": [
    "# it is a class that takes df, col and various other attributes to give X and Y for training. Please see my github or /content for source code\n",
    "from embeddings import BertProcessor \n",
    "\n",
    "emb_proc = BertProcessor(df, col, MODEL_MAX_LENGTH, DEVICE, BATCH_SIZE, random_state)\n",
    "X_train, X_test, Y_train, Y_test = emb_proc.get_training_XY(test_size = TEST_SIZE)"
   ]
  },
  {
   "cell_type": "code",
   "execution_count": null,
   "id": "0w2IuWOQqtgl",
   "metadata": {
    "id": "0w2IuWOQqtgl"
   },
   "outputs": [],
   "source": [
    "lstm_output = 64\n",
    "MODEL_MAX_LENGTH = MODEL_MAX_LENGTH\n",
    "EMBEDDING_SIZE = 768 # (Constant for Bert)\n",
    "n_classes = 3\n",
    "\n",
    "BATCH_SIZE = 64\n",
    "EPOCHS = 5\n",
    "X_train, X_test, Y_train, Y_test = X_train, X_test, Y_train, Y_test\n",
    "\n",
    "dp_lstm = 0.2\n",
    "dp_layer_1 = 0.1\n",
    "dp_layer_2 = 0.1\n",
    "\n",
    "model_name = f\"bert_model_{EPOCHS}_{BATCH_SIZE}_{dp_layer_1*100}_{dp_layer_2*100}\"\n",
    "# save_dir"
   ]
  },
  {
   "cell_type": "code",
   "execution_count": null,
   "id": "wfAYoL8jqfcy",
   "metadata": {
    "colab": {
     "base_uri": "https://localhost:8080/"
    },
    "executionInfo": {
     "elapsed": 27606,
     "status": "ok",
     "timestamp": 1681310624252,
     "user": {
      "displayName": "Aadil Iliyas Zikre",
      "userId": "11139065713760395341"
     },
     "user_tz": 240
    },
    "id": "wfAYoL8jqfcy",
    "outputId": "fbf8eb6d-df8a-4d17-8556-fb4e0f0391ce"
   },
   "outputs": [
    {
     "name": "stdout",
     "output_type": "stream",
     "text": [
      "Model: \"sequential\"\n",
      "_________________________________________________________________\n",
      " Layer (type)                Output Shape              Param #   \n",
      "=================================================================\n",
      " bidirectional (Bidirectiona  (None, 128)              426496    \n",
      " l)                                                              \n",
      "                                                                 \n",
      " dense (Dense)               (None, 128)               16512     \n",
      "                                                                 \n",
      " dropout (Dropout)           (None, 128)               0         \n",
      "                                                                 \n",
      " dense_1 (Dense)             (None, 64)                8256      \n",
      "                                                                 \n",
      " dropout_1 (Dropout)         (None, 64)                0         \n",
      "                                                                 \n",
      " dense_2 (Dense)             (None, 3)                 195       \n",
      "                                                                 \n",
      "=================================================================\n",
      "Total params: 451,459\n",
      "Trainable params: 451,459\n",
      "Non-trainable params: 0\n",
      "_________________________________________________________________\n",
      "Epoch 1/5\n",
      "172/172 [==============================] - 10s 22ms/step - loss: 0.6767 - accuracy: 0.7196 - val_loss: 0.6064 - val_accuracy: 0.7563\n",
      "Epoch 2/5\n",
      "172/172 [==============================] - 2s 14ms/step - loss: 0.5811 - accuracy: 0.7650 - val_loss: 0.5840 - val_accuracy: 0.7645\n",
      "Epoch 3/5\n",
      "172/172 [==============================] - 2s 13ms/step - loss: 0.5460 - accuracy: 0.7834 - val_loss: 0.5827 - val_accuracy: 0.7697\n",
      "Epoch 4/5\n",
      "172/172 [==============================] - 4s 24ms/step - loss: 0.5207 - accuracy: 0.7879 - val_loss: 0.6207 - val_accuracy: 0.7601\n",
      "Epoch 5/5\n",
      "172/172 [==============================] - 3s 15ms/step - loss: 0.4921 - accuracy: 0.8036 - val_loss: 0.5859 - val_accuracy: 0.7702\n"
     ]
    }
   ],
   "source": [
    "from models import BiLSTM # this is a wrapper on BiLSTM model covered in class. It takes various attributes and creates a model and also trains it.\n",
    "# see my github or /content for source code\n",
    "model_class = BiLSTM(lstm_output, MODEL_MAX_LENGTH, EMBEDDING_SIZE, n_classes, model_name,\n",
    "                     dp_lstm=dp_lstm, dp_layer_1=dp_layer_1, dp_layer_2=dp_layer_2)\n",
    "model_class.build_model()\n",
    "history = model_class.train(BATCH_SIZE, EPOCHS, X_train, Y_train, X_test, Y_test)"
   ]
  },
  {
   "cell_type": "code",
   "execution_count": null,
   "id": "gbn4rqPYsLk6",
   "metadata": {
    "colab": {
     "base_uri": "https://localhost:8080/"
    },
    "executionInfo": {
     "elapsed": 14415,
     "status": "ok",
     "timestamp": 1681310642581,
     "user": {
      "displayName": "Aadil Iliyas Zikre",
      "userId": "11139065713760395341"
     },
     "user_tz": 240
    },
    "id": "gbn4rqPYsLk6",
    "outputId": "051ba9d9-82a4-444d-ef8a-79973d95b798"
   },
   "outputs": [
    {
     "name": "stderr",
     "output_type": "stream",
     "text": [
      "WARNING:absl:Found untraced functions such as lstm_cell_1_layer_call_fn, lstm_cell_1_layer_call_and_return_conditional_losses, lstm_cell_2_layer_call_fn, lstm_cell_2_layer_call_and_return_conditional_losses while saving (showing 4 of 4). These functions will not be directly callable after loading.\n"
     ]
    }
   ],
   "source": [
    "model_class.save_model()"
   ]
  },
  {
   "cell_type": "code",
   "execution_count": null,
   "id": "nYLwRI427ysp",
   "metadata": {
    "colab": {
     "base_uri": "https://localhost:8080/"
    },
    "executionInfo": {
     "elapsed": 189,
     "status": "ok",
     "timestamp": 1681311139719,
     "user": {
      "displayName": "Aadil Iliyas Zikre",
      "userId": "11139065713760395341"
     },
     "user_tz": 240
    },
    "id": "nYLwRI427ysp",
    "outputId": "71e2880d-2663-4239-c633-70f062590722"
   },
   "outputs": [
    {
     "name": "stdout",
     "output_type": "stream",
     "text": [
      "{'verbose': 1, 'epochs': 5, 'steps': 172}\n",
      "Last Layer Training Accuracy : 80.36%\n",
      "Last Layer Validation Accuracy : 77.02%\n"
     ]
    }
   ],
   "source": [
    "print(history.params)\n",
    "print(f\"Last Layer Training Accuracy : {history.history['accuracy'][-1]:.2%}\")\n",
    "print(f\"Last Layer Validation Accuracy : {history.history['val_accuracy'][-1]:.2%}\")"
   ]
  },
  {
   "cell_type": "markdown",
   "id": "pfY6my3H9WeD",
   "metadata": {
    "id": "pfY6my3H9WeD"
   },
   "source": [
    "### EXPT 2 : text without lemmatization but with stop words removal\n",
    "EMBEDDINGS : BERT </br>"
   ]
  },
  {
   "cell_type": "code",
   "execution_count": null,
   "id": "DLeLDBNO9WeE",
   "metadata": {
    "id": "DLeLDBNO9WeE"
   },
   "outputs": [],
   "source": [
    "df = df_train\n",
    "col = 'clean_tweets_no_lm'\n",
    "MODEL_MAX_LENGTH = 32\n",
    "DEVICE = torch.device('cuda' if torch.cuda.is_available() else 'cpu')\n",
    "BATCH_SIZE = 64\n",
    "random_state = 12345\n",
    "TEST_SIZE = 0.25"
   ]
  },
  {
   "cell_type": "code",
   "execution_count": null,
   "id": "bSkKzvN39WeF",
   "metadata": {
    "colab": {
     "base_uri": "https://localhost:8080/",
     "referenced_widgets": [
      "78afc49acfc948c69abe630589751ce5",
      "f369f7b8053a425784be2b45544a5d10",
      "1a60402c543d4d4393d248b39e8168b2",
      "f61d89c04f7c4b8aa622f1fb0303997a",
      "06f7a6b4b3794f2ba3976053da30614a",
      "638e7162bb7f477b81a261467cce5697",
      "19940eb4674746cea3561100f5a31a2a",
      "17b0f2f3f17e4af987bbeaaac5144909",
      "3ed50c83f7ce409f99a1aefa34d8cf16",
      "12ab3b0fe77848f8a4f9c9dc9993fe80",
      "0fdf8fc2c9074780a1686be2bfc6c489"
     ]
    },
    "executionInfo": {
     "elapsed": 34706,
     "status": "ok",
     "timestamp": 1681311857148,
     "user": {
      "displayName": "Aadil Iliyas Zikre",
      "userId": "11139065713760395341"
     },
     "user_tz": 240
    },
    "id": "bSkKzvN39WeF",
    "outputId": "cfca35e0-3acc-4916-954c-7ade0cdd4008"
   },
   "outputs": [
    {
     "name": "stderr",
     "output_type": "stream",
     "text": [
      "Some weights of the model checkpoint at bert-base-uncased were not used when initializing BertModel: ['cls.seq_relationship.weight', 'cls.predictions.transform.dense.weight', 'cls.predictions.transform.LayerNorm.bias', 'cls.seq_relationship.bias', 'cls.predictions.bias', 'cls.predictions.decoder.weight', 'cls.predictions.transform.dense.bias', 'cls.predictions.transform.LayerNorm.weight']\n",
      "- This IS expected if you are initializing BertModel from the checkpoint of a model trained on another task or with another architecture (e.g. initializing a BertForSequenceClassification model from a BertForPreTraining model).\n",
      "- This IS NOT expected if you are initializing BertModel from the checkpoint of a model that you expect to be exactly identical (initializing a BertForSequenceClassification model from a BertForSequenceClassification model).\n"
     ]
    },
    {
     "data": {
      "application/vnd.jupyter.widget-view+json": {
       "model_id": "78afc49acfc948c69abe630589751ce5",
       "version_major": 2,
       "version_minor": 0
      },
      "text/plain": [
       "  0%|          | 0/229 [00:00<?, ?it/s]"
      ]
     },
     "metadata": {},
     "output_type": "display_data"
    }
   ],
   "source": [
    "from embeddings import BertProcessor\n",
    "\n",
    "emb_proc = BertProcessor(df, col, MODEL_MAX_LENGTH, DEVICE, BATCH_SIZE, random_state)\n",
    "X_train, X_test, Y_train, Y_test = emb_proc.get_training_XY(test_size = TEST_SIZE)"
   ]
  },
  {
   "cell_type": "code",
   "execution_count": null,
   "id": "xbWZ1OOv9WeF",
   "metadata": {
    "id": "xbWZ1OOv9WeF"
   },
   "outputs": [],
   "source": [
    "lstm_output = 64\n",
    "MODEL_MAX_LENGTH = MODEL_MAX_LENGTH\n",
    "EMBEDDING_SIZE = 768 # (Constant for Bert)\n",
    "n_classes = 3\n",
    "\n",
    "BATCH_SIZE = 64\n",
    "EPOCHS = 5\n",
    "X_train, X_test, Y_train, Y_test = X_train, X_test, Y_train, Y_test\n",
    "\n",
    "dp_lstm = 0.2\n",
    "dp_layer_1 = 0.1\n",
    "dp_layer_2 = 0.1\n",
    "\n",
    "model_name = f\"bert_model_{EPOCHS}_{BATCH_SIZE}_{dp_layer_1*100}_{dp_layer_2*100}\"\n",
    "# save_dir"
   ]
  },
  {
   "cell_type": "code",
   "execution_count": null,
   "id": "qZ2bOQC19WeF",
   "metadata": {
    "colab": {
     "base_uri": "https://localhost:8080/"
    },
    "executionInfo": {
     "elapsed": 23644,
     "status": "ok",
     "timestamp": 1681311891178,
     "user": {
      "displayName": "Aadil Iliyas Zikre",
      "userId": "11139065713760395341"
     },
     "user_tz": 240
    },
    "id": "qZ2bOQC19WeF",
    "outputId": "4cb88ef4-766d-4abc-e7f3-d772b4e56682"
   },
   "outputs": [
    {
     "name": "stdout",
     "output_type": "stream",
     "text": [
      "Model: \"sequential\"\n",
      "_________________________________________________________________\n",
      " Layer (type)                Output Shape              Param #   \n",
      "=================================================================\n",
      " bidirectional (Bidirectiona  (None, 128)              426496    \n",
      " l)                                                              \n",
      "                                                                 \n",
      " dense (Dense)               (None, 128)               16512     \n",
      "                                                                 \n",
      " dropout (Dropout)           (None, 128)               0         \n",
      "                                                                 \n",
      " dense_1 (Dense)             (None, 64)                8256      \n",
      "                                                                 \n",
      " dropout_1 (Dropout)         (None, 64)                0         \n",
      "                                                                 \n",
      " dense_2 (Dense)             (None, 3)                 195       \n",
      "                                                                 \n",
      "=================================================================\n",
      "Total params: 451,459\n",
      "Trainable params: 451,459\n",
      "Non-trainable params: 0\n",
      "_________________________________________________________________\n",
      "Epoch 1/5\n",
      "172/172 [==============================] - 10s 23ms/step - loss: 0.6688 - accuracy: 0.7219 - val_loss: 0.6218 - val_accuracy: 0.7454\n",
      "Epoch 2/5\n",
      "172/172 [==============================] - 2s 14ms/step - loss: 0.5834 - accuracy: 0.7645 - val_loss: 0.5903 - val_accuracy: 0.7596\n",
      "Epoch 3/5\n",
      "172/172 [==============================] - 2s 14ms/step - loss: 0.5464 - accuracy: 0.7809 - val_loss: 0.6009 - val_accuracy: 0.7571\n",
      "Epoch 4/5\n",
      "172/172 [==============================] - 2s 13ms/step - loss: 0.5155 - accuracy: 0.7945 - val_loss: 0.5825 - val_accuracy: 0.7689\n",
      "Epoch 5/5\n",
      "172/172 [==============================] - 4s 22ms/step - loss: 0.4863 - accuracy: 0.8045 - val_loss: 0.5963 - val_accuracy: 0.7664\n"
     ]
    }
   ],
   "source": [
    "from models import BiLSTM\n",
    "model_class = BiLSTM(lstm_output, MODEL_MAX_LENGTH, EMBEDDING_SIZE, n_classes, model_name,\n",
    "                     dp_lstm=dp_lstm, dp_layer_1=dp_layer_1, dp_layer_2=dp_layer_2)\n",
    "model_class.build_model()\n",
    "history = model_class.train(BATCH_SIZE, EPOCHS, X_train, Y_train, X_test, Y_test)"
   ]
  },
  {
   "cell_type": "code",
   "execution_count": null,
   "id": "17c7u-iR9WeG",
   "metadata": {
    "colab": {
     "base_uri": "https://localhost:8080/"
    },
    "executionInfo": {
     "elapsed": 13008,
     "status": "ok",
     "timestamp": 1681311911577,
     "user": {
      "displayName": "Aadil Iliyas Zikre",
      "userId": "11139065713760395341"
     },
     "user_tz": 240
    },
    "id": "17c7u-iR9WeG",
    "outputId": "05674de4-1cc7-4449-dd84-29af18aa61de"
   },
   "outputs": [
    {
     "name": "stderr",
     "output_type": "stream",
     "text": [
      "WARNING:absl:Found untraced functions such as lstm_cell_1_layer_call_fn, lstm_cell_1_layer_call_and_return_conditional_losses, lstm_cell_2_layer_call_fn, lstm_cell_2_layer_call_and_return_conditional_losses while saving (showing 4 of 4). These functions will not be directly callable after loading.\n"
     ]
    }
   ],
   "source": [
    "model_class.save_model()"
   ]
  },
  {
   "cell_type": "code",
   "execution_count": null,
   "id": "0pZBf7Xq9WeG",
   "metadata": {
    "colab": {
     "base_uri": "https://localhost:8080/"
    },
    "executionInfo": {
     "elapsed": 23,
     "status": "ok",
     "timestamp": 1681311911578,
     "user": {
      "displayName": "Aadil Iliyas Zikre",
      "userId": "11139065713760395341"
     },
     "user_tz": 240
    },
    "id": "0pZBf7Xq9WeG",
    "outputId": "0f39c794-4680-44f2-a115-67602209ea36"
   },
   "outputs": [
    {
     "name": "stdout",
     "output_type": "stream",
     "text": [
      "{'verbose': 1, 'epochs': 5, 'steps': 172}\n",
      "Last Layer Training Accuracy : 80.45%\n",
      "Last Layer Validation Accuracy : 76.64%\n"
     ]
    }
   ],
   "source": [
    "print(history.params)\n",
    "print(f\"Last Layer Training Accuracy : {history.history['accuracy'][-1]:.2%}\")\n",
    "print(f\"Last Layer Validation Accuracy : {history.history['val_accuracy'][-1]:.2%}\")"
   ]
  },
  {
   "cell_type": "markdown",
   "id": "yPP2_oBi9ZhT",
   "metadata": {
    "id": "yPP2_oBi9ZhT"
   },
   "source": [
    "### EXPT 3 : text with lemmatization but without stop words removal\n",
    "EMBEDDINGS : BERT </br>"
   ]
  },
  {
   "cell_type": "code",
   "execution_count": null,
   "id": "YjTfA8Ub9ZhT",
   "metadata": {
    "id": "YjTfA8Ub9ZhT"
   },
   "outputs": [],
   "source": [
    "df = df_train\n",
    "col = 'clean_tweets_no_sw'\n",
    "MODEL_MAX_LENGTH = 32\n",
    "DEVICE = torch.device('cuda' if torch.cuda.is_available() else 'cpu')\n",
    "BATCH_SIZE = 64\n",
    "random_state = 12345\n",
    "TEST_SIZE = 0.25"
   ]
  },
  {
   "cell_type": "code",
   "execution_count": null,
   "id": "7j2sDyy99ZhU",
   "metadata": {
    "colab": {
     "base_uri": "https://localhost:8080/",
     "referenced_widgets": [
      "79f3db8ddcf245cd84362ba9c07a5597",
      "ad11bff3f85a42be8d65cb714e1f7d4c",
      "2e46eaea3af84a80ae7f2a113ccdf39a",
      "92242d826b6648baa9dedd094e9ab2c7",
      "ddd401302066468abce611b2c7b0e3cd",
      "f0ff068ce712447a95e0795d6d1c004d",
      "d26595cd98c04951a1d3c9ab6b8dde11",
      "bdd4dd0158d6438d93f39559b5829036",
      "2e3186626ea7425db24108e802dfde4d",
      "06ed3ecfb53a499d83ce2359a955680f",
      "177ecb0857d8401a80d2f7e50e8a76b4"
     ]
    },
    "executionInfo": {
     "elapsed": 37885,
     "status": "ok",
     "timestamp": 1681312055735,
     "user": {
      "displayName": "Aadil Iliyas Zikre",
      "userId": "11139065713760395341"
     },
     "user_tz": 240
    },
    "id": "7j2sDyy99ZhU",
    "outputId": "7219a6e2-e3c2-4887-c9d5-7dcd1b11fa87"
   },
   "outputs": [
    {
     "name": "stderr",
     "output_type": "stream",
     "text": [
      "Some weights of the model checkpoint at bert-base-uncased were not used when initializing BertModel: ['cls.predictions.transform.dense.bias', 'cls.predictions.bias', 'cls.seq_relationship.weight', 'cls.predictions.transform.LayerNorm.bias', 'cls.predictions.decoder.weight', 'cls.seq_relationship.bias', 'cls.predictions.transform.dense.weight', 'cls.predictions.transform.LayerNorm.weight']\n",
      "- This IS expected if you are initializing BertModel from the checkpoint of a model trained on another task or with another architecture (e.g. initializing a BertForSequenceClassification model from a BertForPreTraining model).\n",
      "- This IS NOT expected if you are initializing BertModel from the checkpoint of a model that you expect to be exactly identical (initializing a BertForSequenceClassification model from a BertForSequenceClassification model).\n"
     ]
    },
    {
     "data": {
      "application/vnd.jupyter.widget-view+json": {
       "model_id": "79f3db8ddcf245cd84362ba9c07a5597",
       "version_major": 2,
       "version_minor": 0
      },
      "text/plain": [
       "  0%|          | 0/229 [00:00<?, ?it/s]"
      ]
     },
     "metadata": {},
     "output_type": "display_data"
    }
   ],
   "source": [
    "from embeddings import BertProcessor\n",
    "\n",
    "emb_proc = BertProcessor(df, col, MODEL_MAX_LENGTH, DEVICE, BATCH_SIZE, random_state)\n",
    "X_train, X_test, Y_train, Y_test = emb_proc.get_training_XY(test_size = TEST_SIZE)"
   ]
  },
  {
   "cell_type": "code",
   "execution_count": null,
   "id": "f0N1dO-c9ZhU",
   "metadata": {
    "id": "f0N1dO-c9ZhU"
   },
   "outputs": [],
   "source": [
    "lstm_output = 64\n",
    "MODEL_MAX_LENGTH = MODEL_MAX_LENGTH\n",
    "EMBEDDING_SIZE = 768 # (Constant for Bert)\n",
    "n_classes = 3\n",
    "\n",
    "BATCH_SIZE = 64\n",
    "EPOCHS = 5\n",
    "X_train, X_test, Y_train, Y_test = X_train, X_test, Y_train, Y_test\n",
    "\n",
    "dp_lstm = 0.2\n",
    "dp_layer_1 = 0.1\n",
    "dp_layer_2 = 0.1\n",
    "\n",
    "model_name = f\"bert_model_{EPOCHS}_{BATCH_SIZE}_{dp_layer_1*100}_{dp_layer_2*100}\"\n",
    "# save_dir"
   ]
  },
  {
   "cell_type": "code",
   "execution_count": null,
   "id": "t3vuOZoQ9ZhU",
   "metadata": {
    "colab": {
     "base_uri": "https://localhost:8080/"
    },
    "executionInfo": {
     "elapsed": 22652,
     "status": "ok",
     "timestamp": 1681312078368,
     "user": {
      "displayName": "Aadil Iliyas Zikre",
      "userId": "11139065713760395341"
     },
     "user_tz": 240
    },
    "id": "t3vuOZoQ9ZhU",
    "outputId": "0d51d85d-ecc3-4f63-f5a4-10a7f22582d8"
   },
   "outputs": [
    {
     "name": "stdout",
     "output_type": "stream",
     "text": [
      "Model: \"sequential\"\n",
      "_________________________________________________________________\n",
      " Layer (type)                Output Shape              Param #   \n",
      "=================================================================\n",
      " bidirectional (Bidirectiona  (None, 128)              426496    \n",
      " l)                                                              \n",
      "                                                                 \n",
      " dense (Dense)               (None, 128)               16512     \n",
      "                                                                 \n",
      " dropout (Dropout)           (None, 128)               0         \n",
      "                                                                 \n",
      " dense_1 (Dense)             (None, 64)                8256      \n",
      "                                                                 \n",
      " dropout_1 (Dropout)         (None, 64)                0         \n",
      "                                                                 \n",
      " dense_2 (Dense)             (None, 3)                 195       \n",
      "                                                                 \n",
      "=================================================================\n",
      "Total params: 451,459\n",
      "Trainable params: 451,459\n",
      "Non-trainable params: 0\n",
      "_________________________________________________________________\n",
      "Epoch 1/5\n",
      "172/172 [==============================] - 10s 20ms/step - loss: 0.5939 - accuracy: 0.7561 - val_loss: 0.5471 - val_accuracy: 0.7915\n",
      "Epoch 2/5\n",
      "172/172 [==============================] - 2s 14ms/step - loss: 0.4937 - accuracy: 0.8057 - val_loss: 0.4911 - val_accuracy: 0.8027\n",
      "Epoch 3/5\n",
      "172/172 [==============================] - 2s 14ms/step - loss: 0.4512 - accuracy: 0.8237 - val_loss: 0.5009 - val_accuracy: 0.7967\n",
      "Epoch 4/5\n",
      "172/172 [==============================] - 3s 16ms/step - loss: 0.4238 - accuracy: 0.8342 - val_loss: 0.5222 - val_accuracy: 0.8046\n",
      "Epoch 5/5\n",
      "172/172 [==============================] - 3s 16ms/step - loss: 0.3904 - accuracy: 0.8496 - val_loss: 0.5129 - val_accuracy: 0.8093\n"
     ]
    }
   ],
   "source": [
    "from models import BiLSTM\n",
    "model_class = BiLSTM(lstm_output, MODEL_MAX_LENGTH, EMBEDDING_SIZE, n_classes, model_name,\n",
    "                     dp_lstm=dp_lstm, dp_layer_1=dp_layer_1, dp_layer_2=dp_layer_2)\n",
    "model_class.build_model()\n",
    "history = model_class.train(BATCH_SIZE, EPOCHS, X_train, Y_train, X_test, Y_test)"
   ]
  },
  {
   "cell_type": "code",
   "execution_count": null,
   "id": "836KONaC9ZhU",
   "metadata": {
    "colab": {
     "base_uri": "https://localhost:8080/"
    },
    "executionInfo": {
     "elapsed": 13312,
     "status": "ok",
     "timestamp": 1681312091658,
     "user": {
      "displayName": "Aadil Iliyas Zikre",
      "userId": "11139065713760395341"
     },
     "user_tz": 240
    },
    "id": "836KONaC9ZhU",
    "outputId": "bfbcacad-0f96-4a7d-a18e-e9e10d5a5083"
   },
   "outputs": [
    {
     "name": "stderr",
     "output_type": "stream",
     "text": [
      "WARNING:absl:Found untraced functions such as lstm_cell_1_layer_call_fn, lstm_cell_1_layer_call_and_return_conditional_losses, lstm_cell_2_layer_call_fn, lstm_cell_2_layer_call_and_return_conditional_losses while saving (showing 4 of 4). These functions will not be directly callable after loading.\n"
     ]
    }
   ],
   "source": [
    "model_class.save_model()"
   ]
  },
  {
   "cell_type": "code",
   "execution_count": null,
   "id": "VRhsZpC49ZhU",
   "metadata": {
    "colab": {
     "base_uri": "https://localhost:8080/"
    },
    "executionInfo": {
     "elapsed": 14,
     "status": "ok",
     "timestamp": 1681312091658,
     "user": {
      "displayName": "Aadil Iliyas Zikre",
      "userId": "11139065713760395341"
     },
     "user_tz": 240
    },
    "id": "VRhsZpC49ZhU",
    "outputId": "777cd8f4-48ef-47a1-e0ef-f470b39c41ce"
   },
   "outputs": [
    {
     "name": "stdout",
     "output_type": "stream",
     "text": [
      "{'verbose': 1, 'epochs': 5, 'steps': 172}\n",
      "Last Layer Training Accuracy : 84.96%\n",
      "Last Layer Validation Accuracy : 80.93%\n"
     ]
    }
   ],
   "source": [
    "print(history.params)\n",
    "print(f\"Last Layer Training Accuracy : {history.history['accuracy'][-1]:.2%}\")\n",
    "print(f\"Last Layer Validation Accuracy : {history.history['val_accuracy'][-1]:.2%}\")"
   ]
  },
  {
   "cell_type": "markdown",
   "id": "ISxRlWfr9aXR",
   "metadata": {
    "id": "ISxRlWfr9aXR"
   },
   "source": [
    "### EXPT 4 : text without lemmatization and without stop word removal\n",
    "EMBEDDINGS : BERT </br>"
   ]
  },
  {
   "cell_type": "code",
   "execution_count": null,
   "id": "KKmhPKCt9aXT",
   "metadata": {
    "id": "KKmhPKCt9aXT"
   },
   "outputs": [],
   "source": [
    "df = df_train\n",
    "col = 'clean_tweets_no_lm_no_sw'\n",
    "MODEL_MAX_LENGTH = 32\n",
    "DEVICE = torch.device('cuda' if torch.cuda.is_available() else 'cpu')\n",
    "BATCH_SIZE = 64\n",
    "random_state = 12345\n",
    "TEST_SIZE = 0.25"
   ]
  },
  {
   "cell_type": "code",
   "execution_count": null,
   "id": "vR1t1JMv9aXT",
   "metadata": {
    "colab": {
     "base_uri": "https://localhost:8080/",
     "height": 121,
     "referenced_widgets": [
      "45d187af428e4aec8e179969cce7cc97",
      "b586464066b44bf9aa226fd2cb4e6693",
      "c5fea28e615f469c912d2867cd74b182",
      "891b6841a7a448e6a182fddf42c53324",
      "d77a47267adb4c1898793a97f4a8f6ab",
      "2ecb9f5da02c40018688271ae0feba7d",
      "19fd1b5ffb2046bd8f7028f7fffec7ee",
      "905814aa774f43048e47a56dabc140d1",
      "ed40a0d14a9c4662971227bf702c5783",
      "ec1459388f4546469cafe28059ef149b",
      "16ed5e63efad49dd9c325e5cb8bed1c6"
     ]
    },
    "executionInfo": {
     "elapsed": 33091,
     "status": "ok",
     "timestamp": 1681581012296,
     "user": {
      "displayName": "Aadil Iliyas Zikre",
      "userId": "11139065713760395341"
     },
     "user_tz": 240
    },
    "id": "vR1t1JMv9aXT",
    "outputId": "1fe3fbd1-0ff3-4c66-db39-ffa027336e01"
   },
   "outputs": [
    {
     "name": "stderr",
     "output_type": "stream",
     "text": [
      "Some weights of the model checkpoint at bert-base-uncased were not used when initializing BertModel: ['cls.predictions.decoder.weight', 'cls.predictions.bias', 'cls.predictions.transform.dense.weight', 'cls.predictions.transform.LayerNorm.bias', 'cls.seq_relationship.bias', 'cls.predictions.transform.dense.bias', 'cls.seq_relationship.weight', 'cls.predictions.transform.LayerNorm.weight']\n",
      "- This IS expected if you are initializing BertModel from the checkpoint of a model trained on another task or with another architecture (e.g. initializing a BertForSequenceClassification model from a BertForPreTraining model).\n",
      "- This IS NOT expected if you are initializing BertModel from the checkpoint of a model that you expect to be exactly identical (initializing a BertForSequenceClassification model from a BertForSequenceClassification model).\n"
     ]
    },
    {
     "data": {
      "application/vnd.jupyter.widget-view+json": {
       "model_id": "45d187af428e4aec8e179969cce7cc97",
       "version_major": 2,
       "version_minor": 0
      },
      "text/plain": [
       "  0%|          | 0/229 [00:00<?, ?it/s]"
      ]
     },
     "metadata": {},
     "output_type": "display_data"
    }
   ],
   "source": [
    "from embeddings import BertProcessor\n",
    "\n",
    "emb_proc = BertProcessor(df, col, MODEL_MAX_LENGTH, DEVICE, BATCH_SIZE, random_state)\n",
    "X_train, X_test, Y_train, Y_test = emb_proc.get_training_XY(test_size = TEST_SIZE)"
   ]
  },
  {
   "cell_type": "code",
   "execution_count": null,
   "id": "M3eIQbWL9aXT",
   "metadata": {
    "id": "M3eIQbWL9aXT"
   },
   "outputs": [],
   "source": [
    "lstm_output = 64\n",
    "MODEL_MAX_LENGTH = MODEL_MAX_LENGTH\n",
    "EMBEDDING_SIZE = 768 # (Constant for Bert)\n",
    "n_classes = 3\n",
    "\n",
    "BATCH_SIZE = 64\n",
    "EPOCHS = 5\n",
    "X_train, X_test, Y_train, Y_test = X_train, X_test, Y_train, Y_test\n",
    "\n",
    "dp_lstm = 0.2\n",
    "dp_layer_1 = 0.1\n",
    "dp_layer_2 = 0.1\n",
    "\n",
    "model_name = f\"bert_model_{EPOCHS}_{BATCH_SIZE}_{dp_layer_1*100}_{dp_layer_2*100}\"\n",
    "save_dir = '/content/drive/MyDrive/Syracuse University/IST 664 Natural Language Processing/Assignment 3/models'"
   ]
  },
  {
   "cell_type": "code",
   "execution_count": null,
   "id": "lVi4CTNF9aXT",
   "metadata": {
    "colab": {
     "base_uri": "https://localhost:8080/"
    },
    "executionInfo": {
     "elapsed": 27334,
     "status": "ok",
     "timestamp": 1681581039618,
     "user": {
      "displayName": "Aadil Iliyas Zikre",
      "userId": "11139065713760395341"
     },
     "user_tz": 240
    },
    "id": "lVi4CTNF9aXT",
    "outputId": "03699a6f-b9e3-43e6-da9a-e1e5c1515465"
   },
   "outputs": [
    {
     "name": "stdout",
     "output_type": "stream",
     "text": [
      "Model: \"sequential\"\n",
      "_________________________________________________________________\n",
      " Layer (type)                Output Shape              Param #   \n",
      "=================================================================\n",
      " bidirectional (Bidirectiona  (None, 128)              426496    \n",
      " l)                                                              \n",
      "                                                                 \n",
      " dense (Dense)               (None, 128)               16512     \n",
      "                                                                 \n",
      " dropout (Dropout)           (None, 128)               0         \n",
      "                                                                 \n",
      " dense_1 (Dense)             (None, 64)                8256      \n",
      "                                                                 \n",
      " dropout_1 (Dropout)         (None, 64)                0         \n",
      "                                                                 \n",
      " dense_2 (Dense)             (None, 3)                 195       \n",
      "                                                                 \n",
      "=================================================================\n",
      "Total params: 451,459\n",
      "Trainable params: 451,459\n",
      "Non-trainable params: 0\n",
      "_________________________________________________________________\n",
      "Epoch 1/5\n",
      "172/172 [==============================] - 10s 22ms/step - loss: 0.6076 - accuracy: 0.7522 - val_loss: 0.5218 - val_accuracy: 0.7962\n",
      "Epoch 2/5\n",
      "172/172 [==============================] - 2s 14ms/step - loss: 0.4931 - accuracy: 0.8032 - val_loss: 0.5148 - val_accuracy: 0.7932\n",
      "Epoch 3/5\n",
      "172/172 [==============================] - 2s 14ms/step - loss: 0.4513 - accuracy: 0.8254 - val_loss: 0.5007 - val_accuracy: 0.8055\n",
      "Epoch 4/5\n",
      "172/172 [==============================] - 3s 17ms/step - loss: 0.4169 - accuracy: 0.8381 - val_loss: 0.4904 - val_accuracy: 0.8137\n",
      "Epoch 5/5\n",
      "172/172 [==============================] - 3s 17ms/step - loss: 0.3883 - accuracy: 0.8504 - val_loss: 0.4976 - val_accuracy: 0.8093\n"
     ]
    }
   ],
   "source": [
    "from models import BiLSTM\n",
    "model_class = BiLSTM(lstm_output, MODEL_MAX_LENGTH, EMBEDDING_SIZE, n_classes, model_name,\n",
    "                     dp_lstm=dp_lstm, dp_layer_1=dp_layer_1, dp_layer_2=dp_layer_2, save_dir=save_dir)\n",
    "model_class.build_model()\n",
    "history = model_class.train(BATCH_SIZE, EPOCHS, X_train, Y_train, X_test, Y_test)"
   ]
  },
  {
   "cell_type": "code",
   "execution_count": null,
   "id": "uyrW3t1E9aXU",
   "metadata": {
    "colab": {
     "base_uri": "https://localhost:8080/"
    },
    "executionInfo": {
     "elapsed": 16122,
     "status": "ok",
     "timestamp": 1681581055735,
     "user": {
      "displayName": "Aadil Iliyas Zikre",
      "userId": "11139065713760395341"
     },
     "user_tz": 240
    },
    "id": "uyrW3t1E9aXU",
    "outputId": "dcc9bfa4-cb10-41cf-fc1e-706c2d1e042f"
   },
   "outputs": [
    {
     "name": "stderr",
     "output_type": "stream",
     "text": [
      "WARNING:absl:Found untraced functions such as lstm_cell_1_layer_call_fn, lstm_cell_1_layer_call_and_return_conditional_losses, lstm_cell_2_layer_call_fn, lstm_cell_2_layer_call_and_return_conditional_losses while saving (showing 4 of 4). These functions will not be directly callable after loading.\n"
     ]
    }
   ],
   "source": [
    "model_class.save_model()"
   ]
  },
  {
   "cell_type": "code",
   "execution_count": null,
   "id": "iMgWpRWC9aXU",
   "metadata": {
    "colab": {
     "base_uri": "https://localhost:8080/"
    },
    "executionInfo": {
     "elapsed": 8,
     "status": "ok",
     "timestamp": 1681581055736,
     "user": {
      "displayName": "Aadil Iliyas Zikre",
      "userId": "11139065713760395341"
     },
     "user_tz": 240
    },
    "id": "iMgWpRWC9aXU",
    "outputId": "cde737e4-1ce7-4d46-a4bf-2f871077bc91"
   },
   "outputs": [
    {
     "name": "stdout",
     "output_type": "stream",
     "text": [
      "{'verbose': 1, 'epochs': 5, 'steps': 172}\n",
      "Last Layer Training Accuracy : 85.04%\n",
      "Last Layer Validation Accuracy : 80.93%\n"
     ]
    }
   ],
   "source": [
    "print(history.params)\n",
    "print(f\"Last Layer Training Accuracy : {history.history['accuracy'][-1]:.2%}\")\n",
    "print(f\"Last Layer Validation Accuracy : {history.history['val_accuracy'][-1]:.2%}\")"
   ]
  },
  {
   "cell_type": "markdown",
   "id": "_cK-VCf9DEwA",
   "metadata": {
    "id": "_cK-VCf9DEwA"
   },
   "source": [
    "## SUMMARY OF USING LEMMATIZATION AND STOP WORDS REMOVAL\n",
    "\n",
    "I ran four experiments above. I processed the tweets in various ways like lemmatization and stop words removal to various extents and got very different results. The embeddings I used were Bert-Base-Cased Embeddings. I ran each experiments for 5 epochs and recorded the validation set accuracy at the end of each epoch. Here are the results: </br>\n",
    "1. 81.58% when no lemmatization neither stop words removal was done\n",
    "2. 80.93% when only lemmatization was done \n",
    "3. 76.64% when only stop word removal was done\n",
    "4. 77.02% when both lemmatization and stop word removal were done. </br>\n",
    "<br>\n",
    "Results may vary on reruns due to randomness in weight initialization \n",
    "---\n",
    "We can infer from the result the following things:</br>\n",
    "1. Stop Word removal degrades the model by about 4% in its respective experiments ie 1&3 and 2&4\n",
    "2. Lemmatization has a very small effect as compared to stop word removal on the overall performace but is still a negative effect\n",
    "---\n",
    "Conclusion: <br>\n",
    "The results surprised me but on reading a few articles and research papers online, the results seem right. That is because what we are doing is essentially using a pretrained model for downstream task which is classification in my case. Hence, the data should be provided in the same way as the training of the pretrained model. In bert's case, all the data passed to it was unprocessed in a sense that at least lemmatization and stop words removal was not done. Hence its attention mechanism is used to seeing certain words together. If we change the input sequence drastically, it is like feeding it a outlier, in which case the output which is the embeddings may be very different depending on which words we removed. On some corpuses, it wouldn't matter but my experimentation showed that doing preprocessing is only hurting the performace. </br>\n",
    "\n",
    "Therefore, for the experiments going forward, I will use the text where neither lemmatization nor stop words removal is done. \n",
    "\n",
    "---\n",
    "References: </br>\n",
    "1. https://stackoverflow.com/questions/63633534/is-it-necessary-to-do-stopwords-removal-stemming-lemmatization-for-text-classif#:~:text=A%20case%20for%20not%20using,are%20considered%20to%20be%20stopwords.\n",
    "2. https://arxiv.org/pdf/1904.07531.pdf\n",
    "3. https://aclanthology.org/W19-6203.pdf"
   ]
  },
  {
   "cell_type": "markdown",
   "id": "FtbQOtda9c6K",
   "metadata": {
    "id": "FtbQOtda9c6K"
   },
   "source": [
    "## EXPT 5 : dropouts of 0.5 in dense layers\n",
    "EMBEDDINGS : BERT </br>\n",
    "COLUMN : TWEETS W/O Lemmatization W/O Stop Word Removal"
   ]
  },
  {
   "cell_type": "code",
   "execution_count": null,
   "id": "XCR22N-p9c6L",
   "metadata": {
    "id": "XCR22N-p9c6L"
   },
   "outputs": [],
   "source": [
    "df = df_train\n",
    "col = 'clean_tweets_no_lm_no_sw'\n",
    "MODEL_MAX_LENGTH = 32\n",
    "DEVICE = torch.device('cuda' if torch.cuda.is_available() else 'cpu')\n",
    "BATCH_SIZE = 64\n",
    "random_state = 12345\n",
    "TEST_SIZE = 0.25"
   ]
  },
  {
   "cell_type": "code",
   "execution_count": null,
   "id": "KQE_AbmM9c6L",
   "metadata": {
    "colab": {
     "base_uri": "https://localhost:8080/",
     "height": 121,
     "referenced_widgets": [
      "409b966afb5e4e14b5273701658b963d",
      "a93886992da34b54b2b33a16800d53b8",
      "8b79e4e4ff3c4cf79fa2d9f8e3576b30",
      "f50a5e5db57445438b476e6473fb0eae",
      "31ad3f72f5fc49cab590908c9372aff3",
      "0f4ae194fe044b409ba23d917855e605",
      "9b2d073b4a7347a4ba6f481e6e0c5173",
      "2c4807364dad46069244f8312c8042d7",
      "29ddbdaa3c604195841b2385e1c1e184",
      "462c17b2d00e4bf0aa78639baf1dd30d",
      "ec0956355c7d46ac99f9015a416cb8c2"
     ]
    },
    "executionInfo": {
     "elapsed": 32911,
     "status": "ok",
     "timestamp": 1681315065121,
     "user": {
      "displayName": "Aadil Iliyas Zikre",
      "userId": "11139065713760395341"
     },
     "user_tz": 240
    },
    "id": "KQE_AbmM9c6L",
    "outputId": "0521e50d-4c3c-44fd-881b-a135e2c78f70"
   },
   "outputs": [
    {
     "name": "stderr",
     "output_type": "stream",
     "text": [
      "Some weights of the model checkpoint at bert-base-uncased were not used when initializing BertModel: ['cls.predictions.transform.LayerNorm.bias', 'cls.predictions.bias', 'cls.predictions.transform.dense.bias', 'cls.predictions.transform.LayerNorm.weight', 'cls.predictions.decoder.weight', 'cls.seq_relationship.bias', 'cls.seq_relationship.weight', 'cls.predictions.transform.dense.weight']\n",
      "- This IS expected if you are initializing BertModel from the checkpoint of a model trained on another task or with another architecture (e.g. initializing a BertForSequenceClassification model from a BertForPreTraining model).\n",
      "- This IS NOT expected if you are initializing BertModel from the checkpoint of a model that you expect to be exactly identical (initializing a BertForSequenceClassification model from a BertForSequenceClassification model).\n"
     ]
    },
    {
     "data": {
      "application/vnd.jupyter.widget-view+json": {
       "model_id": "409b966afb5e4e14b5273701658b963d",
       "version_major": 2,
       "version_minor": 0
      },
      "text/plain": [
       "  0%|          | 0/229 [00:00<?, ?it/s]"
      ]
     },
     "metadata": {},
     "output_type": "display_data"
    }
   ],
   "source": [
    "from embeddings import BertProcessor\n",
    "\n",
    "emb_proc = BertProcessor(df, col, MODEL_MAX_LENGTH, DEVICE, BATCH_SIZE, random_state)\n",
    "X_train, X_test, Y_train, Y_test = emb_proc.get_training_XY(test_size = TEST_SIZE)"
   ]
  },
  {
   "cell_type": "code",
   "execution_count": null,
   "id": "jfv09yxY9c6M",
   "metadata": {
    "id": "jfv09yxY9c6M"
   },
   "outputs": [],
   "source": [
    "lstm_output = 64\n",
    "MODEL_MAX_LENGTH = MODEL_MAX_LENGTH\n",
    "EMBEDDING_SIZE = 768 # (Constant for Bert)\n",
    "n_classes = 3\n",
    "\n",
    "BATCH_SIZE = 64\n",
    "EPOCHS = 5\n",
    "X_train, X_test, Y_train, Y_test = X_train, X_test, Y_train, Y_test\n",
    "\n",
    "dp_lstm = 0.2\n",
    "dp_layer_1 = 0.5\n",
    "dp_layer_2 = 0.5\n",
    "\n",
    "model_name = f\"bert_model_{EPOCHS}_{BATCH_SIZE}_{dp_layer_1*100}_{dp_layer_2*100}\"\n",
    "# save_dir"
   ]
  },
  {
   "cell_type": "code",
   "execution_count": null,
   "id": "G0Xh3_ZD9c6M",
   "metadata": {
    "colab": {
     "base_uri": "https://localhost:8080/"
    },
    "executionInfo": {
     "elapsed": 26166,
     "status": "ok",
     "timestamp": 1681315091265,
     "user": {
      "displayName": "Aadil Iliyas Zikre",
      "userId": "11139065713760395341"
     },
     "user_tz": 240
    },
    "id": "G0Xh3_ZD9c6M",
    "outputId": "bb6006bd-c61e-4e06-8bf5-cd246d99a174"
   },
   "outputs": [
    {
     "name": "stdout",
     "output_type": "stream",
     "text": [
      "Model: \"sequential\"\n",
      "_________________________________________________________________\n",
      " Layer (type)                Output Shape              Param #   \n",
      "=================================================================\n",
      " bidirectional (Bidirectiona  (None, 128)              426496    \n",
      " l)                                                              \n",
      "                                                                 \n",
      " dense (Dense)               (None, 128)               16512     \n",
      "                                                                 \n",
      " dropout (Dropout)           (None, 128)               0         \n",
      "                                                                 \n",
      " dense_1 (Dense)             (None, 64)                8256      \n",
      "                                                                 \n",
      " dropout_1 (Dropout)         (None, 64)                0         \n",
      "                                                                 \n",
      " dense_2 (Dense)             (None, 3)                 195       \n",
      "                                                                 \n",
      "=================================================================\n",
      "Total params: 451,459\n",
      "Trainable params: 451,459\n",
      "Non-trainable params: 0\n",
      "_________________________________________________________________\n",
      "Epoch 1/5\n",
      "172/172 [==============================] - 9s 24ms/step - loss: 0.6754 - accuracy: 0.7219 - val_loss: 0.5298 - val_accuracy: 0.7973\n",
      "Epoch 2/5\n",
      "172/172 [==============================] - 3s 18ms/step - loss: 0.5470 - accuracy: 0.7883 - val_loss: 0.5225 - val_accuracy: 0.8057\n",
      "Epoch 3/5\n",
      "172/172 [==============================] - 3s 18ms/step - loss: 0.4977 - accuracy: 0.8064 - val_loss: 0.5168 - val_accuracy: 0.7964\n",
      "Epoch 4/5\n",
      "172/172 [==============================] - 3s 17ms/step - loss: 0.4622 - accuracy: 0.8221 - val_loss: 0.4973 - val_accuracy: 0.8066\n",
      "Epoch 5/5\n",
      "172/172 [==============================] - 2s 13ms/step - loss: 0.4450 - accuracy: 0.8311 - val_loss: 0.5052 - val_accuracy: 0.8087\n"
     ]
    }
   ],
   "source": [
    "from models import BiLSTM\n",
    "model_class = BiLSTM(lstm_output, MODEL_MAX_LENGTH, EMBEDDING_SIZE, n_classes, model_name,\n",
    "                     dp_lstm=dp_lstm, dp_layer_1=dp_layer_1, dp_layer_2=dp_layer_2)\n",
    "model_class.build_model()\n",
    "history = model_class.train(BATCH_SIZE, EPOCHS, X_train, Y_train, X_test, Y_test)"
   ]
  },
  {
   "cell_type": "code",
   "execution_count": null,
   "id": "p9iBkh3A9c6N",
   "metadata": {
    "colab": {
     "base_uri": "https://localhost:8080/"
    },
    "executionInfo": {
     "elapsed": 12988,
     "status": "ok",
     "timestamp": 1681315104231,
     "user": {
      "displayName": "Aadil Iliyas Zikre",
      "userId": "11139065713760395341"
     },
     "user_tz": 240
    },
    "id": "p9iBkh3A9c6N",
    "outputId": "a6337b40-46eb-412f-ea23-ed37763358ea"
   },
   "outputs": [
    {
     "name": "stderr",
     "output_type": "stream",
     "text": [
      "WARNING:absl:Found untraced functions such as lstm_cell_1_layer_call_fn, lstm_cell_1_layer_call_and_return_conditional_losses, lstm_cell_2_layer_call_fn, lstm_cell_2_layer_call_and_return_conditional_losses while saving (showing 4 of 4). These functions will not be directly callable after loading.\n"
     ]
    }
   ],
   "source": [
    "model_class.save_model()"
   ]
  },
  {
   "cell_type": "code",
   "execution_count": null,
   "id": "XMWh4i9u9c6N",
   "metadata": {
    "colab": {
     "base_uri": "https://localhost:8080/"
    },
    "executionInfo": {
     "elapsed": 23,
     "status": "ok",
     "timestamp": 1681315104232,
     "user": {
      "displayName": "Aadil Iliyas Zikre",
      "userId": "11139065713760395341"
     },
     "user_tz": 240
    },
    "id": "XMWh4i9u9c6N",
    "outputId": "6f24e33d-7a82-45a1-fc2c-16820ac0823f"
   },
   "outputs": [
    {
     "name": "stdout",
     "output_type": "stream",
     "text": [
      "{'verbose': 1, 'epochs': 5, 'steps': 172}\n",
      "Last Layer Training Accuracy : 83.11%\n",
      "Last Layer Validation Accuracy : 80.87%\n"
     ]
    }
   ],
   "source": [
    "print(history.params)\n",
    "print(f\"Last Layer Training Accuracy : {history.history['accuracy'][-1]:.2%}\")\n",
    "print(f\"Last Layer Validation Accuracy : {history.history['val_accuracy'][-1]:.2%}\")"
   ]
  },
  {
   "cell_type": "markdown",
   "id": "d11MkuS69d_A",
   "metadata": {
    "id": "d11MkuS69d_A"
   },
   "source": [
    "## EXPT 6 : no dropouts in dense layers\n",
    "EMBEDDINGS : BERT </br>\n",
    "COLUMN : TWEETS W/O Lemmatization W/O Stop Word Removal"
   ]
  },
  {
   "cell_type": "code",
   "execution_count": null,
   "id": "wd_N5-NV9d_B",
   "metadata": {
    "id": "wd_N5-NV9d_B"
   },
   "outputs": [],
   "source": [
    "df = df_train\n",
    "col = 'clean_tweets_no_lm_no_sw'\n",
    "MODEL_MAX_LENGTH = 32\n",
    "DEVICE = torch.device('cuda' if torch.cuda.is_available() else 'cpu')\n",
    "BATCH_SIZE = 64\n",
    "random_state = 12345\n",
    "TEST_SIZE = 0.25"
   ]
  },
  {
   "cell_type": "code",
   "execution_count": null,
   "id": "-IF70i-T9d_C",
   "metadata": {
    "colab": {
     "base_uri": "https://localhost:8080/",
     "referenced_widgets": [
      "e10f7338e460434c97fe2e10dfd0c88a",
      "30d9aa6695ba4915b03f3d018884a535",
      "b76450605ba5430c8685fa99b05e3888",
      "8ec85bb1e9144e4aaaec788734a06df8",
      "96660d16c30243b8b9e29f2ec6c4f6bb",
      "7af1c4ecfc3e4b4cb44d07cbbda74537",
      "eab22ac2098a40ba9b9f049888f13db2",
      "4793b9e7c486460e9315806f72def081",
      "b0fd92a0ddeb49b59aced132753b3c84",
      "f02284552c704834aff1f6a64d348f29",
      "7f61ef01a48c4ba2b50a35567e64742a"
     ]
    },
    "executionInfo": {
     "elapsed": 31772,
     "status": "ok",
     "timestamp": 1681315298630,
     "user": {
      "displayName": "Aadil Iliyas Zikre",
      "userId": "11139065713760395341"
     },
     "user_tz": 240
    },
    "id": "-IF70i-T9d_C",
    "outputId": "4e5e5971-5861-429b-c0a6-5940b932dc37"
   },
   "outputs": [
    {
     "name": "stderr",
     "output_type": "stream",
     "text": [
      "Some weights of the model checkpoint at bert-base-uncased were not used when initializing BertModel: ['cls.predictions.transform.LayerNorm.weight', 'cls.predictions.transform.LayerNorm.bias', 'cls.seq_relationship.weight', 'cls.predictions.decoder.weight', 'cls.predictions.transform.dense.weight', 'cls.predictions.bias', 'cls.seq_relationship.bias', 'cls.predictions.transform.dense.bias']\n",
      "- This IS expected if you are initializing BertModel from the checkpoint of a model trained on another task or with another architecture (e.g. initializing a BertForSequenceClassification model from a BertForPreTraining model).\n",
      "- This IS NOT expected if you are initializing BertModel from the checkpoint of a model that you expect to be exactly identical (initializing a BertForSequenceClassification model from a BertForSequenceClassification model).\n"
     ]
    },
    {
     "data": {
      "application/vnd.jupyter.widget-view+json": {
       "model_id": "e10f7338e460434c97fe2e10dfd0c88a",
       "version_major": 2,
       "version_minor": 0
      },
      "text/plain": [
       "  0%|          | 0/229 [00:00<?, ?it/s]"
      ]
     },
     "metadata": {},
     "output_type": "display_data"
    }
   ],
   "source": [
    "from embeddings import BertProcessor\n",
    "\n",
    "emb_proc = BertProcessor(df, col, MODEL_MAX_LENGTH, DEVICE, BATCH_SIZE, random_state)\n",
    "X_train, X_test, Y_train, Y_test = emb_proc.get_training_XY(test_size = TEST_SIZE)"
   ]
  },
  {
   "cell_type": "code",
   "execution_count": null,
   "id": "ezHzDilY9d_C",
   "metadata": {
    "id": "ezHzDilY9d_C"
   },
   "outputs": [],
   "source": [
    "lstm_output = 64\n",
    "MODEL_MAX_LENGTH = MODEL_MAX_LENGTH\n",
    "EMBEDDING_SIZE = 768 # (Constant for Bert)\n",
    "n_classes = 3\n",
    "\n",
    "BATCH_SIZE = 64\n",
    "EPOCHS = 5\n",
    "X_train, X_test, Y_train, Y_test = X_train, X_test, Y_train, Y_test\n",
    "\n",
    "dp_lstm = 0.2\n",
    "dp_layer_1 = 0 # setting these to 0 will remove dropout layer (by my class design)\n",
    "dp_layer_2 = 0 # see models.py for more clarity\n",
    "\n",
    "model_name = f\"bert_model_{EPOCHS}_{BATCH_SIZE}_{dp_layer_1*100}_{dp_layer_2*100}\"\n",
    "# save_dir"
   ]
  },
  {
   "cell_type": "code",
   "execution_count": null,
   "id": "tvywHBJO9d_C",
   "metadata": {
    "colab": {
     "base_uri": "https://localhost:8080/"
    },
    "executionInfo": {
     "elapsed": 20479,
     "status": "ok",
     "timestamp": 1681315319089,
     "user": {
      "displayName": "Aadil Iliyas Zikre",
      "userId": "11139065713760395341"
     },
     "user_tz": 240
    },
    "id": "tvywHBJO9d_C",
    "outputId": "ac7bcf47-639d-4f7b-a7a4-d9b7810f0837"
   },
   "outputs": [
    {
     "name": "stdout",
     "output_type": "stream",
     "text": [
      "Model: \"sequential\"\n",
      "_________________________________________________________________\n",
      " Layer (type)                Output Shape              Param #   \n",
      "=================================================================\n",
      " bidirectional (Bidirectiona  (None, 128)              426496    \n",
      " l)                                                              \n",
      "                                                                 \n",
      " dense (Dense)               (None, 128)               16512     \n",
      "                                                                 \n",
      " dense_1 (Dense)             (None, 64)                8256      \n",
      "                                                                 \n",
      " dense_2 (Dense)             (None, 3)                 195       \n",
      "                                                                 \n",
      "=================================================================\n",
      "Total params: 451,459\n",
      "Trainable params: 451,459\n",
      "Non-trainable params: 0\n",
      "_________________________________________________________________\n",
      "Epoch 1/5\n",
      "172/172 [==============================] - 9s 27ms/step - loss: 0.6053 - accuracy: 0.7516 - val_loss: 0.5129 - val_accuracy: 0.7984\n",
      "Epoch 2/5\n",
      "172/172 [==============================] - 2s 13ms/step - loss: 0.4826 - accuracy: 0.8099 - val_loss: 0.4963 - val_accuracy: 0.8087\n",
      "Epoch 3/5\n",
      "172/172 [==============================] - 2s 12ms/step - loss: 0.4458 - accuracy: 0.8260 - val_loss: 0.4846 - val_accuracy: 0.8126\n",
      "Epoch 4/5\n",
      "172/172 [==============================] - 2s 14ms/step - loss: 0.4167 - accuracy: 0.8392 - val_loss: 0.5147 - val_accuracy: 0.8077\n",
      "Epoch 5/5\n",
      "172/172 [==============================] - 2s 12ms/step - loss: 0.3815 - accuracy: 0.8501 - val_loss: 0.5179 - val_accuracy: 0.7923\n"
     ]
    }
   ],
   "source": [
    "from models import BiLSTM\n",
    "model_class = BiLSTM(lstm_output, MODEL_MAX_LENGTH, EMBEDDING_SIZE, n_classes, model_name,\n",
    "                     dp_lstm=dp_lstm, dp_layer_1=dp_layer_1, dp_layer_2=dp_layer_2)\n",
    "model_class.build_model()\n",
    "history = model_class.train(BATCH_SIZE, EPOCHS, X_train, Y_train, X_test, Y_test)"
   ]
  },
  {
   "cell_type": "code",
   "execution_count": null,
   "id": "8EJ-S9Bw9d_D",
   "metadata": {
    "colab": {
     "base_uri": "https://localhost:8080/"
    },
    "executionInfo": {
     "elapsed": 13301,
     "status": "ok",
     "timestamp": 1681315332371,
     "user": {
      "displayName": "Aadil Iliyas Zikre",
      "userId": "11139065713760395341"
     },
     "user_tz": 240
    },
    "id": "8EJ-S9Bw9d_D",
    "outputId": "68684846-068b-4148-a61a-a0ec9efda294"
   },
   "outputs": [
    {
     "name": "stderr",
     "output_type": "stream",
     "text": [
      "WARNING:absl:Found untraced functions such as lstm_cell_1_layer_call_fn, lstm_cell_1_layer_call_and_return_conditional_losses, lstm_cell_2_layer_call_fn, lstm_cell_2_layer_call_and_return_conditional_losses while saving (showing 4 of 4). These functions will not be directly callable after loading.\n"
     ]
    }
   ],
   "source": [
    "model_class.save_model()"
   ]
  },
  {
   "cell_type": "code",
   "execution_count": null,
   "id": "7kybX4P-9d_D",
   "metadata": {
    "colab": {
     "base_uri": "https://localhost:8080/"
    },
    "executionInfo": {
     "elapsed": 23,
     "status": "ok",
     "timestamp": 1681315332372,
     "user": {
      "displayName": "Aadil Iliyas Zikre",
      "userId": "11139065713760395341"
     },
     "user_tz": 240
    },
    "id": "7kybX4P-9d_D",
    "outputId": "b780a2b4-f214-4de5-9b90-f0d80a1d2f57"
   },
   "outputs": [
    {
     "name": "stdout",
     "output_type": "stream",
     "text": [
      "{'verbose': 1, 'epochs': 5, 'steps': 172}\n",
      "Last Layer Training Accuracy : 85.01%\n",
      "Last Layer Validation Accuracy : 79.23%\n"
     ]
    }
   ],
   "source": [
    "print(history.params)\n",
    "print(f\"Last Layer Training Accuracy : {history.history['accuracy'][-1]:.2%}\")\n",
    "print(f\"Last Layer Validation Accuracy : {history.history['val_accuracy'][-1]:.2%}\")"
   ]
  },
  {
   "cell_type": "markdown",
   "id": "8E2BKztyNg-_",
   "metadata": {
    "id": "8E2BKztyNg-_"
   },
   "source": [
    "## EXPT 7 : 100% dropout in both dense layers (For baseline Accuracy)\n",
    "EMBEDDINGS : BERT </br>\n",
    "COLUMN : TWEETS W/O Lemmatization W/O Stop Word Removal"
   ]
  },
  {
   "cell_type": "code",
   "execution_count": null,
   "id": "o8FH69PDNqfK",
   "metadata": {
    "id": "o8FH69PDNqfK"
   },
   "outputs": [],
   "source": [
    "df = df_train\n",
    "col = 'clean_tweets_no_lm_no_sw'\n",
    "MODEL_MAX_LENGTH = 32\n",
    "DEVICE = torch.device('cuda' if torch.cuda.is_available() else 'cpu')\n",
    "BATCH_SIZE = 64\n",
    "random_state = 12345\n",
    "TEST_SIZE = 0.25"
   ]
  },
  {
   "cell_type": "code",
   "execution_count": null,
   "id": "i2FjC_MbNqfL",
   "metadata": {
    "colab": {
     "base_uri": "https://localhost:8080/",
     "height": 121,
     "referenced_widgets": [
      "ca31a42a468c4f008cee9529f754063d",
      "a7c962ec84734a60984109cd6aa378c6",
      "016128a3ece9477eb65be21a2794871e",
      "14c0baf553284baeab13101ab9062cee",
      "d3d5ec705ba74c5796b6a07d8c6fdb0a",
      "f8638163152f4d1681382a52538fca44",
      "4e1e4d293b7b4a938c50a773be4444e7",
      "c9608d034e134bbabfcd6a5a33856591",
      "b2186a5a98a9415c90d287b9e48c066c",
      "0f2e34aff32a45c8ab09d8589f1ced71",
      "7b366df981d749fba483572fd60d3deb"
     ]
    },
    "executionInfo": {
     "elapsed": 34329,
     "status": "ok",
     "timestamp": 1681315614964,
     "user": {
      "displayName": "Aadil Iliyas Zikre",
      "userId": "11139065713760395341"
     },
     "user_tz": 240
    },
    "id": "i2FjC_MbNqfL",
    "outputId": "44c77258-0d0c-4d6b-8266-73b5aaf27198"
   },
   "outputs": [
    {
     "name": "stderr",
     "output_type": "stream",
     "text": [
      "Some weights of the model checkpoint at bert-base-uncased were not used when initializing BertModel: ['cls.predictions.decoder.weight', 'cls.seq_relationship.bias', 'cls.predictions.transform.dense.weight', 'cls.predictions.transform.dense.bias', 'cls.predictions.bias', 'cls.predictions.transform.LayerNorm.weight', 'cls.seq_relationship.weight', 'cls.predictions.transform.LayerNorm.bias']\n",
      "- This IS expected if you are initializing BertModel from the checkpoint of a model trained on another task or with another architecture (e.g. initializing a BertForSequenceClassification model from a BertForPreTraining model).\n",
      "- This IS NOT expected if you are initializing BertModel from the checkpoint of a model that you expect to be exactly identical (initializing a BertForSequenceClassification model from a BertForSequenceClassification model).\n"
     ]
    },
    {
     "data": {
      "application/vnd.jupyter.widget-view+json": {
       "model_id": "ca31a42a468c4f008cee9529f754063d",
       "version_major": 2,
       "version_minor": 0
      },
      "text/plain": [
       "  0%|          | 0/229 [00:00<?, ?it/s]"
      ]
     },
     "metadata": {},
     "output_type": "display_data"
    }
   ],
   "source": [
    "from embeddings import BertProcessor\n",
    "\n",
    "emb_proc = BertProcessor(df, col, MODEL_MAX_LENGTH, DEVICE, BATCH_SIZE, random_state)\n",
    "X_train, X_test, Y_train, Y_test = emb_proc.get_training_XY(test_size = TEST_SIZE)"
   ]
  },
  {
   "cell_type": "code",
   "execution_count": null,
   "id": "5ltzr5umNqfL",
   "metadata": {
    "id": "5ltzr5umNqfL"
   },
   "outputs": [],
   "source": [
    "lstm_output = 64\n",
    "MODEL_MAX_LENGTH = MODEL_MAX_LENGTH\n",
    "EMBEDDING_SIZE = 768 # (Constant for Bert)\n",
    "n_classes = 3\n",
    "\n",
    "BATCH_SIZE = 64\n",
    "EPOCHS = 5\n",
    "X_train, X_test, Y_train, Y_test = X_train, X_test, Y_train, Y_test\n",
    "\n",
    "dp_lstm = 0.2\n",
    "dp_layer_1 = 0.999 # setting these to 0 will remove dropout layer (by my class design)\n",
    "dp_layer_2 = 0.999 # see models.py for more clarity\n",
    "\n",
    "model_name = f\"bert_model_{EPOCHS}_{BATCH_SIZE}_{dp_layer_1*100}_{dp_layer_2*100}\"\n",
    "# save_dir"
   ]
  },
  {
   "cell_type": "code",
   "execution_count": null,
   "id": "A3tLNYUoNqfL",
   "metadata": {
    "colab": {
     "base_uri": "https://localhost:8080/"
    },
    "executionInfo": {
     "elapsed": 27824,
     "status": "ok",
     "timestamp": 1681315697233,
     "user": {
      "displayName": "Aadil Iliyas Zikre",
      "userId": "11139065713760395341"
     },
     "user_tz": 240
    },
    "id": "A3tLNYUoNqfL",
    "outputId": "463f169c-136b-4c72-bb4a-f956913e80ec"
   },
   "outputs": [
    {
     "name": "stdout",
     "output_type": "stream",
     "text": [
      "Model: \"sequential_2\"\n",
      "_________________________________________________________________\n",
      " Layer (type)                Output Shape              Param #   \n",
      "=================================================================\n",
      " bidirectional_2 (Bidirectio  (None, 128)              426496    \n",
      " nal)                                                            \n",
      "                                                                 \n",
      " dense_6 (Dense)             (None, 128)               16512     \n",
      "                                                                 \n",
      " dropout_4 (Dropout)         (None, 128)               0         \n",
      "                                                                 \n",
      " dense_7 (Dense)             (None, 64)                8256      \n",
      "                                                                 \n",
      " dropout_5 (Dropout)         (None, 64)                0         \n",
      "                                                                 \n",
      " dense_8 (Dense)             (None, 3)                 195       \n",
      "                                                                 \n",
      "=================================================================\n",
      "Total params: 451,459\n",
      "Trainable params: 451,459\n",
      "Non-trainable params: 0\n",
      "_________________________________________________________________\n",
      "Epoch 1/5\n",
      "172/172 [==============================] - 10s 20ms/step - loss: 8.2942 - accuracy: 0.6273 - val_loss: 1.0420 - val_accuracy: 0.6210\n",
      "Epoch 2/5\n",
      "172/172 [==============================] - 2s 14ms/step - loss: 12.1497 - accuracy: 0.6275 - val_loss: 1.0120 - val_accuracy: 0.6238\n",
      "Epoch 3/5\n",
      "172/172 [==============================] - 2s 14ms/step - loss: 4.3145 - accuracy: 0.6274 - val_loss: 1.0797 - val_accuracy: 0.3235\n",
      "Epoch 4/5\n",
      "172/172 [==============================] - 3s 17ms/step - loss: 6.7289 - accuracy: 0.6275 - val_loss: 1.0867 - val_accuracy: 0.4377\n",
      "Epoch 5/5\n",
      "172/172 [==============================] - 3s 17ms/step - loss: 5.0131 - accuracy: 0.6280 - val_loss: 1.0468 - val_accuracy: 0.6167\n"
     ]
    }
   ],
   "source": [
    "from models import BiLSTM\n",
    "model_class = BiLSTM(lstm_output, MODEL_MAX_LENGTH, EMBEDDING_SIZE, n_classes, model_name,\n",
    "                     dp_lstm=dp_lstm, dp_layer_1=dp_layer_1, dp_layer_2=dp_layer_2)\n",
    "model_class.build_model()\n",
    "history = model_class.train(BATCH_SIZE, EPOCHS, X_train, Y_train, X_test, Y_test)"
   ]
  },
  {
   "cell_type": "code",
   "execution_count": null,
   "id": "hqNeXjzKNqfL",
   "metadata": {
    "colab": {
     "base_uri": "https://localhost:8080/"
    },
    "executionInfo": {
     "elapsed": 12834,
     "status": "ok",
     "timestamp": 1681315715291,
     "user": {
      "displayName": "Aadil Iliyas Zikre",
      "userId": "11139065713760395341"
     },
     "user_tz": 240
    },
    "id": "hqNeXjzKNqfL",
    "outputId": "cd4a821f-6843-4646-cee6-9157511d4199"
   },
   "outputs": [
    {
     "name": "stderr",
     "output_type": "stream",
     "text": [
      "WARNING:absl:Found untraced functions such as lstm_cell_7_layer_call_fn, lstm_cell_7_layer_call_and_return_conditional_losses, lstm_cell_8_layer_call_fn, lstm_cell_8_layer_call_and_return_conditional_losses while saving (showing 4 of 4). These functions will not be directly callable after loading.\n"
     ]
    }
   ],
   "source": [
    "model_class.save_model()"
   ]
  },
  {
   "cell_type": "code",
   "execution_count": null,
   "id": "HifJRLLxNqfL",
   "metadata": {
    "colab": {
     "base_uri": "https://localhost:8080/"
    },
    "executionInfo": {
     "elapsed": 2,
     "status": "ok",
     "timestamp": 1681315697621,
     "user": {
      "displayName": "Aadil Iliyas Zikre",
      "userId": "11139065713760395341"
     },
     "user_tz": 240
    },
    "id": "HifJRLLxNqfL",
    "outputId": "0a122a5f-c7ce-4e00-9eba-bdfb3e1b2e7d"
   },
   "outputs": [
    {
     "name": "stdout",
     "output_type": "stream",
     "text": [
      "{'verbose': 1, 'epochs': 5, 'steps': 172}\n",
      "Last Layer Training Accuracy : 62.80%\n",
      "Last Layer Validation Accuracy : 61.67%\n"
     ]
    }
   ],
   "source": [
    "print(history.params)\n",
    "print(f\"Last Layer Training Accuracy : {history.history['accuracy'][-1]:.2%}\")\n",
    "print(f\"Last Layer Validation Accuracy : {history.history['val_accuracy'][-1]:.2%}\")"
   ]
  },
  {
   "cell_type": "markdown",
   "id": "CWQv7u-Imz86",
   "metadata": {
    "id": "CWQv7u-Imz86"
   },
   "source": [
    "## NOTE ON ELMO\n",
    "Elmo embeddings are very heavy. As such I had to run it on personal pc and save the embeddings of 14000 tweets in numpy matrix and export it here. The size of matrix is about 8.4 GB for each column. As such, I will not be able to upload it in the submission artifacts."
   ]
  },
  {
   "cell_type": "markdown",
   "id": "1It8i15IZWCt",
   "metadata": {
    "id": "1It8i15IZWCt"
   },
   "source": [
    "## EXPT 8 : Elmo with 10% dropout\n",
    "EMBEDDINGS : ELMO </br>\n",
    "COLUMN : TWEETS W/ Lemmatization W/ Stop Word Removal"
   ]
  },
  {
   "cell_type": "code",
   "execution_count": null,
   "id": "bnRr9D8tZWCu",
   "metadata": {
    "id": "bnRr9D8tZWCu"
   },
   "outputs": [],
   "source": [
    "# df = df_train\n",
    "# col = 'clean_tweets'\n",
    "MODEL_MAX_LENGTH = 24\n",
    "# DEVICE = torch.device('cuda' if torch.cuda.is_available() else 'cpu')\n",
    "# BATCH_SIZE = 64\n",
    "\n",
    "from sklearn.model_selection import train_test_split\n",
    "\n",
    "random_state = 12345\n",
    "TEST_SIZE = 0.25"
   ]
  },
  {
   "cell_type": "code",
   "execution_count": null,
   "id": "ClLEAU3NZWCv",
   "metadata": {
    "colab": {
     "base_uri": "https://localhost:8080/"
    },
    "executionInfo": {
     "elapsed": 478919,
     "status": "ok",
     "timestamp": 1681439558438,
     "user": {
      "displayName": "Aadil Iliyas Zikre",
      "userId": "11139065713760395341"
     },
     "user_tz": 240
    },
    "id": "ClLEAU3NZWCv",
    "outputId": "4c85a8f5-cc1f-43e5-9bde-dfdf35b1d610"
   },
   "outputs": [
    {
     "name": "stdout",
     "output_type": "stream",
     "text": [
      "2023-04-14 02:24:40.445270 :: 0 rows done for X!!\n",
      "2023-04-14 02:25:18.773892 :: 1000 rows done for X!!\n",
      "2023-04-14 02:25:51.404257 :: 2000 rows done for X!!\n",
      "2023-04-14 02:26:21.687679 :: 3000 rows done for X!!\n",
      "2023-04-14 02:26:56.977630 :: 4000 rows done for X!!\n",
      "2023-04-14 02:27:27.732586 :: 5000 rows done for X!!\n",
      "2023-04-14 02:28:01.203114 :: 6000 rows done for X!!\n",
      "2023-04-14 02:28:32.727551 :: 7000 rows done for X!!\n",
      "2023-04-14 02:29:05.492717 :: 8000 rows done for X!!\n",
      "2023-04-14 02:29:35.530830 :: 9000 rows done for X!!\n",
      "2023-04-14 02:30:06.360666 :: 10000 rows done for X!!\n",
      "2023-04-14 02:30:38.853606 :: 11000 rows done for X!!\n",
      "2023-04-14 02:31:08.711643 :: 12000 rows done for X!!\n",
      "2023-04-14 02:31:41.783197 :: 13000 rows done for X!!\n",
      "2023-04-14 02:32:12.499315 :: 14000 rows done for X!!\n",
      "X : all done!!\n"
     ]
    }
   ],
   "source": [
    "rows_to_load = 14640\n",
    "X = np.zeros((rows_to_load,24,1024))\n",
    "with open('/content/drive/MyDrive/Personal Projects/data/Emb.txt', mode='r') as f:\n",
    "  row = 0\n",
    "  while row < rows_to_load:\n",
    "    if row%1000 == 0: print(f'{datetime.datetime.now()} :: {row} rows done for X!!')\n",
    "    X[row] = np.array(f.readline().replace('\\n','').split()).reshape(-1,1024)\n",
    "    row += 1\n",
    "print('X : all done!!')\n",
    "\n",
    "Y = pd.read_csv(\"/content/drive/MyDrive/Personal Projects/data/label.csv\", names = ['index','label'], header=0).iloc[:,1].map(sentiment_map_id).values\n",
    "Y = pd.get_dummies(Y).values\n",
    "\n",
    "X_train, X_test, Y_train, Y_test = train_test_split(X,Y, test_size=TEST_SIZE, random_state = random_state)"
   ]
  },
  {
   "cell_type": "code",
   "execution_count": null,
   "id": "uW_aD7LQZWCv",
   "metadata": {
    "id": "uW_aD7LQZWCv"
   },
   "outputs": [],
   "source": [
    "lstm_output = 64\n",
    "MODEL_MAX_LENGTH = MODEL_MAX_LENGTH\n",
    "EMBEDDING_SIZE = 1024 # (Constant for Bert)\n",
    "n_classes = 3\n",
    "\n",
    "BATCH_SIZE = 64\n",
    "EPOCHS = 5\n",
    "X_train, X_test, Y_train, Y_test = X_train, X_test, Y_train, Y_test\n",
    "\n",
    "dp_lstm = 0.2\n",
    "dp_layer_1 = 0.1 \n",
    "dp_layer_2 = 0.1 \n",
    "\n",
    "model_name = f\"bert_model_{EPOCHS}_{BATCH_SIZE}_{dp_layer_1*100}_{dp_layer_2*100}\"\n",
    "# save_dir"
   ]
  },
  {
   "cell_type": "code",
   "execution_count": null,
   "id": "bcesWReTZWCv",
   "metadata": {
    "colab": {
     "base_uri": "https://localhost:8080/"
    },
    "executionInfo": {
     "elapsed": 59830,
     "status": "ok",
     "timestamp": 1681439657980,
     "user": {
      "displayName": "Aadil Iliyas Zikre",
      "userId": "11139065713760395341"
     },
     "user_tz": 240
    },
    "id": "bcesWReTZWCv",
    "outputId": "078317b4-8f34-44b6-b4d2-6d768d19c058"
   },
   "outputs": [
    {
     "name": "stdout",
     "output_type": "stream",
     "text": [
      "Model: \"sequential\"\n",
      "_________________________________________________________________\n",
      " Layer (type)                Output Shape              Param #   \n",
      "=================================================================\n",
      " bidirectional (Bidirectiona  (None, 128)              557568    \n",
      " l)                                                              \n",
      "                                                                 \n",
      " dense (Dense)               (None, 128)               16512     \n",
      "                                                                 \n",
      " dropout (Dropout)           (None, 128)               0         \n",
      "                                                                 \n",
      " dense_1 (Dense)             (None, 64)                8256      \n",
      "                                                                 \n",
      " dropout_1 (Dropout)         (None, 64)                0         \n",
      "                                                                 \n",
      " dense_2 (Dense)             (None, 3)                 195       \n",
      "                                                                 \n",
      "=================================================================\n",
      "Total params: 582,531\n",
      "Trainable params: 582,531\n",
      "Non-trainable params: 0\n",
      "_________________________________________________________________\n",
      "Epoch 1/5\n",
      "172/172 [==============================] - 23s 54ms/step - loss: 0.6648 - accuracy: 0.7247 - val_loss: 0.5620 - val_accuracy: 0.7716\n",
      "Epoch 2/5\n",
      "172/172 [==============================] - 3s 17ms/step - loss: 0.5261 - accuracy: 0.7820 - val_loss: 0.5404 - val_accuracy: 0.7833\n",
      "Epoch 3/5\n",
      "172/172 [==============================] - 3s 17ms/step - loss: 0.4671 - accuracy: 0.8107 - val_loss: 0.5610 - val_accuracy: 0.7713\n",
      "Epoch 4/5\n",
      "172/172 [==============================] - 3s 17ms/step - loss: 0.4206 - accuracy: 0.8322 - val_loss: 0.5550 - val_accuracy: 0.7844\n",
      "Epoch 5/5\n",
      "172/172 [==============================] - 4s 25ms/step - loss: 0.3648 - accuracy: 0.8578 - val_loss: 0.5888 - val_accuracy: 0.7773\n"
     ]
    }
   ],
   "source": [
    "from models import BiLSTM\n",
    "model_class = BiLSTM(lstm_output, MODEL_MAX_LENGTH, EMBEDDING_SIZE, n_classes, model_name,\n",
    "                     dp_lstm=dp_lstm, dp_layer_1=dp_layer_1, dp_layer_2=dp_layer_2)\n",
    "model_class.build_model()\n",
    "history = model_class.train(BATCH_SIZE, EPOCHS, X_train, Y_train, X_test, Y_test)"
   ]
  },
  {
   "cell_type": "code",
   "execution_count": null,
   "id": "sWh-4MjnZWCw",
   "metadata": {
    "colab": {
     "base_uri": "https://localhost:8080/"
    },
    "executionInfo": {
     "elapsed": 16568,
     "status": "ok",
     "timestamp": 1681439683822,
     "user": {
      "displayName": "Aadil Iliyas Zikre",
      "userId": "11139065713760395341"
     },
     "user_tz": 240
    },
    "id": "sWh-4MjnZWCw",
    "outputId": "5ba7079a-8dcf-4095-d7a8-50e740c9b3ca"
   },
   "outputs": [
    {
     "name": "stderr",
     "output_type": "stream",
     "text": [
      "WARNING:absl:Found untraced functions such as lstm_cell_1_layer_call_fn, lstm_cell_1_layer_call_and_return_conditional_losses, lstm_cell_2_layer_call_fn, lstm_cell_2_layer_call_and_return_conditional_losses while saving (showing 4 of 4). These functions will not be directly callable after loading.\n"
     ]
    }
   ],
   "source": [
    "model_class.save_model()"
   ]
  },
  {
   "cell_type": "code",
   "execution_count": null,
   "id": "qmVfjIyEZWCw",
   "metadata": {
    "colab": {
     "base_uri": "https://localhost:8080/"
    },
    "executionInfo": {
     "elapsed": 2,
     "status": "ok",
     "timestamp": 1681315697621,
     "user": {
      "displayName": "Aadil Iliyas Zikre",
      "userId": "11139065713760395341"
     },
     "user_tz": 240
    },
    "id": "qmVfjIyEZWCw",
    "outputId": "0a122a5f-c7ce-4e00-9eba-bdfb3e1b2e7d"
   },
   "outputs": [
    {
     "name": "stdout",
     "output_type": "stream",
     "text": [
      "{'verbose': 1, 'epochs': 5, 'steps': 172}\n",
      "Last Layer Training Accuracy : 62.80%\n",
      "Last Layer Validation Accuracy : 61.67%\n"
     ]
    }
   ],
   "source": [
    "print(history.params)\n",
    "print(f\"Last Layer Training Accuracy : {history.history['accuracy'][-1]:.2%}\")\n",
    "print(f\"Last Layer Validation Accuracy : {history.history['val_accuracy'][-1]:.2%}\")"
   ]
  },
  {
   "cell_type": "markdown",
   "id": "kXRkbAy1Y19w",
   "metadata": {
    "id": "kXRkbAy1Y19w"
   },
   "source": [
    "## EXPT 9 : Elmo with 50% and 10% dropout\n",
    "EMBEDDINGS : ELMO </br>\n",
    "COLUMN : TWEETS W Lemmatization W Stop Word Removal"
   ]
  },
  {
   "cell_type": "code",
   "execution_count": null,
   "id": "rZq28acHY19x",
   "metadata": {
    "id": "rZq28acHY19x"
   },
   "outputs": [],
   "source": [
    "# df = df_train\n",
    "# col = 'clean_tweets'\n",
    "MODEL_MAX_LENGTH = 24\n",
    "# DEVICE = torch.device('cuda' if torch.cuda.is_available() else 'cpu')\n",
    "# BATCH_SIZE = 64\n",
    "\n",
    "from sklearn.model_selection import train_test_split\n",
    "\n",
    "random_state = 12345\n",
    "TEST_SIZE = 0.25"
   ]
  },
  {
   "cell_type": "code",
   "execution_count": null,
   "id": "KZYYHi_zY19x",
   "metadata": {
    "colab": {
     "base_uri": "https://localhost:8080/"
    },
    "executionInfo": {
     "elapsed": 431484,
     "status": "ok",
     "timestamp": 1681486974505,
     "user": {
      "displayName": "Aadil Iliyas Zikre",
      "userId": "11139065713760395341"
     },
     "user_tz": 240
    },
    "id": "KZYYHi_zY19x",
    "outputId": "35f336dd-fe73-415d-c3d1-f816748858e3"
   },
   "outputs": [
    {
     "name": "stdout",
     "output_type": "stream",
     "text": [
      "2023-04-14 15:35:43.019495 :: 0 rows done for X!!\n",
      "2023-04-14 15:36:19.804270 :: 1000 rows done for X!!\n",
      "2023-04-14 15:36:49.329542 :: 2000 rows done for X!!\n",
      "2023-04-14 15:37:18.762537 :: 3000 rows done for X!!\n",
      "2023-04-14 15:37:48.599285 :: 4000 rows done for X!!\n",
      "2023-04-14 15:38:15.829480 :: 5000 rows done for X!!\n",
      "2023-04-14 15:38:44.482244 :: 6000 rows done for X!!\n",
      "2023-04-14 15:39:14.561211 :: 7000 rows done for X!!\n",
      "2023-04-14 15:39:42.726065 :: 8000 rows done for X!!\n",
      "2023-04-14 15:40:08.848908 :: 9000 rows done for X!!\n",
      "2023-04-14 15:40:36.590351 :: 10000 rows done for X!!\n",
      "2023-04-14 15:41:07.094387 :: 11000 rows done for X!!\n",
      "2023-04-14 15:41:36.003195 :: 12000 rows done for X!!\n",
      "2023-04-14 15:42:01.206517 :: 13000 rows done for X!!\n",
      "2023-04-14 15:42:31.871659 :: 14000 rows done for X!!\n",
      "X : all done!!\n"
     ]
    }
   ],
   "source": [
    "rows_to_load = 14640\n",
    "X = np.zeros((rows_to_load,24,1024))\n",
    "with open('/content/drive/MyDrive/Personal Projects/data/Emb.txt', mode='r') as f:\n",
    "  row = 0\n",
    "  while row < rows_to_load:\n",
    "    if row%1000 == 0: print(f'{datetime.datetime.now()} :: {row} rows done for X!!')\n",
    "    X[row] = np.array(f.readline().replace('\\n','').split()).reshape(-1,1024)\n",
    "    row += 1\n",
    "print('X : all done!!')\n",
    "\n",
    "Y = pd.read_csv(\"/content/drive/MyDrive/Personal Projects/data/label.csv\", names = ['index','label'], header=0).iloc[:,1].map(sentiment_map_id).values\n",
    "Y = pd.get_dummies(Y).values\n",
    "\n",
    "X_train, X_test, Y_train, Y_test = train_test_split(X,Y, test_size=TEST_SIZE, random_state = random_state)"
   ]
  },
  {
   "cell_type": "code",
   "execution_count": null,
   "id": "Me71eyt0Y19x",
   "metadata": {
    "id": "Me71eyt0Y19x"
   },
   "outputs": [],
   "source": [
    "lstm_output = 64\n",
    "MODEL_MAX_LENGTH = MODEL_MAX_LENGTH\n",
    "EMBEDDING_SIZE = 1024 # (Constant for Elmo)\n",
    "n_classes = 3\n",
    "\n",
    "BATCH_SIZE = 64\n",
    "EPOCHS = 5\n",
    "X_train, X_test, Y_train, Y_test = X_train, X_test, Y_train, Y_test\n",
    "\n",
    "dp_lstm = 0.2\n",
    "dp_layer_1 = 0.5 \n",
    "dp_layer_2 = 0.1 \n",
    "\n",
    "model_name = f\"elmo_model_{EPOCHS}_{BATCH_SIZE}_{dp_layer_1*100}_{dp_layer_2*100}\"\n",
    "save_dir = '/content/drive/MyDrive/Syracuse University/IST 664 Natural Language Processing/Assignment 3/models'"
   ]
  },
  {
   "cell_type": "code",
   "execution_count": null,
   "id": "o8T4O2zXY19x",
   "metadata": {
    "colab": {
     "base_uri": "https://localhost:8080/"
    },
    "executionInfo": {
     "elapsed": 36370,
     "status": "ok",
     "timestamp": 1681487537109,
     "user": {
      "displayName": "Aadil Iliyas Zikre",
      "userId": "11139065713760395341"
     },
     "user_tz": 240
    },
    "id": "o8T4O2zXY19x",
    "outputId": "9048b269-8817-4787-a447-4cd2aecac22e"
   },
   "outputs": [
    {
     "name": "stdout",
     "output_type": "stream",
     "text": [
      "Model: \"sequential\"\n",
      "_________________________________________________________________\n",
      " Layer (type)                Output Shape              Param #   \n",
      "=================================================================\n",
      " bidirectional (Bidirectiona  (None, 128)              557568    \n",
      " l)                                                              \n",
      "                                                                 \n",
      " dense (Dense)               (None, 128)               16512     \n",
      "                                                                 \n",
      " dropout (Dropout)           (None, 128)               0         \n",
      "                                                                 \n",
      " dense_1 (Dense)             (None, 64)                8256      \n",
      "                                                                 \n",
      " dropout_1 (Dropout)         (None, 64)                0         \n",
      "                                                                 \n",
      " dense_2 (Dense)             (None, 3)                 195       \n",
      "                                                                 \n",
      "=================================================================\n",
      "Total params: 582,531\n",
      "Trainable params: 582,531\n",
      "Non-trainable params: 0\n",
      "_________________________________________________________________\n",
      "Epoch 1/5\n",
      "172/172 [==============================] - 17s 32ms/step - loss: 0.6881 - accuracy: 0.7165 - val_loss: 0.5814 - val_accuracy: 0.7631\n",
      "Epoch 2/5\n",
      "172/172 [==============================] - 3s 15ms/step - loss: 0.5556 - accuracy: 0.7794 - val_loss: 0.5599 - val_accuracy: 0.7765\n",
      "Epoch 3/5\n",
      "172/172 [==============================] - 3s 19ms/step - loss: 0.5057 - accuracy: 0.8011 - val_loss: 0.5416 - val_accuracy: 0.7790\n",
      "Epoch 4/5\n",
      "172/172 [==============================] - 3s 18ms/step - loss: 0.4480 - accuracy: 0.8217 - val_loss: 0.5609 - val_accuracy: 0.7831\n",
      "Epoch 5/5\n",
      "172/172 [==============================] - 3s 17ms/step - loss: 0.4039 - accuracy: 0.8411 - val_loss: 0.5583 - val_accuracy: 0.7844\n"
     ]
    }
   ],
   "source": [
    "from models import BiLSTM\n",
    "model_class = BiLSTM(lstm_output, MODEL_MAX_LENGTH, EMBEDDING_SIZE, n_classes, model_name,\n",
    "                     dp_lstm=dp_lstm, dp_layer_1=dp_layer_1, dp_layer_2=dp_layer_2)\n",
    "model_class.build_model()\n",
    "history = model_class.train(BATCH_SIZE, EPOCHS, X_train, Y_train, X_test, Y_test)"
   ]
  },
  {
   "cell_type": "code",
   "execution_count": null,
   "id": "vb8fC1B4Y19y",
   "metadata": {
    "colab": {
     "base_uri": "https://localhost:8080/"
    },
    "executionInfo": {
     "elapsed": 14825,
     "status": "ok",
     "timestamp": 1681487877121,
     "user": {
      "displayName": "Aadil Iliyas Zikre",
      "userId": "11139065713760395341"
     },
     "user_tz": 240
    },
    "id": "vb8fC1B4Y19y",
    "outputId": "4ace305a-591c-4316-ba34-c71a28d09ede"
   },
   "outputs": [
    {
     "name": "stderr",
     "output_type": "stream",
     "text": [
      "WARNING:absl:Found untraced functions such as lstm_cell_1_layer_call_fn, lstm_cell_1_layer_call_and_return_conditional_losses, lstm_cell_2_layer_call_fn, lstm_cell_2_layer_call_and_return_conditional_losses while saving (showing 4 of 4). These functions will not be directly callable after loading.\n"
     ]
    }
   ],
   "source": [
    "model_class.save_model()"
   ]
  },
  {
   "cell_type": "code",
   "execution_count": null,
   "id": "Bo6kjMyFY19y",
   "metadata": {
    "colab": {
     "base_uri": "https://localhost:8080/"
    },
    "executionInfo": {
     "elapsed": 21,
     "status": "ok",
     "timestamp": 1681487571746,
     "user": {
      "displayName": "Aadil Iliyas Zikre",
      "userId": "11139065713760395341"
     },
     "user_tz": 240
    },
    "id": "Bo6kjMyFY19y",
    "outputId": "cf34e800-3406-4cc7-db6e-2903149217d8"
   },
   "outputs": [
    {
     "name": "stdout",
     "output_type": "stream",
     "text": [
      "{'verbose': 1, 'epochs': 5, 'steps': 172}\n",
      "Last Layer Training Accuracy : 84.11%\n",
      "Last Layer Validation Accuracy : 78.44%\n"
     ]
    }
   ],
   "source": [
    "print(history.params)\n",
    "print(f\"Last Layer Training Accuracy : {history.history['accuracy'][-1]:.2%}\")\n",
    "print(f\"Last Layer Validation Accuracy : {history.history['val_accuracy'][-1]:.2%}\")"
   ]
  },
  {
   "cell_type": "markdown",
   "id": "-tX_ZQPdpwqO",
   "metadata": {
    "id": "-tX_ZQPdpwqO"
   },
   "source": [
    "## EXPT 10 : Elmo with 50% and 10% dropout on text with no lem and no sw\n",
    "EMBEDDINGS : ELMO </br>\n",
    "COLUMN : TWEETS W/O Lemmatization W/O Stop Word Removal"
   ]
  },
  {
   "cell_type": "code",
   "execution_count": null,
   "id": "fsrvVzbvpwqP",
   "metadata": {
    "id": "fsrvVzbvpwqP"
   },
   "outputs": [],
   "source": [
    "# df = df_train\n",
    "# col = 'clean_tweets_no_lm_no_sw'\n",
    "MODEL_MAX_LENGTH = 24\n",
    "# DEVICE = torch.device('cuda' if torch.cuda.is_available() else 'cpu')\n",
    "# BATCH_SIZE = 64\n",
    "\n",
    "from sklearn.model_selection import train_test_split\n",
    "\n",
    "random_state = 12345\n",
    "TEST_SIZE = 0.25"
   ]
  },
  {
   "cell_type": "code",
   "execution_count": null,
   "id": "ODJmNq-qpwqP",
   "metadata": {
    "colab": {
     "base_uri": "https://localhost:8080/"
    },
    "executionInfo": {
     "elapsed": 413277,
     "status": "ok",
     "timestamp": 1681577220574,
     "user": {
      "displayName": "Aadil Iliyas Zikre",
      "userId": "11139065713760395341"
     },
     "user_tz": 240
    },
    "id": "ODJmNq-qpwqP",
    "outputId": "a882ce91-034d-4e45-a2fe-31bbbe5363c9"
   },
   "outputs": [
    {
     "name": "stdout",
     "output_type": "stream",
     "text": [
      "2023-04-15 16:40:07.632466 :: 0 rows done for X!!\n",
      "2023-04-15 16:40:42.965304 :: 1000 rows done for X!!\n",
      "2023-04-15 16:41:11.140692 :: 2000 rows done for X!!\n",
      "2023-04-15 16:41:41.077638 :: 3000 rows done for X!!\n",
      "2023-04-15 16:42:08.977002 :: 4000 rows done for X!!\n",
      "2023-04-15 16:42:35.620115 :: 5000 rows done for X!!\n",
      "2023-04-15 16:43:03.773311 :: 6000 rows done for X!!\n",
      "2023-04-15 16:43:29.835843 :: 7000 rows done for X!!\n",
      "2023-04-15 16:43:57.196737 :: 8000 rows done for X!!\n",
      "2023-04-15 16:44:26.339160 :: 9000 rows done for X!!\n",
      "2023-04-15 16:44:52.741904 :: 10000 rows done for X!!\n",
      "2023-04-15 16:45:17.577050 :: 11000 rows done for X!!\n",
      "2023-04-15 16:45:44.811091 :: 12000 rows done for X!!\n",
      "2023-04-15 16:46:14.037544 :: 13000 rows done for X!!\n",
      "2023-04-15 16:46:41.540300 :: 14000 rows done for X!!\n",
      "X : all done!!\n"
     ]
    }
   ],
   "source": [
    "rows_to_load = 14640\n",
    "X = np.zeros((rows_to_load,24,1024))\n",
    "with open('/content/drive/MyDrive/Personal Projects/data/ELMO_no_lm_no_sw_trunc.txt', mode='r') as f:\n",
    "  row = 0\n",
    "  while row < rows_to_load:\n",
    "    if row%1000 == 0: print(f'{datetime.datetime.now()} :: {row} rows done for X!!')\n",
    "    X[row] = np.array(f.readline().replace('\\n','').split()).reshape(-1,1024)\n",
    "    row += 1\n",
    "print('X : all done!!')\n",
    "\n",
    "Y = pd.read_csv(\"/content/drive/MyDrive/Personal Projects/data/label_trunc.csv\", names = ['index','label'], header=0).iloc[:,1].map(sentiment_map_id).values\n",
    "Y = pd.get_dummies(Y).values\n",
    "\n",
    "X_train, X_test, Y_train, Y_test = train_test_split(X,Y, test_size=TEST_SIZE, random_state = random_state)"
   ]
  },
  {
   "cell_type": "code",
   "execution_count": null,
   "id": "af-fYt5UpwqP",
   "metadata": {
    "id": "af-fYt5UpwqP"
   },
   "outputs": [],
   "source": [
    "lstm_output = 64\n",
    "MODEL_MAX_LENGTH = MODEL_MAX_LENGTH\n",
    "EMBEDDING_SIZE = 1024 # (Constant for Elmo)\n",
    "n_classes = 3\n",
    "\n",
    "BATCH_SIZE = 64\n",
    "EPOCHS = 5\n",
    "X_train, X_test, Y_train, Y_test = X_train, X_test, Y_train, Y_test\n",
    "\n",
    "dp_lstm = 0.2\n",
    "dp_layer_1 = 0.5 \n",
    "dp_layer_2 = 0.1 \n",
    "\n",
    "model_name = f\"elmo_model_{EPOCHS}_{BATCH_SIZE}_{dp_layer_1*100}_{dp_layer_2*100}\"\n",
    "save_dir = '/content/drive/MyDrive/Syracuse University/IST 664 Natural Language Processing/Assignment 3/models'"
   ]
  },
  {
   "cell_type": "code",
   "execution_count": null,
   "id": "IlyoSwb-pwqP",
   "metadata": {
    "colab": {
     "base_uri": "https://localhost:8080/"
    },
    "executionInfo": {
     "elapsed": 36959,
     "status": "ok",
     "timestamp": 1681577389479,
     "user": {
      "displayName": "Aadil Iliyas Zikre",
      "userId": "11139065713760395341"
     },
     "user_tz": 240
    },
    "id": "IlyoSwb-pwqP",
    "outputId": "ea0d83ff-5e73-4fbc-fd2e-b4bc54df887f"
   },
   "outputs": [
    {
     "name": "stdout",
     "output_type": "stream",
     "text": [
      "Model: \"sequential\"\n",
      "_________________________________________________________________\n",
      " Layer (type)                Output Shape              Param #   \n",
      "=================================================================\n",
      " bidirectional (Bidirectiona  (None, 128)              557568    \n",
      " l)                                                              \n",
      "                                                                 \n",
      " dense (Dense)               (None, 128)               16512     \n",
      "                                                                 \n",
      " dropout (Dropout)           (None, 128)               0         \n",
      "                                                                 \n",
      " dense_1 (Dense)             (None, 64)                8256      \n",
      "                                                                 \n",
      " dropout_1 (Dropout)         (None, 64)                0         \n",
      "                                                                 \n",
      " dense_2 (Dense)             (None, 3)                 195       \n",
      "                                                                 \n",
      "=================================================================\n",
      "Total params: 582,531\n",
      "Trainable params: 582,531\n",
      "Non-trainable params: 0\n",
      "_________________________________________________________________\n",
      "Epoch 1/5\n",
      "172/172 [==============================] - 14s 28ms/step - loss: 0.6601 - accuracy: 0.7224 - val_loss: 0.5236 - val_accuracy: 0.7915\n",
      "Epoch 2/5\n",
      "172/172 [==============================] - 2s 13ms/step - loss: 0.4978 - accuracy: 0.8024 - val_loss: 0.5032 - val_accuracy: 0.8016\n",
      "Epoch 3/5\n",
      "172/172 [==============================] - 3s 15ms/step - loss: 0.4359 - accuracy: 0.8297 - val_loss: 0.4854 - val_accuracy: 0.8101\n",
      "Epoch 4/5\n",
      "172/172 [==============================] - 3s 17ms/step - loss: 0.3874 - accuracy: 0.8514 - val_loss: 0.5022 - val_accuracy: 0.8153\n",
      "Epoch 5/5\n",
      "172/172 [==============================] - 3s 17ms/step - loss: 0.3237 - accuracy: 0.8779 - val_loss: 0.5174 - val_accuracy: 0.8030\n"
     ]
    }
   ],
   "source": [
    "from models import BiLSTM\n",
    "model_class = BiLSTM(lstm_output, MODEL_MAX_LENGTH, EMBEDDING_SIZE, n_classes, model_name,\n",
    "                     dp_lstm=dp_lstm, dp_layer_1=dp_layer_1, dp_layer_2=dp_layer_2)\n",
    "model_class.build_model()\n",
    "history = model_class.train(BATCH_SIZE, EPOCHS, X_train, Y_train, X_test, Y_test)"
   ]
  },
  {
   "cell_type": "code",
   "execution_count": null,
   "id": "YQjFrS_1pwqP",
   "metadata": {
    "colab": {
     "base_uri": "https://localhost:8080/"
    },
    "executionInfo": {
     "elapsed": 13083,
     "status": "ok",
     "timestamp": 1681577402536,
     "user": {
      "displayName": "Aadil Iliyas Zikre",
      "userId": "11139065713760395341"
     },
     "user_tz": 240
    },
    "id": "YQjFrS_1pwqP",
    "outputId": "41d64088-4935-43d0-db55-9210ad77d5d1"
   },
   "outputs": [
    {
     "name": "stderr",
     "output_type": "stream",
     "text": [
      "WARNING:absl:Found untraced functions such as lstm_cell_1_layer_call_fn, lstm_cell_1_layer_call_and_return_conditional_losses, lstm_cell_2_layer_call_fn, lstm_cell_2_layer_call_and_return_conditional_losses while saving (showing 4 of 4). These functions will not be directly callable after loading.\n"
     ]
    }
   ],
   "source": [
    "model_class.save_model()"
   ]
  },
  {
   "cell_type": "code",
   "execution_count": null,
   "id": "Y1dRcLuCpwqR",
   "metadata": {
    "colab": {
     "base_uri": "https://localhost:8080/"
    },
    "executionInfo": {
     "elapsed": 24,
     "status": "ok",
     "timestamp": 1681577402537,
     "user": {
      "displayName": "Aadil Iliyas Zikre",
      "userId": "11139065713760395341"
     },
     "user_tz": 240
    },
    "id": "Y1dRcLuCpwqR",
    "outputId": "367a8083-c020-474a-e797-2f4e2904424d"
   },
   "outputs": [
    {
     "name": "stdout",
     "output_type": "stream",
     "text": [
      "{'verbose': 1, 'epochs': 5, 'steps': 172}\n",
      "Last Layer Training Accuracy : 87.79%\n",
      "Last Layer Validation Accuracy : 80.30%\n"
     ]
    }
   ],
   "source": [
    "print(history.params)\n",
    "print(f\"Last Layer Training Accuracy : {history.history['accuracy'][-1]:.2%}\")\n",
    "print(f\"Last Layer Validation Accuracy : {history.history['val_accuracy'][-1]:.2%}\")"
   ]
  },
  {
   "cell_type": "markdown",
   "id": "NBfYWIPcVkh6",
   "metadata": {
    "id": "NBfYWIPcVkh6"
   },
   "source": [
    "## EXPT 11 : XLNet with 0.5 dropouts\n",
    "EMBEDDINGS : XLNet </br>\n",
    "COLUMN : TWEETS W/O Lemmatization W/O Stop Word Removal"
   ]
  },
  {
   "cell_type": "code",
   "execution_count": null,
   "id": "AeGp_xGsVkh7",
   "metadata": {
    "id": "AeGp_xGsVkh7"
   },
   "outputs": [],
   "source": [
    "df = df_train\n",
    "col = 'clean_tweets_no_lm_no_sw'\n",
    "MODEL_MAX_LENGTH = 32\n",
    "DEVICE = torch.device('cuda' if torch.cuda.is_available() else 'cpu')\n",
    "BATCH_SIZE = 64\n",
    "random_state = 12345\n",
    "TEST_SIZE = 0.25"
   ]
  },
  {
   "cell_type": "code",
   "execution_count": null,
   "id": "A3gPQxYGVkh7",
   "metadata": {
    "colab": {
     "base_uri": "https://localhost:8080/",
     "height": 249,
     "referenced_widgets": [
      "0cb73484ece249538e1f26bf6b0e027a",
      "44e72bceacd043499bb77ec4fa20f983",
      "8a1ef14732b74be09d830d11e32e848e",
      "9962e0237a1a4abf8fcc7963790e31eb",
      "468d4a81e89a419d8982eaefea2ba087",
      "9a196ffa38d744bca7a91d436e13092d",
      "a7bb54ab59c84078a9cbde8c015cdf68",
      "f600cd06c3f34856b2a00290bb0752f1",
      "1cfb214f2b874b7faf4df3a47aab3282",
      "b173ee3339ce48d09a9bdfe6eca8fff3",
      "784001f3245d49d283e736d76a42de2a",
      "286cd50af5f54bd6b2b571074bc35247",
      "6046a67fcbbf47608dca73e25a813435",
      "8d90282ce26f47dca1d2ac61c8b25add",
      "152679f31b3a48f0a887ed26ed565744",
      "9dfd62f35b9b4453bdc56bd53b805bd1",
      "ee0169e4268e4138b458c074e8297b88",
      "7e481446f6ae4b809428e741179efb8c",
      "cfcf6fc3be704795a20c0b139f19a17a",
      "56d93dacb0074f509ee641ac70eef870",
      "10559a5ffee84b0d839f2013899ff31c",
      "2f67763728244dd49b4080be9acd5f35",
      "acff7c13d03b485599ec4a8ca4188040",
      "16722f3a67754409920aeec40033ad7c",
      "39c2f09025764c8e8f52c86053e23320",
      "69ce622d894b42299b8b8482f0974be8",
      "7d7ba255e7b64296b122c580c4893236",
      "138e511d0c08460884ab412600b449cd",
      "71d11be8bf294e2aa3a91bd7513bcae8",
      "ddc1f8b406514dea96aadcbcdb3caf1f",
      "2996d97802f54b55a59afea8decfd9b0",
      "9f78b31839f54bd7b639045f22bfd483",
      "403acc8055ac41c9bbfc9d211a25ea89",
      "537961158221491682abf90a455b3e4f",
      "7c9fc41672394a3396b27445805d6c39",
      "aa721da291ff450da407a6630c3e6949",
      "d336aebb90874555ba539d105338de59",
      "8a63e9487c1142a19aa3c76a9de3af0d",
      "f5f97048b84e452c8492735a73cfbe71",
      "15b8fafea96f4b43a66aed09bd7134d0",
      "d3907b3c6e5d468ea3d249f06ad4ec7e",
      "d0d37d48f7d84f70aafde46351d8f386",
      "fe8803946a2642668abef5074017dbe6",
      "ac79378f5b084982bc4c737fe7a0cac8",
      "03324b2a8b504951885b870fc81bce9c",
      "2f1dd94d1be14a42a61c50886f837d0e",
      "0aafe4da65584cbd85f14dde021e5259",
      "090dc0b43da14df99b12f9e114bfdade",
      "bb90775f49d44aad83064215fee956f3",
      "4610c930159d4d8fb8aeca58cbc9dd78",
      "410c266c10074ca08ff918c48562ca04",
      "65db0b43cfb54abf8088c606ec280502",
      "237aeef099a94fef8a5788c3943a436b",
      "ec893e9372594a6eb8a0e899e062926a",
      "481abdf348d04052a92ce84eee922c77"
     ]
    },
    "executionInfo": {
     "elapsed": 53616,
     "status": "ok",
     "timestamp": 1681485818645,
     "user": {
      "displayName": "Aadil Iliyas Zikre",
      "userId": "11139065713760395341"
     },
     "user_tz": 240
    },
    "id": "A3gPQxYGVkh7",
    "outputId": "63d765fc-8157-4de7-b3ba-619701e27391"
   },
   "outputs": [
    {
     "data": {
      "application/vnd.jupyter.widget-view+json": {
       "model_id": "0cb73484ece249538e1f26bf6b0e027a",
       "version_major": 2,
       "version_minor": 0
      },
      "text/plain": [
       "Downloading (…)lve/main/config.json:   0%|          | 0.00/760 [00:00<?, ?B/s]"
      ]
     },
     "metadata": {},
     "output_type": "display_data"
    },
    {
     "data": {
      "application/vnd.jupyter.widget-view+json": {
       "model_id": "286cd50af5f54bd6b2b571074bc35247",
       "version_major": 2,
       "version_minor": 0
      },
      "text/plain": [
       "Downloading (…)ve/main/spiece.model:   0%|          | 0.00/798k [00:00<?, ?B/s]"
      ]
     },
     "metadata": {},
     "output_type": "display_data"
    },
    {
     "data": {
      "application/vnd.jupyter.widget-view+json": {
       "model_id": "acff7c13d03b485599ec4a8ca4188040",
       "version_major": 2,
       "version_minor": 0
      },
      "text/plain": [
       "Downloading (…)/main/tokenizer.json:   0%|          | 0.00/1.38M [00:00<?, ?B/s]"
      ]
     },
     "metadata": {},
     "output_type": "display_data"
    },
    {
     "data": {
      "application/vnd.jupyter.widget-view+json": {
       "model_id": "537961158221491682abf90a455b3e4f",
       "version_major": 2,
       "version_minor": 0
      },
      "text/plain": [
       "Downloading pytorch_model.bin:   0%|          | 0.00/467M [00:00<?, ?B/s]"
      ]
     },
     "metadata": {},
     "output_type": "display_data"
    },
    {
     "name": "stderr",
     "output_type": "stream",
     "text": [
      "Some weights of the model checkpoint at xlnet-base-cased were not used when initializing XLNetModel: ['lm_loss.weight', 'lm_loss.bias']\n",
      "- This IS expected if you are initializing XLNetModel from the checkpoint of a model trained on another task or with another architecture (e.g. initializing a BertForSequenceClassification model from a BertForPreTraining model).\n",
      "- This IS NOT expected if you are initializing XLNetModel from the checkpoint of a model that you expect to be exactly identical (initializing a BertForSequenceClassification model from a BertForSequenceClassification model).\n"
     ]
    },
    {
     "data": {
      "application/vnd.jupyter.widget-view+json": {
       "model_id": "03324b2a8b504951885b870fc81bce9c",
       "version_major": 2,
       "version_minor": 0
      },
      "text/plain": [
       "  0%|          | 0/229 [00:00<?, ?it/s]"
      ]
     },
     "metadata": {},
     "output_type": "display_data"
    }
   ],
   "source": [
    "from embeddings import XLNetProcessor\n",
    "\n",
    "emb_proc = XLNetProcessor(df, col, MODEL_MAX_LENGTH, DEVICE, BATCH_SIZE, random_state)\n",
    "X_train, X_test, Y_train, Y_test = emb_proc.get_training_XY(test_size = TEST_SIZE)"
   ]
  },
  {
   "cell_type": "code",
   "execution_count": null,
   "id": "IPkTtDzFVkh8",
   "metadata": {
    "id": "IPkTtDzFVkh8"
   },
   "outputs": [],
   "source": [
    "lstm_output = 64\n",
    "MODEL_MAX_LENGTH = MODEL_MAX_LENGTH\n",
    "EMBEDDING_SIZE = 768 # (Constant for Bert)\n",
    "n_classes = 3\n",
    "\n",
    "BATCH_SIZE = 64\n",
    "EPOCHS = 5\n",
    "X_train, X_test, Y_train, Y_test = X_train, X_test, Y_train, Y_test\n",
    "\n",
    "dp_lstm = 0.2\n",
    "dp_layer_1 = 0.5\n",
    "dp_layer_2 = 0.5\n",
    "\n",
    "model_name = f\"bert_model_{EPOCHS}_{BATCH_SIZE}_{dp_layer_1*100}_{dp_layer_2*100}\"\n",
    "# save_dir"
   ]
  },
  {
   "cell_type": "code",
   "execution_count": null,
   "id": "AF3TMMk2Vkh8",
   "metadata": {
    "colab": {
     "base_uri": "https://localhost:8080/"
    },
    "executionInfo": {
     "elapsed": 25984,
     "status": "ok",
     "timestamp": 1681485844605,
     "user": {
      "displayName": "Aadil Iliyas Zikre",
      "userId": "11139065713760395341"
     },
     "user_tz": 240
    },
    "id": "AF3TMMk2Vkh8",
    "outputId": "1ae67a51-b764-454e-ad99-a477bfa6d60b"
   },
   "outputs": [
    {
     "name": "stdout",
     "output_type": "stream",
     "text": [
      "Model: \"sequential\"\n",
      "_________________________________________________________________\n",
      " Layer (type)                Output Shape              Param #   \n",
      "=================================================================\n",
      " bidirectional (Bidirectiona  (None, 128)              426496    \n",
      " l)                                                              \n",
      "                                                                 \n",
      " dense (Dense)               (None, 128)               16512     \n",
      "                                                                 \n",
      " dropout (Dropout)           (None, 128)               0         \n",
      "                                                                 \n",
      " dense_1 (Dense)             (None, 64)                8256      \n",
      "                                                                 \n",
      " dropout_1 (Dropout)         (None, 64)                0         \n",
      "                                                                 \n",
      " dense_2 (Dense)             (None, 3)                 195       \n",
      "                                                                 \n",
      "=================================================================\n",
      "Total params: 451,459\n",
      "Trainable params: 451,459\n",
      "Non-trainable params: 0\n",
      "_________________________________________________________________\n",
      "Epoch 1/5\n",
      "172/172 [==============================] - 11s 20ms/step - loss: 0.8519 - accuracy: 0.6263 - val_loss: 0.7449 - val_accuracy: 0.6566\n",
      "Epoch 2/5\n",
      "172/172 [==============================] - 3s 18ms/step - loss: 0.7109 - accuracy: 0.6970 - val_loss: 0.6811 - val_accuracy: 0.7208\n",
      "Epoch 3/5\n",
      "172/172 [==============================] - 3s 16ms/step - loss: 0.6370 - accuracy: 0.7423 - val_loss: 0.6376 - val_accuracy: 0.7325\n",
      "Epoch 4/5\n",
      "172/172 [==============================] - 2s 12ms/step - loss: 0.5883 - accuracy: 0.7706 - val_loss: 0.5963 - val_accuracy: 0.7656\n",
      "Epoch 5/5\n",
      "172/172 [==============================] - 2s 12ms/step - loss: 0.5630 - accuracy: 0.7768 - val_loss: 0.5779 - val_accuracy: 0.7691\n"
     ]
    }
   ],
   "source": [
    "from models import BiLSTM\n",
    "model_class = BiLSTM(lstm_output, MODEL_MAX_LENGTH, EMBEDDING_SIZE, n_classes, model_name,\n",
    "                     dp_lstm=dp_lstm, dp_layer_1=dp_layer_1, dp_layer_2=dp_layer_2)\n",
    "model_class.build_model()\n",
    "history = model_class.train(BATCH_SIZE, EPOCHS, X_train, Y_train, X_test, Y_test)"
   ]
  },
  {
   "cell_type": "code",
   "execution_count": null,
   "id": "OjjIORSoVkh8",
   "metadata": {
    "colab": {
     "base_uri": "https://localhost:8080/"
    },
    "executionInfo": {
     "elapsed": 12399,
     "status": "ok",
     "timestamp": 1681485856987,
     "user": {
      "displayName": "Aadil Iliyas Zikre",
      "userId": "11139065713760395341"
     },
     "user_tz": 240
    },
    "id": "OjjIORSoVkh8",
    "outputId": "77b1f9f0-a6c6-4b76-8e68-e19d7f931b11"
   },
   "outputs": [
    {
     "name": "stderr",
     "output_type": "stream",
     "text": [
      "WARNING:absl:Found untraced functions such as lstm_cell_1_layer_call_fn, lstm_cell_1_layer_call_and_return_conditional_losses, lstm_cell_2_layer_call_fn, lstm_cell_2_layer_call_and_return_conditional_losses while saving (showing 4 of 4). These functions will not be directly callable after loading.\n"
     ]
    }
   ],
   "source": [
    "model_class.save_model()"
   ]
  },
  {
   "cell_type": "code",
   "execution_count": null,
   "id": "b2rXo2MyVkh8",
   "metadata": {
    "colab": {
     "base_uri": "https://localhost:8080/"
    },
    "executionInfo": {
     "elapsed": 10,
     "status": "ok",
     "timestamp": 1681485856987,
     "user": {
      "displayName": "Aadil Iliyas Zikre",
      "userId": "11139065713760395341"
     },
     "user_tz": 240
    },
    "id": "b2rXo2MyVkh8",
    "outputId": "f75421f8-f225-4578-e293-9a6fafaf8dc5"
   },
   "outputs": [
    {
     "name": "stdout",
     "output_type": "stream",
     "text": [
      "{'verbose': 1, 'epochs': 5, 'steps': 172}\n",
      "Last Layer Training Accuracy : 77.68%\n",
      "Last Layer Validation Accuracy : 76.91%\n"
     ]
    }
   ],
   "source": [
    "print(history.params)\n",
    "print(f\"Last Layer Training Accuracy : {history.history['accuracy'][-1]:.2%}\")\n",
    "print(f\"Last Layer Validation Accuracy : {history.history['val_accuracy'][-1]:.2%}\")"
   ]
  },
  {
   "cell_type": "markdown",
   "id": "7zaDdBoQp9gw",
   "metadata": {
    "id": "7zaDdBoQp9gw"
   },
   "source": [
    "## EXPT 12 : XLNet with 0.1 dropouts\n",
    "EMBEDDINGS : XLNet </br>\n",
    "COLUMN : TWEETS W/O Lemmatization W/O Stop Word Removal"
   ]
  },
  {
   "cell_type": "code",
   "execution_count": null,
   "id": "nqOl3QdPp9gx",
   "metadata": {
    "id": "nqOl3QdPp9gx"
   },
   "outputs": [],
   "source": [
    "df = df_train\n",
    "col = 'clean_tweets_no_lm_no_sw'\n",
    "MODEL_MAX_LENGTH = 32\n",
    "DEVICE = torch.device('cuda' if torch.cuda.is_available() else 'cpu')\n",
    "BATCH_SIZE = 64\n",
    "random_state = 12345\n",
    "TEST_SIZE = 0.25"
   ]
  },
  {
   "cell_type": "code",
   "execution_count": null,
   "id": "Bj7Exgv2p9gx",
   "metadata": {
    "colab": {
     "base_uri": "https://localhost:8080/",
     "height": 251,
     "referenced_widgets": [
      "15e7a1760ec245cbb4f162265ec3ee83",
      "deb9247c55f74b4b818232a6dcb71c05",
      "cbe0f3cbdf624ebbbeea8e04533162ba",
      "86e728e2ab404e569745e5e67e51a823",
      "ca2b641c13f442489aa98b1ea5aea47f",
      "db1a922238634e009ab966068baef24f",
      "6deec007cc3c488fa58555e9a32b1de4",
      "16061a7761cd42d3b94a1d71005ca919",
      "494b9c07a4e6464ea653cf69f1e36c05",
      "381beb071dc640419cb22992a835dfdd",
      "c3d4cbcae70449539e524c9900c9b9a1",
      "d8a727d2e6674335bb86321fe74e0daf",
      "ae5bab8fbfd84e2fb46f5501cb0b28c3",
      "2f44e07472194d71aeee076e7033e9dc",
      "b1c5bae3ed4046ee806c3155dc4b7ea1",
      "383e51fd9ee44a388dfdbaadbe8873cd",
      "2bce56ade96e4e7b94975d112f5cb445",
      "be66f06f91b6453b9df05abe5a7ea671",
      "1f866c50af1146929cf867b64ad0d8b0",
      "c759a0dd72a344678c6336fa9ce1d22b",
      "174b9d9f30834f658f82c89f9595764d",
      "ac7efc19ef98491a9c65e00b4c211b51",
      "6537343422ff4e1aa35f6bb3c50538ad",
      "e0c39d7a8b7d426bb1b0168434e329eb",
      "5e6257527f6b4e26956fe79b984219c4",
      "c919ee71f98f4cec8c902f446af17e55",
      "a77cb151dd634ed2b7d7e73de4881b9f",
      "c22eed6a963f49eabf6a66747d37b8f3",
      "e55157cb12e34965a5bbf9cae696cc05",
      "fd431d85e3124c06bb244e890f7bcec9",
      "4cd8dcb12ff64b66aff3bdbc6ff8b25f",
      "0fd2edba39cf418b887e62dad30b9ce5",
      "81414fa1c56146279e1977e93b90b904",
      "fb1c8ece679545a994e2a75fce70b7ba",
      "a02189cb729d4edda1217b84f29fd799",
      "979359b21024410a81c30b093e7639e7",
      "694de56580eb45c78f239aa229fb9ed4",
      "50bdb1ccddd845f0882305e0fa7c06ef",
      "755a670428cf45c9b683b78018cc7378",
      "1821a9b9a7dd494ea0dab3c48d30ca8e",
      "11619669ed8a4c05a452b489cad3aa33",
      "4e52c9dfb6ee4aaea9651781b19ff63b",
      "b46320781b634a7b941340a318fed270",
      "4ee6ddbb1f5e43c3969ca99f81e0628b",
      "1cb7c8502a194a89a33891066b91c09c",
      "aa13f98648be4fa985a7a974b8d435a0",
      "36f55abd1b7f47c29ec133f7b1d6676a",
      "d82818f588e8452c87885945c37d7f15",
      "256a85ddb52941b4b343fa242cd7c693",
      "c3127c2fb77d4b548460617341f55bc0",
      "8e029bbcfcf14f82bafc3e821abbcfcd",
      "c36c206c37bc4b4895d167b06dfed706",
      "f809d055758e4adcae0276a63aa96e0a",
      "723edf91b327480aa3c61c131bdba76e",
      "5e195f46a30c484ba0242385b219c60a"
     ]
    },
    "executionInfo": {
     "elapsed": 50178,
     "status": "ok",
     "timestamp": 1682178932810,
     "user": {
      "displayName": "Aadil Iliyas Zikre",
      "userId": "11139065713760395341"
     },
     "user_tz": 240
    },
    "id": "Bj7Exgv2p9gx",
    "outputId": "c3c8113f-dcf3-4e40-9709-c5d88a997ce1"
   },
   "outputs": [
    {
     "data": {
      "application/vnd.jupyter.widget-view+json": {
       "model_id": "15e7a1760ec245cbb4f162265ec3ee83",
       "version_major": 2,
       "version_minor": 0
      },
      "text/plain": [
       "Downloading (…)lve/main/config.json:   0%|          | 0.00/760 [00:00<?, ?B/s]"
      ]
     },
     "metadata": {},
     "output_type": "display_data"
    },
    {
     "data": {
      "application/vnd.jupyter.widget-view+json": {
       "model_id": "d8a727d2e6674335bb86321fe74e0daf",
       "version_major": 2,
       "version_minor": 0
      },
      "text/plain": [
       "Downloading (…)ve/main/spiece.model:   0%|          | 0.00/798k [00:00<?, ?B/s]"
      ]
     },
     "metadata": {},
     "output_type": "display_data"
    },
    {
     "data": {
      "application/vnd.jupyter.widget-view+json": {
       "model_id": "6537343422ff4e1aa35f6bb3c50538ad",
       "version_major": 2,
       "version_minor": 0
      },
      "text/plain": [
       "Downloading (…)/main/tokenizer.json:   0%|          | 0.00/1.38M [00:00<?, ?B/s]"
      ]
     },
     "metadata": {},
     "output_type": "display_data"
    },
    {
     "data": {
      "application/vnd.jupyter.widget-view+json": {
       "model_id": "fb1c8ece679545a994e2a75fce70b7ba",
       "version_major": 2,
       "version_minor": 0
      },
      "text/plain": [
       "Downloading pytorch_model.bin:   0%|          | 0.00/467M [00:00<?, ?B/s]"
      ]
     },
     "metadata": {},
     "output_type": "display_data"
    },
    {
     "name": "stderr",
     "output_type": "stream",
     "text": [
      "Some weights of the model checkpoint at xlnet-base-cased were not used when initializing XLNetModel: ['lm_loss.weight', 'lm_loss.bias']\n",
      "- This IS expected if you are initializing XLNetModel from the checkpoint of a model trained on another task or with another architecture (e.g. initializing a BertForSequenceClassification model from a BertForPreTraining model).\n",
      "- This IS NOT expected if you are initializing XLNetModel from the checkpoint of a model that you expect to be exactly identical (initializing a BertForSequenceClassification model from a BertForSequenceClassification model).\n"
     ]
    },
    {
     "data": {
      "application/vnd.jupyter.widget-view+json": {
       "model_id": "1cb7c8502a194a89a33891066b91c09c",
       "version_major": 2,
       "version_minor": 0
      },
      "text/plain": [
       "  0%|          | 0/229 [00:00<?, ?it/s]"
      ]
     },
     "metadata": {},
     "output_type": "display_data"
    }
   ],
   "source": [
    "from embeddings import XLNetProcessor\n",
    "\n",
    "emb_proc = XLNetProcessor(df, col, MODEL_MAX_LENGTH, DEVICE, BATCH_SIZE, random_state)\n",
    "X_train, X_test, Y_train, Y_test = emb_proc.get_training_XY(test_size = TEST_SIZE)"
   ]
  },
  {
   "cell_type": "code",
   "execution_count": null,
   "id": "D2ehIt8xp9gx",
   "metadata": {
    "id": "D2ehIt8xp9gx"
   },
   "outputs": [],
   "source": [
    "lstm_output = 64\n",
    "MODEL_MAX_LENGTH = MODEL_MAX_LENGTH\n",
    "EMBEDDING_SIZE = 768 # (Constant for Bert)\n",
    "n_classes = 3\n",
    "\n",
    "BATCH_SIZE = 64\n",
    "EPOCHS = 5\n",
    "X_train, X_test, Y_train, Y_test = X_train, X_test, Y_train, Y_test\n",
    "\n",
    "dp_lstm = 0.2\n",
    "dp_layer_1 = 0.1\n",
    "dp_layer_2 = 0.1\n",
    "\n",
    "model_name = f\"xlnet_model_{EPOCHS}_{BATCH_SIZE}_{dp_layer_1*100}_{dp_layer_2*100}\"\n",
    "save_dir = '/content/drive/MyDrive/Syracuse University/IST 664 Natural Language Processing/Assignment 3/models'"
   ]
  },
  {
   "cell_type": "code",
   "execution_count": null,
   "id": "S3n_IC0Wp9gx",
   "metadata": {
    "colab": {
     "base_uri": "https://localhost:8080/"
    },
    "executionInfo": {
     "elapsed": 25194,
     "status": "ok",
     "timestamp": 1682178957982,
     "user": {
      "displayName": "Aadil Iliyas Zikre",
      "userId": "11139065713760395341"
     },
     "user_tz": 240
    },
    "id": "S3n_IC0Wp9gx",
    "outputId": "90f88d1e-7d13-47e2-ae7f-b488cfaa1eb8"
   },
   "outputs": [
    {
     "name": "stdout",
     "output_type": "stream",
     "text": [
      "Model: \"sequential\"\n",
      "_________________________________________________________________\n",
      " Layer (type)                Output Shape              Param #   \n",
      "=================================================================\n",
      " bidirectional (Bidirectiona  (None, 128)              426496    \n",
      " l)                                                              \n",
      "                                                                 \n",
      " dense (Dense)               (None, 128)               16512     \n",
      "                                                                 \n",
      " dropout (Dropout)           (None, 128)               0         \n",
      "                                                                 \n",
      " dense_1 (Dense)             (None, 64)                8256      \n",
      "                                                                 \n",
      " dropout_1 (Dropout)         (None, 64)                0         \n",
      "                                                                 \n",
      " dense_2 (Dense)             (None, 3)                 195       \n",
      "                                                                 \n",
      "=================================================================\n",
      "Total params: 451,459\n",
      "Trainable params: 451,459\n",
      "Non-trainable params: 0\n",
      "_________________________________________________________________\n",
      "Epoch 1/5\n",
      "172/172 [==============================] - 12s 23ms/step - loss: 0.7635 - accuracy: 0.6755 - val_loss: 0.6610 - val_accuracy: 0.7290\n",
      "Epoch 2/5\n",
      "172/172 [==============================] - 2s 12ms/step - loss: 0.6165 - accuracy: 0.7468 - val_loss: 0.6402 - val_accuracy: 0.7426\n",
      "Epoch 3/5\n",
      "172/172 [==============================] - 2s 13ms/step - loss: 0.5684 - accuracy: 0.7708 - val_loss: 0.5867 - val_accuracy: 0.7680\n",
      "Epoch 4/5\n",
      "172/172 [==============================] - 3s 16ms/step - loss: 0.5384 - accuracy: 0.7855 - val_loss: 0.5885 - val_accuracy: 0.7637\n",
      "Epoch 5/5\n",
      "172/172 [==============================] - 3s 15ms/step - loss: 0.5117 - accuracy: 0.7960 - val_loss: 0.5730 - val_accuracy: 0.7686\n"
     ]
    }
   ],
   "source": [
    "from models import BiLSTM\n",
    "model_class = BiLSTM(lstm_output, MODEL_MAX_LENGTH, EMBEDDING_SIZE, n_classes, model_name,\n",
    "                     dp_lstm=dp_lstm, dp_layer_1=dp_layer_1, dp_layer_2=dp_layer_2)\n",
    "model_class.build_model()\n",
    "history = model_class.train(BATCH_SIZE, EPOCHS, X_train, Y_train, X_test, Y_test)"
   ]
  },
  {
   "cell_type": "code",
   "execution_count": null,
   "id": "TdxWPMxDp9gx",
   "metadata": {
    "colab": {
     "base_uri": "https://localhost:8080/"
    },
    "executionInfo": {
     "elapsed": 12267,
     "status": "ok",
     "timestamp": 1682178970223,
     "user": {
      "displayName": "Aadil Iliyas Zikre",
      "userId": "11139065713760395341"
     },
     "user_tz": 240
    },
    "id": "TdxWPMxDp9gx",
    "outputId": "332420a1-fe03-4420-b30e-8ed1edb9aa4c"
   },
   "outputs": [
    {
     "name": "stderr",
     "output_type": "stream",
     "text": [
      "WARNING:absl:Found untraced functions such as lstm_cell_1_layer_call_fn, lstm_cell_1_layer_call_and_return_conditional_losses, lstm_cell_2_layer_call_fn, lstm_cell_2_layer_call_and_return_conditional_losses while saving (showing 4 of 4). These functions will not be directly callable after loading.\n"
     ]
    }
   ],
   "source": [
    "model_class.save_model()"
   ]
  },
  {
   "cell_type": "code",
   "execution_count": null,
   "id": "nLp-3-hGp9gx",
   "metadata": {
    "colab": {
     "base_uri": "https://localhost:8080/"
    },
    "executionInfo": {
     "elapsed": 21,
     "status": "ok",
     "timestamp": 1682178970224,
     "user": {
      "displayName": "Aadil Iliyas Zikre",
      "userId": "11139065713760395341"
     },
     "user_tz": 240
    },
    "id": "nLp-3-hGp9gx",
    "outputId": "d6c938a0-48b8-4b9e-b2cd-88c69187a3aa"
   },
   "outputs": [
    {
     "name": "stdout",
     "output_type": "stream",
     "text": [
      "{'verbose': 1, 'epochs': 5, 'steps': 172}\n",
      "Last Layer Training Accuracy : 79.60%\n",
      "Last Layer Validation Accuracy : 76.86%\n"
     ]
    }
   ],
   "source": [
    "print(history.params)\n",
    "print(f\"Last Layer Training Accuracy : {history.history['accuracy'][-1]:.2%}\")\n",
    "print(f\"Last Layer Validation Accuracy : {history.history['val_accuracy'][-1]:.2%}\")"
   ]
  },
  {
   "cell_type": "markdown",
   "id": "Bm9kpQQkXpl8",
   "metadata": {
    "id": "Bm9kpQQkXpl8"
   },
   "source": [
    "## EXPT 13 : XLNet with clean_tweets\n",
    "EMBEDDINGS : XLNet </br>\n",
    "COLUMN : TWEETS W/ Lemmatization W/ Stop Word Removal"
   ]
  },
  {
   "cell_type": "code",
   "execution_count": null,
   "id": "Z73-qb3pXpl8",
   "metadata": {
    "id": "Z73-qb3pXpl8"
   },
   "outputs": [],
   "source": [
    "df = df_train\n",
    "col = 'clean_tweets'\n",
    "MODEL_MAX_LENGTH = 32\n",
    "DEVICE = torch.device('cuda' if torch.cuda.is_available() else 'cpu')\n",
    "BATCH_SIZE = 64\n",
    "random_state = 12345\n",
    "TEST_SIZE = 0.25"
   ]
  },
  {
   "cell_type": "code",
   "execution_count": null,
   "id": "c01djnghXpl8",
   "metadata": {
    "colab": {
     "base_uri": "https://localhost:8080/",
     "height": 121,
     "referenced_widgets": [
      "b123ec2bd1824055ab342f029d238b09",
      "ac3a4ffe452448c3b5c0e8f063deea2a",
      "49d5dff016bc45a4bf3e75cc77ae2e47",
      "9a997f8941f147c1849a8b1c9d72cbc2",
      "198329f17ba6483aa7499bb356dd6c40",
      "7a5332bbd49f40b6a98324915137b068",
      "aade141975b54c8d80797084491eaa17",
      "0e5ab88586134a8f951af8e3928e34da",
      "ccea6197c142430ea2550f60bf1fc830",
      "9ba0b2c4d75b4c18855e6576e63d14de",
      "ff0d1e26cbcc402a80b7a6e69e274465"
     ]
    },
    "executionInfo": {
     "elapsed": 45165,
     "status": "ok",
     "timestamp": 1681486113492,
     "user": {
      "displayName": "Aadil Iliyas Zikre",
      "userId": "11139065713760395341"
     },
     "user_tz": 240
    },
    "id": "c01djnghXpl8",
    "outputId": "84808bcd-50e0-4999-cfee-228aedf48df1"
   },
   "outputs": [
    {
     "name": "stderr",
     "output_type": "stream",
     "text": [
      "Some weights of the model checkpoint at xlnet-base-cased were not used when initializing XLNetModel: ['lm_loss.weight', 'lm_loss.bias']\n",
      "- This IS expected if you are initializing XLNetModel from the checkpoint of a model trained on another task or with another architecture (e.g. initializing a BertForSequenceClassification model from a BertForPreTraining model).\n",
      "- This IS NOT expected if you are initializing XLNetModel from the checkpoint of a model that you expect to be exactly identical (initializing a BertForSequenceClassification model from a BertForSequenceClassification model).\n"
     ]
    },
    {
     "data": {
      "application/vnd.jupyter.widget-view+json": {
       "model_id": "b123ec2bd1824055ab342f029d238b09",
       "version_major": 2,
       "version_minor": 0
      },
      "text/plain": [
       "  0%|          | 0/229 [00:00<?, ?it/s]"
      ]
     },
     "metadata": {},
     "output_type": "display_data"
    }
   ],
   "source": [
    "# XLNetProcessor is again a class that I made to ingest df and based on the column, provide x and y for training\n",
    "# Please refer to my github or /content for source code\n",
    "from embeddings import XLNetProcessor\n",
    "\n",
    "emb_proc = XLNetProcessor(df, col, MODEL_MAX_LENGTH, DEVICE, BATCH_SIZE, random_state)\n",
    "X_train, X_test, Y_train, Y_test = emb_proc.get_training_XY(test_size = TEST_SIZE)"
   ]
  },
  {
   "cell_type": "code",
   "execution_count": null,
   "id": "9bWotTwcXpl9",
   "metadata": {
    "id": "9bWotTwcXpl9"
   },
   "outputs": [],
   "source": [
    "lstm_output = 64\n",
    "MODEL_MAX_LENGTH = MODEL_MAX_LENGTH\n",
    "EMBEDDING_SIZE = 768 # (Constant for Bert)\n",
    "n_classes = 3\n",
    "\n",
    "BATCH_SIZE = 64\n",
    "EPOCHS = 5\n",
    "X_train, X_test, Y_train, Y_test = X_train, X_test, Y_train, Y_test\n",
    "\n",
    "dp_lstm = 0.2\n",
    "dp_layer_1 = 0.5\n",
    "dp_layer_2 = 0.5\n",
    "\n",
    "model_name = f\"bert_model_{EPOCHS}_{BATCH_SIZE}_{dp_layer_1*100}_{dp_layer_2*100}\"\n",
    "# save_dir"
   ]
  },
  {
   "cell_type": "code",
   "execution_count": null,
   "id": "xZorq9T5Xpl9",
   "metadata": {
    "colab": {
     "base_uri": "https://localhost:8080/"
    },
    "executionInfo": {
     "elapsed": 23214,
     "status": "ok",
     "timestamp": 1681486136690,
     "user": {
      "displayName": "Aadil Iliyas Zikre",
      "userId": "11139065713760395341"
     },
     "user_tz": 240
    },
    "id": "xZorq9T5Xpl9",
    "outputId": "1dcc905f-1ab5-4a38-ce93-54ac8fa56b5c"
   },
   "outputs": [
    {
     "name": "stdout",
     "output_type": "stream",
     "text": [
      "Model: \"sequential\"\n",
      "_________________________________________________________________\n",
      " Layer (type)                Output Shape              Param #   \n",
      "=================================================================\n",
      " bidirectional (Bidirectiona  (None, 128)              426496    \n",
      " l)                                                              \n",
      "                                                                 \n",
      " dense (Dense)               (None, 128)               16512     \n",
      "                                                                 \n",
      " dropout (Dropout)           (None, 128)               0         \n",
      "                                                                 \n",
      " dense_1 (Dense)             (None, 64)                8256      \n",
      "                                                                 \n",
      " dropout_1 (Dropout)         (None, 64)                0         \n",
      "                                                                 \n",
      " dense_2 (Dense)             (None, 3)                 195       \n",
      "                                                                 \n",
      "=================================================================\n",
      "Total params: 451,459\n",
      "Trainable params: 451,459\n",
      "Non-trainable params: 0\n",
      "_________________________________________________________________\n",
      "Epoch 1/5\n",
      "172/172 [==============================] - 10s 25ms/step - loss: 0.9018 - accuracy: 0.6153 - val_loss: 0.8245 - val_accuracy: 0.6238\n",
      "Epoch 2/5\n",
      "172/172 [==============================] - 3s 18ms/step - loss: 0.8080 - accuracy: 0.6466 - val_loss: 0.7663 - val_accuracy: 0.6639\n",
      "Epoch 3/5\n",
      "172/172 [==============================] - 3s 16ms/step - loss: 0.7484 - accuracy: 0.6736 - val_loss: 0.7268 - val_accuracy: 0.6891\n",
      "Epoch 4/5\n",
      "172/172 [==============================] - 2s 13ms/step - loss: 0.7238 - accuracy: 0.6904 - val_loss: 0.7017 - val_accuracy: 0.6975\n",
      "Epoch 5/5\n",
      "172/172 [==============================] - 3s 15ms/step - loss: 0.6967 - accuracy: 0.7090 - val_loss: 0.6872 - val_accuracy: 0.7101\n"
     ]
    }
   ],
   "source": [
    "from models import BiLSTM\n",
    "model_class = BiLSTM(lstm_output, MODEL_MAX_LENGTH, EMBEDDING_SIZE, n_classes, model_name,\n",
    "                     dp_lstm=dp_lstm, dp_layer_1=dp_layer_1, dp_layer_2=dp_layer_2)\n",
    "model_class.build_model()\n",
    "history = model_class.train(BATCH_SIZE, EPOCHS, X_train, Y_train, X_test, Y_test)"
   ]
  },
  {
   "cell_type": "code",
   "execution_count": null,
   "id": "Oy3_vvvbXpl9",
   "metadata": {
    "colab": {
     "base_uri": "https://localhost:8080/"
    },
    "executionInfo": {
     "elapsed": 14899,
     "status": "ok",
     "timestamp": 1681486151573,
     "user": {
      "displayName": "Aadil Iliyas Zikre",
      "userId": "11139065713760395341"
     },
     "user_tz": 240
    },
    "id": "Oy3_vvvbXpl9",
    "outputId": "96ddd43b-28e5-4b8a-9c11-2393c41915df"
   },
   "outputs": [
    {
     "name": "stderr",
     "output_type": "stream",
     "text": [
      "WARNING:absl:Found untraced functions such as lstm_cell_1_layer_call_fn, lstm_cell_1_layer_call_and_return_conditional_losses, lstm_cell_2_layer_call_fn, lstm_cell_2_layer_call_and_return_conditional_losses while saving (showing 4 of 4). These functions will not be directly callable after loading.\n"
     ]
    }
   ],
   "source": [
    "model_class.save_model()"
   ]
  },
  {
   "cell_type": "code",
   "execution_count": null,
   "id": "PSbcm-YaXpl9",
   "metadata": {
    "colab": {
     "base_uri": "https://localhost:8080/"
    },
    "executionInfo": {
     "elapsed": 7,
     "status": "ok",
     "timestamp": 1681486151574,
     "user": {
      "displayName": "Aadil Iliyas Zikre",
      "userId": "11139065713760395341"
     },
     "user_tz": 240
    },
    "id": "PSbcm-YaXpl9",
    "outputId": "4ceec868-7249-4cc9-854f-3c56bf5e9fd7"
   },
   "outputs": [
    {
     "name": "stdout",
     "output_type": "stream",
     "text": [
      "{'verbose': 1, 'epochs': 5, 'steps': 172}\n",
      "Last Layer Training Accuracy : 70.90%\n",
      "Last Layer Validation Accuracy : 71.01%\n"
     ]
    }
   ],
   "source": [
    "print(history.params)\n",
    "print(f\"Last Layer Training Accuracy : {history.history['accuracy'][-1]:.2%}\")\n",
    "print(f\"Last Layer Validation Accuracy : {history.history['val_accuracy'][-1]:.2%}\")"
   ]
  },
  {
   "cell_type": "markdown",
   "id": "kIsMz4BgPWDR",
   "metadata": {
    "id": "kIsMz4BgPWDR"
   },
   "source": [
    "## NOTE ON DROPOUTS :    \n",
    "I tried 4 different dropout configurations: </br>\n",
    "1. Expt 7 : ~100% dropout in dense layers\n",
    "2. Expt 5 : 50% dropout in dense layers\n",
    "3. Expt 4 : 10% dropout in dense layers\n",
    "4. Expt 6 : 0% dropout in dense layers\n",
    "---\n",
    "Results are as follows : \n",
    "1. Adding No Dropout makes the training model accuracy go over validation accuracy in second iteration only. In other words, Model Starts overtraining after 2nd iteration only\n",
    "2. Adding a 10% dropout delayed overtraining by 1 epoch. \n",
    "3. Adding a 50% dropout delayed the overtraining by 1 epoch.\n",
    "4. Adding a 100% dropout was done to establish a baseline and to see if the model is working as expected. Hence it is not really a part of this analysis. \n",
    "---\n",
    "Conclusion : \n",
    "Based on the results above, I have decided to use 10% dropout in both the layers because the difference in accuracy between training and validation is not huge as compared to 50% dropout model. Also, I think adding a 50% dropout to layer whose trainable parameters are only 64 and 128 seems too large and it might hurt in the predictions of unseen test set. \n"
   ]
  },
  {
   "cell_type": "markdown",
   "id": "TPus9SR-ok6R",
   "metadata": {
    "id": "TPus9SR-ok6R"
   },
   "source": [
    "## NOTE ON EPOCHS\n",
    "I did not run experiments with varying epochs as all the models which I trained were getting trained perfectly in only 2-3 epochs when the dropout was not very high. So, adding epochs would have only overtrained the models. "
   ]
  },
  {
   "cell_type": "markdown",
   "id": "EQ542VgWpBI_",
   "metadata": {
    "id": "EQ542VgWpBI_"
   },
   "source": [
    "## FINAL VERDICT\n",
    "\n",
    "Keeping everything constant, ie column being one with no lemmatization and no stopword removal and dropouts in lstm dense layers being 0.1, we arrive at the following results:\n",
    "1. Bert  : Expt 4  : 84% : before model started getting overtrained\n",
    "2. Elmo  : Expt 10 : 83% : before model started getting overtrained\n",
    "3. XLNet : Expt 12 : 78% : before model started getting overtrained\n",
    "---\n",
    "Hence, the winner is Bert and that is what I will be using for making predictions on the reviewTexts and comparing sentiment counts with previous assignment.\n"
   ]
  },
  {
   "cell_type": "markdown",
   "id": "KcO6xcSxX-Zh",
   "metadata": {
    "heading_collapsed": true,
    "id": "KcO6xcSxX-Zh"
   },
   "source": [
    "# Predicting on Reviews\n"
   ]
  },
  {
   "cell_type": "code",
   "execution_count": null,
   "id": "HlATbkZEX2Uk",
   "metadata": {
    "hidden": true,
    "id": "HlATbkZEX2Uk"
   },
   "outputs": [],
   "source": [
    "# reading the file for second part at the below location. Please change the variable file path as per the requirement\n",
    "file_path = \"/content/drive/MyDrive/Syracuse University/IST 664 Natural Language Processing/Assignment 2\" # Please change this path as per your drive.\n",
    "file_name = \"aadil_zikre_assignment_2_first_part_file.csv\"\n",
    "df_orig = pd.read_csv(f\"{file_path}/{file_name}\")"
   ]
  },
  {
   "cell_type": "code",
   "execution_count": null,
   "id": "NiNJz3VIcUqM",
   "metadata": {
    "colab": {
     "base_uri": "https://localhost:8080/",
     "height": 424
    },
    "executionInfo": {
     "elapsed": 118,
     "status": "ok",
     "timestamp": 1682185360487,
     "user": {
      "displayName": "Aadil Iliyas Zikre",
      "userId": "11139065713760395341"
     },
     "user_tz": 240
    },
    "hidden": true,
    "id": "NiNJz3VIcUqM",
    "outputId": "610ec266-75bf-48e5-af86-7752e6eb70e6"
   },
   "outputs": [
    {
     "data": {
      "text/html": [
       "\n",
       "  <div id=\"df-2baf493c-5e70-45c1-8336-b340d84e7585\">\n",
       "    <div class=\"colab-df-container\">\n",
       "      <div>\n",
       "<style scoped>\n",
       "    .dataframe tbody tr th:only-of-type {\n",
       "        vertical-align: middle;\n",
       "    }\n",
       "\n",
       "    .dataframe tbody tr th {\n",
       "        vertical-align: top;\n",
       "    }\n",
       "\n",
       "    .dataframe thead th {\n",
       "        text-align: right;\n",
       "    }\n",
       "</style>\n",
       "<table border=\"1\" class=\"dataframe\">\n",
       "  <thead>\n",
       "    <tr style=\"text-align: right;\">\n",
       "      <th></th>\n",
       "      <th>reviewText_ID</th>\n",
       "      <th>reviewText</th>\n",
       "      <th>reviewText_sents</th>\n",
       "      <th>reviewText_sent_len</th>\n",
       "      <th>adjective_words</th>\n",
       "      <th>bigram_list_vb_adj</th>\n",
       "      <th>capital_words</th>\n",
       "      <th>contains_exclaimation</th>\n",
       "    </tr>\n",
       "  </thead>\n",
       "  <tbody>\n",
       "    <tr>\n",
       "      <th>0</th>\n",
       "      <td>0</td>\n",
       "      <td>This is a great tutu and at a really great pri...</td>\n",
       "      <td>This is a great tutu and at a really great price.</td>\n",
       "      <td>49</td>\n",
       "      <td>['great', 'great']</td>\n",
       "      <td>[(('great', 'JJ'), ('tutu', 'NN')), (('really'...</td>\n",
       "      <td>0</td>\n",
       "      <td>0</td>\n",
       "    </tr>\n",
       "    <tr>\n",
       "      <th>1</th>\n",
       "      <td>0</td>\n",
       "      <td>This is a great tutu and at a really great pri...</td>\n",
       "      <td>It doesn't look cheap at all.</td>\n",
       "      <td>29</td>\n",
       "      <td>['cheap']</td>\n",
       "      <td>[((\"n't\", 'RB'), ('look', 'VB')), (('look', 'V...</td>\n",
       "      <td>0</td>\n",
       "      <td>0</td>\n",
       "    </tr>\n",
       "    <tr>\n",
       "      <th>2</th>\n",
       "      <td>0</td>\n",
       "      <td>This is a great tutu and at a really great pri...</td>\n",
       "      <td>I'm so glad I looked on Amazon and found such ...</td>\n",
       "      <td>88</td>\n",
       "      <td>['glad', 'affordable']</td>\n",
       "      <td>[(('affordable', 'JJ'), ('tutu', 'NN')), ((\"n'...</td>\n",
       "      <td>['I', 'I']</td>\n",
       "      <td>0</td>\n",
       "    </tr>\n",
       "    <tr>\n",
       "      <th>3</th>\n",
       "      <td>0</td>\n",
       "      <td>This is a great tutu and at a really great pri...</td>\n",
       "      <td>A++</td>\n",
       "      <td>3</td>\n",
       "      <td>0</td>\n",
       "      <td>[]</td>\n",
       "      <td>['A']</td>\n",
       "      <td>0</td>\n",
       "    </tr>\n",
       "    <tr>\n",
       "      <th>4</th>\n",
       "      <td>1</td>\n",
       "      <td>I bought this for my 4 yr old daughter for dan...</td>\n",
       "      <td>I bought this for my 4 yr old daughter for dan...</td>\n",
       "      <td>133</td>\n",
       "      <td>['old', 'first', 'adorable']</td>\n",
       "      <td>[(('yr', 'RB'), ('old', 'JJ')), (('old', 'JJ')...</td>\n",
       "      <td>['I']</td>\n",
       "      <td>0</td>\n",
       "    </tr>\n",
       "  </tbody>\n",
       "</table>\n",
       "</div>\n",
       "      <button class=\"colab-df-convert\" onclick=\"convertToInteractive('df-2baf493c-5e70-45c1-8336-b340d84e7585')\"\n",
       "              title=\"Convert this dataframe to an interactive table.\"\n",
       "              style=\"display:none;\">\n",
       "        \n",
       "  <svg xmlns=\"http://www.w3.org/2000/svg\" height=\"24px\"viewBox=\"0 0 24 24\"\n",
       "       width=\"24px\">\n",
       "    <path d=\"M0 0h24v24H0V0z\" fill=\"none\"/>\n",
       "    <path d=\"M18.56 5.44l.94 2.06.94-2.06 2.06-.94-2.06-.94-.94-2.06-.94 2.06-2.06.94zm-11 1L8.5 8.5l.94-2.06 2.06-.94-2.06-.94L8.5 2.5l-.94 2.06-2.06.94zm10 10l.94 2.06.94-2.06 2.06-.94-2.06-.94-.94-2.06-.94 2.06-2.06.94z\"/><path d=\"M17.41 7.96l-1.37-1.37c-.4-.4-.92-.59-1.43-.59-.52 0-1.04.2-1.43.59L10.3 9.45l-7.72 7.72c-.78.78-.78 2.05 0 2.83L4 21.41c.39.39.9.59 1.41.59.51 0 1.02-.2 1.41-.59l7.78-7.78 2.81-2.81c.8-.78.8-2.07 0-2.86zM5.41 20L4 18.59l7.72-7.72 1.47 1.35L5.41 20z\"/>\n",
       "  </svg>\n",
       "      </button>\n",
       "      \n",
       "  <style>\n",
       "    .colab-df-container {\n",
       "      display:flex;\n",
       "      flex-wrap:wrap;\n",
       "      gap: 12px;\n",
       "    }\n",
       "\n",
       "    .colab-df-convert {\n",
       "      background-color: #E8F0FE;\n",
       "      border: none;\n",
       "      border-radius: 50%;\n",
       "      cursor: pointer;\n",
       "      display: none;\n",
       "      fill: #1967D2;\n",
       "      height: 32px;\n",
       "      padding: 0 0 0 0;\n",
       "      width: 32px;\n",
       "    }\n",
       "\n",
       "    .colab-df-convert:hover {\n",
       "      background-color: #E2EBFA;\n",
       "      box-shadow: 0px 1px 2px rgba(60, 64, 67, 0.3), 0px 1px 3px 1px rgba(60, 64, 67, 0.15);\n",
       "      fill: #174EA6;\n",
       "    }\n",
       "\n",
       "    [theme=dark] .colab-df-convert {\n",
       "      background-color: #3B4455;\n",
       "      fill: #D2E3FC;\n",
       "    }\n",
       "\n",
       "    [theme=dark] .colab-df-convert:hover {\n",
       "      background-color: #434B5C;\n",
       "      box-shadow: 0px 1px 3px 1px rgba(0, 0, 0, 0.15);\n",
       "      filter: drop-shadow(0px 1px 2px rgba(0, 0, 0, 0.3));\n",
       "      fill: #FFFFFF;\n",
       "    }\n",
       "  </style>\n",
       "\n",
       "      <script>\n",
       "        const buttonEl =\n",
       "          document.querySelector('#df-2baf493c-5e70-45c1-8336-b340d84e7585 button.colab-df-convert');\n",
       "        buttonEl.style.display =\n",
       "          google.colab.kernel.accessAllowed ? 'block' : 'none';\n",
       "\n",
       "        async function convertToInteractive(key) {\n",
       "          const element = document.querySelector('#df-2baf493c-5e70-45c1-8336-b340d84e7585');\n",
       "          const dataTable =\n",
       "            await google.colab.kernel.invokeFunction('convertToInteractive',\n",
       "                                                     [key], {});\n",
       "          if (!dataTable) return;\n",
       "\n",
       "          const docLinkHtml = 'Like what you see? Visit the ' +\n",
       "            '<a target=\"_blank\" href=https://colab.research.google.com/notebooks/data_table.ipynb>data table notebook</a>'\n",
       "            + ' to learn more about interactive tables.';\n",
       "          element.innerHTML = '';\n",
       "          dataTable['output_type'] = 'display_data';\n",
       "          await google.colab.output.renderOutput(dataTable, element);\n",
       "          const docLink = document.createElement('div');\n",
       "          docLink.innerHTML = docLinkHtml;\n",
       "          element.appendChild(docLink);\n",
       "        }\n",
       "      </script>\n",
       "    </div>\n",
       "  </div>\n",
       "  "
      ],
      "text/plain": [
       "   reviewText_ID                                         reviewText  \\\n",
       "0              0  This is a great tutu and at a really great pri...   \n",
       "1              0  This is a great tutu and at a really great pri...   \n",
       "2              0  This is a great tutu and at a really great pri...   \n",
       "3              0  This is a great tutu and at a really great pri...   \n",
       "4              1  I bought this for my 4 yr old daughter for dan...   \n",
       "\n",
       "                                    reviewText_sents  reviewText_sent_len  \\\n",
       "0  This is a great tutu and at a really great price.                   49   \n",
       "1                      It doesn't look cheap at all.                   29   \n",
       "2  I'm so glad I looked on Amazon and found such ...                   88   \n",
       "3                                                A++                    3   \n",
       "4  I bought this for my 4 yr old daughter for dan...                  133   \n",
       "\n",
       "                adjective_words  \\\n",
       "0            ['great', 'great']   \n",
       "1                     ['cheap']   \n",
       "2        ['glad', 'affordable']   \n",
       "3                             0   \n",
       "4  ['old', 'first', 'adorable']   \n",
       "\n",
       "                                  bigram_list_vb_adj capital_words  \\\n",
       "0  [(('great', 'JJ'), ('tutu', 'NN')), (('really'...             0   \n",
       "1  [((\"n't\", 'RB'), ('look', 'VB')), (('look', 'V...             0   \n",
       "2  [(('affordable', 'JJ'), ('tutu', 'NN')), ((\"n'...    ['I', 'I']   \n",
       "3                                                 []         ['A']   \n",
       "4  [(('yr', 'RB'), ('old', 'JJ')), (('old', 'JJ')...         ['I']   \n",
       "\n",
       "   contains_exclaimation  \n",
       "0                      0  \n",
       "1                      0  \n",
       "2                      0  \n",
       "3                      0  \n",
       "4                      0  "
      ]
     },
     "execution_count": 7,
     "metadata": {},
     "output_type": "execute_result"
    }
   ],
   "source": [
    "df_orig.head()"
   ]
  },
  {
   "cell_type": "code",
   "execution_count": null,
   "id": "6DMj2Vitdbmn",
   "metadata": {
    "hidden": true,
    "id": "6DMj2Vitdbmn"
   },
   "outputs": [],
   "source": [
    "df_orig['clean_reviewText_sents_no_lm_no_sw'] = clean_tweets(df_orig.reviewText_sents, lemmatize = False, remove_stop_words=False)"
   ]
  },
  {
   "cell_type": "code",
   "execution_count": null,
   "id": "gJOnhy9p1qri",
   "metadata": {
    "hidden": true,
    "id": "gJOnhy9p1qri"
   },
   "outputs": [],
   "source": [
    "df = df_orig\n",
    "col = 'clean_reviewText_sents_no_lm_no_sw'\n",
    "MODEL_MAX_LENGTH = 32\n",
    "DEVICE = torch.device('cuda' if torch.cuda.is_available() else 'cpu')\n",
    "BATCH_SIZE = 64\n",
    "random_state = 12345\n",
    "TEST_SIZE = 0.25\n",
    "is_test = True"
   ]
  },
  {
   "cell_type": "code",
   "execution_count": null,
   "id": "8_h2Bx--1qrj",
   "metadata": {
    "colab": {
     "base_uri": "https://localhost:8080/",
     "height": 121,
     "referenced_widgets": [
      "feaf092560364695881273576f880ef6",
      "9fd20faf958b4a4f93bf9ce5ad2c7491",
      "7cad779a05c342d79cff7a6dcfc649a0",
      "33cb5560b5f04321acdb232131083b73",
      "12ff91ec598f4a429b211a8ae0e445a0",
      "7ae92b199d384196a052c4e302e6b20e",
      "e66f21c8778249f4bd13d7dd4b1929b2",
      "acd01128e89e4183b27a12cec80f02a7",
      "fe5c72a39aea49a49419ad1b8e26c284",
      "bf8b14d302644196b9baebdaf120579a",
      "6c8f6631bd1340adbbd0dbb137af505f"
     ]
    },
    "executionInfo": {
     "elapsed": 44896,
     "status": "ok",
     "timestamp": 1681581200223,
     "user": {
      "displayName": "Aadil Iliyas Zikre",
      "userId": "11139065713760395341"
     },
     "user_tz": 240
    },
    "hidden": true,
    "id": "8_h2Bx--1qrj",
    "outputId": "4bd0671e-77a3-4931-b48f-b19b48620c9a"
   },
   "outputs": [
    {
     "name": "stderr",
     "output_type": "stream",
     "text": [
      "Some weights of the model checkpoint at bert-base-uncased were not used when initializing BertModel: ['cls.predictions.transform.dense.bias', 'cls.seq_relationship.bias', 'cls.predictions.bias', 'cls.predictions.decoder.weight', 'cls.predictions.transform.dense.weight', 'cls.predictions.transform.LayerNorm.weight', 'cls.seq_relationship.weight', 'cls.predictions.transform.LayerNorm.bias']\n",
      "- This IS expected if you are initializing BertModel from the checkpoint of a model trained on another task or with another architecture (e.g. initializing a BertForSequenceClassification model from a BertForPreTraining model).\n",
      "- This IS NOT expected if you are initializing BertModel from the checkpoint of a model that you expect to be exactly identical (initializing a BertForSequenceClassification model from a BertForSequenceClassification model).\n"
     ]
    },
    {
     "data": {
      "application/vnd.jupyter.widget-view+json": {
       "model_id": "feaf092560364695881273576f880ef6",
       "version_major": 2,
       "version_minor": 0
      },
      "text/plain": [
       "  0%|          | 0/301 [00:00<?, ?it/s]"
      ]
     },
     "metadata": {},
     "output_type": "display_data"
    }
   ],
   "source": [
    "from embeddings import BertProcessor\n",
    "\n",
    "emb_proc = BertProcessor(df, col, MODEL_MAX_LENGTH, DEVICE, BATCH_SIZE, random_state, is_test = is_test)\n",
    "X_test = emb_proc.get_training_X() # When Y is not present, one can get training X, which is then used to predict with pretrained model"
   ]
  },
  {
   "cell_type": "code",
   "execution_count": null,
   "id": "twynK6Tx1qrk",
   "metadata": {
    "hidden": true,
    "id": "twynK6Tx1qrk"
   },
   "outputs": [],
   "source": [
    "lstm_output = 64\n",
    "MODEL_MAX_LENGTH = MODEL_MAX_LENGTH\n",
    "EMBEDDING_SIZE = 768 # (Constant for Bert)\n",
    "n_classes = 3\n",
    "\n",
    "BATCH_SIZE = 64\n",
    "EPOCHS = 5\n",
    "# X_train, X_test, Y_train, Y_test = X_train, X_test, Y_train, Y_test # we dont need this, since we are not training the model \n",
    "\n",
    "dp_lstm = 0.2\n",
    "dp_layer_1 = 0.1\n",
    "dp_layer_2 = 0.1\n",
    "\n",
    "model_name = f\"bert_model_{EPOCHS}_{BATCH_SIZE}_{dp_layer_1*100}_{dp_layer_2*100}\"\n",
    "save_dir = '/content/drive/MyDrive/Syracuse University/IST 664 Natural Language Processing/Assignment 3/models' # change path accordingly here as per your drive.\n",
    "# This path should be same as the one used in Expt 4. because that is where it will save the model"
   ]
  },
  {
   "cell_type": "code",
   "execution_count": null,
   "id": "89wZvxVb_K0h",
   "metadata": {
    "hidden": true,
    "id": "89wZvxVb_K0h"
   },
   "outputs": [],
   "source": [
    "model_dir = f\"{save_dir}/{model_name}\"\n",
    "model = keras.models.load_model(model_dir) # Loading model saved in drive"
   ]
  },
  {
   "cell_type": "code",
   "execution_count": null,
   "id": "Y7umYVLZAVai",
   "metadata": {
    "colab": {
     "base_uri": "https://localhost:8080/"
    },
    "executionInfo": {
     "elapsed": 6447,
     "status": "ok",
     "timestamp": 1681581434805,
     "user": {
      "displayName": "Aadil Iliyas Zikre",
      "userId": "11139065713760395341"
     },
     "user_tz": 240
    },
    "hidden": true,
    "id": "Y7umYVLZAVai",
    "outputId": "525eab9c-43a0-4d06-ca17-3aeaa8d2ec02"
   },
   "outputs": [
    {
     "name": "stdout",
     "output_type": "stream",
     "text": [
      "301/301 [==============================] - 2s 8ms/step\n"
     ]
    }
   ],
   "source": [
    "Y_pred = model.predict(X_test, batch_size=BATCH_SIZE)"
   ]
  },
  {
   "cell_type": "code",
   "execution_count": null,
   "id": "nT66QSHjEFPs",
   "metadata": {
    "hidden": true,
    "id": "nT66QSHjEFPs"
   },
   "outputs": [],
   "source": [
    "Y_pred = Y_pred.argmax(axis = 1)"
   ]
  },
  {
   "cell_type": "code",
   "execution_count": null,
   "id": "PE_JDa64EUSP",
   "metadata": {
    "hidden": true,
    "id": "PE_JDa64EUSP"
   },
   "outputs": [],
   "source": [
    "df_orig['y_pred'] = Y_pred"
   ]
  },
  {
   "cell_type": "code",
   "execution_count": null,
   "id": "0yXfTlt6E9Wm",
   "metadata": {
    "hidden": true,
    "id": "0yXfTlt6E9Wm"
   },
   "outputs": [],
   "source": [
    "df_orig['y_pred_sentiment'] = df_orig['y_pred'].map(sentiment_map_id_inv) # getting sentiments"
   ]
  },
  {
   "cell_type": "code",
   "execution_count": null,
   "id": "RZ69UY3gFSSN",
   "metadata": {
    "hidden": true,
    "id": "RZ69UY3gFSSN"
   },
   "outputs": [],
   "source": [
    "file_path = \"/content/drive/MyDrive/Syracuse University/IST 664 Natural Language Processing/Assignment 3\" # Please change this path as per your drive.\n",
    "file_name = \"aadil_zikre_assignment_3_bert_prediction.csv\"\n",
    "\n",
    "# df_orig.to_csv(f\"{file_path}/{file_name}\", index=False)\n",
    "df_orig_bert = pd.read_csv(f\"{file_path}/{file_name}\")"
   ]
  },
  {
   "cell_type": "markdown",
   "id": "KDK8EhbHiZYz",
   "metadata": {
    "heading_collapsed": true,
    "id": "KDK8EhbHiZYz"
   },
   "source": [
    "# COMPARING THE RESULTS WITH Naive Bayes"
   ]
  },
  {
   "cell_type": "code",
   "execution_count": null,
   "id": "F0VkH9xjAV2Z",
   "metadata": {
    "hidden": true,
    "id": "F0VkH9xjAV2Z"
   },
   "outputs": [],
   "source": [
    "file_path = \"/content/drive/MyDrive/Syracuse University/IST 664 Natural Language Processing/Assignment 2\" # Please change this path as per your drive.\n",
    "file_name = \"aadil_zikre_assignment_2_second_part_file_predictions.csv\"\n",
    "df_orig_nb = pd.read_csv(f\"{file_path}/{file_name}\")"
   ]
  },
  {
   "cell_type": "code",
   "execution_count": null,
   "id": "dij4WT9KdCb3",
   "metadata": {
    "hidden": true,
    "id": "dij4WT9KdCb3"
   },
   "outputs": [],
   "source": [
    "# storing the file for second part at the below location. Please change the variable file path as per the requirement\n",
    "file_path = \"/content/drive/MyDrive/Syracuse University/IST 664 Natural Language Processing/Assignment 2\" # Please change this path as per your drive.\n",
    "file_name = \"aadil_zikre_assignment_2_second_part_file.csv\"\n",
    "# df_p2.to_csv(f\"{file_path}/{file_name}\", index=False)\n",
    "df_nb = pd.read_csv(f\"{file_path}/{file_name}\")"
   ]
  },
  {
   "cell_type": "code",
   "execution_count": null,
   "id": "_Uwz68lHiCCu",
   "metadata": {
    "colab": {
     "base_uri": "https://localhost:8080/"
    },
    "executionInfo": {
     "elapsed": 120,
     "status": "ok",
     "timestamp": 1682187076076,
     "user": {
      "displayName": "Aadil Iliyas Zikre",
      "userId": "11139065713760395341"
     },
     "user_tz": 240
    },
    "hidden": true,
    "id": "_Uwz68lHiCCu",
    "outputId": "a019c090-28f4-4648-941a-9fbe2a827937"
   },
   "outputs": [
    {
     "data": {
      "text/plain": [
       "positive    9021\n",
       "neutral     5802\n",
       "negative    4386\n",
       "Name: y_pred_sentiment, dtype: int64"
      ]
     },
     "execution_count": 12,
     "metadata": {},
     "output_type": "execute_result"
    }
   ],
   "source": [
    "df_orig_bert.y_pred_sentiment.value_counts()"
   ]
  },
  {
   "cell_type": "code",
   "execution_count": null,
   "id": "A_5UEadWw_ba",
   "metadata": {
    "hidden": true,
    "id": "A_5UEadWw_ba"
   },
   "outputs": [],
   "source": [
    "df_bert = df_orig_bert.groupby(\"reviewText\")[\"y_pred_sentiment\"].value_counts().rename(\"polarity_count_bert_\").reset_index()\n",
    "df_bert = df_bert.set_index([\"reviewText\",\"y_pred_sentiment\"]).unstack(fill_value=0).reset_index().rename_axis([None,None], axis = 1)\n",
    "df_bert.columns = [f\"{i}{j}\"for i,j in df_bert.columns]"
   ]
  },
  {
   "cell_type": "code",
   "execution_count": null,
   "id": "bA8Pe3TixzP3",
   "metadata": {
    "hidden": true,
    "id": "bA8Pe3TixzP3"
   },
   "outputs": [],
   "source": [
    "df_nb.rename(columns = {'polarity_count_neg' : 'polarity_count_nb_negative',\n",
    "                        'polarity_count_pos' : 'polarity_count_nb_positive'}, inplace=True)"
   ]
  },
  {
   "cell_type": "code",
   "execution_count": null,
   "id": "EpP_oYAlyUoJ",
   "metadata": {
    "hidden": true,
    "id": "EpP_oYAlyUoJ"
   },
   "outputs": [],
   "source": [
    "df_final = df_nb.merge(df_bert, on='reviewText', how='outer', copy=False)"
   ]
  },
  {
   "cell_type": "code",
   "execution_count": null,
   "id": "imqt1ZHHzbhM",
   "metadata": {
    "colab": {
     "base_uri": "https://localhost:8080/",
     "height": 600
    },
    "executionInfo": {
     "elapsed": 139,
     "status": "ok",
     "timestamp": 1682187162880,
     "user": {
      "displayName": "Aadil Iliyas Zikre",
      "userId": "11139065713760395341"
     },
     "user_tz": 240
    },
    "hidden": true,
    "id": "imqt1ZHHzbhM",
    "outputId": "72c92a51-8730-4fc0-b986-b517a379db54"
   },
   "outputs": [
    {
     "data": {
      "text/html": [
       "\n",
       "  <div id=\"df-baaa2406-1966-49e7-bc14-88773a2deff7\">\n",
       "    <div class=\"colab-df-container\">\n",
       "      <div>\n",
       "<style scoped>\n",
       "    .dataframe tbody tr th:only-of-type {\n",
       "        vertical-align: middle;\n",
       "    }\n",
       "\n",
       "    .dataframe tbody tr th {\n",
       "        vertical-align: top;\n",
       "    }\n",
       "\n",
       "    .dataframe thead th {\n",
       "        text-align: right;\n",
       "    }\n",
       "</style>\n",
       "<table border=\"1\" class=\"dataframe\">\n",
       "  <thead>\n",
       "    <tr style=\"text-align: right;\">\n",
       "      <th></th>\n",
       "      <th>reviewText</th>\n",
       "      <th>polarity_count_nb_negative</th>\n",
       "      <th>polarity_count_nb_positive</th>\n",
       "      <th>polarity_count_bert_negative</th>\n",
       "      <th>polarity_count_bert_neutral</th>\n",
       "      <th>polarity_count_bert_positive</th>\n",
       "    </tr>\n",
       "  </thead>\n",
       "  <tbody>\n",
       "    <tr>\n",
       "      <th>0</th>\n",
       "      <td>&amp;#34;That's what she said&amp;#34; jokes aside, th...</td>\n",
       "      <td>4</td>\n",
       "      <td>0</td>\n",
       "      <td>1</td>\n",
       "      <td>0</td>\n",
       "      <td>3</td>\n",
       "    </tr>\n",
       "    <tr>\n",
       "      <th>1</th>\n",
       "      <td>&amp;#34;What is thaaaat?!?&amp;#34; That was the shri...</td>\n",
       "      <td>4</td>\n",
       "      <td>3</td>\n",
       "      <td>0</td>\n",
       "      <td>3</td>\n",
       "      <td>4</td>\n",
       "    </tr>\n",
       "    <tr>\n",
       "      <th>2</th>\n",
       "      <td>** PLEASE NOTE **  I was new to amazon at the ...</td>\n",
       "      <td>13</td>\n",
       "      <td>1</td>\n",
       "      <td>5</td>\n",
       "      <td>5</td>\n",
       "      <td>4</td>\n",
       "    </tr>\n",
       "    <tr>\n",
       "      <th>3</th>\n",
       "      <td>... but I am not an acrobat.  Takes me more ti...</td>\n",
       "      <td>2</td>\n",
       "      <td>0</td>\n",
       "      <td>0</td>\n",
       "      <td>2</td>\n",
       "      <td>0</td>\n",
       "    </tr>\n",
       "    <tr>\n",
       "      <th>4</th>\n",
       "      <td>... my clothes on-line, I hate sending stuff b...</td>\n",
       "      <td>3</td>\n",
       "      <td>0</td>\n",
       "      <td>1</td>\n",
       "      <td>1</td>\n",
       "      <td>1</td>\n",
       "    </tr>\n",
       "  </tbody>\n",
       "</table>\n",
       "</div>\n",
       "      <button class=\"colab-df-convert\" onclick=\"convertToInteractive('df-baaa2406-1966-49e7-bc14-88773a2deff7')\"\n",
       "              title=\"Convert this dataframe to an interactive table.\"\n",
       "              style=\"display:none;\">\n",
       "        \n",
       "  <svg xmlns=\"http://www.w3.org/2000/svg\" height=\"24px\"viewBox=\"0 0 24 24\"\n",
       "       width=\"24px\">\n",
       "    <path d=\"M0 0h24v24H0V0z\" fill=\"none\"/>\n",
       "    <path d=\"M18.56 5.44l.94 2.06.94-2.06 2.06-.94-2.06-.94-.94-2.06-.94 2.06-2.06.94zm-11 1L8.5 8.5l.94-2.06 2.06-.94-2.06-.94L8.5 2.5l-.94 2.06-2.06.94zm10 10l.94 2.06.94-2.06 2.06-.94-2.06-.94-.94-2.06-.94 2.06-2.06.94z\"/><path d=\"M17.41 7.96l-1.37-1.37c-.4-.4-.92-.59-1.43-.59-.52 0-1.04.2-1.43.59L10.3 9.45l-7.72 7.72c-.78.78-.78 2.05 0 2.83L4 21.41c.39.39.9.59 1.41.59.51 0 1.02-.2 1.41-.59l7.78-7.78 2.81-2.81c.8-.78.8-2.07 0-2.86zM5.41 20L4 18.59l7.72-7.72 1.47 1.35L5.41 20z\"/>\n",
       "  </svg>\n",
       "      </button>\n",
       "      \n",
       "  <style>\n",
       "    .colab-df-container {\n",
       "      display:flex;\n",
       "      flex-wrap:wrap;\n",
       "      gap: 12px;\n",
       "    }\n",
       "\n",
       "    .colab-df-convert {\n",
       "      background-color: #E8F0FE;\n",
       "      border: none;\n",
       "      border-radius: 50%;\n",
       "      cursor: pointer;\n",
       "      display: none;\n",
       "      fill: #1967D2;\n",
       "      height: 32px;\n",
       "      padding: 0 0 0 0;\n",
       "      width: 32px;\n",
       "    }\n",
       "\n",
       "    .colab-df-convert:hover {\n",
       "      background-color: #E2EBFA;\n",
       "      box-shadow: 0px 1px 2px rgba(60, 64, 67, 0.3), 0px 1px 3px 1px rgba(60, 64, 67, 0.15);\n",
       "      fill: #174EA6;\n",
       "    }\n",
       "\n",
       "    [theme=dark] .colab-df-convert {\n",
       "      background-color: #3B4455;\n",
       "      fill: #D2E3FC;\n",
       "    }\n",
       "\n",
       "    [theme=dark] .colab-df-convert:hover {\n",
       "      background-color: #434B5C;\n",
       "      box-shadow: 0px 1px 3px 1px rgba(0, 0, 0, 0.15);\n",
       "      filter: drop-shadow(0px 1px 2px rgba(0, 0, 0, 0.3));\n",
       "      fill: #FFFFFF;\n",
       "    }\n",
       "  </style>\n",
       "\n",
       "      <script>\n",
       "        const buttonEl =\n",
       "          document.querySelector('#df-baaa2406-1966-49e7-bc14-88773a2deff7 button.colab-df-convert');\n",
       "        buttonEl.style.display =\n",
       "          google.colab.kernel.accessAllowed ? 'block' : 'none';\n",
       "\n",
       "        async function convertToInteractive(key) {\n",
       "          const element = document.querySelector('#df-baaa2406-1966-49e7-bc14-88773a2deff7');\n",
       "          const dataTable =\n",
       "            await google.colab.kernel.invokeFunction('convertToInteractive',\n",
       "                                                     [key], {});\n",
       "          if (!dataTable) return;\n",
       "\n",
       "          const docLinkHtml = 'Like what you see? Visit the ' +\n",
       "            '<a target=\"_blank\" href=https://colab.research.google.com/notebooks/data_table.ipynb>data table notebook</a>'\n",
       "            + ' to learn more about interactive tables.';\n",
       "          element.innerHTML = '';\n",
       "          dataTable['output_type'] = 'display_data';\n",
       "          await google.colab.output.renderOutput(dataTable, element);\n",
       "          const docLink = document.createElement('div');\n",
       "          docLink.innerHTML = docLinkHtml;\n",
       "          element.appendChild(docLink);\n",
       "        }\n",
       "      </script>\n",
       "    </div>\n",
       "  </div>\n",
       "  "
      ],
      "text/plain": [
       "                                          reviewText  \\\n",
       "0  &#34;That's what she said&#34; jokes aside, th...   \n",
       "1  &#34;What is thaaaat?!?&#34; That was the shri...   \n",
       "2  ** PLEASE NOTE **  I was new to amazon at the ...   \n",
       "3  ... but I am not an acrobat.  Takes me more ti...   \n",
       "4  ... my clothes on-line, I hate sending stuff b...   \n",
       "\n",
       "   polarity_count_nb_negative  polarity_count_nb_positive  \\\n",
       "0                           4                           0   \n",
       "1                           4                           3   \n",
       "2                          13                           1   \n",
       "3                           2                           0   \n",
       "4                           3                           0   \n",
       "\n",
       "   polarity_count_bert_negative  polarity_count_bert_neutral  \\\n",
       "0                             1                            0   \n",
       "1                             0                            3   \n",
       "2                             5                            5   \n",
       "3                             0                            2   \n",
       "4                             1                            1   \n",
       "\n",
       "   polarity_count_bert_positive  \n",
       "0                             3  \n",
       "1                             4  \n",
       "2                             4  \n",
       "3                             0  \n",
       "4                             1  "
      ]
     },
     "execution_count": 16,
     "metadata": {},
     "output_type": "execute_result"
    }
   ],
   "source": [
    "df_final.head()"
   ]
  },
  {
   "cell_type": "code",
   "execution_count": null,
   "id": "LIC-33q0xobK",
   "metadata": {
    "hidden": true,
    "id": "LIC-33q0xobK"
   },
   "outputs": [],
   "source": [
    "# storing the file for counts of posititve negative and neutral sentences at the below location. \n",
    "# Please change the variable file path as per the requirement\n",
    "file_path = \"/content/drive/MyDrive/Syracuse University/IST 664 Natural Language Processing/Assignment 3\" # Please change this path as per your drive.\n",
    "file_name = \"aadil_zikre_assignment_3_reviewText_wise_pos_neg_neutral_counts.csv\"\n",
    "# df_final.to_csv(f\"{file_path}/{file_name}\", index=False)\n",
    "df_final = pd.read_csv(f\"{file_path}/{file_name}\")"
   ]
  },
  {
   "cell_type": "code",
   "execution_count": null,
   "id": "VgIjlgg6ykmI",
   "metadata": {
    "colab": {
     "base_uri": "https://localhost:8080/"
    },
    "executionInfo": {
     "elapsed": 110,
     "status": "ok",
     "timestamp": 1682187167562,
     "user": {
      "displayName": "Aadil Iliyas Zikre",
      "userId": "11139065713760395341"
     },
     "user_tz": 240
    },
    "hidden": true,
    "id": "VgIjlgg6ykmI",
    "outputId": "51b6a56c-2ea7-445a-932d-a6968aba0171"
   },
   "outputs": [
    {
     "data": {
      "text/plain": [
       "(7767, 9021)"
      ]
     },
     "execution_count": 17,
     "metadata": {},
     "output_type": "execute_result"
    }
   ],
   "source": [
    "df_final.polarity_count_nb_positive.sum(),df_final.polarity_count_bert_positive.sum()"
   ]
  },
  {
   "cell_type": "code",
   "execution_count": null,
   "id": "udwc8NGszDZ_",
   "metadata": {
    "colab": {
     "base_uri": "https://localhost:8080/"
    },
    "executionInfo": {
     "elapsed": 1,
     "status": "ok",
     "timestamp": 1682187167978,
     "user": {
      "displayName": "Aadil Iliyas Zikre",
      "userId": "11139065713760395341"
     },
     "user_tz": 240
    },
    "hidden": true,
    "id": "udwc8NGszDZ_",
    "outputId": "5fe22f8f-d41f-4ebe-c083-2955699ea848"
   },
   "outputs": [
    {
     "data": {
      "text/plain": [
       "(11442, 4386)"
      ]
     },
     "execution_count": 18,
     "metadata": {},
     "output_type": "execute_result"
    }
   ],
   "source": [
    "df_final.polarity_count_nb_negative.sum(),df_final.polarity_count_bert_negative.sum()"
   ]
  },
  {
   "cell_type": "code",
   "execution_count": null,
   "id": "adqVCP_IzJIJ",
   "metadata": {
    "colab": {
     "base_uri": "https://localhost:8080/"
    },
    "executionInfo": {
     "elapsed": 112,
     "status": "ok",
     "timestamp": 1682187169486,
     "user": {
      "displayName": "Aadil Iliyas Zikre",
      "userId": "11139065713760395341"
     },
     "user_tz": 240
    },
    "hidden": true,
    "id": "adqVCP_IzJIJ",
    "outputId": "0c365814-4c39-4c37-ff71-4f9a59b1fe02"
   },
   "outputs": [
    {
     "data": {
      "text/plain": [
       "5802"
      ]
     },
     "execution_count": 19,
     "metadata": {},
     "output_type": "execute_result"
    }
   ],
   "source": [
    "df_final.polarity_count_bert_neutral.sum()"
   ]
  },
  {
   "cell_type": "code",
   "execution_count": null,
   "id": "rCA5NCz2KzRX",
   "metadata": {
    "hidden": true,
    "id": "rCA5NCz2KzRX"
   },
   "outputs": [],
   "source": [
    "df_common = df_orig_bert[['reviewText_ID', 'reviewText', 'reviewText_sents', 'y_pred_sentiment']]"
   ]
  },
  {
   "cell_type": "code",
   "execution_count": null,
   "id": "eFZarZoDgJ71",
   "metadata": {
    "colab": {
     "base_uri": "https://localhost:8080/"
    },
    "executionInfo": {
     "elapsed": 115,
     "status": "ok",
     "timestamp": 1682195484424,
     "user": {
      "displayName": "Aadil Iliyas Zikre",
      "userId": "11139065713760395341"
     },
     "user_tz": 240
    },
    "hidden": true,
    "id": "eFZarZoDgJ71",
    "outputId": "7168393e-cba6-4974-dcf6-019aa1fd4cf3"
   },
   "outputs": [
    {
     "name": "stderr",
     "output_type": "stream",
     "text": [
      "<ipython-input-45-977a567c8d39>:1: SettingWithCopyWarning: \n",
      "A value is trying to be set on a copy of a slice from a DataFrame\n",
      "\n",
      "See the caveats in the documentation: https://pandas.pydata.org/pandas-docs/stable/user_guide/indexing.html#returning-a-view-versus-a-copy\n",
      "  df_common.rename(columns = {\"y_pred_sentiment\":\"y_pred_bert\"}, inplace=True)\n"
     ]
    }
   ],
   "source": [
    "df_common.rename(columns = {\"y_pred_sentiment\":\"y_pred_bert\"}, inplace=True)"
   ]
  },
  {
   "cell_type": "code",
   "execution_count": null,
   "id": "QNle1w2SgfOX",
   "metadata": {
    "hidden": true,
    "id": "QNle1w2SgfOX"
   },
   "outputs": [],
   "source": [
    "df_common = df_common.merge(df_orig_nb[['reviewText_ID', 'reviewText', 'reviewText_sents', 'polarity_pred_m2']].rename(columns={'polarity_pred_m2' : 'y_pred_nb'}),\n",
    "                on=['reviewText_ID','reviewText','reviewText_sents'],\n",
    "                how='outer',\n",
    "                copy=False)"
   ]
  },
  {
   "cell_type": "code",
   "execution_count": null,
   "id": "A79vgsWZpTgy",
   "metadata": {
    "hidden": true,
    "id": "A79vgsWZpTgy"
   },
   "outputs": [],
   "source": [
    "df_common.y_pred_nb = df_common.y_pred_nb.replace({'neg':'negative', 'pos':'positive'})"
   ]
  },
  {
   "cell_type": "code",
   "execution_count": null,
   "id": "IOMW6OVIq0j-",
   "metadata": {
    "colab": {
     "base_uri": "https://localhost:8080/",
     "height": 449
    },
    "executionInfo": {
     "elapsed": 709,
     "status": "ok",
     "timestamp": 1682196286647,
     "user": {
      "displayName": "Aadil Iliyas Zikre",
      "userId": "11139065713760395341"
     },
     "user_tz": 240
    },
    "hidden": true,
    "id": "IOMW6OVIq0j-",
    "outputId": "8a8b3262-6d32-43db-9fa8-91691620951d"
   },
   "outputs": [
    {
     "data": {
      "image/png": "[encoded data removed]",
      "text/plain": [
       "<Figure size 640x480 with 2 Axes>"
      ]
     },
     "metadata": {},
     "output_type": "display_data"
    }
   ],
   "source": [
    "import sklearn.metrics as sm\n",
    "import matplotlib.pyplot as plt\n",
    "confusion_matrix = sm.confusion_matrix(df_common.y_pred_nb, df_common.y_pred_bert)\n",
    "cm_display = sm.ConfusionMatrixDisplay(confusion_matrix = confusion_matrix, display_labels = ['negative', 'Neutral', 'positive'])\n",
    "cm_display.plot()\n",
    "plt.show()"
   ]
  },
  {
   "cell_type": "markdown",
   "id": "5dl8QJ3yLFCz",
   "metadata": {
    "hidden": true,
    "id": "5dl8QJ3yLFCz"
   },
   "source": [
    "## NOTE ABOUT COMPARISON OF RESULTS BETWEEN ASSIGNMENT 2 AND 3\n",
    "\n",
    "For the training, in Assignment 2, I had trained on sentence polarity corpus which only had two target polarities: pos and neg. But in this assignment, I trained the model on Twitter Airline Sentiment Dataset from Kaggle which has 3 target polarities: positive, negative and neutral.\n",
    "</br>\n",
    "</br>\n",
    "Coming to the confusion matrix above, The true labels are basically labels from assignment 2 and predicted labels are ones from this assignment. We can see that the row 2 has all zeroes and that is due to the differences in training datasets used. Upon Further inspection, we can see that in about 7700 cases (sum of diagonal starting from top left), both models produced similar results. In about 5600 cases, the models contradict each other. And lastly, in remaining cases, bert predicted neutral for 1986 sentences which were labelled positve by naive bayes and neutral for 3818 sentences which were labelled negative by Naive Bayes. We cannot really compare this last bucket as technically, Naive Bayes was not trained for Neutral Class. \n",
    "</br>\n",
    "</br>\n",
    "Wrapping up, while for a majority of sentences, Bert based BiLSTM and Naive Bayes agree on the polarity, there is a significant amount of sentences where Bert based BiLSTM model found the polarity to be positive rather than negative. This may have happened due to negation being the prominent features in Naive Bayes which discounts the context which is something that Bert captures quite well. Overall, I find Bert Based BiLSTM model to be more accurate."
   ]
  },
  {
   "cell_type": "code",
   "execution_count": null,
   "id": "R4JWdo61vGLs",
   "metadata": {
    "hidden": true,
    "id": "R4JWdo61vGLs"
   },
   "outputs": [],
   "source": [
    "# storing the file for sentence wise predictions of naive bayes and bert based lstm at the below location. \n",
    "file_path = \"/content/drive/MyDrive/Syracuse University/IST 664 Natural Language Processing/Assignment 3\" # Please change this path as per your drive.\n",
    "file_name = \"aadil_zikre_assignment_3_sentencewise_predictions_for_bert_lstm_and_naive_bayes.csv\"\n",
    "# df_common.to_csv(f\"{file_path}/{file_name}\", index=False)\n",
    "df_common = pd.read_csv(f\"{file_path}/{file_name}\")"
   ]
  },
  {
   "cell_type": "markdown",
   "id": "lzLpUpkajdHp",
   "metadata": {
    "id": "lzLpUpkajdHp"
   },
   "source": [
    "# Rough Trials"
   ]
  },
  {
   "cell_type": "code",
   "execution_count": null,
   "id": "tTqJf58vWbne",
   "metadata": {
    "colab": {
     "base_uri": "https://localhost:8080/"
    },
    "executionInfo": {
     "elapsed": 237,
     "status": "ok",
     "timestamp": 1678147812237,
     "user": {
      "displayName": "Aadil Iliyas Zikre",
      "userId": "11139065713760395341"
     },
     "user_tz": 300
    },
    "id": "tTqJf58vWbne",
    "outputId": "8258fce2-975f-4b49-9372-8c6c1dc5e10d"
   },
   "outputs": [
    {
     "data": {
      "text/plain": [
       "[(('I', 'PRP'), ('bought', 'VBD')),\n",
       " (('bought', 'VBD'), ('this', 'DT')),\n",
       " (('to', 'TO'), ('go', 'VB')),\n",
       " (('go', 'VB'), ('with', 'IN')),\n",
       " (('a', 'DT'), ('light', 'JJ')),\n",
       " (('light', 'JJ'), ('blue', 'NN')),\n",
       " (('long', 'RB'), ('sleeve', 'JJ')),\n",
       " (('sleeve', 'JJ'), ('leotard', 'NN')),\n",
       " (('and', 'CC'), ('was', 'VBD')),\n",
       " (('was', 'VBD'), ('happy', 'JJ')),\n",
       " (('happy', 'JJ'), ('the', 'DT')),\n",
       " (('colors', 'NNS'), ('matched', 'VBD')),\n",
       " (('matched', 'VBD'), ('up', 'RP')),\n",
       " (('up', 'RP'), ('great', 'JJ')),\n",
       " (('great', 'JJ'), ('.', '.'))]"
      ]
     },
     "execution_count": 82,
     "metadata": {},
     "output_type": "execute_result"
    }
   ],
   "source": [
    "list_vaid_tags = ('VB','JJ')\n",
    "[i for i in nltk.bigrams(nltk.pos_tag(nltk.word_tokenize(df_rev.reviewText_sents.iloc[5]))) if (i[0][1].startswith(list_vaid_tags)) | (i[1][1].startswith(list_vaid_tags))]"
   ]
  },
  {
   "cell_type": "code",
   "execution_count": null,
   "id": "eQD1JHiuUL7Z",
   "metadata": {
    "colab": {
     "base_uri": "https://localhost:8080/"
    },
    "executionInfo": {
     "elapsed": 191,
     "status": "ok",
     "timestamp": 1678146507246,
     "user": {
      "displayName": "Aadil Iliyas Zikre",
      "userId": "11139065713760395341"
     },
     "user_tz": 300
    },
    "id": "eQD1JHiuUL7Z",
    "outputId": "0e3722ec-1453-491c-c245-317b80acc5b9"
   },
   "outputs": [
    {
     "data": {
      "text/plain": [
       "['a', 'b', 'c', 'd']"
      ]
     },
     "execution_count": 60,
     "metadata": {},
     "output_type": "execute_result"
    }
   ],
   "source": [
    "from itertools import chain\n",
    "list(chain(['a', 'b'], ['c', 'd']))"
   ]
  },
  {
   "cell_type": "code",
   "execution_count": null,
   "id": "ylJa5xwfuSZV",
   "metadata": {
    "colab": {
     "base_uri": "https://localhost:8080/"
    },
    "executionInfo": {
     "elapsed": 100,
     "status": "ok",
     "timestamp": 1677904837368,
     "user": {
      "displayName": "Aadil Iliyas Zikre",
      "userId": "11139065713760395341"
     },
     "user_tz": 300
    },
    "id": "ylJa5xwfuSZV",
    "outputId": "04a3156c-7cbd-4015-e488-c8a4723f5f3b"
   },
   "outputs": [
    {
     "data": {
      "text/plain": [
       "['Aadil', 'is', 'My', 'Name', '!', '!', '!', '!', '!', '!', '!', '!']"
      ]
     },
     "execution_count": 59,
     "metadata": {},
     "output_type": "execute_result"
    }
   ],
   "source": [
    "nltk.word_tokenize(\"Aadil is My Name!!!!!!!!\")"
   ]
  },
  {
   "cell_type": "code",
   "execution_count": null,
   "id": "-BqLcfLR_Ijw",
   "metadata": {
    "colab": {
     "base_uri": "https://localhost:8080/"
    },
    "executionInfo": {
     "elapsed": 101,
     "status": "ok",
     "timestamp": 1677905982124,
     "user": {
      "displayName": "Aadil Iliyas Zikre",
      "userId": "11139065713760395341"
     },
     "user_tz": 300
    },
    "id": "-BqLcfLR_Ijw",
    "outputId": "1480bc48-7902-4225-c123-2053598b0cfc"
   },
   "outputs": [
    {
     "data": {
      "text/plain": [
       "[('Aadil', 'NNP'),\n",
       " ('is', 'VBZ'),\n",
       " ('My', 'PRP$'),\n",
       " ('Name', 'NN'),\n",
       " ('!', '.'),\n",
       " ('!', '.'),\n",
       " ('!', '.'),\n",
       " ('!', '.'),\n",
       " ('!', '.'),\n",
       " ('!', '.'),\n",
       " ('!', '.'),\n",
       " ('!', '.')]"
      ]
     },
     "execution_count": 65,
     "metadata": {},
     "output_type": "execute_result"
    }
   ],
   "source": [
    "nltk.pos_tag(nltk.word_tokenize(\"Aadil is My Name!!!!!!!!\"))"
   ]
  },
  {
   "cell_type": "code",
   "execution_count": null,
   "id": "P4JpYu8ouSUE",
   "metadata": {
    "colab": {
     "base_uri": "https://localhost:8080/"
    },
    "executionInfo": {
     "elapsed": 168,
     "status": "ok",
     "timestamp": 1678144086257,
     "user": {
      "displayName": "Aadil Iliyas Zikre",
      "userId": "11139065713760395341"
     },
     "user_tz": 300
    },
    "id": "P4JpYu8ouSUE",
    "outputId": "315884d2-9977-4bde-e473-1539900e3f56"
   },
   "outputs": [
    {
     "data": {
      "text/plain": [
       "['AADIL', 'IS', 'MY']"
      ]
     },
     "execution_count": 40,
     "metadata": {},
     "output_type": "execute_result"
    }
   ],
   "source": [
    "\n",
    "re.findall(pattern, \"AADIL name IS, MY GArnish\")"
   ]
  },
  {
   "cell_type": "code",
   "execution_count": null,
   "id": "DK_2i0zguSRa",
   "metadata": {
    "colab": {
     "base_uri": "https://localhost:8080/"
    },
    "executionInfo": {
     "elapsed": 366,
     "status": "ok",
     "timestamp": 1678147720148,
     "user": {
      "displayName": "Aadil Iliyas Zikre",
      "userId": "11139065713760395341"
     },
     "user_tz": 300
    },
    "id": "DK_2i0zguSRa",
    "outputId": "73661d1c-5843-439c-e313-891022def6ff"
   },
   "outputs": [
    {
     "data": {
      "text/plain": [
       "False"
      ]
     },
     "execution_count": 81,
     "metadata": {},
     "output_type": "execute_result"
    }
   ],
   "source": [
    "\"V\".startswith(('VB','JJ'))"
   ]
  },
  {
   "cell_type": "code",
   "execution_count": null,
   "id": "66Oa7dgRuSPH",
   "metadata": {
    "id": "66Oa7dgRuSPH"
   },
   "outputs": [],
   "source": []
  },
  {
   "cell_type": "code",
   "execution_count": null,
   "id": "7agBXcxmuSMZ",
   "metadata": {
    "id": "7agBXcxmuSMZ"
   },
   "outputs": [],
   "source": []
  },
  {
   "cell_type": "code",
   "execution_count": null,
   "id": "hsYnKOA3uSKH",
   "metadata": {
    "id": "hsYnKOA3uSKH"
   },
   "outputs": [],
   "source": []
  },
  {
   "cell_type": "code",
   "execution_count": null,
   "id": "03LTZdauuSHx",
   "metadata": {
    "id": "03LTZdauuSHx"
   },
   "outputs": [],
   "source": []
  },
  {
   "cell_type": "code",
   "execution_count": null,
   "id": "8IwcZjjUuSGX",
   "metadata": {
    "id": "8IwcZjjUuSGX"
   },
   "outputs": [],
   "source": []
  },
  {
   "cell_type": "code",
   "execution_count": null,
   "id": "Hb-u9-qVuSDK",
   "metadata": {
    "id": "Hb-u9-qVuSDK"
   },
   "outputs": [],
   "source": []
  },
  {
   "cell_type": "code",
   "execution_count": null,
   "id": "e2uz6K3zuR47",
   "metadata": {
    "id": "e2uz6K3zuR47"
   },
   "outputs": [],
   "source": []
  }
 ],
 "metadata": {
  "colab": {
   "collapsed_sections": [
    "PmZxzgjeq60V",
    "18dmXreMLu-O",
    "uoXhvJr9juUG",
    "47NVQNKR_eB1",
    "g5oSHPE29MxB",
    "OpO3FO0Codc_",
    "pfY6my3H9WeD",
    "yPP2_oBi9ZhT",
    "ISxRlWfr9aXR",
    "FtbQOtda9c6K",
    "d11MkuS69d_A",
    "8E2BKztyNg-_",
    "1It8i15IZWCt",
    "kXRkbAy1Y19w",
    "-tX_ZQPdpwqO",
    "NBfYWIPcVkh6",
    "7zaDdBoQp9gw",
    "Bm9kpQQkXpl8",
    "KcO6xcSxX-Zh",
    "lzLpUpkajdHp"
   ],
   "provenance": []
  },
  "gpuClass": "standard",
  "kernelspec": {
   "display_name": "Python 3 (ipykernel)",
   "language": "python",
   "name": "python3"
  },
  "language_info": {
   "codemirror_mode": {
    "name": "ipython",
    "version": 3
   },
   "file_extension": ".py",
   "mimetype": "text/x-python",
   "name": "python",
   "nbconvert_exporter": "python",
   "pygments_lexer": "ipython3",
   "version": "3.9.12"
  },
  "varInspector": {
   "cols": {
    "lenName": 16,
    "lenType": 16,
    "lenVar": 40
   },
   "kernels_config": {
    "python": {
     "delete_cmd_postfix": "",
     "delete_cmd_prefix": "del ",
     "library": "var_list.py",
     "varRefreshCmd": "print(var_dic_list())"
    },
    "r": {
     "delete_cmd_postfix": ") ",
     "delete_cmd_prefix": "rm(",
     "library": "var_list.r",
     "varRefreshCmd": "cat(var_dic_list()) "
    }
   },
   "types_to_exclude": [
    "module",
    "function",
    "builtin_function_or_method",
    "instance",
    "_Feature"
   ],
   "window_display": false
  },
  "widgets": {
   "application/vnd.jupyter.widget-state+json": {
    "016128a3ece9477eb65be21a2794871e": {
     "model_module": "@jupyter-widgets/controls",
     "model_module_version": "1.5.0",
     "model_name": "FloatProgressModel",
     "state": {
      "_dom_classes": [],
      "_model_module": "@jupyter-widgets/controls",
      "_model_module_version": "1.5.0",
      "_model_name": "FloatProgressModel",
      "_view_count": null,
      "_view_module": "@jupyter-widgets/controls",
      "_view_module_version": "1.5.0",
      "_view_name": "ProgressView",
      "bar_style": "success",
      "description": "",
      "description_tooltip": null,
      "layout": "IPY_MODEL_c9608d034e134bbabfcd6a5a33856591",
      "max": 229,
      "min": 0,
      "orientation": "horizontal",
      "style": "IPY_MODEL_b2186a5a98a9415c90d287b9e48c066c",
      "value": 229
     }
    },
    "03324b2a8b504951885b870fc81bce9c": {
     "model_module": "@jupyter-widgets/controls",
     "model_module_version": "1.5.0",
     "model_name": "HBoxModel",
     "state": {
      "_dom_classes": [],
      "_model_module": "@jupyter-widgets/controls",
      "_model_module_version": "1.5.0",
      "_model_name": "HBoxModel",
      "_view_count": null,
      "_view_module": "@jupyter-widgets/controls",
      "_view_module_version": "1.5.0",
      "_view_name": "HBoxView",
      "box_style": "",
      "children": [
       "IPY_MODEL_2f1dd94d1be14a42a61c50886f837d0e",
       "IPY_MODEL_0aafe4da65584cbd85f14dde021e5259",
       "IPY_MODEL_090dc0b43da14df99b12f9e114bfdade"
      ],
      "layout": "IPY_MODEL_bb90775f49d44aad83064215fee956f3"
     }
    },
    "06ed3ecfb53a499d83ce2359a955680f": {
     "model_module": "@jupyter-widgets/base",
     "model_module_version": "1.2.0",
     "model_name": "LayoutModel",
     "state": {
      "_model_module": "@jupyter-widgets/base",
      "_model_module_version": "1.2.0",
      "_model_name": "LayoutModel",
      "_view_count": null,
      "_view_module": "@jupyter-widgets/base",
      "_view_module_version": "1.2.0",
      "_view_name": "LayoutView",
      "align_content": null,
      "align_items": null,
      "align_self": null,
      "border": null,
      "bottom": null,
      "display": null,
      "flex": null,
      "flex_flow": null,
      "grid_area": null,
      "grid_auto_columns": null,
      "grid_auto_flow": null,
      "grid_auto_rows": null,
      "grid_column": null,
      "grid_gap": null,
      "grid_row": null,
      "grid_template_areas": null,
      "grid_template_columns": null,
      "grid_template_rows": null,
      "height": null,
      "justify_content": null,
      "justify_items": null,
      "left": null,
      "margin": null,
      "max_height": null,
      "max_width": null,
      "min_height": null,
      "min_width": null,
      "object_fit": null,
      "object_position": null,
      "order": null,
      "overflow": null,
      "overflow_x": null,
      "overflow_y": null,
      "padding": null,
      "right": null,
      "top": null,
      "visibility": null,
      "width": null
     }
    },
    "06f7a6b4b3794f2ba3976053da30614a": {
     "model_module": "@jupyter-widgets/base",
     "model_module_version": "1.2.0",
     "model_name": "LayoutModel",
     "state": {
      "_model_module": "@jupyter-widgets/base",
      "_model_module_version": "1.2.0",
      "_model_name": "LayoutModel",
      "_view_count": null,
      "_view_module": "@jupyter-widgets/base",
      "_view_module_version": "1.2.0",
      "_view_name": "LayoutView",
      "align_content": null,
      "align_items": null,
      "align_self": null,
      "border": null,
      "bottom": null,
      "display": null,
      "flex": null,
      "flex_flow": null,
      "grid_area": null,
      "grid_auto_columns": null,
      "grid_auto_flow": null,
      "grid_auto_rows": null,
      "grid_column": null,
      "grid_gap": null,
      "grid_row": null,
      "grid_template_areas": null,
      "grid_template_columns": null,
      "grid_template_rows": null,
      "height": null,
      "justify_content": null,
      "justify_items": null,
      "left": null,
      "margin": null,
      "max_height": null,
      "max_width": null,
      "min_height": null,
      "min_width": null,
      "object_fit": null,
      "object_position": null,
      "order": null,
      "overflow": null,
      "overflow_x": null,
      "overflow_y": null,
      "padding": null,
      "right": null,
      "top": null,
      "visibility": null,
      "width": null
     }
    },
    "090dc0b43da14df99b12f9e114bfdade": {
     "model_module": "@jupyter-widgets/controls",
     "model_module_version": "1.5.0",
     "model_name": "HTMLModel",
     "state": {
      "_dom_classes": [],
      "_model_module": "@jupyter-widgets/controls",
      "_model_module_version": "1.5.0",
      "_model_name": "HTMLModel",
      "_view_count": null,
      "_view_module": "@jupyter-widgets/controls",
      "_view_module_version": "1.5.0",
      "_view_name": "HTMLView",
      "description": "",
      "description_tooltip": null,
      "layout": "IPY_MODEL_ec893e9372594a6eb8a0e899e062926a",
      "placeholder": "​",
      "style": "IPY_MODEL_481abdf348d04052a92ce84eee922c77",
      "value": " 229/229 [00:33&lt;00:00,  7.74it/s]"
     }
    },
    "0aafe4da65584cbd85f14dde021e5259": {
     "model_module": "@jupyter-widgets/controls",
     "model_module_version": "1.5.0",
     "model_name": "FloatProgressModel",
     "state": {
      "_dom_classes": [],
      "_model_module": "@jupyter-widgets/controls",
      "_model_module_version": "1.5.0",
      "_model_name": "FloatProgressModel",
      "_view_count": null,
      "_view_module": "@jupyter-widgets/controls",
      "_view_module_version": "1.5.0",
      "_view_name": "ProgressView",
      "bar_style": "success",
      "description": "",
      "description_tooltip": null,
      "layout": "IPY_MODEL_65db0b43cfb54abf8088c606ec280502",
      "max": 229,
      "min": 0,
      "orientation": "horizontal",
      "style": "IPY_MODEL_237aeef099a94fef8a5788c3943a436b",
      "value": 229
     }
    },
    "0cb73484ece249538e1f26bf6b0e027a": {
     "model_module": "@jupyter-widgets/controls",
     "model_module_version": "1.5.0",
     "model_name": "HBoxModel",
     "state": {
      "_dom_classes": [],
      "_model_module": "@jupyter-widgets/controls",
      "_model_module_version": "1.5.0",
      "_model_name": "HBoxModel",
      "_view_count": null,
      "_view_module": "@jupyter-widgets/controls",
      "_view_module_version": "1.5.0",
      "_view_name": "HBoxView",
      "box_style": "",
      "children": [
       "IPY_MODEL_44e72bceacd043499bb77ec4fa20f983",
       "IPY_MODEL_8a1ef14732b74be09d830d11e32e848e",
       "IPY_MODEL_9962e0237a1a4abf8fcc7963790e31eb"
      ],
      "layout": "IPY_MODEL_468d4a81e89a419d8982eaefea2ba087"
     }
    },
    "0e5ab88586134a8f951af8e3928e34da": {
     "model_module": "@jupyter-widgets/base",
     "model_module_version": "1.2.0",
     "model_name": "LayoutModel",
     "state": {
      "_model_module": "@jupyter-widgets/base",
      "_model_module_version": "1.2.0",
      "_model_name": "LayoutModel",
      "_view_count": null,
      "_view_module": "@jupyter-widgets/base",
      "_view_module_version": "1.2.0",
      "_view_name": "LayoutView",
      "align_content": null,
      "align_items": null,
      "align_self": null,
      "border": null,
      "bottom": null,
      "display": null,
      "flex": null,
      "flex_flow": null,
      "grid_area": null,
      "grid_auto_columns": null,
      "grid_auto_flow": null,
      "grid_auto_rows": null,
      "grid_column": null,
      "grid_gap": null,
      "grid_row": null,
      "grid_template_areas": null,
      "grid_template_columns": null,
      "grid_template_rows": null,
      "height": null,
      "justify_content": null,
      "justify_items": null,
      "left": null,
      "margin": null,
      "max_height": null,
      "max_width": null,
      "min_height": null,
      "min_width": null,
      "object_fit": null,
      "object_position": null,
      "order": null,
      "overflow": null,
      "overflow_x": null,
      "overflow_y": null,
      "padding": null,
      "right": null,
      "top": null,
      "visibility": null,
      "width": null
     }
    },
    "0f10f993cdf64c7e99f0a6be4a157056": {
     "model_module": "@jupyter-widgets/controls",
     "model_module_version": "1.5.0",
     "model_name": "ProgressStyleModel",
     "state": {
      "_model_module": "@jupyter-widgets/controls",
      "_model_module_version": "1.5.0",
      "_model_name": "ProgressStyleModel",
      "_view_count": null,
      "_view_module": "@jupyter-widgets/base",
      "_view_module_version": "1.2.0",
      "_view_name": "StyleView",
      "bar_color": null,
      "description_width": ""
     }
    },
    "0f2e34aff32a45c8ab09d8589f1ced71": {
     "model_module": "@jupyter-widgets/base",
     "model_module_version": "1.2.0",
     "model_name": "LayoutModel",
     "state": {
      "_model_module": "@jupyter-widgets/base",
      "_model_module_version": "1.2.0",
      "_model_name": "LayoutModel",
      "_view_count": null,
      "_view_module": "@jupyter-widgets/base",
      "_view_module_version": "1.2.0",
      "_view_name": "LayoutView",
      "align_content": null,
      "align_items": null,
      "align_self": null,
      "border": null,
      "bottom": null,
      "display": null,
      "flex": null,
      "flex_flow": null,
      "grid_area": null,
      "grid_auto_columns": null,
      "grid_auto_flow": null,
      "grid_auto_rows": null,
      "grid_column": null,
      "grid_gap": null,
      "grid_row": null,
      "grid_template_areas": null,
      "grid_template_columns": null,
      "grid_template_rows": null,
      "height": null,
      "justify_content": null,
      "justify_items": null,
      "left": null,
      "margin": null,
      "max_height": null,
      "max_width": null,
      "min_height": null,
      "min_width": null,
      "object_fit": null,
      "object_position": null,
      "order": null,
      "overflow": null,
      "overflow_x": null,
      "overflow_y": null,
      "padding": null,
      "right": null,
      "top": null,
      "visibility": null,
      "width": null
     }
    },
    "0f4ae194fe044b409ba23d917855e605": {
     "model_module": "@jupyter-widgets/base",
     "model_module_version": "1.2.0",
     "model_name": "LayoutModel",
     "state": {
      "_model_module": "@jupyter-widgets/base",
      "_model_module_version": "1.2.0",
      "_model_name": "LayoutModel",
      "_view_count": null,
      "_view_module": "@jupyter-widgets/base",
      "_view_module_version": "1.2.0",
      "_view_name": "LayoutView",
      "align_content": null,
      "align_items": null,
      "align_self": null,
      "border": null,
      "bottom": null,
      "display": null,
      "flex": null,
      "flex_flow": null,
      "grid_area": null,
      "grid_auto_columns": null,
      "grid_auto_flow": null,
      "grid_auto_rows": null,
      "grid_column": null,
      "grid_gap": null,
      "grid_row": null,
      "grid_template_areas": null,
      "grid_template_columns": null,
      "grid_template_rows": null,
      "height": null,
      "justify_content": null,
      "justify_items": null,
      "left": null,
      "margin": null,
      "max_height": null,
      "max_width": null,
      "min_height": null,
      "min_width": null,
      "object_fit": null,
      "object_position": null,
      "order": null,
      "overflow": null,
      "overflow_x": null,
      "overflow_y": null,
      "padding": null,
      "right": null,
      "top": null,
      "visibility": null,
      "width": null
     }
    },
    "0fd2edba39cf418b887e62dad30b9ce5": {
     "model_module": "@jupyter-widgets/base",
     "model_module_version": "1.2.0",
     "model_name": "LayoutModel",
     "state": {
      "_model_module": "@jupyter-widgets/base",
      "_model_module_version": "1.2.0",
      "_model_name": "LayoutModel",
      "_view_count": null,
      "_view_module": "@jupyter-widgets/base",
      "_view_module_version": "1.2.0",
      "_view_name": "LayoutView",
      "align_content": null,
      "align_items": null,
      "align_self": null,
      "border": null,
      "bottom": null,
      "display": null,
      "flex": null,
      "flex_flow": null,
      "grid_area": null,
      "grid_auto_columns": null,
      "grid_auto_flow": null,
      "grid_auto_rows": null,
      "grid_column": null,
      "grid_gap": null,
      "grid_row": null,
      "grid_template_areas": null,
      "grid_template_columns": null,
      "grid_template_rows": null,
      "height": null,
      "justify_content": null,
      "justify_items": null,
      "left": null,
      "margin": null,
      "max_height": null,
      "max_width": null,
      "min_height": null,
      "min_width": null,
      "object_fit": null,
      "object_position": null,
      "order": null,
      "overflow": null,
      "overflow_x": null,
      "overflow_y": null,
      "padding": null,
      "right": null,
      "top": null,
      "visibility": null,
      "width": null
     }
    },
    "0fdf8fc2c9074780a1686be2bfc6c489": {
     "model_module": "@jupyter-widgets/controls",
     "model_module_version": "1.5.0",
     "model_name": "DescriptionStyleModel",
     "state": {
      "_model_module": "@jupyter-widgets/controls",
      "_model_module_version": "1.5.0",
      "_model_name": "DescriptionStyleModel",
      "_view_count": null,
      "_view_module": "@jupyter-widgets/base",
      "_view_module_version": "1.2.0",
      "_view_name": "StyleView",
      "description_width": ""
     }
    },
    "10559a5ffee84b0d839f2013899ff31c": {
     "model_module": "@jupyter-widgets/base",
     "model_module_version": "1.2.0",
     "model_name": "LayoutModel",
     "state": {
      "_model_module": "@jupyter-widgets/base",
      "_model_module_version": "1.2.0",
      "_model_name": "LayoutModel",
      "_view_count": null,
      "_view_module": "@jupyter-widgets/base",
      "_view_module_version": "1.2.0",
      "_view_name": "LayoutView",
      "align_content": null,
      "align_items": null,
      "align_self": null,
      "border": null,
      "bottom": null,
      "display": null,
      "flex": null,
      "flex_flow": null,
      "grid_area": null,
      "grid_auto_columns": null,
      "grid_auto_flow": null,
      "grid_auto_rows": null,
      "grid_column": null,
      "grid_gap": null,
      "grid_row": null,
      "grid_template_areas": null,
      "grid_template_columns": null,
      "grid_template_rows": null,
      "height": null,
      "justify_content": null,
      "justify_items": null,
      "left": null,
      "margin": null,
      "max_height": null,
      "max_width": null,
      "min_height": null,
      "min_width": null,
      "object_fit": null,
      "object_position": null,
      "order": null,
      "overflow": null,
      "overflow_x": null,
      "overflow_y": null,
      "padding": null,
      "right": null,
      "top": null,
      "visibility": null,
      "width": null
     }
    },
    "11619669ed8a4c05a452b489cad3aa33": {
     "model_module": "@jupyter-widgets/base",
     "model_module_version": "1.2.0",
     "model_name": "LayoutModel",
     "state": {
      "_model_module": "@jupyter-widgets/base",
      "_model_module_version": "1.2.0",
      "_model_name": "LayoutModel",
      "_view_count": null,
      "_view_module": "@jupyter-widgets/base",
      "_view_module_version": "1.2.0",
      "_view_name": "LayoutView",
      "align_content": null,
      "align_items": null,
      "align_self": null,
      "border": null,
      "bottom": null,
      "display": null,
      "flex": null,
      "flex_flow": null,
      "grid_area": null,
      "grid_auto_columns": null,
      "grid_auto_flow": null,
      "grid_auto_rows": null,
      "grid_column": null,
      "grid_gap": null,
      "grid_row": null,
      "grid_template_areas": null,
      "grid_template_columns": null,
      "grid_template_rows": null,
      "height": null,
      "justify_content": null,
      "justify_items": null,
      "left": null,
      "margin": null,
      "max_height": null,
      "max_width": null,
      "min_height": null,
      "min_width": null,
      "object_fit": null,
      "object_position": null,
      "order": null,
      "overflow": null,
      "overflow_x": null,
      "overflow_y": null,
      "padding": null,
      "right": null,
      "top": null,
      "visibility": null,
      "width": null
     }
    },
    "12ab3b0fe77848f8a4f9c9dc9993fe80": {
     "model_module": "@jupyter-widgets/base",
     "model_module_version": "1.2.0",
     "model_name": "LayoutModel",
     "state": {
      "_model_module": "@jupyter-widgets/base",
      "_model_module_version": "1.2.0",
      "_model_name": "LayoutModel",
      "_view_count": null,
      "_view_module": "@jupyter-widgets/base",
      "_view_module_version": "1.2.0",
      "_view_name": "LayoutView",
      "align_content": null,
      "align_items": null,
      "align_self": null,
      "border": null,
      "bottom": null,
      "display": null,
      "flex": null,
      "flex_flow": null,
      "grid_area": null,
      "grid_auto_columns": null,
      "grid_auto_flow": null,
      "grid_auto_rows": null,
      "grid_column": null,
      "grid_gap": null,
      "grid_row": null,
      "grid_template_areas": null,
      "grid_template_columns": null,
      "grid_template_rows": null,
      "height": null,
      "justify_content": null,
      "justify_items": null,
      "left": null,
      "margin": null,
      "max_height": null,
      "max_width": null,
      "min_height": null,
      "min_width": null,
      "object_fit": null,
      "object_position": null,
      "order": null,
      "overflow": null,
      "overflow_x": null,
      "overflow_y": null,
      "padding": null,
      "right": null,
      "top": null,
      "visibility": null,
      "width": null
     }
    },
    "12ff91ec598f4a429b211a8ae0e445a0": {
     "model_module": "@jupyter-widgets/base",
     "model_module_version": "1.2.0",
     "model_name": "LayoutModel",
     "state": {
      "_model_module": "@jupyter-widgets/base",
      "_model_module_version": "1.2.0",
      "_model_name": "LayoutModel",
      "_view_count": null,
      "_view_module": "@jupyter-widgets/base",
      "_view_module_version": "1.2.0",
      "_view_name": "LayoutView",
      "align_content": null,
      "align_items": null,
      "align_self": null,
      "border": null,
      "bottom": null,
      "display": null,
      "flex": null,
      "flex_flow": null,
      "grid_area": null,
      "grid_auto_columns": null,
      "grid_auto_flow": null,
      "grid_auto_rows": null,
      "grid_column": null,
      "grid_gap": null,
      "grid_row": null,
      "grid_template_areas": null,
      "grid_template_columns": null,
      "grid_template_rows": null,
      "height": null,
      "justify_content": null,
      "justify_items": null,
      "left": null,
      "margin": null,
      "max_height": null,
      "max_width": null,
      "min_height": null,
      "min_width": null,
      "object_fit": null,
      "object_position": null,
      "order": null,
      "overflow": null,
      "overflow_x": null,
      "overflow_y": null,
      "padding": null,
      "right": null,
      "top": null,
      "visibility": null,
      "width": null
     }
    },
    "138e511d0c08460884ab412600b449cd": {
     "model_module": "@jupyter-widgets/base",
     "model_module_version": "1.2.0",
     "model_name": "LayoutModel",
     "state": {
      "_model_module": "@jupyter-widgets/base",
      "_model_module_version": "1.2.0",
      "_model_name": "LayoutModel",
      "_view_count": null,
      "_view_module": "@jupyter-widgets/base",
      "_view_module_version": "1.2.0",
      "_view_name": "LayoutView",
      "align_content": null,
      "align_items": null,
      "align_self": null,
      "border": null,
      "bottom": null,
      "display": null,
      "flex": null,
      "flex_flow": null,
      "grid_area": null,
      "grid_auto_columns": null,
      "grid_auto_flow": null,
      "grid_auto_rows": null,
      "grid_column": null,
      "grid_gap": null,
      "grid_row": null,
      "grid_template_areas": null,
      "grid_template_columns": null,
      "grid_template_rows": null,
      "height": null,
      "justify_content": null,
      "justify_items": null,
      "left": null,
      "margin": null,
      "max_height": null,
      "max_width": null,
      "min_height": null,
      "min_width": null,
      "object_fit": null,
      "object_position": null,
      "order": null,
      "overflow": null,
      "overflow_x": null,
      "overflow_y": null,
      "padding": null,
      "right": null,
      "top": null,
      "visibility": null,
      "width": null
     }
    },
    "14c0baf553284baeab13101ab9062cee": {
     "model_module": "@jupyter-widgets/controls",
     "model_module_version": "1.5.0",
     "model_name": "HTMLModel",
     "state": {
      "_dom_classes": [],
      "_model_module": "@jupyter-widgets/controls",
      "_model_module_version": "1.5.0",
      "_model_name": "HTMLModel",
      "_view_count": null,
      "_view_module": "@jupyter-widgets/controls",
      "_view_module_version": "1.5.0",
      "_view_name": "HTMLView",
      "description": "",
      "description_tooltip": null,
      "layout": "IPY_MODEL_0f2e34aff32a45c8ab09d8589f1ced71",
      "placeholder": "​",
      "style": "IPY_MODEL_7b366df981d749fba483572fd60d3deb",
      "value": " 229/229 [00:28&lt;00:00,  7.90it/s]"
     }
    },
    "152679f31b3a48f0a887ed26ed565744": {
     "model_module": "@jupyter-widgets/controls",
     "model_module_version": "1.5.0",
     "model_name": "HTMLModel",
     "state": {
      "_dom_classes": [],
      "_model_module": "@jupyter-widgets/controls",
      "_model_module_version": "1.5.0",
      "_model_name": "HTMLModel",
      "_view_count": null,
      "_view_module": "@jupyter-widgets/controls",
      "_view_module_version": "1.5.0",
      "_view_name": "HTMLView",
      "description": "",
      "description_tooltip": null,
      "layout": "IPY_MODEL_10559a5ffee84b0d839f2013899ff31c",
      "placeholder": "​",
      "style": "IPY_MODEL_2f67763728244dd49b4080be9acd5f35",
      "value": " 798k/798k [00:00&lt;00:00, 940kB/s]"
     }
    },
    "15b8fafea96f4b43a66aed09bd7134d0": {
     "model_module": "@jupyter-widgets/controls",
     "model_module_version": "1.5.0",
     "model_name": "DescriptionStyleModel",
     "state": {
      "_model_module": "@jupyter-widgets/controls",
      "_model_module_version": "1.5.0",
      "_model_name": "DescriptionStyleModel",
      "_view_count": null,
      "_view_module": "@jupyter-widgets/base",
      "_view_module_version": "1.2.0",
      "_view_name": "StyleView",
      "description_width": ""
     }
    },
    "15e7a1760ec245cbb4f162265ec3ee83": {
     "model_module": "@jupyter-widgets/controls",
     "model_module_version": "1.5.0",
     "model_name": "HBoxModel",
     "state": {
      "_dom_classes": [],
      "_model_module": "@jupyter-widgets/controls",
      "_model_module_version": "1.5.0",
      "_model_name": "HBoxModel",
      "_view_count": null,
      "_view_module": "@jupyter-widgets/controls",
      "_view_module_version": "1.5.0",
      "_view_name": "HBoxView",
      "box_style": "",
      "children": [
       "IPY_MODEL_deb9247c55f74b4b818232a6dcb71c05",
       "IPY_MODEL_cbe0f3cbdf624ebbbeea8e04533162ba",
       "IPY_MODEL_86e728e2ab404e569745e5e67e51a823"
      ],
      "layout": "IPY_MODEL_ca2b641c13f442489aa98b1ea5aea47f"
     }
    },
    "16061a7761cd42d3b94a1d71005ca919": {
     "model_module": "@jupyter-widgets/base",
     "model_module_version": "1.2.0",
     "model_name": "LayoutModel",
     "state": {
      "_model_module": "@jupyter-widgets/base",
      "_model_module_version": "1.2.0",
      "_model_name": "LayoutModel",
      "_view_count": null,
      "_view_module": "@jupyter-widgets/base",
      "_view_module_version": "1.2.0",
      "_view_name": "LayoutView",
      "align_content": null,
      "align_items": null,
      "align_self": null,
      "border": null,
      "bottom": null,
      "display": null,
      "flex": null,
      "flex_flow": null,
      "grid_area": null,
      "grid_auto_columns": null,
      "grid_auto_flow": null,
      "grid_auto_rows": null,
      "grid_column": null,
      "grid_gap": null,
      "grid_row": null,
      "grid_template_areas": null,
      "grid_template_columns": null,
      "grid_template_rows": null,
      "height": null,
      "justify_content": null,
      "justify_items": null,
      "left": null,
      "margin": null,
      "max_height": null,
      "max_width": null,
      "min_height": null,
      "min_width": null,
      "object_fit": null,
      "object_position": null,
      "order": null,
      "overflow": null,
      "overflow_x": null,
      "overflow_y": null,
      "padding": null,
      "right": null,
      "top": null,
      "visibility": null,
      "width": null
     }
    },
    "16722f3a67754409920aeec40033ad7c": {
     "model_module": "@jupyter-widgets/controls",
     "model_module_version": "1.5.0",
     "model_name": "HTMLModel",
     "state": {
      "_dom_classes": [],
      "_model_module": "@jupyter-widgets/controls",
      "_model_module_version": "1.5.0",
      "_model_name": "HTMLModel",
      "_view_count": null,
      "_view_module": "@jupyter-widgets/controls",
      "_view_module_version": "1.5.0",
      "_view_name": "HTMLView",
      "description": "",
      "description_tooltip": null,
      "layout": "IPY_MODEL_138e511d0c08460884ab412600b449cd",
      "placeholder": "​",
      "style": "IPY_MODEL_71d11be8bf294e2aa3a91bd7513bcae8",
      "value": "Downloading (…)/main/tokenizer.json: 100%"
     }
    },
    "16ed5e63efad49dd9c325e5cb8bed1c6": {
     "model_module": "@jupyter-widgets/controls",
     "model_module_version": "1.5.0",
     "model_name": "DescriptionStyleModel",
     "state": {
      "_model_module": "@jupyter-widgets/controls",
      "_model_module_version": "1.5.0",
      "_model_name": "DescriptionStyleModel",
      "_view_count": null,
      "_view_module": "@jupyter-widgets/base",
      "_view_module_version": "1.2.0",
      "_view_name": "StyleView",
      "description_width": ""
     }
    },
    "174b9d9f30834f658f82c89f9595764d": {
     "model_module": "@jupyter-widgets/base",
     "model_module_version": "1.2.0",
     "model_name": "LayoutModel",
     "state": {
      "_model_module": "@jupyter-widgets/base",
      "_model_module_version": "1.2.0",
      "_model_name": "LayoutModel",
      "_view_count": null,
      "_view_module": "@jupyter-widgets/base",
      "_view_module_version": "1.2.0",
      "_view_name": "LayoutView",
      "align_content": null,
      "align_items": null,
      "align_self": null,
      "border": null,
      "bottom": null,
      "display": null,
      "flex": null,
      "flex_flow": null,
      "grid_area": null,
      "grid_auto_columns": null,
      "grid_auto_flow": null,
      "grid_auto_rows": null,
      "grid_column": null,
      "grid_gap": null,
      "grid_row": null,
      "grid_template_areas": null,
      "grid_template_columns": null,
      "grid_template_rows": null,
      "height": null,
      "justify_content": null,
      "justify_items": null,
      "left": null,
      "margin": null,
      "max_height": null,
      "max_width": null,
      "min_height": null,
      "min_width": null,
      "object_fit": null,
      "object_position": null,
      "order": null,
      "overflow": null,
      "overflow_x": null,
      "overflow_y": null,
      "padding": null,
      "right": null,
      "top": null,
      "visibility": null,
      "width": null
     }
    },
    "177ecb0857d8401a80d2f7e50e8a76b4": {
     "model_module": "@jupyter-widgets/controls",
     "model_module_version": "1.5.0",
     "model_name": "DescriptionStyleModel",
     "state": {
      "_model_module": "@jupyter-widgets/controls",
      "_model_module_version": "1.5.0",
      "_model_name": "DescriptionStyleModel",
      "_view_count": null,
      "_view_module": "@jupyter-widgets/base",
      "_view_module_version": "1.2.0",
      "_view_name": "StyleView",
      "description_width": ""
     }
    },
    "17b0f2f3f17e4af987bbeaaac5144909": {
     "model_module": "@jupyter-widgets/base",
     "model_module_version": "1.2.0",
     "model_name": "LayoutModel",
     "state": {
      "_model_module": "@jupyter-widgets/base",
      "_model_module_version": "1.2.0",
      "_model_name": "LayoutModel",
      "_view_count": null,
      "_view_module": "@jupyter-widgets/base",
      "_view_module_version": "1.2.0",
      "_view_name": "LayoutView",
      "align_content": null,
      "align_items": null,
      "align_self": null,
      "border": null,
      "bottom": null,
      "display": null,
      "flex": null,
      "flex_flow": null,
      "grid_area": null,
      "grid_auto_columns": null,
      "grid_auto_flow": null,
      "grid_auto_rows": null,
      "grid_column": null,
      "grid_gap": null,
      "grid_row": null,
      "grid_template_areas": null,
      "grid_template_columns": null,
      "grid_template_rows": null,
      "height": null,
      "justify_content": null,
      "justify_items": null,
      "left": null,
      "margin": null,
      "max_height": null,
      "max_width": null,
      "min_height": null,
      "min_width": null,
      "object_fit": null,
      "object_position": null,
      "order": null,
      "overflow": null,
      "overflow_x": null,
      "overflow_y": null,
      "padding": null,
      "right": null,
      "top": null,
      "visibility": null,
      "width": null
     }
    },
    "1821a9b9a7dd494ea0dab3c48d30ca8e": {
     "model_module": "@jupyter-widgets/controls",
     "model_module_version": "1.5.0",
     "model_name": "DescriptionStyleModel",
     "state": {
      "_model_module": "@jupyter-widgets/controls",
      "_model_module_version": "1.5.0",
      "_model_name": "DescriptionStyleModel",
      "_view_count": null,
      "_view_module": "@jupyter-widgets/base",
      "_view_module_version": "1.2.0",
      "_view_name": "StyleView",
      "description_width": ""
     }
    },
    "198329f17ba6483aa7499bb356dd6c40": {
     "model_module": "@jupyter-widgets/base",
     "model_module_version": "1.2.0",
     "model_name": "LayoutModel",
     "state": {
      "_model_module": "@jupyter-widgets/base",
      "_model_module_version": "1.2.0",
      "_model_name": "LayoutModel",
      "_view_count": null,
      "_view_module": "@jupyter-widgets/base",
      "_view_module_version": "1.2.0",
      "_view_name": "LayoutView",
      "align_content": null,
      "align_items": null,
      "align_self": null,
      "border": null,
      "bottom": null,
      "display": null,
      "flex": null,
      "flex_flow": null,
      "grid_area": null,
      "grid_auto_columns": null,
      "grid_auto_flow": null,
      "grid_auto_rows": null,
      "grid_column": null,
      "grid_gap": null,
      "grid_row": null,
      "grid_template_areas": null,
      "grid_template_columns": null,
      "grid_template_rows": null,
      "height": null,
      "justify_content": null,
      "justify_items": null,
      "left": null,
      "margin": null,
      "max_height": null,
      "max_width": null,
      "min_height": null,
      "min_width": null,
      "object_fit": null,
      "object_position": null,
      "order": null,
      "overflow": null,
      "overflow_x": null,
      "overflow_y": null,
      "padding": null,
      "right": null,
      "top": null,
      "visibility": null,
      "width": null
     }
    },
    "19940eb4674746cea3561100f5a31a2a": {
     "model_module": "@jupyter-widgets/controls",
     "model_module_version": "1.5.0",
     "model_name": "DescriptionStyleModel",
     "state": {
      "_model_module": "@jupyter-widgets/controls",
      "_model_module_version": "1.5.0",
      "_model_name": "DescriptionStyleModel",
      "_view_count": null,
      "_view_module": "@jupyter-widgets/base",
      "_view_module_version": "1.2.0",
      "_view_name": "StyleView",
      "description_width": ""
     }
    },
    "19fd1b5ffb2046bd8f7028f7fffec7ee": {
     "model_module": "@jupyter-widgets/controls",
     "model_module_version": "1.5.0",
     "model_name": "DescriptionStyleModel",
     "state": {
      "_model_module": "@jupyter-widgets/controls",
      "_model_module_version": "1.5.0",
      "_model_name": "DescriptionStyleModel",
      "_view_count": null,
      "_view_module": "@jupyter-widgets/base",
      "_view_module_version": "1.2.0",
      "_view_name": "StyleView",
      "description_width": ""
     }
    },
    "1a60402c543d4d4393d248b39e8168b2": {
     "model_module": "@jupyter-widgets/controls",
     "model_module_version": "1.5.0",
     "model_name": "FloatProgressModel",
     "state": {
      "_dom_classes": [],
      "_model_module": "@jupyter-widgets/controls",
      "_model_module_version": "1.5.0",
      "_model_name": "FloatProgressModel",
      "_view_count": null,
      "_view_module": "@jupyter-widgets/controls",
      "_view_module_version": "1.5.0",
      "_view_name": "ProgressView",
      "bar_style": "success",
      "description": "",
      "description_tooltip": null,
      "layout": "IPY_MODEL_17b0f2f3f17e4af987bbeaaac5144909",
      "max": 229,
      "min": 0,
      "orientation": "horizontal",
      "style": "IPY_MODEL_3ed50c83f7ce409f99a1aefa34d8cf16",
      "value": 229
     }
    },
    "1cb7c8502a194a89a33891066b91c09c": {
     "model_module": "@jupyter-widgets/controls",
     "model_module_version": "1.5.0",
     "model_name": "HBoxModel",
     "state": {
      "_dom_classes": [],
      "_model_module": "@jupyter-widgets/controls",
      "_model_module_version": "1.5.0",
      "_model_name": "HBoxModel",
      "_view_count": null,
      "_view_module": "@jupyter-widgets/controls",
      "_view_module_version": "1.5.0",
      "_view_name": "HBoxView",
      "box_style": "",
      "children": [
       "IPY_MODEL_aa13f98648be4fa985a7a974b8d435a0",
       "IPY_MODEL_36f55abd1b7f47c29ec133f7b1d6676a",
       "IPY_MODEL_d82818f588e8452c87885945c37d7f15"
      ],
      "layout": "IPY_MODEL_256a85ddb52941b4b343fa242cd7c693"
     }
    },
    "1cfb214f2b874b7faf4df3a47aab3282": {
     "model_module": "@jupyter-widgets/controls",
     "model_module_version": "1.5.0",
     "model_name": "ProgressStyleModel",
     "state": {
      "_model_module": "@jupyter-widgets/controls",
      "_model_module_version": "1.5.0",
      "_model_name": "ProgressStyleModel",
      "_view_count": null,
      "_view_module": "@jupyter-widgets/base",
      "_view_module_version": "1.2.0",
      "_view_name": "StyleView",
      "bar_color": null,
      "description_width": ""
     }
    },
    "1e3d550dbcdb4f479cd99bbe5cc5d459": {
     "model_module": "@jupyter-widgets/controls",
     "model_module_version": "1.5.0",
     "model_name": "DescriptionStyleModel",
     "state": {
      "_model_module": "@jupyter-widgets/controls",
      "_model_module_version": "1.5.0",
      "_model_name": "DescriptionStyleModel",
      "_view_count": null,
      "_view_module": "@jupyter-widgets/base",
      "_view_module_version": "1.2.0",
      "_view_name": "StyleView",
      "description_width": ""
     }
    },
    "1f866c50af1146929cf867b64ad0d8b0": {
     "model_module": "@jupyter-widgets/base",
     "model_module_version": "1.2.0",
     "model_name": "LayoutModel",
     "state": {
      "_model_module": "@jupyter-widgets/base",
      "_model_module_version": "1.2.0",
      "_model_name": "LayoutModel",
      "_view_count": null,
      "_view_module": "@jupyter-widgets/base",
      "_view_module_version": "1.2.0",
      "_view_name": "LayoutView",
      "align_content": null,
      "align_items": null,
      "align_self": null,
      "border": null,
      "bottom": null,
      "display": null,
      "flex": null,
      "flex_flow": null,
      "grid_area": null,
      "grid_auto_columns": null,
      "grid_auto_flow": null,
      "grid_auto_rows": null,
      "grid_column": null,
      "grid_gap": null,
      "grid_row": null,
      "grid_template_areas": null,
      "grid_template_columns": null,
      "grid_template_rows": null,
      "height": null,
      "justify_content": null,
      "justify_items": null,
      "left": null,
      "margin": null,
      "max_height": null,
      "max_width": null,
      "min_height": null,
      "min_width": null,
      "object_fit": null,
      "object_position": null,
      "order": null,
      "overflow": null,
      "overflow_x": null,
      "overflow_y": null,
      "padding": null,
      "right": null,
      "top": null,
      "visibility": null,
      "width": null
     }
    },
    "237aeef099a94fef8a5788c3943a436b": {
     "model_module": "@jupyter-widgets/controls",
     "model_module_version": "1.5.0",
     "model_name": "ProgressStyleModel",
     "state": {
      "_model_module": "@jupyter-widgets/controls",
      "_model_module_version": "1.5.0",
      "_model_name": "ProgressStyleModel",
      "_view_count": null,
      "_view_module": "@jupyter-widgets/base",
      "_view_module_version": "1.2.0",
      "_view_name": "StyleView",
      "bar_color": null,
      "description_width": ""
     }
    },
    "256a85ddb52941b4b343fa242cd7c693": {
     "model_module": "@jupyter-widgets/base",
     "model_module_version": "1.2.0",
     "model_name": "LayoutModel",
     "state": {
      "_model_module": "@jupyter-widgets/base",
      "_model_module_version": "1.2.0",
      "_model_name": "LayoutModel",
      "_view_count": null,
      "_view_module": "@jupyter-widgets/base",
      "_view_module_version": "1.2.0",
      "_view_name": "LayoutView",
      "align_content": null,
      "align_items": null,
      "align_self": null,
      "border": null,
      "bottom": null,
      "display": null,
      "flex": null,
      "flex_flow": null,
      "grid_area": null,
      "grid_auto_columns": null,
      "grid_auto_flow": null,
      "grid_auto_rows": null,
      "grid_column": null,
      "grid_gap": null,
      "grid_row": null,
      "grid_template_areas": null,
      "grid_template_columns": null,
      "grid_template_rows": null,
      "height": null,
      "justify_content": null,
      "justify_items": null,
      "left": null,
      "margin": null,
      "max_height": null,
      "max_width": null,
      "min_height": null,
      "min_width": null,
      "object_fit": null,
      "object_position": null,
      "order": null,
      "overflow": null,
      "overflow_x": null,
      "overflow_y": null,
      "padding": null,
      "right": null,
      "top": null,
      "visibility": null,
      "width": null
     }
    },
    "286cd50af5f54bd6b2b571074bc35247": {
     "model_module": "@jupyter-widgets/controls",
     "model_module_version": "1.5.0",
     "model_name": "HBoxModel",
     "state": {
      "_dom_classes": [],
      "_model_module": "@jupyter-widgets/controls",
      "_model_module_version": "1.5.0",
      "_model_name": "HBoxModel",
      "_view_count": null,
      "_view_module": "@jupyter-widgets/controls",
      "_view_module_version": "1.5.0",
      "_view_name": "HBoxView",
      "box_style": "",
      "children": [
       "IPY_MODEL_6046a67fcbbf47608dca73e25a813435",
       "IPY_MODEL_8d90282ce26f47dca1d2ac61c8b25add",
       "IPY_MODEL_152679f31b3a48f0a887ed26ed565744"
      ],
      "layout": "IPY_MODEL_9dfd62f35b9b4453bdc56bd53b805bd1"
     }
    },
    "2996d97802f54b55a59afea8decfd9b0": {
     "model_module": "@jupyter-widgets/controls",
     "model_module_version": "1.5.0",
     "model_name": "ProgressStyleModel",
     "state": {
      "_model_module": "@jupyter-widgets/controls",
      "_model_module_version": "1.5.0",
      "_model_name": "ProgressStyleModel",
      "_view_count": null,
      "_view_module": "@jupyter-widgets/base",
      "_view_module_version": "1.2.0",
      "_view_name": "StyleView",
      "bar_color": null,
      "description_width": ""
     }
    },
    "29ddbdaa3c604195841b2385e1c1e184": {
     "model_module": "@jupyter-widgets/controls",
     "model_module_version": "1.5.0",
     "model_name": "ProgressStyleModel",
     "state": {
      "_model_module": "@jupyter-widgets/controls",
      "_model_module_version": "1.5.0",
      "_model_name": "ProgressStyleModel",
      "_view_count": null,
      "_view_module": "@jupyter-widgets/base",
      "_view_module_version": "1.2.0",
      "_view_name": "StyleView",
      "bar_color": null,
      "description_width": ""
     }
    },
    "2bce56ade96e4e7b94975d112f5cb445": {
     "model_module": "@jupyter-widgets/base",
     "model_module_version": "1.2.0",
     "model_name": "LayoutModel",
     "state": {
      "_model_module": "@jupyter-widgets/base",
      "_model_module_version": "1.2.0",
      "_model_name": "LayoutModel",
      "_view_count": null,
      "_view_module": "@jupyter-widgets/base",
      "_view_module_version": "1.2.0",
      "_view_name": "LayoutView",
      "align_content": null,
      "align_items": null,
      "align_self": null,
      "border": null,
      "bottom": null,
      "display": null,
      "flex": null,
      "flex_flow": null,
      "grid_area": null,
      "grid_auto_columns": null,
      "grid_auto_flow": null,
      "grid_auto_rows": null,
      "grid_column": null,
      "grid_gap": null,
      "grid_row": null,
      "grid_template_areas": null,
      "grid_template_columns": null,
      "grid_template_rows": null,
      "height": null,
      "justify_content": null,
      "justify_items": null,
      "left": null,
      "margin": null,
      "max_height": null,
      "max_width": null,
      "min_height": null,
      "min_width": null,
      "object_fit": null,
      "object_position": null,
      "order": null,
      "overflow": null,
      "overflow_x": null,
      "overflow_y": null,
      "padding": null,
      "right": null,
      "top": null,
      "visibility": null,
      "width": null
     }
    },
    "2c4807364dad46069244f8312c8042d7": {
     "model_module": "@jupyter-widgets/base",
     "model_module_version": "1.2.0",
     "model_name": "LayoutModel",
     "state": {
      "_model_module": "@jupyter-widgets/base",
      "_model_module_version": "1.2.0",
      "_model_name": "LayoutModel",
      "_view_count": null,
      "_view_module": "@jupyter-widgets/base",
      "_view_module_version": "1.2.0",
      "_view_name": "LayoutView",
      "align_content": null,
      "align_items": null,
      "align_self": null,
      "border": null,
      "bottom": null,
      "display": null,
      "flex": null,
      "flex_flow": null,
      "grid_area": null,
      "grid_auto_columns": null,
      "grid_auto_flow": null,
      "grid_auto_rows": null,
      "grid_column": null,
      "grid_gap": null,
      "grid_row": null,
      "grid_template_areas": null,
      "grid_template_columns": null,
      "grid_template_rows": null,
      "height": null,
      "justify_content": null,
      "justify_items": null,
      "left": null,
      "margin": null,
      "max_height": null,
      "max_width": null,
      "min_height": null,
      "min_width": null,
      "object_fit": null,
      "object_position": null,
      "order": null,
      "overflow": null,
      "overflow_x": null,
      "overflow_y": null,
      "padding": null,
      "right": null,
      "top": null,
      "visibility": null,
      "width": null
     }
    },
    "2e3186626ea7425db24108e802dfde4d": {
     "model_module": "@jupyter-widgets/controls",
     "model_module_version": "1.5.0",
     "model_name": "ProgressStyleModel",
     "state": {
      "_model_module": "@jupyter-widgets/controls",
      "_model_module_version": "1.5.0",
      "_model_name": "ProgressStyleModel",
      "_view_count": null,
      "_view_module": "@jupyter-widgets/base",
      "_view_module_version": "1.2.0",
      "_view_name": "StyleView",
      "bar_color": null,
      "description_width": ""
     }
    },
    "2e46eaea3af84a80ae7f2a113ccdf39a": {
     "model_module": "@jupyter-widgets/controls",
     "model_module_version": "1.5.0",
     "model_name": "FloatProgressModel",
     "state": {
      "_dom_classes": [],
      "_model_module": "@jupyter-widgets/controls",
      "_model_module_version": "1.5.0",
      "_model_name": "FloatProgressModel",
      "_view_count": null,
      "_view_module": "@jupyter-widgets/controls",
      "_view_module_version": "1.5.0",
      "_view_name": "ProgressView",
      "bar_style": "success",
      "description": "",
      "description_tooltip": null,
      "layout": "IPY_MODEL_bdd4dd0158d6438d93f39559b5829036",
      "max": 229,
      "min": 0,
      "orientation": "horizontal",
      "style": "IPY_MODEL_2e3186626ea7425db24108e802dfde4d",
      "value": 229
     }
    },
    "2ecb9f5da02c40018688271ae0feba7d": {
     "model_module": "@jupyter-widgets/base",
     "model_module_version": "1.2.0",
     "model_name": "LayoutModel",
     "state": {
      "_model_module": "@jupyter-widgets/base",
      "_model_module_version": "1.2.0",
      "_model_name": "LayoutModel",
      "_view_count": null,
      "_view_module": "@jupyter-widgets/base",
      "_view_module_version": "1.2.0",
      "_view_name": "LayoutView",
      "align_content": null,
      "align_items": null,
      "align_self": null,
      "border": null,
      "bottom": null,
      "display": null,
      "flex": null,
      "flex_flow": null,
      "grid_area": null,
      "grid_auto_columns": null,
      "grid_auto_flow": null,
      "grid_auto_rows": null,
      "grid_column": null,
      "grid_gap": null,
      "grid_row": null,
      "grid_template_areas": null,
      "grid_template_columns": null,
      "grid_template_rows": null,
      "height": null,
      "justify_content": null,
      "justify_items": null,
      "left": null,
      "margin": null,
      "max_height": null,
      "max_width": null,
      "min_height": null,
      "min_width": null,
      "object_fit": null,
      "object_position": null,
      "order": null,
      "overflow": null,
      "overflow_x": null,
      "overflow_y": null,
      "padding": null,
      "right": null,
      "top": null,
      "visibility": null,
      "width": null
     }
    },
    "2f1dd94d1be14a42a61c50886f837d0e": {
     "model_module": "@jupyter-widgets/controls",
     "model_module_version": "1.5.0",
     "model_name": "HTMLModel",
     "state": {
      "_dom_classes": [],
      "_model_module": "@jupyter-widgets/controls",
      "_model_module_version": "1.5.0",
      "_model_name": "HTMLModel",
      "_view_count": null,
      "_view_module": "@jupyter-widgets/controls",
      "_view_module_version": "1.5.0",
      "_view_name": "HTMLView",
      "description": "",
      "description_tooltip": null,
      "layout": "IPY_MODEL_4610c930159d4d8fb8aeca58cbc9dd78",
      "placeholder": "​",
      "style": "IPY_MODEL_410c266c10074ca08ff918c48562ca04",
      "value": "100%"
     }
    },
    "2f44e07472194d71aeee076e7033e9dc": {
     "model_module": "@jupyter-widgets/controls",
     "model_module_version": "1.5.0",
     "model_name": "FloatProgressModel",
     "state": {
      "_dom_classes": [],
      "_model_module": "@jupyter-widgets/controls",
      "_model_module_version": "1.5.0",
      "_model_name": "FloatProgressModel",
      "_view_count": null,
      "_view_module": "@jupyter-widgets/controls",
      "_view_module_version": "1.5.0",
      "_view_name": "ProgressView",
      "bar_style": "success",
      "description": "",
      "description_tooltip": null,
      "layout": "IPY_MODEL_1f866c50af1146929cf867b64ad0d8b0",
      "max": 798011,
      "min": 0,
      "orientation": "horizontal",
      "style": "IPY_MODEL_c759a0dd72a344678c6336fa9ce1d22b",
      "value": 798011
     }
    },
    "2f67763728244dd49b4080be9acd5f35": {
     "model_module": "@jupyter-widgets/controls",
     "model_module_version": "1.5.0",
     "model_name": "DescriptionStyleModel",
     "state": {
      "_model_module": "@jupyter-widgets/controls",
      "_model_module_version": "1.5.0",
      "_model_name": "DescriptionStyleModel",
      "_view_count": null,
      "_view_module": "@jupyter-widgets/base",
      "_view_module_version": "1.2.0",
      "_view_name": "StyleView",
      "description_width": ""
     }
    },
    "30d9aa6695ba4915b03f3d018884a535": {
     "model_module": "@jupyter-widgets/controls",
     "model_module_version": "1.5.0",
     "model_name": "HTMLModel",
     "state": {
      "_dom_classes": [],
      "_model_module": "@jupyter-widgets/controls",
      "_model_module_version": "1.5.0",
      "_model_name": "HTMLModel",
      "_view_count": null,
      "_view_module": "@jupyter-widgets/controls",
      "_view_module_version": "1.5.0",
      "_view_name": "HTMLView",
      "description": "",
      "description_tooltip": null,
      "layout": "IPY_MODEL_7af1c4ecfc3e4b4cb44d07cbbda74537",
      "placeholder": "​",
      "style": "IPY_MODEL_eab22ac2098a40ba9b9f049888f13db2",
      "value": "100%"
     }
    },
    "31ad3f72f5fc49cab590908c9372aff3": {
     "model_module": "@jupyter-widgets/base",
     "model_module_version": "1.2.0",
     "model_name": "LayoutModel",
     "state": {
      "_model_module": "@jupyter-widgets/base",
      "_model_module_version": "1.2.0",
      "_model_name": "LayoutModel",
      "_view_count": null,
      "_view_module": "@jupyter-widgets/base",
      "_view_module_version": "1.2.0",
      "_view_name": "LayoutView",
      "align_content": null,
      "align_items": null,
      "align_self": null,
      "border": null,
      "bottom": null,
      "display": null,
      "flex": null,
      "flex_flow": null,
      "grid_area": null,
      "grid_auto_columns": null,
      "grid_auto_flow": null,
      "grid_auto_rows": null,
      "grid_column": null,
      "grid_gap": null,
      "grid_row": null,
      "grid_template_areas": null,
      "grid_template_columns": null,
      "grid_template_rows": null,
      "height": null,
      "justify_content": null,
      "justify_items": null,
      "left": null,
      "margin": null,
      "max_height": null,
      "max_width": null,
      "min_height": null,
      "min_width": null,
      "object_fit": null,
      "object_position": null,
      "order": null,
      "overflow": null,
      "overflow_x": null,
      "overflow_y": null,
      "padding": null,
      "right": null,
      "top": null,
      "visibility": null,
      "width": null
     }
    },
    "33cb5560b5f04321acdb232131083b73": {
     "model_module": "@jupyter-widgets/controls",
     "model_module_version": "1.5.0",
     "model_name": "HTMLModel",
     "state": {
      "_dom_classes": [],
      "_model_module": "@jupyter-widgets/controls",
      "_model_module_version": "1.5.0",
      "_model_name": "HTMLModel",
      "_view_count": null,
      "_view_module": "@jupyter-widgets/controls",
      "_view_module_version": "1.5.0",
      "_view_name": "HTMLView",
      "description": "",
      "description_tooltip": null,
      "layout": "IPY_MODEL_bf8b14d302644196b9baebdaf120579a",
      "placeholder": "​",
      "style": "IPY_MODEL_6c8f6631bd1340adbbd0dbb137af505f",
      "value": " 301/301 [00:36&lt;00:00,  8.25it/s]"
     }
    },
    "36f55abd1b7f47c29ec133f7b1d6676a": {
     "model_module": "@jupyter-widgets/controls",
     "model_module_version": "1.5.0",
     "model_name": "FloatProgressModel",
     "state": {
      "_dom_classes": [],
      "_model_module": "@jupyter-widgets/controls",
      "_model_module_version": "1.5.0",
      "_model_name": "FloatProgressModel",
      "_view_count": null,
      "_view_module": "@jupyter-widgets/controls",
      "_view_module_version": "1.5.0",
      "_view_name": "ProgressView",
      "bar_style": "success",
      "description": "",
      "description_tooltip": null,
      "layout": "IPY_MODEL_c36c206c37bc4b4895d167b06dfed706",
      "max": 229,
      "min": 0,
      "orientation": "horizontal",
      "style": "IPY_MODEL_f809d055758e4adcae0276a63aa96e0a",
      "value": 229
     }
    },
    "381beb071dc640419cb22992a835dfdd": {
     "model_module": "@jupyter-widgets/base",
     "model_module_version": "1.2.0",
     "model_name": "LayoutModel",
     "state": {
      "_model_module": "@jupyter-widgets/base",
      "_model_module_version": "1.2.0",
      "_model_name": "LayoutModel",
      "_view_count": null,
      "_view_module": "@jupyter-widgets/base",
      "_view_module_version": "1.2.0",
      "_view_name": "LayoutView",
      "align_content": null,
      "align_items": null,
      "align_self": null,
      "border": null,
      "bottom": null,
      "display": null,
      "flex": null,
      "flex_flow": null,
      "grid_area": null,
      "grid_auto_columns": null,
      "grid_auto_flow": null,
      "grid_auto_rows": null,
      "grid_column": null,
      "grid_gap": null,
      "grid_row": null,
      "grid_template_areas": null,
      "grid_template_columns": null,
      "grid_template_rows": null,
      "height": null,
      "justify_content": null,
      "justify_items": null,
      "left": null,
      "margin": null,
      "max_height": null,
      "max_width": null,
      "min_height": null,
      "min_width": null,
      "object_fit": null,
      "object_position": null,
      "order": null,
      "overflow": null,
      "overflow_x": null,
      "overflow_y": null,
      "padding": null,
      "right": null,
      "top": null,
      "visibility": null,
      "width": null
     }
    },
    "383e51fd9ee44a388dfdbaadbe8873cd": {
     "model_module": "@jupyter-widgets/base",
     "model_module_version": "1.2.0",
     "model_name": "LayoutModel",
     "state": {
      "_model_module": "@jupyter-widgets/base",
      "_model_module_version": "1.2.0",
      "_model_name": "LayoutModel",
      "_view_count": null,
      "_view_module": "@jupyter-widgets/base",
      "_view_module_version": "1.2.0",
      "_view_name": "LayoutView",
      "align_content": null,
      "align_items": null,
      "align_self": null,
      "border": null,
      "bottom": null,
      "display": null,
      "flex": null,
      "flex_flow": null,
      "grid_area": null,
      "grid_auto_columns": null,
      "grid_auto_flow": null,
      "grid_auto_rows": null,
      "grid_column": null,
      "grid_gap": null,
      "grid_row": null,
      "grid_template_areas": null,
      "grid_template_columns": null,
      "grid_template_rows": null,
      "height": null,
      "justify_content": null,
      "justify_items": null,
      "left": null,
      "margin": null,
      "max_height": null,
      "max_width": null,
      "min_height": null,
      "min_width": null,
      "object_fit": null,
      "object_position": null,
      "order": null,
      "overflow": null,
      "overflow_x": null,
      "overflow_y": null,
      "padding": null,
      "right": null,
      "top": null,
      "visibility": null,
      "width": null
     }
    },
    "39c2f09025764c8e8f52c86053e23320": {
     "model_module": "@jupyter-widgets/controls",
     "model_module_version": "1.5.0",
     "model_name": "FloatProgressModel",
     "state": {
      "_dom_classes": [],
      "_model_module": "@jupyter-widgets/controls",
      "_model_module_version": "1.5.0",
      "_model_name": "FloatProgressModel",
      "_view_count": null,
      "_view_module": "@jupyter-widgets/controls",
      "_view_module_version": "1.5.0",
      "_view_name": "ProgressView",
      "bar_style": "success",
      "description": "",
      "description_tooltip": null,
      "layout": "IPY_MODEL_ddc1f8b406514dea96aadcbcdb3caf1f",
      "max": 1382015,
      "min": 0,
      "orientation": "horizontal",
      "style": "IPY_MODEL_2996d97802f54b55a59afea8decfd9b0",
      "value": 1382015
     }
    },
    "3ed50c83f7ce409f99a1aefa34d8cf16": {
     "model_module": "@jupyter-widgets/controls",
     "model_module_version": "1.5.0",
     "model_name": "ProgressStyleModel",
     "state": {
      "_model_module": "@jupyter-widgets/controls",
      "_model_module_version": "1.5.0",
      "_model_name": "ProgressStyleModel",
      "_view_count": null,
      "_view_module": "@jupyter-widgets/base",
      "_view_module_version": "1.2.0",
      "_view_name": "StyleView",
      "bar_color": null,
      "description_width": ""
     }
    },
    "403acc8055ac41c9bbfc9d211a25ea89": {
     "model_module": "@jupyter-widgets/controls",
     "model_module_version": "1.5.0",
     "model_name": "DescriptionStyleModel",
     "state": {
      "_model_module": "@jupyter-widgets/controls",
      "_model_module_version": "1.5.0",
      "_model_name": "DescriptionStyleModel",
      "_view_count": null,
      "_view_module": "@jupyter-widgets/base",
      "_view_module_version": "1.2.0",
      "_view_name": "StyleView",
      "description_width": ""
     }
    },
    "409b966afb5e4e14b5273701658b963d": {
     "model_module": "@jupyter-widgets/controls",
     "model_module_version": "1.5.0",
     "model_name": "HBoxModel",
     "state": {
      "_dom_classes": [],
      "_model_module": "@jupyter-widgets/controls",
      "_model_module_version": "1.5.0",
      "_model_name": "HBoxModel",
      "_view_count": null,
      "_view_module": "@jupyter-widgets/controls",
      "_view_module_version": "1.5.0",
      "_view_name": "HBoxView",
      "box_style": "",
      "children": [
       "IPY_MODEL_a93886992da34b54b2b33a16800d53b8",
       "IPY_MODEL_8b79e4e4ff3c4cf79fa2d9f8e3576b30",
       "IPY_MODEL_f50a5e5db57445438b476e6473fb0eae"
      ],
      "layout": "IPY_MODEL_31ad3f72f5fc49cab590908c9372aff3"
     }
    },
    "410c266c10074ca08ff918c48562ca04": {
     "model_module": "@jupyter-widgets/controls",
     "model_module_version": "1.5.0",
     "model_name": "DescriptionStyleModel",
     "state": {
      "_model_module": "@jupyter-widgets/controls",
      "_model_module_version": "1.5.0",
      "_model_name": "DescriptionStyleModel",
      "_view_count": null,
      "_view_module": "@jupyter-widgets/base",
      "_view_module_version": "1.2.0",
      "_view_name": "StyleView",
      "description_width": ""
     }
    },
    "44e72bceacd043499bb77ec4fa20f983": {
     "model_module": "@jupyter-widgets/controls",
     "model_module_version": "1.5.0",
     "model_name": "HTMLModel",
     "state": {
      "_dom_classes": [],
      "_model_module": "@jupyter-widgets/controls",
      "_model_module_version": "1.5.0",
      "_model_name": "HTMLModel",
      "_view_count": null,
      "_view_module": "@jupyter-widgets/controls",
      "_view_module_version": "1.5.0",
      "_view_name": "HTMLView",
      "description": "",
      "description_tooltip": null,
      "layout": "IPY_MODEL_9a196ffa38d744bca7a91d436e13092d",
      "placeholder": "​",
      "style": "IPY_MODEL_a7bb54ab59c84078a9cbde8c015cdf68",
      "value": "Downloading (…)lve/main/config.json: 100%"
     }
    },
    "45d187af428e4aec8e179969cce7cc97": {
     "model_module": "@jupyter-widgets/controls",
     "model_module_version": "1.5.0",
     "model_name": "HBoxModel",
     "state": {
      "_dom_classes": [],
      "_model_module": "@jupyter-widgets/controls",
      "_model_module_version": "1.5.0",
      "_model_name": "HBoxModel",
      "_view_count": null,
      "_view_module": "@jupyter-widgets/controls",
      "_view_module_version": "1.5.0",
      "_view_name": "HBoxView",
      "box_style": "",
      "children": [
       "IPY_MODEL_b586464066b44bf9aa226fd2cb4e6693",
       "IPY_MODEL_c5fea28e615f469c912d2867cd74b182",
       "IPY_MODEL_891b6841a7a448e6a182fddf42c53324"
      ],
      "layout": "IPY_MODEL_d77a47267adb4c1898793a97f4a8f6ab"
     }
    },
    "4610c930159d4d8fb8aeca58cbc9dd78": {
     "model_module": "@jupyter-widgets/base",
     "model_module_version": "1.2.0",
     "model_name": "LayoutModel",
     "state": {
      "_model_module": "@jupyter-widgets/base",
      "_model_module_version": "1.2.0",
      "_model_name": "LayoutModel",
      "_view_count": null,
      "_view_module": "@jupyter-widgets/base",
      "_view_module_version": "1.2.0",
      "_view_name": "LayoutView",
      "align_content": null,
      "align_items": null,
      "align_self": null,
      "border": null,
      "bottom": null,
      "display": null,
      "flex": null,
      "flex_flow": null,
      "grid_area": null,
      "grid_auto_columns": null,
      "grid_auto_flow": null,
      "grid_auto_rows": null,
      "grid_column": null,
      "grid_gap": null,
      "grid_row": null,
      "grid_template_areas": null,
      "grid_template_columns": null,
      "grid_template_rows": null,
      "height": null,
      "justify_content": null,
      "justify_items": null,
      "left": null,
      "margin": null,
      "max_height": null,
      "max_width": null,
      "min_height": null,
      "min_width": null,
      "object_fit": null,
      "object_position": null,
      "order": null,
      "overflow": null,
      "overflow_x": null,
      "overflow_y": null,
      "padding": null,
      "right": null,
      "top": null,
      "visibility": null,
      "width": null
     }
    },
    "462c17b2d00e4bf0aa78639baf1dd30d": {
     "model_module": "@jupyter-widgets/base",
     "model_module_version": "1.2.0",
     "model_name": "LayoutModel",
     "state": {
      "_model_module": "@jupyter-widgets/base",
      "_model_module_version": "1.2.0",
      "_model_name": "LayoutModel",
      "_view_count": null,
      "_view_module": "@jupyter-widgets/base",
      "_view_module_version": "1.2.0",
      "_view_name": "LayoutView",
      "align_content": null,
      "align_items": null,
      "align_self": null,
      "border": null,
      "bottom": null,
      "display": null,
      "flex": null,
      "flex_flow": null,
      "grid_area": null,
      "grid_auto_columns": null,
      "grid_auto_flow": null,
      "grid_auto_rows": null,
      "grid_column": null,
      "grid_gap": null,
      "grid_row": null,
      "grid_template_areas": null,
      "grid_template_columns": null,
      "grid_template_rows": null,
      "height": null,
      "justify_content": null,
      "justify_items": null,
      "left": null,
      "margin": null,
      "max_height": null,
      "max_width": null,
      "min_height": null,
      "min_width": null,
      "object_fit": null,
      "object_position": null,
      "order": null,
      "overflow": null,
      "overflow_x": null,
      "overflow_y": null,
      "padding": null,
      "right": null,
      "top": null,
      "visibility": null,
      "width": null
     }
    },
    "468d4a81e89a419d8982eaefea2ba087": {
     "model_module": "@jupyter-widgets/base",
     "model_module_version": "1.2.0",
     "model_name": "LayoutModel",
     "state": {
      "_model_module": "@jupyter-widgets/base",
      "_model_module_version": "1.2.0",
      "_model_name": "LayoutModel",
      "_view_count": null,
      "_view_module": "@jupyter-widgets/base",
      "_view_module_version": "1.2.0",
      "_view_name": "LayoutView",
      "align_content": null,
      "align_items": null,
      "align_self": null,
      "border": null,
      "bottom": null,
      "display": null,
      "flex": null,
      "flex_flow": null,
      "grid_area": null,
      "grid_auto_columns": null,
      "grid_auto_flow": null,
      "grid_auto_rows": null,
      "grid_column": null,
      "grid_gap": null,
      "grid_row": null,
      "grid_template_areas": null,
      "grid_template_columns": null,
      "grid_template_rows": null,
      "height": null,
      "justify_content": null,
      "justify_items": null,
      "left": null,
      "margin": null,
      "max_height": null,
      "max_width": null,
      "min_height": null,
      "min_width": null,
      "object_fit": null,
      "object_position": null,
      "order": null,
      "overflow": null,
      "overflow_x": null,
      "overflow_y": null,
      "padding": null,
      "right": null,
      "top": null,
      "visibility": null,
      "width": null
     }
    },
    "4793b9e7c486460e9315806f72def081": {
     "model_module": "@jupyter-widgets/base",
     "model_module_version": "1.2.0",
     "model_name": "LayoutModel",
     "state": {
      "_model_module": "@jupyter-widgets/base",
      "_model_module_version": "1.2.0",
      "_model_name": "LayoutModel",
      "_view_count": null,
      "_view_module": "@jupyter-widgets/base",
      "_view_module_version": "1.2.0",
      "_view_name": "LayoutView",
      "align_content": null,
      "align_items": null,
      "align_self": null,
      "border": null,
      "bottom": null,
      "display": null,
      "flex": null,
      "flex_flow": null,
      "grid_area": null,
      "grid_auto_columns": null,
      "grid_auto_flow": null,
      "grid_auto_rows": null,
      "grid_column": null,
      "grid_gap": null,
      "grid_row": null,
      "grid_template_areas": null,
      "grid_template_columns": null,
      "grid_template_rows": null,
      "height": null,
      "justify_content": null,
      "justify_items": null,
      "left": null,
      "margin": null,
      "max_height": null,
      "max_width": null,
      "min_height": null,
      "min_width": null,
      "object_fit": null,
      "object_position": null,
      "order": null,
      "overflow": null,
      "overflow_x": null,
      "overflow_y": null,
      "padding": null,
      "right": null,
      "top": null,
      "visibility": null,
      "width": null
     }
    },
    "481abdf348d04052a92ce84eee922c77": {
     "model_module": "@jupyter-widgets/controls",
     "model_module_version": "1.5.0",
     "model_name": "DescriptionStyleModel",
     "state": {
      "_model_module": "@jupyter-widgets/controls",
      "_model_module_version": "1.5.0",
      "_model_name": "DescriptionStyleModel",
      "_view_count": null,
      "_view_module": "@jupyter-widgets/base",
      "_view_module_version": "1.2.0",
      "_view_name": "StyleView",
      "description_width": ""
     }
    },
    "494b9c07a4e6464ea653cf69f1e36c05": {
     "model_module": "@jupyter-widgets/controls",
     "model_module_version": "1.5.0",
     "model_name": "ProgressStyleModel",
     "state": {
      "_model_module": "@jupyter-widgets/controls",
      "_model_module_version": "1.5.0",
      "_model_name": "ProgressStyleModel",
      "_view_count": null,
      "_view_module": "@jupyter-widgets/base",
      "_view_module_version": "1.2.0",
      "_view_name": "StyleView",
      "bar_color": null,
      "description_width": ""
     }
    },
    "49d5dff016bc45a4bf3e75cc77ae2e47": {
     "model_module": "@jupyter-widgets/controls",
     "model_module_version": "1.5.0",
     "model_name": "FloatProgressModel",
     "state": {
      "_dom_classes": [],
      "_model_module": "@jupyter-widgets/controls",
      "_model_module_version": "1.5.0",
      "_model_name": "FloatProgressModel",
      "_view_count": null,
      "_view_module": "@jupyter-widgets/controls",
      "_view_module_version": "1.5.0",
      "_view_name": "ProgressView",
      "bar_style": "success",
      "description": "",
      "description_tooltip": null,
      "layout": "IPY_MODEL_0e5ab88586134a8f951af8e3928e34da",
      "max": 229,
      "min": 0,
      "orientation": "horizontal",
      "style": "IPY_MODEL_ccea6197c142430ea2550f60bf1fc830",
      "value": 229
     }
    },
    "4cd8dcb12ff64b66aff3bdbc6ff8b25f": {
     "model_module": "@jupyter-widgets/controls",
     "model_module_version": "1.5.0",
     "model_name": "ProgressStyleModel",
     "state": {
      "_model_module": "@jupyter-widgets/controls",
      "_model_module_version": "1.5.0",
      "_model_name": "ProgressStyleModel",
      "_view_count": null,
      "_view_module": "@jupyter-widgets/base",
      "_view_module_version": "1.2.0",
      "_view_name": "StyleView",
      "bar_color": null,
      "description_width": ""
     }
    },
    "4e1e4d293b7b4a938c50a773be4444e7": {
     "model_module": "@jupyter-widgets/controls",
     "model_module_version": "1.5.0",
     "model_name": "DescriptionStyleModel",
     "state": {
      "_model_module": "@jupyter-widgets/controls",
      "_model_module_version": "1.5.0",
      "_model_name": "DescriptionStyleModel",
      "_view_count": null,
      "_view_module": "@jupyter-widgets/base",
      "_view_module_version": "1.2.0",
      "_view_name": "StyleView",
      "description_width": ""
     }
    },
    "4e52c9dfb6ee4aaea9651781b19ff63b": {
     "model_module": "@jupyter-widgets/controls",
     "model_module_version": "1.5.0",
     "model_name": "ProgressStyleModel",
     "state": {
      "_model_module": "@jupyter-widgets/controls",
      "_model_module_version": "1.5.0",
      "_model_name": "ProgressStyleModel",
      "_view_count": null,
      "_view_module": "@jupyter-widgets/base",
      "_view_module_version": "1.2.0",
      "_view_name": "StyleView",
      "bar_color": null,
      "description_width": ""
     }
    },
    "4ee6ddbb1f5e43c3969ca99f81e0628b": {
     "model_module": "@jupyter-widgets/controls",
     "model_module_version": "1.5.0",
     "model_name": "DescriptionStyleModel",
     "state": {
      "_model_module": "@jupyter-widgets/controls",
      "_model_module_version": "1.5.0",
      "_model_name": "DescriptionStyleModel",
      "_view_count": null,
      "_view_module": "@jupyter-widgets/base",
      "_view_module_version": "1.2.0",
      "_view_name": "StyleView",
      "description_width": ""
     }
    },
    "50bdb1ccddd845f0882305e0fa7c06ef": {
     "model_module": "@jupyter-widgets/base",
     "model_module_version": "1.2.0",
     "model_name": "LayoutModel",
     "state": {
      "_model_module": "@jupyter-widgets/base",
      "_model_module_version": "1.2.0",
      "_model_name": "LayoutModel",
      "_view_count": null,
      "_view_module": "@jupyter-widgets/base",
      "_view_module_version": "1.2.0",
      "_view_name": "LayoutView",
      "align_content": null,
      "align_items": null,
      "align_self": null,
      "border": null,
      "bottom": null,
      "display": null,
      "flex": null,
      "flex_flow": null,
      "grid_area": null,
      "grid_auto_columns": null,
      "grid_auto_flow": null,
      "grid_auto_rows": null,
      "grid_column": null,
      "grid_gap": null,
      "grid_row": null,
      "grid_template_areas": null,
      "grid_template_columns": null,
      "grid_template_rows": null,
      "height": null,
      "justify_content": null,
      "justify_items": null,
      "left": null,
      "margin": null,
      "max_height": null,
      "max_width": null,
      "min_height": null,
      "min_width": null,
      "object_fit": null,
      "object_position": null,
      "order": null,
      "overflow": null,
      "overflow_x": null,
      "overflow_y": null,
      "padding": null,
      "right": null,
      "top": null,
      "visibility": null,
      "width": null
     }
    },
    "537961158221491682abf90a455b3e4f": {
     "model_module": "@jupyter-widgets/controls",
     "model_module_version": "1.5.0",
     "model_name": "HBoxModel",
     "state": {
      "_dom_classes": [],
      "_model_module": "@jupyter-widgets/controls",
      "_model_module_version": "1.5.0",
      "_model_name": "HBoxModel",
      "_view_count": null,
      "_view_module": "@jupyter-widgets/controls",
      "_view_module_version": "1.5.0",
      "_view_name": "HBoxView",
      "box_style": "",
      "children": [
       "IPY_MODEL_7c9fc41672394a3396b27445805d6c39",
       "IPY_MODEL_aa721da291ff450da407a6630c3e6949",
       "IPY_MODEL_d336aebb90874555ba539d105338de59"
      ],
      "layout": "IPY_MODEL_8a63e9487c1142a19aa3c76a9de3af0d"
     }
    },
    "56d93dacb0074f509ee641ac70eef870": {
     "model_module": "@jupyter-widgets/controls",
     "model_module_version": "1.5.0",
     "model_name": "ProgressStyleModel",
     "state": {
      "_model_module": "@jupyter-widgets/controls",
      "_model_module_version": "1.5.0",
      "_model_name": "ProgressStyleModel",
      "_view_count": null,
      "_view_module": "@jupyter-widgets/base",
      "_view_module_version": "1.2.0",
      "_view_name": "StyleView",
      "bar_color": null,
      "description_width": ""
     }
    },
    "5e195f46a30c484ba0242385b219c60a": {
     "model_module": "@jupyter-widgets/controls",
     "model_module_version": "1.5.0",
     "model_name": "DescriptionStyleModel",
     "state": {
      "_model_module": "@jupyter-widgets/controls",
      "_model_module_version": "1.5.0",
      "_model_name": "DescriptionStyleModel",
      "_view_count": null,
      "_view_module": "@jupyter-widgets/base",
      "_view_module_version": "1.2.0",
      "_view_name": "StyleView",
      "description_width": ""
     }
    },
    "5e6257527f6b4e26956fe79b984219c4": {
     "model_module": "@jupyter-widgets/controls",
     "model_module_version": "1.5.0",
     "model_name": "FloatProgressModel",
     "state": {
      "_dom_classes": [],
      "_model_module": "@jupyter-widgets/controls",
      "_model_module_version": "1.5.0",
      "_model_name": "FloatProgressModel",
      "_view_count": null,
      "_view_module": "@jupyter-widgets/controls",
      "_view_module_version": "1.5.0",
      "_view_name": "ProgressView",
      "bar_style": "success",
      "description": "",
      "description_tooltip": null,
      "layout": "IPY_MODEL_fd431d85e3124c06bb244e890f7bcec9",
      "max": 1382015,
      "min": 0,
      "orientation": "horizontal",
      "style": "IPY_MODEL_4cd8dcb12ff64b66aff3bdbc6ff8b25f",
      "value": 1382015
     }
    },
    "6046a67fcbbf47608dca73e25a813435": {
     "model_module": "@jupyter-widgets/controls",
     "model_module_version": "1.5.0",
     "model_name": "HTMLModel",
     "state": {
      "_dom_classes": [],
      "_model_module": "@jupyter-widgets/controls",
      "_model_module_version": "1.5.0",
      "_model_name": "HTMLModel",
      "_view_count": null,
      "_view_module": "@jupyter-widgets/controls",
      "_view_module_version": "1.5.0",
      "_view_name": "HTMLView",
      "description": "",
      "description_tooltip": null,
      "layout": "IPY_MODEL_ee0169e4268e4138b458c074e8297b88",
      "placeholder": "​",
      "style": "IPY_MODEL_7e481446f6ae4b809428e741179efb8c",
      "value": "Downloading (…)ve/main/spiece.model: 100%"
     }
    },
    "638e7162bb7f477b81a261467cce5697": {
     "model_module": "@jupyter-widgets/base",
     "model_module_version": "1.2.0",
     "model_name": "LayoutModel",
     "state": {
      "_model_module": "@jupyter-widgets/base",
      "_model_module_version": "1.2.0",
      "_model_name": "LayoutModel",
      "_view_count": null,
      "_view_module": "@jupyter-widgets/base",
      "_view_module_version": "1.2.0",
      "_view_name": "LayoutView",
      "align_content": null,
      "align_items": null,
      "align_self": null,
      "border": null,
      "bottom": null,
      "display": null,
      "flex": null,
      "flex_flow": null,
      "grid_area": null,
      "grid_auto_columns": null,
      "grid_auto_flow": null,
      "grid_auto_rows": null,
      "grid_column": null,
      "grid_gap": null,
      "grid_row": null,
      "grid_template_areas": null,
      "grid_template_columns": null,
      "grid_template_rows": null,
      "height": null,
      "justify_content": null,
      "justify_items": null,
      "left": null,
      "margin": null,
      "max_height": null,
      "max_width": null,
      "min_height": null,
      "min_width": null,
      "object_fit": null,
      "object_position": null,
      "order": null,
      "overflow": null,
      "overflow_x": null,
      "overflow_y": null,
      "padding": null,
      "right": null,
      "top": null,
      "visibility": null,
      "width": null
     }
    },
    "6537343422ff4e1aa35f6bb3c50538ad": {
     "model_module": "@jupyter-widgets/controls",
     "model_module_version": "1.5.0",
     "model_name": "HBoxModel",
     "state": {
      "_dom_classes": [],
      "_model_module": "@jupyter-widgets/controls",
      "_model_module_version": "1.5.0",
      "_model_name": "HBoxModel",
      "_view_count": null,
      "_view_module": "@jupyter-widgets/controls",
      "_view_module_version": "1.5.0",
      "_view_name": "HBoxView",
      "box_style": "",
      "children": [
       "IPY_MODEL_e0c39d7a8b7d426bb1b0168434e329eb",
       "IPY_MODEL_5e6257527f6b4e26956fe79b984219c4",
       "IPY_MODEL_c919ee71f98f4cec8c902f446af17e55"
      ],
      "layout": "IPY_MODEL_a77cb151dd634ed2b7d7e73de4881b9f"
     }
    },
    "65db0b43cfb54abf8088c606ec280502": {
     "model_module": "@jupyter-widgets/base",
     "model_module_version": "1.2.0",
     "model_name": "LayoutModel",
     "state": {
      "_model_module": "@jupyter-widgets/base",
      "_model_module_version": "1.2.0",
      "_model_name": "LayoutModel",
      "_view_count": null,
      "_view_module": "@jupyter-widgets/base",
      "_view_module_version": "1.2.0",
      "_view_name": "LayoutView",
      "align_content": null,
      "align_items": null,
      "align_self": null,
      "border": null,
      "bottom": null,
      "display": null,
      "flex": null,
      "flex_flow": null,
      "grid_area": null,
      "grid_auto_columns": null,
      "grid_auto_flow": null,
      "grid_auto_rows": null,
      "grid_column": null,
      "grid_gap": null,
      "grid_row": null,
      "grid_template_areas": null,
      "grid_template_columns": null,
      "grid_template_rows": null,
      "height": null,
      "justify_content": null,
      "justify_items": null,
      "left": null,
      "margin": null,
      "max_height": null,
      "max_width": null,
      "min_height": null,
      "min_width": null,
      "object_fit": null,
      "object_position": null,
      "order": null,
      "overflow": null,
      "overflow_x": null,
      "overflow_y": null,
      "padding": null,
      "right": null,
      "top": null,
      "visibility": null,
      "width": null
     }
    },
    "694de56580eb45c78f239aa229fb9ed4": {
     "model_module": "@jupyter-widgets/controls",
     "model_module_version": "1.5.0",
     "model_name": "HTMLModel",
     "state": {
      "_dom_classes": [],
      "_model_module": "@jupyter-widgets/controls",
      "_model_module_version": "1.5.0",
      "_model_name": "HTMLModel",
      "_view_count": null,
      "_view_module": "@jupyter-widgets/controls",
      "_view_module_version": "1.5.0",
      "_view_name": "HTMLView",
      "description": "",
      "description_tooltip": null,
      "layout": "IPY_MODEL_b46320781b634a7b941340a318fed270",
      "placeholder": "​",
      "style": "IPY_MODEL_4ee6ddbb1f5e43c3969ca99f81e0628b",
      "value": " 467M/467M [00:02&lt;00:00, 101MB/s]"
     }
    },
    "69ce622d894b42299b8b8482f0974be8": {
     "model_module": "@jupyter-widgets/controls",
     "model_module_version": "1.5.0",
     "model_name": "HTMLModel",
     "state": {
      "_dom_classes": [],
      "_model_module": "@jupyter-widgets/controls",
      "_model_module_version": "1.5.0",
      "_model_name": "HTMLModel",
      "_view_count": null,
      "_view_module": "@jupyter-widgets/controls",
      "_view_module_version": "1.5.0",
      "_view_name": "HTMLView",
      "description": "",
      "description_tooltip": null,
      "layout": "IPY_MODEL_9f78b31839f54bd7b639045f22bfd483",
      "placeholder": "​",
      "style": "IPY_MODEL_403acc8055ac41c9bbfc9d211a25ea89",
      "value": " 1.38M/1.38M [00:01&lt;00:00, 1.21MB/s]"
     }
    },
    "6c8f6631bd1340adbbd0dbb137af505f": {
     "model_module": "@jupyter-widgets/controls",
     "model_module_version": "1.5.0",
     "model_name": "DescriptionStyleModel",
     "state": {
      "_model_module": "@jupyter-widgets/controls",
      "_model_module_version": "1.5.0",
      "_model_name": "DescriptionStyleModel",
      "_view_count": null,
      "_view_module": "@jupyter-widgets/base",
      "_view_module_version": "1.2.0",
      "_view_name": "StyleView",
      "description_width": ""
     }
    },
    "6deec007cc3c488fa58555e9a32b1de4": {
     "model_module": "@jupyter-widgets/controls",
     "model_module_version": "1.5.0",
     "model_name": "DescriptionStyleModel",
     "state": {
      "_model_module": "@jupyter-widgets/controls",
      "_model_module_version": "1.5.0",
      "_model_name": "DescriptionStyleModel",
      "_view_count": null,
      "_view_module": "@jupyter-widgets/base",
      "_view_module_version": "1.2.0",
      "_view_name": "StyleView",
      "description_width": ""
     }
    },
    "6fe02e35bff348df8500a5165f3ac8ec": {
     "model_module": "@jupyter-widgets/base",
     "model_module_version": "1.2.0",
     "model_name": "LayoutModel",
     "state": {
      "_model_module": "@jupyter-widgets/base",
      "_model_module_version": "1.2.0",
      "_model_name": "LayoutModel",
      "_view_count": null,
      "_view_module": "@jupyter-widgets/base",
      "_view_module_version": "1.2.0",
      "_view_name": "LayoutView",
      "align_content": null,
      "align_items": null,
      "align_self": null,
      "border": null,
      "bottom": null,
      "display": null,
      "flex": null,
      "flex_flow": null,
      "grid_area": null,
      "grid_auto_columns": null,
      "grid_auto_flow": null,
      "grid_auto_rows": null,
      "grid_column": null,
      "grid_gap": null,
      "grid_row": null,
      "grid_template_areas": null,
      "grid_template_columns": null,
      "grid_template_rows": null,
      "height": null,
      "justify_content": null,
      "justify_items": null,
      "left": null,
      "margin": null,
      "max_height": null,
      "max_width": null,
      "min_height": null,
      "min_width": null,
      "object_fit": null,
      "object_position": null,
      "order": null,
      "overflow": null,
      "overflow_x": null,
      "overflow_y": null,
      "padding": null,
      "right": null,
      "top": null,
      "visibility": null,
      "width": null
     }
    },
    "71d11be8bf294e2aa3a91bd7513bcae8": {
     "model_module": "@jupyter-widgets/controls",
     "model_module_version": "1.5.0",
     "model_name": "DescriptionStyleModel",
     "state": {
      "_model_module": "@jupyter-widgets/controls",
      "_model_module_version": "1.5.0",
      "_model_name": "DescriptionStyleModel",
      "_view_count": null,
      "_view_module": "@jupyter-widgets/base",
      "_view_module_version": "1.2.0",
      "_view_name": "StyleView",
      "description_width": ""
     }
    },
    "723edf91b327480aa3c61c131bdba76e": {
     "model_module": "@jupyter-widgets/base",
     "model_module_version": "1.2.0",
     "model_name": "LayoutModel",
     "state": {
      "_model_module": "@jupyter-widgets/base",
      "_model_module_version": "1.2.0",
      "_model_name": "LayoutModel",
      "_view_count": null,
      "_view_module": "@jupyter-widgets/base",
      "_view_module_version": "1.2.0",
      "_view_name": "LayoutView",
      "align_content": null,
      "align_items": null,
      "align_self": null,
      "border": null,
      "bottom": null,
      "display": null,
      "flex": null,
      "flex_flow": null,
      "grid_area": null,
      "grid_auto_columns": null,
      "grid_auto_flow": null,
      "grid_auto_rows": null,
      "grid_column": null,
      "grid_gap": null,
      "grid_row": null,
      "grid_template_areas": null,
      "grid_template_columns": null,
      "grid_template_rows": null,
      "height": null,
      "justify_content": null,
      "justify_items": null,
      "left": null,
      "margin": null,
      "max_height": null,
      "max_width": null,
      "min_height": null,
      "min_width": null,
      "object_fit": null,
      "object_position": null,
      "order": null,
      "overflow": null,
      "overflow_x": null,
      "overflow_y": null,
      "padding": null,
      "right": null,
      "top": null,
      "visibility": null,
      "width": null
     }
    },
    "755a670428cf45c9b683b78018cc7378": {
     "model_module": "@jupyter-widgets/base",
     "model_module_version": "1.2.0",
     "model_name": "LayoutModel",
     "state": {
      "_model_module": "@jupyter-widgets/base",
      "_model_module_version": "1.2.0",
      "_model_name": "LayoutModel",
      "_view_count": null,
      "_view_module": "@jupyter-widgets/base",
      "_view_module_version": "1.2.0",
      "_view_name": "LayoutView",
      "align_content": null,
      "align_items": null,
      "align_self": null,
      "border": null,
      "bottom": null,
      "display": null,
      "flex": null,
      "flex_flow": null,
      "grid_area": null,
      "grid_auto_columns": null,
      "grid_auto_flow": null,
      "grid_auto_rows": null,
      "grid_column": null,
      "grid_gap": null,
      "grid_row": null,
      "grid_template_areas": null,
      "grid_template_columns": null,
      "grid_template_rows": null,
      "height": null,
      "justify_content": null,
      "justify_items": null,
      "left": null,
      "margin": null,
      "max_height": null,
      "max_width": null,
      "min_height": null,
      "min_width": null,
      "object_fit": null,
      "object_position": null,
      "order": null,
      "overflow": null,
      "overflow_x": null,
      "overflow_y": null,
      "padding": null,
      "right": null,
      "top": null,
      "visibility": null,
      "width": null
     }
    },
    "784001f3245d49d283e736d76a42de2a": {
     "model_module": "@jupyter-widgets/controls",
     "model_module_version": "1.5.0",
     "model_name": "DescriptionStyleModel",
     "state": {
      "_model_module": "@jupyter-widgets/controls",
      "_model_module_version": "1.5.0",
      "_model_name": "DescriptionStyleModel",
      "_view_count": null,
      "_view_module": "@jupyter-widgets/base",
      "_view_module_version": "1.2.0",
      "_view_name": "StyleView",
      "description_width": ""
     }
    },
    "78afc49acfc948c69abe630589751ce5": {
     "model_module": "@jupyter-widgets/controls",
     "model_module_version": "1.5.0",
     "model_name": "HBoxModel",
     "state": {
      "_dom_classes": [],
      "_model_module": "@jupyter-widgets/controls",
      "_model_module_version": "1.5.0",
      "_model_name": "HBoxModel",
      "_view_count": null,
      "_view_module": "@jupyter-widgets/controls",
      "_view_module_version": "1.5.0",
      "_view_name": "HBoxView",
      "box_style": "",
      "children": [
       "IPY_MODEL_f369f7b8053a425784be2b45544a5d10",
       "IPY_MODEL_1a60402c543d4d4393d248b39e8168b2",
       "IPY_MODEL_f61d89c04f7c4b8aa622f1fb0303997a"
      ],
      "layout": "IPY_MODEL_06f7a6b4b3794f2ba3976053da30614a"
     }
    },
    "79f3db8ddcf245cd84362ba9c07a5597": {
     "model_module": "@jupyter-widgets/controls",
     "model_module_version": "1.5.0",
     "model_name": "HBoxModel",
     "state": {
      "_dom_classes": [],
      "_model_module": "@jupyter-widgets/controls",
      "_model_module_version": "1.5.0",
      "_model_name": "HBoxModel",
      "_view_count": null,
      "_view_module": "@jupyter-widgets/controls",
      "_view_module_version": "1.5.0",
      "_view_name": "HBoxView",
      "box_style": "",
      "children": [
       "IPY_MODEL_ad11bff3f85a42be8d65cb714e1f7d4c",
       "IPY_MODEL_2e46eaea3af84a80ae7f2a113ccdf39a",
       "IPY_MODEL_92242d826b6648baa9dedd094e9ab2c7"
      ],
      "layout": "IPY_MODEL_ddd401302066468abce611b2c7b0e3cd"
     }
    },
    "7a5332bbd49f40b6a98324915137b068": {
     "model_module": "@jupyter-widgets/base",
     "model_module_version": "1.2.0",
     "model_name": "LayoutModel",
     "state": {
      "_model_module": "@jupyter-widgets/base",
      "_model_module_version": "1.2.0",
      "_model_name": "LayoutModel",
      "_view_count": null,
      "_view_module": "@jupyter-widgets/base",
      "_view_module_version": "1.2.0",
      "_view_name": "LayoutView",
      "align_content": null,
      "align_items": null,
      "align_self": null,
      "border": null,
      "bottom": null,
      "display": null,
      "flex": null,
      "flex_flow": null,
      "grid_area": null,
      "grid_auto_columns": null,
      "grid_auto_flow": null,
      "grid_auto_rows": null,
      "grid_column": null,
      "grid_gap": null,
      "grid_row": null,
      "grid_template_areas": null,
      "grid_template_columns": null,
      "grid_template_rows": null,
      "height": null,
      "justify_content": null,
      "justify_items": null,
      "left": null,
      "margin": null,
      "max_height": null,
      "max_width": null,
      "min_height": null,
      "min_width": null,
      "object_fit": null,
      "object_position": null,
      "order": null,
      "overflow": null,
      "overflow_x": null,
      "overflow_y": null,
      "padding": null,
      "right": null,
      "top": null,
      "visibility": null,
      "width": null
     }
    },
    "7ae92b199d384196a052c4e302e6b20e": {
     "model_module": "@jupyter-widgets/base",
     "model_module_version": "1.2.0",
     "model_name": "LayoutModel",
     "state": {
      "_model_module": "@jupyter-widgets/base",
      "_model_module_version": "1.2.0",
      "_model_name": "LayoutModel",
      "_view_count": null,
      "_view_module": "@jupyter-widgets/base",
      "_view_module_version": "1.2.0",
      "_view_name": "LayoutView",
      "align_content": null,
      "align_items": null,
      "align_self": null,
      "border": null,
      "bottom": null,
      "display": null,
      "flex": null,
      "flex_flow": null,
      "grid_area": null,
      "grid_auto_columns": null,
      "grid_auto_flow": null,
      "grid_auto_rows": null,
      "grid_column": null,
      "grid_gap": null,
      "grid_row": null,
      "grid_template_areas": null,
      "grid_template_columns": null,
      "grid_template_rows": null,
      "height": null,
      "justify_content": null,
      "justify_items": null,
      "left": null,
      "margin": null,
      "max_height": null,
      "max_width": null,
      "min_height": null,
      "min_width": null,
      "object_fit": null,
      "object_position": null,
      "order": null,
      "overflow": null,
      "overflow_x": null,
      "overflow_y": null,
      "padding": null,
      "right": null,
      "top": null,
      "visibility": null,
      "width": null
     }
    },
    "7af1c4ecfc3e4b4cb44d07cbbda74537": {
     "model_module": "@jupyter-widgets/base",
     "model_module_version": "1.2.0",
     "model_name": "LayoutModel",
     "state": {
      "_model_module": "@jupyter-widgets/base",
      "_model_module_version": "1.2.0",
      "_model_name": "LayoutModel",
      "_view_count": null,
      "_view_module": "@jupyter-widgets/base",
      "_view_module_version": "1.2.0",
      "_view_name": "LayoutView",
      "align_content": null,
      "align_items": null,
      "align_self": null,
      "border": null,
      "bottom": null,
      "display": null,
      "flex": null,
      "flex_flow": null,
      "grid_area": null,
      "grid_auto_columns": null,
      "grid_auto_flow": null,
      "grid_auto_rows": null,
      "grid_column": null,
      "grid_gap": null,
      "grid_row": null,
      "grid_template_areas": null,
      "grid_template_columns": null,
      "grid_template_rows": null,
      "height": null,
      "justify_content": null,
      "justify_items": null,
      "left": null,
      "margin": null,
      "max_height": null,
      "max_width": null,
      "min_height": null,
      "min_width": null,
      "object_fit": null,
      "object_position": null,
      "order": null,
      "overflow": null,
      "overflow_x": null,
      "overflow_y": null,
      "padding": null,
      "right": null,
      "top": null,
      "visibility": null,
      "width": null
     }
    },
    "7b366df981d749fba483572fd60d3deb": {
     "model_module": "@jupyter-widgets/controls",
     "model_module_version": "1.5.0",
     "model_name": "DescriptionStyleModel",
     "state": {
      "_model_module": "@jupyter-widgets/controls",
      "_model_module_version": "1.5.0",
      "_model_name": "DescriptionStyleModel",
      "_view_count": null,
      "_view_module": "@jupyter-widgets/base",
      "_view_module_version": "1.2.0",
      "_view_name": "StyleView",
      "description_width": ""
     }
    },
    "7c9fc41672394a3396b27445805d6c39": {
     "model_module": "@jupyter-widgets/controls",
     "model_module_version": "1.5.0",
     "model_name": "HTMLModel",
     "state": {
      "_dom_classes": [],
      "_model_module": "@jupyter-widgets/controls",
      "_model_module_version": "1.5.0",
      "_model_name": "HTMLModel",
      "_view_count": null,
      "_view_module": "@jupyter-widgets/controls",
      "_view_module_version": "1.5.0",
      "_view_name": "HTMLView",
      "description": "",
      "description_tooltip": null,
      "layout": "IPY_MODEL_f5f97048b84e452c8492735a73cfbe71",
      "placeholder": "​",
      "style": "IPY_MODEL_15b8fafea96f4b43a66aed09bd7134d0",
      "value": "Downloading pytorch_model.bin: 100%"
     }
    },
    "7cad779a05c342d79cff7a6dcfc649a0": {
     "model_module": "@jupyter-widgets/controls",
     "model_module_version": "1.5.0",
     "model_name": "FloatProgressModel",
     "state": {
      "_dom_classes": [],
      "_model_module": "@jupyter-widgets/controls",
      "_model_module_version": "1.5.0",
      "_model_name": "FloatProgressModel",
      "_view_count": null,
      "_view_module": "@jupyter-widgets/controls",
      "_view_module_version": "1.5.0",
      "_view_name": "ProgressView",
      "bar_style": "success",
      "description": "",
      "description_tooltip": null,
      "layout": "IPY_MODEL_acd01128e89e4183b27a12cec80f02a7",
      "max": 301,
      "min": 0,
      "orientation": "horizontal",
      "style": "IPY_MODEL_fe5c72a39aea49a49419ad1b8e26c284",
      "value": 301
     }
    },
    "7d7ba255e7b64296b122c580c4893236": {
     "model_module": "@jupyter-widgets/base",
     "model_module_version": "1.2.0",
     "model_name": "LayoutModel",
     "state": {
      "_model_module": "@jupyter-widgets/base",
      "_model_module_version": "1.2.0",
      "_model_name": "LayoutModel",
      "_view_count": null,
      "_view_module": "@jupyter-widgets/base",
      "_view_module_version": "1.2.0",
      "_view_name": "LayoutView",
      "align_content": null,
      "align_items": null,
      "align_self": null,
      "border": null,
      "bottom": null,
      "display": null,
      "flex": null,
      "flex_flow": null,
      "grid_area": null,
      "grid_auto_columns": null,
      "grid_auto_flow": null,
      "grid_auto_rows": null,
      "grid_column": null,
      "grid_gap": null,
      "grid_row": null,
      "grid_template_areas": null,
      "grid_template_columns": null,
      "grid_template_rows": null,
      "height": null,
      "justify_content": null,
      "justify_items": null,
      "left": null,
      "margin": null,
      "max_height": null,
      "max_width": null,
      "min_height": null,
      "min_width": null,
      "object_fit": null,
      "object_position": null,
      "order": null,
      "overflow": null,
      "overflow_x": null,
      "overflow_y": null,
      "padding": null,
      "right": null,
      "top": null,
      "visibility": null,
      "width": null
     }
    },
    "7e481446f6ae4b809428e741179efb8c": {
     "model_module": "@jupyter-widgets/controls",
     "model_module_version": "1.5.0",
     "model_name": "DescriptionStyleModel",
     "state": {
      "_model_module": "@jupyter-widgets/controls",
      "_model_module_version": "1.5.0",
      "_model_name": "DescriptionStyleModel",
      "_view_count": null,
      "_view_module": "@jupyter-widgets/base",
      "_view_module_version": "1.2.0",
      "_view_name": "StyleView",
      "description_width": ""
     }
    },
    "7f61ef01a48c4ba2b50a35567e64742a": {
     "model_module": "@jupyter-widgets/controls",
     "model_module_version": "1.5.0",
     "model_name": "DescriptionStyleModel",
     "state": {
      "_model_module": "@jupyter-widgets/controls",
      "_model_module_version": "1.5.0",
      "_model_name": "DescriptionStyleModel",
      "_view_count": null,
      "_view_module": "@jupyter-widgets/base",
      "_view_module_version": "1.2.0",
      "_view_name": "StyleView",
      "description_width": ""
     }
    },
    "81414fa1c56146279e1977e93b90b904": {
     "model_module": "@jupyter-widgets/controls",
     "model_module_version": "1.5.0",
     "model_name": "DescriptionStyleModel",
     "state": {
      "_model_module": "@jupyter-widgets/controls",
      "_model_module_version": "1.5.0",
      "_model_name": "DescriptionStyleModel",
      "_view_count": null,
      "_view_module": "@jupyter-widgets/base",
      "_view_module_version": "1.2.0",
      "_view_name": "StyleView",
      "description_width": ""
     }
    },
    "86e728e2ab404e569745e5e67e51a823": {
     "model_module": "@jupyter-widgets/controls",
     "model_module_version": "1.5.0",
     "model_name": "HTMLModel",
     "state": {
      "_dom_classes": [],
      "_model_module": "@jupyter-widgets/controls",
      "_model_module_version": "1.5.0",
      "_model_name": "HTMLModel",
      "_view_count": null,
      "_view_module": "@jupyter-widgets/controls",
      "_view_module_version": "1.5.0",
      "_view_name": "HTMLView",
      "description": "",
      "description_tooltip": null,
      "layout": "IPY_MODEL_381beb071dc640419cb22992a835dfdd",
      "placeholder": "​",
      "style": "IPY_MODEL_c3d4cbcae70449539e524c9900c9b9a1",
      "value": " 760/760 [00:00&lt;00:00, 28.6kB/s]"
     }
    },
    "86e91ddf6dea480a95a314a78d4131de": {
     "model_module": "@jupyter-widgets/base",
     "model_module_version": "1.2.0",
     "model_name": "LayoutModel",
     "state": {
      "_model_module": "@jupyter-widgets/base",
      "_model_module_version": "1.2.0",
      "_model_name": "LayoutModel",
      "_view_count": null,
      "_view_module": "@jupyter-widgets/base",
      "_view_module_version": "1.2.0",
      "_view_name": "LayoutView",
      "align_content": null,
      "align_items": null,
      "align_self": null,
      "border": null,
      "bottom": null,
      "display": null,
      "flex": null,
      "flex_flow": null,
      "grid_area": null,
      "grid_auto_columns": null,
      "grid_auto_flow": null,
      "grid_auto_rows": null,
      "grid_column": null,
      "grid_gap": null,
      "grid_row": null,
      "grid_template_areas": null,
      "grid_template_columns": null,
      "grid_template_rows": null,
      "height": null,
      "justify_content": null,
      "justify_items": null,
      "left": null,
      "margin": null,
      "max_height": null,
      "max_width": null,
      "min_height": null,
      "min_width": null,
      "object_fit": null,
      "object_position": null,
      "order": null,
      "overflow": null,
      "overflow_x": null,
      "overflow_y": null,
      "padding": null,
      "right": null,
      "top": null,
      "visibility": null,
      "width": null
     }
    },
    "891b6841a7a448e6a182fddf42c53324": {
     "model_module": "@jupyter-widgets/controls",
     "model_module_version": "1.5.0",
     "model_name": "HTMLModel",
     "state": {
      "_dom_classes": [],
      "_model_module": "@jupyter-widgets/controls",
      "_model_module_version": "1.5.0",
      "_model_name": "HTMLModel",
      "_view_count": null,
      "_view_module": "@jupyter-widgets/controls",
      "_view_module_version": "1.5.0",
      "_view_name": "HTMLView",
      "description": "",
      "description_tooltip": null,
      "layout": "IPY_MODEL_ec1459388f4546469cafe28059ef149b",
      "placeholder": "​",
      "style": "IPY_MODEL_16ed5e63efad49dd9c325e5cb8bed1c6",
      "value": " 229/229 [00:27&lt;00:00,  8.52it/s]"
     }
    },
    "8a1ef14732b74be09d830d11e32e848e": {
     "model_module": "@jupyter-widgets/controls",
     "model_module_version": "1.5.0",
     "model_name": "FloatProgressModel",
     "state": {
      "_dom_classes": [],
      "_model_module": "@jupyter-widgets/controls",
      "_model_module_version": "1.5.0",
      "_model_name": "FloatProgressModel",
      "_view_count": null,
      "_view_module": "@jupyter-widgets/controls",
      "_view_module_version": "1.5.0",
      "_view_name": "ProgressView",
      "bar_style": "success",
      "description": "",
      "description_tooltip": null,
      "layout": "IPY_MODEL_f600cd06c3f34856b2a00290bb0752f1",
      "max": 760,
      "min": 0,
      "orientation": "horizontal",
      "style": "IPY_MODEL_1cfb214f2b874b7faf4df3a47aab3282",
      "value": 760
     }
    },
    "8a63e9487c1142a19aa3c76a9de3af0d": {
     "model_module": "@jupyter-widgets/base",
     "model_module_version": "1.2.0",
     "model_name": "LayoutModel",
     "state": {
      "_model_module": "@jupyter-widgets/base",
      "_model_module_version": "1.2.0",
      "_model_name": "LayoutModel",
      "_view_count": null,
      "_view_module": "@jupyter-widgets/base",
      "_view_module_version": "1.2.0",
      "_view_name": "LayoutView",
      "align_content": null,
      "align_items": null,
      "align_self": null,
      "border": null,
      "bottom": null,
      "display": null,
      "flex": null,
      "flex_flow": null,
      "grid_area": null,
      "grid_auto_columns": null,
      "grid_auto_flow": null,
      "grid_auto_rows": null,
      "grid_column": null,
      "grid_gap": null,
      "grid_row": null,
      "grid_template_areas": null,
      "grid_template_columns": null,
      "grid_template_rows": null,
      "height": null,
      "justify_content": null,
      "justify_items": null,
      "left": null,
      "margin": null,
      "max_height": null,
      "max_width": null,
      "min_height": null,
      "min_width": null,
      "object_fit": null,
      "object_position": null,
      "order": null,
      "overflow": null,
      "overflow_x": null,
      "overflow_y": null,
      "padding": null,
      "right": null,
      "top": null,
      "visibility": null,
      "width": null
     }
    },
    "8b79e4e4ff3c4cf79fa2d9f8e3576b30": {
     "model_module": "@jupyter-widgets/controls",
     "model_module_version": "1.5.0",
     "model_name": "FloatProgressModel",
     "state": {
      "_dom_classes": [],
      "_model_module": "@jupyter-widgets/controls",
      "_model_module_version": "1.5.0",
      "_model_name": "FloatProgressModel",
      "_view_count": null,
      "_view_module": "@jupyter-widgets/controls",
      "_view_module_version": "1.5.0",
      "_view_name": "ProgressView",
      "bar_style": "success",
      "description": "",
      "description_tooltip": null,
      "layout": "IPY_MODEL_2c4807364dad46069244f8312c8042d7",
      "max": 229,
      "min": 0,
      "orientation": "horizontal",
      "style": "IPY_MODEL_29ddbdaa3c604195841b2385e1c1e184",
      "value": 229
     }
    },
    "8d90282ce26f47dca1d2ac61c8b25add": {
     "model_module": "@jupyter-widgets/controls",
     "model_module_version": "1.5.0",
     "model_name": "FloatProgressModel",
     "state": {
      "_dom_classes": [],
      "_model_module": "@jupyter-widgets/controls",
      "_model_module_version": "1.5.0",
      "_model_name": "FloatProgressModel",
      "_view_count": null,
      "_view_module": "@jupyter-widgets/controls",
      "_view_module_version": "1.5.0",
      "_view_name": "ProgressView",
      "bar_style": "success",
      "description": "",
      "description_tooltip": null,
      "layout": "IPY_MODEL_cfcf6fc3be704795a20c0b139f19a17a",
      "max": 798011,
      "min": 0,
      "orientation": "horizontal",
      "style": "IPY_MODEL_56d93dacb0074f509ee641ac70eef870",
      "value": 798011
     }
    },
    "8e029bbcfcf14f82bafc3e821abbcfcd": {
     "model_module": "@jupyter-widgets/controls",
     "model_module_version": "1.5.0",
     "model_name": "DescriptionStyleModel",
     "state": {
      "_model_module": "@jupyter-widgets/controls",
      "_model_module_version": "1.5.0",
      "_model_name": "DescriptionStyleModel",
      "_view_count": null,
      "_view_module": "@jupyter-widgets/base",
      "_view_module_version": "1.2.0",
      "_view_name": "StyleView",
      "description_width": ""
     }
    },
    "8ec85bb1e9144e4aaaec788734a06df8": {
     "model_module": "@jupyter-widgets/controls",
     "model_module_version": "1.5.0",
     "model_name": "HTMLModel",
     "state": {
      "_dom_classes": [],
      "_model_module": "@jupyter-widgets/controls",
      "_model_module_version": "1.5.0",
      "_model_name": "HTMLModel",
      "_view_count": null,
      "_view_module": "@jupyter-widgets/controls",
      "_view_module_version": "1.5.0",
      "_view_name": "HTMLView",
      "description": "",
      "description_tooltip": null,
      "layout": "IPY_MODEL_f02284552c704834aff1f6a64d348f29",
      "placeholder": "​",
      "style": "IPY_MODEL_7f61ef01a48c4ba2b50a35567e64742a",
      "value": " 229/229 [00:26&lt;00:00,  8.76it/s]"
     }
    },
    "905814aa774f43048e47a56dabc140d1": {
     "model_module": "@jupyter-widgets/base",
     "model_module_version": "1.2.0",
     "model_name": "LayoutModel",
     "state": {
      "_model_module": "@jupyter-widgets/base",
      "_model_module_version": "1.2.0",
      "_model_name": "LayoutModel",
      "_view_count": null,
      "_view_module": "@jupyter-widgets/base",
      "_view_module_version": "1.2.0",
      "_view_name": "LayoutView",
      "align_content": null,
      "align_items": null,
      "align_self": null,
      "border": null,
      "bottom": null,
      "display": null,
      "flex": null,
      "flex_flow": null,
      "grid_area": null,
      "grid_auto_columns": null,
      "grid_auto_flow": null,
      "grid_auto_rows": null,
      "grid_column": null,
      "grid_gap": null,
      "grid_row": null,
      "grid_template_areas": null,
      "grid_template_columns": null,
      "grid_template_rows": null,
      "height": null,
      "justify_content": null,
      "justify_items": null,
      "left": null,
      "margin": null,
      "max_height": null,
      "max_width": null,
      "min_height": null,
      "min_width": null,
      "object_fit": null,
      "object_position": null,
      "order": null,
      "overflow": null,
      "overflow_x": null,
      "overflow_y": null,
      "padding": null,
      "right": null,
      "top": null,
      "visibility": null,
      "width": null
     }
    },
    "92242d826b6648baa9dedd094e9ab2c7": {
     "model_module": "@jupyter-widgets/controls",
     "model_module_version": "1.5.0",
     "model_name": "HTMLModel",
     "state": {
      "_dom_classes": [],
      "_model_module": "@jupyter-widgets/controls",
      "_model_module_version": "1.5.0",
      "_model_name": "HTMLModel",
      "_view_count": null,
      "_view_module": "@jupyter-widgets/controls",
      "_view_module_version": "1.5.0",
      "_view_name": "HTMLView",
      "description": "",
      "description_tooltip": null,
      "layout": "IPY_MODEL_06ed3ecfb53a499d83ce2359a955680f",
      "placeholder": "​",
      "style": "IPY_MODEL_177ecb0857d8401a80d2f7e50e8a76b4",
      "value": " 229/229 [00:29&lt;00:00,  7.93it/s]"
     }
    },
    "96660d16c30243b8b9e29f2ec6c4f6bb": {
     "model_module": "@jupyter-widgets/base",
     "model_module_version": "1.2.0",
     "model_name": "LayoutModel",
     "state": {
      "_model_module": "@jupyter-widgets/base",
      "_model_module_version": "1.2.0",
      "_model_name": "LayoutModel",
      "_view_count": null,
      "_view_module": "@jupyter-widgets/base",
      "_view_module_version": "1.2.0",
      "_view_name": "LayoutView",
      "align_content": null,
      "align_items": null,
      "align_self": null,
      "border": null,
      "bottom": null,
      "display": null,
      "flex": null,
      "flex_flow": null,
      "grid_area": null,
      "grid_auto_columns": null,
      "grid_auto_flow": null,
      "grid_auto_rows": null,
      "grid_column": null,
      "grid_gap": null,
      "grid_row": null,
      "grid_template_areas": null,
      "grid_template_columns": null,
      "grid_template_rows": null,
      "height": null,
      "justify_content": null,
      "justify_items": null,
      "left": null,
      "margin": null,
      "max_height": null,
      "max_width": null,
      "min_height": null,
      "min_width": null,
      "object_fit": null,
      "object_position": null,
      "order": null,
      "overflow": null,
      "overflow_x": null,
      "overflow_y": null,
      "padding": null,
      "right": null,
      "top": null,
      "visibility": null,
      "width": null
     }
    },
    "979359b21024410a81c30b093e7639e7": {
     "model_module": "@jupyter-widgets/controls",
     "model_module_version": "1.5.0",
     "model_name": "FloatProgressModel",
     "state": {
      "_dom_classes": [],
      "_model_module": "@jupyter-widgets/controls",
      "_model_module_version": "1.5.0",
      "_model_name": "FloatProgressModel",
      "_view_count": null,
      "_view_module": "@jupyter-widgets/controls",
      "_view_module_version": "1.5.0",
      "_view_name": "ProgressView",
      "bar_style": "success",
      "description": "",
      "description_tooltip": null,
      "layout": "IPY_MODEL_11619669ed8a4c05a452b489cad3aa33",
      "max": 467042463,
      "min": 0,
      "orientation": "horizontal",
      "style": "IPY_MODEL_4e52c9dfb6ee4aaea9651781b19ff63b",
      "value": 467042463
     }
    },
    "98ae8363720c46ce8e97839171a3a7d3": {
     "model_module": "@jupyter-widgets/base",
     "model_module_version": "1.2.0",
     "model_name": "LayoutModel",
     "state": {
      "_model_module": "@jupyter-widgets/base",
      "_model_module_version": "1.2.0",
      "_model_name": "LayoutModel",
      "_view_count": null,
      "_view_module": "@jupyter-widgets/base",
      "_view_module_version": "1.2.0",
      "_view_name": "LayoutView",
      "align_content": null,
      "align_items": null,
      "align_self": null,
      "border": null,
      "bottom": null,
      "display": null,
      "flex": null,
      "flex_flow": null,
      "grid_area": null,
      "grid_auto_columns": null,
      "grid_auto_flow": null,
      "grid_auto_rows": null,
      "grid_column": null,
      "grid_gap": null,
      "grid_row": null,
      "grid_template_areas": null,
      "grid_template_columns": null,
      "grid_template_rows": null,
      "height": null,
      "justify_content": null,
      "justify_items": null,
      "left": null,
      "margin": null,
      "max_height": null,
      "max_width": null,
      "min_height": null,
      "min_width": null,
      "object_fit": null,
      "object_position": null,
      "order": null,
      "overflow": null,
      "overflow_x": null,
      "overflow_y": null,
      "padding": null,
      "right": null,
      "top": null,
      "visibility": null,
      "width": null
     }
    },
    "9962e0237a1a4abf8fcc7963790e31eb": {
     "model_module": "@jupyter-widgets/controls",
     "model_module_version": "1.5.0",
     "model_name": "HTMLModel",
     "state": {
      "_dom_classes": [],
      "_model_module": "@jupyter-widgets/controls",
      "_model_module_version": "1.5.0",
      "_model_name": "HTMLModel",
      "_view_count": null,
      "_view_module": "@jupyter-widgets/controls",
      "_view_module_version": "1.5.0",
      "_view_name": "HTMLView",
      "description": "",
      "description_tooltip": null,
      "layout": "IPY_MODEL_b173ee3339ce48d09a9bdfe6eca8fff3",
      "placeholder": "​",
      "style": "IPY_MODEL_784001f3245d49d283e736d76a42de2a",
      "value": " 760/760 [00:00&lt;00:00, 20.7kB/s]"
     }
    },
    "9a196ffa38d744bca7a91d436e13092d": {
     "model_module": "@jupyter-widgets/base",
     "model_module_version": "1.2.0",
     "model_name": "LayoutModel",
     "state": {
      "_model_module": "@jupyter-widgets/base",
      "_model_module_version": "1.2.0",
      "_model_name": "LayoutModel",
      "_view_count": null,
      "_view_module": "@jupyter-widgets/base",
      "_view_module_version": "1.2.0",
      "_view_name": "LayoutView",
      "align_content": null,
      "align_items": null,
      "align_self": null,
      "border": null,
      "bottom": null,
      "display": null,
      "flex": null,
      "flex_flow": null,
      "grid_area": null,
      "grid_auto_columns": null,
      "grid_auto_flow": null,
      "grid_auto_rows": null,
      "grid_column": null,
      "grid_gap": null,
      "grid_row": null,
      "grid_template_areas": null,
      "grid_template_columns": null,
      "grid_template_rows": null,
      "height": null,
      "justify_content": null,
      "justify_items": null,
      "left": null,
      "margin": null,
      "max_height": null,
      "max_width": null,
      "min_height": null,
      "min_width": null,
      "object_fit": null,
      "object_position": null,
      "order": null,
      "overflow": null,
      "overflow_x": null,
      "overflow_y": null,
      "padding": null,
      "right": null,
      "top": null,
      "visibility": null,
      "width": null
     }
    },
    "9a997f8941f147c1849a8b1c9d72cbc2": {
     "model_module": "@jupyter-widgets/controls",
     "model_module_version": "1.5.0",
     "model_name": "HTMLModel",
     "state": {
      "_dom_classes": [],
      "_model_module": "@jupyter-widgets/controls",
      "_model_module_version": "1.5.0",
      "_model_name": "HTMLModel",
      "_view_count": null,
      "_view_module": "@jupyter-widgets/controls",
      "_view_module_version": "1.5.0",
      "_view_name": "HTMLView",
      "description": "",
      "description_tooltip": null,
      "layout": "IPY_MODEL_9ba0b2c4d75b4c18855e6576e63d14de",
      "placeholder": "​",
      "style": "IPY_MODEL_ff0d1e26cbcc402a80b7a6e69e274465",
      "value": " 229/229 [00:35&lt;00:00,  6.52it/s]"
     }
    },
    "9b2d073b4a7347a4ba6f481e6e0c5173": {
     "model_module": "@jupyter-widgets/controls",
     "model_module_version": "1.5.0",
     "model_name": "DescriptionStyleModel",
     "state": {
      "_model_module": "@jupyter-widgets/controls",
      "_model_module_version": "1.5.0",
      "_model_name": "DescriptionStyleModel",
      "_view_count": null,
      "_view_module": "@jupyter-widgets/base",
      "_view_module_version": "1.2.0",
      "_view_name": "StyleView",
      "description_width": ""
     }
    },
    "9ba0b2c4d75b4c18855e6576e63d14de": {
     "model_module": "@jupyter-widgets/base",
     "model_module_version": "1.2.0",
     "model_name": "LayoutModel",
     "state": {
      "_model_module": "@jupyter-widgets/base",
      "_model_module_version": "1.2.0",
      "_model_name": "LayoutModel",
      "_view_count": null,
      "_view_module": "@jupyter-widgets/base",
      "_view_module_version": "1.2.0",
      "_view_name": "LayoutView",
      "align_content": null,
      "align_items": null,
      "align_self": null,
      "border": null,
      "bottom": null,
      "display": null,
      "flex": null,
      "flex_flow": null,
      "grid_area": null,
      "grid_auto_columns": null,
      "grid_auto_flow": null,
      "grid_auto_rows": null,
      "grid_column": null,
      "grid_gap": null,
      "grid_row": null,
      "grid_template_areas": null,
      "grid_template_columns": null,
      "grid_template_rows": null,
      "height": null,
      "justify_content": null,
      "justify_items": null,
      "left": null,
      "margin": null,
      "max_height": null,
      "max_width": null,
      "min_height": null,
      "min_width": null,
      "object_fit": null,
      "object_position": null,
      "order": null,
      "overflow": null,
      "overflow_x": null,
      "overflow_y": null,
      "padding": null,
      "right": null,
      "top": null,
      "visibility": null,
      "width": null
     }
    },
    "9dfd62f35b9b4453bdc56bd53b805bd1": {
     "model_module": "@jupyter-widgets/base",
     "model_module_version": "1.2.0",
     "model_name": "LayoutModel",
     "state": {
      "_model_module": "@jupyter-widgets/base",
      "_model_module_version": "1.2.0",
      "_model_name": "LayoutModel",
      "_view_count": null,
      "_view_module": "@jupyter-widgets/base",
      "_view_module_version": "1.2.0",
      "_view_name": "LayoutView",
      "align_content": null,
      "align_items": null,
      "align_self": null,
      "border": null,
      "bottom": null,
      "display": null,
      "flex": null,
      "flex_flow": null,
      "grid_area": null,
      "grid_auto_columns": null,
      "grid_auto_flow": null,
      "grid_auto_rows": null,
      "grid_column": null,
      "grid_gap": null,
      "grid_row": null,
      "grid_template_areas": null,
      "grid_template_columns": null,
      "grid_template_rows": null,
      "height": null,
      "justify_content": null,
      "justify_items": null,
      "left": null,
      "margin": null,
      "max_height": null,
      "max_width": null,
      "min_height": null,
      "min_width": null,
      "object_fit": null,
      "object_position": null,
      "order": null,
      "overflow": null,
      "overflow_x": null,
      "overflow_y": null,
      "padding": null,
      "right": null,
      "top": null,
      "visibility": null,
      "width": null
     }
    },
    "9f78b31839f54bd7b639045f22bfd483": {
     "model_module": "@jupyter-widgets/base",
     "model_module_version": "1.2.0",
     "model_name": "LayoutModel",
     "state": {
      "_model_module": "@jupyter-widgets/base",
      "_model_module_version": "1.2.0",
      "_model_name": "LayoutModel",
      "_view_count": null,
      "_view_module": "@jupyter-widgets/base",
      "_view_module_version": "1.2.0",
      "_view_name": "LayoutView",
      "align_content": null,
      "align_items": null,
      "align_self": null,
      "border": null,
      "bottom": null,
      "display": null,
      "flex": null,
      "flex_flow": null,
      "grid_area": null,
      "grid_auto_columns": null,
      "grid_auto_flow": null,
      "grid_auto_rows": null,
      "grid_column": null,
      "grid_gap": null,
      "grid_row": null,
      "grid_template_areas": null,
      "grid_template_columns": null,
      "grid_template_rows": null,
      "height": null,
      "justify_content": null,
      "justify_items": null,
      "left": null,
      "margin": null,
      "max_height": null,
      "max_width": null,
      "min_height": null,
      "min_width": null,
      "object_fit": null,
      "object_position": null,
      "order": null,
      "overflow": null,
      "overflow_x": null,
      "overflow_y": null,
      "padding": null,
      "right": null,
      "top": null,
      "visibility": null,
      "width": null
     }
    },
    "9fd20faf958b4a4f93bf9ce5ad2c7491": {
     "model_module": "@jupyter-widgets/controls",
     "model_module_version": "1.5.0",
     "model_name": "HTMLModel",
     "state": {
      "_dom_classes": [],
      "_model_module": "@jupyter-widgets/controls",
      "_model_module_version": "1.5.0",
      "_model_name": "HTMLModel",
      "_view_count": null,
      "_view_module": "@jupyter-widgets/controls",
      "_view_module_version": "1.5.0",
      "_view_name": "HTMLView",
      "description": "",
      "description_tooltip": null,
      "layout": "IPY_MODEL_7ae92b199d384196a052c4e302e6b20e",
      "placeholder": "​",
      "style": "IPY_MODEL_e66f21c8778249f4bd13d7dd4b1929b2",
      "value": "100%"
     }
    },
    "a02189cb729d4edda1217b84f29fd799": {
     "model_module": "@jupyter-widgets/controls",
     "model_module_version": "1.5.0",
     "model_name": "HTMLModel",
     "state": {
      "_dom_classes": [],
      "_model_module": "@jupyter-widgets/controls",
      "_model_module_version": "1.5.0",
      "_model_name": "HTMLModel",
      "_view_count": null,
      "_view_module": "@jupyter-widgets/controls",
      "_view_module_version": "1.5.0",
      "_view_name": "HTMLView",
      "description": "",
      "description_tooltip": null,
      "layout": "IPY_MODEL_755a670428cf45c9b683b78018cc7378",
      "placeholder": "​",
      "style": "IPY_MODEL_1821a9b9a7dd494ea0dab3c48d30ca8e",
      "value": "Downloading pytorch_model.bin: 100%"
     }
    },
    "a77cb151dd634ed2b7d7e73de4881b9f": {
     "model_module": "@jupyter-widgets/base",
     "model_module_version": "1.2.0",
     "model_name": "LayoutModel",
     "state": {
      "_model_module": "@jupyter-widgets/base",
      "_model_module_version": "1.2.0",
      "_model_name": "LayoutModel",
      "_view_count": null,
      "_view_module": "@jupyter-widgets/base",
      "_view_module_version": "1.2.0",
      "_view_name": "LayoutView",
      "align_content": null,
      "align_items": null,
      "align_self": null,
      "border": null,
      "bottom": null,
      "display": null,
      "flex": null,
      "flex_flow": null,
      "grid_area": null,
      "grid_auto_columns": null,
      "grid_auto_flow": null,
      "grid_auto_rows": null,
      "grid_column": null,
      "grid_gap": null,
      "grid_row": null,
      "grid_template_areas": null,
      "grid_template_columns": null,
      "grid_template_rows": null,
      "height": null,
      "justify_content": null,
      "justify_items": null,
      "left": null,
      "margin": null,
      "max_height": null,
      "max_width": null,
      "min_height": null,
      "min_width": null,
      "object_fit": null,
      "object_position": null,
      "order": null,
      "overflow": null,
      "overflow_x": null,
      "overflow_y": null,
      "padding": null,
      "right": null,
      "top": null,
      "visibility": null,
      "width": null
     }
    },
    "a7bb54ab59c84078a9cbde8c015cdf68": {
     "model_module": "@jupyter-widgets/controls",
     "model_module_version": "1.5.0",
     "model_name": "DescriptionStyleModel",
     "state": {
      "_model_module": "@jupyter-widgets/controls",
      "_model_module_version": "1.5.0",
      "_model_name": "DescriptionStyleModel",
      "_view_count": null,
      "_view_module": "@jupyter-widgets/base",
      "_view_module_version": "1.2.0",
      "_view_name": "StyleView",
      "description_width": ""
     }
    },
    "a7c962ec84734a60984109cd6aa378c6": {
     "model_module": "@jupyter-widgets/controls",
     "model_module_version": "1.5.0",
     "model_name": "HTMLModel",
     "state": {
      "_dom_classes": [],
      "_model_module": "@jupyter-widgets/controls",
      "_model_module_version": "1.5.0",
      "_model_name": "HTMLModel",
      "_view_count": null,
      "_view_module": "@jupyter-widgets/controls",
      "_view_module_version": "1.5.0",
      "_view_name": "HTMLView",
      "description": "",
      "description_tooltip": null,
      "layout": "IPY_MODEL_f8638163152f4d1681382a52538fca44",
      "placeholder": "​",
      "style": "IPY_MODEL_4e1e4d293b7b4a938c50a773be4444e7",
      "value": "100%"
     }
    },
    "a93886992da34b54b2b33a16800d53b8": {
     "model_module": "@jupyter-widgets/controls",
     "model_module_version": "1.5.0",
     "model_name": "HTMLModel",
     "state": {
      "_dom_classes": [],
      "_model_module": "@jupyter-widgets/controls",
      "_model_module_version": "1.5.0",
      "_model_name": "HTMLModel",
      "_view_count": null,
      "_view_module": "@jupyter-widgets/controls",
      "_view_module_version": "1.5.0",
      "_view_name": "HTMLView",
      "description": "",
      "description_tooltip": null,
      "layout": "IPY_MODEL_0f4ae194fe044b409ba23d917855e605",
      "placeholder": "​",
      "style": "IPY_MODEL_9b2d073b4a7347a4ba6f481e6e0c5173",
      "value": "100%"
     }
    },
    "aa13f98648be4fa985a7a974b8d435a0": {
     "model_module": "@jupyter-widgets/controls",
     "model_module_version": "1.5.0",
     "model_name": "HTMLModel",
     "state": {
      "_dom_classes": [],
      "_model_module": "@jupyter-widgets/controls",
      "_model_module_version": "1.5.0",
      "_model_name": "HTMLModel",
      "_view_count": null,
      "_view_module": "@jupyter-widgets/controls",
      "_view_module_version": "1.5.0",
      "_view_name": "HTMLView",
      "description": "",
      "description_tooltip": null,
      "layout": "IPY_MODEL_c3127c2fb77d4b548460617341f55bc0",
      "placeholder": "​",
      "style": "IPY_MODEL_8e029bbcfcf14f82bafc3e821abbcfcd",
      "value": "100%"
     }
    },
    "aa721da291ff450da407a6630c3e6949": {
     "model_module": "@jupyter-widgets/controls",
     "model_module_version": "1.5.0",
     "model_name": "FloatProgressModel",
     "state": {
      "_dom_classes": [],
      "_model_module": "@jupyter-widgets/controls",
      "_model_module_version": "1.5.0",
      "_model_name": "FloatProgressModel",
      "_view_count": null,
      "_view_module": "@jupyter-widgets/controls",
      "_view_module_version": "1.5.0",
      "_view_name": "ProgressView",
      "bar_style": "success",
      "description": "",
      "description_tooltip": null,
      "layout": "IPY_MODEL_d3907b3c6e5d468ea3d249f06ad4ec7e",
      "max": 467042463,
      "min": 0,
      "orientation": "horizontal",
      "style": "IPY_MODEL_d0d37d48f7d84f70aafde46351d8f386",
      "value": 467042463
     }
    },
    "aade141975b54c8d80797084491eaa17": {
     "model_module": "@jupyter-widgets/controls",
     "model_module_version": "1.5.0",
     "model_name": "DescriptionStyleModel",
     "state": {
      "_model_module": "@jupyter-widgets/controls",
      "_model_module_version": "1.5.0",
      "_model_name": "DescriptionStyleModel",
      "_view_count": null,
      "_view_module": "@jupyter-widgets/base",
      "_view_module_version": "1.2.0",
      "_view_name": "StyleView",
      "description_width": ""
     }
    },
    "ac3a4ffe452448c3b5c0e8f063deea2a": {
     "model_module": "@jupyter-widgets/controls",
     "model_module_version": "1.5.0",
     "model_name": "HTMLModel",
     "state": {
      "_dom_classes": [],
      "_model_module": "@jupyter-widgets/controls",
      "_model_module_version": "1.5.0",
      "_model_name": "HTMLModel",
      "_view_count": null,
      "_view_module": "@jupyter-widgets/controls",
      "_view_module_version": "1.5.0",
      "_view_name": "HTMLView",
      "description": "",
      "description_tooltip": null,
      "layout": "IPY_MODEL_7a5332bbd49f40b6a98324915137b068",
      "placeholder": "​",
      "style": "IPY_MODEL_aade141975b54c8d80797084491eaa17",
      "value": "100%"
     }
    },
    "ac79378f5b084982bc4c737fe7a0cac8": {
     "model_module": "@jupyter-widgets/controls",
     "model_module_version": "1.5.0",
     "model_name": "DescriptionStyleModel",
     "state": {
      "_model_module": "@jupyter-widgets/controls",
      "_model_module_version": "1.5.0",
      "_model_name": "DescriptionStyleModel",
      "_view_count": null,
      "_view_module": "@jupyter-widgets/base",
      "_view_module_version": "1.2.0",
      "_view_name": "StyleView",
      "description_width": ""
     }
    },
    "ac7efc19ef98491a9c65e00b4c211b51": {
     "model_module": "@jupyter-widgets/controls",
     "model_module_version": "1.5.0",
     "model_name": "DescriptionStyleModel",
     "state": {
      "_model_module": "@jupyter-widgets/controls",
      "_model_module_version": "1.5.0",
      "_model_name": "DescriptionStyleModel",
      "_view_count": null,
      "_view_module": "@jupyter-widgets/base",
      "_view_module_version": "1.2.0",
      "_view_name": "StyleView",
      "description_width": ""
     }
    },
    "acd01128e89e4183b27a12cec80f02a7": {
     "model_module": "@jupyter-widgets/base",
     "model_module_version": "1.2.0",
     "model_name": "LayoutModel",
     "state": {
      "_model_module": "@jupyter-widgets/base",
      "_model_module_version": "1.2.0",
      "_model_name": "LayoutModel",
      "_view_count": null,
      "_view_module": "@jupyter-widgets/base",
      "_view_module_version": "1.2.0",
      "_view_name": "LayoutView",
      "align_content": null,
      "align_items": null,
      "align_self": null,
      "border": null,
      "bottom": null,
      "display": null,
      "flex": null,
      "flex_flow": null,
      "grid_area": null,
      "grid_auto_columns": null,
      "grid_auto_flow": null,
      "grid_auto_rows": null,
      "grid_column": null,
      "grid_gap": null,
      "grid_row": null,
      "grid_template_areas": null,
      "grid_template_columns": null,
      "grid_template_rows": null,
      "height": null,
      "justify_content": null,
      "justify_items": null,
      "left": null,
      "margin": null,
      "max_height": null,
      "max_width": null,
      "min_height": null,
      "min_width": null,
      "object_fit": null,
      "object_position": null,
      "order": null,
      "overflow": null,
      "overflow_x": null,
      "overflow_y": null,
      "padding": null,
      "right": null,
      "top": null,
      "visibility": null,
      "width": null
     }
    },
    "acff7c13d03b485599ec4a8ca4188040": {
     "model_module": "@jupyter-widgets/controls",
     "model_module_version": "1.5.0",
     "model_name": "HBoxModel",
     "state": {
      "_dom_classes": [],
      "_model_module": "@jupyter-widgets/controls",
      "_model_module_version": "1.5.0",
      "_model_name": "HBoxModel",
      "_view_count": null,
      "_view_module": "@jupyter-widgets/controls",
      "_view_module_version": "1.5.0",
      "_view_name": "HBoxView",
      "box_style": "",
      "children": [
       "IPY_MODEL_16722f3a67754409920aeec40033ad7c",
       "IPY_MODEL_39c2f09025764c8e8f52c86053e23320",
       "IPY_MODEL_69ce622d894b42299b8b8482f0974be8"
      ],
      "layout": "IPY_MODEL_7d7ba255e7b64296b122c580c4893236"
     }
    },
    "ad11bff3f85a42be8d65cb714e1f7d4c": {
     "model_module": "@jupyter-widgets/controls",
     "model_module_version": "1.5.0",
     "model_name": "HTMLModel",
     "state": {
      "_dom_classes": [],
      "_model_module": "@jupyter-widgets/controls",
      "_model_module_version": "1.5.0",
      "_model_name": "HTMLModel",
      "_view_count": null,
      "_view_module": "@jupyter-widgets/controls",
      "_view_module_version": "1.5.0",
      "_view_name": "HTMLView",
      "description": "",
      "description_tooltip": null,
      "layout": "IPY_MODEL_f0ff068ce712447a95e0795d6d1c004d",
      "placeholder": "​",
      "style": "IPY_MODEL_d26595cd98c04951a1d3c9ab6b8dde11",
      "value": "100%"
     }
    },
    "ae5bab8fbfd84e2fb46f5501cb0b28c3": {
     "model_module": "@jupyter-widgets/controls",
     "model_module_version": "1.5.0",
     "model_name": "HTMLModel",
     "state": {
      "_dom_classes": [],
      "_model_module": "@jupyter-widgets/controls",
      "_model_module_version": "1.5.0",
      "_model_name": "HTMLModel",
      "_view_count": null,
      "_view_module": "@jupyter-widgets/controls",
      "_view_module_version": "1.5.0",
      "_view_name": "HTMLView",
      "description": "",
      "description_tooltip": null,
      "layout": "IPY_MODEL_2bce56ade96e4e7b94975d112f5cb445",
      "placeholder": "​",
      "style": "IPY_MODEL_be66f06f91b6453b9df05abe5a7ea671",
      "value": "Downloading (…)ve/main/spiece.model: 100%"
     }
    },
    "b0fd92a0ddeb49b59aced132753b3c84": {
     "model_module": "@jupyter-widgets/controls",
     "model_module_version": "1.5.0",
     "model_name": "ProgressStyleModel",
     "state": {
      "_model_module": "@jupyter-widgets/controls",
      "_model_module_version": "1.5.0",
      "_model_name": "ProgressStyleModel",
      "_view_count": null,
      "_view_module": "@jupyter-widgets/base",
      "_view_module_version": "1.2.0",
      "_view_name": "StyleView",
      "bar_color": null,
      "description_width": ""
     }
    },
    "b123ec2bd1824055ab342f029d238b09": {
     "model_module": "@jupyter-widgets/controls",
     "model_module_version": "1.5.0",
     "model_name": "HBoxModel",
     "state": {
      "_dom_classes": [],
      "_model_module": "@jupyter-widgets/controls",
      "_model_module_version": "1.5.0",
      "_model_name": "HBoxModel",
      "_view_count": null,
      "_view_module": "@jupyter-widgets/controls",
      "_view_module_version": "1.5.0",
      "_view_name": "HBoxView",
      "box_style": "",
      "children": [
       "IPY_MODEL_ac3a4ffe452448c3b5c0e8f063deea2a",
       "IPY_MODEL_49d5dff016bc45a4bf3e75cc77ae2e47",
       "IPY_MODEL_9a997f8941f147c1849a8b1c9d72cbc2"
      ],
      "layout": "IPY_MODEL_198329f17ba6483aa7499bb356dd6c40"
     }
    },
    "b173ee3339ce48d09a9bdfe6eca8fff3": {
     "model_module": "@jupyter-widgets/base",
     "model_module_version": "1.2.0",
     "model_name": "LayoutModel",
     "state": {
      "_model_module": "@jupyter-widgets/base",
      "_model_module_version": "1.2.0",
      "_model_name": "LayoutModel",
      "_view_count": null,
      "_view_module": "@jupyter-widgets/base",
      "_view_module_version": "1.2.0",
      "_view_name": "LayoutView",
      "align_content": null,
      "align_items": null,
      "align_self": null,
      "border": null,
      "bottom": null,
      "display": null,
      "flex": null,
      "flex_flow": null,
      "grid_area": null,
      "grid_auto_columns": null,
      "grid_auto_flow": null,
      "grid_auto_rows": null,
      "grid_column": null,
      "grid_gap": null,
      "grid_row": null,
      "grid_template_areas": null,
      "grid_template_columns": null,
      "grid_template_rows": null,
      "height": null,
      "justify_content": null,
      "justify_items": null,
      "left": null,
      "margin": null,
      "max_height": null,
      "max_width": null,
      "min_height": null,
      "min_width": null,
      "object_fit": null,
      "object_position": null,
      "order": null,
      "overflow": null,
      "overflow_x": null,
      "overflow_y": null,
      "padding": null,
      "right": null,
      "top": null,
      "visibility": null,
      "width": null
     }
    },
    "b1c5bae3ed4046ee806c3155dc4b7ea1": {
     "model_module": "@jupyter-widgets/controls",
     "model_module_version": "1.5.0",
     "model_name": "HTMLModel",
     "state": {
      "_dom_classes": [],
      "_model_module": "@jupyter-widgets/controls",
      "_model_module_version": "1.5.0",
      "_model_name": "HTMLModel",
      "_view_count": null,
      "_view_module": "@jupyter-widgets/controls",
      "_view_module_version": "1.5.0",
      "_view_name": "HTMLView",
      "description": "",
      "description_tooltip": null,
      "layout": "IPY_MODEL_174b9d9f30834f658f82c89f9595764d",
      "placeholder": "​",
      "style": "IPY_MODEL_ac7efc19ef98491a9c65e00b4c211b51",
      "value": " 798k/798k [00:00&lt;00:00, 12.9MB/s]"
     }
    },
    "b2186a5a98a9415c90d287b9e48c066c": {
     "model_module": "@jupyter-widgets/controls",
     "model_module_version": "1.5.0",
     "model_name": "ProgressStyleModel",
     "state": {
      "_model_module": "@jupyter-widgets/controls",
      "_model_module_version": "1.5.0",
      "_model_name": "ProgressStyleModel",
      "_view_count": null,
      "_view_module": "@jupyter-widgets/base",
      "_view_module_version": "1.2.0",
      "_view_name": "StyleView",
      "bar_color": null,
      "description_width": ""
     }
    },
    "b46320781b634a7b941340a318fed270": {
     "model_module": "@jupyter-widgets/base",
     "model_module_version": "1.2.0",
     "model_name": "LayoutModel",
     "state": {
      "_model_module": "@jupyter-widgets/base",
      "_model_module_version": "1.2.0",
      "_model_name": "LayoutModel",
      "_view_count": null,
      "_view_module": "@jupyter-widgets/base",
      "_view_module_version": "1.2.0",
      "_view_name": "LayoutView",
      "align_content": null,
      "align_items": null,
      "align_self": null,
      "border": null,
      "bottom": null,
      "display": null,
      "flex": null,
      "flex_flow": null,
      "grid_area": null,
      "grid_auto_columns": null,
      "grid_auto_flow": null,
      "grid_auto_rows": null,
      "grid_column": null,
      "grid_gap": null,
      "grid_row": null,
      "grid_template_areas": null,
      "grid_template_columns": null,
      "grid_template_rows": null,
      "height": null,
      "justify_content": null,
      "justify_items": null,
      "left": null,
      "margin": null,
      "max_height": null,
      "max_width": null,
      "min_height": null,
      "min_width": null,
      "object_fit": null,
      "object_position": null,
      "order": null,
      "overflow": null,
      "overflow_x": null,
      "overflow_y": null,
      "padding": null,
      "right": null,
      "top": null,
      "visibility": null,
      "width": null
     }
    },
    "b586464066b44bf9aa226fd2cb4e6693": {
     "model_module": "@jupyter-widgets/controls",
     "model_module_version": "1.5.0",
     "model_name": "HTMLModel",
     "state": {
      "_dom_classes": [],
      "_model_module": "@jupyter-widgets/controls",
      "_model_module_version": "1.5.0",
      "_model_name": "HTMLModel",
      "_view_count": null,
      "_view_module": "@jupyter-widgets/controls",
      "_view_module_version": "1.5.0",
      "_view_name": "HTMLView",
      "description": "",
      "description_tooltip": null,
      "layout": "IPY_MODEL_2ecb9f5da02c40018688271ae0feba7d",
      "placeholder": "​",
      "style": "IPY_MODEL_19fd1b5ffb2046bd8f7028f7fffec7ee",
      "value": "100%"
     }
    },
    "b76450605ba5430c8685fa99b05e3888": {
     "model_module": "@jupyter-widgets/controls",
     "model_module_version": "1.5.0",
     "model_name": "FloatProgressModel",
     "state": {
      "_dom_classes": [],
      "_model_module": "@jupyter-widgets/controls",
      "_model_module_version": "1.5.0",
      "_model_name": "FloatProgressModel",
      "_view_count": null,
      "_view_module": "@jupyter-widgets/controls",
      "_view_module_version": "1.5.0",
      "_view_name": "ProgressView",
      "bar_style": "success",
      "description": "",
      "description_tooltip": null,
      "layout": "IPY_MODEL_4793b9e7c486460e9315806f72def081",
      "max": 229,
      "min": 0,
      "orientation": "horizontal",
      "style": "IPY_MODEL_b0fd92a0ddeb49b59aced132753b3c84",
      "value": 229
     }
    },
    "b80a0fc892e549958f96e96e7bc2da64": {
     "model_module": "@jupyter-widgets/controls",
     "model_module_version": "1.5.0",
     "model_name": "DescriptionStyleModel",
     "state": {
      "_model_module": "@jupyter-widgets/controls",
      "_model_module_version": "1.5.0",
      "_model_name": "DescriptionStyleModel",
      "_view_count": null,
      "_view_module": "@jupyter-widgets/base",
      "_view_module_version": "1.2.0",
      "_view_name": "StyleView",
      "description_width": ""
     }
    },
    "bb90775f49d44aad83064215fee956f3": {
     "model_module": "@jupyter-widgets/base",
     "model_module_version": "1.2.0",
     "model_name": "LayoutModel",
     "state": {
      "_model_module": "@jupyter-widgets/base",
      "_model_module_version": "1.2.0",
      "_model_name": "LayoutModel",
      "_view_count": null,
      "_view_module": "@jupyter-widgets/base",
      "_view_module_version": "1.2.0",
      "_view_name": "LayoutView",
      "align_content": null,
      "align_items": null,
      "align_self": null,
      "border": null,
      "bottom": null,
      "display": null,
      "flex": null,
      "flex_flow": null,
      "grid_area": null,
      "grid_auto_columns": null,
      "grid_auto_flow": null,
      "grid_auto_rows": null,
      "grid_column": null,
      "grid_gap": null,
      "grid_row": null,
      "grid_template_areas": null,
      "grid_template_columns": null,
      "grid_template_rows": null,
      "height": null,
      "justify_content": null,
      "justify_items": null,
      "left": null,
      "margin": null,
      "max_height": null,
      "max_width": null,
      "min_height": null,
      "min_width": null,
      "object_fit": null,
      "object_position": null,
      "order": null,
      "overflow": null,
      "overflow_x": null,
      "overflow_y": null,
      "padding": null,
      "right": null,
      "top": null,
      "visibility": null,
      "width": null
     }
    },
    "bd24c5fddfd64a3892770a11c101d1c3": {
     "model_module": "@jupyter-widgets/controls",
     "model_module_version": "1.5.0",
     "model_name": "HTMLModel",
     "state": {
      "_dom_classes": [],
      "_model_module": "@jupyter-widgets/controls",
      "_model_module_version": "1.5.0",
      "_model_name": "HTMLModel",
      "_view_count": null,
      "_view_module": "@jupyter-widgets/controls",
      "_view_module_version": "1.5.0",
      "_view_name": "HTMLView",
      "description": "",
      "description_tooltip": null,
      "layout": "IPY_MODEL_98ae8363720c46ce8e97839171a3a7d3",
      "placeholder": "​",
      "style": "IPY_MODEL_1e3d550dbcdb4f479cd99bbe5cc5d459",
      "value": " 229/229 [00:26&lt;00:00,  8.47it/s]"
     }
    },
    "bdd4dd0158d6438d93f39559b5829036": {
     "model_module": "@jupyter-widgets/base",
     "model_module_version": "1.2.0",
     "model_name": "LayoutModel",
     "state": {
      "_model_module": "@jupyter-widgets/base",
      "_model_module_version": "1.2.0",
      "_model_name": "LayoutModel",
      "_view_count": null,
      "_view_module": "@jupyter-widgets/base",
      "_view_module_version": "1.2.0",
      "_view_name": "LayoutView",
      "align_content": null,
      "align_items": null,
      "align_self": null,
      "border": null,
      "bottom": null,
      "display": null,
      "flex": null,
      "flex_flow": null,
      "grid_area": null,
      "grid_auto_columns": null,
      "grid_auto_flow": null,
      "grid_auto_rows": null,
      "grid_column": null,
      "grid_gap": null,
      "grid_row": null,
      "grid_template_areas": null,
      "grid_template_columns": null,
      "grid_template_rows": null,
      "height": null,
      "justify_content": null,
      "justify_items": null,
      "left": null,
      "margin": null,
      "max_height": null,
      "max_width": null,
      "min_height": null,
      "min_width": null,
      "object_fit": null,
      "object_position": null,
      "order": null,
      "overflow": null,
      "overflow_x": null,
      "overflow_y": null,
      "padding": null,
      "right": null,
      "top": null,
      "visibility": null,
      "width": null
     }
    },
    "be66f06f91b6453b9df05abe5a7ea671": {
     "model_module": "@jupyter-widgets/controls",
     "model_module_version": "1.5.0",
     "model_name": "DescriptionStyleModel",
     "state": {
      "_model_module": "@jupyter-widgets/controls",
      "_model_module_version": "1.5.0",
      "_model_name": "DescriptionStyleModel",
      "_view_count": null,
      "_view_module": "@jupyter-widgets/base",
      "_view_module_version": "1.2.0",
      "_view_name": "StyleView",
      "description_width": ""
     }
    },
    "bf8b14d302644196b9baebdaf120579a": {
     "model_module": "@jupyter-widgets/base",
     "model_module_version": "1.2.0",
     "model_name": "LayoutModel",
     "state": {
      "_model_module": "@jupyter-widgets/base",
      "_model_module_version": "1.2.0",
      "_model_name": "LayoutModel",
      "_view_count": null,
      "_view_module": "@jupyter-widgets/base",
      "_view_module_version": "1.2.0",
      "_view_name": "LayoutView",
      "align_content": null,
      "align_items": null,
      "align_self": null,
      "border": null,
      "bottom": null,
      "display": null,
      "flex": null,
      "flex_flow": null,
      "grid_area": null,
      "grid_auto_columns": null,
      "grid_auto_flow": null,
      "grid_auto_rows": null,
      "grid_column": null,
      "grid_gap": null,
      "grid_row": null,
      "grid_template_areas": null,
      "grid_template_columns": null,
      "grid_template_rows": null,
      "height": null,
      "justify_content": null,
      "justify_items": null,
      "left": null,
      "margin": null,
      "max_height": null,
      "max_width": null,
      "min_height": null,
      "min_width": null,
      "object_fit": null,
      "object_position": null,
      "order": null,
      "overflow": null,
      "overflow_x": null,
      "overflow_y": null,
      "padding": null,
      "right": null,
      "top": null,
      "visibility": null,
      "width": null
     }
    },
    "c22eed6a963f49eabf6a66747d37b8f3": {
     "model_module": "@jupyter-widgets/base",
     "model_module_version": "1.2.0",
     "model_name": "LayoutModel",
     "state": {
      "_model_module": "@jupyter-widgets/base",
      "_model_module_version": "1.2.0",
      "_model_name": "LayoutModel",
      "_view_count": null,
      "_view_module": "@jupyter-widgets/base",
      "_view_module_version": "1.2.0",
      "_view_name": "LayoutView",
      "align_content": null,
      "align_items": null,
      "align_self": null,
      "border": null,
      "bottom": null,
      "display": null,
      "flex": null,
      "flex_flow": null,
      "grid_area": null,
      "grid_auto_columns": null,
      "grid_auto_flow": null,
      "grid_auto_rows": null,
      "grid_column": null,
      "grid_gap": null,
      "grid_row": null,
      "grid_template_areas": null,
      "grid_template_columns": null,
      "grid_template_rows": null,
      "height": null,
      "justify_content": null,
      "justify_items": null,
      "left": null,
      "margin": null,
      "max_height": null,
      "max_width": null,
      "min_height": null,
      "min_width": null,
      "object_fit": null,
      "object_position": null,
      "order": null,
      "overflow": null,
      "overflow_x": null,
      "overflow_y": null,
      "padding": null,
      "right": null,
      "top": null,
      "visibility": null,
      "width": null
     }
    },
    "c3127c2fb77d4b548460617341f55bc0": {
     "model_module": "@jupyter-widgets/base",
     "model_module_version": "1.2.0",
     "model_name": "LayoutModel",
     "state": {
      "_model_module": "@jupyter-widgets/base",
      "_model_module_version": "1.2.0",
      "_model_name": "LayoutModel",
      "_view_count": null,
      "_view_module": "@jupyter-widgets/base",
      "_view_module_version": "1.2.0",
      "_view_name": "LayoutView",
      "align_content": null,
      "align_items": null,
      "align_self": null,
      "border": null,
      "bottom": null,
      "display": null,
      "flex": null,
      "flex_flow": null,
      "grid_area": null,
      "grid_auto_columns": null,
      "grid_auto_flow": null,
      "grid_auto_rows": null,
      "grid_column": null,
      "grid_gap": null,
      "grid_row": null,
      "grid_template_areas": null,
      "grid_template_columns": null,
      "grid_template_rows": null,
      "height": null,
      "justify_content": null,
      "justify_items": null,
      "left": null,
      "margin": null,
      "max_height": null,
      "max_width": null,
      "min_height": null,
      "min_width": null,
      "object_fit": null,
      "object_position": null,
      "order": null,
      "overflow": null,
      "overflow_x": null,
      "overflow_y": null,
      "padding": null,
      "right": null,
      "top": null,
      "visibility": null,
      "width": null
     }
    },
    "c36c206c37bc4b4895d167b06dfed706": {
     "model_module": "@jupyter-widgets/base",
     "model_module_version": "1.2.0",
     "model_name": "LayoutModel",
     "state": {
      "_model_module": "@jupyter-widgets/base",
      "_model_module_version": "1.2.0",
      "_model_name": "LayoutModel",
      "_view_count": null,
      "_view_module": "@jupyter-widgets/base",
      "_view_module_version": "1.2.0",
      "_view_name": "LayoutView",
      "align_content": null,
      "align_items": null,
      "align_self": null,
      "border": null,
      "bottom": null,
      "display": null,
      "flex": null,
      "flex_flow": null,
      "grid_area": null,
      "grid_auto_columns": null,
      "grid_auto_flow": null,
      "grid_auto_rows": null,
      "grid_column": null,
      "grid_gap": null,
      "grid_row": null,
      "grid_template_areas": null,
      "grid_template_columns": null,
      "grid_template_rows": null,
      "height": null,
      "justify_content": null,
      "justify_items": null,
      "left": null,
      "margin": null,
      "max_height": null,
      "max_width": null,
      "min_height": null,
      "min_width": null,
      "object_fit": null,
      "object_position": null,
      "order": null,
      "overflow": null,
      "overflow_x": null,
      "overflow_y": null,
      "padding": null,
      "right": null,
      "top": null,
      "visibility": null,
      "width": null
     }
    },
    "c3d4cbcae70449539e524c9900c9b9a1": {
     "model_module": "@jupyter-widgets/controls",
     "model_module_version": "1.5.0",
     "model_name": "DescriptionStyleModel",
     "state": {
      "_model_module": "@jupyter-widgets/controls",
      "_model_module_version": "1.5.0",
      "_model_name": "DescriptionStyleModel",
      "_view_count": null,
      "_view_module": "@jupyter-widgets/base",
      "_view_module_version": "1.2.0",
      "_view_name": "StyleView",
      "description_width": ""
     }
    },
    "c5fea28e615f469c912d2867cd74b182": {
     "model_module": "@jupyter-widgets/controls",
     "model_module_version": "1.5.0",
     "model_name": "FloatProgressModel",
     "state": {
      "_dom_classes": [],
      "_model_module": "@jupyter-widgets/controls",
      "_model_module_version": "1.5.0",
      "_model_name": "FloatProgressModel",
      "_view_count": null,
      "_view_module": "@jupyter-widgets/controls",
      "_view_module_version": "1.5.0",
      "_view_name": "ProgressView",
      "bar_style": "success",
      "description": "",
      "description_tooltip": null,
      "layout": "IPY_MODEL_905814aa774f43048e47a56dabc140d1",
      "max": 229,
      "min": 0,
      "orientation": "horizontal",
      "style": "IPY_MODEL_ed40a0d14a9c4662971227bf702c5783",
      "value": 229
     }
    },
    "c759a0dd72a344678c6336fa9ce1d22b": {
     "model_module": "@jupyter-widgets/controls",
     "model_module_version": "1.5.0",
     "model_name": "ProgressStyleModel",
     "state": {
      "_model_module": "@jupyter-widgets/controls",
      "_model_module_version": "1.5.0",
      "_model_name": "ProgressStyleModel",
      "_view_count": null,
      "_view_module": "@jupyter-widgets/base",
      "_view_module_version": "1.2.0",
      "_view_name": "StyleView",
      "bar_color": null,
      "description_width": ""
     }
    },
    "c8c6121892cf4dbb9b7f5cac7acc7177": {
     "model_module": "@jupyter-widgets/controls",
     "model_module_version": "1.5.0",
     "model_name": "FloatProgressModel",
     "state": {
      "_dom_classes": [],
      "_model_module": "@jupyter-widgets/controls",
      "_model_module_version": "1.5.0",
      "_model_name": "FloatProgressModel",
      "_view_count": null,
      "_view_module": "@jupyter-widgets/controls",
      "_view_module_version": "1.5.0",
      "_view_name": "ProgressView",
      "bar_style": "success",
      "description": "",
      "description_tooltip": null,
      "layout": "IPY_MODEL_86e91ddf6dea480a95a314a78d4131de",
      "max": 229,
      "min": 0,
      "orientation": "horizontal",
      "style": "IPY_MODEL_0f10f993cdf64c7e99f0a6be4a157056",
      "value": 229
     }
    },
    "c919ee71f98f4cec8c902f446af17e55": {
     "model_module": "@jupyter-widgets/controls",
     "model_module_version": "1.5.0",
     "model_name": "HTMLModel",
     "state": {
      "_dom_classes": [],
      "_model_module": "@jupyter-widgets/controls",
      "_model_module_version": "1.5.0",
      "_model_name": "HTMLModel",
      "_view_count": null,
      "_view_module": "@jupyter-widgets/controls",
      "_view_module_version": "1.5.0",
      "_view_name": "HTMLView",
      "description": "",
      "description_tooltip": null,
      "layout": "IPY_MODEL_0fd2edba39cf418b887e62dad30b9ce5",
      "placeholder": "​",
      "style": "IPY_MODEL_81414fa1c56146279e1977e93b90b904",
      "value": " 1.38M/1.38M [00:01&lt;00:00, 1.32MB/s]"
     }
    },
    "c9608d034e134bbabfcd6a5a33856591": {
     "model_module": "@jupyter-widgets/base",
     "model_module_version": "1.2.0",
     "model_name": "LayoutModel",
     "state": {
      "_model_module": "@jupyter-widgets/base",
      "_model_module_version": "1.2.0",
      "_model_name": "LayoutModel",
      "_view_count": null,
      "_view_module": "@jupyter-widgets/base",
      "_view_module_version": "1.2.0",
      "_view_name": "LayoutView",
      "align_content": null,
      "align_items": null,
      "align_self": null,
      "border": null,
      "bottom": null,
      "display": null,
      "flex": null,
      "flex_flow": null,
      "grid_area": null,
      "grid_auto_columns": null,
      "grid_auto_flow": null,
      "grid_auto_rows": null,
      "grid_column": null,
      "grid_gap": null,
      "grid_row": null,
      "grid_template_areas": null,
      "grid_template_columns": null,
      "grid_template_rows": null,
      "height": null,
      "justify_content": null,
      "justify_items": null,
      "left": null,
      "margin": null,
      "max_height": null,
      "max_width": null,
      "min_height": null,
      "min_width": null,
      "object_fit": null,
      "object_position": null,
      "order": null,
      "overflow": null,
      "overflow_x": null,
      "overflow_y": null,
      "padding": null,
      "right": null,
      "top": null,
      "visibility": null,
      "width": null
     }
    },
    "ca2b641c13f442489aa98b1ea5aea47f": {
     "model_module": "@jupyter-widgets/base",
     "model_module_version": "1.2.0",
     "model_name": "LayoutModel",
     "state": {
      "_model_module": "@jupyter-widgets/base",
      "_model_module_version": "1.2.0",
      "_model_name": "LayoutModel",
      "_view_count": null,
      "_view_module": "@jupyter-widgets/base",
      "_view_module_version": "1.2.0",
      "_view_name": "LayoutView",
      "align_content": null,
      "align_items": null,
      "align_self": null,
      "border": null,
      "bottom": null,
      "display": null,
      "flex": null,
      "flex_flow": null,
      "grid_area": null,
      "grid_auto_columns": null,
      "grid_auto_flow": null,
      "grid_auto_rows": null,
      "grid_column": null,
      "grid_gap": null,
      "grid_row": null,
      "grid_template_areas": null,
      "grid_template_columns": null,
      "grid_template_rows": null,
      "height": null,
      "justify_content": null,
      "justify_items": null,
      "left": null,
      "margin": null,
      "max_height": null,
      "max_width": null,
      "min_height": null,
      "min_width": null,
      "object_fit": null,
      "object_position": null,
      "order": null,
      "overflow": null,
      "overflow_x": null,
      "overflow_y": null,
      "padding": null,
      "right": null,
      "top": null,
      "visibility": null,
      "width": null
     }
    },
    "ca31a42a468c4f008cee9529f754063d": {
     "model_module": "@jupyter-widgets/controls",
     "model_module_version": "1.5.0",
     "model_name": "HBoxModel",
     "state": {
      "_dom_classes": [],
      "_model_module": "@jupyter-widgets/controls",
      "_model_module_version": "1.5.0",
      "_model_name": "HBoxModel",
      "_view_count": null,
      "_view_module": "@jupyter-widgets/controls",
      "_view_module_version": "1.5.0",
      "_view_name": "HBoxView",
      "box_style": "",
      "children": [
       "IPY_MODEL_a7c962ec84734a60984109cd6aa378c6",
       "IPY_MODEL_016128a3ece9477eb65be21a2794871e",
       "IPY_MODEL_14c0baf553284baeab13101ab9062cee"
      ],
      "layout": "IPY_MODEL_d3d5ec705ba74c5796b6a07d8c6fdb0a"
     }
    },
    "cbe0f3cbdf624ebbbeea8e04533162ba": {
     "model_module": "@jupyter-widgets/controls",
     "model_module_version": "1.5.0",
     "model_name": "FloatProgressModel",
     "state": {
      "_dom_classes": [],
      "_model_module": "@jupyter-widgets/controls",
      "_model_module_version": "1.5.0",
      "_model_name": "FloatProgressModel",
      "_view_count": null,
      "_view_module": "@jupyter-widgets/controls",
      "_view_module_version": "1.5.0",
      "_view_name": "ProgressView",
      "bar_style": "success",
      "description": "",
      "description_tooltip": null,
      "layout": "IPY_MODEL_16061a7761cd42d3b94a1d71005ca919",
      "max": 760,
      "min": 0,
      "orientation": "horizontal",
      "style": "IPY_MODEL_494b9c07a4e6464ea653cf69f1e36c05",
      "value": 760
     }
    },
    "ccea6197c142430ea2550f60bf1fc830": {
     "model_module": "@jupyter-widgets/controls",
     "model_module_version": "1.5.0",
     "model_name": "ProgressStyleModel",
     "state": {
      "_model_module": "@jupyter-widgets/controls",
      "_model_module_version": "1.5.0",
      "_model_name": "ProgressStyleModel",
      "_view_count": null,
      "_view_module": "@jupyter-widgets/base",
      "_view_module_version": "1.2.0",
      "_view_name": "StyleView",
      "bar_color": null,
      "description_width": ""
     }
    },
    "ce413637476f453cb04083038b2422bf": {
     "model_module": "@jupyter-widgets/controls",
     "model_module_version": "1.5.0",
     "model_name": "HTMLModel",
     "state": {
      "_dom_classes": [],
      "_model_module": "@jupyter-widgets/controls",
      "_model_module_version": "1.5.0",
      "_model_name": "HTMLModel",
      "_view_count": null,
      "_view_module": "@jupyter-widgets/controls",
      "_view_module_version": "1.5.0",
      "_view_name": "HTMLView",
      "description": "",
      "description_tooltip": null,
      "layout": "IPY_MODEL_da250f81741a433183f6127b5d703175",
      "placeholder": "​",
      "style": "IPY_MODEL_b80a0fc892e549958f96e96e7bc2da64",
      "value": "100%"
     }
    },
    "cfcf6fc3be704795a20c0b139f19a17a": {
     "model_module": "@jupyter-widgets/base",
     "model_module_version": "1.2.0",
     "model_name": "LayoutModel",
     "state": {
      "_model_module": "@jupyter-widgets/base",
      "_model_module_version": "1.2.0",
      "_model_name": "LayoutModel",
      "_view_count": null,
      "_view_module": "@jupyter-widgets/base",
      "_view_module_version": "1.2.0",
      "_view_name": "LayoutView",
      "align_content": null,
      "align_items": null,
      "align_self": null,
      "border": null,
      "bottom": null,
      "display": null,
      "flex": null,
      "flex_flow": null,
      "grid_area": null,
      "grid_auto_columns": null,
      "grid_auto_flow": null,
      "grid_auto_rows": null,
      "grid_column": null,
      "grid_gap": null,
      "grid_row": null,
      "grid_template_areas": null,
      "grid_template_columns": null,
      "grid_template_rows": null,
      "height": null,
      "justify_content": null,
      "justify_items": null,
      "left": null,
      "margin": null,
      "max_height": null,
      "max_width": null,
      "min_height": null,
      "min_width": null,
      "object_fit": null,
      "object_position": null,
      "order": null,
      "overflow": null,
      "overflow_x": null,
      "overflow_y": null,
      "padding": null,
      "right": null,
      "top": null,
      "visibility": null,
      "width": null
     }
    },
    "d0d37d48f7d84f70aafde46351d8f386": {
     "model_module": "@jupyter-widgets/controls",
     "model_module_version": "1.5.0",
     "model_name": "ProgressStyleModel",
     "state": {
      "_model_module": "@jupyter-widgets/controls",
      "_model_module_version": "1.5.0",
      "_model_name": "ProgressStyleModel",
      "_view_count": null,
      "_view_module": "@jupyter-widgets/base",
      "_view_module_version": "1.2.0",
      "_view_name": "StyleView",
      "bar_color": null,
      "description_width": ""
     }
    },
    "d26595cd98c04951a1d3c9ab6b8dde11": {
     "model_module": "@jupyter-widgets/controls",
     "model_module_version": "1.5.0",
     "model_name": "DescriptionStyleModel",
     "state": {
      "_model_module": "@jupyter-widgets/controls",
      "_model_module_version": "1.5.0",
      "_model_name": "DescriptionStyleModel",
      "_view_count": null,
      "_view_module": "@jupyter-widgets/base",
      "_view_module_version": "1.2.0",
      "_view_name": "StyleView",
      "description_width": ""
     }
    },
    "d336aebb90874555ba539d105338de59": {
     "model_module": "@jupyter-widgets/controls",
     "model_module_version": "1.5.0",
     "model_name": "HTMLModel",
     "state": {
      "_dom_classes": [],
      "_model_module": "@jupyter-widgets/controls",
      "_model_module_version": "1.5.0",
      "_model_name": "HTMLModel",
      "_view_count": null,
      "_view_module": "@jupyter-widgets/controls",
      "_view_module_version": "1.5.0",
      "_view_name": "HTMLView",
      "description": "",
      "description_tooltip": null,
      "layout": "IPY_MODEL_fe8803946a2642668abef5074017dbe6",
      "placeholder": "​",
      "style": "IPY_MODEL_ac79378f5b084982bc4c737fe7a0cac8",
      "value": " 467M/467M [00:01&lt;00:00, 321MB/s]"
     }
    },
    "d3907b3c6e5d468ea3d249f06ad4ec7e": {
     "model_module": "@jupyter-widgets/base",
     "model_module_version": "1.2.0",
     "model_name": "LayoutModel",
     "state": {
      "_model_module": "@jupyter-widgets/base",
      "_model_module_version": "1.2.0",
      "_model_name": "LayoutModel",
      "_view_count": null,
      "_view_module": "@jupyter-widgets/base",
      "_view_module_version": "1.2.0",
      "_view_name": "LayoutView",
      "align_content": null,
      "align_items": null,
      "align_self": null,
      "border": null,
      "bottom": null,
      "display": null,
      "flex": null,
      "flex_flow": null,
      "grid_area": null,
      "grid_auto_columns": null,
      "grid_auto_flow": null,
      "grid_auto_rows": null,
      "grid_column": null,
      "grid_gap": null,
      "grid_row": null,
      "grid_template_areas": null,
      "grid_template_columns": null,
      "grid_template_rows": null,
      "height": null,
      "justify_content": null,
      "justify_items": null,
      "left": null,
      "margin": null,
      "max_height": null,
      "max_width": null,
      "min_height": null,
      "min_width": null,
      "object_fit": null,
      "object_position": null,
      "order": null,
      "overflow": null,
      "overflow_x": null,
      "overflow_y": null,
      "padding": null,
      "right": null,
      "top": null,
      "visibility": null,
      "width": null
     }
    },
    "d3d5ec705ba74c5796b6a07d8c6fdb0a": {
     "model_module": "@jupyter-widgets/base",
     "model_module_version": "1.2.0",
     "model_name": "LayoutModel",
     "state": {
      "_model_module": "@jupyter-widgets/base",
      "_model_module_version": "1.2.0",
      "_model_name": "LayoutModel",
      "_view_count": null,
      "_view_module": "@jupyter-widgets/base",
      "_view_module_version": "1.2.0",
      "_view_name": "LayoutView",
      "align_content": null,
      "align_items": null,
      "align_self": null,
      "border": null,
      "bottom": null,
      "display": null,
      "flex": null,
      "flex_flow": null,
      "grid_area": null,
      "grid_auto_columns": null,
      "grid_auto_flow": null,
      "grid_auto_rows": null,
      "grid_column": null,
      "grid_gap": null,
      "grid_row": null,
      "grid_template_areas": null,
      "grid_template_columns": null,
      "grid_template_rows": null,
      "height": null,
      "justify_content": null,
      "justify_items": null,
      "left": null,
      "margin": null,
      "max_height": null,
      "max_width": null,
      "min_height": null,
      "min_width": null,
      "object_fit": null,
      "object_position": null,
      "order": null,
      "overflow": null,
      "overflow_x": null,
      "overflow_y": null,
      "padding": null,
      "right": null,
      "top": null,
      "visibility": null,
      "width": null
     }
    },
    "d77a47267adb4c1898793a97f4a8f6ab": {
     "model_module": "@jupyter-widgets/base",
     "model_module_version": "1.2.0",
     "model_name": "LayoutModel",
     "state": {
      "_model_module": "@jupyter-widgets/base",
      "_model_module_version": "1.2.0",
      "_model_name": "LayoutModel",
      "_view_count": null,
      "_view_module": "@jupyter-widgets/base",
      "_view_module_version": "1.2.0",
      "_view_name": "LayoutView",
      "align_content": null,
      "align_items": null,
      "align_self": null,
      "border": null,
      "bottom": null,
      "display": null,
      "flex": null,
      "flex_flow": null,
      "grid_area": null,
      "grid_auto_columns": null,
      "grid_auto_flow": null,
      "grid_auto_rows": null,
      "grid_column": null,
      "grid_gap": null,
      "grid_row": null,
      "grid_template_areas": null,
      "grid_template_columns": null,
      "grid_template_rows": null,
      "height": null,
      "justify_content": null,
      "justify_items": null,
      "left": null,
      "margin": null,
      "max_height": null,
      "max_width": null,
      "min_height": null,
      "min_width": null,
      "object_fit": null,
      "object_position": null,
      "order": null,
      "overflow": null,
      "overflow_x": null,
      "overflow_y": null,
      "padding": null,
      "right": null,
      "top": null,
      "visibility": null,
      "width": null
     }
    },
    "d82818f588e8452c87885945c37d7f15": {
     "model_module": "@jupyter-widgets/controls",
     "model_module_version": "1.5.0",
     "model_name": "HTMLModel",
     "state": {
      "_dom_classes": [],
      "_model_module": "@jupyter-widgets/controls",
      "_model_module_version": "1.5.0",
      "_model_name": "HTMLModel",
      "_view_count": null,
      "_view_module": "@jupyter-widgets/controls",
      "_view_module_version": "1.5.0",
      "_view_name": "HTMLView",
      "description": "",
      "description_tooltip": null,
      "layout": "IPY_MODEL_723edf91b327480aa3c61c131bdba76e",
      "placeholder": "​",
      "style": "IPY_MODEL_5e195f46a30c484ba0242385b219c60a",
      "value": " 229/229 [00:32&lt;00:00,  7.73it/s]"
     }
    },
    "d8a727d2e6674335bb86321fe74e0daf": {
     "model_module": "@jupyter-widgets/controls",
     "model_module_version": "1.5.0",
     "model_name": "HBoxModel",
     "state": {
      "_dom_classes": [],
      "_model_module": "@jupyter-widgets/controls",
      "_model_module_version": "1.5.0",
      "_model_name": "HBoxModel",
      "_view_count": null,
      "_view_module": "@jupyter-widgets/controls",
      "_view_module_version": "1.5.0",
      "_view_name": "HBoxView",
      "box_style": "",
      "children": [
       "IPY_MODEL_ae5bab8fbfd84e2fb46f5501cb0b28c3",
       "IPY_MODEL_2f44e07472194d71aeee076e7033e9dc",
       "IPY_MODEL_b1c5bae3ed4046ee806c3155dc4b7ea1"
      ],
      "layout": "IPY_MODEL_383e51fd9ee44a388dfdbaadbe8873cd"
     }
    },
    "da250f81741a433183f6127b5d703175": {
     "model_module": "@jupyter-widgets/base",
     "model_module_version": "1.2.0",
     "model_name": "LayoutModel",
     "state": {
      "_model_module": "@jupyter-widgets/base",
      "_model_module_version": "1.2.0",
      "_model_name": "LayoutModel",
      "_view_count": null,
      "_view_module": "@jupyter-widgets/base",
      "_view_module_version": "1.2.0",
      "_view_name": "LayoutView",
      "align_content": null,
      "align_items": null,
      "align_self": null,
      "border": null,
      "bottom": null,
      "display": null,
      "flex": null,
      "flex_flow": null,
      "grid_area": null,
      "grid_auto_columns": null,
      "grid_auto_flow": null,
      "grid_auto_rows": null,
      "grid_column": null,
      "grid_gap": null,
      "grid_row": null,
      "grid_template_areas": null,
      "grid_template_columns": null,
      "grid_template_rows": null,
      "height": null,
      "justify_content": null,
      "justify_items": null,
      "left": null,
      "margin": null,
      "max_height": null,
      "max_width": null,
      "min_height": null,
      "min_width": null,
      "object_fit": null,
      "object_position": null,
      "order": null,
      "overflow": null,
      "overflow_x": null,
      "overflow_y": null,
      "padding": null,
      "right": null,
      "top": null,
      "visibility": null,
      "width": null
     }
    },
    "db1a922238634e009ab966068baef24f": {
     "model_module": "@jupyter-widgets/base",
     "model_module_version": "1.2.0",
     "model_name": "LayoutModel",
     "state": {
      "_model_module": "@jupyter-widgets/base",
      "_model_module_version": "1.2.0",
      "_model_name": "LayoutModel",
      "_view_count": null,
      "_view_module": "@jupyter-widgets/base",
      "_view_module_version": "1.2.0",
      "_view_name": "LayoutView",
      "align_content": null,
      "align_items": null,
      "align_self": null,
      "border": null,
      "bottom": null,
      "display": null,
      "flex": null,
      "flex_flow": null,
      "grid_area": null,
      "grid_auto_columns": null,
      "grid_auto_flow": null,
      "grid_auto_rows": null,
      "grid_column": null,
      "grid_gap": null,
      "grid_row": null,
      "grid_template_areas": null,
      "grid_template_columns": null,
      "grid_template_rows": null,
      "height": null,
      "justify_content": null,
      "justify_items": null,
      "left": null,
      "margin": null,
      "max_height": null,
      "max_width": null,
      "min_height": null,
      "min_width": null,
      "object_fit": null,
      "object_position": null,
      "order": null,
      "overflow": null,
      "overflow_x": null,
      "overflow_y": null,
      "padding": null,
      "right": null,
      "top": null,
      "visibility": null,
      "width": null
     }
    },
    "ddc1f8b406514dea96aadcbcdb3caf1f": {
     "model_module": "@jupyter-widgets/base",
     "model_module_version": "1.2.0",
     "model_name": "LayoutModel",
     "state": {
      "_model_module": "@jupyter-widgets/base",
      "_model_module_version": "1.2.0",
      "_model_name": "LayoutModel",
      "_view_count": null,
      "_view_module": "@jupyter-widgets/base",
      "_view_module_version": "1.2.0",
      "_view_name": "LayoutView",
      "align_content": null,
      "align_items": null,
      "align_self": null,
      "border": null,
      "bottom": null,
      "display": null,
      "flex": null,
      "flex_flow": null,
      "grid_area": null,
      "grid_auto_columns": null,
      "grid_auto_flow": null,
      "grid_auto_rows": null,
      "grid_column": null,
      "grid_gap": null,
      "grid_row": null,
      "grid_template_areas": null,
      "grid_template_columns": null,
      "grid_template_rows": null,
      "height": null,
      "justify_content": null,
      "justify_items": null,
      "left": null,
      "margin": null,
      "max_height": null,
      "max_width": null,
      "min_height": null,
      "min_width": null,
      "object_fit": null,
      "object_position": null,
      "order": null,
      "overflow": null,
      "overflow_x": null,
      "overflow_y": null,
      "padding": null,
      "right": null,
      "top": null,
      "visibility": null,
      "width": null
     }
    },
    "ddd401302066468abce611b2c7b0e3cd": {
     "model_module": "@jupyter-widgets/base",
     "model_module_version": "1.2.0",
     "model_name": "LayoutModel",
     "state": {
      "_model_module": "@jupyter-widgets/base",
      "_model_module_version": "1.2.0",
      "_model_name": "LayoutModel",
      "_view_count": null,
      "_view_module": "@jupyter-widgets/base",
      "_view_module_version": "1.2.0",
      "_view_name": "LayoutView",
      "align_content": null,
      "align_items": null,
      "align_self": null,
      "border": null,
      "bottom": null,
      "display": null,
      "flex": null,
      "flex_flow": null,
      "grid_area": null,
      "grid_auto_columns": null,
      "grid_auto_flow": null,
      "grid_auto_rows": null,
      "grid_column": null,
      "grid_gap": null,
      "grid_row": null,
      "grid_template_areas": null,
      "grid_template_columns": null,
      "grid_template_rows": null,
      "height": null,
      "justify_content": null,
      "justify_items": null,
      "left": null,
      "margin": null,
      "max_height": null,
      "max_width": null,
      "min_height": null,
      "min_width": null,
      "object_fit": null,
      "object_position": null,
      "order": null,
      "overflow": null,
      "overflow_x": null,
      "overflow_y": null,
      "padding": null,
      "right": null,
      "top": null,
      "visibility": null,
      "width": null
     }
    },
    "deb9247c55f74b4b818232a6dcb71c05": {
     "model_module": "@jupyter-widgets/controls",
     "model_module_version": "1.5.0",
     "model_name": "HTMLModel",
     "state": {
      "_dom_classes": [],
      "_model_module": "@jupyter-widgets/controls",
      "_model_module_version": "1.5.0",
      "_model_name": "HTMLModel",
      "_view_count": null,
      "_view_module": "@jupyter-widgets/controls",
      "_view_module_version": "1.5.0",
      "_view_name": "HTMLView",
      "description": "",
      "description_tooltip": null,
      "layout": "IPY_MODEL_db1a922238634e009ab966068baef24f",
      "placeholder": "​",
      "style": "IPY_MODEL_6deec007cc3c488fa58555e9a32b1de4",
      "value": "Downloading (…)lve/main/config.json: 100%"
     }
    },
    "e0c39d7a8b7d426bb1b0168434e329eb": {
     "model_module": "@jupyter-widgets/controls",
     "model_module_version": "1.5.0",
     "model_name": "HTMLModel",
     "state": {
      "_dom_classes": [],
      "_model_module": "@jupyter-widgets/controls",
      "_model_module_version": "1.5.0",
      "_model_name": "HTMLModel",
      "_view_count": null,
      "_view_module": "@jupyter-widgets/controls",
      "_view_module_version": "1.5.0",
      "_view_name": "HTMLView",
      "description": "",
      "description_tooltip": null,
      "layout": "IPY_MODEL_c22eed6a963f49eabf6a66747d37b8f3",
      "placeholder": "​",
      "style": "IPY_MODEL_e55157cb12e34965a5bbf9cae696cc05",
      "value": "Downloading (…)/main/tokenizer.json: 100%"
     }
    },
    "e10f7338e460434c97fe2e10dfd0c88a": {
     "model_module": "@jupyter-widgets/controls",
     "model_module_version": "1.5.0",
     "model_name": "HBoxModel",
     "state": {
      "_dom_classes": [],
      "_model_module": "@jupyter-widgets/controls",
      "_model_module_version": "1.5.0",
      "_model_name": "HBoxModel",
      "_view_count": null,
      "_view_module": "@jupyter-widgets/controls",
      "_view_module_version": "1.5.0",
      "_view_name": "HBoxView",
      "box_style": "",
      "children": [
       "IPY_MODEL_30d9aa6695ba4915b03f3d018884a535",
       "IPY_MODEL_b76450605ba5430c8685fa99b05e3888",
       "IPY_MODEL_8ec85bb1e9144e4aaaec788734a06df8"
      ],
      "layout": "IPY_MODEL_96660d16c30243b8b9e29f2ec6c4f6bb"
     }
    },
    "e55157cb12e34965a5bbf9cae696cc05": {
     "model_module": "@jupyter-widgets/controls",
     "model_module_version": "1.5.0",
     "model_name": "DescriptionStyleModel",
     "state": {
      "_model_module": "@jupyter-widgets/controls",
      "_model_module_version": "1.5.0",
      "_model_name": "DescriptionStyleModel",
      "_view_count": null,
      "_view_module": "@jupyter-widgets/base",
      "_view_module_version": "1.2.0",
      "_view_name": "StyleView",
      "description_width": ""
     }
    },
    "e66f21c8778249f4bd13d7dd4b1929b2": {
     "model_module": "@jupyter-widgets/controls",
     "model_module_version": "1.5.0",
     "model_name": "DescriptionStyleModel",
     "state": {
      "_model_module": "@jupyter-widgets/controls",
      "_model_module_version": "1.5.0",
      "_model_name": "DescriptionStyleModel",
      "_view_count": null,
      "_view_module": "@jupyter-widgets/base",
      "_view_module_version": "1.2.0",
      "_view_name": "StyleView",
      "description_width": ""
     }
    },
    "eab22ac2098a40ba9b9f049888f13db2": {
     "model_module": "@jupyter-widgets/controls",
     "model_module_version": "1.5.0",
     "model_name": "DescriptionStyleModel",
     "state": {
      "_model_module": "@jupyter-widgets/controls",
      "_model_module_version": "1.5.0",
      "_model_name": "DescriptionStyleModel",
      "_view_count": null,
      "_view_module": "@jupyter-widgets/base",
      "_view_module_version": "1.2.0",
      "_view_name": "StyleView",
      "description_width": ""
     }
    },
    "ec0956355c7d46ac99f9015a416cb8c2": {
     "model_module": "@jupyter-widgets/controls",
     "model_module_version": "1.5.0",
     "model_name": "DescriptionStyleModel",
     "state": {
      "_model_module": "@jupyter-widgets/controls",
      "_model_module_version": "1.5.0",
      "_model_name": "DescriptionStyleModel",
      "_view_count": null,
      "_view_module": "@jupyter-widgets/base",
      "_view_module_version": "1.2.0",
      "_view_name": "StyleView",
      "description_width": ""
     }
    },
    "ec1459388f4546469cafe28059ef149b": {
     "model_module": "@jupyter-widgets/base",
     "model_module_version": "1.2.0",
     "model_name": "LayoutModel",
     "state": {
      "_model_module": "@jupyter-widgets/base",
      "_model_module_version": "1.2.0",
      "_model_name": "LayoutModel",
      "_view_count": null,
      "_view_module": "@jupyter-widgets/base",
      "_view_module_version": "1.2.0",
      "_view_name": "LayoutView",
      "align_content": null,
      "align_items": null,
      "align_self": null,
      "border": null,
      "bottom": null,
      "display": null,
      "flex": null,
      "flex_flow": null,
      "grid_area": null,
      "grid_auto_columns": null,
      "grid_auto_flow": null,
      "grid_auto_rows": null,
      "grid_column": null,
      "grid_gap": null,
      "grid_row": null,
      "grid_template_areas": null,
      "grid_template_columns": null,
      "grid_template_rows": null,
      "height": null,
      "justify_content": null,
      "justify_items": null,
      "left": null,
      "margin": null,
      "max_height": null,
      "max_width": null,
      "min_height": null,
      "min_width": null,
      "object_fit": null,
      "object_position": null,
      "order": null,
      "overflow": null,
      "overflow_x": null,
      "overflow_y": null,
      "padding": null,
      "right": null,
      "top": null,
      "visibility": null,
      "width": null
     }
    },
    "ec893e9372594a6eb8a0e899e062926a": {
     "model_module": "@jupyter-widgets/base",
     "model_module_version": "1.2.0",
     "model_name": "LayoutModel",
     "state": {
      "_model_module": "@jupyter-widgets/base",
      "_model_module_version": "1.2.0",
      "_model_name": "LayoutModel",
      "_view_count": null,
      "_view_module": "@jupyter-widgets/base",
      "_view_module_version": "1.2.0",
      "_view_name": "LayoutView",
      "align_content": null,
      "align_items": null,
      "align_self": null,
      "border": null,
      "bottom": null,
      "display": null,
      "flex": null,
      "flex_flow": null,
      "grid_area": null,
      "grid_auto_columns": null,
      "grid_auto_flow": null,
      "grid_auto_rows": null,
      "grid_column": null,
      "grid_gap": null,
      "grid_row": null,
      "grid_template_areas": null,
      "grid_template_columns": null,
      "grid_template_rows": null,
      "height": null,
      "justify_content": null,
      "justify_items": null,
      "left": null,
      "margin": null,
      "max_height": null,
      "max_width": null,
      "min_height": null,
      "min_width": null,
      "object_fit": null,
      "object_position": null,
      "order": null,
      "overflow": null,
      "overflow_x": null,
      "overflow_y": null,
      "padding": null,
      "right": null,
      "top": null,
      "visibility": null,
      "width": null
     }
    },
    "ed40a0d14a9c4662971227bf702c5783": {
     "model_module": "@jupyter-widgets/controls",
     "model_module_version": "1.5.0",
     "model_name": "ProgressStyleModel",
     "state": {
      "_model_module": "@jupyter-widgets/controls",
      "_model_module_version": "1.5.0",
      "_model_name": "ProgressStyleModel",
      "_view_count": null,
      "_view_module": "@jupyter-widgets/base",
      "_view_module_version": "1.2.0",
      "_view_name": "StyleView",
      "bar_color": null,
      "description_width": ""
     }
    },
    "ed60adcf1d8d4e16abf1915effb21063": {
     "model_module": "@jupyter-widgets/controls",
     "model_module_version": "1.5.0",
     "model_name": "HBoxModel",
     "state": {
      "_dom_classes": [],
      "_model_module": "@jupyter-widgets/controls",
      "_model_module_version": "1.5.0",
      "_model_name": "HBoxModel",
      "_view_count": null,
      "_view_module": "@jupyter-widgets/controls",
      "_view_module_version": "1.5.0",
      "_view_name": "HBoxView",
      "box_style": "",
      "children": [
       "IPY_MODEL_ce413637476f453cb04083038b2422bf",
       "IPY_MODEL_c8c6121892cf4dbb9b7f5cac7acc7177",
       "IPY_MODEL_bd24c5fddfd64a3892770a11c101d1c3"
      ],
      "layout": "IPY_MODEL_6fe02e35bff348df8500a5165f3ac8ec"
     }
    },
    "ee0169e4268e4138b458c074e8297b88": {
     "model_module": "@jupyter-widgets/base",
     "model_module_version": "1.2.0",
     "model_name": "LayoutModel",
     "state": {
      "_model_module": "@jupyter-widgets/base",
      "_model_module_version": "1.2.0",
      "_model_name": "LayoutModel",
      "_view_count": null,
      "_view_module": "@jupyter-widgets/base",
      "_view_module_version": "1.2.0",
      "_view_name": "LayoutView",
      "align_content": null,
      "align_items": null,
      "align_self": null,
      "border": null,
      "bottom": null,
      "display": null,
      "flex": null,
      "flex_flow": null,
      "grid_area": null,
      "grid_auto_columns": null,
      "grid_auto_flow": null,
      "grid_auto_rows": null,
      "grid_column": null,
      "grid_gap": null,
      "grid_row": null,
      "grid_template_areas": null,
      "grid_template_columns": null,
      "grid_template_rows": null,
      "height": null,
      "justify_content": null,
      "justify_items": null,
      "left": null,
      "margin": null,
      "max_height": null,
      "max_width": null,
      "min_height": null,
      "min_width": null,
      "object_fit": null,
      "object_position": null,
      "order": null,
      "overflow": null,
      "overflow_x": null,
      "overflow_y": null,
      "padding": null,
      "right": null,
      "top": null,
      "visibility": null,
      "width": null
     }
    },
    "f02284552c704834aff1f6a64d348f29": {
     "model_module": "@jupyter-widgets/base",
     "model_module_version": "1.2.0",
     "model_name": "LayoutModel",
     "state": {
      "_model_module": "@jupyter-widgets/base",
      "_model_module_version": "1.2.0",
      "_model_name": "LayoutModel",
      "_view_count": null,
      "_view_module": "@jupyter-widgets/base",
      "_view_module_version": "1.2.0",
      "_view_name": "LayoutView",
      "align_content": null,
      "align_items": null,
      "align_self": null,
      "border": null,
      "bottom": null,
      "display": null,
      "flex": null,
      "flex_flow": null,
      "grid_area": null,
      "grid_auto_columns": null,
      "grid_auto_flow": null,
      "grid_auto_rows": null,
      "grid_column": null,
      "grid_gap": null,
      "grid_row": null,
      "grid_template_areas": null,
      "grid_template_columns": null,
      "grid_template_rows": null,
      "height": null,
      "justify_content": null,
      "justify_items": null,
      "left": null,
      "margin": null,
      "max_height": null,
      "max_width": null,
      "min_height": null,
      "min_width": null,
      "object_fit": null,
      "object_position": null,
      "order": null,
      "overflow": null,
      "overflow_x": null,
      "overflow_y": null,
      "padding": null,
      "right": null,
      "top": null,
      "visibility": null,
      "width": null
     }
    },
    "f0ff068ce712447a95e0795d6d1c004d": {
     "model_module": "@jupyter-widgets/base",
     "model_module_version": "1.2.0",
     "model_name": "LayoutModel",
     "state": {
      "_model_module": "@jupyter-widgets/base",
      "_model_module_version": "1.2.0",
      "_model_name": "LayoutModel",
      "_view_count": null,
      "_view_module": "@jupyter-widgets/base",
      "_view_module_version": "1.2.0",
      "_view_name": "LayoutView",
      "align_content": null,
      "align_items": null,
      "align_self": null,
      "border": null,
      "bottom": null,
      "display": null,
      "flex": null,
      "flex_flow": null,
      "grid_area": null,
      "grid_auto_columns": null,
      "grid_auto_flow": null,
      "grid_auto_rows": null,
      "grid_column": null,
      "grid_gap": null,
      "grid_row": null,
      "grid_template_areas": null,
      "grid_template_columns": null,
      "grid_template_rows": null,
      "height": null,
      "justify_content": null,
      "justify_items": null,
      "left": null,
      "margin": null,
      "max_height": null,
      "max_width": null,
      "min_height": null,
      "min_width": null,
      "object_fit": null,
      "object_position": null,
      "order": null,
      "overflow": null,
      "overflow_x": null,
      "overflow_y": null,
      "padding": null,
      "right": null,
      "top": null,
      "visibility": null,
      "width": null
     }
    },
    "f369f7b8053a425784be2b45544a5d10": {
     "model_module": "@jupyter-widgets/controls",
     "model_module_version": "1.5.0",
     "model_name": "HTMLModel",
     "state": {
      "_dom_classes": [],
      "_model_module": "@jupyter-widgets/controls",
      "_model_module_version": "1.5.0",
      "_model_name": "HTMLModel",
      "_view_count": null,
      "_view_module": "@jupyter-widgets/controls",
      "_view_module_version": "1.5.0",
      "_view_name": "HTMLView",
      "description": "",
      "description_tooltip": null,
      "layout": "IPY_MODEL_638e7162bb7f477b81a261467cce5697",
      "placeholder": "​",
      "style": "IPY_MODEL_19940eb4674746cea3561100f5a31a2a",
      "value": "100%"
     }
    },
    "f50a5e5db57445438b476e6473fb0eae": {
     "model_module": "@jupyter-widgets/controls",
     "model_module_version": "1.5.0",
     "model_name": "HTMLModel",
     "state": {
      "_dom_classes": [],
      "_model_module": "@jupyter-widgets/controls",
      "_model_module_version": "1.5.0",
      "_model_name": "HTMLModel",
      "_view_count": null,
      "_view_module": "@jupyter-widgets/controls",
      "_view_module_version": "1.5.0",
      "_view_name": "HTMLView",
      "description": "",
      "description_tooltip": null,
      "layout": "IPY_MODEL_462c17b2d00e4bf0aa78639baf1dd30d",
      "placeholder": "​",
      "style": "IPY_MODEL_ec0956355c7d46ac99f9015a416cb8c2",
      "value": " 229/229 [00:26&lt;00:00,  7.52it/s]"
     }
    },
    "f5f97048b84e452c8492735a73cfbe71": {
     "model_module": "@jupyter-widgets/base",
     "model_module_version": "1.2.0",
     "model_name": "LayoutModel",
     "state": {
      "_model_module": "@jupyter-widgets/base",
      "_model_module_version": "1.2.0",
      "_model_name": "LayoutModel",
      "_view_count": null,
      "_view_module": "@jupyter-widgets/base",
      "_view_module_version": "1.2.0",
      "_view_name": "LayoutView",
      "align_content": null,
      "align_items": null,
      "align_self": null,
      "border": null,
      "bottom": null,
      "display": null,
      "flex": null,
      "flex_flow": null,
      "grid_area": null,
      "grid_auto_columns": null,
      "grid_auto_flow": null,
      "grid_auto_rows": null,
      "grid_column": null,
      "grid_gap": null,
      "grid_row": null,
      "grid_template_areas": null,
      "grid_template_columns": null,
      "grid_template_rows": null,
      "height": null,
      "justify_content": null,
      "justify_items": null,
      "left": null,
      "margin": null,
      "max_height": null,
      "max_width": null,
      "min_height": null,
      "min_width": null,
      "object_fit": null,
      "object_position": null,
      "order": null,
      "overflow": null,
      "overflow_x": null,
      "overflow_y": null,
      "padding": null,
      "right": null,
      "top": null,
      "visibility": null,
      "width": null
     }
    },
    "f600cd06c3f34856b2a00290bb0752f1": {
     "model_module": "@jupyter-widgets/base",
     "model_module_version": "1.2.0",
     "model_name": "LayoutModel",
     "state": {
      "_model_module": "@jupyter-widgets/base",
      "_model_module_version": "1.2.0",
      "_model_name": "LayoutModel",
      "_view_count": null,
      "_view_module": "@jupyter-widgets/base",
      "_view_module_version": "1.2.0",
      "_view_name": "LayoutView",
      "align_content": null,
      "align_items": null,
      "align_self": null,
      "border": null,
      "bottom": null,
      "display": null,
      "flex": null,
      "flex_flow": null,
      "grid_area": null,
      "grid_auto_columns": null,
      "grid_auto_flow": null,
      "grid_auto_rows": null,
      "grid_column": null,
      "grid_gap": null,
      "grid_row": null,
      "grid_template_areas": null,
      "grid_template_columns": null,
      "grid_template_rows": null,
      "height": null,
      "justify_content": null,
      "justify_items": null,
      "left": null,
      "margin": null,
      "max_height": null,
      "max_width": null,
      "min_height": null,
      "min_width": null,
      "object_fit": null,
      "object_position": null,
      "order": null,
      "overflow": null,
      "overflow_x": null,
      "overflow_y": null,
      "padding": null,
      "right": null,
      "top": null,
      "visibility": null,
      "width": null
     }
    },
    "f61d89c04f7c4b8aa622f1fb0303997a": {
     "model_module": "@jupyter-widgets/controls",
     "model_module_version": "1.5.0",
     "model_name": "HTMLModel",
     "state": {
      "_dom_classes": [],
      "_model_module": "@jupyter-widgets/controls",
      "_model_module_version": "1.5.0",
      "_model_name": "HTMLModel",
      "_view_count": null,
      "_view_module": "@jupyter-widgets/controls",
      "_view_module_version": "1.5.0",
      "_view_name": "HTMLView",
      "description": "",
      "description_tooltip": null,
      "layout": "IPY_MODEL_12ab3b0fe77848f8a4f9c9dc9993fe80",
      "placeholder": "​",
      "style": "IPY_MODEL_0fdf8fc2c9074780a1686be2bfc6c489",
      "value": " 229/229 [00:28&lt;00:00,  7.72it/s]"
     }
    },
    "f809d055758e4adcae0276a63aa96e0a": {
     "model_module": "@jupyter-widgets/controls",
     "model_module_version": "1.5.0",
     "model_name": "ProgressStyleModel",
     "state": {
      "_model_module": "@jupyter-widgets/controls",
      "_model_module_version": "1.5.0",
      "_model_name": "ProgressStyleModel",
      "_view_count": null,
      "_view_module": "@jupyter-widgets/base",
      "_view_module_version": "1.2.0",
      "_view_name": "StyleView",
      "bar_color": null,
      "description_width": ""
     }
    },
    "f8638163152f4d1681382a52538fca44": {
     "model_module": "@jupyter-widgets/base",
     "model_module_version": "1.2.0",
     "model_name": "LayoutModel",
     "state": {
      "_model_module": "@jupyter-widgets/base",
      "_model_module_version": "1.2.0",
      "_model_name": "LayoutModel",
      "_view_count": null,
      "_view_module": "@jupyter-widgets/base",
      "_view_module_version": "1.2.0",
      "_view_name": "LayoutView",
      "align_content": null,
      "align_items": null,
      "align_self": null,
      "border": null,
      "bottom": null,
      "display": null,
      "flex": null,
      "flex_flow": null,
      "grid_area": null,
      "grid_auto_columns": null,
      "grid_auto_flow": null,
      "grid_auto_rows": null,
      "grid_column": null,
      "grid_gap": null,
      "grid_row": null,
      "grid_template_areas": null,
      "grid_template_columns": null,
      "grid_template_rows": null,
      "height": null,
      "justify_content": null,
      "justify_items": null,
      "left": null,
      "margin": null,
      "max_height": null,
      "max_width": null,
      "min_height": null,
      "min_width": null,
      "object_fit": null,
      "object_position": null,
      "order": null,
      "overflow": null,
      "overflow_x": null,
      "overflow_y": null,
      "padding": null,
      "right": null,
      "top": null,
      "visibility": null,
      "width": null
     }
    },
    "fb1c8ece679545a994e2a75fce70b7ba": {
     "model_module": "@jupyter-widgets/controls",
     "model_module_version": "1.5.0",
     "model_name": "HBoxModel",
     "state": {
      "_dom_classes": [],
      "_model_module": "@jupyter-widgets/controls",
      "_model_module_version": "1.5.0",
      "_model_name": "HBoxModel",
      "_view_count": null,
      "_view_module": "@jupyter-widgets/controls",
      "_view_module_version": "1.5.0",
      "_view_name": "HBoxView",
      "box_style": "",
      "children": [
       "IPY_MODEL_a02189cb729d4edda1217b84f29fd799",
       "IPY_MODEL_979359b21024410a81c30b093e7639e7",
       "IPY_MODEL_694de56580eb45c78f239aa229fb9ed4"
      ],
      "layout": "IPY_MODEL_50bdb1ccddd845f0882305e0fa7c06ef"
     }
    },
    "fd431d85e3124c06bb244e890f7bcec9": {
     "model_module": "@jupyter-widgets/base",
     "model_module_version": "1.2.0",
     "model_name": "LayoutModel",
     "state": {
      "_model_module": "@jupyter-widgets/base",
      "_model_module_version": "1.2.0",
      "_model_name": "LayoutModel",
      "_view_count": null,
      "_view_module": "@jupyter-widgets/base",
      "_view_module_version": "1.2.0",
      "_view_name": "LayoutView",
      "align_content": null,
      "align_items": null,
      "align_self": null,
      "border": null,
      "bottom": null,
      "display": null,
      "flex": null,
      "flex_flow": null,
      "grid_area": null,
      "grid_auto_columns": null,
      "grid_auto_flow": null,
      "grid_auto_rows": null,
      "grid_column": null,
      "grid_gap": null,
      "grid_row": null,
      "grid_template_areas": null,
      "grid_template_columns": null,
      "grid_template_rows": null,
      "height": null,
      "justify_content": null,
      "justify_items": null,
      "left": null,
      "margin": null,
      "max_height": null,
      "max_width": null,
      "min_height": null,
      "min_width": null,
      "object_fit": null,
      "object_position": null,
      "order": null,
      "overflow": null,
      "overflow_x": null,
      "overflow_y": null,
      "padding": null,
      "right": null,
      "top": null,
      "visibility": null,
      "width": null
     }
    },
    "fe5c72a39aea49a49419ad1b8e26c284": {
     "model_module": "@jupyter-widgets/controls",
     "model_module_version": "1.5.0",
     "model_name": "ProgressStyleModel",
     "state": {
      "_model_module": "@jupyter-widgets/controls",
      "_model_module_version": "1.5.0",
      "_model_name": "ProgressStyleModel",
      "_view_count": null,
      "_view_module": "@jupyter-widgets/base",
      "_view_module_version": "1.2.0",
      "_view_name": "StyleView",
      "bar_color": null,
      "description_width": ""
     }
    },
    "fe8803946a2642668abef5074017dbe6": {
     "model_module": "@jupyter-widgets/base",
     "model_module_version": "1.2.0",
     "model_name": "LayoutModel",
     "state": {
      "_model_module": "@jupyter-widgets/base",
      "_model_module_version": "1.2.0",
      "_model_name": "LayoutModel",
      "_view_count": null,
      "_view_module": "@jupyter-widgets/base",
      "_view_module_version": "1.2.0",
      "_view_name": "LayoutView",
      "align_content": null,
      "align_items": null,
      "align_self": null,
      "border": null,
      "bottom": null,
      "display": null,
      "flex": null,
      "flex_flow": null,
      "grid_area": null,
      "grid_auto_columns": null,
      "grid_auto_flow": null,
      "grid_auto_rows": null,
      "grid_column": null,
      "grid_gap": null,
      "grid_row": null,
      "grid_template_areas": null,
      "grid_template_columns": null,
      "grid_template_rows": null,
      "height": null,
      "justify_content": null,
      "justify_items": null,
      "left": null,
      "margin": null,
      "max_height": null,
      "max_width": null,
      "min_height": null,
      "min_width": null,
      "object_fit": null,
      "object_position": null,
      "order": null,
      "overflow": null,
      "overflow_x": null,
      "overflow_y": null,
      "padding": null,
      "right": null,
      "top": null,
      "visibility": null,
      "width": null
     }
    },
    "feaf092560364695881273576f880ef6": {
     "model_module": "@jupyter-widgets/controls",
     "model_module_version": "1.5.0",
     "model_name": "HBoxModel",
     "state": {
      "_dom_classes": [],
      "_model_module": "@jupyter-widgets/controls",
      "_model_module_version": "1.5.0",
      "_model_name": "HBoxModel",
      "_view_count": null,
      "_view_module": "@jupyter-widgets/controls",
      "_view_module_version": "1.5.0",
      "_view_name": "HBoxView",
      "box_style": "",
      "children": [
       "IPY_MODEL_9fd20faf958b4a4f93bf9ce5ad2c7491",
       "IPY_MODEL_7cad779a05c342d79cff7a6dcfc649a0",
       "IPY_MODEL_33cb5560b5f04321acdb232131083b73"
      ],
      "layout": "IPY_MODEL_12ff91ec598f4a429b211a8ae0e445a0"
     }
    },
    "ff0d1e26cbcc402a80b7a6e69e274465": {
     "model_module": "@jupyter-widgets/controls",
     "model_module_version": "1.5.0",
     "model_name": "DescriptionStyleModel",
     "state": {
      "_model_module": "@jupyter-widgets/controls",
      "_model_module_version": "1.5.0",
      "_model_name": "DescriptionStyleModel",
      "_view_count": null,
      "_view_module": "@jupyter-widgets/base",
      "_view_module_version": "1.2.0",
      "_view_name": "StyleView",
      "description_width": ""
     }
    }
   }
  }
 },
 "nbformat": 4,
 "nbformat_minor": 5
}
